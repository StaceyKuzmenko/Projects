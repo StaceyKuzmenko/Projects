{
 "cells": [
  {
   "cell_type": "markdown",
   "metadata": {},
   "source": [
    "# Принятие решений в бизнесе"
   ]
  },
  {
   "cell_type": "markdown",
   "metadata": {},
   "source": [
    "## Описание исследования\n",
    "\n",
    "В отделе маркетинга крупного интернет-магазина подготовили список гипотез для увеличения выручки. Необходимо приоритизировать гипотезы, запустить A/B-тест и проанализировать результаты."
   ]
  },
  {
   "cell_type": "markdown",
   "metadata": {},
   "source": [
    "## Загрузка данных и подготовка их к анализу"
   ]
  },
  {
   "cell_type": "code",
   "execution_count": 1,
   "metadata": {},
   "outputs": [],
   "source": [
    "# импорт библиотеки pandas\n",
    "# импорт библиотеки numpy\n",
    "import pandas as pd\n",
    "import numpy as np\n",
    "from datetime import datetime, timedelta\n",
    "from matplotlib import pyplot as plt\n",
    "import seaborn as sns\n",
    "from scipy import stats as st\n",
    "\n",
    "%config InlineBackend.figure_format = 'retina'\n",
    "pd.set_option('display.max_colwidth', None)"
   ]
  },
  {
   "cell_type": "code",
   "execution_count": 2,
   "metadata": {},
   "outputs": [],
   "source": [
    "hypothesis = pd.read_csv('C:/Users/snaki/Downloads/hypothesis.csv')\n",
    "orders = pd.read_csv('C:/Users/snaki/Downloads/orders.csv')\n",
    "visitors = pd.read_csv('C:/Users/snaki/Downloads/visitors.csv')\n",
    "\n",
    "pd.set_option('display.max_columns', None)\n",
    "pd.set_option('display.max_rows', None)"
   ]
  },
  {
   "cell_type": "markdown",
   "metadata": {},
   "source": [
    "### Анализ общей информации о датафреймах"
   ]
  },
  {
   "cell_type": "code",
   "execution_count": 3,
   "metadata": {},
   "outputs": [],
   "source": [
    "def df_info(df):\n",
    "    display(df.head(10))\n",
    "    print(df.info())\n",
    "    print('')\n",
    "    print('Количество дубликатов:', df.duplicated().sum())"
   ]
  },
  {
   "cell_type": "code",
   "execution_count": 4,
   "metadata": {},
   "outputs": [
    {
     "data": {
      "text/html": [
       "<div>\n",
       "<style scoped>\n",
       "    .dataframe tbody tr th:only-of-type {\n",
       "        vertical-align: middle;\n",
       "    }\n",
       "\n",
       "    .dataframe tbody tr th {\n",
       "        vertical-align: top;\n",
       "    }\n",
       "\n",
       "    .dataframe thead th {\n",
       "        text-align: right;\n",
       "    }\n",
       "</style>\n",
       "<table border=\"1\" class=\"dataframe\">\n",
       "  <thead>\n",
       "    <tr style=\"text-align: right;\">\n",
       "      <th></th>\n",
       "      <th>Hypothesis</th>\n",
       "      <th>Reach</th>\n",
       "      <th>Impact</th>\n",
       "      <th>Confidence</th>\n",
       "      <th>Efforts</th>\n",
       "    </tr>\n",
       "  </thead>\n",
       "  <tbody>\n",
       "    <tr>\n",
       "      <th>0</th>\n",
       "      <td>Добавить два новых канала привлечения трафика, что позволит привлекать на 30% больше пользователей</td>\n",
       "      <td>3</td>\n",
       "      <td>10</td>\n",
       "      <td>8</td>\n",
       "      <td>6</td>\n",
       "    </tr>\n",
       "    <tr>\n",
       "      <th>1</th>\n",
       "      <td>Запустить собственную службу доставки, что сократит срок доставки заказов</td>\n",
       "      <td>2</td>\n",
       "      <td>5</td>\n",
       "      <td>4</td>\n",
       "      <td>10</td>\n",
       "    </tr>\n",
       "    <tr>\n",
       "      <th>2</th>\n",
       "      <td>Добавить блоки рекомендаций товаров на сайт интернет магазина, чтобы повысить конверсию и средний чек заказа</td>\n",
       "      <td>8</td>\n",
       "      <td>3</td>\n",
       "      <td>7</td>\n",
       "      <td>3</td>\n",
       "    </tr>\n",
       "    <tr>\n",
       "      <th>3</th>\n",
       "      <td>Изменить структура категорий, что увеличит конверсию, т.к. пользователи быстрее найдут нужный товар</td>\n",
       "      <td>8</td>\n",
       "      <td>3</td>\n",
       "      <td>3</td>\n",
       "      <td>8</td>\n",
       "    </tr>\n",
       "    <tr>\n",
       "      <th>4</th>\n",
       "      <td>Изменить цвет фона главной страницы, чтобы увеличить вовлеченность пользователей</td>\n",
       "      <td>3</td>\n",
       "      <td>1</td>\n",
       "      <td>1</td>\n",
       "      <td>1</td>\n",
       "    </tr>\n",
       "    <tr>\n",
       "      <th>5</th>\n",
       "      <td>Добавить страницу отзывов клиентов о магазине, что позволит увеличить количество заказов</td>\n",
       "      <td>3</td>\n",
       "      <td>2</td>\n",
       "      <td>2</td>\n",
       "      <td>3</td>\n",
       "    </tr>\n",
       "    <tr>\n",
       "      <th>6</th>\n",
       "      <td>Показать на главной странице баннеры с актуальными акциями и распродажами, чтобы увеличить конверсию</td>\n",
       "      <td>5</td>\n",
       "      <td>3</td>\n",
       "      <td>8</td>\n",
       "      <td>3</td>\n",
       "    </tr>\n",
       "    <tr>\n",
       "      <th>7</th>\n",
       "      <td>Добавить форму подписки на все основные страницы, чтобы собрать базу клиентов для email-рассылок</td>\n",
       "      <td>10</td>\n",
       "      <td>7</td>\n",
       "      <td>8</td>\n",
       "      <td>5</td>\n",
       "    </tr>\n",
       "    <tr>\n",
       "      <th>8</th>\n",
       "      <td>Запустить акцию, дающую скидку на товар в день рождения</td>\n",
       "      <td>1</td>\n",
       "      <td>9</td>\n",
       "      <td>9</td>\n",
       "      <td>5</td>\n",
       "    </tr>\n",
       "  </tbody>\n",
       "</table>\n",
       "</div>"
      ],
      "text/plain": [
       "                                                                                                     Hypothesis  \\\n",
       "0            Добавить два новых канала привлечения трафика, что позволит привлекать на 30% больше пользователей   \n",
       "1                                     Запустить собственную службу доставки, что сократит срок доставки заказов   \n",
       "2  Добавить блоки рекомендаций товаров на сайт интернет магазина, чтобы повысить конверсию и средний чек заказа   \n",
       "3           Изменить структура категорий, что увеличит конверсию, т.к. пользователи быстрее найдут нужный товар   \n",
       "4                              Изменить цвет фона главной страницы, чтобы увеличить вовлеченность пользователей   \n",
       "5                      Добавить страницу отзывов клиентов о магазине, что позволит увеличить количество заказов   \n",
       "6          Показать на главной странице баннеры с актуальными акциями и распродажами, чтобы увеличить конверсию   \n",
       "7              Добавить форму подписки на все основные страницы, чтобы собрать базу клиентов для email-рассылок   \n",
       "8                                                       Запустить акцию, дающую скидку на товар в день рождения   \n",
       "\n",
       "   Reach  Impact  Confidence  Efforts  \n",
       "0      3      10           8        6  \n",
       "1      2       5           4       10  \n",
       "2      8       3           7        3  \n",
       "3      8       3           3        8  \n",
       "4      3       1           1        1  \n",
       "5      3       2           2        3  \n",
       "6      5       3           8        3  \n",
       "7     10       7           8        5  \n",
       "8      1       9           9        5  "
      ]
     },
     "metadata": {},
     "output_type": "display_data"
    },
    {
     "name": "stdout",
     "output_type": "stream",
     "text": [
      "<class 'pandas.core.frame.DataFrame'>\n",
      "RangeIndex: 9 entries, 0 to 8\n",
      "Data columns (total 5 columns):\n",
      " #   Column      Non-Null Count  Dtype \n",
      "---  ------      --------------  ----- \n",
      " 0   Hypothesis  9 non-null      object\n",
      " 1   Reach       9 non-null      int64 \n",
      " 2   Impact      9 non-null      int64 \n",
      " 3   Confidence  9 non-null      int64 \n",
      " 4   Efforts     9 non-null      int64 \n",
      "dtypes: int64(4), object(1)\n",
      "memory usage: 488.0+ bytes\n",
      "None\n",
      "\n",
      "Количество дубликатов: 0\n"
     ]
    }
   ],
   "source": [
    "df_info(hypothesis)"
   ]
  },
  {
   "cell_type": "markdown",
   "metadata": {},
   "source": [
    "В датафрейме **hypothesis** 5 столбцов и 9 строк\n",
    "\n",
    "- **Hypothesis** — краткое описание гипотезы;\n",
    "- **Reach** — охват пользователей по 10-балльной шкале;\n",
    "- **Impact** — влияние на пользователей по 10-балльной шкале;\n",
    "- **Confidence** — уверенность в гипотезе по 10-балльной шкале;\n",
    "- **Efforts** — затраты ресурсов на проверку гипотезы по 10-балльной шкале. Чем больше значение Efforts, тем дороже проверка гипотезы.\n",
    "\n",
    "Дубликатов нет."
   ]
  },
  {
   "cell_type": "code",
   "execution_count": 5,
   "metadata": {
    "scrolled": true
   },
   "outputs": [
    {
     "data": {
      "text/html": [
       "<div>\n",
       "<style scoped>\n",
       "    .dataframe tbody tr th:only-of-type {\n",
       "        vertical-align: middle;\n",
       "    }\n",
       "\n",
       "    .dataframe tbody tr th {\n",
       "        vertical-align: top;\n",
       "    }\n",
       "\n",
       "    .dataframe thead th {\n",
       "        text-align: right;\n",
       "    }\n",
       "</style>\n",
       "<table border=\"1\" class=\"dataframe\">\n",
       "  <thead>\n",
       "    <tr style=\"text-align: right;\">\n",
       "      <th></th>\n",
       "      <th>transactionId</th>\n",
       "      <th>visitorId</th>\n",
       "      <th>date</th>\n",
       "      <th>revenue</th>\n",
       "      <th>group</th>\n",
       "    </tr>\n",
       "  </thead>\n",
       "  <tbody>\n",
       "    <tr>\n",
       "      <th>0</th>\n",
       "      <td>3667963787</td>\n",
       "      <td>3312258926</td>\n",
       "      <td>2019-08-15</td>\n",
       "      <td>1650</td>\n",
       "      <td>B</td>\n",
       "    </tr>\n",
       "    <tr>\n",
       "      <th>1</th>\n",
       "      <td>2804400009</td>\n",
       "      <td>3642806036</td>\n",
       "      <td>2019-08-15</td>\n",
       "      <td>730</td>\n",
       "      <td>B</td>\n",
       "    </tr>\n",
       "    <tr>\n",
       "      <th>2</th>\n",
       "      <td>2961555356</td>\n",
       "      <td>4069496402</td>\n",
       "      <td>2019-08-15</td>\n",
       "      <td>400</td>\n",
       "      <td>A</td>\n",
       "    </tr>\n",
       "    <tr>\n",
       "      <th>3</th>\n",
       "      <td>3797467345</td>\n",
       "      <td>1196621759</td>\n",
       "      <td>2019-08-15</td>\n",
       "      <td>9759</td>\n",
       "      <td>B</td>\n",
       "    </tr>\n",
       "    <tr>\n",
       "      <th>4</th>\n",
       "      <td>2282983706</td>\n",
       "      <td>2322279887</td>\n",
       "      <td>2019-08-15</td>\n",
       "      <td>2308</td>\n",
       "      <td>B</td>\n",
       "    </tr>\n",
       "    <tr>\n",
       "      <th>5</th>\n",
       "      <td>182168103</td>\n",
       "      <td>935554773</td>\n",
       "      <td>2019-08-15</td>\n",
       "      <td>2210</td>\n",
       "      <td>B</td>\n",
       "    </tr>\n",
       "    <tr>\n",
       "      <th>6</th>\n",
       "      <td>398296753</td>\n",
       "      <td>2900797465</td>\n",
       "      <td>2019-08-15</td>\n",
       "      <td>1860</td>\n",
       "      <td>B</td>\n",
       "    </tr>\n",
       "    <tr>\n",
       "      <th>7</th>\n",
       "      <td>2626614568</td>\n",
       "      <td>78758296</td>\n",
       "      <td>2019-08-15</td>\n",
       "      <td>1044</td>\n",
       "      <td>A</td>\n",
       "    </tr>\n",
       "    <tr>\n",
       "      <th>8</th>\n",
       "      <td>1576988021</td>\n",
       "      <td>295230930</td>\n",
       "      <td>2019-08-15</td>\n",
       "      <td>13710</td>\n",
       "      <td>A</td>\n",
       "    </tr>\n",
       "    <tr>\n",
       "      <th>9</th>\n",
       "      <td>1506739906</td>\n",
       "      <td>1882260405</td>\n",
       "      <td>2019-08-15</td>\n",
       "      <td>1855</td>\n",
       "      <td>B</td>\n",
       "    </tr>\n",
       "  </tbody>\n",
       "</table>\n",
       "</div>"
      ],
      "text/plain": [
       "   transactionId   visitorId        date  revenue group\n",
       "0     3667963787  3312258926  2019-08-15     1650     B\n",
       "1     2804400009  3642806036  2019-08-15      730     B\n",
       "2     2961555356  4069496402  2019-08-15      400     A\n",
       "3     3797467345  1196621759  2019-08-15     9759     B\n",
       "4     2282983706  2322279887  2019-08-15     2308     B\n",
       "5      182168103   935554773  2019-08-15     2210     B\n",
       "6      398296753  2900797465  2019-08-15     1860     B\n",
       "7     2626614568    78758296  2019-08-15     1044     A\n",
       "8     1576988021   295230930  2019-08-15    13710     A\n",
       "9     1506739906  1882260405  2019-08-15     1855     B"
      ]
     },
     "metadata": {},
     "output_type": "display_data"
    },
    {
     "name": "stdout",
     "output_type": "stream",
     "text": [
      "<class 'pandas.core.frame.DataFrame'>\n",
      "RangeIndex: 1197 entries, 0 to 1196\n",
      "Data columns (total 5 columns):\n",
      " #   Column         Non-Null Count  Dtype \n",
      "---  ------         --------------  ----- \n",
      " 0   transactionId  1197 non-null   int64 \n",
      " 1   visitorId      1197 non-null   int64 \n",
      " 2   date           1197 non-null   object\n",
      " 3   revenue        1197 non-null   int64 \n",
      " 4   group          1197 non-null   object\n",
      "dtypes: int64(3), object(2)\n",
      "memory usage: 46.9+ KB\n",
      "None\n",
      "\n",
      "Количество дубликатов: 0\n"
     ]
    }
   ],
   "source": [
    "df_info(orders)"
   ]
  },
  {
   "cell_type": "markdown",
   "metadata": {},
   "source": [
    "В датафрейме **orders** 5 столбцов и 1197 строк\n",
    "\n",
    "- **transactionId** — идентификатор заказа;\n",
    "- **visitorId** — идентификатор пользователя, совершившего заказ;\n",
    "- **date** — дата, когда был совершён заказ; - **нужно изменить тип данных на date**\n",
    "- **revenue** — выручка заказа;\n",
    "- **group** — группа A/B-теста, в которую попал заказ.\n",
    "\n",
    "Дубликатов нет."
   ]
  },
  {
   "cell_type": "code",
   "execution_count": 6,
   "metadata": {},
   "outputs": [
    {
     "data": {
      "text/html": [
       "<div>\n",
       "<style scoped>\n",
       "    .dataframe tbody tr th:only-of-type {\n",
       "        vertical-align: middle;\n",
       "    }\n",
       "\n",
       "    .dataframe tbody tr th {\n",
       "        vertical-align: top;\n",
       "    }\n",
       "\n",
       "    .dataframe thead th {\n",
       "        text-align: right;\n",
       "    }\n",
       "</style>\n",
       "<table border=\"1\" class=\"dataframe\">\n",
       "  <thead>\n",
       "    <tr style=\"text-align: right;\">\n",
       "      <th></th>\n",
       "      <th>date</th>\n",
       "      <th>group</th>\n",
       "      <th>visitors</th>\n",
       "    </tr>\n",
       "  </thead>\n",
       "  <tbody>\n",
       "    <tr>\n",
       "      <th>0</th>\n",
       "      <td>2019-08-01</td>\n",
       "      <td>A</td>\n",
       "      <td>719</td>\n",
       "    </tr>\n",
       "    <tr>\n",
       "      <th>1</th>\n",
       "      <td>2019-08-02</td>\n",
       "      <td>A</td>\n",
       "      <td>619</td>\n",
       "    </tr>\n",
       "    <tr>\n",
       "      <th>2</th>\n",
       "      <td>2019-08-03</td>\n",
       "      <td>A</td>\n",
       "      <td>507</td>\n",
       "    </tr>\n",
       "    <tr>\n",
       "      <th>3</th>\n",
       "      <td>2019-08-04</td>\n",
       "      <td>A</td>\n",
       "      <td>717</td>\n",
       "    </tr>\n",
       "    <tr>\n",
       "      <th>4</th>\n",
       "      <td>2019-08-05</td>\n",
       "      <td>A</td>\n",
       "      <td>756</td>\n",
       "    </tr>\n",
       "    <tr>\n",
       "      <th>5</th>\n",
       "      <td>2019-08-06</td>\n",
       "      <td>A</td>\n",
       "      <td>667</td>\n",
       "    </tr>\n",
       "    <tr>\n",
       "      <th>6</th>\n",
       "      <td>2019-08-07</td>\n",
       "      <td>A</td>\n",
       "      <td>644</td>\n",
       "    </tr>\n",
       "    <tr>\n",
       "      <th>7</th>\n",
       "      <td>2019-08-08</td>\n",
       "      <td>A</td>\n",
       "      <td>610</td>\n",
       "    </tr>\n",
       "    <tr>\n",
       "      <th>8</th>\n",
       "      <td>2019-08-09</td>\n",
       "      <td>A</td>\n",
       "      <td>617</td>\n",
       "    </tr>\n",
       "    <tr>\n",
       "      <th>9</th>\n",
       "      <td>2019-08-10</td>\n",
       "      <td>A</td>\n",
       "      <td>406</td>\n",
       "    </tr>\n",
       "  </tbody>\n",
       "</table>\n",
       "</div>"
      ],
      "text/plain": [
       "         date group  visitors\n",
       "0  2019-08-01     A       719\n",
       "1  2019-08-02     A       619\n",
       "2  2019-08-03     A       507\n",
       "3  2019-08-04     A       717\n",
       "4  2019-08-05     A       756\n",
       "5  2019-08-06     A       667\n",
       "6  2019-08-07     A       644\n",
       "7  2019-08-08     A       610\n",
       "8  2019-08-09     A       617\n",
       "9  2019-08-10     A       406"
      ]
     },
     "metadata": {},
     "output_type": "display_data"
    },
    {
     "name": "stdout",
     "output_type": "stream",
     "text": [
      "<class 'pandas.core.frame.DataFrame'>\n",
      "RangeIndex: 62 entries, 0 to 61\n",
      "Data columns (total 3 columns):\n",
      " #   Column    Non-Null Count  Dtype \n",
      "---  ------    --------------  ----- \n",
      " 0   date      62 non-null     object\n",
      " 1   group     62 non-null     object\n",
      " 2   visitors  62 non-null     int64 \n",
      "dtypes: int64(1), object(2)\n",
      "memory usage: 1.6+ KB\n",
      "None\n",
      "\n",
      "Количество дубликатов: 0\n"
     ]
    }
   ],
   "source": [
    "df_info(visitors)"
   ]
  },
  {
   "cell_type": "markdown",
   "metadata": {},
   "source": [
    "В датафрейме **visitors** 3 столбца и 62 строки\n",
    "\n",
    "- **date** — дата; - **нужно изменить тип данных на date**\n",
    "- **group** — группа A/B-теста;\n",
    "- **visitors** — количество пользователей в указанную дату в указанной группе A/B-теста\n",
    "\n",
    "Дубликатов нет."
   ]
  },
  {
   "cell_type": "markdown",
   "metadata": {},
   "source": [
    "### Приведение к нижнему регистру названий столбцов"
   ]
  },
  {
   "cell_type": "code",
   "execution_count": 7,
   "metadata": {},
   "outputs": [],
   "source": [
    "def column_names_lowercase_conversion(df):\n",
    "    df.columns = df.columns.str.replace(' ', '_')\n",
    "    df.columns = df.columns.str.lower()"
   ]
  },
  {
   "cell_type": "code",
   "execution_count": 8,
   "metadata": {},
   "outputs": [
    {
     "data": {
      "text/html": [
       "<div>\n",
       "<style scoped>\n",
       "    .dataframe tbody tr th:only-of-type {\n",
       "        vertical-align: middle;\n",
       "    }\n",
       "\n",
       "    .dataframe tbody tr th {\n",
       "        vertical-align: top;\n",
       "    }\n",
       "\n",
       "    .dataframe thead th {\n",
       "        text-align: right;\n",
       "    }\n",
       "</style>\n",
       "<table border=\"1\" class=\"dataframe\">\n",
       "  <thead>\n",
       "    <tr style=\"text-align: right;\">\n",
       "      <th></th>\n",
       "      <th>hypothesis</th>\n",
       "      <th>reach</th>\n",
       "      <th>impact</th>\n",
       "      <th>confidence</th>\n",
       "      <th>efforts</th>\n",
       "    </tr>\n",
       "  </thead>\n",
       "  <tbody>\n",
       "    <tr>\n",
       "      <th>0</th>\n",
       "      <td>Добавить два новых канала привлечения трафика, что позволит привлекать на 30% больше пользователей</td>\n",
       "      <td>3</td>\n",
       "      <td>10</td>\n",
       "      <td>8</td>\n",
       "      <td>6</td>\n",
       "    </tr>\n",
       "    <tr>\n",
       "      <th>1</th>\n",
       "      <td>Запустить собственную службу доставки, что сократит срок доставки заказов</td>\n",
       "      <td>2</td>\n",
       "      <td>5</td>\n",
       "      <td>4</td>\n",
       "      <td>10</td>\n",
       "    </tr>\n",
       "    <tr>\n",
       "      <th>2</th>\n",
       "      <td>Добавить блоки рекомендаций товаров на сайт интернет магазина, чтобы повысить конверсию и средний чек заказа</td>\n",
       "      <td>8</td>\n",
       "      <td>3</td>\n",
       "      <td>7</td>\n",
       "      <td>3</td>\n",
       "    </tr>\n",
       "    <tr>\n",
       "      <th>3</th>\n",
       "      <td>Изменить структура категорий, что увеличит конверсию, т.к. пользователи быстрее найдут нужный товар</td>\n",
       "      <td>8</td>\n",
       "      <td>3</td>\n",
       "      <td>3</td>\n",
       "      <td>8</td>\n",
       "    </tr>\n",
       "    <tr>\n",
       "      <th>4</th>\n",
       "      <td>Изменить цвет фона главной страницы, чтобы увеличить вовлеченность пользователей</td>\n",
       "      <td>3</td>\n",
       "      <td>1</td>\n",
       "      <td>1</td>\n",
       "      <td>1</td>\n",
       "    </tr>\n",
       "    <tr>\n",
       "      <th>5</th>\n",
       "      <td>Добавить страницу отзывов клиентов о магазине, что позволит увеличить количество заказов</td>\n",
       "      <td>3</td>\n",
       "      <td>2</td>\n",
       "      <td>2</td>\n",
       "      <td>3</td>\n",
       "    </tr>\n",
       "    <tr>\n",
       "      <th>6</th>\n",
       "      <td>Показать на главной странице баннеры с актуальными акциями и распродажами, чтобы увеличить конверсию</td>\n",
       "      <td>5</td>\n",
       "      <td>3</td>\n",
       "      <td>8</td>\n",
       "      <td>3</td>\n",
       "    </tr>\n",
       "    <tr>\n",
       "      <th>7</th>\n",
       "      <td>Добавить форму подписки на все основные страницы, чтобы собрать базу клиентов для email-рассылок</td>\n",
       "      <td>10</td>\n",
       "      <td>7</td>\n",
       "      <td>8</td>\n",
       "      <td>5</td>\n",
       "    </tr>\n",
       "    <tr>\n",
       "      <th>8</th>\n",
       "      <td>Запустить акцию, дающую скидку на товар в день рождения</td>\n",
       "      <td>1</td>\n",
       "      <td>9</td>\n",
       "      <td>9</td>\n",
       "      <td>5</td>\n",
       "    </tr>\n",
       "  </tbody>\n",
       "</table>\n",
       "</div>"
      ],
      "text/plain": [
       "                                                                                                     hypothesis  \\\n",
       "0            Добавить два новых канала привлечения трафика, что позволит привлекать на 30% больше пользователей   \n",
       "1                                     Запустить собственную службу доставки, что сократит срок доставки заказов   \n",
       "2  Добавить блоки рекомендаций товаров на сайт интернет магазина, чтобы повысить конверсию и средний чек заказа   \n",
       "3           Изменить структура категорий, что увеличит конверсию, т.к. пользователи быстрее найдут нужный товар   \n",
       "4                              Изменить цвет фона главной страницы, чтобы увеличить вовлеченность пользователей   \n",
       "5                      Добавить страницу отзывов клиентов о магазине, что позволит увеличить количество заказов   \n",
       "6          Показать на главной странице баннеры с актуальными акциями и распродажами, чтобы увеличить конверсию   \n",
       "7              Добавить форму подписки на все основные страницы, чтобы собрать базу клиентов для email-рассылок   \n",
       "8                                                       Запустить акцию, дающую скидку на товар в день рождения   \n",
       "\n",
       "   reach  impact  confidence  efforts  \n",
       "0      3      10           8        6  \n",
       "1      2       5           4       10  \n",
       "2      8       3           7        3  \n",
       "3      8       3           3        8  \n",
       "4      3       1           1        1  \n",
       "5      3       2           2        3  \n",
       "6      5       3           8        3  \n",
       "7     10       7           8        5  \n",
       "8      1       9           9        5  "
      ]
     },
     "metadata": {},
     "output_type": "display_data"
    },
    {
     "name": "stdout",
     "output_type": "stream",
     "text": [
      "<class 'pandas.core.frame.DataFrame'>\n",
      "RangeIndex: 9 entries, 0 to 8\n",
      "Data columns (total 5 columns):\n",
      " #   Column      Non-Null Count  Dtype \n",
      "---  ------      --------------  ----- \n",
      " 0   hypothesis  9 non-null      object\n",
      " 1   reach       9 non-null      int64 \n",
      " 2   impact      9 non-null      int64 \n",
      " 3   confidence  9 non-null      int64 \n",
      " 4   efforts     9 non-null      int64 \n",
      "dtypes: int64(4), object(1)\n",
      "memory usage: 488.0+ bytes\n",
      "None\n",
      "\n",
      "Количество дубликатов: 0\n"
     ]
    }
   ],
   "source": [
    "#в датафрейме hypothesis\n",
    "column_names_lowercase_conversion(hypothesis)\n",
    "df_info(hypothesis)"
   ]
  },
  {
   "cell_type": "code",
   "execution_count": 9,
   "metadata": {},
   "outputs": [
    {
     "data": {
      "text/html": [
       "<div>\n",
       "<style scoped>\n",
       "    .dataframe tbody tr th:only-of-type {\n",
       "        vertical-align: middle;\n",
       "    }\n",
       "\n",
       "    .dataframe tbody tr th {\n",
       "        vertical-align: top;\n",
       "    }\n",
       "\n",
       "    .dataframe thead th {\n",
       "        text-align: right;\n",
       "    }\n",
       "</style>\n",
       "<table border=\"1\" class=\"dataframe\">\n",
       "  <thead>\n",
       "    <tr style=\"text-align: right;\">\n",
       "      <th></th>\n",
       "      <th>transaction_id</th>\n",
       "      <th>visitor_id</th>\n",
       "      <th>date</th>\n",
       "      <th>revenue</th>\n",
       "      <th>group</th>\n",
       "    </tr>\n",
       "  </thead>\n",
       "  <tbody>\n",
       "    <tr>\n",
       "      <th>0</th>\n",
       "      <td>3667963787</td>\n",
       "      <td>3312258926</td>\n",
       "      <td>2019-08-15</td>\n",
       "      <td>1650</td>\n",
       "      <td>B</td>\n",
       "    </tr>\n",
       "    <tr>\n",
       "      <th>1</th>\n",
       "      <td>2804400009</td>\n",
       "      <td>3642806036</td>\n",
       "      <td>2019-08-15</td>\n",
       "      <td>730</td>\n",
       "      <td>B</td>\n",
       "    </tr>\n",
       "    <tr>\n",
       "      <th>2</th>\n",
       "      <td>2961555356</td>\n",
       "      <td>4069496402</td>\n",
       "      <td>2019-08-15</td>\n",
       "      <td>400</td>\n",
       "      <td>A</td>\n",
       "    </tr>\n",
       "    <tr>\n",
       "      <th>3</th>\n",
       "      <td>3797467345</td>\n",
       "      <td>1196621759</td>\n",
       "      <td>2019-08-15</td>\n",
       "      <td>9759</td>\n",
       "      <td>B</td>\n",
       "    </tr>\n",
       "    <tr>\n",
       "      <th>4</th>\n",
       "      <td>2282983706</td>\n",
       "      <td>2322279887</td>\n",
       "      <td>2019-08-15</td>\n",
       "      <td>2308</td>\n",
       "      <td>B</td>\n",
       "    </tr>\n",
       "    <tr>\n",
       "      <th>5</th>\n",
       "      <td>182168103</td>\n",
       "      <td>935554773</td>\n",
       "      <td>2019-08-15</td>\n",
       "      <td>2210</td>\n",
       "      <td>B</td>\n",
       "    </tr>\n",
       "    <tr>\n",
       "      <th>6</th>\n",
       "      <td>398296753</td>\n",
       "      <td>2900797465</td>\n",
       "      <td>2019-08-15</td>\n",
       "      <td>1860</td>\n",
       "      <td>B</td>\n",
       "    </tr>\n",
       "    <tr>\n",
       "      <th>7</th>\n",
       "      <td>2626614568</td>\n",
       "      <td>78758296</td>\n",
       "      <td>2019-08-15</td>\n",
       "      <td>1044</td>\n",
       "      <td>A</td>\n",
       "    </tr>\n",
       "    <tr>\n",
       "      <th>8</th>\n",
       "      <td>1576988021</td>\n",
       "      <td>295230930</td>\n",
       "      <td>2019-08-15</td>\n",
       "      <td>13710</td>\n",
       "      <td>A</td>\n",
       "    </tr>\n",
       "    <tr>\n",
       "      <th>9</th>\n",
       "      <td>1506739906</td>\n",
       "      <td>1882260405</td>\n",
       "      <td>2019-08-15</td>\n",
       "      <td>1855</td>\n",
       "      <td>B</td>\n",
       "    </tr>\n",
       "  </tbody>\n",
       "</table>\n",
       "</div>"
      ],
      "text/plain": [
       "   transaction_id  visitor_id        date  revenue group\n",
       "0      3667963787  3312258926  2019-08-15     1650     B\n",
       "1      2804400009  3642806036  2019-08-15      730     B\n",
       "2      2961555356  4069496402  2019-08-15      400     A\n",
       "3      3797467345  1196621759  2019-08-15     9759     B\n",
       "4      2282983706  2322279887  2019-08-15     2308     B\n",
       "5       182168103   935554773  2019-08-15     2210     B\n",
       "6       398296753  2900797465  2019-08-15     1860     B\n",
       "7      2626614568    78758296  2019-08-15     1044     A\n",
       "8      1576988021   295230930  2019-08-15    13710     A\n",
       "9      1506739906  1882260405  2019-08-15     1855     B"
      ]
     },
     "metadata": {},
     "output_type": "display_data"
    },
    {
     "name": "stdout",
     "output_type": "stream",
     "text": [
      "<class 'pandas.core.frame.DataFrame'>\n",
      "RangeIndex: 1197 entries, 0 to 1196\n",
      "Data columns (total 5 columns):\n",
      " #   Column          Non-Null Count  Dtype \n",
      "---  ------          --------------  ----- \n",
      " 0   transaction_id  1197 non-null   int64 \n",
      " 1   visitor_id      1197 non-null   int64 \n",
      " 2   date            1197 non-null   object\n",
      " 3   revenue         1197 non-null   int64 \n",
      " 4   group           1197 non-null   object\n",
      "dtypes: int64(3), object(2)\n",
      "memory usage: 46.9+ KB\n",
      "None\n",
      "\n",
      "Количество дубликатов: 0\n"
     ]
    }
   ],
   "source": [
    "#в датафрейме orders\n",
    "orders.columns = ['transaction_id', 'visitor_id', 'date', 'revenue', 'group']\n",
    "df_info(orders)"
   ]
  },
  {
   "cell_type": "markdown",
   "metadata": {},
   "source": [
    "### Приведение столбцов с датами к формату времени"
   ]
  },
  {
   "cell_type": "code",
   "execution_count": 10,
   "metadata": {},
   "outputs": [
    {
     "name": "stdout",
     "output_type": "stream",
     "text": [
      "<class 'pandas.core.frame.DataFrame'>\n",
      "RangeIndex: 62 entries, 0 to 61\n",
      "Data columns (total 3 columns):\n",
      " #   Column    Non-Null Count  Dtype         \n",
      "---  ------    --------------  -----         \n",
      " 0   date      62 non-null     datetime64[ns]\n",
      " 1   group     62 non-null     object        \n",
      " 2   visitors  62 non-null     int64         \n",
      "dtypes: datetime64[ns](1), int64(1), object(1)\n",
      "memory usage: 1.6+ KB\n"
     ]
    }
   ],
   "source": [
    "def data_conversion(df, column):\n",
    "    df[column] = pd.to_datetime(df[column])\n",
    "    \n",
    "data_conversion(orders, 'date')\n",
    "data_conversion(visitors, 'date')\n",
    "\n",
    "visitors.info()"
   ]
  },
  {
   "cell_type": "markdown",
   "metadata": {},
   "source": [
    "## Часть 1. Приоритизация гипотез.\n",
    "\n",
    "У нас 9 гипотез по увеличению выручки интернет-магазина с указанными параметрами Reach, Impact, Confidence, Effort.\n",
    "\n",
    "- Примените **фреймворк ICE** для приоритизации гипотез. Отсортируйте их по убыванию приоритета.\n",
    "- Примените **фреймворк RICE** для приоритизации гипотез. Отсортируйте их по убыванию приоритета.\n",
    "- Укажите, **как изменилась приоритизация гипотез при применении RICE вместо ICE**. Объясните, почему так произошло.\n"
   ]
  },
  {
   "cell_type": "markdown",
   "metadata": {},
   "source": [
    "### Применение фреймворка ICE для приоритизации гипотез"
   ]
  },
  {
   "cell_type": "code",
   "execution_count": 11,
   "metadata": {},
   "outputs": [
    {
     "data": {
      "text/html": [
       "<div>\n",
       "<style scoped>\n",
       "    .dataframe tbody tr th:only-of-type {\n",
       "        vertical-align: middle;\n",
       "    }\n",
       "\n",
       "    .dataframe tbody tr th {\n",
       "        vertical-align: top;\n",
       "    }\n",
       "\n",
       "    .dataframe thead th {\n",
       "        text-align: right;\n",
       "    }\n",
       "</style>\n",
       "<table border=\"1\" class=\"dataframe\">\n",
       "  <thead>\n",
       "    <tr style=\"text-align: right;\">\n",
       "      <th></th>\n",
       "      <th>hypothesis</th>\n",
       "      <th>ice</th>\n",
       "    </tr>\n",
       "  </thead>\n",
       "  <tbody>\n",
       "    <tr>\n",
       "      <th>8</th>\n",
       "      <td>Запустить акцию, дающую скидку на товар в день рождения</td>\n",
       "      <td>16.20</td>\n",
       "    </tr>\n",
       "    <tr>\n",
       "      <th>0</th>\n",
       "      <td>Добавить два новых канала привлечения трафика, что позволит привлекать на 30% больше пользователей</td>\n",
       "      <td>13.33</td>\n",
       "    </tr>\n",
       "    <tr>\n",
       "      <th>7</th>\n",
       "      <td>Добавить форму подписки на все основные страницы, чтобы собрать базу клиентов для email-рассылок</td>\n",
       "      <td>11.20</td>\n",
       "    </tr>\n",
       "    <tr>\n",
       "      <th>6</th>\n",
       "      <td>Показать на главной странице баннеры с актуальными акциями и распродажами, чтобы увеличить конверсию</td>\n",
       "      <td>8.00</td>\n",
       "    </tr>\n",
       "    <tr>\n",
       "      <th>2</th>\n",
       "      <td>Добавить блоки рекомендаций товаров на сайт интернет магазина, чтобы повысить конверсию и средний чек заказа</td>\n",
       "      <td>7.00</td>\n",
       "    </tr>\n",
       "    <tr>\n",
       "      <th>1</th>\n",
       "      <td>Запустить собственную службу доставки, что сократит срок доставки заказов</td>\n",
       "      <td>2.00</td>\n",
       "    </tr>\n",
       "    <tr>\n",
       "      <th>5</th>\n",
       "      <td>Добавить страницу отзывов клиентов о магазине, что позволит увеличить количество заказов</td>\n",
       "      <td>1.33</td>\n",
       "    </tr>\n",
       "    <tr>\n",
       "      <th>3</th>\n",
       "      <td>Изменить структура категорий, что увеличит конверсию, т.к. пользователи быстрее найдут нужный товар</td>\n",
       "      <td>1.12</td>\n",
       "    </tr>\n",
       "    <tr>\n",
       "      <th>4</th>\n",
       "      <td>Изменить цвет фона главной страницы, чтобы увеличить вовлеченность пользователей</td>\n",
       "      <td>1.00</td>\n",
       "    </tr>\n",
       "  </tbody>\n",
       "</table>\n",
       "</div>"
      ],
      "text/plain": [
       "                                                                                                     hypothesis  \\\n",
       "8                                                       Запустить акцию, дающую скидку на товар в день рождения   \n",
       "0            Добавить два новых канала привлечения трафика, что позволит привлекать на 30% больше пользователей   \n",
       "7              Добавить форму подписки на все основные страницы, чтобы собрать базу клиентов для email-рассылок   \n",
       "6          Показать на главной странице баннеры с актуальными акциями и распродажами, чтобы увеличить конверсию   \n",
       "2  Добавить блоки рекомендаций товаров на сайт интернет магазина, чтобы повысить конверсию и средний чек заказа   \n",
       "1                                     Запустить собственную службу доставки, что сократит срок доставки заказов   \n",
       "5                      Добавить страницу отзывов клиентов о магазине, что позволит увеличить количество заказов   \n",
       "3           Изменить структура категорий, что увеличит конверсию, т.к. пользователи быстрее найдут нужный товар   \n",
       "4                              Изменить цвет фона главной страницы, чтобы увеличить вовлеченность пользователей   \n",
       "\n",
       "     ice  \n",
       "8  16.20  \n",
       "0  13.33  \n",
       "7  11.20  \n",
       "6   8.00  \n",
       "2   7.00  \n",
       "1   2.00  \n",
       "5   1.33  \n",
       "3   1.12  \n",
       "4   1.00  "
      ]
     },
     "metadata": {},
     "output_type": "display_data"
    }
   ],
   "source": [
    "hypothesis['ice'] = round(hypothesis['impact'] * hypothesis['confidence'] / hypothesis['efforts'], 2)\n",
    "hypothesis_ice = hypothesis[['hypothesis', 'ice']]\n",
    "display(hypothesis_ice.sort_values(by='ice', ascending=False))"
   ]
  },
  {
   "cell_type": "markdown",
   "metadata": {},
   "source": [
    "Наиболее перспективные гипотезы по **ICE: 9, 1, 8 и 7.**"
   ]
  },
  {
   "cell_type": "markdown",
   "metadata": {},
   "source": [
    "### Применение фреймворка RICE для приоритизации гипотез"
   ]
  },
  {
   "cell_type": "code",
   "execution_count": 12,
   "metadata": {},
   "outputs": [
    {
     "data": {
      "text/html": [
       "<div>\n",
       "<style scoped>\n",
       "    .dataframe tbody tr th:only-of-type {\n",
       "        vertical-align: middle;\n",
       "    }\n",
       "\n",
       "    .dataframe tbody tr th {\n",
       "        vertical-align: top;\n",
       "    }\n",
       "\n",
       "    .dataframe thead th {\n",
       "        text-align: right;\n",
       "    }\n",
       "</style>\n",
       "<table border=\"1\" class=\"dataframe\">\n",
       "  <thead>\n",
       "    <tr style=\"text-align: right;\">\n",
       "      <th></th>\n",
       "      <th>hypothesis</th>\n",
       "      <th>rice</th>\n",
       "    </tr>\n",
       "  </thead>\n",
       "  <tbody>\n",
       "    <tr>\n",
       "      <th>7</th>\n",
       "      <td>Добавить форму подписки на все основные страницы, чтобы собрать базу клиентов для email-рассылок</td>\n",
       "      <td>112.0</td>\n",
       "    </tr>\n",
       "    <tr>\n",
       "      <th>2</th>\n",
       "      <td>Добавить блоки рекомендаций товаров на сайт интернет магазина, чтобы повысить конверсию и средний чек заказа</td>\n",
       "      <td>56.0</td>\n",
       "    </tr>\n",
       "    <tr>\n",
       "      <th>0</th>\n",
       "      <td>Добавить два новых канала привлечения трафика, что позволит привлекать на 30% больше пользователей</td>\n",
       "      <td>40.0</td>\n",
       "    </tr>\n",
       "    <tr>\n",
       "      <th>6</th>\n",
       "      <td>Показать на главной странице баннеры с актуальными акциями и распродажами, чтобы увеличить конверсию</td>\n",
       "      <td>40.0</td>\n",
       "    </tr>\n",
       "    <tr>\n",
       "      <th>8</th>\n",
       "      <td>Запустить акцию, дающую скидку на товар в день рождения</td>\n",
       "      <td>16.2</td>\n",
       "    </tr>\n",
       "    <tr>\n",
       "      <th>3</th>\n",
       "      <td>Изменить структура категорий, что увеличит конверсию, т.к. пользователи быстрее найдут нужный товар</td>\n",
       "      <td>9.0</td>\n",
       "    </tr>\n",
       "    <tr>\n",
       "      <th>1</th>\n",
       "      <td>Запустить собственную службу доставки, что сократит срок доставки заказов</td>\n",
       "      <td>4.0</td>\n",
       "    </tr>\n",
       "    <tr>\n",
       "      <th>5</th>\n",
       "      <td>Добавить страницу отзывов клиентов о магазине, что позволит увеличить количество заказов</td>\n",
       "      <td>4.0</td>\n",
       "    </tr>\n",
       "    <tr>\n",
       "      <th>4</th>\n",
       "      <td>Изменить цвет фона главной страницы, чтобы увеличить вовлеченность пользователей</td>\n",
       "      <td>3.0</td>\n",
       "    </tr>\n",
       "  </tbody>\n",
       "</table>\n",
       "</div>"
      ],
      "text/plain": [
       "                                                                                                     hypothesis  \\\n",
       "7              Добавить форму подписки на все основные страницы, чтобы собрать базу клиентов для email-рассылок   \n",
       "2  Добавить блоки рекомендаций товаров на сайт интернет магазина, чтобы повысить конверсию и средний чек заказа   \n",
       "0            Добавить два новых канала привлечения трафика, что позволит привлекать на 30% больше пользователей   \n",
       "6          Показать на главной странице баннеры с актуальными акциями и распродажами, чтобы увеличить конверсию   \n",
       "8                                                       Запустить акцию, дающую скидку на товар в день рождения   \n",
       "3           Изменить структура категорий, что увеличит конверсию, т.к. пользователи быстрее найдут нужный товар   \n",
       "1                                     Запустить собственную службу доставки, что сократит срок доставки заказов   \n",
       "5                      Добавить страницу отзывов клиентов о магазине, что позволит увеличить количество заказов   \n",
       "4                              Изменить цвет фона главной страницы, чтобы увеличить вовлеченность пользователей   \n",
       "\n",
       "    rice  \n",
       "7  112.0  \n",
       "2   56.0  \n",
       "0   40.0  \n",
       "6   40.0  \n",
       "8   16.2  \n",
       "3    9.0  \n",
       "1    4.0  \n",
       "5    4.0  \n",
       "4    3.0  "
      ]
     },
     "metadata": {},
     "output_type": "display_data"
    }
   ],
   "source": [
    "hypothesis['rice'] = hypothesis['reach'] * hypothesis['impact'] * hypothesis['confidence'] / hypothesis['efforts']\n",
    "hypothesis_rice = hypothesis[['hypothesis', 'rice']]\n",
    "display(hypothesis_rice.sort_values(by='rice', ascending=False))"
   ]
  },
  {
   "cell_type": "markdown",
   "metadata": {},
   "source": [
    "### Сводная таблица гипотез с фреймворками ICE и RICE"
   ]
  },
  {
   "cell_type": "code",
   "execution_count": 13,
   "metadata": {},
   "outputs": [
    {
     "name": "stderr",
     "output_type": "stream",
     "text": [
      "C:\\Users\\snaki\\AppData\\Local\\Temp\\ipykernel_14876\\954885697.py:6: FutureWarning: this method is deprecated in favour of `Styler.format(precision=..)`\n",
      "  hypothesis_ice_rice\n"
     ]
    },
    {
     "data": {
      "text/html": [
       "<style type=\"text/css\">\n",
       "#T_aabe5_row0_col1 {\n",
       "  background-color: #3686c0;\n",
       "  color: #f1f1f1;\n",
       "}\n",
       "#T_aabe5_row0_col2, #T_aabe5_row4_col1 {\n",
       "  background-color: #08306b;\n",
       "  color: #f1f1f1;\n",
       "}\n",
       "#T_aabe5_row1_col1 {\n",
       "  background-color: #95c5df;\n",
       "  color: #000000;\n",
       "}\n",
       "#T_aabe5_row1_col2 {\n",
       "  background-color: #71b1d7;\n",
       "  color: #f1f1f1;\n",
       "}\n",
       "#T_aabe5_row2_col1 {\n",
       "  background-color: #1561a9;\n",
       "  color: #f1f1f1;\n",
       "}\n",
       "#T_aabe5_row2_col2, #T_aabe5_row3_col2 {\n",
       "  background-color: #aacfe5;\n",
       "  color: #000000;\n",
       "}\n",
       "#T_aabe5_row3_col1 {\n",
       "  background-color: #7cb7da;\n",
       "  color: #000000;\n",
       "}\n",
       "#T_aabe5_row4_col2 {\n",
       "  background-color: #dfebf7;\n",
       "  color: #000000;\n",
       "}\n",
       "#T_aabe5_row5_col1, #T_aabe5_row6_col2, #T_aabe5_row7_col2 {\n",
       "  background-color: #f5fafe;\n",
       "  color: #000000;\n",
       "}\n",
       "#T_aabe5_row5_col2 {\n",
       "  background-color: #ecf4fb;\n",
       "  color: #000000;\n",
       "}\n",
       "#T_aabe5_row6_col1 {\n",
       "  background-color: #eaf3fb;\n",
       "  color: #000000;\n",
       "}\n",
       "#T_aabe5_row7_col1 {\n",
       "  background-color: #f3f8fe;\n",
       "  color: #000000;\n",
       "}\n",
       "#T_aabe5_row8_col1, #T_aabe5_row8_col2 {\n",
       "  background-color: #f7fbff;\n",
       "  color: #000000;\n",
       "}\n",
       "</style>\n",
       "<table id=\"T_aabe5\">\n",
       "  <thead>\n",
       "    <tr>\n",
       "      <th class=\"blank level0\" >&nbsp;</th>\n",
       "      <th id=\"T_aabe5_level0_col0\" class=\"col_heading level0 col0\" >hypothesis</th>\n",
       "      <th id=\"T_aabe5_level0_col1\" class=\"col_heading level0 col1\" >ice</th>\n",
       "      <th id=\"T_aabe5_level0_col2\" class=\"col_heading level0 col2\" >rice</th>\n",
       "    </tr>\n",
       "  </thead>\n",
       "  <tbody>\n",
       "    <tr>\n",
       "      <th id=\"T_aabe5_level0_row0\" class=\"row_heading level0 row0\" >7</th>\n",
       "      <td id=\"T_aabe5_row0_col0\" class=\"data row0 col0\" >Добавить форму подписки на все основные страницы, чтобы собрать базу клиентов для email-рассылок</td>\n",
       "      <td id=\"T_aabe5_row0_col1\" class=\"data row0 col1\" >11.20</td>\n",
       "      <td id=\"T_aabe5_row0_col2\" class=\"data row0 col2\" >112.00</td>\n",
       "    </tr>\n",
       "    <tr>\n",
       "      <th id=\"T_aabe5_level0_row1\" class=\"row_heading level0 row1\" >2</th>\n",
       "      <td id=\"T_aabe5_row1_col0\" class=\"data row1 col0\" >Добавить блоки рекомендаций товаров на сайт интернет магазина, чтобы повысить конверсию и средний чек заказа</td>\n",
       "      <td id=\"T_aabe5_row1_col1\" class=\"data row1 col1\" >7.00</td>\n",
       "      <td id=\"T_aabe5_row1_col2\" class=\"data row1 col2\" >56.00</td>\n",
       "    </tr>\n",
       "    <tr>\n",
       "      <th id=\"T_aabe5_level0_row2\" class=\"row_heading level0 row2\" >0</th>\n",
       "      <td id=\"T_aabe5_row2_col0\" class=\"data row2 col0\" >Добавить два новых канала привлечения трафика, что позволит привлекать на 30% больше пользователей</td>\n",
       "      <td id=\"T_aabe5_row2_col1\" class=\"data row2 col1\" >13.33</td>\n",
       "      <td id=\"T_aabe5_row2_col2\" class=\"data row2 col2\" >40.00</td>\n",
       "    </tr>\n",
       "    <tr>\n",
       "      <th id=\"T_aabe5_level0_row3\" class=\"row_heading level0 row3\" >6</th>\n",
       "      <td id=\"T_aabe5_row3_col0\" class=\"data row3 col0\" >Показать на главной странице баннеры с актуальными акциями и распродажами, чтобы увеличить конверсию</td>\n",
       "      <td id=\"T_aabe5_row3_col1\" class=\"data row3 col1\" >8.00</td>\n",
       "      <td id=\"T_aabe5_row3_col2\" class=\"data row3 col2\" >40.00</td>\n",
       "    </tr>\n",
       "    <tr>\n",
       "      <th id=\"T_aabe5_level0_row4\" class=\"row_heading level0 row4\" >8</th>\n",
       "      <td id=\"T_aabe5_row4_col0\" class=\"data row4 col0\" >Запустить акцию, дающую скидку на товар в день рождения</td>\n",
       "      <td id=\"T_aabe5_row4_col1\" class=\"data row4 col1\" >16.20</td>\n",
       "      <td id=\"T_aabe5_row4_col2\" class=\"data row4 col2\" >16.20</td>\n",
       "    </tr>\n",
       "    <tr>\n",
       "      <th id=\"T_aabe5_level0_row5\" class=\"row_heading level0 row5\" >3</th>\n",
       "      <td id=\"T_aabe5_row5_col0\" class=\"data row5 col0\" >Изменить структура категорий, что увеличит конверсию, т.к. пользователи быстрее найдут нужный товар</td>\n",
       "      <td id=\"T_aabe5_row5_col1\" class=\"data row5 col1\" >1.12</td>\n",
       "      <td id=\"T_aabe5_row5_col2\" class=\"data row5 col2\" >9.00</td>\n",
       "    </tr>\n",
       "    <tr>\n",
       "      <th id=\"T_aabe5_level0_row6\" class=\"row_heading level0 row6\" >1</th>\n",
       "      <td id=\"T_aabe5_row6_col0\" class=\"data row6 col0\" >Запустить собственную службу доставки, что сократит срок доставки заказов</td>\n",
       "      <td id=\"T_aabe5_row6_col1\" class=\"data row6 col1\" >2.00</td>\n",
       "      <td id=\"T_aabe5_row6_col2\" class=\"data row6 col2\" >4.00</td>\n",
       "    </tr>\n",
       "    <tr>\n",
       "      <th id=\"T_aabe5_level0_row7\" class=\"row_heading level0 row7\" >5</th>\n",
       "      <td id=\"T_aabe5_row7_col0\" class=\"data row7 col0\" >Добавить страницу отзывов клиентов о магазине, что позволит увеличить количество заказов</td>\n",
       "      <td id=\"T_aabe5_row7_col1\" class=\"data row7 col1\" >1.33</td>\n",
       "      <td id=\"T_aabe5_row7_col2\" class=\"data row7 col2\" >4.00</td>\n",
       "    </tr>\n",
       "    <tr>\n",
       "      <th id=\"T_aabe5_level0_row8\" class=\"row_heading level0 row8\" >4</th>\n",
       "      <td id=\"T_aabe5_row8_col0\" class=\"data row8 col0\" >Изменить цвет фона главной страницы, чтобы увеличить вовлеченность пользователей</td>\n",
       "      <td id=\"T_aabe5_row8_col1\" class=\"data row8 col1\" >1.00</td>\n",
       "      <td id=\"T_aabe5_row8_col2\" class=\"data row8 col2\" >3.00</td>\n",
       "    </tr>\n",
       "  </tbody>\n",
       "</table>\n"
      ],
      "text/plain": [
       "<pandas.io.formats.style.Styler at 0x1b04e3ffac0>"
      ]
     },
     "metadata": {},
     "output_type": "display_data"
    }
   ],
   "source": [
    "hypothesis_ice_rice = hypothesis_ice.merge(hypothesis_rice, on='hypothesis', how='left')\n",
    "\n",
    "numeric_columns = ['ice', 'rice']\n",
    "\n",
    "display(\n",
    "    hypothesis_ice_rice\n",
    "    .sort_values(by=['rice', 'ice'], ascending=False)\n",
    "    .style\n",
    "    .background_gradient(cmap='Blues', axis=0)\n",
    "    .set_precision(2)\n",
    "    #.highlight_max(color='lightgreen', subset=numeric_columns)\n",
    "    #.highlight_min(color='coral', subset=numeric_columns)\n",
    ")"
   ]
  },
  {
   "cell_type": "markdown",
   "metadata": {},
   "source": [
    "Наиболее перспективные гипотезы по **RICE: 8, 3, 1 и 7.**"
   ]
  },
  {
   "cell_type": "markdown",
   "metadata": {},
   "source": [
    "### Выводы по 1й части исследования\n",
    "\n",
    "В результате применения **фреймворка ICE** мы получили следующие гипотезы, как наиболее перспективные:\n",
    "\n",
    "- Запустить акцию, дающую скидку на товар в день рождения\n",
    "- **Добавить два новых канала привлечения трафика, что позволит привлекать на 30% больше пользователей**\n",
    "- **Добавить форму подписки на все основные страницы, чтобы собрать базу клиентов для email-рассылок**\n",
    "- **Показать на главной странице баннеры с актуальными акциями и распродажами, чтобы увеличить конверсию**\n",
    "\n",
    "В результате применения **фреймворка RICE** мы получили следующие гипотезы, как наиболее перспективные:\n",
    "\n",
    "- **Добавить форму подписки на все основные страницы, чтобы собрать базу клиентов для email-рассылок**\n",
    "- Добавить блоки рекомендаций товаров на сайт интернет-магазина, чтобы повысить конверсию и средний чек заказа\n",
    "- **Добавить два новых канала привлечения трафика, что позволит привлекать на 30% больше пользователей**\n",
    "- **Показать на главной странице баннеры с актуальными акциями и распродажами, чтобы увеличить конверсию**\n",
    "\n",
    "Мы видим, что **3 гипотезы из 4х (выше выделены цветом)** стали лидирующими в обоих фреймворках. Единственно, они занимают разные места в рейтинге.\n",
    "\n",
    "Если рассматривать лидирующие гипотезы из **ICE фреймворка**, мы видим, что **1-е место** занимает **гипотеза \"Запустить акцию, дающую скидку на товар в день рождения\"**. Это связано с тем, что у нее самые высокие оценки **влияния на пользователей (9 баллов), уверенность в оценке (9 баллов), а также невысокая оценка затрат на ее проверку (5 баллов)**.\n",
    "\n",
    "По результатам использования **RICE фреймворка**, **гипотеза \"Добавить форму подписки на все основные страницы, чтобы собрать базу клиентов для email-рассылок\"** заняла **первое место**, а гипотеза \"Запустить акцию, дающую скидку на товар в день рождения\" даже не попала в список лидеров. Это произошло из-за того, что в формуле RICE учитывается параметр **Reach**, который определяет охват (количество) потребителей, которых коснется проверка данной гипотезы. И у **гипотезы \"Добавить форму подписки на все основные страницы, чтобы собрать базу клиентов для email-рассылок\"** этот параметр **максимальный (10 из 10ти)**, а у **гипотезы \"Запустить акцию, дающую скидку на товар в день рождения\"** - 1 из 10, т.е. **минимальный**.\n"
   ]
  },
  {
   "cell_type": "markdown",
   "metadata": {},
   "source": [
    "## Часть 2. Анализ A/B-теста\n",
    "\n",
    "**Проанализируйте A/B-тест:**\n",
    "\n",
    "1. Постройте график кумулятивной выручки по группам. Сделайте выводы и предположения.\n",
    "2. Постройте график кумулятивного среднего чека по группам. Сделайте выводы и предположения.\n",
    "3. Постройте график относительного изменения кумулятивного среднего чека группы B к группе A. Сделайте выводы и предположения.\n",
    "4. Постройте график кумулятивной конверсии по группам. Сделайте выводы и предположения.\n",
    "5. Постройте график относительного изменения кумулятивной конверсии группы B к группе A. Сделайте выводы и предположения.\n",
    "6. Постройте точечный график количества заказов по пользователям. Сделайте выводы и предположения.\n",
    "7. Посчитайте 95-й и 99-й перцентили количества заказов на пользователя. Выберите границу для определения аномальных пользователей.\n",
    "8. Постройте точечный график стоимостей заказов. Сделайте выводы и предположения.\n",
    "9. Посчитайте 95-й и 99-й перцентили стоимости заказов. Выберите границу для определения аномальных заказов.\n",
    "10. Посчитайте статистическую значимость различий в конверсии между группами по «сырым» данным. Сделайте выводы и предположения.\n",
    "11. Посчитайте статистическую значимость различий в среднем чеке заказа между группами по «сырым» данным. Сделайте выводы и предположения.\n",
    "12. Посчитайте статистическую значимость различий в конверсии между группами по «очищенным» данным. Сделайте выводы и предположения.\n",
    "13. Посчитайте статистическую значимость различий в среднем чеке заказа между группами по «очищенным» данным. Сделайте выводы и предположения.\n",
    "14. Примите решение по результатам теста и объясните его. Варианты решений: 1. Остановить тест, зафиксировать победу одной из групп. 2. Остановить тест, зафиксировать отсутствие различий между группами. 3. Продолжить тест."
   ]
  },
  {
   "cell_type": "markdown",
   "metadata": {},
   "source": [
    "### Предварительная проверка полученных данных A/B теста (A/A тест)\n",
    "\n",
    "**Критерии успешного A/A-теста:**\n",
    "-\tКоличество пользователей в различных группах различается не более, чем на 1%;\n",
    "-\tДля всех групп фиксируют и отправляют в системы аналитики данные об одном и том же;\n",
    "-\tРазличие ключевых метрик по группам не превышает 1% и не имеет статистической значимости;\n",
    "-\tПопавший в одну из групп посетитель остаётся в этой группе до конца теста. Если пользователь видит разные версии исследуемой страницы в ходе одного исследования, неизвестно, какая именно повлияла на его решения. Значит, и результаты такого теста нельзя интерпретировать однозначно.\n"
   ]
  },
  {
   "cell_type": "markdown",
   "metadata": {},
   "source": [
    "#### Проверка количества пользователей в различных группах"
   ]
  },
  {
   "cell_type": "code",
   "execution_count": 14,
   "metadata": {},
   "outputs": [
    {
     "name": "stdout",
     "output_type": "stream",
     "text": [
      "Количество пользователей в группе A: 503\n",
      "\n",
      "Количество пользователей в группе B: 586\n",
      "\n",
      "Кол-во пользователей в группе B больше кол-ва пользователей группы A на: 17%\n"
     ]
    }
   ],
   "source": [
    "group_a = orders.query('group == \"A\"')\n",
    "count_visitors_a = group_a['visitor_id'].nunique()\n",
    "group_b = orders.query('group == \"B\"')\n",
    "count_visitors_b = group_b['visitor_id'].nunique()\n",
    "groups_comparison = count_visitors_b / count_visitors_a - 1\n",
    "print('Количество пользователей в группе A:', count_visitors_a)\n",
    "print()\n",
    "print('Количество пользователей в группе B:', count_visitors_b)\n",
    "print()\n",
    "print('Кол-во пользователей в группе B больше кол-ва пользователей группы A на:', f'{groups_comparison:.0%}')"
   ]
  },
  {
   "cell_type": "markdown",
   "metadata": {},
   "source": [
    "#### Проверка \"деления\" трафика"
   ]
  },
  {
   "cell_type": "code",
   "execution_count": 15,
   "metadata": {},
   "outputs": [
    {
     "name": "stdout",
     "output_type": "stream",
     "text": [
      "Количество повторяющихся пользователей в группах A и B равно: 58\n"
     ]
    }
   ],
   "source": [
    "both_users = orders.groupby('visitor_id')['group'].nunique().reset_index().query('group > 1')\n",
    "both_users['flag'] = 1\n",
    "print('Количество повторяющихся пользователей в группах A и B равно:', both_users['flag'].count())"
   ]
  },
  {
   "cell_type": "markdown",
   "metadata": {},
   "source": [
    "В процессе предварительной проверки были выявлены следующие недочеты исходных данных A/B теста:\n",
    "- **Количество пользователей в группах A и B** различается более, чем на 1% **(на 17%)**.\n",
    "- **Количество повторяющихся пользователей** в группах A и B составляет **58 человек.**\n",
    "\n",
    "Данные недочеты **не допустимы** при проведении A/B теста. По-хорошему, необходимо прервать тестирование, так как его результаты будут некорректные. Но так как у нас нет возможности получить иные данные, продолжим оценивать имеющиеся. Я удалю повторяющихся пользователей из групп для получения более корректных результатов."
   ]
  },
  {
   "cell_type": "code",
   "execution_count": 16,
   "metadata": {},
   "outputs": [
    {
     "data": {
      "text/html": [
       "<div>\n",
       "<style scoped>\n",
       "    .dataframe tbody tr th:only-of-type {\n",
       "        vertical-align: middle;\n",
       "    }\n",
       "\n",
       "    .dataframe tbody tr th {\n",
       "        vertical-align: top;\n",
       "    }\n",
       "\n",
       "    .dataframe thead th {\n",
       "        text-align: right;\n",
       "    }\n",
       "</style>\n",
       "<table border=\"1\" class=\"dataframe\">\n",
       "  <thead>\n",
       "    <tr style=\"text-align: right;\">\n",
       "      <th></th>\n",
       "      <th>transaction_id</th>\n",
       "      <th>visitor_id</th>\n",
       "      <th>date</th>\n",
       "      <th>revenue</th>\n",
       "      <th>group_x</th>\n",
       "    </tr>\n",
       "  </thead>\n",
       "  <tbody>\n",
       "    <tr>\n",
       "      <th>0</th>\n",
       "      <td>3667963787</td>\n",
       "      <td>3312258926</td>\n",
       "      <td>2019-08-15</td>\n",
       "      <td>1650</td>\n",
       "      <td>B</td>\n",
       "    </tr>\n",
       "    <tr>\n",
       "      <th>1</th>\n",
       "      <td>2804400009</td>\n",
       "      <td>3642806036</td>\n",
       "      <td>2019-08-15</td>\n",
       "      <td>730</td>\n",
       "      <td>B</td>\n",
       "    </tr>\n",
       "    <tr>\n",
       "      <th>3</th>\n",
       "      <td>3797467345</td>\n",
       "      <td>1196621759</td>\n",
       "      <td>2019-08-15</td>\n",
       "      <td>9759</td>\n",
       "      <td>B</td>\n",
       "    </tr>\n",
       "    <tr>\n",
       "      <th>4</th>\n",
       "      <td>2282983706</td>\n",
       "      <td>2322279887</td>\n",
       "      <td>2019-08-15</td>\n",
       "      <td>2308</td>\n",
       "      <td>B</td>\n",
       "    </tr>\n",
       "    <tr>\n",
       "      <th>5</th>\n",
       "      <td>182168103</td>\n",
       "      <td>935554773</td>\n",
       "      <td>2019-08-15</td>\n",
       "      <td>2210</td>\n",
       "      <td>B</td>\n",
       "    </tr>\n",
       "  </tbody>\n",
       "</table>\n",
       "</div>"
      ],
      "text/plain": [
       "   transaction_id  visitor_id       date  revenue group_x\n",
       "0      3667963787  3312258926 2019-08-15     1650       B\n",
       "1      2804400009  3642806036 2019-08-15      730       B\n",
       "3      3797467345  1196621759 2019-08-15     9759       B\n",
       "4      2282983706  2322279887 2019-08-15     2308       B\n",
       "5       182168103   935554773 2019-08-15     2210       B"
      ]
     },
     "execution_count": 16,
     "metadata": {},
     "output_type": "execute_result"
    }
   ],
   "source": [
    "#удаление повторяющихся пользователей из датафрейма orders\n",
    "orders = orders.merge(both_users, on='visitor_id', how='left')\n",
    "orders = orders[orders['flag'] != 1]\n",
    "del orders['group_y']\n",
    "del orders['flag']\n",
    "\n",
    "orders.head(5)"
   ]
  },
  {
   "cell_type": "code",
   "execution_count": 17,
   "metadata": {},
   "outputs": [
    {
     "name": "stdout",
     "output_type": "stream",
     "text": [
      "<class 'pandas.core.frame.DataFrame'>\n",
      "Int64Index: 1016 entries, 0 to 1196\n",
      "Data columns (total 5 columns):\n",
      " #   Column          Non-Null Count  Dtype         \n",
      "---  ------          --------------  -----         \n",
      " 0   transaction_id  1016 non-null   int64         \n",
      " 1   visitor_id      1016 non-null   int64         \n",
      " 2   date            1016 non-null   datetime64[ns]\n",
      " 3   revenue         1016 non-null   int64         \n",
      " 4   group           1016 non-null   object        \n",
      "dtypes: datetime64[ns](1), int64(3), object(1)\n",
      "memory usage: 47.6+ KB\n"
     ]
    }
   ],
   "source": [
    "#переименуем столбцы полученного датафрейма orders\n",
    "orders.columns = ['transaction_id', 'visitor_id', 'date', 'revenue', 'group']\n",
    "orders.head(5)\n",
    "orders.info()"
   ]
  },
  {
   "cell_type": "markdown",
   "metadata": {},
   "source": [
    "Теперь посчитаем суммарное число пользователей и заказов в каждой из групп теста. \n",
    "Найдём отношение числа заказов к количеству пользователей в каждой группе."
   ]
  },
  {
   "cell_type": "code",
   "execution_count": 18,
   "metadata": {},
   "outputs": [
    {
     "name": "stdout",
     "output_type": "stream",
     "text": [
      "  group  visitor_id  revenue revenue_to_visitors_ratio\n",
      "0     A         468  3364656                   7189.44\n",
      "1     B         548  5068972                   9249.95\n"
     ]
    }
   ],
   "source": [
    "data_new = (\n",
    "    orders.groupby('group', as_index=False)\n",
    "    .agg({'visitor_id': 'count', 'revenue': 'sum'})\n",
    ")\n",
    "data_new['revenue_to_visitors_ratio'] = (\n",
    "    data_new['revenue'] / data_new['visitor_id']\n",
    ").map(lambda x: \"{0:.2f}\".format(x))\n",
    "\n",
    "print(data_new)"
   ]
  },
  {
   "cell_type": "markdown",
   "metadata": {},
   "source": [
    "По полученному датафрейму мы видим, что **отношение выручки к посетителям в группе B значительно выше, чем в группе A.** И это очень хороший результат."
   ]
  },
  {
   "cell_type": "markdown",
   "metadata": {},
   "source": [
    "### Подготовка к A/B тесту"
   ]
  },
  {
   "cell_type": "code",
   "execution_count": 19,
   "metadata": {},
   "outputs": [
    {
     "data": {
      "text/html": [
       "<div>\n",
       "<style scoped>\n",
       "    .dataframe tbody tr th:only-of-type {\n",
       "        vertical-align: middle;\n",
       "    }\n",
       "\n",
       "    .dataframe tbody tr th {\n",
       "        vertical-align: top;\n",
       "    }\n",
       "\n",
       "    .dataframe thead th {\n",
       "        text-align: right;\n",
       "    }\n",
       "</style>\n",
       "<table border=\"1\" class=\"dataframe\">\n",
       "  <thead>\n",
       "    <tr style=\"text-align: right;\">\n",
       "      <th></th>\n",
       "      <th>date</th>\n",
       "      <th>group</th>\n",
       "    </tr>\n",
       "  </thead>\n",
       "  <tbody>\n",
       "    <tr>\n",
       "      <th>0</th>\n",
       "      <td>2019-08-15</td>\n",
       "      <td>B</td>\n",
       "    </tr>\n",
       "    <tr>\n",
       "      <th>7</th>\n",
       "      <td>2019-08-15</td>\n",
       "      <td>A</td>\n",
       "    </tr>\n",
       "    <tr>\n",
       "      <th>45</th>\n",
       "      <td>2019-08-16</td>\n",
       "      <td>A</td>\n",
       "    </tr>\n",
       "    <tr>\n",
       "      <th>47</th>\n",
       "      <td>2019-08-16</td>\n",
       "      <td>B</td>\n",
       "    </tr>\n",
       "    <tr>\n",
       "      <th>55</th>\n",
       "      <td>2019-08-01</td>\n",
       "      <td>A</td>\n",
       "    </tr>\n",
       "    <tr>\n",
       "      <th>66</th>\n",
       "      <td>2019-08-01</td>\n",
       "      <td>B</td>\n",
       "    </tr>\n",
       "  </tbody>\n",
       "</table>\n",
       "</div>"
      ],
      "text/plain": [
       "         date group\n",
       "0  2019-08-15     B\n",
       "7  2019-08-15     A\n",
       "45 2019-08-16     A\n",
       "47 2019-08-16     B\n",
       "55 2019-08-01     A\n",
       "66 2019-08-01     B"
      ]
     },
     "metadata": {},
     "output_type": "display_data"
    }
   ],
   "source": [
    "#Создаем массив уникальных пар значений дат и групп теста\n",
    "dates_groups = orders[['date','group']].drop_duplicates() \n",
    "display(dates_groups.head(6))"
   ]
  },
  {
   "cell_type": "code",
   "execution_count": 20,
   "metadata": {},
   "outputs": [
    {
     "data": {
      "text/html": [
       "<div>\n",
       "<style scoped>\n",
       "    .dataframe tbody tr th:only-of-type {\n",
       "        vertical-align: middle;\n",
       "    }\n",
       "\n",
       "    .dataframe tbody tr th {\n",
       "        vertical-align: top;\n",
       "    }\n",
       "\n",
       "    .dataframe thead th {\n",
       "        text-align: right;\n",
       "    }\n",
       "</style>\n",
       "<table border=\"1\" class=\"dataframe\">\n",
       "  <thead>\n",
       "    <tr style=\"text-align: right;\">\n",
       "      <th></th>\n",
       "      <th>date</th>\n",
       "      <th>group</th>\n",
       "      <th>transaction_id</th>\n",
       "      <th>visitor_id</th>\n",
       "      <th>revenue</th>\n",
       "    </tr>\n",
       "  </thead>\n",
       "  <tbody>\n",
       "    <tr>\n",
       "      <th>55</th>\n",
       "      <td>2019-08-01</td>\n",
       "      <td>A</td>\n",
       "      <td>23</td>\n",
       "      <td>19</td>\n",
       "      <td>142779</td>\n",
       "    </tr>\n",
       "    <tr>\n",
       "      <th>66</th>\n",
       "      <td>2019-08-01</td>\n",
       "      <td>B</td>\n",
       "      <td>17</td>\n",
       "      <td>17</td>\n",
       "      <td>59758</td>\n",
       "    </tr>\n",
       "    <tr>\n",
       "      <th>175</th>\n",
       "      <td>2019-08-02</td>\n",
       "      <td>A</td>\n",
       "      <td>42</td>\n",
       "      <td>36</td>\n",
       "      <td>234381</td>\n",
       "    </tr>\n",
       "    <tr>\n",
       "      <th>173</th>\n",
       "      <td>2019-08-02</td>\n",
       "      <td>B</td>\n",
       "      <td>40</td>\n",
       "      <td>39</td>\n",
       "      <td>221801</td>\n",
       "    </tr>\n",
       "    <tr>\n",
       "      <th>291</th>\n",
       "      <td>2019-08-03</td>\n",
       "      <td>A</td>\n",
       "      <td>66</td>\n",
       "      <td>60</td>\n",
       "      <td>346854</td>\n",
       "    </tr>\n",
       "    <tr>\n",
       "      <th>383</th>\n",
       "      <td>2019-08-03</td>\n",
       "      <td>B</td>\n",
       "      <td>54</td>\n",
       "      <td>53</td>\n",
       "      <td>288850</td>\n",
       "    </tr>\n",
       "    <tr>\n",
       "      <th>499</th>\n",
       "      <td>2019-08-04</td>\n",
       "      <td>A</td>\n",
       "      <td>77</td>\n",
       "      <td>71</td>\n",
       "      <td>388030</td>\n",
       "    </tr>\n",
       "    <tr>\n",
       "      <th>498</th>\n",
       "      <td>2019-08-04</td>\n",
       "      <td>B</td>\n",
       "      <td>68</td>\n",
       "      <td>66</td>\n",
       "      <td>385740</td>\n",
       "    </tr>\n",
       "    <tr>\n",
       "      <th>719</th>\n",
       "      <td>2019-08-05</td>\n",
       "      <td>A</td>\n",
       "      <td>99</td>\n",
       "      <td>92</td>\n",
       "      <td>474413</td>\n",
       "    </tr>\n",
       "    <tr>\n",
       "      <th>699</th>\n",
       "      <td>2019-08-05</td>\n",
       "      <td>B</td>\n",
       "      <td>89</td>\n",
       "      <td>87</td>\n",
       "      <td>475648</td>\n",
       "    </tr>\n",
       "  </tbody>\n",
       "</table>\n",
       "</div>"
      ],
      "text/plain": [
       "          date group  transaction_id  visitor_id  revenue\n",
       "55  2019-08-01     A              23          19   142779\n",
       "66  2019-08-01     B              17          17    59758\n",
       "175 2019-08-02     A              42          36   234381\n",
       "173 2019-08-02     B              40          39   221801\n",
       "291 2019-08-03     A              66          60   346854\n",
       "383 2019-08-03     B              54          53   288850\n",
       "499 2019-08-04     A              77          71   388030\n",
       "498 2019-08-04     B              68          66   385740\n",
       "719 2019-08-05     A              99          92   474413\n",
       "699 2019-08-05     B              89          87   475648"
      ]
     },
     "metadata": {},
     "output_type": "display_data"
    }
   ],
   "source": [
    "#Соберём агрегированные кумулятивные по дням данные о заказах \n",
    "orders_aggregated = dates_groups.apply(\n",
    "    lambda x: orders[np.logical_and(orders['date'] <= x['date'], orders['group'] == x['group'])]\n",
    "    .agg({'date' : 'max', 'group' : 'max', 'transaction_id' : 'nunique', 'visitor_id' : 'nunique', 'revenue' : 'sum'}), axis=1\n",
    ").sort_values(by=['date','group']) \n",
    "display(orders_aggregated.head(10))"
   ]
  },
  {
   "cell_type": "code",
   "execution_count": 21,
   "metadata": {},
   "outputs": [
    {
     "data": {
      "text/html": [
       "<div>\n",
       "<style scoped>\n",
       "    .dataframe tbody tr th:only-of-type {\n",
       "        vertical-align: middle;\n",
       "    }\n",
       "\n",
       "    .dataframe tbody tr th {\n",
       "        vertical-align: top;\n",
       "    }\n",
       "\n",
       "    .dataframe thead th {\n",
       "        text-align: right;\n",
       "    }\n",
       "</style>\n",
       "<table border=\"1\" class=\"dataframe\">\n",
       "  <thead>\n",
       "    <tr style=\"text-align: right;\">\n",
       "      <th></th>\n",
       "      <th>date</th>\n",
       "      <th>group</th>\n",
       "      <th>visitors</th>\n",
       "    </tr>\n",
       "  </thead>\n",
       "  <tbody>\n",
       "    <tr>\n",
       "      <th>55</th>\n",
       "      <td>2019-08-01</td>\n",
       "      <td>A</td>\n",
       "      <td>719</td>\n",
       "    </tr>\n",
       "    <tr>\n",
       "      <th>66</th>\n",
       "      <td>2019-08-01</td>\n",
       "      <td>B</td>\n",
       "      <td>713</td>\n",
       "    </tr>\n",
       "    <tr>\n",
       "      <th>175</th>\n",
       "      <td>2019-08-02</td>\n",
       "      <td>A</td>\n",
       "      <td>1338</td>\n",
       "    </tr>\n",
       "    <tr>\n",
       "      <th>173</th>\n",
       "      <td>2019-08-02</td>\n",
       "      <td>B</td>\n",
       "      <td>1294</td>\n",
       "    </tr>\n",
       "    <tr>\n",
       "      <th>291</th>\n",
       "      <td>2019-08-03</td>\n",
       "      <td>A</td>\n",
       "      <td>1845</td>\n",
       "    </tr>\n",
       "    <tr>\n",
       "      <th>383</th>\n",
       "      <td>2019-08-03</td>\n",
       "      <td>B</td>\n",
       "      <td>1803</td>\n",
       "    </tr>\n",
       "    <tr>\n",
       "      <th>499</th>\n",
       "      <td>2019-08-04</td>\n",
       "      <td>A</td>\n",
       "      <td>2562</td>\n",
       "    </tr>\n",
       "    <tr>\n",
       "      <th>498</th>\n",
       "      <td>2019-08-04</td>\n",
       "      <td>B</td>\n",
       "      <td>2573</td>\n",
       "    </tr>\n",
       "    <tr>\n",
       "      <th>719</th>\n",
       "      <td>2019-08-05</td>\n",
       "      <td>A</td>\n",
       "      <td>3318</td>\n",
       "    </tr>\n",
       "    <tr>\n",
       "      <th>699</th>\n",
       "      <td>2019-08-05</td>\n",
       "      <td>B</td>\n",
       "      <td>3280</td>\n",
       "    </tr>\n",
       "  </tbody>\n",
       "</table>\n",
       "</div>"
      ],
      "text/plain": [
       "          date group  visitors\n",
       "55  2019-08-01     A       719\n",
       "66  2019-08-01     B       713\n",
       "175 2019-08-02     A      1338\n",
       "173 2019-08-02     B      1294\n",
       "291 2019-08-03     A      1845\n",
       "383 2019-08-03     B      1803\n",
       "499 2019-08-04     A      2562\n",
       "498 2019-08-04     B      2573\n",
       "719 2019-08-05     A      3318\n",
       "699 2019-08-05     B      3280"
      ]
     },
     "metadata": {},
     "output_type": "display_data"
    }
   ],
   "source": [
    "#Аналогично получим агрегированные кумулятивные по дням данные о посетителях интернет-магазина\n",
    "visitors_aggregated = dates_groups.apply(\n",
    "    lambda x: visitors[np.logical_and(visitors['date'] <= x['date'], visitors['group'] == x['group'])]\n",
    "    .agg({'date' : 'max', 'group' : 'max', 'visitors' : 'sum'}), axis=1\n",
    ").sort_values(by=['date','group']) \n",
    "display(visitors_aggregated.head(10))"
   ]
  },
  {
   "cell_type": "code",
   "execution_count": 22,
   "metadata": {},
   "outputs": [
    {
     "name": "stdout",
     "output_type": "stream",
     "text": [
      "        date group  orders  buyers  revenue  visitors\n",
      "0 2019-08-01     A      23      19   142779       719\n",
      "1 2019-08-01     B      17      17    59758       713\n",
      "2 2019-08-02     A      42      36   234381      1338\n",
      "3 2019-08-02     B      40      39   221801      1294\n",
      "4 2019-08-03     A      66      60   346854      1845\n"
     ]
    }
   ],
   "source": [
    "#Объединим обе таблицы в одну \n",
    "cumulative_data = orders_aggregated.merge(visitors_aggregated, left_on=['date', 'group'], right_on=['date', 'group'])\n",
    "cumulative_data.columns = ['date', 'group', 'orders', 'buyers', 'revenue', 'visitors']\n",
    "\n",
    "print(cumulative_data.head(5)) "
   ]
  },
  {
   "cell_type": "markdown",
   "metadata": {},
   "source": [
    "### График кумулятивной выручки по группам"
   ]
  },
  {
   "cell_type": "code",
   "execution_count": 23,
   "metadata": {},
   "outputs": [
    {
     "data": {
      "image/png": "[encoded data removed]",
      "text/plain": [
       "<Figure size 1152x288 with 1 Axes>"
      ]
     },
     "metadata": {
      "image/png": {
       "height": 297,
       "width": 965
      },
      "needs_background": "light"
     },
     "output_type": "display_data"
    }
   ],
   "source": [
    "plt.figure(figsize=(16, 4))\n",
    "# датафрейм с кумулятивным количеством заказов и кумулятивной выручкой по дням в группе А\n",
    "cumulative_revenue_a = cumulative_data[cumulative_data['group']=='A'][['date','revenue', 'orders']]\n",
    "\n",
    "# датафрейм с кумулятивным количеством заказов и кумулятивной выручкой по дням в группе B\n",
    "cumulative_revenue_b = cumulative_data[cumulative_data['group']=='B'][['date','revenue', 'orders']]\n",
    "\n",
    "# Строим график выручки группы А\n",
    "plt.plot(cumulative_revenue_a['date'], cumulative_revenue_a['revenue'], label='A', linewidth=3)\n",
    "\n",
    "# Строим график выручки группы B\n",
    "plt.plot(cumulative_revenue_b['date'], cumulative_revenue_b['revenue'], label='B', linewidth=3)\n",
    "plt.title('График кумулятивной выручки по группам', fontsize=18)\n",
    "\n",
    "plt.xlabel(\"Период\", labelpad=20, weight='bold', size=10)\n",
    "plt.ylabel(\"Выручка, млн\", labelpad=20, weight='bold', size=10)\n",
    "\n",
    "plt.annotate('Скачок', xy=(datetime(2019, 8, 19), 3620785), xytext=(datetime(2019, 8, 16), 3800000), arrowprops=dict(facecolor='g'))\n",
    "\n",
    "plt.legend() \n",
    "sns.despine()"
   ]
  },
  {
   "cell_type": "markdown",
   "metadata": {},
   "source": [
    "Выручка почти равномерно увеличивается в течение всего теста, что хорошо. Однако, в одной точке **(в период с 17 по 21 августа 2019 г.) график группы B резко возрастает.** Это может быть связано **со всплеском числа заказов, либо о нескольких очень дорогих заказов в выборке.**"
   ]
  },
  {
   "cell_type": "markdown",
   "metadata": {},
   "source": [
    "### График кумулятивного среднего чека по группам"
   ]
  },
  {
   "cell_type": "code",
   "execution_count": 24,
   "metadata": {},
   "outputs": [
    {
     "data": {
      "image/png": "[encoded data removed]",
      "text/plain": [
       "<Figure size 1152x288 with 1 Axes>"
      ]
     },
     "metadata": {
      "image/png": {
       "height": 297,
       "width": 991
      },
      "needs_background": "light"
     },
     "output_type": "display_data"
    }
   ],
   "source": [
    "#Построим графики среднего чека по группам — разделим кумулятивную выручку на кумулятивное число заказов\n",
    "plt.figure(figsize=(16, 4))\n",
    "plt.plot(cumulative_revenue_a['date'], cumulative_revenue_a['revenue'] / cumulative_revenue_a['orders'], label='A', linewidth=3)\n",
    "plt.plot(cumulative_revenue_b['date'], cumulative_revenue_b['revenue'] / cumulative_revenue_b['orders'], label='B', linewidth=3)\n",
    "plt.title('График кумулятивного среднего чека по группам', fontsize=18)\n",
    "plt.xlabel(\"Период\", labelpad=20, weight='bold', size=10)\n",
    "plt.ylabel(\"Средний чек\", labelpad=20, weight='bold', size=10)\n",
    "\n",
    "plt.annotate('Скачок', xy=(datetime(2019, 8, 19), 10404), xytext=(datetime(2019, 8, 16), 9000), arrowprops=dict(facecolor='g'))\n",
    "\n",
    "plt.legend() \n",
    "sns.despine()"
   ]
  },
  {
   "cell_type": "markdown",
   "metadata": {},
   "source": [
    "Действительно, в период с 17го по 21е августа 2019 мы видим **резкий рост среднего чека в группе B (что означает наличие крупных заказы в группе B).**"
   ]
  },
  {
   "cell_type": "markdown",
   "metadata": {},
   "source": [
    "### График относительного изменения кумулятивного среднего чека группы B к группе A"
   ]
  },
  {
   "cell_type": "code",
   "execution_count": 25,
   "metadata": {},
   "outputs": [
    {
     "data": {
      "image/png": "[encoded data removed]",
      "text/plain": [
       "<Figure size 1152x288 with 1 Axes>"
      ]
     },
     "metadata": {
      "image/png": {
       "height": 297,
       "width": 983
      },
      "needs_background": "light"
     },
     "output_type": "display_data"
    }
   ],
   "source": [
    "#Построим график относительного различия для среднего чека\n",
    "# собираем данные в одном датафрейме\n",
    "merged_cumulative_revenue = cumulative_revenue_a.merge(cumulative_revenue_b, left_on='date', right_on='date', how='left', suffixes=['A', 'B'])\n",
    "merged_cumulative_revenue.columns = ['date', 'revenue_a', 'orders_a', 'revenue_b', 'orders_b']\n",
    "\n",
    "# cтроим отношение средних чеков\n",
    "plt.figure(figsize=(16, 4))\n",
    "plt.plot(merged_cumulative_revenue['date'], (merged_cumulative_revenue['revenue_b']/merged_cumulative_revenue['orders_b'])/(merged_cumulative_revenue['revenue_a']/merged_cumulative_revenue['orders_a'])-1, linewidth=3)\n",
    "plt.title('График относительного изменения кумулятивного среднего чека группы B к группе A', fontsize=18)\n",
    "# добавляем ось X\n",
    "plt.axhline(y=0, color='red', linestyle='--', linewidth=3) \n",
    "\n",
    "plt.xlabel(\"Период\", labelpad=20, weight='bold', size=10)\n",
    "plt.ylabel(\"Отношение средних чеков, в %\", labelpad=20, weight='bold', size=10)\n",
    "plt.annotate('Скачок', xy=(datetime(2019, 8, 19), 0.52), xytext=(datetime(2019, 8, 16), 0.4), arrowprops=dict(facecolor='g'))\n",
    "plt.annotate('Скачок', xy=(datetime(2019, 8, 6), 0.36), xytext=(datetime(2019, 8, 3), 0.4), arrowprops=dict(facecolor='g'))\n",
    "\n",
    "sns.despine()"
   ]
  },
  {
   "cell_type": "markdown",
   "metadata": {},
   "source": [
    "На бОльшем диапазоне рассматриваемого периода **кумулятивный средний чек группы B превышает чек группы A.** При этом, **в нескольких точках график скачет, что означает наличие выбросов (крупных заказов).**"
   ]
  },
  {
   "cell_type": "markdown",
   "metadata": {},
   "source": [
    "### График кумулятивной конверсии по группам"
   ]
  },
  {
   "cell_type": "code",
   "execution_count": 26,
   "metadata": {},
   "outputs": [
    {
     "data": {
      "image/png": "[encoded data removed]",
      "text/plain": [
       "<Figure size 1152x288 with 1 Axes>"
      ]
     },
     "metadata": {
      "image/png": {
       "height": 297,
       "width": 987
      },
      "needs_background": "light"
     },
     "output_type": "display_data"
    }
   ],
   "source": [
    "#Аналогично проанализируем график кумулятивной конверсии\n",
    "# считаем кумулятивную конверсию\n",
    "cumulative_data['conversion'] = cumulative_data['orders']/cumulative_data['visitors']\n",
    "\n",
    "# отделяем данные по группе A\n",
    "cumulative_data_a = cumulative_data[cumulative_data['group']=='A']\n",
    "\n",
    "# отделяем данные по группе B\n",
    "cumulative_data_b = cumulative_data[cumulative_data['group']=='B']\n",
    "\n",
    "# строим графики\n",
    "plt.figure(figsize=(16, 4))\n",
    "plt.plot(cumulative_data_a['date'], cumulative_data_a['conversion'], label='A', linewidth=3)\n",
    "plt.plot(cumulative_data_b['date'], cumulative_data_b['conversion'], label='B', linewidth=3)\n",
    "plt.title('График кумулятивной конверсии по группам', fontsize=18)\n",
    "plt.xlabel(\"Период\", labelpad=20, weight='bold', size=10)\n",
    "plt.ylabel(\"Конверсия, в %\", labelpad=20, weight='bold', size=10)\n",
    "\n",
    "plt.legend()\n",
    "\n",
    "sns.despine()"
   ]
  },
  {
   "cell_type": "markdown",
   "metadata": {},
   "source": [
    "Как и предполагалось, в начале периода график кумулятивной конверсии скачет по обеим группам, но к концу периода они более-менее выравниваются и представляют собой следующую картину: **средняя конверсия группы B выше группы A и находится на уровне 2,9% (против 2,5% у конверсии группы A).**"
   ]
  },
  {
   "cell_type": "markdown",
   "metadata": {},
   "source": [
    "### График относительного изменения кумулятивной конверсии группы B к группе A"
   ]
  },
  {
   "cell_type": "code",
   "execution_count": 27,
   "metadata": {},
   "outputs": [
    {
     "data": {
      "image/png": "[encoded data removed]",
      "text/plain": [
       "<Figure size 1152x288 with 1 Axes>"
      ]
     },
     "metadata": {
      "image/png": {
       "height": 297,
       "width": 983
      },
      "needs_background": "light"
     },
     "output_type": "display_data"
    }
   ],
   "source": [
    "merged_сumulative_сonversions = cumulative_data_a[['date','conversion']].merge(cumulative_data_b[['date','conversion']], left_on='date', right_on='date', how='left', suffixes=['A', 'B'])\n",
    "\n",
    "plt.figure(figsize=(16, 4))\n",
    "plt.plot(merged_сumulative_сonversions['date'], merged_сumulative_сonversions['conversionB']/merged_сumulative_сonversions['conversionA']-1, label=\"Относительный прирост конверсии группы B относительно группы A\", linewidth=3)\n",
    "\n",
    "plt.axhline(y=0, color='red', linestyle='--', linewidth=3)\n",
    "plt.axhline(y=-0.1, color='grey', linestyle='--', linewidth=3)\n",
    "plt.title('График относительного изменения кумулятивной конверсии группы В к группе А', fontsize=18)\n",
    "plt.xlabel(\"Период\", labelpad=20, weight='bold', size=10)\n",
    "plt.ylabel(\"Отношение конверсии, в %\", labelpad=20, weight='bold', size=10)\n",
    "\n",
    "sns.despine()"
   ]
  },
  {
   "cell_type": "markdown",
   "metadata": {},
   "source": [
    "В начале периода конверсия группы B проигрывала конверсии группы A. Но где-то с 6го августа она вырвалась вперед и с хорошим темпом росла. **Во второй половине временного периода конверсия более-менее сбалансировалась и находилась в диапазоне 1-2%.**"
   ]
  },
  {
   "cell_type": "markdown",
   "metadata": {},
   "source": [
    "### Точечный график количества заказов по пользователям"
   ]
  },
  {
   "cell_type": "code",
   "execution_count": 28,
   "metadata": {},
   "outputs": [
    {
     "data": {
      "text/html": [
       "<div>\n",
       "<style scoped>\n",
       "    .dataframe tbody tr th:only-of-type {\n",
       "        vertical-align: middle;\n",
       "    }\n",
       "\n",
       "    .dataframe tbody tr th {\n",
       "        vertical-align: top;\n",
       "    }\n",
       "\n",
       "    .dataframe thead th {\n",
       "        text-align: right;\n",
       "    }\n",
       "</style>\n",
       "<table border=\"1\" class=\"dataframe\">\n",
       "  <thead>\n",
       "    <tr style=\"text-align: right;\">\n",
       "      <th></th>\n",
       "      <th>user_id</th>\n",
       "      <th>orders</th>\n",
       "    </tr>\n",
       "  </thead>\n",
       "  <tbody>\n",
       "    <tr>\n",
       "      <th>908</th>\n",
       "      <td>3967698036</td>\n",
       "      <td>3</td>\n",
       "    </tr>\n",
       "    <tr>\n",
       "      <th>55</th>\n",
       "      <td>249864742</td>\n",
       "      <td>3</td>\n",
       "    </tr>\n",
       "    <tr>\n",
       "      <th>478</th>\n",
       "      <td>2108163459</td>\n",
       "      <td>3</td>\n",
       "    </tr>\n",
       "    <tr>\n",
       "      <th>687</th>\n",
       "      <td>2988190573</td>\n",
       "      <td>3</td>\n",
       "    </tr>\n",
       "    <tr>\n",
       "      <th>890</th>\n",
       "      <td>3908431265</td>\n",
       "      <td>3</td>\n",
       "    </tr>\n",
       "    <tr>\n",
       "      <th>138</th>\n",
       "      <td>611059232</td>\n",
       "      <td>3</td>\n",
       "    </tr>\n",
       "    <tr>\n",
       "      <th>632</th>\n",
       "      <td>2742574263</td>\n",
       "      <td>3</td>\n",
       "    </tr>\n",
       "    <tr>\n",
       "      <th>157</th>\n",
       "      <td>678354126</td>\n",
       "      <td>2</td>\n",
       "    </tr>\n",
       "    <tr>\n",
       "      <th>323</th>\n",
       "      <td>1404560065</td>\n",
       "      <td>2</td>\n",
       "    </tr>\n",
       "    <tr>\n",
       "      <th>452</th>\n",
       "      <td>1985475298</td>\n",
       "      <td>2</td>\n",
       "    </tr>\n",
       "  </tbody>\n",
       "</table>\n",
       "</div>"
      ],
      "text/plain": [
       "        user_id  orders\n",
       "908  3967698036       3\n",
       "55    249864742       3\n",
       "478  2108163459       3\n",
       "687  2988190573       3\n",
       "890  3908431265       3\n",
       "138   611059232       3\n",
       "632  2742574263       3\n",
       "157   678354126       2\n",
       "323  1404560065       2\n",
       "452  1985475298       2"
      ]
     },
     "metadata": {},
     "output_type": "display_data"
    }
   ],
   "source": [
    "#Подсчитаем количество заказов по пользователям\n",
    "orders_by_users = (\n",
    "    orders.groupby('visitor_id', as_index=False)\n",
    "    .agg({'transaction_id': 'nunique'})\n",
    ")\n",
    "\n",
    "orders_by_users.columns = ['user_id', 'orders']\n",
    "display(orders_by_users.sort_values(by='orders', ascending=False).head(10)) "
   ]
  },
  {
   "cell_type": "code",
   "execution_count": 29,
   "metadata": {},
   "outputs": [
    {
     "data": {
      "image/png": "[encoded data removed]",
      "text/plain": [
       "<Figure size 1152x288 with 1 Axes>"
      ]
     },
     "metadata": {
      "image/png": {
       "height": 311,
       "width": 965
      },
      "needs_background": "light"
     },
     "output_type": "display_data"
    },
    {
     "data": {
      "text/plain": [
       "<Figure size 432x288 with 0 Axes>"
      ]
     },
     "metadata": {},
     "output_type": "display_data"
    }
   ],
   "source": [
    "#Построим точечную диаграмму числа заказов на одного пользователя\n",
    "x_values = pd.Series(range(0,len(orders_by_users)))\n",
    "\n",
    "plt.figure(figsize=(16, 4))\n",
    "plt.scatter(x_values, orders_by_users['orders']) \n",
    "\n",
    "\n",
    "plt.title('Точечный график количества заказов по пользователям', fontsize=18)\n",
    "plt.xlabel(\"Количество заказов, всего\", labelpad=20, weight='bold', size=10)\n",
    "plt.ylabel(\"Количество заказов на одного пользователя, шт\", labelpad=20, weight='bold', size=10)\n",
    "\n",
    "plt.show()\n",
    "sns.despine()"
   ]
  },
  {
   "cell_type": "markdown",
   "metadata": {},
   "source": [
    "Большинство покупателей заказывали только один раз. Однако доля пользователей с 2 заказами тоже значительна. **Всего 7 клиентов с 3мя заказами.**"
   ]
  },
  {
   "cell_type": "markdown",
   "metadata": {},
   "source": [
    "### 95-я и 99-я перцентили количества заказов на пользователя. Выбор границы для определения аномальных пользователей"
   ]
  },
  {
   "cell_type": "code",
   "execution_count": 30,
   "metadata": {},
   "outputs": [
    {
     "name": "stdout",
     "output_type": "stream",
     "text": [
      "[1. 2.]\n"
     ]
    }
   ],
   "source": [
    "#Посчитаем выборочные перцентили количества заказов на одного пользователя\n",
    "print(np.percentile(orders_by_users['orders'], [95, 99])) "
   ]
  },
  {
   "cell_type": "markdown",
   "metadata": {},
   "source": [
    "**Не более 1% пользователей оформляли больше 2 заказов (включительно).** Разумно выбрать **1 заказ** на одного пользователя за нижнюю границу числа заказов, и отсеять аномальных пользователей по ней. "
   ]
  },
  {
   "cell_type": "markdown",
   "metadata": {},
   "source": [
    "### Точечный график стоимостей заказов"
   ]
  },
  {
   "cell_type": "code",
   "execution_count": 31,
   "metadata": {},
   "outputs": [
    {
     "data": {
      "image/png": "[encoded data removed]",
      "text/plain": [
       "<Figure size 1152x288 with 1 Axes>"
      ]
     },
     "metadata": {
      "image/png": {
       "height": 297,
       "width": 959
      },
      "needs_background": "light"
     },
     "output_type": "display_data"
    },
    {
     "data": {
      "text/plain": [
       "<Figure size 432x288 with 0 Axes>"
      ]
     },
     "metadata": {},
     "output_type": "display_data"
    }
   ],
   "source": [
    "#Построим точечную диаграмму стоимостей заказов\n",
    "x_values = pd.Series(range(0, len(orders['revenue'])))\n",
    "\n",
    "plt.figure(figsize=(16, 4))\n",
    "plt.scatter(x_values, orders['revenue'])\n",
    "\n",
    "plt.title('Точечный график стоимостей заказов', fontsize=18)\n",
    "plt.xlabel(\"Количество заказов, всего\", labelpad=20, weight='bold', size=10)\n",
    "plt.ylabel(\"Сумма заказа на одного пользователя\", labelpad=20, weight='bold', size=10)\n",
    "\n",
    "\n",
    "plt.show()\n",
    "sns.despine()"
   ]
  },
  {
   "cell_type": "markdown",
   "metadata": {},
   "source": [
    "На графике мы видим **2 выброса: в районе 200 тысяч и около 1,3 млн** (в задании не указана валюта заказов)."
   ]
  },
  {
   "cell_type": "markdown",
   "metadata": {},
   "source": [
    "### 95-я и 99-я перцентили стоимости заказов. Выбор границы для определения аномальных заказов"
   ]
  },
  {
   "cell_type": "code",
   "execution_count": 32,
   "metadata": {},
   "outputs": [
    {
     "name": "stdout",
     "output_type": "stream",
     "text": [
      "[26785. 53904.]\n"
     ]
    }
   ],
   "source": [
    "#Посчитаем выборочные перцентили стоимости заказов\n",
    "print(np.percentile(orders['revenue'], [95, 99])) "
   ]
  },
  {
   "cell_type": "markdown",
   "metadata": {},
   "source": [
    "Не более чем у **5% заказов стоимость превышает 26785** и не более чем у **1% заказов стоимость больше 53904.**"
   ]
  },
  {
   "cell_type": "markdown",
   "metadata": {},
   "source": [
    "### Статистическая значимость различий в конверсии и в среднем чеке между группами по «сырым» данным"
   ]
  },
  {
   "cell_type": "markdown",
   "metadata": {},
   "source": [
    "#### Подготовка «сырых» данных"
   ]
  },
  {
   "cell_type": "code",
   "execution_count": 33,
   "metadata": {},
   "outputs": [
    {
     "data": {
      "text/html": [
       "<div>\n",
       "<style scoped>\n",
       "    .dataframe tbody tr th:only-of-type {\n",
       "        vertical-align: middle;\n",
       "    }\n",
       "\n",
       "    .dataframe tbody tr th {\n",
       "        vertical-align: top;\n",
       "    }\n",
       "\n",
       "    .dataframe thead th {\n",
       "        text-align: right;\n",
       "    }\n",
       "</style>\n",
       "<table border=\"1\" class=\"dataframe\">\n",
       "  <thead>\n",
       "    <tr style=\"text-align: right;\">\n",
       "      <th></th>\n",
       "      <th>date</th>\n",
       "      <th>orders_per_date_a</th>\n",
       "      <th>revenue_per_date_a</th>\n",
       "      <th>orders_per_date_b</th>\n",
       "      <th>revenue_per_date_b</th>\n",
       "      <th>orders_cummulative_a</th>\n",
       "      <th>revenue_cummulative_a</th>\n",
       "      <th>orders_cummulative_b</th>\n",
       "      <th>revenue_cummulative_b</th>\n",
       "      <th>visitors_per_date_a</th>\n",
       "      <th>visitors_per_date_b</th>\n",
       "      <th>visitors_cummulative_a</th>\n",
       "      <th>visitors_cummulative_b</th>\n",
       "    </tr>\n",
       "  </thead>\n",
       "  <tbody>\n",
       "    <tr>\n",
       "      <th>0</th>\n",
       "      <td>2019-08-01</td>\n",
       "      <td>23</td>\n",
       "      <td>142779</td>\n",
       "      <td>17</td>\n",
       "      <td>59758</td>\n",
       "      <td>23</td>\n",
       "      <td>142779</td>\n",
       "      <td>17</td>\n",
       "      <td>59758</td>\n",
       "      <td>719</td>\n",
       "      <td>713</td>\n",
       "      <td>719</td>\n",
       "      <td>713</td>\n",
       "    </tr>\n",
       "    <tr>\n",
       "      <th>1</th>\n",
       "      <td>2019-08-02</td>\n",
       "      <td>19</td>\n",
       "      <td>91602</td>\n",
       "      <td>23</td>\n",
       "      <td>162043</td>\n",
       "      <td>42</td>\n",
       "      <td>234381</td>\n",
       "      <td>40</td>\n",
       "      <td>221801</td>\n",
       "      <td>619</td>\n",
       "      <td>581</td>\n",
       "      <td>1338</td>\n",
       "      <td>1294</td>\n",
       "    </tr>\n",
       "    <tr>\n",
       "      <th>2</th>\n",
       "      <td>2019-08-03</td>\n",
       "      <td>24</td>\n",
       "      <td>112473</td>\n",
       "      <td>14</td>\n",
       "      <td>67049</td>\n",
       "      <td>66</td>\n",
       "      <td>346854</td>\n",
       "      <td>54</td>\n",
       "      <td>288850</td>\n",
       "      <td>507</td>\n",
       "      <td>509</td>\n",
       "      <td>1845</td>\n",
       "      <td>1803</td>\n",
       "    </tr>\n",
       "    <tr>\n",
       "      <th>3</th>\n",
       "      <td>2019-08-04</td>\n",
       "      <td>11</td>\n",
       "      <td>41176</td>\n",
       "      <td>14</td>\n",
       "      <td>96890</td>\n",
       "      <td>77</td>\n",
       "      <td>388030</td>\n",
       "      <td>68</td>\n",
       "      <td>385740</td>\n",
       "      <td>717</td>\n",
       "      <td>770</td>\n",
       "      <td>2562</td>\n",
       "      <td>2573</td>\n",
       "    </tr>\n",
       "    <tr>\n",
       "      <th>4</th>\n",
       "      <td>2019-08-05</td>\n",
       "      <td>22</td>\n",
       "      <td>86383</td>\n",
       "      <td>21</td>\n",
       "      <td>89908</td>\n",
       "      <td>99</td>\n",
       "      <td>474413</td>\n",
       "      <td>89</td>\n",
       "      <td>475648</td>\n",
       "      <td>756</td>\n",
       "      <td>707</td>\n",
       "      <td>3318</td>\n",
       "      <td>3280</td>\n",
       "    </tr>\n",
       "  </tbody>\n",
       "</table>\n",
       "</div>"
      ],
      "text/plain": [
       "        date  orders_per_date_a  revenue_per_date_a  orders_per_date_b  \\\n",
       "0 2019-08-01                 23              142779                 17   \n",
       "1 2019-08-02                 19               91602                 23   \n",
       "2 2019-08-03                 24              112473                 14   \n",
       "3 2019-08-04                 11               41176                 14   \n",
       "4 2019-08-05                 22               86383                 21   \n",
       "\n",
       "   revenue_per_date_b  orders_cummulative_a  revenue_cummulative_a  \\\n",
       "0               59758                    23                 142779   \n",
       "1              162043                    42                 234381   \n",
       "2               67049                    66                 346854   \n",
       "3               96890                    77                 388030   \n",
       "4               89908                    99                 474413   \n",
       "\n",
       "   orders_cummulative_b  revenue_cummulative_b  visitors_per_date_a  \\\n",
       "0                    17                  59758                  719   \n",
       "1                    40                 221801                  619   \n",
       "2                    54                 288850                  507   \n",
       "3                    68                 385740                  717   \n",
       "4                    89                 475648                  756   \n",
       "\n",
       "   visitors_per_date_b  visitors_cummulative_a  visitors_cummulative_b  \n",
       "0                  713                     719                     713  \n",
       "1                  581                    1338                    1294  \n",
       "2                  509                    1845                    1803  \n",
       "3                  770                    2562                    2573  \n",
       "4                  707                    3318                    3280  "
      ]
     },
     "metadata": {},
     "output_type": "display_data"
    }
   ],
   "source": [
    "#подготовим данные\n",
    "visitors_a_daily = visitors[visitors['group'] == 'A'][['date', 'visitors']]\n",
    "visitors_a_daily.columns = ['date', 'visitors_per_date_a']\n",
    "\n",
    "visitors_a_cummulative = visitors_a_daily.apply(\n",
    "    lambda x: visitors_a_daily[visitors_a_daily['date'] <= x['date']].agg(\n",
    "        {'date': 'max', 'visitors_per_date_a': 'sum'}\n",
    "    ),\n",
    "    axis=1,\n",
    ")\n",
    "visitors_a_cummulative.columns = ['date', 'visitors_cummulative_a']\n",
    "\n",
    "visitors_b_daily = visitors[visitors['group'] == 'B'][['date', 'visitors']]\n",
    "visitors_b_daily.columns = ['date', 'visitors_per_date_b']\n",
    "\n",
    "visitors_b_cummulative = visitors_b_daily.apply(\n",
    "    lambda x: visitors_b_daily[visitors_b_daily['date'] <= x['date']].agg(\n",
    "        {'date': 'max', 'visitors_per_date_b': 'sum'}\n",
    "    ),\n",
    "    axis=1,\n",
    ")\n",
    "visitors_b_cummulative.columns = ['date', 'visitors_cummulative_b']\n",
    "\n",
    "orders_a_daily = (\n",
    "    orders[orders['group'] == 'A'][['date', 'transaction_id', 'visitor_id', 'revenue']]\n",
    "    .groupby('date', as_index=False)\n",
    "    .agg({'transaction_id': pd.Series.nunique, 'revenue': 'sum'})\n",
    ")\n",
    "orders_a_daily.columns = [\n",
    "    'date', \n",
    "    'orders_per_date_a', \n",
    "    'revenue_per_date_a'\n",
    "]\n",
    "\n",
    "orders_a_cummulative = orders_a_daily.apply(\n",
    "    lambda x: orders_a_daily[orders_a_daily['date'] <= x['date']].agg(\n",
    "        {'date': 'max', 'orders_per_date_a': 'sum', 'revenue_per_date_a': 'sum'}\n",
    "    ),\n",
    "    axis=1,\n",
    ").sort_values(by=['date'])\n",
    "orders_a_cummulative.columns = [\n",
    "    'date',\n",
    "    'orders_cummulative_a',\n",
    "    'revenue_cummulative_a',\n",
    "]\n",
    "\n",
    "orders_b_daily = (\n",
    "    orders[orders['group'] == 'B'][['date', 'transaction_id', 'visitor_id', 'revenue']]\n",
    "    .groupby('date', as_index=False)\n",
    "    .agg({'transaction_id': pd.Series.nunique, 'revenue': 'sum'})\n",
    ")\n",
    "orders_b_daily.columns = ['date', 'orders_per_date_b', 'revenue_per_date_b']\n",
    "\n",
    "orders_b_cummulative = orders_b_daily.apply(\n",
    "    lambda x: orders_b_daily[orders_b_daily['date'] <= x['date']].agg(\n",
    "        {'date': 'max', 'orders_per_date_b': 'sum', 'revenue_per_date_b': 'sum'}\n",
    "    ),\n",
    "    axis=1,\n",
    ").sort_values(by=['date'])\n",
    "orders_b_cummulative.columns = [\n",
    "    'date',\n",
    "    'orders_cummulative_b',\n",
    "    'revenue_cummulative_b',\n",
    "]\n",
    "\n",
    "data = (\n",
    "    orders_a_daily.merge(\n",
    "        orders_b_daily, left_on='date', right_on='date', how='left'\n",
    "    )\n",
    "    .merge(orders_a_cummulative, left_on='date', right_on='date', how='left')\n",
    "    .merge(orders_b_cummulative, left_on='date', right_on='date', how='left')\n",
    "    .merge(visitors_a_daily, left_on='date', right_on='date', how='left')\n",
    "    .merge(visitors_b_daily, left_on='date', right_on='date', how='left')\n",
    "    .merge(visitors_a_cummulative, left_on='date', right_on='date', how='left')\n",
    "    .merge(visitors_b_cummulative, left_on='date', right_on='date', how='left')\n",
    ")\n",
    "\n",
    "display(data.head(5)) "
   ]
  },
  {
   "cell_type": "markdown",
   "metadata": {},
   "source": [
    "Напомним названия столбцов данных:\n",
    "-\t**date** — дата;\n",
    "-\t**orders_per_date_a** — количество заказов в выбранную дату в группе A;\n",
    "-\t**revenue_per_date_a** — суммарная выручка в выбранную дату в группе A;\n",
    "-\t**orders_per_date_b** — количество заказов в выбранную дату в группе B;\n",
    "-\t**revenue_per_date_b** — суммарная выручка в выбранную дату в группе B;\n",
    "-\t**orders_cummulative_a** — суммарное число заказов до выбранной даты включительно в группе A;\n",
    "-\t**revenue_cummulative_a** — суммарная выручка до выбранной даты включительно в группе A;\n",
    "-\t**orders_cummulative_b** — суммарное количество заказов до выбранной даты включительно в группе B;\n",
    "-\t**revenue_cummulative_b** — суммарная выручка до выбранной даты включительно в группе B;\n",
    "-\t**visitors_per_date_a** — количество пользователей в выбранную дату в группе A;\n",
    "-\t**visitors_per_date_b** — количество пользователей в выбранную дату в группе B;\n",
    "-\t**visitors_cummulative_a** — количество пользователей до выбранной даты включительно в группе A;\n",
    "-\t**visitors_cummulative_b** — количество пользователей до выбранной даты включительно в группе B.\n"
   ]
  },
  {
   "cell_type": "markdown",
   "metadata": {},
   "source": [
    "#### Расчет статистической значимости различия конверсии между группами"
   ]
  },
  {
   "cell_type": "markdown",
   "metadata": {},
   "source": [
    "Сформулируем гипотезы. \n",
    "\n",
    "**Нулевая:** различий в конверсии между группами нет. \n",
    "\n",
    "**Альтернативная:** различия в конверсии между группами есть."
   ]
  },
  {
   "cell_type": "code",
   "execution_count": 34,
   "metadata": {
    "scrolled": true
   },
   "outputs": [
    {
     "name": "stdout",
     "output_type": "stream",
     "text": [
      "0.011\n",
      "0.160\n"
     ]
    }
   ],
   "source": [
    "#Посчитаем статистическую значимость различия в конверсии между группами\n",
    "\n",
    "#В переменных укажем число совершенных заказов пользователями, которые заказывали хотя бы 1 раз\n",
    "orders_by_users_a = (\n",
    "    orders[orders['group'] == 'A']\n",
    "    .groupby('visitor_id', as_index=False)\n",
    "    .agg({'transaction_id': pd.Series.nunique})\n",
    ")\n",
    "orders_by_users_a.columns = ['visitor_id', 'orders']\n",
    "\n",
    "orders_by_users_b = (\n",
    "    orders[orders['group'] == 'B']\n",
    "    .groupby('visitor_id', as_index=False)\n",
    "    .agg({'transaction_id': pd.Series.nunique})\n",
    ")\n",
    "orders_by_users_b.columns = ['visitor_id', 'orders']\n",
    "\n",
    "#Объявим переменные sample_a и sample_b,\n",
    "#в которых пользователям из разных групп будет соответствовать количество заказов.\n",
    "#Тем, кто ничего не заказал, будут соответствовать нули.\n",
    "#Это нужно, чтобы подготовить выборки к проверке критерием Манна-Уитни.\n",
    "\n",
    "sample_a = pd.concat(\n",
    "    [orders_by_users_a['orders'],pd.Series(0, index=np.arange(data['visitors_per_date_a'].sum() - len(orders_by_users_a['orders'])), name='orders')],\n",
    "    axis=0\n",
    ")\n",
    "\n",
    "sample_b = pd.concat(\n",
    "    [orders_by_users_b['orders'],pd.Series(0, index=np.arange(data['visitors_per_date_b'].sum() - len(orders_by_users_b['orders'])), name='orders')]\n",
    "    ,axis=0\n",
    ") \n",
    "\n",
    "#Чтобы получить конверсию в группе, поделим сумму заказов на число пользователей\n",
    "print(\"{0:.3f}\".format(st.mannwhitneyu(sample_a, sample_b)[1]))\n",
    "\n",
    "#Выведем относительный прирост конверсии группы B\n",
    "print(\"{0:.3f}\".format(sample_b.mean() / sample_a.mean() - 1))"
   ]
  },
  {
   "cell_type": "markdown",
   "metadata": {},
   "source": [
    "По **«сырым»** данным видно, что есть **большие различия** в конверсии групп A и B.\n",
    "Первое число — p-value = 0.011 значительно меньше 0.05. Значит, **нулевую гипотезу** о том, что статистически значимых различий в конверсии между группами нет, **мы отвергаем**. **Прирост конверсии группы B относительно группы А составляет 16%.**"
   ]
  },
  {
   "cell_type": "markdown",
   "metadata": {},
   "source": [
    "#### Расчет статистической значимости различия в среднем чеке заказа между группами"
   ]
  },
  {
   "cell_type": "markdown",
   "metadata": {},
   "source": [
    "Сформулируем гипотезы. \n",
    "\n",
    "**Нулевая:** различий в среднем чеке между группами нет.\n",
    "\n",
    "**Альтернативная:** различия в среднем чеке между группами есть."
   ]
  },
  {
   "cell_type": "code",
   "execution_count": 35,
   "metadata": {},
   "outputs": [
    {
     "name": "stdout",
     "output_type": "stream",
     "text": [
      "0.829\n",
      "0.287\n"
     ]
    }
   ],
   "source": [
    "print('{0:.3f}'.format(st.mannwhitneyu(orders[orders['group']=='A']['revenue'], orders[orders['group']=='B']['revenue'])[1]))\n",
    "print('{0:.3f}'.format(orders[orders['group']=='B']['revenue'].mean()/orders[orders['group']=='A']['revenue'].mean()-1)) "
   ]
  },
  {
   "cell_type": "markdown",
   "metadata": {},
   "source": [
    "**P-value значительно больше 0.05**. Значит, **причин отвергать нулевую гипотезу** и считать, что в среднем чеке есть различия, **нет**. При этом, средний чек **у группы B все же значительно больше среднего чека группы A (на 29%).**"
   ]
  },
  {
   "cell_type": "markdown",
   "metadata": {},
   "source": [
    "### Статистическая значимость различий в конверсии и в среднем чеке между группами по «очищенным» данным"
   ]
  },
  {
   "cell_type": "markdown",
   "metadata": {},
   "source": [
    "#### Подготовка «очищенных» данных"
   ]
  },
  {
   "cell_type": "markdown",
   "metadata": {},
   "source": [
    "Примем за аномальных пользователей тех, кто совершил от 2 заказов или совершил заказ дороже 26 785 рублей. Так мы уберём 1% пользователей с наибольшим числом заказов и от 1% до 5% пользователей с дорогими заказами. Сделаем срезы пользователей **с числом заказов больше 1 — users_with_many_orders** и пользователей, совершивших **заказы дороже 26 785 — users_with_expensive_orders**. Объединим их **в таблице abnormal_users**."
   ]
  },
  {
   "cell_type": "code",
   "execution_count": 36,
   "metadata": {},
   "outputs": [
    {
     "name": "stdout",
     "output_type": "stream",
     "text": [
      "568     113298937\n",
      "1099    148427295\n",
      "928     204675465\n",
      "33      249864742\n",
      "684     358944393\n",
      "Name: visitor_id, dtype: int64\n",
      "86\n"
     ]
    }
   ],
   "source": [
    "users_with_many_orders = pd.concat(\n",
    "    [\n",
    "        orders_by_users_a[orders_by_users_a['orders'] > 1]['visitor_id'],\n",
    "        orders_by_users_b[orders_by_users_b['orders'] > 1]['visitor_id'],\n",
    "    ],\n",
    "    axis=0,\n",
    ")\n",
    "users_with_expensive_orders = orders[orders['revenue'] > 26785]['visitor_id']\n",
    "abnormal_users = (\n",
    "    pd.concat([users_with_many_orders, users_with_expensive_orders], axis=0)\n",
    "    .drop_duplicates()\n",
    "    .sort_values()\n",
    ")\n",
    "\n",
    "print(abnormal_users.head(5))\n",
    "print(abnormal_users.shape[0]) "
   ]
  },
  {
   "cell_type": "markdown",
   "metadata": {},
   "source": [
    "**Всего 86 аномальных пользователей.**\n",
    "\n",
    "Узнаем, как их действия повлияли на результаты теста. Посчитаем статистическую значимость различий в конверсии между группами теста по очищенным данным. "
   ]
  },
  {
   "cell_type": "code",
   "execution_count": 37,
   "metadata": {},
   "outputs": [],
   "source": [
    "#Подготовим выборки количества заказов по пользователям по группам теста\n",
    "sample_a_filtered = pd.concat(\n",
    "    [\n",
    "        orders_by_users_a[\n",
    "            np.logical_not(orders_by_users_a['visitor_id'].isin(abnormal_users))\n",
    "        ]['orders'],\n",
    "        pd.Series(\n",
    "            0,\n",
    "            index=np.arange(\n",
    "                data['visitors_per_date_a'].sum() - len(orders_by_users_a['orders'])\n",
    "            ),\n",
    "            name='orders',\n",
    "        ),\n",
    "    ],\n",
    "    axis=0,\n",
    ")\n",
    "\n",
    "sample_b_filtered = pd.concat(\n",
    "    [\n",
    "        orders_by_users_b[\n",
    "            np.logical_not(orders_by_users_b['visitor_id'].isin(abnormal_users))\n",
    "        ]['orders'],\n",
    "        pd.Series(\n",
    "            0,\n",
    "            index=np.arange(\n",
    "                data['visitors_per_date_b'].sum() - len(orders_by_users_b['orders'])\n",
    "            ),\n",
    "            name='orders',\n",
    "        ),\n",
    "    ],\n",
    "    axis=0,\n",
    ") "
   ]
  },
  {
   "cell_type": "markdown",
   "metadata": {},
   "source": [
    "#### Расчет статистической значимости различия конверсии между группами"
   ]
  },
  {
   "cell_type": "code",
   "execution_count": 38,
   "metadata": {},
   "outputs": [
    {
     "name": "stdout",
     "output_type": "stream",
     "text": [
      "0.016\n",
      "0.174\n"
     ]
    }
   ],
   "source": [
    "#Применим статистический критерий Манна-Уитни к полученным выборкам\n",
    "print('{0:.3f}'.format(st.mannwhitneyu(sample_a_filtered, sample_b_filtered)[1]))\n",
    "print('{0:.3f}'.format(sample_b_filtered.mean()/sample_a_filtered.mean()-1))"
   ]
  },
  {
   "cell_type": "markdown",
   "metadata": {},
   "source": [
    "**Результаты по конверсии практически не изменились.**"
   ]
  },
  {
   "cell_type": "markdown",
   "metadata": {},
   "source": [
    "#### Расчет статистической значимости различия в среднем чеке заказа между группами"
   ]
  },
  {
   "cell_type": "code",
   "execution_count": 39,
   "metadata": {},
   "outputs": [
    {
     "name": "stdout",
     "output_type": "stream",
     "text": [
      "0.727\n",
      "-0.034\n"
     ]
    }
   ],
   "source": [
    "print(\n",
    "    '{0:.3f}'.format(\n",
    "        st.mannwhitneyu(\n",
    "            orders[\n",
    "                np.logical_and(\n",
    "                    orders['group'] == 'A',\n",
    "                    np.logical_not(orders['visitor_id'].isin(abnormal_users)),\n",
    "                )\n",
    "            ]['revenue'],\n",
    "            orders[\n",
    "                np.logical_and(\n",
    "                    orders['group'] == 'B',\n",
    "                    np.logical_not(orders['visitor_id'].isin(abnormal_users)),\n",
    "                )\n",
    "            ]['revenue'],\n",
    "        )[1]\n",
    "    )\n",
    ")\n",
    "\n",
    "print(\n",
    "    \"{0:.3f}\".format(\n",
    "        orders[\n",
    "            np.logical_and(\n",
    "                orders['group'] == 'B',\n",
    "                np.logical_not(orders['visitor_id'].isin(abnormal_users)),\n",
    "            )\n",
    "        ]['revenue'].mean()\n",
    "        / orders[\n",
    "            np.logical_and(\n",
    "                orders['group'] == 'A',\n",
    "                np.logical_not(orders['visitor_id'].isin(abnormal_users)),\n",
    "            )\n",
    "        ]['revenue'].mean()\n",
    "        - 1\n",
    "    )\n",
    ")"
   ]
  },
  {
   "cell_type": "markdown",
   "metadata": {},
   "source": [
    "**P-value немного снизился в сравнении с \"сырыми\" данными (с 83% до 72.7%), но все равно значительно больше 0.05**. Значит, **причин отвергать нулевую гипотезу** и считать, что в среднем чеке есть различия, **нет**. Что же касается сравнения среднего чека, то **у группы B он ушел с 29% в минус 3.4% относительно среднего чека группы A.**"
   ]
  },
  {
   "cell_type": "markdown",
   "metadata": {},
   "source": [
    "### Выводы по 2й части исследования\n",
    "\n",
    "Необходимо принять решение по результатам теста и объяснить его. \n",
    "\n",
    "**Варианты решений:**\n",
    "1. Остановить тест, зафиксировать победу одной из групп. \n",
    "2. Остановить тест, зафиксировать отсутствие различий между группами. \n",
    "3. Продолжить тест."
   ]
  },
  {
   "cell_type": "markdown",
   "metadata": {},
   "source": [
    "В процессе предварительной проверки были выявлены следующие недочеты исходных данных A/B теста:\n",
    "- **Количество пользователей в группах A и B** различается более, чем на 1% **(на 17%)**.\n",
    "- **Количество повторяющихся пользователей** в группах A и B составляет **58 человек.**\n",
    "\n",
    "Данные недочеты **не допустимы** при проведении A/B теста. По-хорошему, изначально необходимо было прервать тестирование, так как его результаты в последствии были некорректные. Но так как у нас нет возможности получить иные данные, мы продолжили оценивать имеющиеся.\n",
    "\n",
    "Итак,\n",
    "- Мы определили по \"сырым\" данным (а также подтвердили это после фильтрации аномалий), что **статистически значимые различия в конверсии между группами есть**. **Прирост конверсии группы B относительно группы А в \"сырых\" данных составляет 16%, а в \"очищенных\" - 17.4%.**\n",
    "\n",
    "- Если оценивать средний чек, то по \"сырым\" данным мы **не нашли различий в среднем чеке** (p-value значительно больше 0.05, т.е. нулевая гипотеза не была отвергнута). То же самое подтвердили \"очищенные\" данные (p-value снизился с 83% до 72.7%, но все равно оказался большел 5%). \n",
    "\n",
    "- При этом, согласно \"сырым\" данным, **средний чек у группы B все же значительно больше среднего чека группы A (на 29%).** После удаления аномалий мы вдруг увидели, что **средний чек группы В упал ниже среднего чека группы А (на 3.4%).** Это значит, что среди заказов **группы В были крупные заказы, которые исказили нам первоначальные данные.**\n",
    "\n",
    "- Если рассматривать показатели в динамике, то график различия среднего чека показывает, что на бОльшем диапазоне рассматриваемого периода **кумулятивный средний чек группы B превышает чек группы A.**\n",
    "\n",
    "- График различия конверсии между группами сообщает, что в самом начале исследуемого периода конверсия группы B проигрывала конверсии группы A. Но с 6го августа она вырвалась вперед и с хорошим темпом росла. **Во второй половине временного периода конверсия более-менее сбалансировалась и находилась в диапазоне 1-2%.**\n",
    "\n",
    "**Продолжать тест смысла нет:** график конверсии стабилизировался во второй половине рассматриваемого периода; группа В статистически лучше группы А по конверсии. Несмотря на то, что средний чек в \"очищенных\" данных у нас снизился в группе В в сравнении с группой А, **я считаю, что за счет улучшенной конверсии (количества платящих пользователей), тест можно признать успешным.**"
   ]
  },
  {
   "cell_type": "markdown",
   "metadata": {},
   "source": [
    "## Общие выводы к проекту\n",
    "\n",
    "Перед началом исследования мы загрузили данные и провели предварительную их проверку, а именно: \n",
    "\n",
    "- выявили столбцы с данными, которые нужно привести к формату времени; \n",
    "- привели названия столбцов к нижнему регистру; \n",
    "- проверили данные на дубликаты (они отсутствовали). \n",
    "\n",
    "Далее исследование у нас состояло из 2х частей:\n",
    "\n",
    "- приоритезации гипотез\n",
    "- анализ А/В теста\n",
    "\n",
    "**В первом разделе приоритезации гипотез** мы применили **2 фреймворка (ICE, RICE)** и выявили следующие гипотезы, как **наиболее перспективные:**\n",
    "\n",
    "- **Добавить два новых канала привлечения трафика, что позволит привлекать на 30% больше пользователей**\n",
    "- **Добавить форму подписки на все основные страницы, чтобы собрать базу клиентов для email-рассылок**\n",
    "- **Показать на главной странице баннеры с актуальными акциями и распродажами, чтобы увеличить конверсию**\n",
    "\n",
    "Они пересекались по обоим фреймворкам.\n",
    "\n",
    "\n",
    "Далее мы приступили **ко второй части исследования.**\n",
    "\n",
    "Перед тем, как анализировать результаты А/В теста, мы провели предварительную проверку полученных данных, в процессе которой были выявлены следующие недочеты исходных данных A/B теста:\n",
    "\n",
    "- **Количество пользователей в группах A и B** различается более, чем на 1% **(на 17%)**.\n",
    "- **Количество повторяющихся пользователей** в группах A и B составляет **58 человек.**\n",
    "\n",
    "Данные недочеты **не допустимы** при проведении A/B теста. По-хорошему, изначально необходимо было прервать тестирование, так как его результаты в последствии были некорректные. Но так как у нас нет возможности получить иные данные, мы продолжили оценивать имеющиеся.\n",
    "\n",
    "\n",
    "\n",
    "При **оценке кумулятивной выручки по группам**, мы увидели, что она почти равномерно увеличивается в течение всего теста, что хорошо. Однако, в одной точке **(в период с 17 по 21 августа 2019 г.) график группы B резко возрастает.** Это может быть связано **со всплеском числа заказов, либо о нескольких очень дорогих заказов в выборке.**\n",
    "\n",
    "При рассмотрении **кумулятивного среднего чека по группам** мы увидели в период с 17го по 21е августа 2019 г. **резкий рост среднего чека в группе B (что означает наличие крупных заказы в группе B).**\n",
    "\n",
    "При исследовании **относительного изменения кумулятивного среднего чека группы В к группе А** мы отметили, что на бОльшем диапазоне рассматриваемого периода **кумулятивный средний чек группы B превышает чек группы A.** При этом, **в нескольких точках график скачет, что означает наличие выбросов (крупных заказов).**\n",
    "\n",
    "В процессе анализа **кумулятивной конверсии по группам**, мы отметили, что в начале периода график кумулятивной конверсии скачет по обеим группам, но к концу периода они более-менее выравниваются и представляют собой следующую картину: **средняя конверсия группы B выше группы A и находится на уровне 2,9% (против 2,5% у конверсии группы A).**\n",
    "\n",
    "При оценке **относительного изменения кумулятивной конверсии группы В к группе А**, нами было замечено, что в начале периода конверсия группы B проигрывала конверсии группы A. Но где-то с 6го августа она вырвалась вперед и с хорошим темпом росла. **Во второй половине временного периода конверсия более-менее сбалансировалась и находилась в диапазоне 1-2%.**\n",
    "\n",
    "**Точечный график количества заказов по пользователям** показал нам, что большинство покупателей заказывали только один раз. Однако доля пользователей с 2 заказами тоже значительна. **Всего 7 клиентов с 3мя заказами.**\n",
    "\n",
    "Также мы оценили **95-ю и 99-ю перцентили количества заказов на пользователя** и выбрали границу, по которой проходят аномальные пользователи: **не более 1% пользователей оформляли больше 2 заказов (включительно).** За нижнюю границу числа заказов мы выбрали **1 заказ** на одного пользователя и отсеяли аномальных пользователей по ней. \n",
    "\n",
    "**Точечный график стоимостей заказов** показал нам **2 выброса: в районе 200 тысяч и около 1,3 млн** (в задании не указана валюта заказов).\n",
    "\n",
    "Также мы оценили **95-ю и 99-ю перцентили стоимости заказов** и выбрали границу, по которой проходят аномальные заказы: не более чем у **5% заказов стоимость превышает 26785.**\n",
    "\n",
    "Итак,\n",
    "- Мы определили по \"сырым\" данным (а также подтвердили это после фильтрации аномалий), что **статистически значимые различия в конверсии между группами есть**. **Прирост конверсии группы B относительно группы А в \"сырых\" данных составляет 16%, а в \"очищенных\" - 17.4%.**\n",
    "\n",
    "- Если оценивать средний чек, то по \"сырым\" данным мы **не нашли различий в среднем чеке** (p-value значительно больше 0.05, т.е. нулевая гипотеза не была отвергнута). То же самое подтвердили \"очищенные\" данные (p-value снизился с 83% до 72.7%, но все равно оказался большел 5%). \n",
    "\n",
    "- При этом, согласно \"сырым\" данным, **средний чек у группы B все же значительно больше среднего чека группы A (на 29%).** После удаления аномалий мы вдруг увидели, что **средний чек группы В упал ниже среднего чека группы А (на 3.4%).** Это значит, что среди заказов **группы В были крупные заказы, которые исказили нам первоначальные данные.**\n",
    "\n",
    "- Если рассматривать показатели в динамике, то график различия среднего чека показывает, что на бОльшем диапазоне рассматриваемого периода **кумулятивный средний чек группы B превышает чек группы A.**\n",
    "\n",
    "- График различия конверсии между группами сообщает, что в самом начале исследуемого периода конверсия группы B проигрывала конверсии группы A. Но с 6го августа она вырвалась вперед и с хорошим темпом росла. **Во второй половине временного периода конверсия более-менее сбалансировалась и находилась в диапазоне 1-2%.**\n",
    "\n",
    "**Продолжать тест смысла нет:** график конверсии стабилизировался во второй половине рассматриваемого периода; группа В статистически лучше группы А по конверсии. Несмотря на то, что средний чек в \"очищенных\" данных у нас снизился в группе В в сравнении с группой А, **я считаю, что за счет улучшенной конверсии (количества платящих пользователей), тест можно признать успешным.**"
   ]
  },
  {
   "cell_type": "code",
   "execution_count": null,
   "metadata": {},
   "outputs": [],
   "source": []
  }
 ],
 "metadata": {
  "ExecuteTimeLog": [
   {
    "duration": 34,
    "start_time": "2022-06-15T11:10:38.679Z"
   },
   {
    "duration": 1297,
    "start_time": "2022-06-15T11:19:08.797Z"
   },
   {
    "duration": 200,
    "start_time": "2022-06-15T11:20:01.648Z"
   },
   {
    "duration": 3,
    "start_time": "2022-06-15T11:20:49.100Z"
   },
   {
    "duration": 20,
    "start_time": "2022-06-15T11:21:06.708Z"
   },
   {
    "duration": 3,
    "start_time": "2022-06-15T11:22:08.967Z"
   },
   {
    "duration": 23,
    "start_time": "2022-06-15T11:22:10.743Z"
   },
   {
    "duration": 79,
    "start_time": "2022-06-15T11:24:15.756Z"
   },
   {
    "duration": 10,
    "start_time": "2022-06-15T11:24:28.597Z"
   },
   {
    "duration": 76,
    "start_time": "2022-06-15T11:24:30.795Z"
   },
   {
    "duration": 3,
    "start_time": "2022-06-15T11:24:32.040Z"
   },
   {
    "duration": 15,
    "start_time": "2022-06-15T11:24:32.616Z"
   },
   {
    "duration": 9,
    "start_time": "2022-06-15T11:25:56.796Z"
   },
   {
    "duration": 76,
    "start_time": "2022-06-15T11:25:57.794Z"
   },
   {
    "duration": 4,
    "start_time": "2022-06-15T11:25:59.294Z"
   },
   {
    "duration": 16,
    "start_time": "2022-06-15T11:25:59.844Z"
   },
   {
    "duration": 17,
    "start_time": "2022-06-15T11:28:07.067Z"
   },
   {
    "duration": 11,
    "start_time": "2022-06-15T11:33:26.361Z"
   },
   {
    "duration": 87,
    "start_time": "2022-06-15T11:33:26.374Z"
   },
   {
    "duration": 4,
    "start_time": "2022-06-15T11:33:26.464Z"
   },
   {
    "duration": 46,
    "start_time": "2022-06-15T11:33:26.470Z"
   },
   {
    "duration": 16,
    "start_time": "2022-06-15T11:33:26.518Z"
   },
   {
    "duration": 16,
    "start_time": "2022-06-15T11:33:31.699Z"
   },
   {
    "duration": 3,
    "start_time": "2022-06-15T11:37:05.501Z"
   },
   {
    "duration": 3,
    "start_time": "2022-06-15T11:37:37.794Z"
   },
   {
    "duration": 16,
    "start_time": "2022-06-15T11:37:38.267Z"
   },
   {
    "duration": 184,
    "start_time": "2022-06-15T11:40:46.226Z"
   },
   {
    "duration": 17,
    "start_time": "2022-06-15T11:41:15.898Z"
   },
   {
    "duration": 20,
    "start_time": "2022-06-15T11:43:25.016Z"
   },
   {
    "duration": 13,
    "start_time": "2022-06-15T11:43:32.492Z"
   },
   {
    "duration": 28,
    "start_time": "2022-06-15T17:00:27.784Z"
   },
   {
    "duration": 9,
    "start_time": "2022-06-15T17:08:51.583Z"
   },
   {
    "duration": 10,
    "start_time": "2022-06-15T19:08:27.144Z"
   },
   {
    "duration": 386,
    "start_time": "2022-06-15T19:09:20.064Z"
   },
   {
    "duration": 13,
    "start_time": "2022-06-15T19:11:26.945Z"
   },
   {
    "duration": 9,
    "start_time": "2022-06-15T19:11:37.552Z"
   },
   {
    "duration": 97,
    "start_time": "2022-06-15T19:11:37.563Z"
   },
   {
    "duration": 2,
    "start_time": "2022-06-15T19:11:37.662Z"
   },
   {
    "duration": 33,
    "start_time": "2022-06-15T19:11:37.665Z"
   },
   {
    "duration": 34,
    "start_time": "2022-06-15T19:11:37.700Z"
   },
   {
    "duration": 26,
    "start_time": "2022-06-15T19:11:37.735Z"
   },
   {
    "duration": 13,
    "start_time": "2022-06-15T19:11:37.763Z"
   },
   {
    "duration": 40,
    "start_time": "2022-06-15T19:11:37.778Z"
   },
   {
    "duration": 31,
    "start_time": "2022-06-15T19:11:37.820Z"
   },
   {
    "duration": 19,
    "start_time": "2022-06-15T19:11:37.852Z"
   },
   {
    "duration": 17,
    "start_time": "2022-06-15T19:11:37.872Z"
   },
   {
    "duration": 40,
    "start_time": "2022-06-15T19:11:37.891Z"
   },
   {
    "duration": 14,
    "start_time": "2022-06-15T19:11:43.164Z"
   },
   {
    "duration": 9,
    "start_time": "2022-06-15T19:12:07.182Z"
   },
   {
    "duration": 11,
    "start_time": "2022-06-15T19:12:36.064Z"
   },
   {
    "duration": 13,
    "start_time": "2022-06-15T19:13:50.865Z"
   },
   {
    "duration": 10,
    "start_time": "2022-06-15T19:13:59.275Z"
   },
   {
    "duration": 16,
    "start_time": "2022-06-15T19:15:46.439Z"
   },
   {
    "duration": 14,
    "start_time": "2022-06-15T19:17:01.546Z"
   },
   {
    "duration": 12,
    "start_time": "2022-06-15T19:18:31.403Z"
   },
   {
    "duration": 11,
    "start_time": "2022-06-15T19:18:53.923Z"
   },
   {
    "duration": 15,
    "start_time": "2022-06-15T19:19:16.294Z"
   },
   {
    "duration": 12,
    "start_time": "2022-06-15T19:19:48.668Z"
   },
   {
    "duration": 12,
    "start_time": "2022-06-15T19:20:04.551Z"
   },
   {
    "duration": 17,
    "start_time": "2022-06-15T19:27:35.766Z"
   },
   {
    "duration": 17,
    "start_time": "2022-06-15T19:27:54.703Z"
   },
   {
    "duration": 15,
    "start_time": "2022-06-15T19:30:00.979Z"
   },
   {
    "duration": 16,
    "start_time": "2022-06-15T19:30:17.899Z"
   },
   {
    "duration": 17,
    "start_time": "2022-06-15T19:31:12.604Z"
   },
   {
    "duration": 15,
    "start_time": "2022-06-15T19:32:24.005Z"
   },
   {
    "duration": 16,
    "start_time": "2022-06-15T19:32:44.502Z"
   },
   {
    "duration": 16,
    "start_time": "2022-06-15T19:32:55.784Z"
   },
   {
    "duration": 15,
    "start_time": "2022-06-15T19:33:26.879Z"
   },
   {
    "duration": 11,
    "start_time": "2022-06-15T19:36:37.081Z"
   },
   {
    "duration": 12,
    "start_time": "2022-06-15T19:36:55.862Z"
   },
   {
    "duration": 13,
    "start_time": "2022-06-15T19:37:01.400Z"
   },
   {
    "duration": 12,
    "start_time": "2022-06-15T19:37:14.164Z"
   },
   {
    "duration": 12,
    "start_time": "2022-06-15T19:37:23.028Z"
   },
   {
    "duration": 12,
    "start_time": "2022-06-15T19:37:56.675Z"
   },
   {
    "duration": 25,
    "start_time": "2022-06-15T19:39:53.727Z"
   },
   {
    "duration": 19,
    "start_time": "2022-06-15T19:40:10.831Z"
   },
   {
    "duration": 17,
    "start_time": "2022-06-15T19:40:40.254Z"
   },
   {
    "duration": 20,
    "start_time": "2022-06-15T19:40:46.307Z"
   },
   {
    "duration": 17,
    "start_time": "2022-06-15T19:41:22.512Z"
   },
   {
    "duration": 18,
    "start_time": "2022-06-15T19:44:34.082Z"
   },
   {
    "duration": 16,
    "start_time": "2022-06-15T19:44:39.457Z"
   },
   {
    "duration": 11,
    "start_time": "2022-06-15T19:45:37.573Z"
   },
   {
    "duration": 9,
    "start_time": "2022-06-15T19:46:05.256Z"
   },
   {
    "duration": 93,
    "start_time": "2022-06-15T19:46:05.267Z"
   },
   {
    "duration": 3,
    "start_time": "2022-06-15T19:46:05.361Z"
   },
   {
    "duration": 18,
    "start_time": "2022-06-15T19:46:05.365Z"
   },
   {
    "duration": 14,
    "start_time": "2022-06-15T19:46:05.385Z"
   },
   {
    "duration": 13,
    "start_time": "2022-06-15T19:46:05.400Z"
   },
   {
    "duration": 3,
    "start_time": "2022-06-15T19:46:05.414Z"
   },
   {
    "duration": 18,
    "start_time": "2022-06-15T19:46:05.418Z"
   },
   {
    "duration": 14,
    "start_time": "2022-06-15T19:46:05.437Z"
   },
   {
    "duration": 10,
    "start_time": "2022-06-15T19:46:05.453Z"
   },
   {
    "duration": 11,
    "start_time": "2022-06-15T19:46:05.465Z"
   },
   {
    "duration": 12,
    "start_time": "2022-06-15T19:46:05.477Z"
   },
   {
    "duration": 13,
    "start_time": "2022-06-15T19:46:07.213Z"
   },
   {
    "duration": 12,
    "start_time": "2022-06-15T19:46:19.885Z"
   },
   {
    "duration": 17,
    "start_time": "2022-06-15T19:53:15.006Z"
   },
   {
    "duration": 16,
    "start_time": "2022-06-15T19:53:30.936Z"
   },
   {
    "duration": 16,
    "start_time": "2022-06-15T21:30:44.797Z"
   },
   {
    "duration": 17,
    "start_time": "2022-06-15T21:31:00.439Z"
   },
   {
    "duration": 25,
    "start_time": "2022-06-15T21:32:10.201Z"
   },
   {
    "duration": 15,
    "start_time": "2022-06-15T21:32:18.463Z"
   },
   {
    "duration": 13,
    "start_time": "2022-06-15T21:34:15.854Z"
   },
   {
    "duration": 12,
    "start_time": "2022-06-15T21:34:35.914Z"
   },
   {
    "duration": 16,
    "start_time": "2022-06-15T21:34:44.513Z"
   },
   {
    "duration": 5,
    "start_time": "2022-06-15T21:35:15.982Z"
   },
   {
    "duration": 12,
    "start_time": "2022-06-15T21:36:24.434Z"
   },
   {
    "duration": 9,
    "start_time": "2022-06-15T21:36:31.520Z"
   },
   {
    "duration": 98,
    "start_time": "2022-06-15T21:36:31.531Z"
   },
   {
    "duration": 3,
    "start_time": "2022-06-15T21:36:31.630Z"
   },
   {
    "duration": 48,
    "start_time": "2022-06-15T21:36:31.635Z"
   },
   {
    "duration": 14,
    "start_time": "2022-06-15T21:36:31.684Z"
   },
   {
    "duration": 20,
    "start_time": "2022-06-15T21:36:31.699Z"
   },
   {
    "duration": 2,
    "start_time": "2022-06-15T21:36:31.721Z"
   },
   {
    "duration": 25,
    "start_time": "2022-06-15T21:36:31.724Z"
   },
   {
    "duration": 17,
    "start_time": "2022-06-15T21:36:31.751Z"
   },
   {
    "duration": 26,
    "start_time": "2022-06-15T21:36:31.770Z"
   },
   {
    "duration": 10,
    "start_time": "2022-06-15T21:36:31.799Z"
   },
   {
    "duration": 16,
    "start_time": "2022-06-15T21:36:31.810Z"
   },
   {
    "duration": 12,
    "start_time": "2022-06-15T21:36:40.113Z"
   },
   {
    "duration": 4,
    "start_time": "2022-06-15T21:36:41.154Z"
   },
   {
    "duration": 14,
    "start_time": "2022-06-15T21:39:46.282Z"
   },
   {
    "duration": 22,
    "start_time": "2022-06-15T21:39:55.096Z"
   },
   {
    "duration": 12,
    "start_time": "2022-06-15T21:39:57.462Z"
   },
   {
    "duration": 13,
    "start_time": "2022-06-15T21:40:42.130Z"
   },
   {
    "duration": 9,
    "start_time": "2022-06-15T21:47:00.762Z"
   },
   {
    "duration": 9,
    "start_time": "2022-06-15T21:47:13.494Z"
   },
   {
    "duration": 8,
    "start_time": "2022-06-15T21:47:31.042Z"
   },
   {
    "duration": 10,
    "start_time": "2022-06-15T21:50:17.534Z"
   },
   {
    "duration": 10,
    "start_time": "2022-06-15T21:50:39.833Z"
   },
   {
    "duration": 11,
    "start_time": "2022-06-15T21:50:48.441Z"
   },
   {
    "duration": 9,
    "start_time": "2022-06-15T21:52:28.530Z"
   },
   {
    "duration": 10,
    "start_time": "2022-06-15T21:52:32.073Z"
   },
   {
    "duration": 8,
    "start_time": "2022-06-15T21:52:40.693Z"
   },
   {
    "duration": 6,
    "start_time": "2022-06-15T22:12:14.756Z"
   },
   {
    "duration": 8,
    "start_time": "2022-06-15T22:12:47.952Z"
   },
   {
    "duration": 7,
    "start_time": "2022-06-15T22:13:14.853Z"
   },
   {
    "duration": 7,
    "start_time": "2022-06-15T22:14:15.570Z"
   },
   {
    "duration": 5,
    "start_time": "2022-06-15T22:14:32.820Z"
   },
   {
    "duration": 5,
    "start_time": "2022-06-15T22:16:51.800Z"
   },
   {
    "duration": 24,
    "start_time": "2022-06-15T22:19:37.532Z"
   },
   {
    "duration": 19,
    "start_time": "2022-06-15T22:20:30.911Z"
   },
   {
    "duration": 4,
    "start_time": "2022-06-15T22:25:57.571Z"
   },
   {
    "duration": 19,
    "start_time": "2022-06-15T22:26:09.992Z"
   },
   {
    "duration": 10,
    "start_time": "2022-06-15T22:28:05.452Z"
   },
   {
    "duration": 12,
    "start_time": "2022-06-15T22:29:39.186Z"
   },
   {
    "duration": 5,
    "start_time": "2022-06-15T22:29:48.699Z"
   },
   {
    "duration": 12,
    "start_time": "2022-06-15T23:40:58.684Z"
   },
   {
    "duration": 9,
    "start_time": "2022-06-15T23:41:09.449Z"
   },
   {
    "duration": 9,
    "start_time": "2022-06-15T23:41:16.384Z"
   },
   {
    "duration": 9,
    "start_time": "2022-06-15T23:41:39.669Z"
   },
   {
    "duration": 8,
    "start_time": "2022-06-15T23:42:41.105Z"
   },
   {
    "duration": 9,
    "start_time": "2022-06-15T23:44:15.750Z"
   },
   {
    "duration": 9,
    "start_time": "2022-06-15T23:44:39.218Z"
   },
   {
    "duration": 9,
    "start_time": "2022-06-15T23:44:42.598Z"
   },
   {
    "duration": 10,
    "start_time": "2022-06-15T23:46:22.137Z"
   },
   {
    "duration": 9,
    "start_time": "2022-06-15T23:46:48.606Z"
   },
   {
    "duration": 1174,
    "start_time": "2022-06-16T14:58:09.841Z"
   },
   {
    "duration": 193,
    "start_time": "2022-06-16T14:58:11.017Z"
   },
   {
    "duration": 3,
    "start_time": "2022-06-16T14:58:11.211Z"
   },
   {
    "duration": 22,
    "start_time": "2022-06-16T14:58:11.216Z"
   },
   {
    "duration": 20,
    "start_time": "2022-06-16T14:58:11.240Z"
   },
   {
    "duration": 15,
    "start_time": "2022-06-16T14:58:11.262Z"
   },
   {
    "duration": 3,
    "start_time": "2022-06-16T14:58:11.278Z"
   },
   {
    "duration": 16,
    "start_time": "2022-06-16T14:58:11.294Z"
   },
   {
    "duration": 16,
    "start_time": "2022-06-16T14:58:11.312Z"
   },
   {
    "duration": 13,
    "start_time": "2022-06-16T14:58:11.329Z"
   },
   {
    "duration": 10,
    "start_time": "2022-06-16T14:58:11.344Z"
   },
   {
    "duration": 8,
    "start_time": "2022-06-16T14:58:11.355Z"
   },
   {
    "duration": 13,
    "start_time": "2022-06-16T14:58:11.395Z"
   },
   {
    "duration": 10,
    "start_time": "2022-06-16T14:58:11.410Z"
   },
   {
    "duration": 9,
    "start_time": "2022-06-16T14:58:11.421Z"
   },
   {
    "duration": 11,
    "start_time": "2022-06-16T14:58:14.881Z"
   },
   {
    "duration": 14,
    "start_time": "2022-06-16T15:00:01.609Z"
   },
   {
    "duration": 10,
    "start_time": "2022-06-16T15:00:14.734Z"
   },
   {
    "duration": 8,
    "start_time": "2022-06-16T15:03:25.681Z"
   },
   {
    "duration": 94,
    "start_time": "2022-06-16T15:03:54.053Z"
   },
   {
    "duration": 8,
    "start_time": "2022-06-16T15:04:18.804Z"
   },
   {
    "duration": 13,
    "start_time": "2022-06-16T15:04:22.896Z"
   },
   {
    "duration": 425,
    "start_time": "2022-06-16T15:04:48.783Z"
   },
   {
    "duration": 8,
    "start_time": "2022-06-16T15:04:56.633Z"
   },
   {
    "duration": 80,
    "start_time": "2022-06-16T15:04:56.644Z"
   },
   {
    "duration": 3,
    "start_time": "2022-06-16T15:04:56.726Z"
   },
   {
    "duration": 18,
    "start_time": "2022-06-16T15:04:56.730Z"
   },
   {
    "duration": 15,
    "start_time": "2022-06-16T15:04:56.750Z"
   },
   {
    "duration": 13,
    "start_time": "2022-06-16T15:04:56.767Z"
   },
   {
    "duration": 2,
    "start_time": "2022-06-16T15:04:56.782Z"
   },
   {
    "duration": 19,
    "start_time": "2022-06-16T15:04:56.786Z"
   },
   {
    "duration": 16,
    "start_time": "2022-06-16T15:04:56.806Z"
   },
   {
    "duration": 11,
    "start_time": "2022-06-16T15:04:56.824Z"
   },
   {
    "duration": 10,
    "start_time": "2022-06-16T15:04:56.837Z"
   },
   {
    "duration": 11,
    "start_time": "2022-06-16T15:04:56.848Z"
   },
   {
    "duration": 44,
    "start_time": "2022-06-16T15:04:56.861Z"
   },
   {
    "duration": 11,
    "start_time": "2022-06-16T15:04:56.907Z"
   },
   {
    "duration": 16,
    "start_time": "2022-06-16T15:05:00.010Z"
   },
   {
    "duration": 541,
    "start_time": "2022-06-16T15:06:47.940Z"
   },
   {
    "duration": 348,
    "start_time": "2022-06-16T15:06:56.412Z"
   },
   {
    "duration": 589,
    "start_time": "2022-06-16T15:07:04.696Z"
   },
   {
    "duration": 18,
    "start_time": "2022-06-16T15:07:36.449Z"
   },
   {
    "duration": 9,
    "start_time": "2022-06-16T15:07:46.547Z"
   },
   {
    "duration": 86,
    "start_time": "2022-06-16T15:07:46.557Z"
   },
   {
    "duration": 3,
    "start_time": "2022-06-16T15:07:46.644Z"
   },
   {
    "duration": 17,
    "start_time": "2022-06-16T15:07:46.649Z"
   },
   {
    "duration": 16,
    "start_time": "2022-06-16T15:07:46.668Z"
   },
   {
    "duration": 13,
    "start_time": "2022-06-16T15:07:46.685Z"
   },
   {
    "duration": 2,
    "start_time": "2022-06-16T15:07:46.700Z"
   },
   {
    "duration": 16,
    "start_time": "2022-06-16T15:07:46.704Z"
   },
   {
    "duration": 15,
    "start_time": "2022-06-16T15:07:46.722Z"
   },
   {
    "duration": 11,
    "start_time": "2022-06-16T15:07:46.738Z"
   },
   {
    "duration": 8,
    "start_time": "2022-06-16T15:07:46.750Z"
   },
   {
    "duration": 8,
    "start_time": "2022-06-16T15:07:46.794Z"
   },
   {
    "duration": 17,
    "start_time": "2022-06-16T15:07:46.803Z"
   },
   {
    "duration": 8,
    "start_time": "2022-06-16T15:07:46.822Z"
   },
   {
    "duration": 13,
    "start_time": "2022-06-16T15:07:49.105Z"
   },
   {
    "duration": 465,
    "start_time": "2022-06-16T15:07:54.783Z"
   },
   {
    "duration": 10,
    "start_time": "2022-06-16T15:12:43.892Z"
   },
   {
    "duration": 83,
    "start_time": "2022-06-16T15:12:43.905Z"
   },
   {
    "duration": 4,
    "start_time": "2022-06-16T15:12:43.990Z"
   },
   {
    "duration": 25,
    "start_time": "2022-06-16T15:12:43.995Z"
   },
   {
    "duration": 16,
    "start_time": "2022-06-16T15:12:44.022Z"
   },
   {
    "duration": 28,
    "start_time": "2022-06-16T15:12:44.040Z"
   },
   {
    "duration": 4,
    "start_time": "2022-06-16T15:12:44.070Z"
   },
   {
    "duration": 36,
    "start_time": "2022-06-16T15:12:44.076Z"
   },
   {
    "duration": 16,
    "start_time": "2022-06-16T15:12:44.113Z"
   },
   {
    "duration": 11,
    "start_time": "2022-06-16T15:12:44.131Z"
   },
   {
    "duration": 13,
    "start_time": "2022-06-16T15:12:44.144Z"
   },
   {
    "duration": 11,
    "start_time": "2022-06-16T15:12:44.159Z"
   },
   {
    "duration": 24,
    "start_time": "2022-06-16T15:12:44.172Z"
   },
   {
    "duration": 13,
    "start_time": "2022-06-16T15:12:44.198Z"
   },
   {
    "duration": 19,
    "start_time": "2022-06-16T15:13:02.645Z"
   },
   {
    "duration": 9,
    "start_time": "2022-06-16T15:14:07.076Z"
   },
   {
    "duration": 11,
    "start_time": "2022-06-16T15:14:21.379Z"
   },
   {
    "duration": 446,
    "start_time": "2022-06-16T15:21:16.472Z"
   },
   {
    "duration": 9,
    "start_time": "2022-06-16T15:21:22.114Z"
   },
   {
    "duration": 90,
    "start_time": "2022-06-16T15:21:22.126Z"
   },
   {
    "duration": 3,
    "start_time": "2022-06-16T15:21:22.218Z"
   },
   {
    "duration": 20,
    "start_time": "2022-06-16T15:21:22.223Z"
   },
   {
    "duration": 17,
    "start_time": "2022-06-16T15:21:22.245Z"
   },
   {
    "duration": 14,
    "start_time": "2022-06-16T15:21:22.263Z"
   },
   {
    "duration": 17,
    "start_time": "2022-06-16T15:21:22.278Z"
   },
   {
    "duration": 23,
    "start_time": "2022-06-16T15:21:22.297Z"
   },
   {
    "duration": 19,
    "start_time": "2022-06-16T15:21:22.322Z"
   },
   {
    "duration": 15,
    "start_time": "2022-06-16T15:21:22.343Z"
   },
   {
    "duration": 38,
    "start_time": "2022-06-16T15:21:22.360Z"
   },
   {
    "duration": 16,
    "start_time": "2022-06-16T15:21:22.400Z"
   },
   {
    "duration": 14,
    "start_time": "2022-06-16T15:21:22.418Z"
   },
   {
    "duration": 11,
    "start_time": "2022-06-16T15:21:22.435Z"
   },
   {
    "duration": 14,
    "start_time": "2022-06-16T15:21:22.448Z"
   },
   {
    "duration": 35,
    "start_time": "2022-06-16T15:21:22.465Z"
   },
   {
    "duration": 547,
    "start_time": "2022-06-16T15:21:26.144Z"
   },
   {
    "duration": 11,
    "start_time": "2022-06-16T15:21:36.816Z"
   },
   {
    "duration": 11,
    "start_time": "2022-06-16T15:22:00.796Z"
   },
   {
    "duration": 14,
    "start_time": "2022-06-16T15:27:17.689Z"
   },
   {
    "duration": 17,
    "start_time": "2022-06-16T15:30:34.809Z"
   },
   {
    "duration": 114,
    "start_time": "2022-06-16T15:30:59.429Z"
   },
   {
    "duration": 10,
    "start_time": "2022-06-16T15:31:03.465Z"
   },
   {
    "duration": 10,
    "start_time": "2022-06-16T15:32:11.981Z"
   },
   {
    "duration": 10,
    "start_time": "2022-06-16T15:33:29.909Z"
   },
   {
    "duration": 502,
    "start_time": "2022-06-16T18:04:33.198Z"
   },
   {
    "duration": 12,
    "start_time": "2022-06-16T18:44:21.100Z"
   },
   {
    "duration": 9,
    "start_time": "2022-06-16T18:54:04.747Z"
   },
   {
    "duration": 10,
    "start_time": "2022-06-16T18:54:12.105Z"
   },
   {
    "duration": 11,
    "start_time": "2022-06-16T18:55:07.012Z"
   },
   {
    "duration": 9,
    "start_time": "2022-06-16T19:01:43.888Z"
   },
   {
    "duration": 150,
    "start_time": "2022-06-16T19:01:53.516Z"
   },
   {
    "duration": 266,
    "start_time": "2022-06-16T19:02:22.805Z"
   },
   {
    "duration": 10,
    "start_time": "2022-06-16T19:03:54.016Z"
   },
   {
    "duration": 156,
    "start_time": "2022-06-16T19:03:56.008Z"
   },
   {
    "duration": 129,
    "start_time": "2022-06-16T19:06:21.669Z"
   },
   {
    "duration": 13,
    "start_time": "2022-06-16T19:08:22.821Z"
   },
   {
    "duration": 14,
    "start_time": "2022-06-16T19:08:29.389Z"
   },
   {
    "duration": 270,
    "start_time": "2022-06-16T19:11:52.149Z"
   },
   {
    "duration": 278,
    "start_time": "2022-06-16T19:12:30.960Z"
   },
   {
    "duration": 276,
    "start_time": "2022-06-16T19:12:54.831Z"
   },
   {
    "duration": 278,
    "start_time": "2022-06-16T19:13:25.916Z"
   },
   {
    "duration": 329,
    "start_time": "2022-06-16T19:14:02.168Z"
   },
   {
    "duration": 451,
    "start_time": "2022-06-16T19:14:09.250Z"
   },
   {
    "duration": 392,
    "start_time": "2022-06-16T19:14:19.320Z"
   },
   {
    "duration": 399,
    "start_time": "2022-06-16T19:14:24.930Z"
   },
   {
    "duration": 334,
    "start_time": "2022-06-16T19:20:11.152Z"
   },
   {
    "duration": 368,
    "start_time": "2022-06-16T19:20:26.409Z"
   },
   {
    "duration": 11,
    "start_time": "2022-06-16T19:26:22.679Z"
   },
   {
    "duration": 11,
    "start_time": "2022-06-16T19:27:14.359Z"
   },
   {
    "duration": 26,
    "start_time": "2022-06-16T19:28:29.339Z"
   },
   {
    "duration": 10,
    "start_time": "2022-06-16T19:28:42.779Z"
   },
   {
    "duration": 77,
    "start_time": "2022-06-16T19:28:42.805Z"
   },
   {
    "duration": 3,
    "start_time": "2022-06-16T19:28:42.884Z"
   },
   {
    "duration": 20,
    "start_time": "2022-06-16T19:28:42.888Z"
   },
   {
    "duration": 21,
    "start_time": "2022-06-16T19:28:42.910Z"
   },
   {
    "duration": 17,
    "start_time": "2022-06-16T19:28:42.933Z"
   },
   {
    "duration": 5,
    "start_time": "2022-06-16T19:28:42.952Z"
   },
   {
    "duration": 59,
    "start_time": "2022-06-16T19:28:42.959Z"
   },
   {
    "duration": 24,
    "start_time": "2022-06-16T19:28:43.020Z"
   },
   {
    "duration": 15,
    "start_time": "2022-06-16T19:28:43.046Z"
   },
   {
    "duration": 38,
    "start_time": "2022-06-16T19:28:43.063Z"
   },
   {
    "duration": 22,
    "start_time": "2022-06-16T19:28:43.103Z"
   },
   {
    "duration": 17,
    "start_time": "2022-06-16T19:28:43.129Z"
   },
   {
    "duration": 12,
    "start_time": "2022-06-16T19:28:43.148Z"
   },
   {
    "duration": 34,
    "start_time": "2022-06-16T19:28:43.162Z"
   },
   {
    "duration": 16,
    "start_time": "2022-06-16T19:28:43.198Z"
   },
   {
    "duration": 15,
    "start_time": "2022-06-16T19:28:43.217Z"
   },
   {
    "duration": 12,
    "start_time": "2022-06-16T19:28:43.234Z"
   },
   {
    "duration": 210,
    "start_time": "2022-06-16T19:28:43.249Z"
   },
   {
    "duration": 157,
    "start_time": "2022-06-16T19:28:43.460Z"
   },
   {
    "duration": 10,
    "start_time": "2022-06-16T19:28:43.619Z"
   },
   {
    "duration": 469,
    "start_time": "2022-06-16T19:28:43.632Z"
   },
   {
    "duration": 425,
    "start_time": "2022-06-16T19:28:44.103Z"
   },
   {
    "duration": 24,
    "start_time": "2022-06-16T19:28:47.972Z"
   },
   {
    "duration": 450,
    "start_time": "2022-06-16T19:29:06.212Z"
   },
   {
    "duration": 445,
    "start_time": "2022-06-16T19:29:17.779Z"
   },
   {
    "duration": 32,
    "start_time": "2022-06-16T19:29:42.779Z"
   },
   {
    "duration": 512,
    "start_time": "2022-06-16T19:29:47.487Z"
   },
   {
    "duration": 438,
    "start_time": "2022-06-16T19:29:56.335Z"
   },
   {
    "duration": 29,
    "start_time": "2022-06-16T19:30:11.538Z"
   },
   {
    "duration": 588,
    "start_time": "2022-06-16T19:30:17.314Z"
   },
   {
    "duration": 63,
    "start_time": "2022-06-16T19:30:25.878Z"
   },
   {
    "duration": 410,
    "start_time": "2022-06-16T19:30:29.146Z"
   },
   {
    "duration": 432,
    "start_time": "2022-06-16T19:37:43.806Z"
   },
   {
    "duration": 297,
    "start_time": "2022-06-16T19:38:14.227Z"
   },
   {
    "duration": 324,
    "start_time": "2022-06-16T19:38:47.338Z"
   },
   {
    "duration": 348,
    "start_time": "2022-06-16T19:39:03.890Z"
   },
   {
    "duration": 451,
    "start_time": "2022-06-16T21:06:34.667Z"
   },
   {
    "duration": 489,
    "start_time": "2022-06-16T21:06:47.417Z"
   },
   {
    "duration": 434,
    "start_time": "2022-06-16T21:07:05.818Z"
   },
   {
    "duration": 190,
    "start_time": "2022-06-16T21:17:28.955Z"
   },
   {
    "duration": 295,
    "start_time": "2022-06-16T21:17:37.568Z"
   },
   {
    "duration": 283,
    "start_time": "2022-06-16T21:17:44.356Z"
   },
   {
    "duration": 480,
    "start_time": "2022-06-16T21:18:41.472Z"
   },
   {
    "duration": 423,
    "start_time": "2022-06-16T21:20:14.575Z"
   },
   {
    "duration": 405,
    "start_time": "2022-06-16T21:20:42.422Z"
   },
   {
    "duration": 202,
    "start_time": "2022-06-16T21:21:15.028Z"
   },
   {
    "duration": 15,
    "start_time": "2022-06-16T21:21:48.124Z"
   },
   {
    "duration": 239,
    "start_time": "2022-06-16T21:22:31.983Z"
   },
   {
    "duration": 198,
    "start_time": "2022-06-16T21:22:41.447Z"
   },
   {
    "duration": 175,
    "start_time": "2022-06-16T21:22:55.044Z"
   },
   {
    "duration": 152,
    "start_time": "2022-06-16T21:23:03.475Z"
   },
   {
    "duration": 199,
    "start_time": "2022-06-16T21:23:17.488Z"
   },
   {
    "duration": 124,
    "start_time": "2022-06-16T21:23:34.544Z"
   },
   {
    "duration": 137,
    "start_time": "2022-06-16T21:23:58.517Z"
   },
   {
    "duration": 229,
    "start_time": "2022-06-16T21:25:06.935Z"
   },
   {
    "duration": 129,
    "start_time": "2022-06-16T21:25:17.735Z"
   },
   {
    "duration": 178,
    "start_time": "2022-06-16T21:25:28.045Z"
   },
   {
    "duration": 151,
    "start_time": "2022-06-16T21:26:30.885Z"
   },
   {
    "duration": 162,
    "start_time": "2022-06-16T21:26:35.908Z"
   },
   {
    "duration": 6,
    "start_time": "2022-06-16T21:27:33.897Z"
   },
   {
    "duration": 12,
    "start_time": "2022-06-16T21:28:03.489Z"
   },
   {
    "duration": 8,
    "start_time": "2022-06-16T21:28:10.573Z"
   },
   {
    "duration": 13,
    "start_time": "2022-06-16T21:28:17.794Z"
   },
   {
    "duration": 10,
    "start_time": "2022-06-16T21:28:29.808Z"
   },
   {
    "duration": 336,
    "start_time": "2022-06-16T21:30:11.365Z"
   },
   {
    "duration": 11,
    "start_time": "2022-06-16T21:31:18.605Z"
   },
   {
    "duration": 179,
    "start_time": "2022-06-16T21:31:27.054Z"
   },
   {
    "duration": 184,
    "start_time": "2022-06-16T21:31:35.265Z"
   },
   {
    "duration": 243,
    "start_time": "2022-06-16T21:32:28.145Z"
   },
   {
    "duration": 346,
    "start_time": "2022-06-16T21:32:54.713Z"
   },
   {
    "duration": 345,
    "start_time": "2022-06-16T21:33:50.445Z"
   },
   {
    "duration": 315,
    "start_time": "2022-06-16T21:33:58.865Z"
   },
   {
    "duration": 347,
    "start_time": "2022-06-16T21:40:27.244Z"
   },
   {
    "duration": 8,
    "start_time": "2022-06-16T21:58:58.347Z"
   },
   {
    "duration": 4,
    "start_time": "2022-06-16T21:59:06.796Z"
   },
   {
    "duration": 12,
    "start_time": "2022-06-16T22:06:19.323Z"
   },
   {
    "duration": 12,
    "start_time": "2022-06-16T22:06:42.803Z"
   },
   {
    "duration": 270,
    "start_time": "2022-06-16T22:07:54.432Z"
   },
   {
    "duration": 334,
    "start_time": "2022-06-16T22:08:11.431Z"
   },
   {
    "duration": 207,
    "start_time": "2022-06-16T22:08:36.487Z"
   },
   {
    "duration": 213,
    "start_time": "2022-06-16T22:08:46.551Z"
   },
   {
    "duration": 4,
    "start_time": "2022-06-16T22:11:19.310Z"
   },
   {
    "duration": 217,
    "start_time": "2022-06-16T22:21:58.820Z"
   },
   {
    "duration": 4,
    "start_time": "2022-06-16T22:25:23.504Z"
   },
   {
    "duration": 1247,
    "start_time": "2022-06-17T10:32:46.490Z"
   },
   {
    "duration": 201,
    "start_time": "2022-06-17T10:32:47.739Z"
   },
   {
    "duration": 3,
    "start_time": "2022-06-17T10:32:47.941Z"
   },
   {
    "duration": 29,
    "start_time": "2022-06-17T10:32:47.946Z"
   },
   {
    "duration": 15,
    "start_time": "2022-06-17T10:32:47.977Z"
   },
   {
    "duration": 14,
    "start_time": "2022-06-17T10:32:47.993Z"
   },
   {
    "duration": 3,
    "start_time": "2022-06-17T10:32:48.008Z"
   },
   {
    "duration": 26,
    "start_time": "2022-06-17T10:32:48.012Z"
   },
   {
    "duration": 19,
    "start_time": "2022-06-17T10:32:48.039Z"
   },
   {
    "duration": 11,
    "start_time": "2022-06-17T10:32:50.481Z"
   },
   {
    "duration": 177,
    "start_time": "2022-06-17T10:48:47.561Z"
   },
   {
    "duration": 214,
    "start_time": "2022-06-17T10:52:30.805Z"
   },
   {
    "duration": 210,
    "start_time": "2022-06-17T10:52:42.933Z"
   },
   {
    "duration": 8,
    "start_time": "2022-06-17T11:04:07.287Z"
   },
   {
    "duration": 85,
    "start_time": "2022-06-17T11:04:07.297Z"
   },
   {
    "duration": 3,
    "start_time": "2022-06-17T11:04:07.384Z"
   },
   {
    "duration": 21,
    "start_time": "2022-06-17T11:04:07.388Z"
   },
   {
    "duration": 16,
    "start_time": "2022-06-17T11:04:07.411Z"
   },
   {
    "duration": 19,
    "start_time": "2022-06-17T11:04:07.429Z"
   },
   {
    "duration": 2,
    "start_time": "2022-06-17T11:04:07.451Z"
   },
   {
    "duration": 18,
    "start_time": "2022-06-17T11:04:07.455Z"
   },
   {
    "duration": 16,
    "start_time": "2022-06-17T11:04:07.474Z"
   },
   {
    "duration": 33,
    "start_time": "2022-06-17T11:05:05.316Z"
   },
   {
    "duration": 9,
    "start_time": "2022-06-17T11:05:23.885Z"
   },
   {
    "duration": 84,
    "start_time": "2022-06-17T11:05:23.897Z"
   },
   {
    "duration": 3,
    "start_time": "2022-06-17T11:05:23.983Z"
   },
   {
    "duration": 19,
    "start_time": "2022-06-17T11:05:23.987Z"
   },
   {
    "duration": 18,
    "start_time": "2022-06-17T11:05:24.008Z"
   },
   {
    "duration": 15,
    "start_time": "2022-06-17T11:05:24.028Z"
   },
   {
    "duration": 3,
    "start_time": "2022-06-17T11:05:24.045Z"
   },
   {
    "duration": 21,
    "start_time": "2022-06-17T11:05:24.050Z"
   },
   {
    "duration": 16,
    "start_time": "2022-06-17T11:05:24.073Z"
   },
   {
    "duration": 41,
    "start_time": "2022-06-17T11:05:24.090Z"
   },
   {
    "duration": 8,
    "start_time": "2022-06-17T11:05:24.133Z"
   },
   {
    "duration": 27,
    "start_time": "2022-06-17T11:05:24.142Z"
   },
   {
    "duration": 17,
    "start_time": "2022-06-17T11:05:24.170Z"
   },
   {
    "duration": 9,
    "start_time": "2022-06-17T11:05:24.188Z"
   },
   {
    "duration": 15,
    "start_time": "2022-06-17T11:05:24.337Z"
   },
   {
    "duration": 11,
    "start_time": "2022-06-17T11:05:24.354Z"
   },
   {
    "duration": 14,
    "start_time": "2022-06-17T11:05:24.367Z"
   },
   {
    "duration": 9,
    "start_time": "2022-06-17T11:05:24.384Z"
   },
   {
    "duration": 169,
    "start_time": "2022-06-17T11:05:24.395Z"
   },
   {
    "duration": 124,
    "start_time": "2022-06-17T11:05:24.566Z"
   },
   {
    "duration": 9,
    "start_time": "2022-06-17T11:05:24.692Z"
   },
   {
    "duration": 374,
    "start_time": "2022-06-17T11:05:24.703Z"
   },
   {
    "duration": 303,
    "start_time": "2022-06-17T11:05:25.079Z"
   },
   {
    "duration": 445,
    "start_time": "2022-06-17T11:05:25.385Z"
   },
   {
    "duration": 289,
    "start_time": "2022-06-17T11:05:25.832Z"
   },
   {
    "duration": 355,
    "start_time": "2022-06-17T11:05:26.125Z"
   },
   {
    "duration": 11,
    "start_time": "2022-06-17T11:05:26.482Z"
   },
   {
    "duration": 348,
    "start_time": "2022-06-17T11:05:26.495Z"
   },
   {
    "duration": 6,
    "start_time": "2022-06-17T11:05:26.844Z"
   },
   {
    "duration": 230,
    "start_time": "2022-06-17T11:05:26.852Z"
   },
   {
    "duration": 4,
    "start_time": "2022-06-17T11:05:27.083Z"
   },
   {
    "duration": 218,
    "start_time": "2022-06-17T11:05:27.089Z"
   },
   {
    "duration": 9,
    "start_time": "2022-06-17T11:30:33.198Z"
   },
   {
    "duration": 81,
    "start_time": "2022-06-17T11:30:33.208Z"
   },
   {
    "duration": 3,
    "start_time": "2022-06-17T11:30:33.290Z"
   },
   {
    "duration": 33,
    "start_time": "2022-06-17T11:30:33.295Z"
   },
   {
    "duration": 20,
    "start_time": "2022-06-17T11:30:33.330Z"
   },
   {
    "duration": 15,
    "start_time": "2022-06-17T11:30:33.351Z"
   },
   {
    "duration": 3,
    "start_time": "2022-06-17T11:30:33.368Z"
   },
   {
    "duration": 53,
    "start_time": "2022-06-17T11:30:33.373Z"
   },
   {
    "duration": 31,
    "start_time": "2022-06-17T11:30:33.428Z"
   },
   {
    "duration": 13,
    "start_time": "2022-06-17T11:30:33.460Z"
   },
   {
    "duration": 11,
    "start_time": "2022-06-17T11:30:33.474Z"
   },
   {
    "duration": 9,
    "start_time": "2022-06-17T11:30:33.486Z"
   },
   {
    "duration": 30,
    "start_time": "2022-06-17T11:30:33.496Z"
   },
   {
    "duration": 10,
    "start_time": "2022-06-17T11:30:33.529Z"
   },
   {
    "duration": 19,
    "start_time": "2022-06-17T11:30:33.540Z"
   },
   {
    "duration": 10,
    "start_time": "2022-06-17T11:30:33.560Z"
   },
   {
    "duration": 9,
    "start_time": "2022-06-17T11:30:33.572Z"
   },
   {
    "duration": 10,
    "start_time": "2022-06-17T11:30:33.583Z"
   },
   {
    "duration": 197,
    "start_time": "2022-06-17T11:30:33.595Z"
   },
   {
    "duration": 123,
    "start_time": "2022-06-17T11:30:33.794Z"
   },
   {
    "duration": 12,
    "start_time": "2022-06-17T11:30:33.926Z"
   },
   {
    "duration": 286,
    "start_time": "2022-06-17T11:30:33.940Z"
   },
   {
    "duration": 277,
    "start_time": "2022-06-17T11:30:34.228Z"
   },
   {
    "duration": 392,
    "start_time": "2022-06-17T11:30:34.508Z"
   },
   {
    "duration": 301,
    "start_time": "2022-06-17T11:30:34.902Z"
   },
   {
    "duration": 375,
    "start_time": "2022-06-17T11:30:35.205Z"
   },
   {
    "duration": 13,
    "start_time": "2022-06-17T11:30:35.582Z"
   },
   {
    "duration": 226,
    "start_time": "2022-06-17T11:30:35.596Z"
   },
   {
    "duration": 4,
    "start_time": "2022-06-17T11:30:35.829Z"
   },
   {
    "duration": 219,
    "start_time": "2022-06-17T11:30:35.835Z"
   },
   {
    "duration": 4,
    "start_time": "2022-06-17T11:30:36.055Z"
   },
   {
    "duration": 216,
    "start_time": "2022-06-17T11:30:36.060Z"
   },
   {
    "duration": 224,
    "start_time": "2022-06-17T11:30:52.269Z"
   },
   {
    "duration": 129,
    "start_time": "2022-06-17T11:34:15.824Z"
   },
   {
    "duration": 165,
    "start_time": "2022-06-17T11:41:00.709Z"
   },
   {
    "duration": 11,
    "start_time": "2022-06-17T11:42:03.318Z"
   },
   {
    "duration": 107,
    "start_time": "2022-06-17T11:42:03.331Z"
   },
   {
    "duration": 4,
    "start_time": "2022-06-17T11:42:03.440Z"
   },
   {
    "duration": 25,
    "start_time": "2022-06-17T11:42:03.446Z"
   },
   {
    "duration": 18,
    "start_time": "2022-06-17T11:42:03.472Z"
   },
   {
    "duration": 14,
    "start_time": "2022-06-17T11:42:03.491Z"
   },
   {
    "duration": 3,
    "start_time": "2022-06-17T11:42:03.506Z"
   },
   {
    "duration": 29,
    "start_time": "2022-06-17T11:42:03.511Z"
   },
   {
    "duration": 32,
    "start_time": "2022-06-17T11:42:03.542Z"
   },
   {
    "duration": 12,
    "start_time": "2022-06-17T11:42:03.576Z"
   },
   {
    "duration": 12,
    "start_time": "2022-06-17T11:42:03.590Z"
   },
   {
    "duration": 24,
    "start_time": "2022-06-17T11:42:03.604Z"
   },
   {
    "duration": 25,
    "start_time": "2022-06-17T11:42:03.633Z"
   },
   {
    "duration": 21,
    "start_time": "2022-06-17T11:42:03.660Z"
   },
   {
    "duration": 15,
    "start_time": "2022-06-17T11:42:03.682Z"
   },
   {
    "duration": 10,
    "start_time": "2022-06-17T11:42:03.698Z"
   },
   {
    "duration": 24,
    "start_time": "2022-06-17T11:42:03.709Z"
   },
   {
    "duration": 20,
    "start_time": "2022-06-17T11:42:03.735Z"
   },
   {
    "duration": 162,
    "start_time": "2022-06-17T11:42:03.757Z"
   },
   {
    "duration": 148,
    "start_time": "2022-06-17T11:42:03.920Z"
   },
   {
    "duration": 8,
    "start_time": "2022-06-17T11:42:04.070Z"
   },
   {
    "duration": 278,
    "start_time": "2022-06-17T11:42:04.079Z"
   },
   {
    "duration": 340,
    "start_time": "2022-06-17T11:42:04.359Z"
   },
   {
    "duration": 392,
    "start_time": "2022-06-17T11:42:04.700Z"
   },
   {
    "duration": 284,
    "start_time": "2022-06-17T11:42:05.094Z"
   },
   {
    "duration": 356,
    "start_time": "2022-06-17T11:42:05.379Z"
   },
   {
    "duration": 29,
    "start_time": "2022-06-17T11:42:05.736Z"
   },
   {
    "duration": 217,
    "start_time": "2022-06-17T11:42:05.766Z"
   },
   {
    "duration": 3,
    "start_time": "2022-06-17T11:42:05.985Z"
   },
   {
    "duration": 206,
    "start_time": "2022-06-17T11:42:05.990Z"
   },
   {
    "duration": 4,
    "start_time": "2022-06-17T11:42:06.197Z"
   },
   {
    "duration": 221,
    "start_time": "2022-06-17T11:42:06.203Z"
   },
   {
    "duration": 144,
    "start_time": "2022-06-17T11:42:08.597Z"
   },
   {
    "duration": 153,
    "start_time": "2022-06-17T11:42:31.525Z"
   },
   {
    "duration": 45,
    "start_time": "2022-06-17T15:43:41.001Z"
   },
   {
    "duration": 8,
    "start_time": "2022-06-17T15:43:46.742Z"
   },
   {
    "duration": 1352,
    "start_time": "2022-06-17T15:44:00.828Z"
   },
   {
    "duration": 197,
    "start_time": "2022-06-17T15:44:02.182Z"
   },
   {
    "duration": 3,
    "start_time": "2022-06-17T15:44:02.381Z"
   },
   {
    "duration": 36,
    "start_time": "2022-06-17T15:44:02.385Z"
   },
   {
    "duration": 16,
    "start_time": "2022-06-17T15:44:02.424Z"
   },
   {
    "duration": 14,
    "start_time": "2022-06-17T15:44:02.441Z"
   },
   {
    "duration": 3,
    "start_time": "2022-06-17T15:44:02.457Z"
   },
   {
    "duration": 20,
    "start_time": "2022-06-17T15:44:02.461Z"
   },
   {
    "duration": 16,
    "start_time": "2022-06-17T15:44:02.483Z"
   },
   {
    "duration": 12,
    "start_time": "2022-06-17T15:44:02.500Z"
   },
   {
    "duration": 14,
    "start_time": "2022-06-17T15:44:02.513Z"
   },
   {
    "duration": 32,
    "start_time": "2022-06-17T15:44:02.529Z"
   },
   {
    "duration": 16,
    "start_time": "2022-06-17T15:44:02.563Z"
   },
   {
    "duration": 8,
    "start_time": "2022-06-17T15:44:02.582Z"
   },
   {
    "duration": 16,
    "start_time": "2022-06-17T15:44:02.592Z"
   },
   {
    "duration": 10,
    "start_time": "2022-06-17T15:44:02.610Z"
   },
   {
    "duration": 12,
    "start_time": "2022-06-17T15:44:02.621Z"
   },
   {
    "duration": 31,
    "start_time": "2022-06-17T15:44:02.634Z"
   },
   {
    "duration": 170,
    "start_time": "2022-06-17T15:44:02.667Z"
   },
   {
    "duration": 138,
    "start_time": "2022-06-17T15:44:02.839Z"
   },
   {
    "duration": 9,
    "start_time": "2022-06-17T15:44:02.979Z"
   },
   {
    "duration": 372,
    "start_time": "2022-06-17T15:44:02.990Z"
   },
   {
    "duration": 301,
    "start_time": "2022-06-17T15:44:03.363Z"
   },
   {
    "duration": 409,
    "start_time": "2022-06-17T15:44:03.666Z"
   },
   {
    "duration": 282,
    "start_time": "2022-06-17T15:44:04.078Z"
   },
   {
    "duration": 346,
    "start_time": "2022-06-17T15:44:04.362Z"
   },
   {
    "duration": 12,
    "start_time": "2022-06-17T15:44:04.709Z"
   },
   {
    "duration": 230,
    "start_time": "2022-06-17T15:44:04.723Z"
   },
   {
    "duration": 4,
    "start_time": "2022-06-17T15:44:04.959Z"
   },
   {
    "duration": 281,
    "start_time": "2022-06-17T15:44:04.965Z"
   },
   {
    "duration": 13,
    "start_time": "2022-06-17T15:44:05.247Z"
   },
   {
    "duration": 202,
    "start_time": "2022-06-17T15:44:05.262Z"
   },
   {
    "duration": 160,
    "start_time": "2022-06-17T15:44:05.465Z"
   },
   {
    "duration": 9,
    "start_time": "2022-06-17T15:44:07.103Z"
   },
   {
    "duration": 11,
    "start_time": "2022-06-17T16:08:31.081Z"
   },
   {
    "duration": 8,
    "start_time": "2022-06-17T16:09:04.420Z"
   },
   {
    "duration": 9,
    "start_time": "2022-06-17T16:09:21.278Z"
   },
   {
    "duration": 9,
    "start_time": "2022-06-17T16:09:27.838Z"
   },
   {
    "duration": 45,
    "start_time": "2022-06-17T17:29:41.519Z"
   },
   {
    "duration": 1293,
    "start_time": "2022-06-17T17:29:49.531Z"
   },
   {
    "duration": 198,
    "start_time": "2022-06-17T17:29:50.826Z"
   },
   {
    "duration": 2,
    "start_time": "2022-06-17T17:29:51.026Z"
   },
   {
    "duration": 29,
    "start_time": "2022-06-17T17:29:51.030Z"
   },
   {
    "duration": 18,
    "start_time": "2022-06-17T17:29:51.061Z"
   },
   {
    "duration": 14,
    "start_time": "2022-06-17T17:29:51.081Z"
   },
   {
    "duration": 3,
    "start_time": "2022-06-17T17:29:51.097Z"
   },
   {
    "duration": 38,
    "start_time": "2022-06-17T17:29:51.102Z"
   },
   {
    "duration": 17,
    "start_time": "2022-06-17T17:29:51.142Z"
   },
   {
    "duration": 13,
    "start_time": "2022-06-17T17:29:51.161Z"
   },
   {
    "duration": 11,
    "start_time": "2022-06-17T17:29:51.176Z"
   },
   {
    "duration": 36,
    "start_time": "2022-06-17T17:29:51.189Z"
   },
   {
    "duration": 13,
    "start_time": "2022-06-17T17:29:51.227Z"
   },
   {
    "duration": 12,
    "start_time": "2022-06-17T17:29:51.243Z"
   },
   {
    "duration": 14,
    "start_time": "2022-06-17T17:29:51.256Z"
   },
   {
    "duration": 11,
    "start_time": "2022-06-17T17:29:51.271Z"
   },
   {
    "duration": 17,
    "start_time": "2022-06-17T17:29:51.283Z"
   },
   {
    "duration": 31,
    "start_time": "2022-06-17T17:29:51.301Z"
   },
   {
    "duration": 159,
    "start_time": "2022-06-17T17:29:51.333Z"
   },
   {
    "duration": 136,
    "start_time": "2022-06-17T17:29:51.494Z"
   },
   {
    "duration": 8,
    "start_time": "2022-06-17T17:29:51.631Z"
   },
   {
    "duration": 342,
    "start_time": "2022-06-17T17:29:51.640Z"
   },
   {
    "duration": 310,
    "start_time": "2022-06-17T17:29:51.984Z"
   },
   {
    "duration": 413,
    "start_time": "2022-06-17T17:29:52.296Z"
   },
   {
    "duration": 269,
    "start_time": "2022-06-17T17:29:52.711Z"
   },
   {
    "duration": 338,
    "start_time": "2022-06-17T17:29:52.982Z"
   },
   {
    "duration": 10,
    "start_time": "2022-06-17T17:29:53.325Z"
   },
   {
    "duration": 228,
    "start_time": "2022-06-17T17:29:53.337Z"
   },
   {
    "duration": 4,
    "start_time": "2022-06-17T17:29:53.567Z"
   },
   {
    "duration": 286,
    "start_time": "2022-06-17T17:29:53.572Z"
   },
   {
    "duration": 4,
    "start_time": "2022-06-17T17:29:53.860Z"
   },
   {
    "duration": 262,
    "start_time": "2022-06-17T17:29:53.865Z"
   },
   {
    "duration": 153,
    "start_time": "2022-06-17T17:29:54.129Z"
   },
   {
    "duration": 9,
    "start_time": "2022-06-17T17:29:54.284Z"
   },
   {
    "duration": 14,
    "start_time": "2022-06-17T17:29:54.295Z"
   },
   {
    "duration": 10,
    "start_time": "2022-06-17T17:29:56.480Z"
   },
   {
    "duration": 24,
    "start_time": "2022-06-17T17:30:26.763Z"
   },
   {
    "duration": 12,
    "start_time": "2022-06-17T17:30:51.619Z"
   },
   {
    "duration": 1059,
    "start_time": "2022-06-17T18:39:48.335Z"
   },
   {
    "duration": 73,
    "start_time": "2022-06-17T18:39:49.396Z"
   },
   {
    "duration": 3,
    "start_time": "2022-06-17T18:39:49.471Z"
   },
   {
    "duration": 21,
    "start_time": "2022-06-17T18:39:49.476Z"
   },
   {
    "duration": 16,
    "start_time": "2022-06-17T18:39:49.499Z"
   },
   {
    "duration": 17,
    "start_time": "2022-06-17T18:39:49.516Z"
   },
   {
    "duration": 3,
    "start_time": "2022-06-17T18:39:49.535Z"
   },
   {
    "duration": 22,
    "start_time": "2022-06-17T18:39:49.540Z"
   },
   {
    "duration": 15,
    "start_time": "2022-06-17T18:39:49.564Z"
   },
   {
    "duration": 12,
    "start_time": "2022-06-17T18:39:49.580Z"
   },
   {
    "duration": 38,
    "start_time": "2022-06-17T18:39:49.593Z"
   },
   {
    "duration": 7,
    "start_time": "2022-06-17T18:39:49.633Z"
   },
   {
    "duration": 12,
    "start_time": "2022-06-17T18:39:49.641Z"
   },
   {
    "duration": 7,
    "start_time": "2022-06-17T18:39:49.656Z"
   },
   {
    "duration": 12,
    "start_time": "2022-06-17T18:39:49.665Z"
   },
   {
    "duration": 9,
    "start_time": "2022-06-17T18:39:49.678Z"
   },
   {
    "duration": 40,
    "start_time": "2022-06-17T18:39:49.689Z"
   },
   {
    "duration": 8,
    "start_time": "2022-06-17T18:39:49.730Z"
   },
   {
    "duration": 164,
    "start_time": "2022-06-17T18:39:49.740Z"
   },
   {
    "duration": 134,
    "start_time": "2022-06-17T18:39:49.905Z"
   },
   {
    "duration": 9,
    "start_time": "2022-06-17T18:39:50.040Z"
   },
   {
    "duration": 334,
    "start_time": "2022-06-17T18:39:50.050Z"
   },
   {
    "duration": 293,
    "start_time": "2022-06-17T18:39:50.386Z"
   },
   {
    "duration": 347,
    "start_time": "2022-06-17T18:39:50.680Z"
   },
   {
    "duration": 273,
    "start_time": "2022-06-17T18:39:51.029Z"
   },
   {
    "duration": 352,
    "start_time": "2022-06-17T18:39:51.304Z"
   },
   {
    "duration": 11,
    "start_time": "2022-06-17T18:39:51.657Z"
   },
   {
    "duration": 217,
    "start_time": "2022-06-17T18:39:51.669Z"
   },
   {
    "duration": 4,
    "start_time": "2022-06-17T18:39:51.925Z"
   },
   {
    "duration": 531,
    "start_time": "2022-06-17T18:39:51.931Z"
   },
   {
    "duration": 4,
    "start_time": "2022-06-17T18:39:52.463Z"
   },
   {
    "duration": 471,
    "start_time": "2022-06-17T18:39:52.468Z"
   },
   {
    "duration": 285,
    "start_time": "2022-06-17T18:39:52.940Z"
   },
   {
    "duration": 10,
    "start_time": "2022-06-17T18:39:53.227Z"
   },
   {
    "duration": 19,
    "start_time": "2022-06-17T18:39:53.239Z"
   },
   {
    "duration": 21,
    "start_time": "2022-06-17T18:39:53.260Z"
   },
   {
    "duration": 20,
    "start_time": "2022-06-17T18:39:53.325Z"
   },
   {
    "duration": 17,
    "start_time": "2022-06-17T18:39:53.347Z"
   },
   {
    "duration": 1465,
    "start_time": "2022-06-17T20:47:04.812Z"
   },
   {
    "duration": 230,
    "start_time": "2022-06-17T20:47:06.280Z"
   },
   {
    "duration": 5,
    "start_time": "2022-06-17T20:47:06.514Z"
   },
   {
    "duration": 76,
    "start_time": "2022-06-17T20:47:06.522Z"
   },
   {
    "duration": 34,
    "start_time": "2022-06-17T20:47:06.601Z"
   },
   {
    "duration": 34,
    "start_time": "2022-06-17T20:47:06.638Z"
   },
   {
    "duration": 5,
    "start_time": "2022-06-17T20:47:06.674Z"
   },
   {
    "duration": 51,
    "start_time": "2022-06-17T20:47:06.682Z"
   },
   {
    "duration": 41,
    "start_time": "2022-06-17T20:47:06.736Z"
   },
   {
    "duration": 24,
    "start_time": "2022-06-17T20:47:06.780Z"
   },
   {
    "duration": 16,
    "start_time": "2022-06-17T20:47:06.829Z"
   },
   {
    "duration": 24,
    "start_time": "2022-06-17T20:47:06.847Z"
   },
   {
    "duration": 24,
    "start_time": "2022-06-17T20:47:06.874Z"
   },
   {
    "duration": 30,
    "start_time": "2022-06-17T20:47:06.927Z"
   },
   {
    "duration": 26,
    "start_time": "2022-06-17T20:47:06.960Z"
   },
   {
    "duration": 16,
    "start_time": "2022-06-17T20:47:06.988Z"
   },
   {
    "duration": 32,
    "start_time": "2022-06-17T20:47:07.007Z"
   },
   {
    "duration": 21,
    "start_time": "2022-06-17T20:47:07.042Z"
   },
   {
    "duration": 263,
    "start_time": "2022-06-17T20:47:07.066Z"
   },
   {
    "duration": 173,
    "start_time": "2022-06-17T20:47:07.331Z"
   },
   {
    "duration": 25,
    "start_time": "2022-06-17T20:47:07.507Z"
   },
   {
    "duration": 451,
    "start_time": "2022-06-17T20:47:07.534Z"
   },
   {
    "duration": 428,
    "start_time": "2022-06-17T20:47:07.987Z"
   },
   {
    "duration": 486,
    "start_time": "2022-06-17T20:47:08.418Z"
   },
   {
    "duration": 382,
    "start_time": "2022-06-17T20:47:08.906Z"
   },
   {
    "duration": 465,
    "start_time": "2022-06-17T20:47:09.290Z"
   },
   {
    "duration": 15,
    "start_time": "2022-06-17T20:47:09.757Z"
   },
   {
    "duration": 311,
    "start_time": "2022-06-17T20:47:09.774Z"
   },
   {
    "duration": 5,
    "start_time": "2022-06-17T20:47:10.087Z"
   },
   {
    "duration": 394,
    "start_time": "2022-06-17T20:47:10.094Z"
   },
   {
    "duration": 5,
    "start_time": "2022-06-17T20:47:10.490Z"
   },
   {
    "duration": 338,
    "start_time": "2022-06-17T20:47:10.497Z"
   },
   {
    "duration": 209,
    "start_time": "2022-06-17T20:47:10.838Z"
   },
   {
    "duration": 18,
    "start_time": "2022-06-17T20:47:11.050Z"
   },
   {
    "duration": 23,
    "start_time": "2022-06-17T20:47:11.070Z"
   },
   {
    "duration": 31,
    "start_time": "2022-06-17T20:47:11.095Z"
   },
   {
    "duration": 27,
    "start_time": "2022-06-17T20:47:11.129Z"
   },
   {
    "duration": 19,
    "start_time": "2022-06-17T20:47:11.158Z"
   },
   {
    "duration": 51,
    "start_time": "2022-06-17T20:54:11.414Z"
   },
   {
    "duration": 61,
    "start_time": "2022-06-17T21:19:18.689Z"
   },
   {
    "duration": 1563,
    "start_time": "2022-06-17T21:19:24.918Z"
   },
   {
    "duration": 237,
    "start_time": "2022-06-17T21:19:26.483Z"
   },
   {
    "duration": 7,
    "start_time": "2022-06-17T21:19:26.724Z"
   },
   {
    "duration": 96,
    "start_time": "2022-06-17T21:19:26.738Z"
   },
   {
    "duration": 34,
    "start_time": "2022-06-17T21:19:26.837Z"
   },
   {
    "duration": 27,
    "start_time": "2022-06-17T21:19:26.873Z"
   },
   {
    "duration": 31,
    "start_time": "2022-06-17T21:19:26.902Z"
   },
   {
    "duration": 56,
    "start_time": "2022-06-17T21:19:26.935Z"
   },
   {
    "duration": 27,
    "start_time": "2022-06-17T21:19:26.994Z"
   },
   {
    "duration": 31,
    "start_time": "2022-06-17T21:19:27.023Z"
   },
   {
    "duration": 12,
    "start_time": "2022-06-17T21:19:30.401Z"
   },
   {
    "duration": 12,
    "start_time": "2022-06-17T21:20:16.081Z"
   },
   {
    "duration": 1344,
    "start_time": "2022-06-18T11:10:50.203Z"
   },
   {
    "duration": 194,
    "start_time": "2022-06-18T11:10:51.549Z"
   },
   {
    "duration": 4,
    "start_time": "2022-06-18T11:10:51.744Z"
   },
   {
    "duration": 25,
    "start_time": "2022-06-18T11:10:51.749Z"
   },
   {
    "duration": 18,
    "start_time": "2022-06-18T11:10:51.776Z"
   },
   {
    "duration": 16,
    "start_time": "2022-06-18T11:10:51.796Z"
   },
   {
    "duration": 29,
    "start_time": "2022-06-18T11:10:51.813Z"
   },
   {
    "duration": 19,
    "start_time": "2022-06-18T11:10:51.844Z"
   },
   {
    "duration": 19,
    "start_time": "2022-06-18T11:10:51.865Z"
   },
   {
    "duration": 16,
    "start_time": "2022-06-18T11:10:51.886Z"
   },
   {
    "duration": 52,
    "start_time": "2022-06-18T11:10:51.904Z"
   },
   {
    "duration": 11,
    "start_time": "2022-06-18T11:10:51.958Z"
   },
   {
    "duration": 96,
    "start_time": "2022-06-18T11:12:14.349Z"
   },
   {
    "duration": 10,
    "start_time": "2022-06-18T11:12:24.225Z"
   },
   {
    "duration": 10,
    "start_time": "2022-06-18T11:13:15.852Z"
   },
   {
    "duration": 13,
    "start_time": "2022-06-18T11:13:42.046Z"
   },
   {
    "duration": 19,
    "start_time": "2022-06-18T11:14:58.184Z"
   },
   {
    "duration": 11,
    "start_time": "2022-06-18T11:16:45.945Z"
   },
   {
    "duration": 11,
    "start_time": "2022-06-18T11:17:11.724Z"
   },
   {
    "duration": 11,
    "start_time": "2022-06-18T11:17:15.144Z"
   },
   {
    "duration": 13,
    "start_time": "2022-06-18T11:17:54.285Z"
   },
   {
    "duration": 15,
    "start_time": "2022-06-18T11:18:21.823Z"
   },
   {
    "duration": 74,
    "start_time": "2022-06-18T11:29:48.954Z"
   },
   {
    "duration": 22,
    "start_time": "2022-06-18T11:30:37.805Z"
   },
   {
    "duration": 14,
    "start_time": "2022-06-18T11:31:18.449Z"
   },
   {
    "duration": 12,
    "start_time": "2022-06-18T11:31:26.639Z"
   },
   {
    "duration": 11,
    "start_time": "2022-06-18T11:32:23.808Z"
   },
   {
    "duration": 20,
    "start_time": "2022-06-18T11:32:35.931Z"
   },
   {
    "duration": 18,
    "start_time": "2022-06-18T11:32:56.964Z"
   },
   {
    "duration": 20,
    "start_time": "2022-06-18T11:33:04.600Z"
   },
   {
    "duration": 22,
    "start_time": "2022-06-18T11:33:45.127Z"
   },
   {
    "duration": 456,
    "start_time": "2022-06-18T11:33:56.407Z"
   },
   {
    "duration": 22,
    "start_time": "2022-06-18T11:34:15.707Z"
   },
   {
    "duration": 4,
    "start_time": "2022-06-18T11:34:33.048Z"
   },
   {
    "duration": 21,
    "start_time": "2022-06-18T11:34:37.367Z"
   },
   {
    "duration": 20,
    "start_time": "2022-06-18T11:34:56.048Z"
   },
   {
    "duration": 21,
    "start_time": "2022-06-18T11:38:56.170Z"
   },
   {
    "duration": 17,
    "start_time": "2022-06-18T11:39:32.377Z"
   },
   {
    "duration": 34,
    "start_time": "2022-06-18T11:45:18.228Z"
   },
   {
    "duration": 61,
    "start_time": "2022-06-18T11:45:43.180Z"
   },
   {
    "duration": 25,
    "start_time": "2022-06-18T11:46:09.768Z"
   },
   {
    "duration": 9,
    "start_time": "2022-06-18T11:55:25.298Z"
   },
   {
    "duration": 86,
    "start_time": "2022-06-18T11:55:25.309Z"
   },
   {
    "duration": 3,
    "start_time": "2022-06-18T11:55:25.397Z"
   },
   {
    "duration": 18,
    "start_time": "2022-06-18T11:55:25.401Z"
   },
   {
    "duration": 23,
    "start_time": "2022-06-18T11:55:25.421Z"
   },
   {
    "duration": 22,
    "start_time": "2022-06-18T11:55:25.446Z"
   },
   {
    "duration": 4,
    "start_time": "2022-06-18T11:55:25.469Z"
   },
   {
    "duration": 19,
    "start_time": "2022-06-18T11:55:25.474Z"
   },
   {
    "duration": 49,
    "start_time": "2022-06-18T11:55:25.495Z"
   },
   {
    "duration": 16,
    "start_time": "2022-06-18T11:55:25.545Z"
   },
   {
    "duration": 13,
    "start_time": "2022-06-18T11:55:25.562Z"
   },
   {
    "duration": 13,
    "start_time": "2022-06-18T11:55:25.576Z"
   },
   {
    "duration": 21,
    "start_time": "2022-06-18T11:55:25.590Z"
   },
   {
    "duration": 36,
    "start_time": "2022-06-18T11:55:25.613Z"
   },
   {
    "duration": 10,
    "start_time": "2022-06-18T11:55:25.651Z"
   },
   {
    "duration": 14,
    "start_time": "2022-06-18T11:55:25.663Z"
   },
   {
    "duration": 11,
    "start_time": "2022-06-18T11:55:25.678Z"
   },
   {
    "duration": 11,
    "start_time": "2022-06-18T11:55:25.690Z"
   },
   {
    "duration": 40,
    "start_time": "2022-06-18T11:55:25.703Z"
   },
   {
    "duration": 174,
    "start_time": "2022-06-18T11:55:25.745Z"
   },
   {
    "duration": 134,
    "start_time": "2022-06-18T11:55:25.921Z"
   },
   {
    "duration": 10,
    "start_time": "2022-06-18T11:55:26.057Z"
   },
   {
    "duration": 36,
    "start_time": "2022-06-18T11:55:29.634Z"
   },
   {
    "duration": 351,
    "start_time": "2022-06-18T11:55:35.874Z"
   },
   {
    "duration": 46,
    "start_time": "2022-06-18T11:56:53.501Z"
   },
   {
    "duration": 280,
    "start_time": "2022-06-18T11:57:00.935Z"
   },
   {
    "duration": 282,
    "start_time": "2022-06-18T11:57:06.914Z"
   },
   {
    "duration": 272,
    "start_time": "2022-06-18T11:57:49.993Z"
   },
   {
    "duration": 287,
    "start_time": "2022-06-18T11:58:54.933Z"
   },
   {
    "duration": 277,
    "start_time": "2022-06-18T11:59:10.034Z"
   },
   {
    "duration": 349,
    "start_time": "2022-06-18T11:59:31.370Z"
   },
   {
    "duration": 262,
    "start_time": "2022-06-18T12:00:54.753Z"
   },
   {
    "duration": 269,
    "start_time": "2022-06-18T12:01:38.594Z"
   },
   {
    "duration": 36,
    "start_time": "2022-06-18T12:06:17.733Z"
   },
   {
    "duration": 336,
    "start_time": "2022-06-18T12:07:41.865Z"
   },
   {
    "duration": 351,
    "start_time": "2022-06-18T12:07:56.734Z"
   },
   {
    "duration": 307,
    "start_time": "2022-06-18T12:08:24.425Z"
   },
   {
    "duration": 232,
    "start_time": "2022-06-18T12:11:04.653Z"
   },
   {
    "duration": 256,
    "start_time": "2022-06-18T12:13:10.955Z"
   },
   {
    "duration": 251,
    "start_time": "2022-06-18T12:13:26.227Z"
   },
   {
    "duration": 252,
    "start_time": "2022-06-18T12:13:49.427Z"
   },
   {
    "duration": 379,
    "start_time": "2022-06-18T12:28:19.055Z"
   },
   {
    "duration": 499,
    "start_time": "2022-06-18T12:28:37.817Z"
   },
   {
    "duration": 409,
    "start_time": "2022-06-18T12:28:47.275Z"
   },
   {
    "duration": 346,
    "start_time": "2022-06-18T12:29:04.175Z"
   },
   {
    "duration": 346,
    "start_time": "2022-06-18T12:29:57.416Z"
   },
   {
    "duration": 396,
    "start_time": "2022-06-18T12:30:02.096Z"
   },
   {
    "duration": 17,
    "start_time": "2022-06-18T12:31:25.328Z"
   },
   {
    "duration": 378,
    "start_time": "2022-06-18T12:31:31.800Z"
   },
   {
    "duration": 360,
    "start_time": "2022-06-18T12:31:47.087Z"
   },
   {
    "duration": 350,
    "start_time": "2022-06-18T12:32:21.461Z"
   },
   {
    "duration": 163,
    "start_time": "2022-06-18T12:32:44.254Z"
   },
   {
    "duration": 363,
    "start_time": "2022-06-18T12:33:22.249Z"
   },
   {
    "duration": 320,
    "start_time": "2022-06-18T12:33:51.999Z"
   },
   {
    "duration": 435,
    "start_time": "2022-06-18T12:35:32.500Z"
   },
   {
    "duration": 357,
    "start_time": "2022-06-18T12:36:01.981Z"
   },
   {
    "duration": 368,
    "start_time": "2022-06-18T12:37:20.959Z"
   },
   {
    "duration": 385,
    "start_time": "2022-06-18T12:37:41.440Z"
   },
   {
    "duration": 360,
    "start_time": "2022-06-18T12:37:55.261Z"
   },
   {
    "duration": 376,
    "start_time": "2022-06-18T12:38:46.480Z"
   },
   {
    "duration": 180,
    "start_time": "2022-06-18T12:41:34.959Z"
   },
   {
    "duration": 126,
    "start_time": "2022-06-18T12:41:42.680Z"
   },
   {
    "duration": 9,
    "start_time": "2022-06-18T12:42:01.193Z"
   },
   {
    "duration": 88,
    "start_time": "2022-06-18T12:42:01.204Z"
   },
   {
    "duration": 3,
    "start_time": "2022-06-18T12:42:01.293Z"
   },
   {
    "duration": 29,
    "start_time": "2022-06-18T12:42:01.298Z"
   },
   {
    "duration": 18,
    "start_time": "2022-06-18T12:42:01.329Z"
   },
   {
    "duration": 19,
    "start_time": "2022-06-18T12:42:01.348Z"
   },
   {
    "duration": 5,
    "start_time": "2022-06-18T12:42:01.369Z"
   },
   {
    "duration": 21,
    "start_time": "2022-06-18T12:42:01.376Z"
   },
   {
    "duration": 44,
    "start_time": "2022-06-18T12:42:01.398Z"
   },
   {
    "duration": 15,
    "start_time": "2022-06-18T12:42:01.444Z"
   },
   {
    "duration": 39,
    "start_time": "2022-06-18T12:42:01.461Z"
   },
   {
    "duration": 17,
    "start_time": "2022-06-18T12:42:01.501Z"
   },
   {
    "duration": 24,
    "start_time": "2022-06-18T12:42:01.519Z"
   },
   {
    "duration": 31,
    "start_time": "2022-06-18T12:42:01.546Z"
   },
   {
    "duration": 14,
    "start_time": "2022-06-18T12:42:01.578Z"
   },
   {
    "duration": 15,
    "start_time": "2022-06-18T12:42:01.594Z"
   },
   {
    "duration": 27,
    "start_time": "2022-06-18T12:42:01.611Z"
   },
   {
    "duration": 34,
    "start_time": "2022-06-18T12:42:01.639Z"
   },
   {
    "duration": 12,
    "start_time": "2022-06-18T12:42:01.674Z"
   },
   {
    "duration": 197,
    "start_time": "2022-06-18T12:42:01.687Z"
   },
   {
    "duration": 169,
    "start_time": "2022-06-18T12:42:01.886Z"
   },
   {
    "duration": 17,
    "start_time": "2022-06-18T12:42:02.057Z"
   },
   {
    "duration": 355,
    "start_time": "2022-06-18T12:42:02.076Z"
   },
   {
    "duration": 369,
    "start_time": "2022-06-18T12:42:02.433Z"
   },
   {
    "duration": 145,
    "start_time": "2022-06-18T12:42:03.563Z"
   },
   {
    "duration": 393,
    "start_time": "2022-06-18T12:42:25.920Z"
   },
   {
    "duration": 189,
    "start_time": "2022-06-18T12:42:29.601Z"
   },
   {
    "duration": 490,
    "start_time": "2022-06-18T12:43:09.519Z"
   },
   {
    "duration": 16,
    "start_time": "2022-06-18T12:43:30.432Z"
   },
   {
    "duration": 118,
    "start_time": "2022-06-18T12:43:30.450Z"
   },
   {
    "duration": 3,
    "start_time": "2022-06-18T12:43:30.570Z"
   },
   {
    "duration": 42,
    "start_time": "2022-06-18T12:43:30.575Z"
   },
   {
    "duration": 36,
    "start_time": "2022-06-18T12:43:30.620Z"
   },
   {
    "duration": 39,
    "start_time": "2022-06-18T12:43:30.658Z"
   },
   {
    "duration": 3,
    "start_time": "2022-06-18T12:43:30.700Z"
   },
   {
    "duration": 35,
    "start_time": "2022-06-18T12:43:30.705Z"
   },
   {
    "duration": 38,
    "start_time": "2022-06-18T12:43:30.742Z"
   },
   {
    "duration": 33,
    "start_time": "2022-06-18T12:43:30.782Z"
   },
   {
    "duration": 20,
    "start_time": "2022-06-18T12:43:30.819Z"
   },
   {
    "duration": 35,
    "start_time": "2022-06-18T12:43:30.841Z"
   },
   {
    "duration": 30,
    "start_time": "2022-06-18T12:43:30.877Z"
   },
   {
    "duration": 14,
    "start_time": "2022-06-18T12:43:30.908Z"
   },
   {
    "duration": 18,
    "start_time": "2022-06-18T12:43:30.924Z"
   },
   {
    "duration": 25,
    "start_time": "2022-06-18T12:43:30.946Z"
   },
   {
    "duration": 15,
    "start_time": "2022-06-18T12:43:30.973Z"
   },
   {
    "duration": 21,
    "start_time": "2022-06-18T12:43:30.990Z"
   },
   {
    "duration": 24,
    "start_time": "2022-06-18T12:43:31.013Z"
   },
   {
    "duration": 197,
    "start_time": "2022-06-18T12:43:31.038Z"
   },
   {
    "duration": 142,
    "start_time": "2022-06-18T12:43:31.237Z"
   },
   {
    "duration": 14,
    "start_time": "2022-06-18T12:43:31.380Z"
   },
   {
    "duration": 368,
    "start_time": "2022-06-18T12:43:31.396Z"
   },
   {
    "duration": 467,
    "start_time": "2022-06-18T12:43:33.980Z"
   },
   {
    "duration": 525,
    "start_time": "2022-06-18T12:43:35.920Z"
   },
   {
    "duration": 511,
    "start_time": "2022-06-18T12:43:44.507Z"
   },
   {
    "duration": 402,
    "start_time": "2022-06-18T12:43:50.854Z"
   },
   {
    "duration": 402,
    "start_time": "2022-06-18T12:44:47.800Z"
   },
   {
    "duration": 6,
    "start_time": "2022-06-18T12:45:59.420Z"
   },
   {
    "duration": 406,
    "start_time": "2022-06-18T12:46:20.688Z"
   },
   {
    "duration": 425,
    "start_time": "2022-06-18T12:48:04.881Z"
   },
   {
    "duration": 478,
    "start_time": "2022-06-18T12:48:37.654Z"
   },
   {
    "duration": 438,
    "start_time": "2022-06-18T12:48:53.672Z"
   },
   {
    "duration": 321,
    "start_time": "2022-06-18T12:50:36.261Z"
   },
   {
    "duration": 424,
    "start_time": "2022-06-18T12:52:35.913Z"
   },
   {
    "duration": 236,
    "start_time": "2022-06-18T12:54:08.154Z"
   },
   {
    "duration": 12,
    "start_time": "2022-06-18T13:01:08.871Z"
   },
   {
    "duration": 14,
    "start_time": "2022-06-18T13:01:15.222Z"
   },
   {
    "duration": 89,
    "start_time": "2022-06-18T13:01:15.238Z"
   },
   {
    "duration": 4,
    "start_time": "2022-06-18T13:01:15.329Z"
   },
   {
    "duration": 36,
    "start_time": "2022-06-18T13:01:15.335Z"
   },
   {
    "duration": 19,
    "start_time": "2022-06-18T13:01:15.373Z"
   },
   {
    "duration": 18,
    "start_time": "2022-06-18T13:01:15.393Z"
   },
   {
    "duration": 8,
    "start_time": "2022-06-18T13:01:15.413Z"
   },
   {
    "duration": 32,
    "start_time": "2022-06-18T13:01:15.422Z"
   },
   {
    "duration": 20,
    "start_time": "2022-06-18T13:01:15.456Z"
   },
   {
    "duration": 15,
    "start_time": "2022-06-18T13:01:15.477Z"
   },
   {
    "duration": 12,
    "start_time": "2022-06-18T13:01:15.494Z"
   },
   {
    "duration": 14,
    "start_time": "2022-06-18T13:01:15.541Z"
   },
   {
    "duration": 20,
    "start_time": "2022-06-18T13:01:15.557Z"
   },
   {
    "duration": 11,
    "start_time": "2022-06-18T13:01:15.579Z"
   },
   {
    "duration": 16,
    "start_time": "2022-06-18T13:01:15.591Z"
   },
   {
    "duration": 34,
    "start_time": "2022-06-18T13:01:15.609Z"
   },
   {
    "duration": 12,
    "start_time": "2022-06-18T13:01:15.644Z"
   },
   {
    "duration": 11,
    "start_time": "2022-06-18T13:01:15.658Z"
   },
   {
    "duration": 10,
    "start_time": "2022-06-18T13:01:15.671Z"
   },
   {
    "duration": 194,
    "start_time": "2022-06-18T13:01:15.682Z"
   },
   {
    "duration": 176,
    "start_time": "2022-06-18T13:01:15.878Z"
   },
   {
    "duration": 12,
    "start_time": "2022-06-18T13:01:16.056Z"
   },
   {
    "duration": 372,
    "start_time": "2022-06-18T13:01:16.070Z"
   },
   {
    "duration": 537,
    "start_time": "2022-06-18T13:01:16.444Z"
   },
   {
    "duration": 489,
    "start_time": "2022-06-18T13:01:16.983Z"
   },
   {
    "duration": 348,
    "start_time": "2022-06-18T13:01:17.474Z"
   },
   {
    "duration": 446,
    "start_time": "2022-06-18T13:01:17.823Z"
   },
   {
    "duration": 13,
    "start_time": "2022-06-18T13:01:18.285Z"
   },
   {
    "duration": 302,
    "start_time": "2022-06-18T13:01:18.661Z"
   },
   {
    "duration": 255,
    "start_time": "2022-06-18T13:02:24.821Z"
   },
   {
    "duration": 265,
    "start_time": "2022-06-18T13:02:38.657Z"
   },
   {
    "duration": 10,
    "start_time": "2022-06-18T13:28:49.445Z"
   },
   {
    "duration": 80,
    "start_time": "2022-06-18T13:28:49.477Z"
   },
   {
    "duration": 4,
    "start_time": "2022-06-18T13:28:49.559Z"
   },
   {
    "duration": 19,
    "start_time": "2022-06-18T13:28:49.564Z"
   },
   {
    "duration": 19,
    "start_time": "2022-06-18T13:28:49.585Z"
   },
   {
    "duration": 17,
    "start_time": "2022-06-18T13:28:49.605Z"
   },
   {
    "duration": 4,
    "start_time": "2022-06-18T13:28:49.641Z"
   },
   {
    "duration": 24,
    "start_time": "2022-06-18T13:28:49.646Z"
   },
   {
    "duration": 18,
    "start_time": "2022-06-18T13:28:49.673Z"
   },
   {
    "duration": 13,
    "start_time": "2022-06-18T13:28:49.692Z"
   },
   {
    "duration": 44,
    "start_time": "2022-06-18T13:28:49.707Z"
   },
   {
    "duration": 14,
    "start_time": "2022-06-18T13:28:49.752Z"
   },
   {
    "duration": 21,
    "start_time": "2022-06-18T13:28:49.768Z"
   },
   {
    "duration": 12,
    "start_time": "2022-06-18T13:28:49.790Z"
   },
   {
    "duration": 44,
    "start_time": "2022-06-18T13:28:49.804Z"
   },
   {
    "duration": 14,
    "start_time": "2022-06-18T13:28:49.850Z"
   },
   {
    "duration": 12,
    "start_time": "2022-06-18T13:28:49.866Z"
   },
   {
    "duration": 17,
    "start_time": "2022-06-18T13:28:49.880Z"
   },
   {
    "duration": 11,
    "start_time": "2022-06-18T13:28:49.899Z"
   },
   {
    "duration": 182,
    "start_time": "2022-06-18T13:28:49.943Z"
   },
   {
    "duration": 144,
    "start_time": "2022-06-18T13:28:50.127Z"
   },
   {
    "duration": 10,
    "start_time": "2022-06-18T13:28:50.272Z"
   },
   {
    "duration": 384,
    "start_time": "2022-06-18T13:28:50.284Z"
   },
   {
    "duration": 375,
    "start_time": "2022-06-18T13:28:50.670Z"
   },
   {
    "duration": 466,
    "start_time": "2022-06-18T13:28:51.047Z"
   },
   {
    "duration": 326,
    "start_time": "2022-06-18T13:28:51.515Z"
   },
   {
    "duration": 514,
    "start_time": "2022-06-18T13:28:51.843Z"
   },
   {
    "duration": 12,
    "start_time": "2022-06-18T13:28:52.358Z"
   },
   {
    "duration": 310,
    "start_time": "2022-06-18T13:28:52.372Z"
   },
   {
    "duration": 4,
    "start_time": "2022-06-18T13:28:52.684Z"
   },
   {
    "duration": 328,
    "start_time": "2022-06-18T13:28:52.690Z"
   },
   {
    "duration": 5,
    "start_time": "2022-06-18T13:28:53.021Z"
   },
   {
    "duration": 258,
    "start_time": "2022-06-18T13:28:53.029Z"
   },
   {
    "duration": 178,
    "start_time": "2022-06-18T13:28:53.289Z"
   },
   {
    "duration": 11,
    "start_time": "2022-06-18T13:28:53.468Z"
   },
   {
    "duration": 9,
    "start_time": "2022-06-18T13:28:53.481Z"
   },
   {
    "duration": 8,
    "start_time": "2022-06-18T13:28:53.493Z"
   },
   {
    "duration": 53,
    "start_time": "2022-06-18T13:28:53.502Z"
   },
   {
    "duration": 14,
    "start_time": "2022-06-18T13:28:53.556Z"
   },
   {
    "duration": 10,
    "start_time": "2022-06-18T13:47:12.920Z"
   },
   {
    "duration": 81,
    "start_time": "2022-06-18T13:47:12.932Z"
   },
   {
    "duration": 3,
    "start_time": "2022-06-18T13:47:13.016Z"
   },
   {
    "duration": 23,
    "start_time": "2022-06-18T13:47:13.021Z"
   },
   {
    "duration": 17,
    "start_time": "2022-06-18T13:47:13.046Z"
   },
   {
    "duration": 14,
    "start_time": "2022-06-18T13:47:13.065Z"
   },
   {
    "duration": 3,
    "start_time": "2022-06-18T13:47:13.081Z"
   },
   {
    "duration": 30,
    "start_time": "2022-06-18T13:47:13.085Z"
   },
   {
    "duration": 35,
    "start_time": "2022-06-18T13:47:13.117Z"
   },
   {
    "duration": 14,
    "start_time": "2022-06-18T13:47:13.154Z"
   },
   {
    "duration": 13,
    "start_time": "2022-06-18T13:47:13.170Z"
   },
   {
    "duration": 12,
    "start_time": "2022-06-18T13:47:13.185Z"
   },
   {
    "duration": 50,
    "start_time": "2022-06-18T13:47:13.199Z"
   },
   {
    "duration": 10,
    "start_time": "2022-06-18T13:47:13.253Z"
   },
   {
    "duration": 12,
    "start_time": "2022-06-18T13:47:13.265Z"
   },
   {
    "duration": 14,
    "start_time": "2022-06-18T13:47:13.278Z"
   },
   {
    "duration": 11,
    "start_time": "2022-06-18T13:47:13.293Z"
   },
   {
    "duration": 43,
    "start_time": "2022-06-18T13:47:13.305Z"
   },
   {
    "duration": 11,
    "start_time": "2022-06-18T13:47:13.350Z"
   },
   {
    "duration": 174,
    "start_time": "2022-06-18T13:47:13.362Z"
   },
   {
    "duration": 127,
    "start_time": "2022-06-18T13:47:13.542Z"
   },
   {
    "duration": 9,
    "start_time": "2022-06-18T13:47:13.671Z"
   },
   {
    "duration": 350,
    "start_time": "2022-06-18T13:47:13.682Z"
   },
   {
    "duration": 347,
    "start_time": "2022-06-18T13:47:14.034Z"
   },
   {
    "duration": 431,
    "start_time": "2022-06-18T13:47:14.383Z"
   },
   {
    "duration": 316,
    "start_time": "2022-06-18T13:47:14.816Z"
   },
   {
    "duration": 407,
    "start_time": "2022-06-18T13:47:15.133Z"
   },
   {
    "duration": 11,
    "start_time": "2022-06-18T13:47:15.542Z"
   },
   {
    "duration": 278,
    "start_time": "2022-06-18T13:47:15.555Z"
   },
   {
    "duration": 9,
    "start_time": "2022-06-18T13:47:15.835Z"
   },
   {
    "duration": 275,
    "start_time": "2022-06-18T13:47:15.846Z"
   },
   {
    "duration": 3,
    "start_time": "2022-06-18T13:47:16.123Z"
   },
   {
    "duration": 235,
    "start_time": "2022-06-18T13:47:16.128Z"
   },
   {
    "duration": 163,
    "start_time": "2022-06-18T13:47:16.365Z"
   },
   {
    "duration": 11,
    "start_time": "2022-06-18T13:47:16.542Z"
   },
   {
    "duration": 10,
    "start_time": "2022-06-18T13:47:16.555Z"
   },
   {
    "duration": 10,
    "start_time": "2022-06-18T13:47:16.567Z"
   },
   {
    "duration": 23,
    "start_time": "2022-06-18T13:47:16.579Z"
   },
   {
    "duration": 49,
    "start_time": "2022-06-18T13:47:16.603Z"
   },
   {
    "duration": 1084,
    "start_time": "2022-06-18T20:33:45.074Z"
   },
   {
    "duration": 81,
    "start_time": "2022-06-18T20:33:46.160Z"
   },
   {
    "duration": 5,
    "start_time": "2022-06-18T20:33:46.243Z"
   },
   {
    "duration": 30,
    "start_time": "2022-06-18T20:33:46.251Z"
   },
   {
    "duration": 22,
    "start_time": "2022-06-18T20:33:46.283Z"
   },
   {
    "duration": 39,
    "start_time": "2022-06-18T20:33:46.307Z"
   },
   {
    "duration": 3,
    "start_time": "2022-06-18T20:33:46.348Z"
   },
   {
    "duration": 21,
    "start_time": "2022-06-18T20:33:46.353Z"
   },
   {
    "duration": 18,
    "start_time": "2022-06-18T20:33:46.376Z"
   },
   {
    "duration": 46,
    "start_time": "2022-06-18T20:33:46.397Z"
   },
   {
    "duration": 15,
    "start_time": "2022-06-18T20:33:46.445Z"
   },
   {
    "duration": 17,
    "start_time": "2022-06-18T20:33:46.462Z"
   },
   {
    "duration": 110,
    "start_time": "2022-06-18T20:33:46.481Z"
   },
   {
    "duration": 14,
    "start_time": "2022-06-18T20:33:46.593Z"
   },
   {
    "duration": 12,
    "start_time": "2022-06-18T20:33:46.609Z"
   },
   {
    "duration": 22,
    "start_time": "2022-06-18T20:33:46.642Z"
   },
   {
    "duration": 13,
    "start_time": "2022-06-18T20:33:46.666Z"
   },
   {
    "duration": 13,
    "start_time": "2022-06-18T20:33:46.681Z"
   },
   {
    "duration": 14,
    "start_time": "2022-06-18T20:33:46.697Z"
   },
   {
    "duration": 278,
    "start_time": "2022-06-18T20:33:46.743Z"
   },
   {
    "duration": 177,
    "start_time": "2022-06-18T20:33:47.024Z"
   },
   {
    "duration": 11,
    "start_time": "2022-06-18T20:33:47.203Z"
   },
   {
    "duration": 522,
    "start_time": "2022-06-18T20:33:47.216Z"
   },
   {
    "duration": 386,
    "start_time": "2022-06-18T20:33:47.740Z"
   },
   {
    "duration": 599,
    "start_time": "2022-06-18T20:33:48.127Z"
   },
   {
    "duration": 426,
    "start_time": "2022-06-18T20:33:48.728Z"
   },
   {
    "duration": 451,
    "start_time": "2022-06-18T20:33:49.156Z"
   },
   {
    "duration": 16,
    "start_time": "2022-06-18T20:33:49.612Z"
   },
   {
    "duration": 304,
    "start_time": "2022-06-18T20:33:49.646Z"
   },
   {
    "duration": 5,
    "start_time": "2022-06-18T20:33:49.952Z"
   },
   {
    "duration": 384,
    "start_time": "2022-06-18T20:33:49.959Z"
   },
   {
    "duration": 5,
    "start_time": "2022-06-18T20:33:50.345Z"
   },
   {
    "duration": 277,
    "start_time": "2022-06-18T20:33:50.352Z"
   },
   {
    "duration": 200,
    "start_time": "2022-06-18T20:33:50.631Z"
   },
   {
    "duration": 18,
    "start_time": "2022-06-18T20:33:50.833Z"
   },
   {
    "duration": 12,
    "start_time": "2022-06-18T20:33:50.853Z"
   },
   {
    "duration": 13,
    "start_time": "2022-06-18T20:33:50.867Z"
   },
   {
    "duration": 21,
    "start_time": "2022-06-18T20:33:50.882Z"
   },
   {
    "duration": 44,
    "start_time": "2022-06-18T20:33:50.904Z"
   },
   {
    "duration": 29,
    "start_time": "2022-06-18T20:35:10.051Z"
   },
   {
    "duration": 25,
    "start_time": "2022-06-18T20:35:25.482Z"
   },
   {
    "duration": 198,
    "start_time": "2022-06-18T20:35:46.215Z"
   },
   {
    "duration": 15,
    "start_time": "2022-06-18T20:36:04.126Z"
   },
   {
    "duration": 21,
    "start_time": "2022-06-18T20:39:17.009Z"
   },
   {
    "duration": 20,
    "start_time": "2022-06-18T20:40:23.569Z"
   },
   {
    "duration": 15,
    "start_time": "2022-06-18T20:40:28.296Z"
   },
   {
    "duration": 17,
    "start_time": "2022-06-18T20:40:33.213Z"
   },
   {
    "duration": 16,
    "start_time": "2022-06-18T20:40:38.022Z"
   },
   {
    "duration": 17,
    "start_time": "2022-06-18T20:40:41.155Z"
   },
   {
    "duration": 1271,
    "start_time": "2022-06-18T21:37:24.170Z"
   },
   {
    "duration": 190,
    "start_time": "2022-06-18T21:37:25.444Z"
   },
   {
    "duration": 4,
    "start_time": "2022-06-18T21:37:25.636Z"
   },
   {
    "duration": 34,
    "start_time": "2022-06-18T21:37:25.642Z"
   },
   {
    "duration": 16,
    "start_time": "2022-06-18T21:37:25.678Z"
   },
   {
    "duration": 14,
    "start_time": "2022-06-18T21:37:25.695Z"
   },
   {
    "duration": 3,
    "start_time": "2022-06-18T21:37:25.711Z"
   },
   {
    "duration": 34,
    "start_time": "2022-06-18T21:37:25.715Z"
   },
   {
    "duration": 20,
    "start_time": "2022-06-18T21:37:25.751Z"
   },
   {
    "duration": 25,
    "start_time": "2022-06-18T21:37:25.772Z"
   },
   {
    "duration": 27,
    "start_time": "2022-06-18T21:37:25.798Z"
   },
   {
    "duration": 17,
    "start_time": "2022-06-18T21:37:25.827Z"
   },
   {
    "duration": 55,
    "start_time": "2022-06-18T21:37:27.741Z"
   },
   {
    "duration": 16,
    "start_time": "2022-06-18T21:40:34.220Z"
   },
   {
    "duration": 19,
    "start_time": "2022-06-18T21:40:51.418Z"
   },
   {
    "duration": 1122,
    "start_time": "2022-08-13T22:11:23.578Z"
   },
   {
    "duration": 224,
    "start_time": "2022-08-13T22:11:24.702Z"
   },
   {
    "duration": 4,
    "start_time": "2022-08-13T22:11:24.927Z"
   },
   {
    "duration": 34,
    "start_time": "2022-08-13T22:11:24.934Z"
   },
   {
    "duration": 15,
    "start_time": "2022-08-13T22:11:24.970Z"
   },
   {
    "duration": 14,
    "start_time": "2022-08-13T22:11:24.987Z"
   },
   {
    "duration": 17,
    "start_time": "2022-08-13T22:11:25.003Z"
   },
   {
    "duration": 28,
    "start_time": "2022-08-13T22:11:25.024Z"
   },
   {
    "duration": 17,
    "start_time": "2022-08-13T22:11:25.054Z"
   },
   {
    "duration": 14,
    "start_time": "2022-08-13T22:11:25.074Z"
   },
   {
    "duration": 34,
    "start_time": "2022-08-13T22:11:25.090Z"
   },
   {
    "duration": 17,
    "start_time": "2022-08-13T22:11:25.125Z"
   },
   {
    "duration": 66,
    "start_time": "2022-08-13T22:11:25.144Z"
   },
   {
    "duration": 10,
    "start_time": "2022-08-13T22:11:25.211Z"
   },
   {
    "duration": 28,
    "start_time": "2022-08-13T22:11:25.222Z"
   },
   {
    "duration": 13,
    "start_time": "2022-08-13T22:11:25.252Z"
   },
   {
    "duration": 17,
    "start_time": "2022-08-13T22:11:25.267Z"
   },
   {
    "duration": 19,
    "start_time": "2022-08-13T22:11:25.285Z"
   },
   {
    "duration": 38,
    "start_time": "2022-08-13T22:11:25.306Z"
   },
   {
    "duration": 161,
    "start_time": "2022-08-13T22:11:25.346Z"
   },
   {
    "duration": 128,
    "start_time": "2022-08-13T22:11:25.511Z"
   },
   {
    "duration": 10,
    "start_time": "2022-08-13T22:11:25.641Z"
   },
   {
    "duration": 472,
    "start_time": "2022-08-13T22:11:25.652Z"
   },
   {
    "duration": 347,
    "start_time": "2022-08-13T22:11:26.126Z"
   },
   {
    "duration": 504,
    "start_time": "2022-08-13T22:11:26.475Z"
   },
   {
    "duration": 383,
    "start_time": "2022-08-13T22:11:26.981Z"
   },
   {
    "duration": 443,
    "start_time": "2022-08-13T22:11:27.366Z"
   },
   {
    "duration": 18,
    "start_time": "2022-08-13T22:11:27.815Z"
   },
   {
    "duration": 307,
    "start_time": "2022-08-13T22:11:27.834Z"
   },
   {
    "duration": 5,
    "start_time": "2022-08-13T22:11:28.142Z"
   },
   {
    "duration": 336,
    "start_time": "2022-08-13T22:11:28.148Z"
   },
   {
    "duration": 4,
    "start_time": "2022-08-13T22:11:28.485Z"
   },
   {
    "duration": 225,
    "start_time": "2022-08-13T22:11:28.490Z"
   },
   {
    "duration": 163,
    "start_time": "2022-08-13T22:11:28.717Z"
   },
   {
    "duration": 8,
    "start_time": "2022-08-13T22:11:28.882Z"
   },
   {
    "duration": 32,
    "start_time": "2022-08-13T22:11:28.892Z"
   },
   {
    "duration": 10,
    "start_time": "2022-08-13T22:11:28.926Z"
   },
   {
    "duration": 26,
    "start_time": "2022-08-13T22:11:28.938Z"
   },
   {
    "duration": 12,
    "start_time": "2022-08-13T22:11:28.965Z"
   },
   {
    "duration": 11,
    "start_time": "2022-08-13T22:11:59.945Z"
   },
   {
    "duration": 92,
    "start_time": "2022-08-13T22:11:59.959Z"
   },
   {
    "duration": 4,
    "start_time": "2022-08-13T22:12:00.053Z"
   },
   {
    "duration": 25,
    "start_time": "2022-08-13T22:12:00.060Z"
   },
   {
    "duration": 32,
    "start_time": "2022-08-13T22:12:00.088Z"
   },
   {
    "duration": 22,
    "start_time": "2022-08-13T22:12:00.127Z"
   },
   {
    "duration": 4,
    "start_time": "2022-08-13T22:12:00.150Z"
   },
   {
    "duration": 21,
    "start_time": "2022-08-13T22:12:00.155Z"
   },
   {
    "duration": 42,
    "start_time": "2022-08-13T22:12:00.177Z"
   },
   {
    "duration": 18,
    "start_time": "2022-08-13T22:12:00.225Z"
   },
   {
    "duration": 20,
    "start_time": "2022-08-13T22:12:00.245Z"
   },
   {
    "duration": 14,
    "start_time": "2022-08-13T22:12:00.268Z"
   },
   {
    "duration": 44,
    "start_time": "2022-08-13T22:12:00.283Z"
   },
   {
    "duration": 16,
    "start_time": "2022-08-13T22:12:00.330Z"
   },
   {
    "duration": 18,
    "start_time": "2022-08-13T22:12:00.348Z"
   },
   {
    "duration": 22,
    "start_time": "2022-08-13T22:12:00.368Z"
   },
   {
    "duration": 35,
    "start_time": "2022-08-13T22:12:00.392Z"
   },
   {
    "duration": 20,
    "start_time": "2022-08-13T22:12:00.429Z"
   },
   {
    "duration": 16,
    "start_time": "2022-08-13T22:12:00.451Z"
   },
   {
    "duration": 185,
    "start_time": "2022-08-13T22:12:00.469Z"
   },
   {
    "duration": 166,
    "start_time": "2022-08-13T22:12:00.656Z"
   },
   {
    "duration": 12,
    "start_time": "2022-08-13T22:12:00.824Z"
   },
   {
    "duration": 407,
    "start_time": "2022-08-13T22:12:00.838Z"
   },
   {
    "duration": 385,
    "start_time": "2022-08-13T22:12:01.247Z"
   },
   {
    "duration": 541,
    "start_time": "2022-08-13T22:12:01.638Z"
   },
   {
    "duration": 381,
    "start_time": "2022-08-13T22:12:02.181Z"
   },
   {
    "duration": 474,
    "start_time": "2022-08-13T22:12:02.564Z"
   },
   {
    "duration": 11,
    "start_time": "2022-08-13T22:12:03.042Z"
   },
   {
    "duration": 337,
    "start_time": "2022-08-13T22:12:03.055Z"
   },
   {
    "duration": 4,
    "start_time": "2022-08-13T22:12:03.394Z"
   },
   {
    "duration": 309,
    "start_time": "2022-08-13T22:12:03.400Z"
   },
   {
    "duration": 12,
    "start_time": "2022-08-13T22:12:03.710Z"
   },
   {
    "duration": 264,
    "start_time": "2022-08-13T22:12:03.727Z"
   },
   {
    "duration": 201,
    "start_time": "2022-08-13T22:12:03.993Z"
   },
   {
    "duration": 33,
    "start_time": "2022-08-13T22:12:04.195Z"
   },
   {
    "duration": 24,
    "start_time": "2022-08-13T22:12:04.230Z"
   },
   {
    "duration": 17,
    "start_time": "2022-08-13T22:12:04.255Z"
   },
   {
    "duration": 26,
    "start_time": "2022-08-13T22:12:04.274Z"
   },
   {
    "duration": 19,
    "start_time": "2022-08-13T22:12:04.301Z"
   }
  ],
  "kernelspec": {
   "display_name": "Python 3 (ipykernel)",
   "language": "python",
   "name": "python3"
  },
  "language_info": {
   "codemirror_mode": {
    "name": "ipython",
    "version": 3
   },
   "file_extension": ".py",
   "mimetype": "text/x-python",
   "name": "python",
   "nbconvert_exporter": "python",
   "pygments_lexer": "ipython3",
   "version": "3.9.12"
  },
  "toc": {
   "base_numbering": 1,
   "nav_menu": {},
   "number_sections": true,
   "sideBar": true,
   "skip_h1_title": true,
   "title_cell": "Table of Contents",
   "title_sidebar": "Contents",
   "toc_cell": false,
   "toc_position": {
    "height": "calc(100% - 180px)",
    "left": "10px",
    "top": "150px",
    "width": "487.321px"
   },
   "toc_section_display": true,
   "toc_window_display": true
  }
 },
 "nbformat": 4,
 "nbformat_minor": 2
}
