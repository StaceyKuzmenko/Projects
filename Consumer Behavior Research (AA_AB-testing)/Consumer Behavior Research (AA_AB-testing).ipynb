{
 "cells": [
  {
   "cell_type": "markdown",
   "metadata": {},
   "source": [
    "<a id='the_destination'></a>"
   ]
  },
  {
   "cell_type": "markdown",
   "metadata": {},
   "source": [
    "# Исследование потребительского поведения"
   ]
  },
  {
   "cell_type": "markdown",
   "metadata": {},
   "source": [
    "**Описание проекта:**\n",
    "\n",
    "Есть мобильное приложение стартапа, который продаёт продукты питания. Нужно разобраться, как ведут себя пользователи данного мобильного приложения. Для этого представлен датасет с данными по воронке продаж.\n",
    "\n",
    "Далее необходимо исследовать результаты A/A/B-эксперимента. Дизайнеры предложили поменять шрифты во всём приложении. Менеджеры предполагают, что это достаточно рискованный шаг, так как пользователям новое оформление может показаться непривычным, что впоследствии может привести к падению продаж и оттоку клиентов. Поэтому было принято решение провести A/A/B-тест. Пользователей разбили на 3 группы: 2 контрольные со старыми шрифтами и одну экспериментальную — с новыми. Необходимо выяснить, какой шрифт лучше.\n",
    "\n",
    "**Цель исследования:**\n",
    "- Необходимо изучить воронку продаж с помощью A/A/B-эксперимента, чтобы принять решение: менять ли шрифты во всем приложении или нет.\n",
    "\n",
    "**Задачи:**\n",
    "- загрузить данные и подготовить их к анализу (привести к нижнему регистру столбцы; изменить тип данных, где необходимо; удалить дубликаты, проверить наличие артефактов)\n",
    "- детально проанализировать данные (количество событий в логе, среднее кол-во событий на пользователя, проверить данные в динамике)\n",
    "- проанализировать воронку событий (сколько пользователей доходит до покупки, а сколько - останавливается на предыдущих шагах)\n",
    "- проанализировать результаты эксперимента (провести А/А тест, проверить гипотезу о равенстве выборок А/В теста, повторно проверить гипотезу, но уже с учетом поправки Бонферрони)\n",
    "- сделать выводы"
   ]
  },
  {
   "cell_type": "markdown",
   "metadata": {},
   "source": [
    "<a href='#the_finish'>[Нажмите на эту ссылку, чтобы перейти к выводам исследования]</a>"
   ]
  },
  {
   "cell_type": "markdown",
   "metadata": {},
   "source": [
    "## Загрузка данных и подготовка их к анализу"
   ]
  },
  {
   "cell_type": "code",
   "execution_count": 5,
   "metadata": {},
   "outputs": [],
   "source": [
    "# импорт библиотеки pandas\n",
    "# импорт библиотеки numpy\n",
    "import pandas as pd\n",
    "import numpy as np\n",
    "from matplotlib import pyplot as plt\n",
    "import seaborn as sns\n",
    "import re\n",
    "import plotly\n",
    "import plotly.graph_objs as go\n",
    "import plotly.express as px\n",
    "from plotly.subplots import make_subplots \n",
    "from scipy import stats as st\n",
    "import math as mth\n",
    "\n",
    "%config InlineBackend.figure_format = 'svg'\n",
    "pd.set_option('display.max_colwidth', None)"
   ]
  },
  {
   "cell_type": "code",
   "execution_count": 6,
   "metadata": {},
   "outputs": [],
   "source": [
    "logs = pd.read_csv('C:/Users/snaki/Downloads/logs_exp.csv', sep='\\t')\n",
    "\n",
    "pd.set_option('display.max_columns', None)\n",
    "pd.set_option('display.max_rows', None)"
   ]
  },
  {
   "cell_type": "markdown",
   "metadata": {},
   "source": [
    "### Анализ общей информации о датафреймах"
   ]
  },
  {
   "cell_type": "code",
   "execution_count": 7,
   "metadata": {},
   "outputs": [],
   "source": [
    "def df_info(df):\n",
    "    display(df.head(5))\n",
    "    df.info()\n",
    "    print('')\n",
    "    print('Количество дубликатов:', df.duplicated().sum())"
   ]
  },
  {
   "cell_type": "code",
   "execution_count": 8,
   "metadata": {},
   "outputs": [
    {
     "data": {
      "text/html": [
       "<div>\n",
       "<style scoped>\n",
       "    .dataframe tbody tr th:only-of-type {\n",
       "        vertical-align: middle;\n",
       "    }\n",
       "\n",
       "    .dataframe tbody tr th {\n",
       "        vertical-align: top;\n",
       "    }\n",
       "\n",
       "    .dataframe thead th {\n",
       "        text-align: right;\n",
       "    }\n",
       "</style>\n",
       "<table border=\"1\" class=\"dataframe\">\n",
       "  <thead>\n",
       "    <tr style=\"text-align: right;\">\n",
       "      <th></th>\n",
       "      <th>EventName</th>\n",
       "      <th>DeviceIDHash</th>\n",
       "      <th>EventTimestamp</th>\n",
       "      <th>ExpId</th>\n",
       "    </tr>\n",
       "  </thead>\n",
       "  <tbody>\n",
       "    <tr>\n",
       "      <th>0</th>\n",
       "      <td>MainScreenAppear</td>\n",
       "      <td>4575588528974610257</td>\n",
       "      <td>1564029816</td>\n",
       "      <td>246</td>\n",
       "    </tr>\n",
       "    <tr>\n",
       "      <th>1</th>\n",
       "      <td>MainScreenAppear</td>\n",
       "      <td>7416695313311560658</td>\n",
       "      <td>1564053102</td>\n",
       "      <td>246</td>\n",
       "    </tr>\n",
       "    <tr>\n",
       "      <th>2</th>\n",
       "      <td>PaymentScreenSuccessful</td>\n",
       "      <td>3518123091307005509</td>\n",
       "      <td>1564054127</td>\n",
       "      <td>248</td>\n",
       "    </tr>\n",
       "    <tr>\n",
       "      <th>3</th>\n",
       "      <td>CartScreenAppear</td>\n",
       "      <td>3518123091307005509</td>\n",
       "      <td>1564054127</td>\n",
       "      <td>248</td>\n",
       "    </tr>\n",
       "    <tr>\n",
       "      <th>4</th>\n",
       "      <td>PaymentScreenSuccessful</td>\n",
       "      <td>6217807653094995999</td>\n",
       "      <td>1564055322</td>\n",
       "      <td>248</td>\n",
       "    </tr>\n",
       "  </tbody>\n",
       "</table>\n",
       "</div>"
      ],
      "text/plain": [
       "                 EventName         DeviceIDHash  EventTimestamp  ExpId\n",
       "0         MainScreenAppear  4575588528974610257      1564029816    246\n",
       "1         MainScreenAppear  7416695313311560658      1564053102    246\n",
       "2  PaymentScreenSuccessful  3518123091307005509      1564054127    248\n",
       "3         CartScreenAppear  3518123091307005509      1564054127    248\n",
       "4  PaymentScreenSuccessful  6217807653094995999      1564055322    248"
      ]
     },
     "metadata": {},
     "output_type": "display_data"
    },
    {
     "name": "stdout",
     "output_type": "stream",
     "text": [
      "<class 'pandas.core.frame.DataFrame'>\n",
      "RangeIndex: 244126 entries, 0 to 244125\n",
      "Data columns (total 4 columns):\n",
      " #   Column          Non-Null Count   Dtype \n",
      "---  ------          --------------   ----- \n",
      " 0   EventName       244126 non-null  object\n",
      " 1   DeviceIDHash    244126 non-null  int64 \n",
      " 2   EventTimestamp  244126 non-null  int64 \n",
      " 3   ExpId           244126 non-null  int64 \n",
      "dtypes: int64(3), object(1)\n",
      "memory usage: 7.5+ MB\n",
      "\n",
      "Количество дубликатов: 413\n"
     ]
    }
   ],
   "source": [
    "df_info(logs)"
   ]
  },
  {
   "cell_type": "markdown",
   "metadata": {},
   "source": [
    "В датафрейме **logs** 4 столбца и 244126 строк:\n",
    "\n",
    "- **EventName** — название события;\n",
    "- **DeviceIDHash** — уникальный идентификатор пользователя;\n",
    "- **EventTimestamp** — время события; - **нужно изменить тип данных на date**\n",
    "- **ExpId** — номер эксперимента: 246 и 247 — контрольные группы, а 248 — экспериментальная.\n",
    "\n",
    "При первичной проверке было выявлено **413 дубликатов**. Их доля составляет **менее 0,2%** от всей базы данных. Поэтому их можно удалить, так как они не повлияют на общую картину."
   ]
  },
  {
   "cell_type": "markdown",
   "metadata": {},
   "source": [
    "### Приведение к нижнему регистру названий столбцов и переименование их"
   ]
  },
  {
   "cell_type": "code",
   "execution_count": 9,
   "metadata": {},
   "outputs": [
    {
     "name": "stdout",
     "output_type": "stream",
     "text": [
      "<class 'pandas.core.frame.DataFrame'>\n",
      "RangeIndex: 244126 entries, 0 to 244125\n",
      "Data columns (total 4 columns):\n",
      " #   Column            Non-Null Count   Dtype \n",
      "---  ------            --------------   ----- \n",
      " 0   event_name        244126 non-null  object\n",
      " 1   device_id         244126 non-null  int64 \n",
      " 2   event_time_stamp  244126 non-null  int64 \n",
      " 3   exp_id            244126 non-null  int64 \n",
      "dtypes: int64(3), object(1)\n",
      "memory usage: 7.5+ MB\n"
     ]
    },
    {
     "data": {
      "text/html": [
       "<div>\n",
       "<style scoped>\n",
       "    .dataframe tbody tr th:only-of-type {\n",
       "        vertical-align: middle;\n",
       "    }\n",
       "\n",
       "    .dataframe tbody tr th {\n",
       "        vertical-align: top;\n",
       "    }\n",
       "\n",
       "    .dataframe thead th {\n",
       "        text-align: right;\n",
       "    }\n",
       "</style>\n",
       "<table border=\"1\" class=\"dataframe\">\n",
       "  <thead>\n",
       "    <tr style=\"text-align: right;\">\n",
       "      <th></th>\n",
       "      <th>event_name</th>\n",
       "      <th>device_id</th>\n",
       "      <th>event_time_stamp</th>\n",
       "      <th>exp_id</th>\n",
       "    </tr>\n",
       "  </thead>\n",
       "  <tbody>\n",
       "    <tr>\n",
       "      <th>0</th>\n",
       "      <td>MainScreenAppear</td>\n",
       "      <td>4575588528974610257</td>\n",
       "      <td>1564029816</td>\n",
       "      <td>246</td>\n",
       "    </tr>\n",
       "    <tr>\n",
       "      <th>1</th>\n",
       "      <td>MainScreenAppear</td>\n",
       "      <td>7416695313311560658</td>\n",
       "      <td>1564053102</td>\n",
       "      <td>246</td>\n",
       "    </tr>\n",
       "    <tr>\n",
       "      <th>2</th>\n",
       "      <td>PaymentScreenSuccessful</td>\n",
       "      <td>3518123091307005509</td>\n",
       "      <td>1564054127</td>\n",
       "      <td>248</td>\n",
       "    </tr>\n",
       "    <tr>\n",
       "      <th>3</th>\n",
       "      <td>CartScreenAppear</td>\n",
       "      <td>3518123091307005509</td>\n",
       "      <td>1564054127</td>\n",
       "      <td>248</td>\n",
       "    </tr>\n",
       "    <tr>\n",
       "      <th>4</th>\n",
       "      <td>PaymentScreenSuccessful</td>\n",
       "      <td>6217807653094995999</td>\n",
       "      <td>1564055322</td>\n",
       "      <td>248</td>\n",
       "    </tr>\n",
       "  </tbody>\n",
       "</table>\n",
       "</div>"
      ],
      "text/plain": [
       "                event_name            device_id  event_time_stamp  exp_id\n",
       "0         MainScreenAppear  4575588528974610257        1564029816     246\n",
       "1         MainScreenAppear  7416695313311560658        1564053102     246\n",
       "2  PaymentScreenSuccessful  3518123091307005509        1564054127     248\n",
       "3         CartScreenAppear  3518123091307005509        1564054127     248\n",
       "4  PaymentScreenSuccessful  6217807653094995999        1564055322     248"
      ]
     },
     "execution_count": 9,
     "metadata": {},
     "output_type": "execute_result"
    }
   ],
   "source": [
    "def column_names_lowercase_conversion(df):\n",
    "    df.columns = df.columns.str.lower()\n",
    "    \n",
    "column_names_lowercase_conversion(logs) \n",
    "logs.columns = ['event_name', 'device_id', 'event_time_stamp', 'exp_id']\n",
    "logs.info()\n",
    "logs.head(5)"
   ]
  },
  {
   "cell_type": "markdown",
   "metadata": {},
   "source": [
    "### Приведение столбца с датами к формату времени"
   ]
  },
  {
   "cell_type": "code",
   "execution_count": 10,
   "metadata": {},
   "outputs": [
    {
     "data": {
      "text/html": [
       "<div>\n",
       "<style scoped>\n",
       "    .dataframe tbody tr th:only-of-type {\n",
       "        vertical-align: middle;\n",
       "    }\n",
       "\n",
       "    .dataframe tbody tr th {\n",
       "        vertical-align: top;\n",
       "    }\n",
       "\n",
       "    .dataframe thead th {\n",
       "        text-align: right;\n",
       "    }\n",
       "</style>\n",
       "<table border=\"1\" class=\"dataframe\">\n",
       "  <thead>\n",
       "    <tr style=\"text-align: right;\">\n",
       "      <th></th>\n",
       "      <th>event_name</th>\n",
       "      <th>device_id</th>\n",
       "      <th>exp_id</th>\n",
       "      <th>event_time</th>\n",
       "      <th>event_date</th>\n",
       "    </tr>\n",
       "  </thead>\n",
       "  <tbody>\n",
       "    <tr>\n",
       "      <th>95720</th>\n",
       "      <td>OffersScreenAppear</td>\n",
       "      <td>1434659102910304056</td>\n",
       "      <td>248</td>\n",
       "      <td>2019-08-03 14:37:54</td>\n",
       "      <td>2019-08-03</td>\n",
       "    </tr>\n",
       "    <tr>\n",
       "      <th>106203</th>\n",
       "      <td>OffersScreenAppear</td>\n",
       "      <td>2438520924615884865</td>\n",
       "      <td>246</td>\n",
       "      <td>2019-08-03 19:52:53</td>\n",
       "      <td>2019-08-03</td>\n",
       "    </tr>\n",
       "    <tr>\n",
       "      <th>34124</th>\n",
       "      <td>MainScreenAppear</td>\n",
       "      <td>294355503360609826</td>\n",
       "      <td>246</td>\n",
       "      <td>2019-08-01 18:33:10</td>\n",
       "      <td>2019-08-01</td>\n",
       "    </tr>\n",
       "    <tr>\n",
       "      <th>120542</th>\n",
       "      <td>PaymentScreenSuccessful</td>\n",
       "      <td>6220847999332178356</td>\n",
       "      <td>246</td>\n",
       "      <td>2019-08-04 11:12:26</td>\n",
       "      <td>2019-08-04</td>\n",
       "    </tr>\n",
       "    <tr>\n",
       "      <th>108845</th>\n",
       "      <td>MainScreenAppear</td>\n",
       "      <td>4086924768271071570</td>\n",
       "      <td>247</td>\n",
       "      <td>2019-08-04 03:33:25</td>\n",
       "      <td>2019-08-04</td>\n",
       "    </tr>\n",
       "  </tbody>\n",
       "</table>\n",
       "</div>"
      ],
      "text/plain": [
       "                     event_name            device_id  exp_id  \\\n",
       "95720        OffersScreenAppear  1434659102910304056     248   \n",
       "106203       OffersScreenAppear  2438520924615884865     246   \n",
       "34124          MainScreenAppear   294355503360609826     246   \n",
       "120542  PaymentScreenSuccessful  6220847999332178356     246   \n",
       "108845         MainScreenAppear  4086924768271071570     247   \n",
       "\n",
       "                event_time  event_date  \n",
       "95720  2019-08-03 14:37:54  2019-08-03  \n",
       "106203 2019-08-03 19:52:53  2019-08-03  \n",
       "34124  2019-08-01 18:33:10  2019-08-01  \n",
       "120542 2019-08-04 11:12:26  2019-08-04  \n",
       "108845 2019-08-04 03:33:25  2019-08-04  "
      ]
     },
     "metadata": {},
     "output_type": "display_data"
    },
    {
     "name": "stdout",
     "output_type": "stream",
     "text": [
      "<class 'pandas.core.frame.DataFrame'>\n",
      "RangeIndex: 244126 entries, 0 to 244125\n",
      "Data columns (total 5 columns):\n",
      " #   Column      Non-Null Count   Dtype         \n",
      "---  ------      --------------   -----         \n",
      " 0   event_name  244126 non-null  object        \n",
      " 1   device_id   244126 non-null  int64         \n",
      " 2   exp_id      244126 non-null  int64         \n",
      " 3   event_time  244126 non-null  datetime64[ns]\n",
      " 4   event_date  244126 non-null  object        \n",
      "dtypes: datetime64[ns](1), int64(2), object(2)\n",
      "memory usage: 9.3+ MB\n"
     ]
    }
   ],
   "source": [
    "# Переводим дату/время из unix time в timestamp\n",
    "logs['event_time'] = pd.to_datetime(logs['event_time_stamp'], unit='s')  \n",
    "# Создаем столбец с датами без учета времени\n",
    "logs['event_date'] = pd.to_datetime(logs['event_time']).dt.date  \n",
    "\n",
    "del logs['event_time_stamp']\n",
    "# Смотрим результат\n",
    "display(logs.sample(5))\n",
    "logs.info()"
   ]
  },
  {
   "cell_type": "markdown",
   "metadata": {},
   "source": [
    "### Удаление дубликатов"
   ]
  },
  {
   "cell_type": "code",
   "execution_count": 11,
   "metadata": {
    "scrolled": true
   },
   "outputs": [
    {
     "name": "stdout",
     "output_type": "stream",
     "text": [
      "<class 'pandas.core.frame.DataFrame'>\n",
      "RangeIndex: 243713 entries, 0 to 243712\n",
      "Data columns (total 5 columns):\n",
      " #   Column      Non-Null Count   Dtype         \n",
      "---  ------      --------------   -----         \n",
      " 0   event_name  243713 non-null  object        \n",
      " 1   device_id   243713 non-null  int64         \n",
      " 2   exp_id      243713 non-null  int64         \n",
      " 3   event_time  243713 non-null  datetime64[ns]\n",
      " 4   event_date  243713 non-null  object        \n",
      "dtypes: datetime64[ns](1), int64(2), object(2)\n",
      "memory usage: 9.3+ MB\n"
     ]
    }
   ],
   "source": [
    "logs = logs.drop_duplicates().reset_index(drop=True)\n",
    "logs.info()"
   ]
  },
  {
   "cell_type": "markdown",
   "metadata": {},
   "source": [
    "После удаления дубликатов датафрейм содержит **243713 строк.**"
   ]
  },
  {
   "cell_type": "markdown",
   "metadata": {},
   "source": [
    "### Проверка артефактов"
   ]
  },
  {
   "cell_type": "code",
   "execution_count": 12,
   "metadata": {},
   "outputs": [
    {
     "name": "stdout",
     "output_type": "stream",
     "text": [
      "['MainScreenAppear' 'PaymentScreenSuccessful' 'CartScreenAppear'\n",
      " 'OffersScreenAppear' 'Tutorial']\n"
     ]
    }
   ],
   "source": [
    "print(logs['event_name'].unique())"
   ]
  },
  {
   "cell_type": "code",
   "execution_count": 13,
   "metadata": {},
   "outputs": [
    {
     "name": "stdout",
     "output_type": "stream",
     "text": [
      "[246 248 247]\n"
     ]
    }
   ],
   "source": [
    "print(logs['exp_id'].unique())"
   ]
  },
  {
   "cell_type": "markdown",
   "metadata": {},
   "source": [
    "**В датафрейме нет артефактов.**"
   ]
  },
  {
   "cell_type": "markdown",
   "metadata": {},
   "source": [
    "## Часть. Детальный анализ данных"
   ]
  },
  {
   "cell_type": "markdown",
   "metadata": {},
   "source": [
    "### Сколько всего событий в логе?"
   ]
  },
  {
   "cell_type": "markdown",
   "metadata": {},
   "source": [
    "В предыдущем блоке (проверка артефактов) мы увидели, что в логе присутствуют **5 событий:**\n",
    "- **MainScreenAppear** - переход на главную (первую) страницу приложения\n",
    "- **PaymentScreenSuccessful** - переход на страницу \"оплата прошла успешно\" \n",
    "- **CartScreenAppear** - переход на страницу \"корзина\"\n",
    "- **OffersScreenAppear** - переход на страницу \"предложения\"\n",
    "- **Tutorial** - переход на страницу \"руководство\""
   ]
  },
  {
   "cell_type": "markdown",
   "metadata": {},
   "source": [
    "### Сколько в среднем событий приходится на пользователя?"
   ]
  },
  {
   "cell_type": "code",
   "execution_count": 14,
   "metadata": {
    "scrolled": false
   },
   "outputs": [
    {
     "data": {
      "text/html": [
       "<div>\n",
       "<style scoped>\n",
       "    .dataframe tbody tr th:only-of-type {\n",
       "        vertical-align: middle;\n",
       "    }\n",
       "\n",
       "    .dataframe tbody tr th {\n",
       "        vertical-align: top;\n",
       "    }\n",
       "\n",
       "    .dataframe thead th {\n",
       "        text-align: right;\n",
       "    }\n",
       "</style>\n",
       "<table border=\"1\" class=\"dataframe\">\n",
       "  <thead>\n",
       "    <tr style=\"text-align: right;\">\n",
       "      <th></th>\n",
       "      <th>device_id</th>\n",
       "      <th>event_number</th>\n",
       "    </tr>\n",
       "  </thead>\n",
       "  <tbody>\n",
       "    <tr>\n",
       "      <th>4</th>\n",
       "      <td>7702139951469979</td>\n",
       "      <td>137</td>\n",
       "    </tr>\n",
       "    <tr>\n",
       "      <th>2</th>\n",
       "      <td>6922444491712477</td>\n",
       "      <td>47</td>\n",
       "    </tr>\n",
       "    <tr>\n",
       "      <th>3</th>\n",
       "      <td>7435777799948366</td>\n",
       "      <td>6</td>\n",
       "    </tr>\n",
       "    <tr>\n",
       "      <th>1</th>\n",
       "      <td>6909561520679493</td>\n",
       "      <td>5</td>\n",
       "    </tr>\n",
       "    <tr>\n",
       "      <th>0</th>\n",
       "      <td>6888746892508752</td>\n",
       "      <td>1</td>\n",
       "    </tr>\n",
       "  </tbody>\n",
       "</table>\n",
       "</div>"
      ],
      "text/plain": [
       "          device_id  event_number\n",
       "4  7702139951469979           137\n",
       "2  6922444491712477            47\n",
       "3  7435777799948366             6\n",
       "1  6909561520679493             5\n",
       "0  6888746892508752             1"
      ]
     },
     "metadata": {},
     "output_type": "display_data"
    },
    {
     "name": "stdout",
     "output_type": "stream",
     "text": [
      "Среднее количество событий на одного пользователя составляет: 32.0\n"
     ]
    }
   ],
   "source": [
    "#Сгруппируем датафрейм по пользователям\n",
    "average_number_of_events_per_user = logs.groupby('device_id')['event_name'].count().reset_index()\n",
    "average_number_of_events_per_user.columns = ['device_id', 'event_number']\n",
    "display(average_number_of_events_per_user.head(5).sort_values(by='event_number', ascending=False))\n",
    "\n",
    "#Вычислим среднее количество событий на одного пользователя\n",
    "print(\n",
    "    'Среднее количество событий на одного пользователя составляет:', round(average_number_of_events_per_user['event_number'].mean(), 0)\n",
    ")"
   ]
  },
  {
   "cell_type": "code",
   "execution_count": 15,
   "metadata": {},
   "outputs": [
    {
     "data": {
      "text/html": [
       "<div>\n",
       "<style scoped>\n",
       "    .dataframe tbody tr th:only-of-type {\n",
       "        vertical-align: middle;\n",
       "    }\n",
       "\n",
       "    .dataframe tbody tr th {\n",
       "        vertical-align: top;\n",
       "    }\n",
       "\n",
       "    .dataframe thead th {\n",
       "        text-align: right;\n",
       "    }\n",
       "</style>\n",
       "<table border=\"1\" class=\"dataframe\">\n",
       "  <thead>\n",
       "    <tr style=\"text-align: right;\">\n",
       "      <th></th>\n",
       "      <th>device_id</th>\n",
       "      <th>event_number</th>\n",
       "    </tr>\n",
       "  </thead>\n",
       "  <tbody>\n",
       "    <tr>\n",
       "      <th>5116</th>\n",
       "      <td>6304868067479728361</td>\n",
       "      <td>2307</td>\n",
       "    </tr>\n",
       "    <tr>\n",
       "      <th>147</th>\n",
       "      <td>197027893265565660</td>\n",
       "      <td>1998</td>\n",
       "    </tr>\n",
       "    <tr>\n",
       "      <th>3714</th>\n",
       "      <td>4623191541214045580</td>\n",
       "      <td>1768</td>\n",
       "    </tr>\n",
       "    <tr>\n",
       "      <th>5590</th>\n",
       "      <td>6932517045703054087</td>\n",
       "      <td>1439</td>\n",
       "    </tr>\n",
       "    <tr>\n",
       "      <th>1391</th>\n",
       "      <td>1754140665440434215</td>\n",
       "      <td>1221</td>\n",
       "    </tr>\n",
       "  </tbody>\n",
       "</table>\n",
       "</div>"
      ],
      "text/plain": [
       "                device_id  event_number\n",
       "5116  6304868067479728361          2307\n",
       "147    197027893265565660          1998\n",
       "3714  4623191541214045580          1768\n",
       "5590  6932517045703054087          1439\n",
       "1391  1754140665440434215          1221"
      ]
     },
     "execution_count": 15,
     "metadata": {},
     "output_type": "execute_result"
    }
   ],
   "source": [
    "#number_of_events_per_user = logs.groupby('device_id')['event_name'].count().reset_index()\n",
    "number_of_events_per_user = (\n",
    "    logs\n",
    "    .groupby('device_id')['event_name']\n",
    "    .count()\n",
    "    .reset_index()\n",
    "    .rename(columns={'event_name': 'event_number'})\n",
    "    .sort_values(by='event_number', ascending=False)\n",
    ")\n",
    "number_of_events_per_user.head(5)"
   ]
  },
  {
   "cell_type": "code",
   "execution_count": 16,
   "metadata": {},
   "outputs": [
    {
     "data": {
      "image/svg+xml": [
       "<?xml version=\"1.0\" encoding=\"utf-8\" standalone=\"no\"?>\n",
       "<!DOCTYPE svg PUBLIC \"-//W3C//DTD SVG 1.1//EN\"\n",
       "  \"http://www.w3.org/Graphics/SVG/1.1/DTD/svg11.dtd\">\n",
       "<svg xmlns:xlink=\"http://www.w3.org/1999/xlink\" width=\"368.925pt\" height=\"281.349437pt\" viewBox=\"0 0 368.925 281.349437\" xmlns=\"http://www.w3.org/2000/svg\" version=\"1.1\">\n",
       " <metadata>\n",
       "  <rdf:RDF xmlns:dc=\"http://purl.org/dc/elements/1.1/\" xmlns:cc=\"http://creativecommons.org/ns#\" xmlns:rdf=\"http://www.w3.org/1999/02/22-rdf-syntax-ns#\">\n",
       "   <cc:Work>\n",
       "    <dc:type rdf:resource=\"http://purl.org/dc/dcmitype/StillImage\"/>\n",
       "    <dc:date>2022-09-13T00:25:43.655554</dc:date>\n",
       "    <dc:format>image/svg+xml</dc:format>\n",
       "    <dc:creator>\n",
       "     <cc:Agent>\n",
       "      <dc:title>Matplotlib v3.5.1, https://matplotlib.org/</dc:title>\n",
       "     </cc:Agent>\n",
       "    </dc:creator>\n",
       "   </cc:Work>\n",
       "  </rdf:RDF>\n",
       " </metadata>\n",
       " <defs>\n",
       "  <style type=\"text/css\">*{stroke-linejoin: round; stroke-linecap: butt}</style>\n",
       " </defs>\n",
       " <g id=\"figure_1\">\n",
       "  <g id=\"patch_1\">\n",
       "   <path d=\"M -0 281.349437 \n",
       "L 368.925 281.349437 \n",
       "L 368.925 0 \n",
       "L -0 0 \n",
       "L -0 281.349437 \n",
       "z\n",
       "\" style=\"fill: none\"/>\n",
       "  </g>\n",
       "  <g id=\"axes_1\">\n",
       "   <g id=\"patch_2\">\n",
       "    <path d=\"M 26.925 257.193187 \n",
       "L 361.725 257.193187 \n",
       "L 361.725 39.753187 \n",
       "L 26.925 39.753187 \n",
       "z\n",
       "\" style=\"fill: #ffffff\"/>\n",
       "   </g>\n",
       "   <g id=\"matplotlib.axis_1\">\n",
       "    <g id=\"xtick_1\">\n",
       "     <g id=\"line2d_1\">\n",
       "      <path d=\"M 194.325 257.193187 \n",
       "L 194.325 39.753187 \n",
       "\" clip-path=\"url(#p965af73812)\" style=\"fill: none; stroke: #b0b0b0; stroke-width: 0.8; stroke-linecap: square\"/>\n",
       "     </g>\n",
       "     <g id=\"line2d_2\">\n",
       "      <defs>\n",
       "       <path id=\"mb927577e8e\" d=\"M 0 0 \n",
       "L 0 3.5 \n",
       "\" style=\"stroke: #000000; stroke-width: 0.8\"/>\n",
       "      </defs>\n",
       "      <g>\n",
       "       <use xlink:href=\"#mb927577e8e\" x=\"194.325\" y=\"257.193187\" style=\"stroke: #000000; stroke-width: 0.8\"/>\n",
       "      </g>\n",
       "     </g>\n",
       "     <g id=\"text_1\">\n",
       "      <!-- event_number -->\n",
       "      <g transform=\"translate(158.069531 271.791625)scale(0.1 -0.1)\">\n",
       "       <defs>\n",
       "        <path id=\"DejaVuSans-65\" d=\"M 3597 1894 \n",
       "L 3597 1613 \n",
       "L 953 1613 \n",
       "Q 991 1019 1311 708 \n",
       "Q 1631 397 2203 397 \n",
       "Q 2534 397 2845 478 \n",
       "Q 3156 559 3463 722 \n",
       "L 3463 178 \n",
       "Q 3153 47 2828 -22 \n",
       "Q 2503 -91 2169 -91 \n",
       "Q 1331 -91 842 396 \n",
       "Q 353 884 353 1716 \n",
       "Q 353 2575 817 3079 \n",
       "Q 1281 3584 2069 3584 \n",
       "Q 2775 3584 3186 3129 \n",
       "Q 3597 2675 3597 1894 \n",
       "z\n",
       "M 3022 2063 \n",
       "Q 3016 2534 2758 2815 \n",
       "Q 2500 3097 2075 3097 \n",
       "Q 1594 3097 1305 2825 \n",
       "Q 1016 2553 972 2059 \n",
       "L 3022 2063 \n",
       "z\n",
       "\" transform=\"scale(0.015625)\"/>\n",
       "        <path id=\"DejaVuSans-76\" d=\"M 191 3500 \n",
       "L 800 3500 \n",
       "L 1894 563 \n",
       "L 2988 3500 \n",
       "L 3597 3500 \n",
       "L 2284 0 \n",
       "L 1503 0 \n",
       "L 191 3500 \n",
       "z\n",
       "\" transform=\"scale(0.015625)\"/>\n",
       "        <path id=\"DejaVuSans-6e\" d=\"M 3513 2113 \n",
       "L 3513 0 \n",
       "L 2938 0 \n",
       "L 2938 2094 \n",
       "Q 2938 2591 2744 2837 \n",
       "Q 2550 3084 2163 3084 \n",
       "Q 1697 3084 1428 2787 \n",
       "Q 1159 2491 1159 1978 \n",
       "L 1159 0 \n",
       "L 581 0 \n",
       "L 581 3500 \n",
       "L 1159 3500 \n",
       "L 1159 2956 \n",
       "Q 1366 3272 1645 3428 \n",
       "Q 1925 3584 2291 3584 \n",
       "Q 2894 3584 3203 3211 \n",
       "Q 3513 2838 3513 2113 \n",
       "z\n",
       "\" transform=\"scale(0.015625)\"/>\n",
       "        <path id=\"DejaVuSans-74\" d=\"M 1172 4494 \n",
       "L 1172 3500 \n",
       "L 2356 3500 \n",
       "L 2356 3053 \n",
       "L 1172 3053 \n",
       "L 1172 1153 \n",
       "Q 1172 725 1289 603 \n",
       "Q 1406 481 1766 481 \n",
       "L 2356 481 \n",
       "L 2356 0 \n",
       "L 1766 0 \n",
       "Q 1100 0 847 248 \n",
       "Q 594 497 594 1153 \n",
       "L 594 3053 \n",
       "L 172 3053 \n",
       "L 172 3500 \n",
       "L 594 3500 \n",
       "L 594 4494 \n",
       "L 1172 4494 \n",
       "z\n",
       "\" transform=\"scale(0.015625)\"/>\n",
       "        <path id=\"DejaVuSans-5f\" d=\"M 3263 -1063 \n",
       "L 3263 -1509 \n",
       "L -63 -1509 \n",
       "L -63 -1063 \n",
       "L 3263 -1063 \n",
       "z\n",
       "\" transform=\"scale(0.015625)\"/>\n",
       "        <path id=\"DejaVuSans-75\" d=\"M 544 1381 \n",
       "L 544 3500 \n",
       "L 1119 3500 \n",
       "L 1119 1403 \n",
       "Q 1119 906 1312 657 \n",
       "Q 1506 409 1894 409 \n",
       "Q 2359 409 2629 706 \n",
       "Q 2900 1003 2900 1516 \n",
       "L 2900 3500 \n",
       "L 3475 3500 \n",
       "L 3475 0 \n",
       "L 2900 0 \n",
       "L 2900 538 \n",
       "Q 2691 219 2414 64 \n",
       "Q 2138 -91 1772 -91 \n",
       "Q 1169 -91 856 284 \n",
       "Q 544 659 544 1381 \n",
       "z\n",
       "M 1991 3584 \n",
       "L 1991 3584 \n",
       "z\n",
       "\" transform=\"scale(0.015625)\"/>\n",
       "        <path id=\"DejaVuSans-6d\" d=\"M 3328 2828 \n",
       "Q 3544 3216 3844 3400 \n",
       "Q 4144 3584 4550 3584 \n",
       "Q 5097 3584 5394 3201 \n",
       "Q 5691 2819 5691 2113 \n",
       "L 5691 0 \n",
       "L 5113 0 \n",
       "L 5113 2094 \n",
       "Q 5113 2597 4934 2840 \n",
       "Q 4756 3084 4391 3084 \n",
       "Q 3944 3084 3684 2787 \n",
       "Q 3425 2491 3425 1978 \n",
       "L 3425 0 \n",
       "L 2847 0 \n",
       "L 2847 2094 \n",
       "Q 2847 2600 2669 2842 \n",
       "Q 2491 3084 2119 3084 \n",
       "Q 1678 3084 1418 2786 \n",
       "Q 1159 2488 1159 1978 \n",
       "L 1159 0 \n",
       "L 581 0 \n",
       "L 581 3500 \n",
       "L 1159 3500 \n",
       "L 1159 2956 \n",
       "Q 1356 3278 1631 3431 \n",
       "Q 1906 3584 2284 3584 \n",
       "Q 2666 3584 2933 3390 \n",
       "Q 3200 3197 3328 2828 \n",
       "z\n",
       "\" transform=\"scale(0.015625)\"/>\n",
       "        <path id=\"DejaVuSans-62\" d=\"M 3116 1747 \n",
       "Q 3116 2381 2855 2742 \n",
       "Q 2594 3103 2138 3103 \n",
       "Q 1681 3103 1420 2742 \n",
       "Q 1159 2381 1159 1747 \n",
       "Q 1159 1113 1420 752 \n",
       "Q 1681 391 2138 391 \n",
       "Q 2594 391 2855 752 \n",
       "Q 3116 1113 3116 1747 \n",
       "z\n",
       "M 1159 2969 \n",
       "Q 1341 3281 1617 3432 \n",
       "Q 1894 3584 2278 3584 \n",
       "Q 2916 3584 3314 3078 \n",
       "Q 3713 2572 3713 1747 \n",
       "Q 3713 922 3314 415 \n",
       "Q 2916 -91 2278 -91 \n",
       "Q 1894 -91 1617 61 \n",
       "Q 1341 213 1159 525 \n",
       "L 1159 0 \n",
       "L 581 0 \n",
       "L 581 4863 \n",
       "L 1159 4863 \n",
       "L 1159 2969 \n",
       "z\n",
       "\" transform=\"scale(0.015625)\"/>\n",
       "        <path id=\"DejaVuSans-72\" d=\"M 2631 2963 \n",
       "Q 2534 3019 2420 3045 \n",
       "Q 2306 3072 2169 3072 \n",
       "Q 1681 3072 1420 2755 \n",
       "Q 1159 2438 1159 1844 \n",
       "L 1159 0 \n",
       "L 581 0 \n",
       "L 581 3500 \n",
       "L 1159 3500 \n",
       "L 1159 2956 \n",
       "Q 1341 3275 1631 3429 \n",
       "Q 1922 3584 2338 3584 \n",
       "Q 2397 3584 2469 3576 \n",
       "Q 2541 3569 2628 3553 \n",
       "L 2631 2963 \n",
       "z\n",
       "\" transform=\"scale(0.015625)\"/>\n",
       "       </defs>\n",
       "       <use xlink:href=\"#DejaVuSans-65\"/>\n",
       "       <use xlink:href=\"#DejaVuSans-76\" x=\"61.523438\"/>\n",
       "       <use xlink:href=\"#DejaVuSans-65\" x=\"120.703125\"/>\n",
       "       <use xlink:href=\"#DejaVuSans-6e\" x=\"182.226562\"/>\n",
       "       <use xlink:href=\"#DejaVuSans-74\" x=\"245.605469\"/>\n",
       "       <use xlink:href=\"#DejaVuSans-5f\" x=\"284.814453\"/>\n",
       "       <use xlink:href=\"#DejaVuSans-6e\" x=\"334.814453\"/>\n",
       "       <use xlink:href=\"#DejaVuSans-75\" x=\"398.193359\"/>\n",
       "       <use xlink:href=\"#DejaVuSans-6d\" x=\"461.572266\"/>\n",
       "       <use xlink:href=\"#DejaVuSans-62\" x=\"558.984375\"/>\n",
       "       <use xlink:href=\"#DejaVuSans-65\" x=\"622.460938\"/>\n",
       "       <use xlink:href=\"#DejaVuSans-72\" x=\"683.984375\"/>\n",
       "      </g>\n",
       "     </g>\n",
       "    </g>\n",
       "   </g>\n",
       "   <g id=\"matplotlib.axis_2\">\n",
       "    <g id=\"ytick_1\">\n",
       "     <g id=\"line2d_3\">\n",
       "      <path d=\"M 26.925 257.193187 \n",
       "L 361.725 257.193187 \n",
       "\" clip-path=\"url(#p965af73812)\" style=\"fill: none; stroke: #b0b0b0; stroke-width: 0.8; stroke-linecap: square\"/>\n",
       "     </g>\n",
       "     <g id=\"line2d_4\">\n",
       "      <defs>\n",
       "       <path id=\"me716580e85\" d=\"M 0 0 \n",
       "L -3.5 0 \n",
       "\" style=\"stroke: #000000; stroke-width: 0.8\"/>\n",
       "      </defs>\n",
       "      <g>\n",
       "       <use xlink:href=\"#me716580e85\" x=\"26.925\" y=\"257.193187\" style=\"stroke: #000000; stroke-width: 0.8\"/>\n",
       "      </g>\n",
       "     </g>\n",
       "     <g id=\"text_2\">\n",
       "      <!-- 0 -->\n",
       "      <g transform=\"translate(13.5625 260.992406)scale(0.1 -0.1)\">\n",
       "       <defs>\n",
       "        <path id=\"DejaVuSans-30\" d=\"M 2034 4250 \n",
       "Q 1547 4250 1301 3770 \n",
       "Q 1056 3291 1056 2328 \n",
       "Q 1056 1369 1301 889 \n",
       "Q 1547 409 2034 409 \n",
       "Q 2525 409 2770 889 \n",
       "Q 3016 1369 3016 2328 \n",
       "Q 3016 3291 2770 3770 \n",
       "Q 2525 4250 2034 4250 \n",
       "z\n",
       "M 2034 4750 \n",
       "Q 2819 4750 3233 4129 \n",
       "Q 3647 3509 3647 2328 \n",
       "Q 3647 1150 3233 529 \n",
       "Q 2819 -91 2034 -91 \n",
       "Q 1250 -91 836 529 \n",
       "Q 422 1150 422 2328 \n",
       "Q 422 3509 836 4129 \n",
       "Q 1250 4750 2034 4750 \n",
       "z\n",
       "\" transform=\"scale(0.015625)\"/>\n",
       "       </defs>\n",
       "       <use xlink:href=\"#DejaVuSans-30\"/>\n",
       "      </g>\n",
       "     </g>\n",
       "    </g>\n",
       "    <g id=\"ytick_2\">\n",
       "     <g id=\"line2d_5\">\n",
       "      <path d=\"M 26.925 231.612011 \n",
       "L 361.725 231.612011 \n",
       "\" clip-path=\"url(#p965af73812)\" style=\"fill: none; stroke: #b0b0b0; stroke-width: 0.8; stroke-linecap: square\"/>\n",
       "     </g>\n",
       "     <g id=\"line2d_6\">\n",
       "      <g>\n",
       "       <use xlink:href=\"#me716580e85\" x=\"26.925\" y=\"231.612011\" style=\"stroke: #000000; stroke-width: 0.8\"/>\n",
       "      </g>\n",
       "     </g>\n",
       "     <g id=\"text_3\">\n",
       "      <!-- 10 -->\n",
       "      <g transform=\"translate(7.2 235.41123)scale(0.1 -0.1)\">\n",
       "       <defs>\n",
       "        <path id=\"DejaVuSans-31\" d=\"M 794 531 \n",
       "L 1825 531 \n",
       "L 1825 4091 \n",
       "L 703 3866 \n",
       "L 703 4441 \n",
       "L 1819 4666 \n",
       "L 2450 4666 \n",
       "L 2450 531 \n",
       "L 3481 531 \n",
       "L 3481 0 \n",
       "L 794 0 \n",
       "L 794 531 \n",
       "z\n",
       "\" transform=\"scale(0.015625)\"/>\n",
       "       </defs>\n",
       "       <use xlink:href=\"#DejaVuSans-31\"/>\n",
       "       <use xlink:href=\"#DejaVuSans-30\" x=\"63.623047\"/>\n",
       "      </g>\n",
       "     </g>\n",
       "    </g>\n",
       "    <g id=\"ytick_3\">\n",
       "     <g id=\"line2d_7\">\n",
       "      <path d=\"M 26.925 206.030835 \n",
       "L 361.725 206.030835 \n",
       "\" clip-path=\"url(#p965af73812)\" style=\"fill: none; stroke: #b0b0b0; stroke-width: 0.8; stroke-linecap: square\"/>\n",
       "     </g>\n",
       "     <g id=\"line2d_8\">\n",
       "      <g>\n",
       "       <use xlink:href=\"#me716580e85\" x=\"26.925\" y=\"206.030835\" style=\"stroke: #000000; stroke-width: 0.8\"/>\n",
       "      </g>\n",
       "     </g>\n",
       "     <g id=\"text_4\">\n",
       "      <!-- 20 -->\n",
       "      <g transform=\"translate(7.2 209.830053)scale(0.1 -0.1)\">\n",
       "       <defs>\n",
       "        <path id=\"DejaVuSans-32\" d=\"M 1228 531 \n",
       "L 3431 531 \n",
       "L 3431 0 \n",
       "L 469 0 \n",
       "L 469 531 \n",
       "Q 828 903 1448 1529 \n",
       "Q 2069 2156 2228 2338 \n",
       "Q 2531 2678 2651 2914 \n",
       "Q 2772 3150 2772 3378 \n",
       "Q 2772 3750 2511 3984 \n",
       "Q 2250 4219 1831 4219 \n",
       "Q 1534 4219 1204 4116 \n",
       "Q 875 4013 500 3803 \n",
       "L 500 4441 \n",
       "Q 881 4594 1212 4672 \n",
       "Q 1544 4750 1819 4750 \n",
       "Q 2544 4750 2975 4387 \n",
       "Q 3406 4025 3406 3419 \n",
       "Q 3406 3131 3298 2873 \n",
       "Q 3191 2616 2906 2266 \n",
       "Q 2828 2175 2409 1742 \n",
       "Q 1991 1309 1228 531 \n",
       "z\n",
       "\" transform=\"scale(0.015625)\"/>\n",
       "       </defs>\n",
       "       <use xlink:href=\"#DejaVuSans-32\"/>\n",
       "       <use xlink:href=\"#DejaVuSans-30\" x=\"63.623047\"/>\n",
       "      </g>\n",
       "     </g>\n",
       "    </g>\n",
       "    <g id=\"ytick_4\">\n",
       "     <g id=\"line2d_9\">\n",
       "      <path d=\"M 26.925 180.449658 \n",
       "L 361.725 180.449658 \n",
       "\" clip-path=\"url(#p965af73812)\" style=\"fill: none; stroke: #b0b0b0; stroke-width: 0.8; stroke-linecap: square\"/>\n",
       "     </g>\n",
       "     <g id=\"line2d_10\">\n",
       "      <g>\n",
       "       <use xlink:href=\"#me716580e85\" x=\"26.925\" y=\"180.449658\" style=\"stroke: #000000; stroke-width: 0.8\"/>\n",
       "      </g>\n",
       "     </g>\n",
       "     <g id=\"text_5\">\n",
       "      <!-- 30 -->\n",
       "      <g transform=\"translate(7.2 184.248877)scale(0.1 -0.1)\">\n",
       "       <defs>\n",
       "        <path id=\"DejaVuSans-33\" d=\"M 2597 2516 \n",
       "Q 3050 2419 3304 2112 \n",
       "Q 3559 1806 3559 1356 \n",
       "Q 3559 666 3084 287 \n",
       "Q 2609 -91 1734 -91 \n",
       "Q 1441 -91 1130 -33 \n",
       "Q 819 25 488 141 \n",
       "L 488 750 \n",
       "Q 750 597 1062 519 \n",
       "Q 1375 441 1716 441 \n",
       "Q 2309 441 2620 675 \n",
       "Q 2931 909 2931 1356 \n",
       "Q 2931 1769 2642 2001 \n",
       "Q 2353 2234 1838 2234 \n",
       "L 1294 2234 \n",
       "L 1294 2753 \n",
       "L 1863 2753 \n",
       "Q 2328 2753 2575 2939 \n",
       "Q 2822 3125 2822 3475 \n",
       "Q 2822 3834 2567 4026 \n",
       "Q 2313 4219 1838 4219 \n",
       "Q 1578 4219 1281 4162 \n",
       "Q 984 4106 628 3988 \n",
       "L 628 4550 \n",
       "Q 988 4650 1302 4700 \n",
       "Q 1616 4750 1894 4750 \n",
       "Q 2613 4750 3031 4423 \n",
       "Q 3450 4097 3450 3541 \n",
       "Q 3450 3153 3228 2886 \n",
       "Q 3006 2619 2597 2516 \n",
       "z\n",
       "\" transform=\"scale(0.015625)\"/>\n",
       "       </defs>\n",
       "       <use xlink:href=\"#DejaVuSans-33\"/>\n",
       "       <use xlink:href=\"#DejaVuSans-30\" x=\"63.623047\"/>\n",
       "      </g>\n",
       "     </g>\n",
       "    </g>\n",
       "    <g id=\"ytick_5\">\n",
       "     <g id=\"line2d_11\">\n",
       "      <path d=\"M 26.925 154.868482 \n",
       "L 361.725 154.868482 \n",
       "\" clip-path=\"url(#p965af73812)\" style=\"fill: none; stroke: #b0b0b0; stroke-width: 0.8; stroke-linecap: square\"/>\n",
       "     </g>\n",
       "     <g id=\"line2d_12\">\n",
       "      <g>\n",
       "       <use xlink:href=\"#me716580e85\" x=\"26.925\" y=\"154.868482\" style=\"stroke: #000000; stroke-width: 0.8\"/>\n",
       "      </g>\n",
       "     </g>\n",
       "     <g id=\"text_6\">\n",
       "      <!-- 40 -->\n",
       "      <g transform=\"translate(7.2 158.6677)scale(0.1 -0.1)\">\n",
       "       <defs>\n",
       "        <path id=\"DejaVuSans-34\" d=\"M 2419 4116 \n",
       "L 825 1625 \n",
       "L 2419 1625 \n",
       "L 2419 4116 \n",
       "z\n",
       "M 2253 4666 \n",
       "L 3047 4666 \n",
       "L 3047 1625 \n",
       "L 3713 1625 \n",
       "L 3713 1100 \n",
       "L 3047 1100 \n",
       "L 3047 0 \n",
       "L 2419 0 \n",
       "L 2419 1100 \n",
       "L 313 1100 \n",
       "L 313 1709 \n",
       "L 2253 4666 \n",
       "z\n",
       "\" transform=\"scale(0.015625)\"/>\n",
       "       </defs>\n",
       "       <use xlink:href=\"#DejaVuSans-34\"/>\n",
       "       <use xlink:href=\"#DejaVuSans-30\" x=\"63.623047\"/>\n",
       "      </g>\n",
       "     </g>\n",
       "    </g>\n",
       "    <g id=\"ytick_6\">\n",
       "     <g id=\"line2d_13\">\n",
       "      <path d=\"M 26.925 129.287305 \n",
       "L 361.725 129.287305 \n",
       "\" clip-path=\"url(#p965af73812)\" style=\"fill: none; stroke: #b0b0b0; stroke-width: 0.8; stroke-linecap: square\"/>\n",
       "     </g>\n",
       "     <g id=\"line2d_14\">\n",
       "      <g>\n",
       "       <use xlink:href=\"#me716580e85\" x=\"26.925\" y=\"129.287305\" style=\"stroke: #000000; stroke-width: 0.8\"/>\n",
       "      </g>\n",
       "     </g>\n",
       "     <g id=\"text_7\">\n",
       "      <!-- 50 -->\n",
       "      <g transform=\"translate(7.2 133.086524)scale(0.1 -0.1)\">\n",
       "       <defs>\n",
       "        <path id=\"DejaVuSans-35\" d=\"M 691 4666 \n",
       "L 3169 4666 \n",
       "L 3169 4134 \n",
       "L 1269 4134 \n",
       "L 1269 2991 \n",
       "Q 1406 3038 1543 3061 \n",
       "Q 1681 3084 1819 3084 \n",
       "Q 2600 3084 3056 2656 \n",
       "Q 3513 2228 3513 1497 \n",
       "Q 3513 744 3044 326 \n",
       "Q 2575 -91 1722 -91 \n",
       "Q 1428 -91 1123 -41 \n",
       "Q 819 9 494 109 \n",
       "L 494 744 \n",
       "Q 775 591 1075 516 \n",
       "Q 1375 441 1709 441 \n",
       "Q 2250 441 2565 725 \n",
       "Q 2881 1009 2881 1497 \n",
       "Q 2881 1984 2565 2268 \n",
       "Q 2250 2553 1709 2553 \n",
       "Q 1456 2553 1204 2497 \n",
       "Q 953 2441 691 2322 \n",
       "L 691 4666 \n",
       "z\n",
       "\" transform=\"scale(0.015625)\"/>\n",
       "       </defs>\n",
       "       <use xlink:href=\"#DejaVuSans-35\"/>\n",
       "       <use xlink:href=\"#DejaVuSans-30\" x=\"63.623047\"/>\n",
       "      </g>\n",
       "     </g>\n",
       "    </g>\n",
       "    <g id=\"ytick_7\">\n",
       "     <g id=\"line2d_15\">\n",
       "      <path d=\"M 26.925 103.706129 \n",
       "L 361.725 103.706129 \n",
       "\" clip-path=\"url(#p965af73812)\" style=\"fill: none; stroke: #b0b0b0; stroke-width: 0.8; stroke-linecap: square\"/>\n",
       "     </g>\n",
       "     <g id=\"line2d_16\">\n",
       "      <g>\n",
       "       <use xlink:href=\"#me716580e85\" x=\"26.925\" y=\"103.706129\" style=\"stroke: #000000; stroke-width: 0.8\"/>\n",
       "      </g>\n",
       "     </g>\n",
       "     <g id=\"text_8\">\n",
       "      <!-- 60 -->\n",
       "      <g transform=\"translate(7.2 107.505347)scale(0.1 -0.1)\">\n",
       "       <defs>\n",
       "        <path id=\"DejaVuSans-36\" d=\"M 2113 2584 \n",
       "Q 1688 2584 1439 2293 \n",
       "Q 1191 2003 1191 1497 \n",
       "Q 1191 994 1439 701 \n",
       "Q 1688 409 2113 409 \n",
       "Q 2538 409 2786 701 \n",
       "Q 3034 994 3034 1497 \n",
       "Q 3034 2003 2786 2293 \n",
       "Q 2538 2584 2113 2584 \n",
       "z\n",
       "M 3366 4563 \n",
       "L 3366 3988 \n",
       "Q 3128 4100 2886 4159 \n",
       "Q 2644 4219 2406 4219 \n",
       "Q 1781 4219 1451 3797 \n",
       "Q 1122 3375 1075 2522 \n",
       "Q 1259 2794 1537 2939 \n",
       "Q 1816 3084 2150 3084 \n",
       "Q 2853 3084 3261 2657 \n",
       "Q 3669 2231 3669 1497 \n",
       "Q 3669 778 3244 343 \n",
       "Q 2819 -91 2113 -91 \n",
       "Q 1303 -91 875 529 \n",
       "Q 447 1150 447 2328 \n",
       "Q 447 3434 972 4092 \n",
       "Q 1497 4750 2381 4750 \n",
       "Q 2619 4750 2861 4703 \n",
       "Q 3103 4656 3366 4563 \n",
       "z\n",
       "\" transform=\"scale(0.015625)\"/>\n",
       "       </defs>\n",
       "       <use xlink:href=\"#DejaVuSans-36\"/>\n",
       "       <use xlink:href=\"#DejaVuSans-30\" x=\"63.623047\"/>\n",
       "      </g>\n",
       "     </g>\n",
       "    </g>\n",
       "    <g id=\"ytick_8\">\n",
       "     <g id=\"line2d_17\">\n",
       "      <path d=\"M 26.925 78.124952 \n",
       "L 361.725 78.124952 \n",
       "\" clip-path=\"url(#p965af73812)\" style=\"fill: none; stroke: #b0b0b0; stroke-width: 0.8; stroke-linecap: square\"/>\n",
       "     </g>\n",
       "     <g id=\"line2d_18\">\n",
       "      <g>\n",
       "       <use xlink:href=\"#me716580e85\" x=\"26.925\" y=\"78.124952\" style=\"stroke: #000000; stroke-width: 0.8\"/>\n",
       "      </g>\n",
       "     </g>\n",
       "     <g id=\"text_9\">\n",
       "      <!-- 70 -->\n",
       "      <g transform=\"translate(7.2 81.924171)scale(0.1 -0.1)\">\n",
       "       <defs>\n",
       "        <path id=\"DejaVuSans-37\" d=\"M 525 4666 \n",
       "L 3525 4666 \n",
       "L 3525 4397 \n",
       "L 1831 0 \n",
       "L 1172 0 \n",
       "L 2766 4134 \n",
       "L 525 4134 \n",
       "L 525 4666 \n",
       "z\n",
       "\" transform=\"scale(0.015625)\"/>\n",
       "       </defs>\n",
       "       <use xlink:href=\"#DejaVuSans-37\"/>\n",
       "       <use xlink:href=\"#DejaVuSans-30\" x=\"63.623047\"/>\n",
       "      </g>\n",
       "     </g>\n",
       "    </g>\n",
       "    <g id=\"ytick_9\">\n",
       "     <g id=\"line2d_19\">\n",
       "      <path d=\"M 26.925 52.543776 \n",
       "L 361.725 52.543776 \n",
       "\" clip-path=\"url(#p965af73812)\" style=\"fill: none; stroke: #b0b0b0; stroke-width: 0.8; stroke-linecap: square\"/>\n",
       "     </g>\n",
       "     <g id=\"line2d_20\">\n",
       "      <g>\n",
       "       <use xlink:href=\"#me716580e85\" x=\"26.925\" y=\"52.543776\" style=\"stroke: #000000; stroke-width: 0.8\"/>\n",
       "      </g>\n",
       "     </g>\n",
       "     <g id=\"text_10\">\n",
       "      <!-- 80 -->\n",
       "      <g transform=\"translate(7.2 56.342994)scale(0.1 -0.1)\">\n",
       "       <defs>\n",
       "        <path id=\"DejaVuSans-38\" d=\"M 2034 2216 \n",
       "Q 1584 2216 1326 1975 \n",
       "Q 1069 1734 1069 1313 \n",
       "Q 1069 891 1326 650 \n",
       "Q 1584 409 2034 409 \n",
       "Q 2484 409 2743 651 \n",
       "Q 3003 894 3003 1313 \n",
       "Q 3003 1734 2745 1975 \n",
       "Q 2488 2216 2034 2216 \n",
       "z\n",
       "M 1403 2484 \n",
       "Q 997 2584 770 2862 \n",
       "Q 544 3141 544 3541 \n",
       "Q 544 4100 942 4425 \n",
       "Q 1341 4750 2034 4750 \n",
       "Q 2731 4750 3128 4425 \n",
       "Q 3525 4100 3525 3541 \n",
       "Q 3525 3141 3298 2862 \n",
       "Q 3072 2584 2669 2484 \n",
       "Q 3125 2378 3379 2068 \n",
       "Q 3634 1759 3634 1313 \n",
       "Q 3634 634 3220 271 \n",
       "Q 2806 -91 2034 -91 \n",
       "Q 1263 -91 848 271 \n",
       "Q 434 634 434 1313 \n",
       "Q 434 1759 690 2068 \n",
       "Q 947 2378 1403 2484 \n",
       "z\n",
       "M 1172 3481 \n",
       "Q 1172 3119 1398 2916 \n",
       "Q 1625 2713 2034 2713 \n",
       "Q 2441 2713 2670 2916 \n",
       "Q 2900 3119 2900 3481 \n",
       "Q 2900 3844 2670 4047 \n",
       "Q 2441 4250 2034 4250 \n",
       "Q 1625 4250 1398 4047 \n",
       "Q 1172 3844 1172 3481 \n",
       "z\n",
       "\" transform=\"scale(0.015625)\"/>\n",
       "       </defs>\n",
       "       <use xlink:href=\"#DejaVuSans-38\"/>\n",
       "       <use xlink:href=\"#DejaVuSans-30\" x=\"63.623047\"/>\n",
       "      </g>\n",
       "     </g>\n",
       "    </g>\n",
       "   </g>\n",
       "   <g id=\"patch_3\">\n",
       "    <path d=\"M 169.215 234.170129 \n",
       "L 219.435 234.170129 \n",
       "L 219.435 207.324959 \n",
       "L 206.88 206.030835 \n",
       "L 219.435 204.73671 \n",
       "L 219.435 162.542835 \n",
       "L 169.215 162.542835 \n",
       "L 169.215 204.73671 \n",
       "L 181.77 206.030835 \n",
       "L 169.215 207.324959 \n",
       "L 169.215 234.170129 \n",
       "z\n",
       "\" clip-path=\"url(#p965af73812)\" style=\"fill: #ffa500; stroke: #ffa500; stroke-linejoin: miter\"/>\n",
       "   </g>\n",
       "   <g id=\"line2d_21\">\n",
       "    <path d=\"M 194.325 234.170129 \n",
       "L 194.325 254.63507 \n",
       "\" clip-path=\"url(#p965af73812)\" style=\"fill: none; stroke: #ffa500; stroke-linecap: square\"/>\n",
       "   </g>\n",
       "   <g id=\"line2d_22\">\n",
       "    <path d=\"M 194.325 162.542835 \n",
       "L 194.325 55.101893 \n",
       "\" clip-path=\"url(#p965af73812)\" style=\"fill: none; stroke: #ffa500; stroke-linecap: square\"/>\n",
       "   </g>\n",
       "   <g id=\"line2d_23\">\n",
       "    <path d=\"M 181.77 254.63507 \n",
       "L 206.88 254.63507 \n",
       "\" clip-path=\"url(#p965af73812)\" style=\"fill: none; stroke: #ffa500; stroke-linecap: square\"/>\n",
       "   </g>\n",
       "   <g id=\"line2d_24\">\n",
       "    <path d=\"M 181.77 55.101893 \n",
       "L 206.88 55.101893 \n",
       "\" clip-path=\"url(#p965af73812)\" style=\"fill: none; stroke: #ffa500; stroke-linecap: square\"/>\n",
       "   </g>\n",
       "   <g id=\"line2d_25\">\n",
       "    <defs>\n",
       "     <path id=\"mf919bf3744\" d=\"M 0 3 \n",
       "C 0.795609 3 1.55874 2.683901 2.12132 2.12132 \n",
       "C 2.683901 1.55874 3 0.795609 3 0 \n",
       "C 3 -0.795609 2.683901 -1.55874 2.12132 -2.12132 \n",
       "C 1.55874 -2.683901 0.795609 -3 0 -3 \n",
       "C -0.795609 -3 -1.55874 -2.683901 -2.12132 -2.12132 \n",
       "C -2.683901 -1.55874 -3 -0.795609 -3 0 \n",
       "C -3 0.795609 -2.683901 1.55874 -2.12132 2.12132 \n",
       "C -1.55874 2.683901 -0.795609 3 0 3 \n",
       "z\n",
       "\" style=\"stroke: #000000\"/>\n",
       "    </defs>\n",
       "    <g clip-path=\"url(#p965af73812)\">\n",
       "     <use xlink:href=\"#mf919bf3744\" x=\"194.325\" y=\"-1\" style=\"fill-opacity: 0; stroke: #000000\"/>\n",
       "     <use xlink:href=\"#mf919bf3744\" x=\"194.325\" y=\"1.381423\" style=\"fill-opacity: 0; stroke: #000000\"/>\n",
       "     <use xlink:href=\"#mf919bf3744\" x=\"194.325\" y=\"1.381423\" style=\"fill-opacity: 0; stroke: #000000\"/>\n",
       "     <use xlink:href=\"#mf919bf3744\" x=\"194.325\" y=\"1.381423\" style=\"fill-opacity: 0; stroke: #000000\"/>\n",
       "     <use xlink:href=\"#mf919bf3744\" x=\"194.325\" y=\"3.93954\" style=\"fill-opacity: 0; stroke: #000000\"/>\n",
       "     <use xlink:href=\"#mf919bf3744\" x=\"194.325\" y=\"3.93954\" style=\"fill-opacity: 0; stroke: #000000\"/>\n",
       "     <use xlink:href=\"#mf919bf3744\" x=\"194.325\" y=\"3.93954\" style=\"fill-opacity: 0; stroke: #000000\"/>\n",
       "     <use xlink:href=\"#mf919bf3744\" x=\"194.325\" y=\"3.93954\" style=\"fill-opacity: 0; stroke: #000000\"/>\n",
       "     <use xlink:href=\"#mf919bf3744\" x=\"194.325\" y=\"3.93954\" style=\"fill-opacity: 0; stroke: #000000\"/>\n",
       "     <use xlink:href=\"#mf919bf3744\" x=\"194.325\" y=\"3.93954\" style=\"fill-opacity: 0; stroke: #000000\"/>\n",
       "     <use xlink:href=\"#mf919bf3744\" x=\"194.325\" y=\"6.497658\" style=\"fill-opacity: 0; stroke: #000000\"/>\n",
       "     <use xlink:href=\"#mf919bf3744\" x=\"194.325\" y=\"6.497658\" style=\"fill-opacity: 0; stroke: #000000\"/>\n",
       "     <use xlink:href=\"#mf919bf3744\" x=\"194.325\" y=\"6.497658\" style=\"fill-opacity: 0; stroke: #000000\"/>\n",
       "     <use xlink:href=\"#mf919bf3744\" x=\"194.325\" y=\"6.497658\" style=\"fill-opacity: 0; stroke: #000000\"/>\n",
       "     <use xlink:href=\"#mf919bf3744\" x=\"194.325\" y=\"6.497658\" style=\"fill-opacity: 0; stroke: #000000\"/>\n",
       "     <use xlink:href=\"#mf919bf3744\" x=\"194.325\" y=\"6.497658\" style=\"fill-opacity: 0; stroke: #000000\"/>\n",
       "     <use xlink:href=\"#mf919bf3744\" x=\"194.325\" y=\"6.497658\" style=\"fill-opacity: 0; stroke: #000000\"/>\n",
       "     <use xlink:href=\"#mf919bf3744\" x=\"194.325\" y=\"6.497658\" style=\"fill-opacity: 0; stroke: #000000\"/>\n",
       "     <use xlink:href=\"#mf919bf3744\" x=\"194.325\" y=\"6.497658\" style=\"fill-opacity: 0; stroke: #000000\"/>\n",
       "     <use xlink:href=\"#mf919bf3744\" x=\"194.325\" y=\"6.497658\" style=\"fill-opacity: 0; stroke: #000000\"/>\n",
       "     <use xlink:href=\"#mf919bf3744\" x=\"194.325\" y=\"9.055776\" style=\"fill-opacity: 0; stroke: #000000\"/>\n",
       "     <use xlink:href=\"#mf919bf3744\" x=\"194.325\" y=\"11.613893\" style=\"fill-opacity: 0; stroke: #000000\"/>\n",
       "     <use xlink:href=\"#mf919bf3744\" x=\"194.325\" y=\"11.613893\" style=\"fill-opacity: 0; stroke: #000000\"/>\n",
       "     <use xlink:href=\"#mf919bf3744\" x=\"194.325\" y=\"14.172011\" style=\"fill-opacity: 0; stroke: #000000\"/>\n",
       "     <use xlink:href=\"#mf919bf3744\" x=\"194.325\" y=\"14.172011\" style=\"fill-opacity: 0; stroke: #000000\"/>\n",
       "     <use xlink:href=\"#mf919bf3744\" x=\"194.325\" y=\"14.172011\" style=\"fill-opacity: 0; stroke: #000000\"/>\n",
       "     <use xlink:href=\"#mf919bf3744\" x=\"194.325\" y=\"14.172011\" style=\"fill-opacity: 0; stroke: #000000\"/>\n",
       "     <use xlink:href=\"#mf919bf3744\" x=\"194.325\" y=\"14.172011\" style=\"fill-opacity: 0; stroke: #000000\"/>\n",
       "     <use xlink:href=\"#mf919bf3744\" x=\"194.325\" y=\"14.172011\" style=\"fill-opacity: 0; stroke: #000000\"/>\n",
       "     <use xlink:href=\"#mf919bf3744\" x=\"194.325\" y=\"14.172011\" style=\"fill-opacity: 0; stroke: #000000\"/>\n",
       "     <use xlink:href=\"#mf919bf3744\" x=\"194.325\" y=\"14.172011\" style=\"fill-opacity: 0; stroke: #000000\"/>\n",
       "     <use xlink:href=\"#mf919bf3744\" x=\"194.325\" y=\"14.172011\" style=\"fill-opacity: 0; stroke: #000000\"/>\n",
       "     <use xlink:href=\"#mf919bf3744\" x=\"194.325\" y=\"14.172011\" style=\"fill-opacity: 0; stroke: #000000\"/>\n",
       "     <use xlink:href=\"#mf919bf3744\" x=\"194.325\" y=\"16.730129\" style=\"fill-opacity: 0; stroke: #000000\"/>\n",
       "     <use xlink:href=\"#mf919bf3744\" x=\"194.325\" y=\"16.730129\" style=\"fill-opacity: 0; stroke: #000000\"/>\n",
       "     <use xlink:href=\"#mf919bf3744\" x=\"194.325\" y=\"16.730129\" style=\"fill-opacity: 0; stroke: #000000\"/>\n",
       "     <use xlink:href=\"#mf919bf3744\" x=\"194.325\" y=\"16.730129\" style=\"fill-opacity: 0; stroke: #000000\"/>\n",
       "     <use xlink:href=\"#mf919bf3744\" x=\"194.325\" y=\"16.730129\" style=\"fill-opacity: 0; stroke: #000000\"/>\n",
       "     <use xlink:href=\"#mf919bf3744\" x=\"194.325\" y=\"16.730129\" style=\"fill-opacity: 0; stroke: #000000\"/>\n",
       "     <use xlink:href=\"#mf919bf3744\" x=\"194.325\" y=\"16.730129\" style=\"fill-opacity: 0; stroke: #000000\"/>\n",
       "     <use xlink:href=\"#mf919bf3744\" x=\"194.325\" y=\"19.288246\" style=\"fill-opacity: 0; stroke: #000000\"/>\n",
       "     <use xlink:href=\"#mf919bf3744\" x=\"194.325\" y=\"19.288246\" style=\"fill-opacity: 0; stroke: #000000\"/>\n",
       "     <use xlink:href=\"#mf919bf3744\" x=\"194.325\" y=\"19.288246\" style=\"fill-opacity: 0; stroke: #000000\"/>\n",
       "     <use xlink:href=\"#mf919bf3744\" x=\"194.325\" y=\"19.288246\" style=\"fill-opacity: 0; stroke: #000000\"/>\n",
       "     <use xlink:href=\"#mf919bf3744\" x=\"194.325\" y=\"19.288246\" style=\"fill-opacity: 0; stroke: #000000\"/>\n",
       "     <use xlink:href=\"#mf919bf3744\" x=\"194.325\" y=\"19.288246\" style=\"fill-opacity: 0; stroke: #000000\"/>\n",
       "     <use xlink:href=\"#mf919bf3744\" x=\"194.325\" y=\"19.288246\" style=\"fill-opacity: 0; stroke: #000000\"/>\n",
       "     <use xlink:href=\"#mf919bf3744\" x=\"194.325\" y=\"19.288246\" style=\"fill-opacity: 0; stroke: #000000\"/>\n",
       "     <use xlink:href=\"#mf919bf3744\" x=\"194.325\" y=\"19.288246\" style=\"fill-opacity: 0; stroke: #000000\"/>\n",
       "     <use xlink:href=\"#mf919bf3744\" x=\"194.325\" y=\"19.288246\" style=\"fill-opacity: 0; stroke: #000000\"/>\n",
       "     <use xlink:href=\"#mf919bf3744\" x=\"194.325\" y=\"21.846364\" style=\"fill-opacity: 0; stroke: #000000\"/>\n",
       "     <use xlink:href=\"#mf919bf3744\" x=\"194.325\" y=\"21.846364\" style=\"fill-opacity: 0; stroke: #000000\"/>\n",
       "     <use xlink:href=\"#mf919bf3744\" x=\"194.325\" y=\"21.846364\" style=\"fill-opacity: 0; stroke: #000000\"/>\n",
       "     <use xlink:href=\"#mf919bf3744\" x=\"194.325\" y=\"21.846364\" style=\"fill-opacity: 0; stroke: #000000\"/>\n",
       "     <use xlink:href=\"#mf919bf3744\" x=\"194.325\" y=\"21.846364\" style=\"fill-opacity: 0; stroke: #000000\"/>\n",
       "     <use xlink:href=\"#mf919bf3744\" x=\"194.325\" y=\"24.404482\" style=\"fill-opacity: 0; stroke: #000000\"/>\n",
       "     <use xlink:href=\"#mf919bf3744\" x=\"194.325\" y=\"24.404482\" style=\"fill-opacity: 0; stroke: #000000\"/>\n",
       "     <use xlink:href=\"#mf919bf3744\" x=\"194.325\" y=\"24.404482\" style=\"fill-opacity: 0; stroke: #000000\"/>\n",
       "     <use xlink:href=\"#mf919bf3744\" x=\"194.325\" y=\"24.404482\" style=\"fill-opacity: 0; stroke: #000000\"/>\n",
       "     <use xlink:href=\"#mf919bf3744\" x=\"194.325\" y=\"24.404482\" style=\"fill-opacity: 0; stroke: #000000\"/>\n",
       "     <use xlink:href=\"#mf919bf3744\" x=\"194.325\" y=\"24.404482\" style=\"fill-opacity: 0; stroke: #000000\"/>\n",
       "     <use xlink:href=\"#mf919bf3744\" x=\"194.325\" y=\"24.404482\" style=\"fill-opacity: 0; stroke: #000000\"/>\n",
       "     <use xlink:href=\"#mf919bf3744\" x=\"194.325\" y=\"26.962599\" style=\"fill-opacity: 0; stroke: #000000\"/>\n",
       "     <use xlink:href=\"#mf919bf3744\" x=\"194.325\" y=\"26.962599\" style=\"fill-opacity: 0; stroke: #000000\"/>\n",
       "     <use xlink:href=\"#mf919bf3744\" x=\"194.325\" y=\"26.962599\" style=\"fill-opacity: 0; stroke: #000000\"/>\n",
       "     <use xlink:href=\"#mf919bf3744\" x=\"194.325\" y=\"26.962599\" style=\"fill-opacity: 0; stroke: #000000\"/>\n",
       "     <use xlink:href=\"#mf919bf3744\" x=\"194.325\" y=\"26.962599\" style=\"fill-opacity: 0; stroke: #000000\"/>\n",
       "     <use xlink:href=\"#mf919bf3744\" x=\"194.325\" y=\"26.962599\" style=\"fill-opacity: 0; stroke: #000000\"/>\n",
       "     <use xlink:href=\"#mf919bf3744\" x=\"194.325\" y=\"26.962599\" style=\"fill-opacity: 0; stroke: #000000\"/>\n",
       "     <use xlink:href=\"#mf919bf3744\" x=\"194.325\" y=\"26.962599\" style=\"fill-opacity: 0; stroke: #000000\"/>\n",
       "     <use xlink:href=\"#mf919bf3744\" x=\"194.325\" y=\"26.962599\" style=\"fill-opacity: 0; stroke: #000000\"/>\n",
       "     <use xlink:href=\"#mf919bf3744\" x=\"194.325\" y=\"26.962599\" style=\"fill-opacity: 0; stroke: #000000\"/>\n",
       "     <use xlink:href=\"#mf919bf3744\" x=\"194.325\" y=\"26.962599\" style=\"fill-opacity: 0; stroke: #000000\"/>\n",
       "     <use xlink:href=\"#mf919bf3744\" x=\"194.325\" y=\"29.520717\" style=\"fill-opacity: 0; stroke: #000000\"/>\n",
       "     <use xlink:href=\"#mf919bf3744\" x=\"194.325\" y=\"29.520717\" style=\"fill-opacity: 0; stroke: #000000\"/>\n",
       "     <use xlink:href=\"#mf919bf3744\" x=\"194.325\" y=\"29.520717\" style=\"fill-opacity: 0; stroke: #000000\"/>\n",
       "     <use xlink:href=\"#mf919bf3744\" x=\"194.325\" y=\"29.520717\" style=\"fill-opacity: 0; stroke: #000000\"/>\n",
       "     <use xlink:href=\"#mf919bf3744\" x=\"194.325\" y=\"29.520717\" style=\"fill-opacity: 0; stroke: #000000\"/>\n",
       "     <use xlink:href=\"#mf919bf3744\" x=\"194.325\" y=\"29.520717\" style=\"fill-opacity: 0; stroke: #000000\"/>\n",
       "     <use xlink:href=\"#mf919bf3744\" x=\"194.325\" y=\"29.520717\" style=\"fill-opacity: 0; stroke: #000000\"/>\n",
       "     <use xlink:href=\"#mf919bf3744\" x=\"194.325\" y=\"29.520717\" style=\"fill-opacity: 0; stroke: #000000\"/>\n",
       "     <use xlink:href=\"#mf919bf3744\" x=\"194.325\" y=\"29.520717\" style=\"fill-opacity: 0; stroke: #000000\"/>\n",
       "     <use xlink:href=\"#mf919bf3744\" x=\"194.325\" y=\"29.520717\" style=\"fill-opacity: 0; stroke: #000000\"/>\n",
       "     <use xlink:href=\"#mf919bf3744\" x=\"194.325\" y=\"29.520717\" style=\"fill-opacity: 0; stroke: #000000\"/>\n",
       "     <use xlink:href=\"#mf919bf3744\" x=\"194.325\" y=\"29.520717\" style=\"fill-opacity: 0; stroke: #000000\"/>\n",
       "     <use xlink:href=\"#mf919bf3744\" x=\"194.325\" y=\"29.520717\" style=\"fill-opacity: 0; stroke: #000000\"/>\n",
       "     <use xlink:href=\"#mf919bf3744\" x=\"194.325\" y=\"32.078835\" style=\"fill-opacity: 0; stroke: #000000\"/>\n",
       "     <use xlink:href=\"#mf919bf3744\" x=\"194.325\" y=\"32.078835\" style=\"fill-opacity: 0; stroke: #000000\"/>\n",
       "     <use xlink:href=\"#mf919bf3744\" x=\"194.325\" y=\"32.078835\" style=\"fill-opacity: 0; stroke: #000000\"/>\n",
       "     <use xlink:href=\"#mf919bf3744\" x=\"194.325\" y=\"32.078835\" style=\"fill-opacity: 0; stroke: #000000\"/>\n",
       "     <use xlink:href=\"#mf919bf3744\" x=\"194.325\" y=\"32.078835\" style=\"fill-opacity: 0; stroke: #000000\"/>\n",
       "     <use xlink:href=\"#mf919bf3744\" x=\"194.325\" y=\"32.078835\" style=\"fill-opacity: 0; stroke: #000000\"/>\n",
       "     <use xlink:href=\"#mf919bf3744\" x=\"194.325\" y=\"32.078835\" style=\"fill-opacity: 0; stroke: #000000\"/>\n",
       "     <use xlink:href=\"#mf919bf3744\" x=\"194.325\" y=\"32.078835\" style=\"fill-opacity: 0; stroke: #000000\"/>\n",
       "     <use xlink:href=\"#mf919bf3744\" x=\"194.325\" y=\"32.078835\" style=\"fill-opacity: 0; stroke: #000000\"/>\n",
       "     <use xlink:href=\"#mf919bf3744\" x=\"194.325\" y=\"34.636952\" style=\"fill-opacity: 0; stroke: #000000\"/>\n",
       "     <use xlink:href=\"#mf919bf3744\" x=\"194.325\" y=\"34.636952\" style=\"fill-opacity: 0; stroke: #000000\"/>\n",
       "     <use xlink:href=\"#mf919bf3744\" x=\"194.325\" y=\"34.636952\" style=\"fill-opacity: 0; stroke: #000000\"/>\n",
       "     <use xlink:href=\"#mf919bf3744\" x=\"194.325\" y=\"34.636952\" style=\"fill-opacity: 0; stroke: #000000\"/>\n",
       "     <use xlink:href=\"#mf919bf3744\" x=\"194.325\" y=\"34.636952\" style=\"fill-opacity: 0; stroke: #000000\"/>\n",
       "     <use xlink:href=\"#mf919bf3744\" x=\"194.325\" y=\"34.636952\" style=\"fill-opacity: 0; stroke: #000000\"/>\n",
       "     <use xlink:href=\"#mf919bf3744\" x=\"194.325\" y=\"34.636952\" style=\"fill-opacity: 0; stroke: #000000\"/>\n",
       "     <use xlink:href=\"#mf919bf3744\" x=\"194.325\" y=\"34.636952\" style=\"fill-opacity: 0; stroke: #000000\"/>\n",
       "     <use xlink:href=\"#mf919bf3744\" x=\"194.325\" y=\"34.636952\" style=\"fill-opacity: 0; stroke: #000000\"/>\n",
       "     <use xlink:href=\"#mf919bf3744\" x=\"194.325\" y=\"34.636952\" style=\"fill-opacity: 0; stroke: #000000\"/>\n",
       "     <use xlink:href=\"#mf919bf3744\" x=\"194.325\" y=\"34.636952\" style=\"fill-opacity: 0; stroke: #000000\"/>\n",
       "     <use xlink:href=\"#mf919bf3744\" x=\"194.325\" y=\"34.636952\" style=\"fill-opacity: 0; stroke: #000000\"/>\n",
       "     <use xlink:href=\"#mf919bf3744\" x=\"194.325\" y=\"34.636952\" style=\"fill-opacity: 0; stroke: #000000\"/>\n",
       "     <use xlink:href=\"#mf919bf3744\" x=\"194.325\" y=\"34.636952\" style=\"fill-opacity: 0; stroke: #000000\"/>\n",
       "     <use xlink:href=\"#mf919bf3744\" x=\"194.325\" y=\"34.636952\" style=\"fill-opacity: 0; stroke: #000000\"/>\n",
       "     <use xlink:href=\"#mf919bf3744\" x=\"194.325\" y=\"34.636952\" style=\"fill-opacity: 0; stroke: #000000\"/>\n",
       "     <use xlink:href=\"#mf919bf3744\" x=\"194.325\" y=\"34.636952\" style=\"fill-opacity: 0; stroke: #000000\"/>\n",
       "     <use xlink:href=\"#mf919bf3744\" x=\"194.325\" y=\"34.636952\" style=\"fill-opacity: 0; stroke: #000000\"/>\n",
       "     <use xlink:href=\"#mf919bf3744\" x=\"194.325\" y=\"37.19507\" style=\"fill-opacity: 0; stroke: #000000\"/>\n",
       "     <use xlink:href=\"#mf919bf3744\" x=\"194.325\" y=\"37.19507\" style=\"fill-opacity: 0; stroke: #000000\"/>\n",
       "     <use xlink:href=\"#mf919bf3744\" x=\"194.325\" y=\"37.19507\" style=\"fill-opacity: 0; stroke: #000000\"/>\n",
       "     <use xlink:href=\"#mf919bf3744\" x=\"194.325\" y=\"37.19507\" style=\"fill-opacity: 0; stroke: #000000\"/>\n",
       "     <use xlink:href=\"#mf919bf3744\" x=\"194.325\" y=\"37.19507\" style=\"fill-opacity: 0; stroke: #000000\"/>\n",
       "     <use xlink:href=\"#mf919bf3744\" x=\"194.325\" y=\"37.19507\" style=\"fill-opacity: 0; stroke: #000000\"/>\n",
       "     <use xlink:href=\"#mf919bf3744\" x=\"194.325\" y=\"37.19507\" style=\"fill-opacity: 0; stroke: #000000\"/>\n",
       "     <use xlink:href=\"#mf919bf3744\" x=\"194.325\" y=\"39.753187\" style=\"fill-opacity: 0; stroke: #000000\"/>\n",
       "     <use xlink:href=\"#mf919bf3744\" x=\"194.325\" y=\"39.753187\" style=\"fill-opacity: 0; stroke: #000000\"/>\n",
       "     <use xlink:href=\"#mf919bf3744\" x=\"194.325\" y=\"39.753187\" style=\"fill-opacity: 0; stroke: #000000\"/>\n",
       "     <use xlink:href=\"#mf919bf3744\" x=\"194.325\" y=\"39.753187\" style=\"fill-opacity: 0; stroke: #000000\"/>\n",
       "     <use xlink:href=\"#mf919bf3744\" x=\"194.325\" y=\"39.753187\" style=\"fill-opacity: 0; stroke: #000000\"/>\n",
       "     <use xlink:href=\"#mf919bf3744\" x=\"194.325\" y=\"39.753187\" style=\"fill-opacity: 0; stroke: #000000\"/>\n",
       "     <use xlink:href=\"#mf919bf3744\" x=\"194.325\" y=\"39.753187\" style=\"fill-opacity: 0; stroke: #000000\"/>\n",
       "     <use xlink:href=\"#mf919bf3744\" x=\"194.325\" y=\"39.753187\" style=\"fill-opacity: 0; stroke: #000000\"/>\n",
       "     <use xlink:href=\"#mf919bf3744\" x=\"194.325\" y=\"39.753187\" style=\"fill-opacity: 0; stroke: #000000\"/>\n",
       "     <use xlink:href=\"#mf919bf3744\" x=\"194.325\" y=\"39.753187\" style=\"fill-opacity: 0; stroke: #000000\"/>\n",
       "     <use xlink:href=\"#mf919bf3744\" x=\"194.325\" y=\"39.753187\" style=\"fill-opacity: 0; stroke: #000000\"/>\n",
       "     <use xlink:href=\"#mf919bf3744\" x=\"194.325\" y=\"42.311305\" style=\"fill-opacity: 0; stroke: #000000\"/>\n",
       "     <use xlink:href=\"#mf919bf3744\" x=\"194.325\" y=\"42.311305\" style=\"fill-opacity: 0; stroke: #000000\"/>\n",
       "     <use xlink:href=\"#mf919bf3744\" x=\"194.325\" y=\"42.311305\" style=\"fill-opacity: 0; stroke: #000000\"/>\n",
       "     <use xlink:href=\"#mf919bf3744\" x=\"194.325\" y=\"42.311305\" style=\"fill-opacity: 0; stroke: #000000\"/>\n",
       "     <use xlink:href=\"#mf919bf3744\" x=\"194.325\" y=\"42.311305\" style=\"fill-opacity: 0; stroke: #000000\"/>\n",
       "     <use xlink:href=\"#mf919bf3744\" x=\"194.325\" y=\"42.311305\" style=\"fill-opacity: 0; stroke: #000000\"/>\n",
       "     <use xlink:href=\"#mf919bf3744\" x=\"194.325\" y=\"42.311305\" style=\"fill-opacity: 0; stroke: #000000\"/>\n",
       "     <use xlink:href=\"#mf919bf3744\" x=\"194.325\" y=\"42.311305\" style=\"fill-opacity: 0; stroke: #000000\"/>\n",
       "     <use xlink:href=\"#mf919bf3744\" x=\"194.325\" y=\"42.311305\" style=\"fill-opacity: 0; stroke: #000000\"/>\n",
       "     <use xlink:href=\"#mf919bf3744\" x=\"194.325\" y=\"42.311305\" style=\"fill-opacity: 0; stroke: #000000\"/>\n",
       "     <use xlink:href=\"#mf919bf3744\" x=\"194.325\" y=\"42.311305\" style=\"fill-opacity: 0; stroke: #000000\"/>\n",
       "     <use xlink:href=\"#mf919bf3744\" x=\"194.325\" y=\"42.311305\" style=\"fill-opacity: 0; stroke: #000000\"/>\n",
       "     <use xlink:href=\"#mf919bf3744\" x=\"194.325\" y=\"44.869423\" style=\"fill-opacity: 0; stroke: #000000\"/>\n",
       "     <use xlink:href=\"#mf919bf3744\" x=\"194.325\" y=\"44.869423\" style=\"fill-opacity: 0; stroke: #000000\"/>\n",
       "     <use xlink:href=\"#mf919bf3744\" x=\"194.325\" y=\"44.869423\" style=\"fill-opacity: 0; stroke: #000000\"/>\n",
       "     <use xlink:href=\"#mf919bf3744\" x=\"194.325\" y=\"44.869423\" style=\"fill-opacity: 0; stroke: #000000\"/>\n",
       "     <use xlink:href=\"#mf919bf3744\" x=\"194.325\" y=\"44.869423\" style=\"fill-opacity: 0; stroke: #000000\"/>\n",
       "     <use xlink:href=\"#mf919bf3744\" x=\"194.325\" y=\"44.869423\" style=\"fill-opacity: 0; stroke: #000000\"/>\n",
       "     <use xlink:href=\"#mf919bf3744\" x=\"194.325\" y=\"44.869423\" style=\"fill-opacity: 0; stroke: #000000\"/>\n",
       "     <use xlink:href=\"#mf919bf3744\" x=\"194.325\" y=\"44.869423\" style=\"fill-opacity: 0; stroke: #000000\"/>\n",
       "     <use xlink:href=\"#mf919bf3744\" x=\"194.325\" y=\"44.869423\" style=\"fill-opacity: 0; stroke: #000000\"/>\n",
       "     <use xlink:href=\"#mf919bf3744\" x=\"194.325\" y=\"44.869423\" style=\"fill-opacity: 0; stroke: #000000\"/>\n",
       "     <use xlink:href=\"#mf919bf3744\" x=\"194.325\" y=\"44.869423\" style=\"fill-opacity: 0; stroke: #000000\"/>\n",
       "     <use xlink:href=\"#mf919bf3744\" x=\"194.325\" y=\"44.869423\" style=\"fill-opacity: 0; stroke: #000000\"/>\n",
       "     <use xlink:href=\"#mf919bf3744\" x=\"194.325\" y=\"44.869423\" style=\"fill-opacity: 0; stroke: #000000\"/>\n",
       "     <use xlink:href=\"#mf919bf3744\" x=\"194.325\" y=\"44.869423\" style=\"fill-opacity: 0; stroke: #000000\"/>\n",
       "     <use xlink:href=\"#mf919bf3744\" x=\"194.325\" y=\"44.869423\" style=\"fill-opacity: 0; stroke: #000000\"/>\n",
       "     <use xlink:href=\"#mf919bf3744\" x=\"194.325\" y=\"44.869423\" style=\"fill-opacity: 0; stroke: #000000\"/>\n",
       "     <use xlink:href=\"#mf919bf3744\" x=\"194.325\" y=\"47.42754\" style=\"fill-opacity: 0; stroke: #000000\"/>\n",
       "     <use xlink:href=\"#mf919bf3744\" x=\"194.325\" y=\"47.42754\" style=\"fill-opacity: 0; stroke: #000000\"/>\n",
       "     <use xlink:href=\"#mf919bf3744\" x=\"194.325\" y=\"47.42754\" style=\"fill-opacity: 0; stroke: #000000\"/>\n",
       "     <use xlink:href=\"#mf919bf3744\" x=\"194.325\" y=\"47.42754\" style=\"fill-opacity: 0; stroke: #000000\"/>\n",
       "     <use xlink:href=\"#mf919bf3744\" x=\"194.325\" y=\"47.42754\" style=\"fill-opacity: 0; stroke: #000000\"/>\n",
       "     <use xlink:href=\"#mf919bf3744\" x=\"194.325\" y=\"47.42754\" style=\"fill-opacity: 0; stroke: #000000\"/>\n",
       "     <use xlink:href=\"#mf919bf3744\" x=\"194.325\" y=\"47.42754\" style=\"fill-opacity: 0; stroke: #000000\"/>\n",
       "     <use xlink:href=\"#mf919bf3744\" x=\"194.325\" y=\"47.42754\" style=\"fill-opacity: 0; stroke: #000000\"/>\n",
       "     <use xlink:href=\"#mf919bf3744\" x=\"194.325\" y=\"47.42754\" style=\"fill-opacity: 0; stroke: #000000\"/>\n",
       "     <use xlink:href=\"#mf919bf3744\" x=\"194.325\" y=\"49.985658\" style=\"fill-opacity: 0; stroke: #000000\"/>\n",
       "     <use xlink:href=\"#mf919bf3744\" x=\"194.325\" y=\"49.985658\" style=\"fill-opacity: 0; stroke: #000000\"/>\n",
       "     <use xlink:href=\"#mf919bf3744\" x=\"194.325\" y=\"49.985658\" style=\"fill-opacity: 0; stroke: #000000\"/>\n",
       "     <use xlink:href=\"#mf919bf3744\" x=\"194.325\" y=\"49.985658\" style=\"fill-opacity: 0; stroke: #000000\"/>\n",
       "     <use xlink:href=\"#mf919bf3744\" x=\"194.325\" y=\"49.985658\" style=\"fill-opacity: 0; stroke: #000000\"/>\n",
       "     <use xlink:href=\"#mf919bf3744\" x=\"194.325\" y=\"49.985658\" style=\"fill-opacity: 0; stroke: #000000\"/>\n",
       "     <use xlink:href=\"#mf919bf3744\" x=\"194.325\" y=\"49.985658\" style=\"fill-opacity: 0; stroke: #000000\"/>\n",
       "     <use xlink:href=\"#mf919bf3744\" x=\"194.325\" y=\"49.985658\" style=\"fill-opacity: 0; stroke: #000000\"/>\n",
       "     <use xlink:href=\"#mf919bf3744\" x=\"194.325\" y=\"49.985658\" style=\"fill-opacity: 0; stroke: #000000\"/>\n",
       "     <use xlink:href=\"#mf919bf3744\" x=\"194.325\" y=\"49.985658\" style=\"fill-opacity: 0; stroke: #000000\"/>\n",
       "     <use xlink:href=\"#mf919bf3744\" x=\"194.325\" y=\"49.985658\" style=\"fill-opacity: 0; stroke: #000000\"/>\n",
       "     <use xlink:href=\"#mf919bf3744\" x=\"194.325\" y=\"49.985658\" style=\"fill-opacity: 0; stroke: #000000\"/>\n",
       "     <use xlink:href=\"#mf919bf3744\" x=\"194.325\" y=\"49.985658\" style=\"fill-opacity: 0; stroke: #000000\"/>\n",
       "     <use xlink:href=\"#mf919bf3744\" x=\"194.325\" y=\"49.985658\" style=\"fill-opacity: 0; stroke: #000000\"/>\n",
       "     <use xlink:href=\"#mf919bf3744\" x=\"194.325\" y=\"49.985658\" style=\"fill-opacity: 0; stroke: #000000\"/>\n",
       "     <use xlink:href=\"#mf919bf3744\" x=\"194.325\" y=\"49.985658\" style=\"fill-opacity: 0; stroke: #000000\"/>\n",
       "     <use xlink:href=\"#mf919bf3744\" x=\"194.325\" y=\"52.543776\" style=\"fill-opacity: 0; stroke: #000000\"/>\n",
       "     <use xlink:href=\"#mf919bf3744\" x=\"194.325\" y=\"52.543776\" style=\"fill-opacity: 0; stroke: #000000\"/>\n",
       "     <use xlink:href=\"#mf919bf3744\" x=\"194.325\" y=\"52.543776\" style=\"fill-opacity: 0; stroke: #000000\"/>\n",
       "     <use xlink:href=\"#mf919bf3744\" x=\"194.325\" y=\"52.543776\" style=\"fill-opacity: 0; stroke: #000000\"/>\n",
       "     <use xlink:href=\"#mf919bf3744\" x=\"194.325\" y=\"52.543776\" style=\"fill-opacity: 0; stroke: #000000\"/>\n",
       "     <use xlink:href=\"#mf919bf3744\" x=\"194.325\" y=\"52.543776\" style=\"fill-opacity: 0; stroke: #000000\"/>\n",
       "     <use xlink:href=\"#mf919bf3744\" x=\"194.325\" y=\"52.543776\" style=\"fill-opacity: 0; stroke: #000000\"/>\n",
       "     <use xlink:href=\"#mf919bf3744\" x=\"194.325\" y=\"52.543776\" style=\"fill-opacity: 0; stroke: #000000\"/>\n",
       "     <use xlink:href=\"#mf919bf3744\" x=\"194.325\" y=\"52.543776\" style=\"fill-opacity: 0; stroke: #000000\"/>\n",
       "     <use xlink:href=\"#mf919bf3744\" x=\"194.325\" y=\"52.543776\" style=\"fill-opacity: 0; stroke: #000000\"/>\n",
       "     <use xlink:href=\"#mf919bf3744\" x=\"194.325\" y=\"52.543776\" style=\"fill-opacity: 0; stroke: #000000\"/>\n",
       "    </g>\n",
       "   </g>\n",
       "   <g id=\"line2d_26\">\n",
       "    <path d=\"M 181.77 206.030835 \n",
       "L 206.88 206.030835 \n",
       "\" clip-path=\"url(#p965af73812)\" style=\"fill: none; stroke: #ffa500; stroke-linecap: square\"/>\n",
       "   </g>\n",
       "   <g id=\"patch_4\">\n",
       "    <path d=\"M 26.925 257.193187 \n",
       "L 26.925 39.753187 \n",
       "\" style=\"fill: none; stroke: #000000; stroke-width: 0.8; stroke-linejoin: miter; stroke-linecap: square\"/>\n",
       "   </g>\n",
       "   <g id=\"patch_5\">\n",
       "    <path d=\"M 26.925 257.193187 \n",
       "L 361.725 257.193187 \n",
       "\" style=\"fill: none; stroke: #000000; stroke-width: 0.8; stroke-linejoin: miter; stroke-linecap: square\"/>\n",
       "   </g>\n",
       "   <g id=\"text_11\">\n",
       "    <!-- Распределение количества событий  -->\n",
       "    <g transform=\"translate(57.132656 18.07625)scale(0.14 -0.14)\">\n",
       "     <defs>\n",
       "      <path id=\"DejaVuSans-420\" d=\"M 1259 4147 \n",
       "L 1259 2394 \n",
       "L 2053 2394 \n",
       "Q 2494 2394 2734 2622 \n",
       "Q 2975 2850 2975 3272 \n",
       "Q 2975 3691 2734 3919 \n",
       "Q 2494 4147 2053 4147 \n",
       "L 1259 4147 \n",
       "z\n",
       "M 628 4666 \n",
       "L 2053 4666 \n",
       "Q 2838 4666 3239 4311 \n",
       "Q 3641 3956 3641 3272 \n",
       "Q 3641 2581 3239 2228 \n",
       "Q 2838 1875 2053 1875 \n",
       "L 1259 1875 \n",
       "L 1259 0 \n",
       "L 628 0 \n",
       "L 628 4666 \n",
       "z\n",
       "\" transform=\"scale(0.015625)\"/>\n",
       "      <path id=\"DejaVuSans-430\" d=\"M 2194 1759 \n",
       "Q 1497 1759 1228 1600 \n",
       "Q 959 1441 959 1056 \n",
       "Q 959 750 1161 570 \n",
       "Q 1363 391 1709 391 \n",
       "Q 2188 391 2477 730 \n",
       "Q 2766 1069 2766 1631 \n",
       "L 2766 1759 \n",
       "L 2194 1759 \n",
       "z\n",
       "M 3341 1997 \n",
       "L 3341 0 \n",
       "L 2766 0 \n",
       "L 2766 531 \n",
       "Q 2569 213 2275 61 \n",
       "Q 1981 -91 1556 -91 \n",
       "Q 1019 -91 701 211 \n",
       "Q 384 513 384 1019 \n",
       "Q 384 1609 779 1909 \n",
       "Q 1175 2209 1959 2209 \n",
       "L 2766 2209 \n",
       "L 2766 2266 \n",
       "Q 2766 2663 2505 2880 \n",
       "Q 2244 3097 1772 3097 \n",
       "Q 1472 3097 1187 3025 \n",
       "Q 903 2953 641 2809 \n",
       "L 641 3341 \n",
       "Q 956 3463 1253 3523 \n",
       "Q 1550 3584 1831 3584 \n",
       "Q 2591 3584 2966 3190 \n",
       "Q 3341 2797 3341 1997 \n",
       "z\n",
       "\" transform=\"scale(0.015625)\"/>\n",
       "      <path id=\"DejaVuSans-441\" d=\"M 3122 3366 \n",
       "L 3122 2828 \n",
       "Q 2878 2963 2633 3030 \n",
       "Q 2388 3097 2138 3097 \n",
       "Q 1578 3097 1268 2742 \n",
       "Q 959 2388 959 1747 \n",
       "Q 959 1106 1268 751 \n",
       "Q 1578 397 2138 397 \n",
       "Q 2388 397 2633 464 \n",
       "Q 2878 531 3122 666 \n",
       "L 3122 134 \n",
       "Q 2881 22 2623 -34 \n",
       "Q 2366 -91 2075 -91 \n",
       "Q 1284 -91 818 406 \n",
       "Q 353 903 353 1747 \n",
       "Q 353 2603 823 3093 \n",
       "Q 1294 3584 2113 3584 \n",
       "Q 2378 3584 2631 3529 \n",
       "Q 2884 3475 3122 3366 \n",
       "z\n",
       "\" transform=\"scale(0.015625)\"/>\n",
       "      <path id=\"DejaVuSans-43f\" d=\"M 3603 3500 \n",
       "L 3603 0 \n",
       "L 3025 0 \n",
       "L 3025 3041 \n",
       "L 1159 3041 \n",
       "L 1159 0 \n",
       "L 581 0 \n",
       "L 581 3500 \n",
       "L 3603 3500 \n",
       "z\n",
       "\" transform=\"scale(0.015625)\"/>\n",
       "      <path id=\"DejaVuSans-440\" d=\"M 1159 525 \n",
       "L 1159 -1331 \n",
       "L 581 -1331 \n",
       "L 581 3500 \n",
       "L 1159 3500 \n",
       "L 1159 2969 \n",
       "Q 1341 3281 1617 3432 \n",
       "Q 1894 3584 2278 3584 \n",
       "Q 2916 3584 3314 3078 \n",
       "Q 3713 2572 3713 1747 \n",
       "Q 3713 922 3314 415 \n",
       "Q 2916 -91 2278 -91 \n",
       "Q 1894 -91 1617 61 \n",
       "Q 1341 213 1159 525 \n",
       "z\n",
       "M 3116 1747 \n",
       "Q 3116 2381 2855 2742 \n",
       "Q 2594 3103 2138 3103 \n",
       "Q 1681 3103 1420 2742 \n",
       "Q 1159 2381 1159 1747 \n",
       "Q 1159 1113 1420 752 \n",
       "Q 1681 391 2138 391 \n",
       "Q 2594 391 2855 752 \n",
       "Q 3116 1113 3116 1747 \n",
       "z\n",
       "\" transform=\"scale(0.015625)\"/>\n",
       "      <path id=\"DejaVuSans-435\" d=\"M 3597 1894 \n",
       "L 3597 1613 \n",
       "L 953 1613 \n",
       "Q 991 1019 1311 708 \n",
       "Q 1631 397 2203 397 \n",
       "Q 2534 397 2845 478 \n",
       "Q 3156 559 3463 722 \n",
       "L 3463 178 \n",
       "Q 3153 47 2828 -22 \n",
       "Q 2503 -91 2169 -91 \n",
       "Q 1331 -91 842 396 \n",
       "Q 353 884 353 1716 \n",
       "Q 353 2575 817 3079 \n",
       "Q 1281 3584 2069 3584 \n",
       "Q 2775 3584 3186 3129 \n",
       "Q 3597 2675 3597 1894 \n",
       "z\n",
       "M 3022 2063 \n",
       "Q 3016 2534 2758 2815 \n",
       "Q 2500 3097 2075 3097 \n",
       "Q 1594 3097 1305 2825 \n",
       "Q 1016 2553 972 2059 \n",
       "L 3022 2063 \n",
       "z\n",
       "\" transform=\"scale(0.015625)\"/>\n",
       "      <path id=\"DejaVuSans-434\" d=\"M 1384 459 \n",
       "L 3053 459 \n",
       "L 3053 3041 \n",
       "L 1844 3041 \n",
       "L 1844 2603 \n",
       "Q 1844 1316 1475 628 \n",
       "L 1384 459 \n",
       "z\n",
       "M 550 459 \n",
       "Q 834 584 959 850 \n",
       "Q 1266 1509 1266 2838 \n",
       "L 1266 3500 \n",
       "L 3631 3500 \n",
       "L 3631 459 \n",
       "L 4091 459 \n",
       "L 4091 -884 \n",
       "L 3631 -884 \n",
       "L 3631 0 \n",
       "L 794 0 \n",
       "L 794 -884 \n",
       "L 334 -884 \n",
       "L 334 459 \n",
       "L 550 459 \n",
       "z\n",
       "\" transform=\"scale(0.015625)\"/>\n",
       "      <path id=\"DejaVuSans-43b\" d=\"M 238 0 \n",
       "L 238 478 \n",
       "Q 806 566 981 959 \n",
       "Q 1194 1513 1194 2928 \n",
       "L 1194 3500 \n",
       "L 3559 3500 \n",
       "L 3559 0 \n",
       "L 2984 0 \n",
       "L 2984 3041 \n",
       "L 1769 3041 \n",
       "L 1769 2694 \n",
       "Q 1769 1344 1494 738 \n",
       "Q 1200 91 238 0 \n",
       "z\n",
       "\" transform=\"scale(0.015625)\"/>\n",
       "      <path id=\"DejaVuSans-43d\" d=\"M 581 3500 \n",
       "L 1159 3500 \n",
       "L 1159 2072 \n",
       "L 3025 2072 \n",
       "L 3025 3500 \n",
       "L 3603 3500 \n",
       "L 3603 0 \n",
       "L 3025 0 \n",
       "L 3025 1613 \n",
       "L 1159 1613 \n",
       "L 1159 0 \n",
       "L 581 0 \n",
       "L 581 3500 \n",
       "z\n",
       "\" transform=\"scale(0.015625)\"/>\n",
       "      <path id=\"DejaVuSans-438\" d=\"M 3578 3500 \n",
       "L 3578 0 \n",
       "L 3006 0 \n",
       "L 3006 2809 \n",
       "L 1319 0 \n",
       "L 581 0 \n",
       "L 581 3500 \n",
       "L 1153 3500 \n",
       "L 1153 697 \n",
       "L 2838 3500 \n",
       "L 3578 3500 \n",
       "z\n",
       "\" transform=\"scale(0.015625)\"/>\n",
       "      <path id=\"DejaVuSans-20\" transform=\"scale(0.015625)\"/>\n",
       "      <path id=\"DejaVuSans-43a\" d=\"M 581 3500 \n",
       "L 1153 3500 \n",
       "L 1153 1856 \n",
       "L 2775 3500 \n",
       "L 3481 3500 \n",
       "L 2144 2147 \n",
       "L 3653 0 \n",
       "L 3009 0 \n",
       "L 1769 1766 \n",
       "L 1153 1141 \n",
       "L 1153 0 \n",
       "L 581 0 \n",
       "L 581 3500 \n",
       "z\n",
       "\" transform=\"scale(0.015625)\"/>\n",
       "      <path id=\"DejaVuSans-43e\" d=\"M 1959 3097 \n",
       "Q 1497 3097 1228 2736 \n",
       "Q 959 2375 959 1747 \n",
       "Q 959 1119 1226 758 \n",
       "Q 1494 397 1959 397 \n",
       "Q 2419 397 2687 759 \n",
       "Q 2956 1122 2956 1747 \n",
       "Q 2956 2369 2687 2733 \n",
       "Q 2419 3097 1959 3097 \n",
       "z\n",
       "M 1959 3584 \n",
       "Q 2709 3584 3137 3096 \n",
       "Q 3566 2609 3566 1747 \n",
       "Q 3566 888 3137 398 \n",
       "Q 2709 -91 1959 -91 \n",
       "Q 1206 -91 779 398 \n",
       "Q 353 888 353 1747 \n",
       "Q 353 2609 779 3096 \n",
       "Q 1206 3584 1959 3584 \n",
       "z\n",
       "\" transform=\"scale(0.015625)\"/>\n",
       "      <path id=\"DejaVuSans-447\" d=\"M 2625 0 \n",
       "L 2625 1472 \n",
       "L 1553 1472 \n",
       "Q 1075 1472 756 1769 \n",
       "Q 469 2038 469 2613 \n",
       "L 469 3500 \n",
       "L 1044 3500 \n",
       "L 1044 2666 \n",
       "Q 1044 2300 1206 2116 \n",
       "Q 1372 1931 1697 1931 \n",
       "L 2625 1931 \n",
       "L 2625 3500 \n",
       "L 3200 3500 \n",
       "L 3200 0 \n",
       "L 2625 0 \n",
       "z\n",
       "\" transform=\"scale(0.015625)\"/>\n",
       "      <path id=\"DejaVuSans-442\" d=\"M 188 3500 \n",
       "L 3541 3500 \n",
       "L 3541 3041 \n",
       "L 2147 3041 \n",
       "L 2147 0 \n",
       "L 1581 0 \n",
       "L 1581 3041 \n",
       "L 188 3041 \n",
       "L 188 3500 \n",
       "z\n",
       "\" transform=\"scale(0.015625)\"/>\n",
       "      <path id=\"DejaVuSans-432\" d=\"M 1156 1613 \n",
       "L 1156 459 \n",
       "L 1975 459 \n",
       "Q 2369 459 2575 607 \n",
       "Q 2781 756 2781 1038 \n",
       "Q 2781 1319 2575 1466 \n",
       "Q 2369 1613 1975 1613 \n",
       "L 1156 1613 \n",
       "z\n",
       "M 1156 3041 \n",
       "L 1156 2072 \n",
       "L 1913 2072 \n",
       "Q 2238 2072 2444 2201 \n",
       "Q 2650 2331 2650 2563 \n",
       "Q 2650 2794 2444 2917 \n",
       "Q 2238 3041 1913 3041 \n",
       "L 1156 3041 \n",
       "z\n",
       "M 581 3500 \n",
       "L 1950 3500 \n",
       "Q 2566 3500 2897 3275 \n",
       "Q 3228 3050 3228 2634 \n",
       "Q 3228 2313 3059 2123 \n",
       "Q 2891 1934 2559 1888 \n",
       "Q 2956 1813 3175 1575 \n",
       "Q 3394 1338 3394 981 \n",
       "Q 3394 513 3033 256 \n",
       "Q 2672 0 2003 0 \n",
       "L 581 0 \n",
       "L 581 3500 \n",
       "z\n",
       "\" transform=\"scale(0.015625)\"/>\n",
       "      <path id=\"DejaVuSans-431\" d=\"M 1991 3584 \n",
       "Q 2741 3584 3169 3096 \n",
       "Q 3597 2609 3597 1747 \n",
       "Q 3597 888 3169 398 \n",
       "Q 2741 -91 1991 -91 \n",
       "Q 1238 -91 822 384 \n",
       "Q 406 859 384 1747 \n",
       "L 366 2463 \n",
       "Q 350 2834 350 2963 \n",
       "Q 350 3463 531 3831 \n",
       "Q 816 4409 1308 4659 \n",
       "Q 1800 4909 2625 4916 \n",
       "Q 3006 4919 3175 4972 \n",
       "L 3334 4516 \n",
       "Q 3181 4453 3041 4450 \n",
       "L 2259 4397 \n",
       "Q 1866 4369 1628 4231 \n",
       "Q 1006 3866 947 3388 \n",
       "L 925 3213 \n",
       "Q 1331 3584 1991 3584 \n",
       "z\n",
       "M 1991 3097 \n",
       "Q 1528 3097 1259 2736 \n",
       "Q 991 2375 991 1747 \n",
       "Q 991 1119 1258 758 \n",
       "Q 1525 397 1991 397 \n",
       "Q 2450 397 2719 759 \n",
       "Q 2988 1122 2988 1747 \n",
       "Q 2988 2369 2719 2733 \n",
       "Q 2450 3097 1991 3097 \n",
       "z\n",
       "\" transform=\"scale(0.015625)\"/>\n",
       "      <path id=\"DejaVuSans-44b\" d=\"M 3909 3500 \n",
       "L 4484 3500 \n",
       "L 4484 0 \n",
       "L 3909 0 \n",
       "L 3909 3500 \n",
       "z\n",
       "M 4197 3584 \n",
       "L 4197 3584 \n",
       "z\n",
       "M 2781 1038 \n",
       "Q 2781 1319 2576 1466 \n",
       "Q 2372 1613 1978 1613 \n",
       "L 1159 1613 \n",
       "L 1159 459 \n",
       "L 1978 459 \n",
       "Q 2372 459 2576 607 \n",
       "Q 2781 756 2781 1038 \n",
       "z\n",
       "M 581 3500 \n",
       "L 1159 3500 \n",
       "L 1159 2072 \n",
       "L 2003 2072 \n",
       "Q 2672 2072 3033 1817 \n",
       "Q 3394 1563 3394 1038 \n",
       "Q 3394 513 3033 256 \n",
       "Q 2672 0 2003 0 \n",
       "L 581 0 \n",
       "L 581 3500 \n",
       "z\n",
       "\" transform=\"scale(0.015625)\"/>\n",
       "      <path id=\"DejaVuSans-439\" d=\"M 3578 3500 \n",
       "L 3578 0 \n",
       "L 3006 0 \n",
       "L 3006 2809 \n",
       "L 1319 0 \n",
       "L 581 0 \n",
       "L 581 3500 \n",
       "L 1153 3500 \n",
       "L 1153 697 \n",
       "L 2838 3500 \n",
       "L 3578 3500 \n",
       "z\n",
       "M 1103 4862 \n",
       "L 1472 4862 \n",
       "Q 1506 4628 1657 4510 \n",
       "Q 1809 4393 2081 4393 \n",
       "Q 2350 4393 2500 4509 \n",
       "Q 2650 4625 2691 4862 \n",
       "L 3059 4862 \n",
       "Q 3028 4415 2781 4190 \n",
       "Q 2534 3965 2081 3965 \n",
       "Q 1628 3965 1381 4190 \n",
       "Q 1134 4415 1103 4862 \n",
       "z\n",
       "\" transform=\"scale(0.015625)\"/>\n",
       "     </defs>\n",
       "     <use xlink:href=\"#DejaVuSans-420\"/>\n",
       "     <use xlink:href=\"#DejaVuSans-430\" x=\"60.302734\"/>\n",
       "     <use xlink:href=\"#DejaVuSans-441\" x=\"121.582031\"/>\n",
       "     <use xlink:href=\"#DejaVuSans-43f\" x=\"176.5625\"/>\n",
       "     <use xlink:href=\"#DejaVuSans-440\" x=\"241.943359\"/>\n",
       "     <use xlink:href=\"#DejaVuSans-435\" x=\"305.419922\"/>\n",
       "     <use xlink:href=\"#DejaVuSans-434\" x=\"366.943359\"/>\n",
       "     <use xlink:href=\"#DejaVuSans-435\" x=\"436.083984\"/>\n",
       "     <use xlink:href=\"#DejaVuSans-43b\" x=\"497.607422\"/>\n",
       "     <use xlink:href=\"#DejaVuSans-435\" x=\"561.523438\"/>\n",
       "     <use xlink:href=\"#DejaVuSans-43d\" x=\"623.046875\"/>\n",
       "     <use xlink:href=\"#DejaVuSans-438\" x=\"688.427734\"/>\n",
       "     <use xlink:href=\"#DejaVuSans-435\" x=\"753.417969\"/>\n",
       "     <use xlink:href=\"#DejaVuSans-20\" x=\"814.941406\"/>\n",
       "     <use xlink:href=\"#DejaVuSans-43a\" x=\"846.728516\"/>\n",
       "     <use xlink:href=\"#DejaVuSans-43e\" x=\"907.128906\"/>\n",
       "     <use xlink:href=\"#DejaVuSans-43b\" x=\"968.310547\"/>\n",
       "     <use xlink:href=\"#DejaVuSans-438\" x=\"1032.226562\"/>\n",
       "     <use xlink:href=\"#DejaVuSans-447\" x=\"1097.216797\"/>\n",
       "     <use xlink:href=\"#DejaVuSans-435\" x=\"1156.298828\"/>\n",
       "     <use xlink:href=\"#DejaVuSans-441\" x=\"1217.822266\"/>\n",
       "     <use xlink:href=\"#DejaVuSans-442\" x=\"1272.802734\"/>\n",
       "     <use xlink:href=\"#DejaVuSans-432\" x=\"1331.054688\"/>\n",
       "     <use xlink:href=\"#DejaVuSans-430\" x=\"1389.990234\"/>\n",
       "     <use xlink:href=\"#DejaVuSans-20\" x=\"1451.269531\"/>\n",
       "     <use xlink:href=\"#DejaVuSans-441\" x=\"1483.056641\"/>\n",
       "     <use xlink:href=\"#DejaVuSans-43e\" x=\"1538.037109\"/>\n",
       "     <use xlink:href=\"#DejaVuSans-431\" x=\"1599.21875\"/>\n",
       "     <use xlink:href=\"#DejaVuSans-44b\" x=\"1660.888672\"/>\n",
       "     <use xlink:href=\"#DejaVuSans-442\" x=\"1739.84375\"/>\n",
       "     <use xlink:href=\"#DejaVuSans-438\" x=\"1798.095703\"/>\n",
       "     <use xlink:href=\"#DejaVuSans-439\" x=\"1863.085938\"/>\n",
       "     <use xlink:href=\"#DejaVuSans-20\" x=\"1928.076172\"/>\n",
       "    </g>\n",
       "    <!--  по уникальным пользователям -->\n",
       "    <g transform=\"translate(76.790625 33.753187)scale(0.14 -0.14)\">\n",
       "     <defs>\n",
       "      <path id=\"DejaVuSans-443\" d=\"M 2059 -325 \n",
       "Q 1816 -950 1584 -1140 \n",
       "Q 1353 -1331 966 -1331 \n",
       "L 506 -1331 \n",
       "L 506 -850 \n",
       "L 844 -850 \n",
       "Q 1081 -850 1212 -737 \n",
       "Q 1344 -625 1503 -206 \n",
       "L 1606 56 \n",
       "L 191 3500 \n",
       "L 800 3500 \n",
       "L 1894 763 \n",
       "L 2988 3500 \n",
       "L 3597 3500 \n",
       "L 2059 -325 \n",
       "z\n",
       "\" transform=\"scale(0.015625)\"/>\n",
       "      <path id=\"DejaVuSans-44c\" d=\"M 2781 1038 \n",
       "Q 2781 1319 2576 1466 \n",
       "Q 2372 1613 1978 1613 \n",
       "L 1159 1613 \n",
       "L 1159 459 \n",
       "L 1978 459 \n",
       "Q 2372 459 2576 607 \n",
       "Q 2781 756 2781 1038 \n",
       "z\n",
       "M 581 3500 \n",
       "L 1159 3500 \n",
       "L 1159 2072 \n",
       "L 2003 2072 \n",
       "Q 2672 2072 3033 1817 \n",
       "Q 3394 1563 3394 1038 \n",
       "Q 3394 513 3033 256 \n",
       "Q 2672 0 2003 0 \n",
       "L 581 0 \n",
       "L 581 3500 \n",
       "z\n",
       "\" transform=\"scale(0.015625)\"/>\n",
       "      <path id=\"DejaVuSans-43c\" d=\"M 581 3500 \n",
       "L 1422 3500 \n",
       "L 2416 1156 \n",
       "L 3413 3500 \n",
       "L 4247 3500 \n",
       "L 4247 0 \n",
       "L 3669 0 \n",
       "L 3669 2950 \n",
       "L 2703 672 \n",
       "L 2128 672 \n",
       "L 1159 2950 \n",
       "L 1159 0 \n",
       "L 581 0 \n",
       "L 581 3500 \n",
       "z\n",
       "\" transform=\"scale(0.015625)\"/>\n",
       "      <path id=\"DejaVuSans-437\" d=\"M 2206 1888 \n",
       "Q 2594 1813 2809 1584 \n",
       "Q 3025 1356 3025 1019 \n",
       "Q 3025 478 2622 193 \n",
       "Q 2219 -91 1475 -91 \n",
       "Q 1225 -91 961 -47 \n",
       "Q 697 -3 416 84 \n",
       "L 416 619 \n",
       "Q 638 503 903 445 \n",
       "Q 1169 388 1459 388 \n",
       "Q 1931 388 2195 563 \n",
       "Q 2459 738 2459 1019 \n",
       "Q 2459 1294 2225 1461 \n",
       "Q 1991 1628 1563 1628 \n",
       "L 1100 1628 \n",
       "L 1100 2103 \n",
       "L 1584 2103 \n",
       "Q 1947 2103 2158 2242 \n",
       "Q 2369 2381 2369 2600 \n",
       "Q 2369 2800 2151 2944 \n",
       "Q 1934 3088 1563 3088 \n",
       "Q 1341 3088 1089 3047 \n",
       "Q 838 3006 534 2916 \n",
       "L 534 3438 \n",
       "Q 841 3513 1106 3550 \n",
       "Q 1372 3588 1609 3588 \n",
       "Q 2222 3588 2576 3342 \n",
       "Q 2931 3097 2931 2656 \n",
       "Q 2931 2366 2743 2164 \n",
       "Q 2556 1963 2206 1888 \n",
       "z\n",
       "\" transform=\"scale(0.015625)\"/>\n",
       "      <path id=\"DejaVuSans-44f\" d=\"M 1181 2491 \n",
       "Q 1181 2231 1381 2084 \n",
       "Q 1581 1938 1953 1938 \n",
       "L 2728 1938 \n",
       "L 2728 3041 \n",
       "L 1953 3041 \n",
       "Q 1581 3041 1381 2897 \n",
       "Q 1181 2753 1181 2491 \n",
       "z\n",
       "M 363 0 \n",
       "L 1431 1534 \n",
       "Q 1069 1616 828 1830 \n",
       "Q 588 2044 588 2491 \n",
       "Q 588 2997 923 3248 \n",
       "Q 1259 3500 1938 3500 \n",
       "L 3306 3500 \n",
       "L 3306 0 \n",
       "L 2728 0 \n",
       "L 2728 1478 \n",
       "L 2013 1478 \n",
       "L 981 0 \n",
       "L 363 0 \n",
       "z\n",
       "\" transform=\"scale(0.015625)\"/>\n",
       "     </defs>\n",
       "     <use xlink:href=\"#DejaVuSans-20\"/>\n",
       "     <use xlink:href=\"#DejaVuSans-43f\" x=\"31.787109\"/>\n",
       "     <use xlink:href=\"#DejaVuSans-43e\" x=\"97.167969\"/>\n",
       "     <use xlink:href=\"#DejaVuSans-20\" x=\"158.349609\"/>\n",
       "     <use xlink:href=\"#DejaVuSans-443\" x=\"190.136719\"/>\n",
       "     <use xlink:href=\"#DejaVuSans-43d\" x=\"249.316406\"/>\n",
       "     <use xlink:href=\"#DejaVuSans-438\" x=\"314.697266\"/>\n",
       "     <use xlink:href=\"#DejaVuSans-43a\" x=\"379.6875\"/>\n",
       "     <use xlink:href=\"#DejaVuSans-430\" x=\"440.087891\"/>\n",
       "     <use xlink:href=\"#DejaVuSans-43b\" x=\"501.367188\"/>\n",
       "     <use xlink:href=\"#DejaVuSans-44c\" x=\"565.283203\"/>\n",
       "     <use xlink:href=\"#DejaVuSans-43d\" x=\"624.21875\"/>\n",
       "     <use xlink:href=\"#DejaVuSans-44b\" x=\"689.599609\"/>\n",
       "     <use xlink:href=\"#DejaVuSans-43c\" x=\"768.554688\"/>\n",
       "     <use xlink:href=\"#DejaVuSans-20\" x=\"843.994141\"/>\n",
       "     <use xlink:href=\"#DejaVuSans-43f\" x=\"875.78125\"/>\n",
       "     <use xlink:href=\"#DejaVuSans-43e\" x=\"941.162109\"/>\n",
       "     <use xlink:href=\"#DejaVuSans-43b\" x=\"1002.34375\"/>\n",
       "     <use xlink:href=\"#DejaVuSans-44c\" x=\"1066.259766\"/>\n",
       "     <use xlink:href=\"#DejaVuSans-437\" x=\"1125.195312\"/>\n",
       "     <use xlink:href=\"#DejaVuSans-43e\" x=\"1178.369141\"/>\n",
       "     <use xlink:href=\"#DejaVuSans-432\" x=\"1239.550781\"/>\n",
       "     <use xlink:href=\"#DejaVuSans-430\" x=\"1298.486328\"/>\n",
       "     <use xlink:href=\"#DejaVuSans-442\" x=\"1359.765625\"/>\n",
       "     <use xlink:href=\"#DejaVuSans-435\" x=\"1418.017578\"/>\n",
       "     <use xlink:href=\"#DejaVuSans-43b\" x=\"1479.541016\"/>\n",
       "     <use xlink:href=\"#DejaVuSans-44f\" x=\"1543.457031\"/>\n",
       "     <use xlink:href=\"#DejaVuSans-43c\" x=\"1603.613281\"/>\n",
       "    </g>\n",
       "   </g>\n",
       "  </g>\n",
       " </g>\n",
       " <defs>\n",
       "  <clipPath id=\"p965af73812\">\n",
       "   <rect x=\"26.925\" y=\"39.753187\" width=\"334.8\" height=\"217.44\"/>\n",
       "  </clipPath>\n",
       " </defs>\n",
       "</svg>\n"
      ],
      "text/plain": [
       "<Figure size 432x288 with 1 Axes>"
      ]
     },
     "metadata": {
      "needs_background": "light"
     },
     "output_type": "display_data"
    }
   ],
   "source": [
    "#построим \"ящик с усами\"; обрежем диаграмму размаха до 85 (таким образом, увеличим масштаб диаграммы)\n",
    "bplot = number_of_events_per_user.boxplot('event_number',\n",
    "            notch=True,\n",
    "            vert=True,\n",
    "            patch_artist=True,\n",
    "            color='orange')\n",
    "plt.ylim(0, 85)\n",
    "plt.title('Распределение количества событий \\n по уникальным пользователям', fontsize=14)\n",
    "sns.despine()"
   ]
  },
  {
   "cell_type": "markdown",
   "metadata": {},
   "source": [
    "По ящику с усами мы видим, что медиана распределения количества событий находится **на уровне 20 шт. Выше 79 шт. - это выбросы. Максимальное кол-во событий** на одного уникального пользователя составляет **2307 шт.** Данное количество нереально для обычного физического лица. Тут возможен один из вариантов:\n",
    "- это либо оптовый покупатель,\n",
    "- либо техническая ошибка, и с ней необходимо обратиться в техподдержку."
   ]
  },
  {
   "cell_type": "markdown",
   "metadata": {},
   "source": [
    "### Проверка данных в разрезе периода"
   ]
  },
  {
   "cell_type": "code",
   "execution_count": 17,
   "metadata": {},
   "outputs": [
    {
     "name": "stdout",
     "output_type": "stream",
     "text": [
      "Минимальная и максимальная даты датафрейма: 2019-07-25 и 2019-08-07\n"
     ]
    }
   ],
   "source": [
    "#определяем минимальную и максимальную дату\n",
    "min_analysis_date = logs['event_date'].min()\n",
    "observation_date = logs['event_date'].max()\n",
    "\n",
    "print('Минимальная и максимальная даты датафрейма:',min_analysis_date, 'и', observation_date)"
   ]
  },
  {
   "cell_type": "code",
   "execution_count": 18,
   "metadata": {
    "scrolled": false
   },
   "outputs": [
    {
     "data": {
      "image/svg+xml": [
       "<?xml version=\"1.0\" encoding=\"utf-8\" standalone=\"no\"?>\n",
       "<!DOCTYPE svg PUBLIC \"-//W3C//DTD SVG 1.1//EN\"\n",
       "  \"http://www.w3.org/Graphics/SVG/1.1/DTD/svg11.dtd\">\n",
       "<svg xmlns:xlink=\"http://www.w3.org/1999/xlink\" width=\"429.377656pt\" height=\"345.445625pt\" viewBox=\"0 0 429.377656 345.445625\" xmlns=\"http://www.w3.org/2000/svg\" version=\"1.1\">\n",
       " <metadata>\n",
       "  <rdf:RDF xmlns:dc=\"http://purl.org/dc/elements/1.1/\" xmlns:cc=\"http://creativecommons.org/ns#\" xmlns:rdf=\"http://www.w3.org/1999/02/22-rdf-syntax-ns#\">\n",
       "   <cc:Work>\n",
       "    <dc:type rdf:resource=\"http://purl.org/dc/dcmitype/StillImage\"/>\n",
       "    <dc:date>2022-09-13T00:25:44.052091</dc:date>\n",
       "    <dc:format>image/svg+xml</dc:format>\n",
       "    <dc:creator>\n",
       "     <cc:Agent>\n",
       "      <dc:title>Matplotlib v3.5.1, https://matplotlib.org/</dc:title>\n",
       "     </cc:Agent>\n",
       "    </dc:creator>\n",
       "   </cc:Work>\n",
       "  </rdf:RDF>\n",
       " </metadata>\n",
       " <defs>\n",
       "  <style type=\"text/css\">*{stroke-linejoin: round; stroke-linecap: butt}</style>\n",
       " </defs>\n",
       " <g id=\"figure_1\">\n",
       "  <g id=\"patch_1\">\n",
       "   <path d=\"M 0 345.445625 \n",
       "L 429.377656 345.445625 \n",
       "L 429.377656 0 \n",
       "L 0 0 \n",
       "L 0 345.445625 \n",
       "z\n",
       "\" style=\"fill: none\"/>\n",
       "  </g>\n",
       "  <g id=\"axes_1\">\n",
       "   <g id=\"patch_2\">\n",
       "    <path d=\"M 77.62625 241.51625 \n",
       "L 412.42625 241.51625 \n",
       "L 412.42625 24.07625 \n",
       "L 77.62625 24.07625 \n",
       "z\n",
       "\" style=\"fill: #ffffff\"/>\n",
       "   </g>\n",
       "   <g id=\"line2d_1\">\n",
       "    <path d=\"M 77.62625 241.51625 \n",
       "L 412.42625 241.51625 \n",
       "\" clip-path=\"url(#pd174d5ae16)\" style=\"fill: none; stroke-dasharray: 5.55,2.4; stroke-dashoffset: 0; stroke: #eeeeee; stroke-opacity: 0.4; stroke-width: 1.5\"/>\n",
       "   </g>\n",
       "   <g id=\"line2d_2\">\n",
       "    <path d=\"M 77.62625 211.932577 \n",
       "L 412.42625 211.932577 \n",
       "\" clip-path=\"url(#pd174d5ae16)\" style=\"fill: none; stroke-dasharray: 5.55,2.4; stroke-dashoffset: 0; stroke: #eeeeee; stroke-opacity: 0.4; stroke-width: 1.5\"/>\n",
       "   </g>\n",
       "   <g id=\"line2d_3\">\n",
       "    <path d=\"M 77.62625 182.348903 \n",
       "L 412.42625 182.348903 \n",
       "\" clip-path=\"url(#pd174d5ae16)\" style=\"fill: none; stroke-dasharray: 5.55,2.4; stroke-dashoffset: 0; stroke: #eeeeee; stroke-opacity: 0.4; stroke-width: 1.5\"/>\n",
       "   </g>\n",
       "   <g id=\"line2d_4\">\n",
       "    <path d=\"M 77.62625 152.76523 \n",
       "L 412.42625 152.76523 \n",
       "\" clip-path=\"url(#pd174d5ae16)\" style=\"fill: none; stroke-dasharray: 5.55,2.4; stroke-dashoffset: 0; stroke: #eeeeee; stroke-opacity: 0.4; stroke-width: 1.5\"/>\n",
       "   </g>\n",
       "   <g id=\"line2d_5\">\n",
       "    <path d=\"M 77.62625 123.181556 \n",
       "L 412.42625 123.181556 \n",
       "\" clip-path=\"url(#pd174d5ae16)\" style=\"fill: none; stroke-dasharray: 5.55,2.4; stroke-dashoffset: 0; stroke: #eeeeee; stroke-opacity: 0.4; stroke-width: 1.5\"/>\n",
       "   </g>\n",
       "   <g id=\"line2d_6\">\n",
       "    <path d=\"M 77.62625 93.597883 \n",
       "L 412.42625 93.597883 \n",
       "\" clip-path=\"url(#pd174d5ae16)\" style=\"fill: none; stroke-dasharray: 5.55,2.4; stroke-dashoffset: 0; stroke: #eeeeee; stroke-opacity: 0.4; stroke-width: 1.5\"/>\n",
       "   </g>\n",
       "   <g id=\"line2d_7\">\n",
       "    <path d=\"M 77.62625 64.014209 \n",
       "L 412.42625 64.014209 \n",
       "\" clip-path=\"url(#pd174d5ae16)\" style=\"fill: none; stroke-dasharray: 5.55,2.4; stroke-dashoffset: 0; stroke: #eeeeee; stroke-opacity: 0.4; stroke-width: 1.5\"/>\n",
       "   </g>\n",
       "   <g id=\"line2d_8\">\n",
       "    <path d=\"M 77.62625 34.430536 \n",
       "L 412.42625 34.430536 \n",
       "\" clip-path=\"url(#pd174d5ae16)\" style=\"fill: none; stroke-dasharray: 5.55,2.4; stroke-dashoffset: 0; stroke: #eeeeee; stroke-opacity: 0.4; stroke-width: 1.5\"/>\n",
       "   </g>\n",
       "   <g id=\"matplotlib.axis_1\">\n",
       "    <g id=\"xtick_1\">\n",
       "     <g id=\"line2d_9\">\n",
       "      <defs>\n",
       "       <path id=\"mc9b8b0392d\" d=\"M 0 0 \n",
       "L 0 3.5 \n",
       "\" style=\"stroke: #000000; stroke-width: 0.8\"/>\n",
       "      </defs>\n",
       "      <g>\n",
       "       <use xlink:href=\"#mc9b8b0392d\" x=\"87.678691\" y=\"241.51625\" style=\"stroke: #000000; stroke-width: 0.8\"/>\n",
       "      </g>\n",
       "     </g>\n",
       "     <g id=\"line2d_10\">\n",
       "      <defs>\n",
       "       <path id=\"m6412e671cf\" d=\"M 0 0 \n",
       "L 0 -3.5 \n",
       "\" style=\"stroke: #000000; stroke-width: 0.8\"/>\n",
       "      </defs>\n",
       "      <g>\n",
       "       <use xlink:href=\"#m6412e671cf\" x=\"87.678691\" y=\"24.07625\" style=\"stroke: #000000; stroke-width: 0.8\"/>\n",
       "      </g>\n",
       "     </g>\n",
       "     <g id=\"text_1\">\n",
       "      <!-- 2019-07-25 -->\n",
       "      <g transform=\"translate(90.438066 306.631875)rotate(-90)scale(0.1 -0.1)\">\n",
       "       <defs>\n",
       "        <path id=\"DejaVuSans-32\" d=\"M 1228 531 \n",
       "L 3431 531 \n",
       "L 3431 0 \n",
       "L 469 0 \n",
       "L 469 531 \n",
       "Q 828 903 1448 1529 \n",
       "Q 2069 2156 2228 2338 \n",
       "Q 2531 2678 2651 2914 \n",
       "Q 2772 3150 2772 3378 \n",
       "Q 2772 3750 2511 3984 \n",
       "Q 2250 4219 1831 4219 \n",
       "Q 1534 4219 1204 4116 \n",
       "Q 875 4013 500 3803 \n",
       "L 500 4441 \n",
       "Q 881 4594 1212 4672 \n",
       "Q 1544 4750 1819 4750 \n",
       "Q 2544 4750 2975 4387 \n",
       "Q 3406 4025 3406 3419 \n",
       "Q 3406 3131 3298 2873 \n",
       "Q 3191 2616 2906 2266 \n",
       "Q 2828 2175 2409 1742 \n",
       "Q 1991 1309 1228 531 \n",
       "z\n",
       "\" transform=\"scale(0.015625)\"/>\n",
       "        <path id=\"DejaVuSans-30\" d=\"M 2034 4250 \n",
       "Q 1547 4250 1301 3770 \n",
       "Q 1056 3291 1056 2328 \n",
       "Q 1056 1369 1301 889 \n",
       "Q 1547 409 2034 409 \n",
       "Q 2525 409 2770 889 \n",
       "Q 3016 1369 3016 2328 \n",
       "Q 3016 3291 2770 3770 \n",
       "Q 2525 4250 2034 4250 \n",
       "z\n",
       "M 2034 4750 \n",
       "Q 2819 4750 3233 4129 \n",
       "Q 3647 3509 3647 2328 \n",
       "Q 3647 1150 3233 529 \n",
       "Q 2819 -91 2034 -91 \n",
       "Q 1250 -91 836 529 \n",
       "Q 422 1150 422 2328 \n",
       "Q 422 3509 836 4129 \n",
       "Q 1250 4750 2034 4750 \n",
       "z\n",
       "\" transform=\"scale(0.015625)\"/>\n",
       "        <path id=\"DejaVuSans-31\" d=\"M 794 531 \n",
       "L 1825 531 \n",
       "L 1825 4091 \n",
       "L 703 3866 \n",
       "L 703 4441 \n",
       "L 1819 4666 \n",
       "L 2450 4666 \n",
       "L 2450 531 \n",
       "L 3481 531 \n",
       "L 3481 0 \n",
       "L 794 0 \n",
       "L 794 531 \n",
       "z\n",
       "\" transform=\"scale(0.015625)\"/>\n",
       "        <path id=\"DejaVuSans-39\" d=\"M 703 97 \n",
       "L 703 672 \n",
       "Q 941 559 1184 500 \n",
       "Q 1428 441 1663 441 \n",
       "Q 2288 441 2617 861 \n",
       "Q 2947 1281 2994 2138 \n",
       "Q 2813 1869 2534 1725 \n",
       "Q 2256 1581 1919 1581 \n",
       "Q 1219 1581 811 2004 \n",
       "Q 403 2428 403 3163 \n",
       "Q 403 3881 828 4315 \n",
       "Q 1253 4750 1959 4750 \n",
       "Q 2769 4750 3195 4129 \n",
       "Q 3622 3509 3622 2328 \n",
       "Q 3622 1225 3098 567 \n",
       "Q 2575 -91 1691 -91 \n",
       "Q 1453 -91 1209 -44 \n",
       "Q 966 3 703 97 \n",
       "z\n",
       "M 1959 2075 \n",
       "Q 2384 2075 2632 2365 \n",
       "Q 2881 2656 2881 3163 \n",
       "Q 2881 3666 2632 3958 \n",
       "Q 2384 4250 1959 4250 \n",
       "Q 1534 4250 1286 3958 \n",
       "Q 1038 3666 1038 3163 \n",
       "Q 1038 2656 1286 2365 \n",
       "Q 1534 2075 1959 2075 \n",
       "z\n",
       "\" transform=\"scale(0.015625)\"/>\n",
       "        <path id=\"DejaVuSans-2d\" d=\"M 313 2009 \n",
       "L 1997 2009 \n",
       "L 1997 1497 \n",
       "L 313 1497 \n",
       "L 313 2009 \n",
       "z\n",
       "\" transform=\"scale(0.015625)\"/>\n",
       "        <path id=\"DejaVuSans-37\" d=\"M 525 4666 \n",
       "L 3525 4666 \n",
       "L 3525 4397 \n",
       "L 1831 0 \n",
       "L 1172 0 \n",
       "L 2766 4134 \n",
       "L 525 4134 \n",
       "L 525 4666 \n",
       "z\n",
       "\" transform=\"scale(0.015625)\"/>\n",
       "        <path id=\"DejaVuSans-35\" d=\"M 691 4666 \n",
       "L 3169 4666 \n",
       "L 3169 4134 \n",
       "L 1269 4134 \n",
       "L 1269 2991 \n",
       "Q 1406 3038 1543 3061 \n",
       "Q 1681 3084 1819 3084 \n",
       "Q 2600 3084 3056 2656 \n",
       "Q 3513 2228 3513 1497 \n",
       "Q 3513 744 3044 326 \n",
       "Q 2575 -91 1722 -91 \n",
       "Q 1428 -91 1123 -41 \n",
       "Q 819 9 494 109 \n",
       "L 494 744 \n",
       "Q 775 591 1075 516 \n",
       "Q 1375 441 1709 441 \n",
       "Q 2250 441 2565 725 \n",
       "Q 2881 1009 2881 1497 \n",
       "Q 2881 1984 2565 2268 \n",
       "Q 2250 2553 1709 2553 \n",
       "Q 1456 2553 1204 2497 \n",
       "Q 953 2441 691 2322 \n",
       "L 691 4666 \n",
       "z\n",
       "\" transform=\"scale(0.015625)\"/>\n",
       "       </defs>\n",
       "       <use xlink:href=\"#DejaVuSans-32\"/>\n",
       "       <use xlink:href=\"#DejaVuSans-30\" x=\"63.623047\"/>\n",
       "       <use xlink:href=\"#DejaVuSans-31\" x=\"127.246094\"/>\n",
       "       <use xlink:href=\"#DejaVuSans-39\" x=\"190.869141\"/>\n",
       "       <use xlink:href=\"#DejaVuSans-2d\" x=\"254.492188\"/>\n",
       "       <use xlink:href=\"#DejaVuSans-30\" x=\"290.576172\"/>\n",
       "       <use xlink:href=\"#DejaVuSans-37\" x=\"354.199219\"/>\n",
       "       <use xlink:href=\"#DejaVuSans-2d\" x=\"417.822266\"/>\n",
       "       <use xlink:href=\"#DejaVuSans-32\" x=\"453.90625\"/>\n",
       "       <use xlink:href=\"#DejaVuSans-35\" x=\"517.529297\"/>\n",
       "      </g>\n",
       "     </g>\n",
       "    </g>\n",
       "    <g id=\"xtick_2\">\n",
       "     <g id=\"line2d_11\">\n",
       "      <g>\n",
       "       <use xlink:href=\"#mc9b8b0392d\" x=\"132.371583\" y=\"241.51625\" style=\"stroke: #000000; stroke-width: 0.8\"/>\n",
       "      </g>\n",
       "     </g>\n",
       "     <g id=\"line2d_12\">\n",
       "      <g>\n",
       "       <use xlink:href=\"#m6412e671cf\" x=\"132.371583\" y=\"24.07625\" style=\"stroke: #000000; stroke-width: 0.8\"/>\n",
       "      </g>\n",
       "     </g>\n",
       "     <g id=\"text_2\">\n",
       "      <!-- 2019-07-27 -->\n",
       "      <g transform=\"translate(135.130958 306.631875)rotate(-90)scale(0.1 -0.1)\">\n",
       "       <use xlink:href=\"#DejaVuSans-32\"/>\n",
       "       <use xlink:href=\"#DejaVuSans-30\" x=\"63.623047\"/>\n",
       "       <use xlink:href=\"#DejaVuSans-31\" x=\"127.246094\"/>\n",
       "       <use xlink:href=\"#DejaVuSans-39\" x=\"190.869141\"/>\n",
       "       <use xlink:href=\"#DejaVuSans-2d\" x=\"254.492188\"/>\n",
       "       <use xlink:href=\"#DejaVuSans-30\" x=\"290.576172\"/>\n",
       "       <use xlink:href=\"#DejaVuSans-37\" x=\"354.199219\"/>\n",
       "       <use xlink:href=\"#DejaVuSans-2d\" x=\"417.822266\"/>\n",
       "       <use xlink:href=\"#DejaVuSans-32\" x=\"453.90625\"/>\n",
       "       <use xlink:href=\"#DejaVuSans-37\" x=\"517.529297\"/>\n",
       "      </g>\n",
       "     </g>\n",
       "    </g>\n",
       "    <g id=\"xtick_3\">\n",
       "     <g id=\"line2d_13\">\n",
       "      <g>\n",
       "       <use xlink:href=\"#mc9b8b0392d\" x=\"177.064475\" y=\"241.51625\" style=\"stroke: #000000; stroke-width: 0.8\"/>\n",
       "      </g>\n",
       "     </g>\n",
       "     <g id=\"line2d_14\">\n",
       "      <g>\n",
       "       <use xlink:href=\"#m6412e671cf\" x=\"177.064475\" y=\"24.07625\" style=\"stroke: #000000; stroke-width: 0.8\"/>\n",
       "      </g>\n",
       "     </g>\n",
       "     <g id=\"text_3\">\n",
       "      <!-- 2019-07-29 -->\n",
       "      <g transform=\"translate(179.82385 306.631875)rotate(-90)scale(0.1 -0.1)\">\n",
       "       <use xlink:href=\"#DejaVuSans-32\"/>\n",
       "       <use xlink:href=\"#DejaVuSans-30\" x=\"63.623047\"/>\n",
       "       <use xlink:href=\"#DejaVuSans-31\" x=\"127.246094\"/>\n",
       "       <use xlink:href=\"#DejaVuSans-39\" x=\"190.869141\"/>\n",
       "       <use xlink:href=\"#DejaVuSans-2d\" x=\"254.492188\"/>\n",
       "       <use xlink:href=\"#DejaVuSans-30\" x=\"290.576172\"/>\n",
       "       <use xlink:href=\"#DejaVuSans-37\" x=\"354.199219\"/>\n",
       "       <use xlink:href=\"#DejaVuSans-2d\" x=\"417.822266\"/>\n",
       "       <use xlink:href=\"#DejaVuSans-32\" x=\"453.90625\"/>\n",
       "       <use xlink:href=\"#DejaVuSans-39\" x=\"517.529297\"/>\n",
       "      </g>\n",
       "     </g>\n",
       "    </g>\n",
       "    <g id=\"xtick_4\">\n",
       "     <g id=\"line2d_15\">\n",
       "      <g>\n",
       "       <use xlink:href=\"#mc9b8b0392d\" x=\"221.757367\" y=\"241.51625\" style=\"stroke: #000000; stroke-width: 0.8\"/>\n",
       "      </g>\n",
       "     </g>\n",
       "     <g id=\"line2d_16\">\n",
       "      <g>\n",
       "       <use xlink:href=\"#m6412e671cf\" x=\"221.757367\" y=\"24.07625\" style=\"stroke: #000000; stroke-width: 0.8\"/>\n",
       "      </g>\n",
       "     </g>\n",
       "     <g id=\"text_4\">\n",
       "      <!-- 2019-07-31 -->\n",
       "      <g transform=\"translate(224.516742 306.631875)rotate(-90)scale(0.1 -0.1)\">\n",
       "       <defs>\n",
       "        <path id=\"DejaVuSans-33\" d=\"M 2597 2516 \n",
       "Q 3050 2419 3304 2112 \n",
       "Q 3559 1806 3559 1356 \n",
       "Q 3559 666 3084 287 \n",
       "Q 2609 -91 1734 -91 \n",
       "Q 1441 -91 1130 -33 \n",
       "Q 819 25 488 141 \n",
       "L 488 750 \n",
       "Q 750 597 1062 519 \n",
       "Q 1375 441 1716 441 \n",
       "Q 2309 441 2620 675 \n",
       "Q 2931 909 2931 1356 \n",
       "Q 2931 1769 2642 2001 \n",
       "Q 2353 2234 1838 2234 \n",
       "L 1294 2234 \n",
       "L 1294 2753 \n",
       "L 1863 2753 \n",
       "Q 2328 2753 2575 2939 \n",
       "Q 2822 3125 2822 3475 \n",
       "Q 2822 3834 2567 4026 \n",
       "Q 2313 4219 1838 4219 \n",
       "Q 1578 4219 1281 4162 \n",
       "Q 984 4106 628 3988 \n",
       "L 628 4550 \n",
       "Q 988 4650 1302 4700 \n",
       "Q 1616 4750 1894 4750 \n",
       "Q 2613 4750 3031 4423 \n",
       "Q 3450 4097 3450 3541 \n",
       "Q 3450 3153 3228 2886 \n",
       "Q 3006 2619 2597 2516 \n",
       "z\n",
       "\" transform=\"scale(0.015625)\"/>\n",
       "       </defs>\n",
       "       <use xlink:href=\"#DejaVuSans-32\"/>\n",
       "       <use xlink:href=\"#DejaVuSans-30\" x=\"63.623047\"/>\n",
       "       <use xlink:href=\"#DejaVuSans-31\" x=\"127.246094\"/>\n",
       "       <use xlink:href=\"#DejaVuSans-39\" x=\"190.869141\"/>\n",
       "       <use xlink:href=\"#DejaVuSans-2d\" x=\"254.492188\"/>\n",
       "       <use xlink:href=\"#DejaVuSans-30\" x=\"290.576172\"/>\n",
       "       <use xlink:href=\"#DejaVuSans-37\" x=\"354.199219\"/>\n",
       "       <use xlink:href=\"#DejaVuSans-2d\" x=\"417.822266\"/>\n",
       "       <use xlink:href=\"#DejaVuSans-33\" x=\"453.90625\"/>\n",
       "       <use xlink:href=\"#DejaVuSans-31\" x=\"517.529297\"/>\n",
       "      </g>\n",
       "     </g>\n",
       "    </g>\n",
       "    <g id=\"xtick_5\">\n",
       "     <g id=\"line2d_17\">\n",
       "      <g>\n",
       "       <use xlink:href=\"#mc9b8b0392d\" x=\"244.103813\" y=\"241.51625\" style=\"stroke: #000000; stroke-width: 0.8\"/>\n",
       "      </g>\n",
       "     </g>\n",
       "     <g id=\"line2d_18\">\n",
       "      <g>\n",
       "       <use xlink:href=\"#m6412e671cf\" x=\"244.103813\" y=\"24.07625\" style=\"stroke: #000000; stroke-width: 0.8\"/>\n",
       "      </g>\n",
       "     </g>\n",
       "     <g id=\"text_5\">\n",
       "      <!-- 2019-08-01 -->\n",
       "      <g transform=\"translate(246.863188 306.631875)rotate(-90)scale(0.1 -0.1)\">\n",
       "       <defs>\n",
       "        <path id=\"DejaVuSans-38\" d=\"M 2034 2216 \n",
       "Q 1584 2216 1326 1975 \n",
       "Q 1069 1734 1069 1313 \n",
       "Q 1069 891 1326 650 \n",
       "Q 1584 409 2034 409 \n",
       "Q 2484 409 2743 651 \n",
       "Q 3003 894 3003 1313 \n",
       "Q 3003 1734 2745 1975 \n",
       "Q 2488 2216 2034 2216 \n",
       "z\n",
       "M 1403 2484 \n",
       "Q 997 2584 770 2862 \n",
       "Q 544 3141 544 3541 \n",
       "Q 544 4100 942 4425 \n",
       "Q 1341 4750 2034 4750 \n",
       "Q 2731 4750 3128 4425 \n",
       "Q 3525 4100 3525 3541 \n",
       "Q 3525 3141 3298 2862 \n",
       "Q 3072 2584 2669 2484 \n",
       "Q 3125 2378 3379 2068 \n",
       "Q 3634 1759 3634 1313 \n",
       "Q 3634 634 3220 271 \n",
       "Q 2806 -91 2034 -91 \n",
       "Q 1263 -91 848 271 \n",
       "Q 434 634 434 1313 \n",
       "Q 434 1759 690 2068 \n",
       "Q 947 2378 1403 2484 \n",
       "z\n",
       "M 1172 3481 \n",
       "Q 1172 3119 1398 2916 \n",
       "Q 1625 2713 2034 2713 \n",
       "Q 2441 2713 2670 2916 \n",
       "Q 2900 3119 2900 3481 \n",
       "Q 2900 3844 2670 4047 \n",
       "Q 2441 4250 2034 4250 \n",
       "Q 1625 4250 1398 4047 \n",
       "Q 1172 3844 1172 3481 \n",
       "z\n",
       "\" transform=\"scale(0.015625)\"/>\n",
       "       </defs>\n",
       "       <use xlink:href=\"#DejaVuSans-32\"/>\n",
       "       <use xlink:href=\"#DejaVuSans-30\" x=\"63.623047\"/>\n",
       "       <use xlink:href=\"#DejaVuSans-31\" x=\"127.246094\"/>\n",
       "       <use xlink:href=\"#DejaVuSans-39\" x=\"190.869141\"/>\n",
       "       <use xlink:href=\"#DejaVuSans-2d\" x=\"254.492188\"/>\n",
       "       <use xlink:href=\"#DejaVuSans-30\" x=\"290.576172\"/>\n",
       "       <use xlink:href=\"#DejaVuSans-38\" x=\"354.199219\"/>\n",
       "       <use xlink:href=\"#DejaVuSans-2d\" x=\"417.822266\"/>\n",
       "       <use xlink:href=\"#DejaVuSans-30\" x=\"453.90625\"/>\n",
       "       <use xlink:href=\"#DejaVuSans-31\" x=\"517.529297\"/>\n",
       "      </g>\n",
       "     </g>\n",
       "    </g>\n",
       "    <g id=\"xtick_6\">\n",
       "     <g id=\"line2d_19\">\n",
       "      <g>\n",
       "       <use xlink:href=\"#mc9b8b0392d\" x=\"288.796704\" y=\"241.51625\" style=\"stroke: #000000; stroke-width: 0.8\"/>\n",
       "      </g>\n",
       "     </g>\n",
       "     <g id=\"line2d_20\">\n",
       "      <g>\n",
       "       <use xlink:href=\"#m6412e671cf\" x=\"288.796704\" y=\"24.07625\" style=\"stroke: #000000; stroke-width: 0.8\"/>\n",
       "      </g>\n",
       "     </g>\n",
       "     <g id=\"text_6\">\n",
       "      <!-- 2019-08-03 -->\n",
       "      <g transform=\"translate(291.556079 306.631875)rotate(-90)scale(0.1 -0.1)\">\n",
       "       <use xlink:href=\"#DejaVuSans-32\"/>\n",
       "       <use xlink:href=\"#DejaVuSans-30\" x=\"63.623047\"/>\n",
       "       <use xlink:href=\"#DejaVuSans-31\" x=\"127.246094\"/>\n",
       "       <use xlink:href=\"#DejaVuSans-39\" x=\"190.869141\"/>\n",
       "       <use xlink:href=\"#DejaVuSans-2d\" x=\"254.492188\"/>\n",
       "       <use xlink:href=\"#DejaVuSans-30\" x=\"290.576172\"/>\n",
       "       <use xlink:href=\"#DejaVuSans-38\" x=\"354.199219\"/>\n",
       "       <use xlink:href=\"#DejaVuSans-2d\" x=\"417.822266\"/>\n",
       "       <use xlink:href=\"#DejaVuSans-30\" x=\"453.90625\"/>\n",
       "       <use xlink:href=\"#DejaVuSans-33\" x=\"517.529297\"/>\n",
       "      </g>\n",
       "     </g>\n",
       "    </g>\n",
       "    <g id=\"xtick_7\">\n",
       "     <g id=\"line2d_21\">\n",
       "      <g>\n",
       "       <use xlink:href=\"#mc9b8b0392d\" x=\"333.489596\" y=\"241.51625\" style=\"stroke: #000000; stroke-width: 0.8\"/>\n",
       "      </g>\n",
       "     </g>\n",
       "     <g id=\"line2d_22\">\n",
       "      <g>\n",
       "       <use xlink:href=\"#m6412e671cf\" x=\"333.489596\" y=\"24.07625\" style=\"stroke: #000000; stroke-width: 0.8\"/>\n",
       "      </g>\n",
       "     </g>\n",
       "     <g id=\"text_7\">\n",
       "      <!-- 2019-08-05 -->\n",
       "      <g transform=\"translate(336.248971 306.631875)rotate(-90)scale(0.1 -0.1)\">\n",
       "       <use xlink:href=\"#DejaVuSans-32\"/>\n",
       "       <use xlink:href=\"#DejaVuSans-30\" x=\"63.623047\"/>\n",
       "       <use xlink:href=\"#DejaVuSans-31\" x=\"127.246094\"/>\n",
       "       <use xlink:href=\"#DejaVuSans-39\" x=\"190.869141\"/>\n",
       "       <use xlink:href=\"#DejaVuSans-2d\" x=\"254.492188\"/>\n",
       "       <use xlink:href=\"#DejaVuSans-30\" x=\"290.576172\"/>\n",
       "       <use xlink:href=\"#DejaVuSans-38\" x=\"354.199219\"/>\n",
       "       <use xlink:href=\"#DejaVuSans-2d\" x=\"417.822266\"/>\n",
       "       <use xlink:href=\"#DejaVuSans-30\" x=\"453.90625\"/>\n",
       "       <use xlink:href=\"#DejaVuSans-35\" x=\"517.529297\"/>\n",
       "      </g>\n",
       "     </g>\n",
       "    </g>\n",
       "    <g id=\"xtick_8\">\n",
       "     <g id=\"line2d_23\">\n",
       "      <g>\n",
       "       <use xlink:href=\"#mc9b8b0392d\" x=\"378.182488\" y=\"241.51625\" style=\"stroke: #000000; stroke-width: 0.8\"/>\n",
       "      </g>\n",
       "     </g>\n",
       "     <g id=\"line2d_24\">\n",
       "      <g>\n",
       "       <use xlink:href=\"#m6412e671cf\" x=\"378.182488\" y=\"24.07625\" style=\"stroke: #000000; stroke-width: 0.8\"/>\n",
       "      </g>\n",
       "     </g>\n",
       "     <g id=\"text_8\">\n",
       "      <!-- 2019-08-07 -->\n",
       "      <g transform=\"translate(380.941863 306.631875)rotate(-90)scale(0.1 -0.1)\">\n",
       "       <use xlink:href=\"#DejaVuSans-32\"/>\n",
       "       <use xlink:href=\"#DejaVuSans-30\" x=\"63.623047\"/>\n",
       "       <use xlink:href=\"#DejaVuSans-31\" x=\"127.246094\"/>\n",
       "       <use xlink:href=\"#DejaVuSans-39\" x=\"190.869141\"/>\n",
       "       <use xlink:href=\"#DejaVuSans-2d\" x=\"254.492188\"/>\n",
       "       <use xlink:href=\"#DejaVuSans-30\" x=\"290.576172\"/>\n",
       "       <use xlink:href=\"#DejaVuSans-38\" x=\"354.199219\"/>\n",
       "       <use xlink:href=\"#DejaVuSans-2d\" x=\"417.822266\"/>\n",
       "       <use xlink:href=\"#DejaVuSans-30\" x=\"453.90625\"/>\n",
       "       <use xlink:href=\"#DejaVuSans-37\" x=\"517.529297\"/>\n",
       "      </g>\n",
       "     </g>\n",
       "    </g>\n",
       "    <g id=\"text_9\">\n",
       "     <!-- Дата -->\n",
       "     <g transform=\"translate(228.107188 335.75)scale(0.12 -0.12)\">\n",
       "      <defs>\n",
       "       <path id=\"DejaVuSans-Bold-414\" d=\"M 2153 909 \n",
       "L 3453 909 \n",
       "L 3453 3756 \n",
       "L 2444 3756 \n",
       "L 2444 3472 \n",
       "Q 2444 1472 2153 909 \n",
       "z\n",
       "M 734 909 \n",
       "Q 1059 1125 1150 1442 \n",
       "Q 1241 1759 1241 3784 \n",
       "L 1241 4666 \n",
       "L 4656 4666 \n",
       "L 4656 909 \n",
       "L 5316 909 \n",
       "L 5316 -1003 \n",
       "L 4406 -1003 \n",
       "L 4406 0 \n",
       "L 1294 0 \n",
       "L 1294 -1003 \n",
       "L 384 -1003 \n",
       "L 384 909 \n",
       "L 734 909 \n",
       "z\n",
       "\" transform=\"scale(0.015625)\"/>\n",
       "       <path id=\"DejaVuSans-Bold-430\" d=\"M 2106 1575 \n",
       "Q 1756 1575 1579 1456 \n",
       "Q 1403 1338 1403 1106 \n",
       "Q 1403 894 1545 773 \n",
       "Q 1688 653 1941 653 \n",
       "Q 2256 653 2472 879 \n",
       "Q 2688 1106 2688 1447 \n",
       "L 2688 1575 \n",
       "L 2106 1575 \n",
       "z\n",
       "M 3816 1997 \n",
       "L 3816 0 \n",
       "L 2688 0 \n",
       "L 2688 519 \n",
       "Q 2463 200 2181 54 \n",
       "Q 1900 -91 1497 -91 \n",
       "Q 953 -91 614 226 \n",
       "Q 275 544 275 1050 \n",
       "Q 275 1666 698 1953 \n",
       "Q 1122 2241 2028 2241 \n",
       "L 2688 2241 \n",
       "L 2688 2328 \n",
       "Q 2688 2594 2478 2717 \n",
       "Q 2269 2841 1825 2841 \n",
       "Q 1466 2841 1156 2769 \n",
       "Q 847 2697 581 2553 \n",
       "L 581 3406 \n",
       "Q 941 3494 1303 3539 \n",
       "Q 1666 3584 2028 3584 \n",
       "Q 2975 3584 3395 3211 \n",
       "Q 3816 2838 3816 1997 \n",
       "z\n",
       "\" transform=\"scale(0.015625)\"/>\n",
       "       <path id=\"DejaVuSans-Bold-442\" d=\"M 25 3500 \n",
       "L 3681 3500 \n",
       "L 3681 2809 \n",
       "L 2413 2809 \n",
       "L 2413 0 \n",
       "L 1297 0 \n",
       "L 1297 2809 \n",
       "L 25 2809 \n",
       "L 25 3500 \n",
       "z\n",
       "\" transform=\"scale(0.015625)\"/>\n",
       "      </defs>\n",
       "      <use xlink:href=\"#DejaVuSans-Bold-414\"/>\n",
       "      <use xlink:href=\"#DejaVuSans-Bold-430\" x=\"89.0625\"/>\n",
       "      <use xlink:href=\"#DejaVuSans-Bold-442\" x=\"156.542969\"/>\n",
       "      <use xlink:href=\"#DejaVuSans-Bold-430\" x=\"214.501953\"/>\n",
       "     </g>\n",
       "    </g>\n",
       "   </g>\n",
       "   <g id=\"matplotlib.axis_2\">\n",
       "    <g id=\"ytick_1\">\n",
       "     <g id=\"line2d_25\">\n",
       "      <defs>\n",
       "       <path id=\"m1cf7fb362f\" d=\"M 0 0 \n",
       "L -3.5 0 \n",
       "\" style=\"stroke: #000000; stroke-width: 0.8\"/>\n",
       "      </defs>\n",
       "      <g>\n",
       "       <use xlink:href=\"#m1cf7fb362f\" x=\"77.62625\" y=\"241.51625\" style=\"stroke: #000000; stroke-width: 0.8\"/>\n",
       "      </g>\n",
       "     </g>\n",
       "     <g id=\"line2d_26\">\n",
       "      <defs>\n",
       "       <path id=\"m414e0b245f\" d=\"M 0 0 \n",
       "L 3.5 0 \n",
       "\" style=\"stroke: #000000; stroke-width: 0.8\"/>\n",
       "      </defs>\n",
       "      <g>\n",
       "       <use xlink:href=\"#m414e0b245f\" x=\"412.42625\" y=\"241.51625\" style=\"stroke: #000000; stroke-width: 0.8\"/>\n",
       "      </g>\n",
       "     </g>\n",
       "     <g id=\"text_10\">\n",
       "      <!-- 0 -->\n",
       "      <g transform=\"translate(64.26375 245.315469)scale(0.1 -0.1)\">\n",
       "       <use xlink:href=\"#DejaVuSans-30\"/>\n",
       "      </g>\n",
       "     </g>\n",
       "    </g>\n",
       "    <g id=\"ytick_2\">\n",
       "     <g id=\"line2d_27\">\n",
       "      <g>\n",
       "       <use xlink:href=\"#m1cf7fb362f\" x=\"77.62625\" y=\"211.932577\" style=\"stroke: #000000; stroke-width: 0.8\"/>\n",
       "      </g>\n",
       "     </g>\n",
       "     <g id=\"line2d_28\">\n",
       "      <g>\n",
       "       <use xlink:href=\"#m414e0b245f\" x=\"412.42625\" y=\"211.932577\" style=\"stroke: #000000; stroke-width: 0.8\"/>\n",
       "      </g>\n",
       "     </g>\n",
       "     <g id=\"text_11\">\n",
       "      <!-- 5000 -->\n",
       "      <g transform=\"translate(45.17625 215.731795)scale(0.1 -0.1)\">\n",
       "       <use xlink:href=\"#DejaVuSans-35\"/>\n",
       "       <use xlink:href=\"#DejaVuSans-30\" x=\"63.623047\"/>\n",
       "       <use xlink:href=\"#DejaVuSans-30\" x=\"127.246094\"/>\n",
       "       <use xlink:href=\"#DejaVuSans-30\" x=\"190.869141\"/>\n",
       "      </g>\n",
       "     </g>\n",
       "    </g>\n",
       "    <g id=\"ytick_3\">\n",
       "     <g id=\"line2d_29\">\n",
       "      <g>\n",
       "       <use xlink:href=\"#m1cf7fb362f\" x=\"77.62625\" y=\"182.348903\" style=\"stroke: #000000; stroke-width: 0.8\"/>\n",
       "      </g>\n",
       "     </g>\n",
       "     <g id=\"line2d_30\">\n",
       "      <g>\n",
       "       <use xlink:href=\"#m414e0b245f\" x=\"412.42625\" y=\"182.348903\" style=\"stroke: #000000; stroke-width: 0.8\"/>\n",
       "      </g>\n",
       "     </g>\n",
       "     <g id=\"text_12\">\n",
       "      <!-- 10000 -->\n",
       "      <g transform=\"translate(38.81375 186.148122)scale(0.1 -0.1)\">\n",
       "       <use xlink:href=\"#DejaVuSans-31\"/>\n",
       "       <use xlink:href=\"#DejaVuSans-30\" x=\"63.623047\"/>\n",
       "       <use xlink:href=\"#DejaVuSans-30\" x=\"127.246094\"/>\n",
       "       <use xlink:href=\"#DejaVuSans-30\" x=\"190.869141\"/>\n",
       "       <use xlink:href=\"#DejaVuSans-30\" x=\"254.492188\"/>\n",
       "      </g>\n",
       "     </g>\n",
       "    </g>\n",
       "    <g id=\"ytick_4\">\n",
       "     <g id=\"line2d_31\">\n",
       "      <g>\n",
       "       <use xlink:href=\"#m1cf7fb362f\" x=\"77.62625\" y=\"152.76523\" style=\"stroke: #000000; stroke-width: 0.8\"/>\n",
       "      </g>\n",
       "     </g>\n",
       "     <g id=\"line2d_32\">\n",
       "      <g>\n",
       "       <use xlink:href=\"#m414e0b245f\" x=\"412.42625\" y=\"152.76523\" style=\"stroke: #000000; stroke-width: 0.8\"/>\n",
       "      </g>\n",
       "     </g>\n",
       "     <g id=\"text_13\">\n",
       "      <!-- 15000 -->\n",
       "      <g transform=\"translate(38.81375 156.564448)scale(0.1 -0.1)\">\n",
       "       <use xlink:href=\"#DejaVuSans-31\"/>\n",
       "       <use xlink:href=\"#DejaVuSans-35\" x=\"63.623047\"/>\n",
       "       <use xlink:href=\"#DejaVuSans-30\" x=\"127.246094\"/>\n",
       "       <use xlink:href=\"#DejaVuSans-30\" x=\"190.869141\"/>\n",
       "       <use xlink:href=\"#DejaVuSans-30\" x=\"254.492188\"/>\n",
       "      </g>\n",
       "     </g>\n",
       "    </g>\n",
       "    <g id=\"ytick_5\">\n",
       "     <g id=\"line2d_33\">\n",
       "      <g>\n",
       "       <use xlink:href=\"#m1cf7fb362f\" x=\"77.62625\" y=\"123.181556\" style=\"stroke: #000000; stroke-width: 0.8\"/>\n",
       "      </g>\n",
       "     </g>\n",
       "     <g id=\"line2d_34\">\n",
       "      <g>\n",
       "       <use xlink:href=\"#m414e0b245f\" x=\"412.42625\" y=\"123.181556\" style=\"stroke: #000000; stroke-width: 0.8\"/>\n",
       "      </g>\n",
       "     </g>\n",
       "     <g id=\"text_14\">\n",
       "      <!-- 20000 -->\n",
       "      <g transform=\"translate(38.81375 126.980775)scale(0.1 -0.1)\">\n",
       "       <use xlink:href=\"#DejaVuSans-32\"/>\n",
       "       <use xlink:href=\"#DejaVuSans-30\" x=\"63.623047\"/>\n",
       "       <use xlink:href=\"#DejaVuSans-30\" x=\"127.246094\"/>\n",
       "       <use xlink:href=\"#DejaVuSans-30\" x=\"190.869141\"/>\n",
       "       <use xlink:href=\"#DejaVuSans-30\" x=\"254.492188\"/>\n",
       "      </g>\n",
       "     </g>\n",
       "    </g>\n",
       "    <g id=\"ytick_6\">\n",
       "     <g id=\"line2d_35\">\n",
       "      <g>\n",
       "       <use xlink:href=\"#m1cf7fb362f\" x=\"77.62625\" y=\"93.597883\" style=\"stroke: #000000; stroke-width: 0.8\"/>\n",
       "      </g>\n",
       "     </g>\n",
       "     <g id=\"line2d_36\">\n",
       "      <g>\n",
       "       <use xlink:href=\"#m414e0b245f\" x=\"412.42625\" y=\"93.597883\" style=\"stroke: #000000; stroke-width: 0.8\"/>\n",
       "      </g>\n",
       "     </g>\n",
       "     <g id=\"text_15\">\n",
       "      <!-- 25000 -->\n",
       "      <g transform=\"translate(38.81375 97.397101)scale(0.1 -0.1)\">\n",
       "       <use xlink:href=\"#DejaVuSans-32\"/>\n",
       "       <use xlink:href=\"#DejaVuSans-35\" x=\"63.623047\"/>\n",
       "       <use xlink:href=\"#DejaVuSans-30\" x=\"127.246094\"/>\n",
       "       <use xlink:href=\"#DejaVuSans-30\" x=\"190.869141\"/>\n",
       "       <use xlink:href=\"#DejaVuSans-30\" x=\"254.492188\"/>\n",
       "      </g>\n",
       "     </g>\n",
       "    </g>\n",
       "    <g id=\"ytick_7\">\n",
       "     <g id=\"line2d_37\">\n",
       "      <g>\n",
       "       <use xlink:href=\"#m1cf7fb362f\" x=\"77.62625\" y=\"64.014209\" style=\"stroke: #000000; stroke-width: 0.8\"/>\n",
       "      </g>\n",
       "     </g>\n",
       "     <g id=\"line2d_38\">\n",
       "      <g>\n",
       "       <use xlink:href=\"#m414e0b245f\" x=\"412.42625\" y=\"64.014209\" style=\"stroke: #000000; stroke-width: 0.8\"/>\n",
       "      </g>\n",
       "     </g>\n",
       "     <g id=\"text_16\">\n",
       "      <!-- 30000 -->\n",
       "      <g transform=\"translate(38.81375 67.813428)scale(0.1 -0.1)\">\n",
       "       <use xlink:href=\"#DejaVuSans-33\"/>\n",
       "       <use xlink:href=\"#DejaVuSans-30\" x=\"63.623047\"/>\n",
       "       <use xlink:href=\"#DejaVuSans-30\" x=\"127.246094\"/>\n",
       "       <use xlink:href=\"#DejaVuSans-30\" x=\"190.869141\"/>\n",
       "       <use xlink:href=\"#DejaVuSans-30\" x=\"254.492188\"/>\n",
       "      </g>\n",
       "     </g>\n",
       "    </g>\n",
       "    <g id=\"ytick_8\">\n",
       "     <g id=\"line2d_39\">\n",
       "      <g>\n",
       "       <use xlink:href=\"#m1cf7fb362f\" x=\"77.62625\" y=\"34.430536\" style=\"stroke: #000000; stroke-width: 0.8\"/>\n",
       "      </g>\n",
       "     </g>\n",
       "     <g id=\"line2d_40\">\n",
       "      <g>\n",
       "       <use xlink:href=\"#m414e0b245f\" x=\"412.42625\" y=\"34.430536\" style=\"stroke: #000000; stroke-width: 0.8\"/>\n",
       "      </g>\n",
       "     </g>\n",
       "     <g id=\"text_17\">\n",
       "      <!-- 35000 -->\n",
       "      <g transform=\"translate(38.81375 38.229754)scale(0.1 -0.1)\">\n",
       "       <use xlink:href=\"#DejaVuSans-33\"/>\n",
       "       <use xlink:href=\"#DejaVuSans-35\" x=\"63.623047\"/>\n",
       "       <use xlink:href=\"#DejaVuSans-30\" x=\"127.246094\"/>\n",
       "       <use xlink:href=\"#DejaVuSans-30\" x=\"190.869141\"/>\n",
       "       <use xlink:href=\"#DejaVuSans-30\" x=\"254.492188\"/>\n",
       "      </g>\n",
       "     </g>\n",
       "    </g>\n",
       "    <g id=\"text_18\">\n",
       "     <!-- Плотность распределения -->\n",
       "     <g transform=\"translate(16.318125 224.989062)rotate(-90)scale(0.12 -0.12)\">\n",
       "      <defs>\n",
       "       <path id=\"DejaVuSans-Bold-41f\" d=\"M 4769 4666 \n",
       "L 4769 0 \n",
       "L 3566 0 \n",
       "L 3566 3756 \n",
       "L 1791 3756 \n",
       "L 1791 0 \n",
       "L 588 0 \n",
       "L 588 4666 \n",
       "L 4769 4666 \n",
       "z\n",
       "\" transform=\"scale(0.015625)\"/>\n",
       "       <path id=\"DejaVuSans-Bold-43b\" d=\"M 353 0 \n",
       "L 353 800 \n",
       "Q 906 913 1031 1278 \n",
       "Q 1125 1556 1125 2928 \n",
       "L 1125 3500 \n",
       "L 4150 3500 \n",
       "L 4150 0 \n",
       "L 3031 0 \n",
       "L 3031 2700 \n",
       "L 2244 2700 \n",
       "L 2244 2584 \n",
       "Q 2244 1213 2028 813 \n",
       "Q 1591 0 353 0 \n",
       "z\n",
       "\" transform=\"scale(0.015625)\"/>\n",
       "       <path id=\"DejaVuSans-Bold-43e\" d=\"M 2203 2784 \n",
       "Q 1831 2784 1636 2517 \n",
       "Q 1441 2250 1441 1747 \n",
       "Q 1441 1244 1636 976 \n",
       "Q 1831 709 2203 709 \n",
       "Q 2569 709 2762 976 \n",
       "Q 2956 1244 2956 1747 \n",
       "Q 2956 2250 2762 2517 \n",
       "Q 2569 2784 2203 2784 \n",
       "z\n",
       "M 2203 3584 \n",
       "Q 3106 3584 3614 3096 \n",
       "Q 4122 2609 4122 1747 \n",
       "Q 4122 884 3614 396 \n",
       "Q 3106 -91 2203 -91 \n",
       "Q 1297 -91 786 396 \n",
       "Q 275 884 275 1747 \n",
       "Q 275 2609 786 3096 \n",
       "Q 1297 3584 2203 3584 \n",
       "z\n",
       "\" transform=\"scale(0.015625)\"/>\n",
       "       <path id=\"DejaVuSans-Bold-43d\" d=\"M 538 3500 \n",
       "L 1656 3500 \n",
       "L 1656 2169 \n",
       "L 2766 2169 \n",
       "L 2766 3500 \n",
       "L 3884 3500 \n",
       "L 3884 0 \n",
       "L 2766 0 \n",
       "L 2766 1478 \n",
       "L 1656 1478 \n",
       "L 1656 0 \n",
       "L 538 0 \n",
       "L 538 3500 \n",
       "z\n",
       "\" transform=\"scale(0.015625)\"/>\n",
       "       <path id=\"DejaVuSans-Bold-441\" d=\"M 3366 3391 \n",
       "L 3366 2478 \n",
       "Q 3138 2634 2908 2709 \n",
       "Q 2678 2784 2431 2784 \n",
       "Q 1963 2784 1702 2511 \n",
       "Q 1441 2238 1441 1747 \n",
       "Q 1441 1256 1702 982 \n",
       "Q 1963 709 2431 709 \n",
       "Q 2694 709 2930 787 \n",
       "Q 3166 866 3366 1019 \n",
       "L 3366 103 \n",
       "Q 3103 6 2833 -42 \n",
       "Q 2563 -91 2291 -91 \n",
       "Q 1344 -91 809 395 \n",
       "Q 275 881 275 1747 \n",
       "Q 275 2613 809 3098 \n",
       "Q 1344 3584 2291 3584 \n",
       "Q 2566 3584 2833 3536 \n",
       "Q 3100 3488 3366 3391 \n",
       "z\n",
       "\" transform=\"scale(0.015625)\"/>\n",
       "       <path id=\"DejaVuSans-Bold-44c\" d=\"M 2719 1094 \n",
       "Q 2719 1291 2594 1388 \n",
       "Q 2472 1481 2222 1481 \n",
       "L 1656 1481 \n",
       "L 1656 700 \n",
       "L 2222 700 \n",
       "Q 2469 700 2594 800 \n",
       "Q 2719 897 2719 1094 \n",
       "z\n",
       "M 538 3500 \n",
       "L 1656 3500 \n",
       "L 1656 2172 \n",
       "L 2291 2172 \n",
       "Q 3000 2172 3381 1913 \n",
       "Q 3766 1650 3766 1081 \n",
       "Q 3766 513 3381 256 \n",
       "Q 3000 0 2291 0 \n",
       "L 538 0 \n",
       "L 538 3500 \n",
       "z\n",
       "\" transform=\"scale(0.015625)\"/>\n",
       "       <path id=\"DejaVuSans-Bold-20\" transform=\"scale(0.015625)\"/>\n",
       "       <path id=\"DejaVuSans-Bold-440\" d=\"M 1656 506 \n",
       "L 1656 -1331 \n",
       "L 538 -1331 \n",
       "L 538 3500 \n",
       "L 1656 3500 \n",
       "L 1656 2988 \n",
       "Q 1888 3294 2169 3439 \n",
       "Q 2450 3584 2816 3584 \n",
       "Q 3463 3584 3878 3070 \n",
       "Q 4294 2556 4294 1747 \n",
       "Q 4294 938 3878 423 \n",
       "Q 3463 -91 2816 -91 \n",
       "Q 2450 -91 2169 54 \n",
       "Q 1888 200 1656 506 \n",
       "z\n",
       "M 2400 2772 \n",
       "Q 2041 2772 1848 2508 \n",
       "Q 1656 2244 1656 1747 \n",
       "Q 1656 1250 1848 986 \n",
       "Q 2041 722 2400 722 \n",
       "Q 2759 722 2948 984 \n",
       "Q 3138 1247 3138 1747 \n",
       "Q 3138 2247 2948 2509 \n",
       "Q 2759 2772 2400 2772 \n",
       "z\n",
       "\" transform=\"scale(0.015625)\"/>\n",
       "       <path id=\"DejaVuSans-Bold-43f\" d=\"M 3884 3500 \n",
       "L 3884 0 \n",
       "L 2766 0 \n",
       "L 2766 2700 \n",
       "L 1656 2700 \n",
       "L 1656 0 \n",
       "L 538 0 \n",
       "L 538 3500 \n",
       "L 3884 3500 \n",
       "z\n",
       "\" transform=\"scale(0.015625)\"/>\n",
       "       <path id=\"DejaVuSans-Bold-435\" d=\"M 4031 1759 \n",
       "L 4031 1441 \n",
       "L 1416 1441 \n",
       "Q 1456 1047 1700 850 \n",
       "Q 1944 653 2381 653 \n",
       "Q 2734 653 3104 758 \n",
       "Q 3475 863 3866 1075 \n",
       "L 3866 213 \n",
       "Q 3469 63 3072 -14 \n",
       "Q 2675 -91 2278 -91 \n",
       "Q 1328 -91 801 392 \n",
       "Q 275 875 275 1747 \n",
       "Q 275 2603 792 3093 \n",
       "Q 1309 3584 2216 3584 \n",
       "Q 3041 3584 3536 3087 \n",
       "Q 4031 2591 4031 1759 \n",
       "z\n",
       "M 2881 2131 \n",
       "Q 2881 2450 2695 2645 \n",
       "Q 2509 2841 2209 2841 \n",
       "Q 1884 2841 1681 2658 \n",
       "Q 1478 2475 1428 2131 \n",
       "L 2881 2131 \n",
       "z\n",
       "\" transform=\"scale(0.015625)\"/>\n",
       "       <path id=\"DejaVuSans-Bold-434\" d=\"M 547 800 \n",
       "Q 903 919 1053 1314 \n",
       "Q 1203 1709 1203 2838 \n",
       "L 1203 3500 \n",
       "L 4228 3500 \n",
       "L 4228 800 \n",
       "L 4809 800 \n",
       "L 4809 -884 \n",
       "L 4009 -884 \n",
       "L 4009 0 \n",
       "L 1159 0 \n",
       "L 1159 -884 \n",
       "L 359 -884 \n",
       "L 359 800 \n",
       "L 547 800 \n",
       "z\n",
       "M 3109 2700 \n",
       "L 2322 2700 \n",
       "L 2322 2603 \n",
       "Q 2322 1456 2063 800 \n",
       "L 3109 800 \n",
       "L 3109 2700 \n",
       "z\n",
       "\" transform=\"scale(0.015625)\"/>\n",
       "       <path id=\"DejaVuSans-Bold-438\" d=\"M 3947 3500 \n",
       "L 3947 0 \n",
       "L 2828 0 \n",
       "L 2828 1863 \n",
       "L 1700 0 \n",
       "L 538 0 \n",
       "L 538 3500 \n",
       "L 1656 3500 \n",
       "L 1656 1638 \n",
       "L 2784 3500 \n",
       "L 3947 3500 \n",
       "z\n",
       "\" transform=\"scale(0.015625)\"/>\n",
       "       <path id=\"DejaVuSans-Bold-44f\" d=\"M 1528 2394 \n",
       "Q 1528 2169 1651 2069 \n",
       "Q 1775 1969 2059 1969 \n",
       "L 2463 1969 \n",
       "L 2463 2816 \n",
       "L 2059 2816 \n",
       "Q 1775 2816 1651 2719 \n",
       "Q 1528 2622 1528 2394 \n",
       "z\n",
       "M 197 0 \n",
       "L 1113 1497 \n",
       "Q 847 1650 650 1917 \n",
       "Q 453 2184 453 2516 \n",
       "Q 453 3013 789 3256 \n",
       "Q 1125 3500 1878 3500 \n",
       "L 3581 3500 \n",
       "L 3581 0 \n",
       "L 2463 0 \n",
       "L 2463 1278 \n",
       "L 2069 1278 \n",
       "L 1288 0 \n",
       "L 197 0 \n",
       "z\n",
       "\" transform=\"scale(0.015625)\"/>\n",
       "      </defs>\n",
       "      <use xlink:href=\"#DejaVuSans-Bold-41f\"/>\n",
       "      <use xlink:href=\"#DejaVuSans-Bold-43b\" x=\"83.691406\"/>\n",
       "      <use xlink:href=\"#DejaVuSans-Bold-43e\" x=\"156.933594\"/>\n",
       "      <use xlink:href=\"#DejaVuSans-Bold-442\" x=\"225.634766\"/>\n",
       "      <use xlink:href=\"#DejaVuSans-Bold-43d\" x=\"283.59375\"/>\n",
       "      <use xlink:href=\"#DejaVuSans-Bold-43e\" x=\"352.685547\"/>\n",
       "      <use xlink:href=\"#DejaVuSans-Bold-441\" x=\"421.386719\"/>\n",
       "      <use xlink:href=\"#DejaVuSans-Bold-442\" x=\"480.664062\"/>\n",
       "      <use xlink:href=\"#DejaVuSans-Bold-44c\" x=\"538.623047\"/>\n",
       "      <use xlink:href=\"#DejaVuSans-Bold-20\" x=\"601.855469\"/>\n",
       "      <use xlink:href=\"#DejaVuSans-Bold-440\" x=\"636.669922\"/>\n",
       "      <use xlink:href=\"#DejaVuSans-Bold-430\" x=\"708.251953\"/>\n",
       "      <use xlink:href=\"#DejaVuSans-Bold-441\" x=\"775.732422\"/>\n",
       "      <use xlink:href=\"#DejaVuSans-Bold-43f\" x=\"835.009766\"/>\n",
       "      <use xlink:href=\"#DejaVuSans-Bold-440\" x=\"904.101562\"/>\n",
       "      <use xlink:href=\"#DejaVuSans-Bold-435\" x=\"975.683594\"/>\n",
       "      <use xlink:href=\"#DejaVuSans-Bold-434\" x=\"1043.505859\"/>\n",
       "      <use xlink:href=\"#DejaVuSans-Bold-435\" x=\"1124.267578\"/>\n",
       "      <use xlink:href=\"#DejaVuSans-Bold-43b\" x=\"1192.089844\"/>\n",
       "      <use xlink:href=\"#DejaVuSans-Bold-435\" x=\"1265.332031\"/>\n",
       "      <use xlink:href=\"#DejaVuSans-Bold-43d\" x=\"1333.154297\"/>\n",
       "      <use xlink:href=\"#DejaVuSans-Bold-438\" x=\"1402.246094\"/>\n",
       "      <use xlink:href=\"#DejaVuSans-Bold-44f\" x=\"1472.314453\"/>\n",
       "     </g>\n",
       "    </g>\n",
       "   </g>\n",
       "   <g id=\"patch_3\">\n",
       "    <path d=\"M 92.844432 241.51625 \n",
       "L 106.609621 241.51625 \n",
       "L 106.609621 241.462999 \n",
       "L 92.844432 241.462999 \n",
       "z\n",
       "\" clip-path=\"url(#pd174d5ae16)\" style=\"fill: #ffa500\"/>\n",
       "   </g>\n",
       "   <g id=\"patch_4\">\n",
       "    <path d=\"M 108.139087 241.51625 \n",
       "L 121.904276 241.51625 \n",
       "L 121.904276 241.462999 \n",
       "L 108.139087 241.462999 \n",
       "z\n",
       "\" clip-path=\"url(#pd174d5ae16)\" style=\"fill: #ffa500\"/>\n",
       "   </g>\n",
       "   <g id=\"patch_5\">\n",
       "    <path d=\"M 123.433742 241.51625 \n",
       "L 137.198932 241.51625 \n",
       "L 137.198932 241.380165 \n",
       "L 123.433742 241.380165 \n",
       "z\n",
       "\" clip-path=\"url(#pd174d5ae16)\" style=\"fill: #ffa500\"/>\n",
       "   </g>\n",
       "   <g id=\"patch_6\">\n",
       "    <path d=\"M 138.728397 241.51625 \n",
       "L 152.493587 241.51625 \n",
       "L 152.493587 241.202663 \n",
       "L 138.728397 241.202663 \n",
       "z\n",
       "\" clip-path=\"url(#pd174d5ae16)\" style=\"fill: #ffa500\"/>\n",
       "   </g>\n",
       "   <g id=\"patch_7\">\n",
       "    <path d=\"M 154.023052 241.51625 \n",
       "L 167.788242 241.51625 \n",
       "L 167.788242 241.131662 \n",
       "L 154.023052 241.131662 \n",
       "z\n",
       "\" clip-path=\"url(#pd174d5ae16)\" style=\"fill: #ffa500\"/>\n",
       "   </g>\n",
       "   <g id=\"patch_8\">\n",
       "    <path d=\"M 169.317707 241.51625 \n",
       "L 183.082897 241.51625 \n",
       "L 183.082897 241.214497 \n",
       "L 169.317707 241.214497 \n",
       "z\n",
       "\" clip-path=\"url(#pd174d5ae16)\" style=\"fill: #ffa500\"/>\n",
       "   </g>\n",
       "   <g id=\"patch_9\">\n",
       "    <path d=\"M 184.612362 241.51625 \n",
       "L 198.377552 241.51625 \n",
       "L 198.377552 240.486738 \n",
       "L 184.612362 240.486738 \n",
       "z\n",
       "\" clip-path=\"url(#pd174d5ae16)\" style=\"fill: #ffa500\"/>\n",
       "   </g>\n",
       "   <g id=\"patch_10\">\n",
       "    <path d=\"M 199.907017 241.51625 \n",
       "L 213.672207 241.51625 \n",
       "L 213.672207 239.889148 \n",
       "L 199.907017 239.889148 \n",
       "z\n",
       "\" clip-path=\"url(#pd174d5ae16)\" style=\"fill: #ffa500\"/>\n",
       "   </g>\n",
       "   <g id=\"patch_11\">\n",
       "    <path d=\"M 215.201673 241.51625 \n",
       "L 228.966862 241.51625 \n",
       "L 228.966862 239.770813 \n",
       "L 215.201673 239.770813 \n",
       "z\n",
       "\" clip-path=\"url(#pd174d5ae16)\" style=\"fill: #ffa500\"/>\n",
       "   </g>\n",
       "   <g id=\"patch_12\">\n",
       "    <path d=\"M 230.496328 241.51625 \n",
       "L 244.261517 241.51625 \n",
       "L 244.261517 229.30411 \n",
       "L 230.496328 229.30411 \n",
       "z\n",
       "\" clip-path=\"url(#pd174d5ae16)\" style=\"fill: #ffa500\"/>\n",
       "   </g>\n",
       "   <g id=\"patch_13\">\n",
       "    <path d=\"M 245.790983 241.51625 \n",
       "L 259.556172 241.51625 \n",
       "L 259.556172 73.682154 \n",
       "L 245.790983 73.682154 \n",
       "z\n",
       "\" clip-path=\"url(#pd174d5ae16)\" style=\"fill: #ffa500\"/>\n",
       "   </g>\n",
       "   <g id=\"patch_14\">\n",
       "    <path d=\"M 261.085638 241.51625 \n",
       "L 274.850827 241.51625 \n",
       "L 274.850827 127.755192 \n",
       "L 261.085638 127.755192 \n",
       "z\n",
       "\" clip-path=\"url(#pd174d5ae16)\" style=\"fill: #ffa500\"/>\n",
       "   </g>\n",
       "   <g id=\"patch_15\">\n",
       "    <path d=\"M 276.380293 241.51625 \n",
       "L 290.145483 241.51625 \n",
       "L 290.145483 97.538428 \n",
       "L 276.380293 97.538428 \n",
       "z\n",
       "\" clip-path=\"url(#pd174d5ae16)\" style=\"fill: #ffa500\"/>\n",
       "   </g>\n",
       "   <g id=\"patch_16\">\n",
       "    <path d=\"M 291.674948 241.51625 \n",
       "L 305.440138 241.51625 \n",
       "L 305.440138 68.45176 \n",
       "L 291.674948 68.45176 \n",
       "z\n",
       "\" clip-path=\"url(#pd174d5ae16)\" style=\"fill: #ffa500\"/>\n",
       "   </g>\n",
       "   <g id=\"patch_17\">\n",
       "    <path d=\"M 306.969603 241.51625 \n",
       "L 320.734793 241.51625 \n",
       "L 320.734793 147.452002 \n",
       "L 306.969603 147.452002 \n",
       "z\n",
       "\" clip-path=\"url(#pd174d5ae16)\" style=\"fill: #ffa500\"/>\n",
       "   </g>\n",
       "   <g id=\"patch_18\">\n",
       "    <path d=\"M 322.264258 241.51625 \n",
       "L 336.029448 241.51625 \n",
       "L 336.029448 113.359777 \n",
       "L 322.264258 113.359777 \n",
       "z\n",
       "\" clip-path=\"url(#pd174d5ae16)\" style=\"fill: #ffa500\"/>\n",
       "   </g>\n",
       "   <g id=\"patch_19\">\n",
       "    <path d=\"M 337.558913 241.51625 \n",
       "L 351.324103 241.51625 \n",
       "L 351.324103 47.340851 \n",
       "L 337.558913 47.340851 \n",
       "z\n",
       "\" clip-path=\"url(#pd174d5ae16)\" style=\"fill: #ffa500\"/>\n",
       "   </g>\n",
       "   <g id=\"patch_20\">\n",
       "    <path d=\"M 352.853568 241.51625 \n",
       "L 366.618758 241.51625 \n",
       "L 366.618758 131.837739 \n",
       "L 352.853568 131.837739 \n",
       "z\n",
       "\" clip-path=\"url(#pd174d5ae16)\" style=\"fill: #ffa500\"/>\n",
       "   </g>\n",
       "   <g id=\"patch_21\">\n",
       "    <path d=\"M 368.148224 241.51625 \n",
       "L 381.913413 241.51625 \n",
       "L 381.913413 112.140929 \n",
       "L 368.148224 112.140929 \n",
       "z\n",
       "\" clip-path=\"url(#pd174d5ae16)\" style=\"fill: #ffa500\"/>\n",
       "   </g>\n",
       "   <g id=\"patch_22\">\n",
       "    <path d=\"M 383.442879 241.51625 \n",
       "L 397.208068 241.51625 \n",
       "L 397.208068 71.475212 \n",
       "L 383.442879 71.475212 \n",
       "z\n",
       "\" clip-path=\"url(#pd174d5ae16)\" style=\"fill: #ffa500\"/>\n",
       "   </g>\n",
       "   <g id=\"patch_23\">\n",
       "    <path d=\"M 77.62625 241.51625 \n",
       "L 77.62625 24.07625 \n",
       "\" style=\"fill: none; stroke: #000000; stroke-width: 0.8; stroke-linejoin: miter; stroke-linecap: square\"/>\n",
       "   </g>\n",
       "   <g id=\"patch_24\">\n",
       "    <path d=\"M 77.62625 241.51625 \n",
       "L 412.42625 241.51625 \n",
       "\" style=\"fill: none; stroke: #000000; stroke-width: 0.8; stroke-linejoin: miter; stroke-linecap: square\"/>\n",
       "   </g>\n",
       "   <g id=\"text_19\">\n",
       "    <!-- Гистограмма распределения событий по датам -->\n",
       "    <g transform=\"translate(67.874844 18.07625)scale(0.14 -0.14)\">\n",
       "     <defs>\n",
       "      <path id=\"DejaVuSans-413\" d=\"M 628 0 \n",
       "L 628 4666 \n",
       "L 3531 4666 \n",
       "L 3531 4134 \n",
       "L 1259 4134 \n",
       "L 1259 0 \n",
       "L 628 0 \n",
       "z\n",
       "\" transform=\"scale(0.015625)\"/>\n",
       "      <path id=\"DejaVuSans-438\" d=\"M 3578 3500 \n",
       "L 3578 0 \n",
       "L 3006 0 \n",
       "L 3006 2809 \n",
       "L 1319 0 \n",
       "L 581 0 \n",
       "L 581 3500 \n",
       "L 1153 3500 \n",
       "L 1153 697 \n",
       "L 2838 3500 \n",
       "L 3578 3500 \n",
       "z\n",
       "\" transform=\"scale(0.015625)\"/>\n",
       "      <path id=\"DejaVuSans-441\" d=\"M 3122 3366 \n",
       "L 3122 2828 \n",
       "Q 2878 2963 2633 3030 \n",
       "Q 2388 3097 2138 3097 \n",
       "Q 1578 3097 1268 2742 \n",
       "Q 959 2388 959 1747 \n",
       "Q 959 1106 1268 751 \n",
       "Q 1578 397 2138 397 \n",
       "Q 2388 397 2633 464 \n",
       "Q 2878 531 3122 666 \n",
       "L 3122 134 \n",
       "Q 2881 22 2623 -34 \n",
       "Q 2366 -91 2075 -91 \n",
       "Q 1284 -91 818 406 \n",
       "Q 353 903 353 1747 \n",
       "Q 353 2603 823 3093 \n",
       "Q 1294 3584 2113 3584 \n",
       "Q 2378 3584 2631 3529 \n",
       "Q 2884 3475 3122 3366 \n",
       "z\n",
       "\" transform=\"scale(0.015625)\"/>\n",
       "      <path id=\"DejaVuSans-442\" d=\"M 188 3500 \n",
       "L 3541 3500 \n",
       "L 3541 3041 \n",
       "L 2147 3041 \n",
       "L 2147 0 \n",
       "L 1581 0 \n",
       "L 1581 3041 \n",
       "L 188 3041 \n",
       "L 188 3500 \n",
       "z\n",
       "\" transform=\"scale(0.015625)\"/>\n",
       "      <path id=\"DejaVuSans-43e\" d=\"M 1959 3097 \n",
       "Q 1497 3097 1228 2736 \n",
       "Q 959 2375 959 1747 \n",
       "Q 959 1119 1226 758 \n",
       "Q 1494 397 1959 397 \n",
       "Q 2419 397 2687 759 \n",
       "Q 2956 1122 2956 1747 \n",
       "Q 2956 2369 2687 2733 \n",
       "Q 2419 3097 1959 3097 \n",
       "z\n",
       "M 1959 3584 \n",
       "Q 2709 3584 3137 3096 \n",
       "Q 3566 2609 3566 1747 \n",
       "Q 3566 888 3137 398 \n",
       "Q 2709 -91 1959 -91 \n",
       "Q 1206 -91 779 398 \n",
       "Q 353 888 353 1747 \n",
       "Q 353 2609 779 3096 \n",
       "Q 1206 3584 1959 3584 \n",
       "z\n",
       "\" transform=\"scale(0.015625)\"/>\n",
       "      <path id=\"DejaVuSans-433\" d=\"M 581 0 \n",
       "L 581 3500 \n",
       "L 3050 3500 \n",
       "L 3050 3041 \n",
       "L 1159 3041 \n",
       "L 1159 0 \n",
       "L 581 0 \n",
       "z\n",
       "\" transform=\"scale(0.015625)\"/>\n",
       "      <path id=\"DejaVuSans-440\" d=\"M 1159 525 \n",
       "L 1159 -1331 \n",
       "L 581 -1331 \n",
       "L 581 3500 \n",
       "L 1159 3500 \n",
       "L 1159 2969 \n",
       "Q 1341 3281 1617 3432 \n",
       "Q 1894 3584 2278 3584 \n",
       "Q 2916 3584 3314 3078 \n",
       "Q 3713 2572 3713 1747 \n",
       "Q 3713 922 3314 415 \n",
       "Q 2916 -91 2278 -91 \n",
       "Q 1894 -91 1617 61 \n",
       "Q 1341 213 1159 525 \n",
       "z\n",
       "M 3116 1747 \n",
       "Q 3116 2381 2855 2742 \n",
       "Q 2594 3103 2138 3103 \n",
       "Q 1681 3103 1420 2742 \n",
       "Q 1159 2381 1159 1747 \n",
       "Q 1159 1113 1420 752 \n",
       "Q 1681 391 2138 391 \n",
       "Q 2594 391 2855 752 \n",
       "Q 3116 1113 3116 1747 \n",
       "z\n",
       "\" transform=\"scale(0.015625)\"/>\n",
       "      <path id=\"DejaVuSans-430\" d=\"M 2194 1759 \n",
       "Q 1497 1759 1228 1600 \n",
       "Q 959 1441 959 1056 \n",
       "Q 959 750 1161 570 \n",
       "Q 1363 391 1709 391 \n",
       "Q 2188 391 2477 730 \n",
       "Q 2766 1069 2766 1631 \n",
       "L 2766 1759 \n",
       "L 2194 1759 \n",
       "z\n",
       "M 3341 1997 \n",
       "L 3341 0 \n",
       "L 2766 0 \n",
       "L 2766 531 \n",
       "Q 2569 213 2275 61 \n",
       "Q 1981 -91 1556 -91 \n",
       "Q 1019 -91 701 211 \n",
       "Q 384 513 384 1019 \n",
       "Q 384 1609 779 1909 \n",
       "Q 1175 2209 1959 2209 \n",
       "L 2766 2209 \n",
       "L 2766 2266 \n",
       "Q 2766 2663 2505 2880 \n",
       "Q 2244 3097 1772 3097 \n",
       "Q 1472 3097 1187 3025 \n",
       "Q 903 2953 641 2809 \n",
       "L 641 3341 \n",
       "Q 956 3463 1253 3523 \n",
       "Q 1550 3584 1831 3584 \n",
       "Q 2591 3584 2966 3190 \n",
       "Q 3341 2797 3341 1997 \n",
       "z\n",
       "\" transform=\"scale(0.015625)\"/>\n",
       "      <path id=\"DejaVuSans-43c\" d=\"M 581 3500 \n",
       "L 1422 3500 \n",
       "L 2416 1156 \n",
       "L 3413 3500 \n",
       "L 4247 3500 \n",
       "L 4247 0 \n",
       "L 3669 0 \n",
       "L 3669 2950 \n",
       "L 2703 672 \n",
       "L 2128 672 \n",
       "L 1159 2950 \n",
       "L 1159 0 \n",
       "L 581 0 \n",
       "L 581 3500 \n",
       "z\n",
       "\" transform=\"scale(0.015625)\"/>\n",
       "      <path id=\"DejaVuSans-20\" transform=\"scale(0.015625)\"/>\n",
       "      <path id=\"DejaVuSans-43f\" d=\"M 3603 3500 \n",
       "L 3603 0 \n",
       "L 3025 0 \n",
       "L 3025 3041 \n",
       "L 1159 3041 \n",
       "L 1159 0 \n",
       "L 581 0 \n",
       "L 581 3500 \n",
       "L 3603 3500 \n",
       "z\n",
       "\" transform=\"scale(0.015625)\"/>\n",
       "      <path id=\"DejaVuSans-435\" d=\"M 3597 1894 \n",
       "L 3597 1613 \n",
       "L 953 1613 \n",
       "Q 991 1019 1311 708 \n",
       "Q 1631 397 2203 397 \n",
       "Q 2534 397 2845 478 \n",
       "Q 3156 559 3463 722 \n",
       "L 3463 178 \n",
       "Q 3153 47 2828 -22 \n",
       "Q 2503 -91 2169 -91 \n",
       "Q 1331 -91 842 396 \n",
       "Q 353 884 353 1716 \n",
       "Q 353 2575 817 3079 \n",
       "Q 1281 3584 2069 3584 \n",
       "Q 2775 3584 3186 3129 \n",
       "Q 3597 2675 3597 1894 \n",
       "z\n",
       "M 3022 2063 \n",
       "Q 3016 2534 2758 2815 \n",
       "Q 2500 3097 2075 3097 \n",
       "Q 1594 3097 1305 2825 \n",
       "Q 1016 2553 972 2059 \n",
       "L 3022 2063 \n",
       "z\n",
       "\" transform=\"scale(0.015625)\"/>\n",
       "      <path id=\"DejaVuSans-434\" d=\"M 1384 459 \n",
       "L 3053 459 \n",
       "L 3053 3041 \n",
       "L 1844 3041 \n",
       "L 1844 2603 \n",
       "Q 1844 1316 1475 628 \n",
       "L 1384 459 \n",
       "z\n",
       "M 550 459 \n",
       "Q 834 584 959 850 \n",
       "Q 1266 1509 1266 2838 \n",
       "L 1266 3500 \n",
       "L 3631 3500 \n",
       "L 3631 459 \n",
       "L 4091 459 \n",
       "L 4091 -884 \n",
       "L 3631 -884 \n",
       "L 3631 0 \n",
       "L 794 0 \n",
       "L 794 -884 \n",
       "L 334 -884 \n",
       "L 334 459 \n",
       "L 550 459 \n",
       "z\n",
       "\" transform=\"scale(0.015625)\"/>\n",
       "      <path id=\"DejaVuSans-43b\" d=\"M 238 0 \n",
       "L 238 478 \n",
       "Q 806 566 981 959 \n",
       "Q 1194 1513 1194 2928 \n",
       "L 1194 3500 \n",
       "L 3559 3500 \n",
       "L 3559 0 \n",
       "L 2984 0 \n",
       "L 2984 3041 \n",
       "L 1769 3041 \n",
       "L 1769 2694 \n",
       "Q 1769 1344 1494 738 \n",
       "Q 1200 91 238 0 \n",
       "z\n",
       "\" transform=\"scale(0.015625)\"/>\n",
       "      <path id=\"DejaVuSans-43d\" d=\"M 581 3500 \n",
       "L 1159 3500 \n",
       "L 1159 2072 \n",
       "L 3025 2072 \n",
       "L 3025 3500 \n",
       "L 3603 3500 \n",
       "L 3603 0 \n",
       "L 3025 0 \n",
       "L 3025 1613 \n",
       "L 1159 1613 \n",
       "L 1159 0 \n",
       "L 581 0 \n",
       "L 581 3500 \n",
       "z\n",
       "\" transform=\"scale(0.015625)\"/>\n",
       "      <path id=\"DejaVuSans-44f\" d=\"M 1181 2491 \n",
       "Q 1181 2231 1381 2084 \n",
       "Q 1581 1938 1953 1938 \n",
       "L 2728 1938 \n",
       "L 2728 3041 \n",
       "L 1953 3041 \n",
       "Q 1581 3041 1381 2897 \n",
       "Q 1181 2753 1181 2491 \n",
       "z\n",
       "M 363 0 \n",
       "L 1431 1534 \n",
       "Q 1069 1616 828 1830 \n",
       "Q 588 2044 588 2491 \n",
       "Q 588 2997 923 3248 \n",
       "Q 1259 3500 1938 3500 \n",
       "L 3306 3500 \n",
       "L 3306 0 \n",
       "L 2728 0 \n",
       "L 2728 1478 \n",
       "L 2013 1478 \n",
       "L 981 0 \n",
       "L 363 0 \n",
       "z\n",
       "\" transform=\"scale(0.015625)\"/>\n",
       "      <path id=\"DejaVuSans-431\" d=\"M 1991 3584 \n",
       "Q 2741 3584 3169 3096 \n",
       "Q 3597 2609 3597 1747 \n",
       "Q 3597 888 3169 398 \n",
       "Q 2741 -91 1991 -91 \n",
       "Q 1238 -91 822 384 \n",
       "Q 406 859 384 1747 \n",
       "L 366 2463 \n",
       "Q 350 2834 350 2963 \n",
       "Q 350 3463 531 3831 \n",
       "Q 816 4409 1308 4659 \n",
       "Q 1800 4909 2625 4916 \n",
       "Q 3006 4919 3175 4972 \n",
       "L 3334 4516 \n",
       "Q 3181 4453 3041 4450 \n",
       "L 2259 4397 \n",
       "Q 1866 4369 1628 4231 \n",
       "Q 1006 3866 947 3388 \n",
       "L 925 3213 \n",
       "Q 1331 3584 1991 3584 \n",
       "z\n",
       "M 1991 3097 \n",
       "Q 1528 3097 1259 2736 \n",
       "Q 991 2375 991 1747 \n",
       "Q 991 1119 1258 758 \n",
       "Q 1525 397 1991 397 \n",
       "Q 2450 397 2719 759 \n",
       "Q 2988 1122 2988 1747 \n",
       "Q 2988 2369 2719 2733 \n",
       "Q 2450 3097 1991 3097 \n",
       "z\n",
       "\" transform=\"scale(0.015625)\"/>\n",
       "      <path id=\"DejaVuSans-44b\" d=\"M 3909 3500 \n",
       "L 4484 3500 \n",
       "L 4484 0 \n",
       "L 3909 0 \n",
       "L 3909 3500 \n",
       "z\n",
       "M 4197 3584 \n",
       "L 4197 3584 \n",
       "z\n",
       "M 2781 1038 \n",
       "Q 2781 1319 2576 1466 \n",
       "Q 2372 1613 1978 1613 \n",
       "L 1159 1613 \n",
       "L 1159 459 \n",
       "L 1978 459 \n",
       "Q 2372 459 2576 607 \n",
       "Q 2781 756 2781 1038 \n",
       "z\n",
       "M 581 3500 \n",
       "L 1159 3500 \n",
       "L 1159 2072 \n",
       "L 2003 2072 \n",
       "Q 2672 2072 3033 1817 \n",
       "Q 3394 1563 3394 1038 \n",
       "Q 3394 513 3033 256 \n",
       "Q 2672 0 2003 0 \n",
       "L 581 0 \n",
       "L 581 3500 \n",
       "z\n",
       "\" transform=\"scale(0.015625)\"/>\n",
       "      <path id=\"DejaVuSans-439\" d=\"M 3578 3500 \n",
       "L 3578 0 \n",
       "L 3006 0 \n",
       "L 3006 2809 \n",
       "L 1319 0 \n",
       "L 581 0 \n",
       "L 581 3500 \n",
       "L 1153 3500 \n",
       "L 1153 697 \n",
       "L 2838 3500 \n",
       "L 3578 3500 \n",
       "z\n",
       "M 1103 4862 \n",
       "L 1472 4862 \n",
       "Q 1506 4628 1657 4510 \n",
       "Q 1809 4393 2081 4393 \n",
       "Q 2350 4393 2500 4509 \n",
       "Q 2650 4625 2691 4862 \n",
       "L 3059 4862 \n",
       "Q 3028 4415 2781 4190 \n",
       "Q 2534 3965 2081 3965 \n",
       "Q 1628 3965 1381 4190 \n",
       "Q 1134 4415 1103 4862 \n",
       "z\n",
       "\" transform=\"scale(0.015625)\"/>\n",
       "     </defs>\n",
       "     <use xlink:href=\"#DejaVuSans-413\"/>\n",
       "     <use xlink:href=\"#DejaVuSans-438\" x=\"60.986328\"/>\n",
       "     <use xlink:href=\"#DejaVuSans-441\" x=\"125.976562\"/>\n",
       "     <use xlink:href=\"#DejaVuSans-442\" x=\"180.957031\"/>\n",
       "     <use xlink:href=\"#DejaVuSans-43e\" x=\"239.208984\"/>\n",
       "     <use xlink:href=\"#DejaVuSans-433\" x=\"300.390625\"/>\n",
       "     <use xlink:href=\"#DejaVuSans-440\" x=\"352.929688\"/>\n",
       "     <use xlink:href=\"#DejaVuSans-430\" x=\"416.40625\"/>\n",
       "     <use xlink:href=\"#DejaVuSans-43c\" x=\"477.685547\"/>\n",
       "     <use xlink:href=\"#DejaVuSans-43c\" x=\"553.125\"/>\n",
       "     <use xlink:href=\"#DejaVuSans-430\" x=\"628.564453\"/>\n",
       "     <use xlink:href=\"#DejaVuSans-20\" x=\"689.84375\"/>\n",
       "     <use xlink:href=\"#DejaVuSans-440\" x=\"721.630859\"/>\n",
       "     <use xlink:href=\"#DejaVuSans-430\" x=\"785.107422\"/>\n",
       "     <use xlink:href=\"#DejaVuSans-441\" x=\"846.386719\"/>\n",
       "     <use xlink:href=\"#DejaVuSans-43f\" x=\"901.367188\"/>\n",
       "     <use xlink:href=\"#DejaVuSans-440\" x=\"966.748047\"/>\n",
       "     <use xlink:href=\"#DejaVuSans-435\" x=\"1030.224609\"/>\n",
       "     <use xlink:href=\"#DejaVuSans-434\" x=\"1091.748047\"/>\n",
       "     <use xlink:href=\"#DejaVuSans-435\" x=\"1160.888672\"/>\n",
       "     <use xlink:href=\"#DejaVuSans-43b\" x=\"1222.412109\"/>\n",
       "     <use xlink:href=\"#DejaVuSans-435\" x=\"1286.328125\"/>\n",
       "     <use xlink:href=\"#DejaVuSans-43d\" x=\"1347.851562\"/>\n",
       "     <use xlink:href=\"#DejaVuSans-438\" x=\"1413.232422\"/>\n",
       "     <use xlink:href=\"#DejaVuSans-44f\" x=\"1478.222656\"/>\n",
       "     <use xlink:href=\"#DejaVuSans-20\" x=\"1538.378906\"/>\n",
       "     <use xlink:href=\"#DejaVuSans-441\" x=\"1570.166016\"/>\n",
       "     <use xlink:href=\"#DejaVuSans-43e\" x=\"1625.146484\"/>\n",
       "     <use xlink:href=\"#DejaVuSans-431\" x=\"1686.328125\"/>\n",
       "     <use xlink:href=\"#DejaVuSans-44b\" x=\"1747.998047\"/>\n",
       "     <use xlink:href=\"#DejaVuSans-442\" x=\"1826.953125\"/>\n",
       "     <use xlink:href=\"#DejaVuSans-438\" x=\"1885.205078\"/>\n",
       "     <use xlink:href=\"#DejaVuSans-439\" x=\"1950.195312\"/>\n",
       "     <use xlink:href=\"#DejaVuSans-20\" x=\"2015.185547\"/>\n",
       "     <use xlink:href=\"#DejaVuSans-43f\" x=\"2046.972656\"/>\n",
       "     <use xlink:href=\"#DejaVuSans-43e\" x=\"2112.353516\"/>\n",
       "     <use xlink:href=\"#DejaVuSans-20\" x=\"2173.535156\"/>\n",
       "     <use xlink:href=\"#DejaVuSans-434\" x=\"2205.322266\"/>\n",
       "     <use xlink:href=\"#DejaVuSans-430\" x=\"2274.462891\"/>\n",
       "     <use xlink:href=\"#DejaVuSans-442\" x=\"2335.742188\"/>\n",
       "     <use xlink:href=\"#DejaVuSans-430\" x=\"2393.994141\"/>\n",
       "     <use xlink:href=\"#DejaVuSans-43c\" x=\"2455.273438\"/>\n",
       "    </g>\n",
       "   </g>\n",
       "  </g>\n",
       " </g>\n",
       " <defs>\n",
       "  <clipPath id=\"pd174d5ae16\">\n",
       "   <rect x=\"77.62625\" y=\"24.07625\" width=\"334.8\" height=\"217.44\"/>\n",
       "  </clipPath>\n",
       " </defs>\n",
       "</svg>\n"
      ],
      "text/plain": [
       "<Figure size 432x288 with 1 Axes>"
      ]
     },
     "metadata": {
      "needs_background": "light"
     },
     "output_type": "display_data"
    }
   ],
   "source": [
    "#построим гистограмму по дате\n",
    "ax = logs.hist('event_time', bins=20, grid=False, figsize=(6, 4), color='orange', zorder=2, rwidth=0.9)\n",
    "\n",
    "ax = ax[0]\n",
    "for x in ax:\n",
    "\n",
    "    # Despine\n",
    "    x.spines['right'].set_visible(False)\n",
    "    x.spines['top'].set_visible(False)\n",
    "    x.spines['left'].set_visible(False)\n",
    "\n",
    "    # Switch off ticks\n",
    "    x.tick_params(axis=\"both\", which=\"both\", bottom=\"off\", top=\"off\", labelbottom=\"on\", left=\"off\", right=\"off\", labelleft=\"on\")\n",
    "\n",
    "    # Draw horizontal axis lines\n",
    "    vals = x.get_yticks()\n",
    "    for tick in vals:\n",
    "        x.axhline(y=tick, linestyle='dashed', alpha=0.4, color='#eeeeee', zorder=1)\n",
    "\n",
    "    # Remove title\n",
    "    x.set_title(\"\")\n",
    "\n",
    "    # Set x-axis label\n",
    "    x.set_xlabel(\"Дата\", labelpad=20, weight='bold', size=12)\n",
    "\n",
    "    # Set y-axis label\n",
    "    x.set_ylabel(\"Плотность распределения\", labelpad=20, weight='bold', size=12)\n",
    "    plt.title('Гистограмма распределения событий по датам', fontsize=14)\n",
    "    plt.xticks(rotation='vertical')\n",
    "sns.despine()\n",
    "plt.show()    "
   ]
  },
  {
   "cell_type": "markdown",
   "metadata": {},
   "source": [
    "**БОльшая часть данных приходится на период с 01.08.2019.** Но и до этого периода были какие-то события, посмотрим на них в таблице и на графике распределения и решим удалять их или нет."
   ]
  },
  {
   "cell_type": "code",
   "execution_count": 19,
   "metadata": {
    "scrolled": true
   },
   "outputs": [
    {
     "name": "stdout",
     "output_type": "stream",
     "text": [
      "Количество событий в общем датафрейме (до удаления): 243713\n",
      "Количество событий, которые \"доезжают\" из прошлого: 2826\n",
      "Доля событий, которые будут удалены, относительно всего датафрейма, %: 1.16\n",
      "Количество уникальных пользователей в общем датафрейме (до удаления): 7551\n",
      "Количество уникальных пользователей, которые \"доезжают\" из прошлого и мы их удалим: 1451\n"
     ]
    }
   ],
   "source": [
    "#Срежем датафрейм с первого дня теста по 01.08.2019\n",
    "check_logs_by_data = logs[logs['event_time'] < '2019-08-01']\n",
    "\n",
    "print('Количество событий в общем датафрейме (до удаления):', logs['device_id'].count())\n",
    "print('Количество событий, которые \"доезжают\" из прошлого:', check_logs_by_data['event_name'].count())\n",
    "print('Доля событий, которые будут удалены, относительно всего датафрейма, %:', round((check_logs_by_data['event_name'].count() / logs['device_id'].count() * 100), 2))\n",
    "print('Количество уникальных пользователей в общем датафрейме (до удаления):', logs['device_id'].nunique())\n",
    "print('Количество уникальных пользователей, которые \"доезжают\" из прошлого и мы их удалим:', check_logs_by_data['device_id'].nunique())"
   ]
  },
  {
   "cell_type": "code",
   "execution_count": 20,
   "metadata": {},
   "outputs": [],
   "source": [
    "#Рассмотрим временной период с 31.07 по 01.08 в часовом таймфрейме\n",
    "data_slice_by_date = logs[(logs['event_time'] >= '2019-07-31') & (logs['event_time'] <= '2019-08-02')]"
   ]
  },
  {
   "cell_type": "code",
   "execution_count": 21,
   "metadata": {},
   "outputs": [
    {
     "data": {
      "image/svg+xml": [
       "<?xml version=\"1.0\" encoding=\"utf-8\" standalone=\"no\"?>\n",
       "<!DOCTYPE svg PUBLIC \"-//W3C//DTD SVG 1.1//EN\"\n",
       "  \"http://www.w3.org/Graphics/SVG/1.1/DTD/svg11.dtd\">\n",
       "<svg xmlns:xlink=\"http://www.w3.org/1999/xlink\" width=\"413.26375pt\" height=\"347.967875pt\" viewBox=\"0 0 413.26375 347.967875\" xmlns=\"http://www.w3.org/2000/svg\" version=\"1.1\">\n",
       " <metadata>\n",
       "  <rdf:RDF xmlns:dc=\"http://purl.org/dc/elements/1.1/\" xmlns:cc=\"http://creativecommons.org/ns#\" xmlns:rdf=\"http://www.w3.org/1999/02/22-rdf-syntax-ns#\">\n",
       "   <cc:Work>\n",
       "    <dc:type rdf:resource=\"http://purl.org/dc/dcmitype/StillImage\"/>\n",
       "    <dc:date>2022-09-13T00:25:44.502053</dc:date>\n",
       "    <dc:format>image/svg+xml</dc:format>\n",
       "    <dc:creator>\n",
       "     <cc:Agent>\n",
       "      <dc:title>Matplotlib v3.5.1, https://matplotlib.org/</dc:title>\n",
       "     </cc:Agent>\n",
       "    </dc:creator>\n",
       "   </cc:Work>\n",
       "  </rdf:RDF>\n",
       " </metadata>\n",
       " <defs>\n",
       "  <style type=\"text/css\">*{stroke-linejoin: round; stroke-linecap: butt}</style>\n",
       " </defs>\n",
       " <g id=\"figure_1\">\n",
       "  <g id=\"patch_1\">\n",
       "   <path d=\"M 0 347.967875 \n",
       "L 413.26375 347.967875 \n",
       "L 413.26375 0 \n",
       "L 0 0 \n",
       "L 0 347.967875 \n",
       "z\n",
       "\" style=\"fill: none\"/>\n",
       "  </g>\n",
       "  <g id=\"axes_1\">\n",
       "   <g id=\"patch_2\">\n",
       "    <path d=\"M 71.26375 257.193188 \n",
       "L 406.06375 257.193188 \n",
       "L 406.06375 39.753188 \n",
       "L 71.26375 39.753188 \n",
       "z\n",
       "\" style=\"fill: #ffffff\"/>\n",
       "   </g>\n",
       "   <g id=\"line2d_1\">\n",
       "    <path d=\"M 71.26375 257.193188 \n",
       "L 406.06375 257.193188 \n",
       "\" clip-path=\"url(#p497d890e29)\" style=\"fill: none; stroke-dasharray: 5.55,2.4; stroke-dashoffset: 0; stroke: #eeeeee; stroke-opacity: 0.4; stroke-width: 1.5\"/>\n",
       "   </g>\n",
       "   <g id=\"line2d_2\">\n",
       "    <path d=\"M 71.26375 222.678902 \n",
       "L 406.06375 222.678902 \n",
       "\" clip-path=\"url(#p497d890e29)\" style=\"fill: none; stroke-dasharray: 5.55,2.4; stroke-dashoffset: 0; stroke: #eeeeee; stroke-opacity: 0.4; stroke-width: 1.5\"/>\n",
       "   </g>\n",
       "   <g id=\"line2d_3\">\n",
       "    <path d=\"M 71.26375 188.164616 \n",
       "L 406.06375 188.164616 \n",
       "\" clip-path=\"url(#p497d890e29)\" style=\"fill: none; stroke-dasharray: 5.55,2.4; stroke-dashoffset: 0; stroke: #eeeeee; stroke-opacity: 0.4; stroke-width: 1.5\"/>\n",
       "   </g>\n",
       "   <g id=\"line2d_4\">\n",
       "    <path d=\"M 71.26375 153.65033 \n",
       "L 406.06375 153.65033 \n",
       "\" clip-path=\"url(#p497d890e29)\" style=\"fill: none; stroke-dasharray: 5.55,2.4; stroke-dashoffset: 0; stroke: #eeeeee; stroke-opacity: 0.4; stroke-width: 1.5\"/>\n",
       "   </g>\n",
       "   <g id=\"line2d_5\">\n",
       "    <path d=\"M 71.26375 119.136045 \n",
       "L 406.06375 119.136045 \n",
       "\" clip-path=\"url(#p497d890e29)\" style=\"fill: none; stroke-dasharray: 5.55,2.4; stroke-dashoffset: 0; stroke: #eeeeee; stroke-opacity: 0.4; stroke-width: 1.5\"/>\n",
       "   </g>\n",
       "   <g id=\"line2d_6\">\n",
       "    <path d=\"M 71.26375 84.621759 \n",
       "L 406.06375 84.621759 \n",
       "\" clip-path=\"url(#p497d890e29)\" style=\"fill: none; stroke-dasharray: 5.55,2.4; stroke-dashoffset: 0; stroke: #eeeeee; stroke-opacity: 0.4; stroke-width: 1.5\"/>\n",
       "   </g>\n",
       "   <g id=\"line2d_7\">\n",
       "    <path d=\"M 71.26375 50.107473 \n",
       "L 406.06375 50.107473 \n",
       "\" clip-path=\"url(#p497d890e29)\" style=\"fill: none; stroke-dasharray: 5.55,2.4; stroke-dashoffset: 0; stroke: #eeeeee; stroke-opacity: 0.4; stroke-width: 1.5\"/>\n",
       "   </g>\n",
       "   <g id=\"matplotlib.axis_1\">\n",
       "    <g id=\"xtick_1\">\n",
       "     <g id=\"line2d_8\">\n",
       "      <defs>\n",
       "       <path id=\"md0b6cfae41\" d=\"M 0 0 \n",
       "L 0 3.5 \n",
       "\" style=\"stroke: #000000; stroke-width: 0.8\"/>\n",
       "      </defs>\n",
       "      <g>\n",
       "       <use xlink:href=\"#md0b6cfae41\" x=\"78.369728\" y=\"257.193188\" style=\"stroke: #000000; stroke-width: 0.8\"/>\n",
       "      </g>\n",
       "     </g>\n",
       "     <g id=\"line2d_9\">\n",
       "      <defs>\n",
       "       <path id=\"mc44dae6d3a\" d=\"M 0 0 \n",
       "L 0 -3.5 \n",
       "\" style=\"stroke: #000000; stroke-width: 0.8\"/>\n",
       "      </defs>\n",
       "      <g>\n",
       "       <use xlink:href=\"#mc44dae6d3a\" x=\"78.369728\" y=\"39.753188\" style=\"stroke: #000000; stroke-width: 0.8\"/>\n",
       "      </g>\n",
       "     </g>\n",
       "     <g id=\"text_1\">\n",
       "      <!-- 07-31 00 -->\n",
       "      <g transform=\"translate(81.129103 309.154125)rotate(-90)scale(0.1 -0.1)\">\n",
       "       <defs>\n",
       "        <path id=\"DejaVuSans-30\" d=\"M 2034 4250 \n",
       "Q 1547 4250 1301 3770 \n",
       "Q 1056 3291 1056 2328 \n",
       "Q 1056 1369 1301 889 \n",
       "Q 1547 409 2034 409 \n",
       "Q 2525 409 2770 889 \n",
       "Q 3016 1369 3016 2328 \n",
       "Q 3016 3291 2770 3770 \n",
       "Q 2525 4250 2034 4250 \n",
       "z\n",
       "M 2034 4750 \n",
       "Q 2819 4750 3233 4129 \n",
       "Q 3647 3509 3647 2328 \n",
       "Q 3647 1150 3233 529 \n",
       "Q 2819 -91 2034 -91 \n",
       "Q 1250 -91 836 529 \n",
       "Q 422 1150 422 2328 \n",
       "Q 422 3509 836 4129 \n",
       "Q 1250 4750 2034 4750 \n",
       "z\n",
       "\" transform=\"scale(0.015625)\"/>\n",
       "        <path id=\"DejaVuSans-37\" d=\"M 525 4666 \n",
       "L 3525 4666 \n",
       "L 3525 4397 \n",
       "L 1831 0 \n",
       "L 1172 0 \n",
       "L 2766 4134 \n",
       "L 525 4134 \n",
       "L 525 4666 \n",
       "z\n",
       "\" transform=\"scale(0.015625)\"/>\n",
       "        <path id=\"DejaVuSans-2d\" d=\"M 313 2009 \n",
       "L 1997 2009 \n",
       "L 1997 1497 \n",
       "L 313 1497 \n",
       "L 313 2009 \n",
       "z\n",
       "\" transform=\"scale(0.015625)\"/>\n",
       "        <path id=\"DejaVuSans-33\" d=\"M 2597 2516 \n",
       "Q 3050 2419 3304 2112 \n",
       "Q 3559 1806 3559 1356 \n",
       "Q 3559 666 3084 287 \n",
       "Q 2609 -91 1734 -91 \n",
       "Q 1441 -91 1130 -33 \n",
       "Q 819 25 488 141 \n",
       "L 488 750 \n",
       "Q 750 597 1062 519 \n",
       "Q 1375 441 1716 441 \n",
       "Q 2309 441 2620 675 \n",
       "Q 2931 909 2931 1356 \n",
       "Q 2931 1769 2642 2001 \n",
       "Q 2353 2234 1838 2234 \n",
       "L 1294 2234 \n",
       "L 1294 2753 \n",
       "L 1863 2753 \n",
       "Q 2328 2753 2575 2939 \n",
       "Q 2822 3125 2822 3475 \n",
       "Q 2822 3834 2567 4026 \n",
       "Q 2313 4219 1838 4219 \n",
       "Q 1578 4219 1281 4162 \n",
       "Q 984 4106 628 3988 \n",
       "L 628 4550 \n",
       "Q 988 4650 1302 4700 \n",
       "Q 1616 4750 1894 4750 \n",
       "Q 2613 4750 3031 4423 \n",
       "Q 3450 4097 3450 3541 \n",
       "Q 3450 3153 3228 2886 \n",
       "Q 3006 2619 2597 2516 \n",
       "z\n",
       "\" transform=\"scale(0.015625)\"/>\n",
       "        <path id=\"DejaVuSans-31\" d=\"M 794 531 \n",
       "L 1825 531 \n",
       "L 1825 4091 \n",
       "L 703 3866 \n",
       "L 703 4441 \n",
       "L 1819 4666 \n",
       "L 2450 4666 \n",
       "L 2450 531 \n",
       "L 3481 531 \n",
       "L 3481 0 \n",
       "L 794 0 \n",
       "L 794 531 \n",
       "z\n",
       "\" transform=\"scale(0.015625)\"/>\n",
       "        <path id=\"DejaVuSans-20\" transform=\"scale(0.015625)\"/>\n",
       "       </defs>\n",
       "       <use xlink:href=\"#DejaVuSans-30\"/>\n",
       "       <use xlink:href=\"#DejaVuSans-37\" x=\"63.623047\"/>\n",
       "       <use xlink:href=\"#DejaVuSans-2d\" x=\"127.246094\"/>\n",
       "       <use xlink:href=\"#DejaVuSans-33\" x=\"163.330078\"/>\n",
       "       <use xlink:href=\"#DejaVuSans-31\" x=\"226.953125\"/>\n",
       "       <use xlink:href=\"#DejaVuSans-20\" x=\"290.576172\"/>\n",
       "       <use xlink:href=\"#DejaVuSans-30\" x=\"322.363281\"/>\n",
       "       <use xlink:href=\"#DejaVuSans-30\" x=\"385.986328\"/>\n",
       "      </g>\n",
       "     </g>\n",
       "    </g>\n",
       "    <g id=\"xtick_2\">\n",
       "     <g id=\"line2d_10\">\n",
       "      <g>\n",
       "       <use xlink:href=\"#md0b6cfae41\" x=\"117.468921\" y=\"257.193188\" style=\"stroke: #000000; stroke-width: 0.8\"/>\n",
       "      </g>\n",
       "     </g>\n",
       "     <g id=\"line2d_11\">\n",
       "      <g>\n",
       "       <use xlink:href=\"#mc44dae6d3a\" x=\"117.468921\" y=\"39.753188\" style=\"stroke: #000000; stroke-width: 0.8\"/>\n",
       "      </g>\n",
       "     </g>\n",
       "     <g id=\"text_2\">\n",
       "      <!-- 07-31 06 -->\n",
       "      <g transform=\"translate(120.228296 309.154125)rotate(-90)scale(0.1 -0.1)\">\n",
       "       <defs>\n",
       "        <path id=\"DejaVuSans-36\" d=\"M 2113 2584 \n",
       "Q 1688 2584 1439 2293 \n",
       "Q 1191 2003 1191 1497 \n",
       "Q 1191 994 1439 701 \n",
       "Q 1688 409 2113 409 \n",
       "Q 2538 409 2786 701 \n",
       "Q 3034 994 3034 1497 \n",
       "Q 3034 2003 2786 2293 \n",
       "Q 2538 2584 2113 2584 \n",
       "z\n",
       "M 3366 4563 \n",
       "L 3366 3988 \n",
       "Q 3128 4100 2886 4159 \n",
       "Q 2644 4219 2406 4219 \n",
       "Q 1781 4219 1451 3797 \n",
       "Q 1122 3375 1075 2522 \n",
       "Q 1259 2794 1537 2939 \n",
       "Q 1816 3084 2150 3084 \n",
       "Q 2853 3084 3261 2657 \n",
       "Q 3669 2231 3669 1497 \n",
       "Q 3669 778 3244 343 \n",
       "Q 2819 -91 2113 -91 \n",
       "Q 1303 -91 875 529 \n",
       "Q 447 1150 447 2328 \n",
       "Q 447 3434 972 4092 \n",
       "Q 1497 4750 2381 4750 \n",
       "Q 2619 4750 2861 4703 \n",
       "Q 3103 4656 3366 4563 \n",
       "z\n",
       "\" transform=\"scale(0.015625)\"/>\n",
       "       </defs>\n",
       "       <use xlink:href=\"#DejaVuSans-30\"/>\n",
       "       <use xlink:href=\"#DejaVuSans-37\" x=\"63.623047\"/>\n",
       "       <use xlink:href=\"#DejaVuSans-2d\" x=\"127.246094\"/>\n",
       "       <use xlink:href=\"#DejaVuSans-33\" x=\"163.330078\"/>\n",
       "       <use xlink:href=\"#DejaVuSans-31\" x=\"226.953125\"/>\n",
       "       <use xlink:href=\"#DejaVuSans-20\" x=\"290.576172\"/>\n",
       "       <use xlink:href=\"#DejaVuSans-30\" x=\"322.363281\"/>\n",
       "       <use xlink:href=\"#DejaVuSans-36\" x=\"385.986328\"/>\n",
       "      </g>\n",
       "     </g>\n",
       "    </g>\n",
       "    <g id=\"xtick_3\">\n",
       "     <g id=\"line2d_12\">\n",
       "      <g>\n",
       "       <use xlink:href=\"#md0b6cfae41\" x=\"156.568115\" y=\"257.193188\" style=\"stroke: #000000; stroke-width: 0.8\"/>\n",
       "      </g>\n",
       "     </g>\n",
       "     <g id=\"line2d_13\">\n",
       "      <g>\n",
       "       <use xlink:href=\"#mc44dae6d3a\" x=\"156.568115\" y=\"39.753188\" style=\"stroke: #000000; stroke-width: 0.8\"/>\n",
       "      </g>\n",
       "     </g>\n",
       "     <g id=\"text_3\">\n",
       "      <!-- 07-31 12 -->\n",
       "      <g transform=\"translate(159.32749 309.154125)rotate(-90)scale(0.1 -0.1)\">\n",
       "       <defs>\n",
       "        <path id=\"DejaVuSans-32\" d=\"M 1228 531 \n",
       "L 3431 531 \n",
       "L 3431 0 \n",
       "L 469 0 \n",
       "L 469 531 \n",
       "Q 828 903 1448 1529 \n",
       "Q 2069 2156 2228 2338 \n",
       "Q 2531 2678 2651 2914 \n",
       "Q 2772 3150 2772 3378 \n",
       "Q 2772 3750 2511 3984 \n",
       "Q 2250 4219 1831 4219 \n",
       "Q 1534 4219 1204 4116 \n",
       "Q 875 4013 500 3803 \n",
       "L 500 4441 \n",
       "Q 881 4594 1212 4672 \n",
       "Q 1544 4750 1819 4750 \n",
       "Q 2544 4750 2975 4387 \n",
       "Q 3406 4025 3406 3419 \n",
       "Q 3406 3131 3298 2873 \n",
       "Q 3191 2616 2906 2266 \n",
       "Q 2828 2175 2409 1742 \n",
       "Q 1991 1309 1228 531 \n",
       "z\n",
       "\" transform=\"scale(0.015625)\"/>\n",
       "       </defs>\n",
       "       <use xlink:href=\"#DejaVuSans-30\"/>\n",
       "       <use xlink:href=\"#DejaVuSans-37\" x=\"63.623047\"/>\n",
       "       <use xlink:href=\"#DejaVuSans-2d\" x=\"127.246094\"/>\n",
       "       <use xlink:href=\"#DejaVuSans-33\" x=\"163.330078\"/>\n",
       "       <use xlink:href=\"#DejaVuSans-31\" x=\"226.953125\"/>\n",
       "       <use xlink:href=\"#DejaVuSans-20\" x=\"290.576172\"/>\n",
       "       <use xlink:href=\"#DejaVuSans-31\" x=\"322.363281\"/>\n",
       "       <use xlink:href=\"#DejaVuSans-32\" x=\"385.986328\"/>\n",
       "      </g>\n",
       "     </g>\n",
       "    </g>\n",
       "    <g id=\"xtick_4\">\n",
       "     <g id=\"line2d_14\">\n",
       "      <g>\n",
       "       <use xlink:href=\"#md0b6cfae41\" x=\"195.667308\" y=\"257.193188\" style=\"stroke: #000000; stroke-width: 0.8\"/>\n",
       "      </g>\n",
       "     </g>\n",
       "     <g id=\"line2d_15\">\n",
       "      <g>\n",
       "       <use xlink:href=\"#mc44dae6d3a\" x=\"195.667308\" y=\"39.753188\" style=\"stroke: #000000; stroke-width: 0.8\"/>\n",
       "      </g>\n",
       "     </g>\n",
       "     <g id=\"text_4\">\n",
       "      <!-- 07-31 18 -->\n",
       "      <g transform=\"translate(198.426683 309.154125)rotate(-90)scale(0.1 -0.1)\">\n",
       "       <defs>\n",
       "        <path id=\"DejaVuSans-38\" d=\"M 2034 2216 \n",
       "Q 1584 2216 1326 1975 \n",
       "Q 1069 1734 1069 1313 \n",
       "Q 1069 891 1326 650 \n",
       "Q 1584 409 2034 409 \n",
       "Q 2484 409 2743 651 \n",
       "Q 3003 894 3003 1313 \n",
       "Q 3003 1734 2745 1975 \n",
       "Q 2488 2216 2034 2216 \n",
       "z\n",
       "M 1403 2484 \n",
       "Q 997 2584 770 2862 \n",
       "Q 544 3141 544 3541 \n",
       "Q 544 4100 942 4425 \n",
       "Q 1341 4750 2034 4750 \n",
       "Q 2731 4750 3128 4425 \n",
       "Q 3525 4100 3525 3541 \n",
       "Q 3525 3141 3298 2862 \n",
       "Q 3072 2584 2669 2484 \n",
       "Q 3125 2378 3379 2068 \n",
       "Q 3634 1759 3634 1313 \n",
       "Q 3634 634 3220 271 \n",
       "Q 2806 -91 2034 -91 \n",
       "Q 1263 -91 848 271 \n",
       "Q 434 634 434 1313 \n",
       "Q 434 1759 690 2068 \n",
       "Q 947 2378 1403 2484 \n",
       "z\n",
       "M 1172 3481 \n",
       "Q 1172 3119 1398 2916 \n",
       "Q 1625 2713 2034 2713 \n",
       "Q 2441 2713 2670 2916 \n",
       "Q 2900 3119 2900 3481 \n",
       "Q 2900 3844 2670 4047 \n",
       "Q 2441 4250 2034 4250 \n",
       "Q 1625 4250 1398 4047 \n",
       "Q 1172 3844 1172 3481 \n",
       "z\n",
       "\" transform=\"scale(0.015625)\"/>\n",
       "       </defs>\n",
       "       <use xlink:href=\"#DejaVuSans-30\"/>\n",
       "       <use xlink:href=\"#DejaVuSans-37\" x=\"63.623047\"/>\n",
       "       <use xlink:href=\"#DejaVuSans-2d\" x=\"127.246094\"/>\n",
       "       <use xlink:href=\"#DejaVuSans-33\" x=\"163.330078\"/>\n",
       "       <use xlink:href=\"#DejaVuSans-31\" x=\"226.953125\"/>\n",
       "       <use xlink:href=\"#DejaVuSans-20\" x=\"290.576172\"/>\n",
       "       <use xlink:href=\"#DejaVuSans-31\" x=\"322.363281\"/>\n",
       "       <use xlink:href=\"#DejaVuSans-38\" x=\"385.986328\"/>\n",
       "      </g>\n",
       "     </g>\n",
       "    </g>\n",
       "    <g id=\"xtick_5\">\n",
       "     <g id=\"line2d_16\">\n",
       "      <g>\n",
       "       <use xlink:href=\"#md0b6cfae41\" x=\"234.766502\" y=\"257.193188\" style=\"stroke: #000000; stroke-width: 0.8\"/>\n",
       "      </g>\n",
       "     </g>\n",
       "     <g id=\"line2d_17\">\n",
       "      <g>\n",
       "       <use xlink:href=\"#mc44dae6d3a\" x=\"234.766502\" y=\"39.753188\" style=\"stroke: #000000; stroke-width: 0.8\"/>\n",
       "      </g>\n",
       "     </g>\n",
       "     <g id=\"text_5\">\n",
       "      <!-- 08-01 00 -->\n",
       "      <g transform=\"translate(237.525877 309.154125)rotate(-90)scale(0.1 -0.1)\">\n",
       "       <use xlink:href=\"#DejaVuSans-30\"/>\n",
       "       <use xlink:href=\"#DejaVuSans-38\" x=\"63.623047\"/>\n",
       "       <use xlink:href=\"#DejaVuSans-2d\" x=\"127.246094\"/>\n",
       "       <use xlink:href=\"#DejaVuSans-30\" x=\"163.330078\"/>\n",
       "       <use xlink:href=\"#DejaVuSans-31\" x=\"226.953125\"/>\n",
       "       <use xlink:href=\"#DejaVuSans-20\" x=\"290.576172\"/>\n",
       "       <use xlink:href=\"#DejaVuSans-30\" x=\"322.363281\"/>\n",
       "       <use xlink:href=\"#DejaVuSans-30\" x=\"385.986328\"/>\n",
       "      </g>\n",
       "     </g>\n",
       "    </g>\n",
       "    <g id=\"xtick_6\">\n",
       "     <g id=\"line2d_18\">\n",
       "      <g>\n",
       "       <use xlink:href=\"#md0b6cfae41\" x=\"273.865695\" y=\"257.193188\" style=\"stroke: #000000; stroke-width: 0.8\"/>\n",
       "      </g>\n",
       "     </g>\n",
       "     <g id=\"line2d_19\">\n",
       "      <g>\n",
       "       <use xlink:href=\"#mc44dae6d3a\" x=\"273.865695\" y=\"39.753188\" style=\"stroke: #000000; stroke-width: 0.8\"/>\n",
       "      </g>\n",
       "     </g>\n",
       "     <g id=\"text_6\">\n",
       "      <!-- 08-01 06 -->\n",
       "      <g transform=\"translate(276.62507 309.154125)rotate(-90)scale(0.1 -0.1)\">\n",
       "       <use xlink:href=\"#DejaVuSans-30\"/>\n",
       "       <use xlink:href=\"#DejaVuSans-38\" x=\"63.623047\"/>\n",
       "       <use xlink:href=\"#DejaVuSans-2d\" x=\"127.246094\"/>\n",
       "       <use xlink:href=\"#DejaVuSans-30\" x=\"163.330078\"/>\n",
       "       <use xlink:href=\"#DejaVuSans-31\" x=\"226.953125\"/>\n",
       "       <use xlink:href=\"#DejaVuSans-20\" x=\"290.576172\"/>\n",
       "       <use xlink:href=\"#DejaVuSans-30\" x=\"322.363281\"/>\n",
       "       <use xlink:href=\"#DejaVuSans-36\" x=\"385.986328\"/>\n",
       "      </g>\n",
       "     </g>\n",
       "    </g>\n",
       "    <g id=\"xtick_7\">\n",
       "     <g id=\"line2d_20\">\n",
       "      <g>\n",
       "       <use xlink:href=\"#md0b6cfae41\" x=\"312.964889\" y=\"257.193188\" style=\"stroke: #000000; stroke-width: 0.8\"/>\n",
       "      </g>\n",
       "     </g>\n",
       "     <g id=\"line2d_21\">\n",
       "      <g>\n",
       "       <use xlink:href=\"#mc44dae6d3a\" x=\"312.964889\" y=\"39.753188\" style=\"stroke: #000000; stroke-width: 0.8\"/>\n",
       "      </g>\n",
       "     </g>\n",
       "     <g id=\"text_7\">\n",
       "      <!-- 08-01 12 -->\n",
       "      <g transform=\"translate(315.724264 309.154125)rotate(-90)scale(0.1 -0.1)\">\n",
       "       <use xlink:href=\"#DejaVuSans-30\"/>\n",
       "       <use xlink:href=\"#DejaVuSans-38\" x=\"63.623047\"/>\n",
       "       <use xlink:href=\"#DejaVuSans-2d\" x=\"127.246094\"/>\n",
       "       <use xlink:href=\"#DejaVuSans-30\" x=\"163.330078\"/>\n",
       "       <use xlink:href=\"#DejaVuSans-31\" x=\"226.953125\"/>\n",
       "       <use xlink:href=\"#DejaVuSans-20\" x=\"290.576172\"/>\n",
       "       <use xlink:href=\"#DejaVuSans-31\" x=\"322.363281\"/>\n",
       "       <use xlink:href=\"#DejaVuSans-32\" x=\"385.986328\"/>\n",
       "      </g>\n",
       "     </g>\n",
       "    </g>\n",
       "    <g id=\"xtick_8\">\n",
       "     <g id=\"line2d_22\">\n",
       "      <g>\n",
       "       <use xlink:href=\"#md0b6cfae41\" x=\"352.064082\" y=\"257.193188\" style=\"stroke: #000000; stroke-width: 0.8\"/>\n",
       "      </g>\n",
       "     </g>\n",
       "     <g id=\"line2d_23\">\n",
       "      <g>\n",
       "       <use xlink:href=\"#mc44dae6d3a\" x=\"352.064082\" y=\"39.753188\" style=\"stroke: #000000; stroke-width: 0.8\"/>\n",
       "      </g>\n",
       "     </g>\n",
       "     <g id=\"text_8\">\n",
       "      <!-- 08-01 18 -->\n",
       "      <g transform=\"translate(354.823457 309.154125)rotate(-90)scale(0.1 -0.1)\">\n",
       "       <use xlink:href=\"#DejaVuSans-30\"/>\n",
       "       <use xlink:href=\"#DejaVuSans-38\" x=\"63.623047\"/>\n",
       "       <use xlink:href=\"#DejaVuSans-2d\" x=\"127.246094\"/>\n",
       "       <use xlink:href=\"#DejaVuSans-30\" x=\"163.330078\"/>\n",
       "       <use xlink:href=\"#DejaVuSans-31\" x=\"226.953125\"/>\n",
       "       <use xlink:href=\"#DejaVuSans-20\" x=\"290.576172\"/>\n",
       "       <use xlink:href=\"#DejaVuSans-31\" x=\"322.363281\"/>\n",
       "       <use xlink:href=\"#DejaVuSans-38\" x=\"385.986328\"/>\n",
       "      </g>\n",
       "     </g>\n",
       "    </g>\n",
       "    <g id=\"xtick_9\">\n",
       "     <g id=\"line2d_24\">\n",
       "      <g>\n",
       "       <use xlink:href=\"#md0b6cfae41\" x=\"391.163276\" y=\"257.193188\" style=\"stroke: #000000; stroke-width: 0.8\"/>\n",
       "      </g>\n",
       "     </g>\n",
       "     <g id=\"line2d_25\">\n",
       "      <g>\n",
       "       <use xlink:href=\"#mc44dae6d3a\" x=\"391.163276\" y=\"39.753188\" style=\"stroke: #000000; stroke-width: 0.8\"/>\n",
       "      </g>\n",
       "     </g>\n",
       "     <g id=\"text_9\">\n",
       "      <!-- 08-02 00 -->\n",
       "      <g transform=\"translate(393.922651 309.154125)rotate(-90)scale(0.1 -0.1)\">\n",
       "       <use xlink:href=\"#DejaVuSans-30\"/>\n",
       "       <use xlink:href=\"#DejaVuSans-38\" x=\"63.623047\"/>\n",
       "       <use xlink:href=\"#DejaVuSans-2d\" x=\"127.246094\"/>\n",
       "       <use xlink:href=\"#DejaVuSans-30\" x=\"163.330078\"/>\n",
       "       <use xlink:href=\"#DejaVuSans-32\" x=\"226.953125\"/>\n",
       "       <use xlink:href=\"#DejaVuSans-20\" x=\"290.576172\"/>\n",
       "       <use xlink:href=\"#DejaVuSans-30\" x=\"322.363281\"/>\n",
       "       <use xlink:href=\"#DejaVuSans-30\" x=\"385.986328\"/>\n",
       "      </g>\n",
       "     </g>\n",
       "    </g>\n",
       "    <g id=\"text_10\">\n",
       "     <!-- Время -->\n",
       "     <g transform=\"translate(216.97 338.27225)scale(0.12 -0.12)\">\n",
       "      <defs>\n",
       "       <path id=\"DejaVuSans-Bold-412\" d=\"M 2456 2859 \n",
       "Q 2741 2859 2887 2984 \n",
       "Q 3034 3109 3034 3353 \n",
       "Q 3034 3594 2887 3720 \n",
       "Q 2741 3847 2456 3847 \n",
       "L 1791 3847 \n",
       "L 1791 2859 \n",
       "L 2456 2859 \n",
       "z\n",
       "M 2497 819 \n",
       "Q 2859 819 3042 972 \n",
       "Q 3225 1125 3225 1434 \n",
       "Q 3225 1738 3044 1889 \n",
       "Q 2863 2041 2497 2041 \n",
       "L 1791 2041 \n",
       "L 1791 819 \n",
       "L 2497 819 \n",
       "z\n",
       "M 3616 2497 \n",
       "Q 4003 2384 4215 2081 \n",
       "Q 4428 1778 4428 1338 \n",
       "Q 4428 663 3972 331 \n",
       "Q 3516 0 2584 0 \n",
       "L 588 0 \n",
       "L 588 4666 \n",
       "L 2394 4666 \n",
       "Q 3366 4666 3802 4372 \n",
       "Q 4238 4078 4238 3431 \n",
       "Q 4238 3091 4078 2852 \n",
       "Q 3919 2613 3616 2497 \n",
       "z\n",
       "\" transform=\"scale(0.015625)\"/>\n",
       "       <path id=\"DejaVuSans-Bold-440\" d=\"M 1656 506 \n",
       "L 1656 -1331 \n",
       "L 538 -1331 \n",
       "L 538 3500 \n",
       "L 1656 3500 \n",
       "L 1656 2988 \n",
       "Q 1888 3294 2169 3439 \n",
       "Q 2450 3584 2816 3584 \n",
       "Q 3463 3584 3878 3070 \n",
       "Q 4294 2556 4294 1747 \n",
       "Q 4294 938 3878 423 \n",
       "Q 3463 -91 2816 -91 \n",
       "Q 2450 -91 2169 54 \n",
       "Q 1888 200 1656 506 \n",
       "z\n",
       "M 2400 2772 \n",
       "Q 2041 2772 1848 2508 \n",
       "Q 1656 2244 1656 1747 \n",
       "Q 1656 1250 1848 986 \n",
       "Q 2041 722 2400 722 \n",
       "Q 2759 722 2948 984 \n",
       "Q 3138 1247 3138 1747 \n",
       "Q 3138 2247 2948 2509 \n",
       "Q 2759 2772 2400 2772 \n",
       "z\n",
       "\" transform=\"scale(0.015625)\"/>\n",
       "       <path id=\"DejaVuSans-Bold-435\" d=\"M 4031 1759 \n",
       "L 4031 1441 \n",
       "L 1416 1441 \n",
       "Q 1456 1047 1700 850 \n",
       "Q 1944 653 2381 653 \n",
       "Q 2734 653 3104 758 \n",
       "Q 3475 863 3866 1075 \n",
       "L 3866 213 \n",
       "Q 3469 63 3072 -14 \n",
       "Q 2675 -91 2278 -91 \n",
       "Q 1328 -91 801 392 \n",
       "Q 275 875 275 1747 \n",
       "Q 275 2603 792 3093 \n",
       "Q 1309 3584 2216 3584 \n",
       "Q 3041 3584 3536 3087 \n",
       "Q 4031 2591 4031 1759 \n",
       "z\n",
       "M 2881 2131 \n",
       "Q 2881 2450 2695 2645 \n",
       "Q 2509 2841 2209 2841 \n",
       "Q 1884 2841 1681 2658 \n",
       "Q 1478 2475 1428 2131 \n",
       "L 2881 2131 \n",
       "z\n",
       "\" transform=\"scale(0.015625)\"/>\n",
       "       <path id=\"DejaVuSans-Bold-43c\" d=\"M 538 3500 \n",
       "L 1825 3500 \n",
       "L 2613 1750 \n",
       "L 3400 3500 \n",
       "L 4691 3500 \n",
       "L 4691 0 \n",
       "L 3575 0 \n",
       "L 3575 1984 \n",
       "L 2984 672 \n",
       "L 2250 672 \n",
       "L 1656 1984 \n",
       "L 1656 0 \n",
       "L 538 0 \n",
       "L 538 3500 \n",
       "z\n",
       "\" transform=\"scale(0.015625)\"/>\n",
       "       <path id=\"DejaVuSans-Bold-44f\" d=\"M 1528 2394 \n",
       "Q 1528 2169 1651 2069 \n",
       "Q 1775 1969 2059 1969 \n",
       "L 2463 1969 \n",
       "L 2463 2816 \n",
       "L 2059 2816 \n",
       "Q 1775 2816 1651 2719 \n",
       "Q 1528 2622 1528 2394 \n",
       "z\n",
       "M 197 0 \n",
       "L 1113 1497 \n",
       "Q 847 1650 650 1917 \n",
       "Q 453 2184 453 2516 \n",
       "Q 453 3013 789 3256 \n",
       "Q 1125 3500 1878 3500 \n",
       "L 3581 3500 \n",
       "L 3581 0 \n",
       "L 2463 0 \n",
       "L 2463 1278 \n",
       "L 2069 1278 \n",
       "L 1288 0 \n",
       "L 197 0 \n",
       "z\n",
       "\" transform=\"scale(0.015625)\"/>\n",
       "      </defs>\n",
       "      <use xlink:href=\"#DejaVuSans-Bold-412\"/>\n",
       "      <use xlink:href=\"#DejaVuSans-Bold-440\" x=\"76.220703\"/>\n",
       "      <use xlink:href=\"#DejaVuSans-Bold-435\" x=\"147.802734\"/>\n",
       "      <use xlink:href=\"#DejaVuSans-Bold-43c\" x=\"215.625\"/>\n",
       "      <use xlink:href=\"#DejaVuSans-Bold-44f\" x=\"297.363281\"/>\n",
       "     </g>\n",
       "    </g>\n",
       "   </g>\n",
       "   <g id=\"matplotlib.axis_2\">\n",
       "    <g id=\"ytick_1\">\n",
       "     <g id=\"line2d_26\">\n",
       "      <defs>\n",
       "       <path id=\"m065c3e67b7\" d=\"M 0 0 \n",
       "L -3.5 0 \n",
       "\" style=\"stroke: #000000; stroke-width: 0.8\"/>\n",
       "      </defs>\n",
       "      <g>\n",
       "       <use xlink:href=\"#m065c3e67b7\" x=\"71.26375\" y=\"257.193188\" style=\"stroke: #000000; stroke-width: 0.8\"/>\n",
       "      </g>\n",
       "     </g>\n",
       "     <g id=\"line2d_27\">\n",
       "      <defs>\n",
       "       <path id=\"m1d3e24878b\" d=\"M 0 0 \n",
       "L 3.5 0 \n",
       "\" style=\"stroke: #000000; stroke-width: 0.8\"/>\n",
       "      </defs>\n",
       "      <g>\n",
       "       <use xlink:href=\"#m1d3e24878b\" x=\"406.06375\" y=\"257.193188\" style=\"stroke: #000000; stroke-width: 0.8\"/>\n",
       "      </g>\n",
       "     </g>\n",
       "     <g id=\"text_11\">\n",
       "      <!-- 0 -->\n",
       "      <g transform=\"translate(57.90125 260.992406)scale(0.1 -0.1)\">\n",
       "       <use xlink:href=\"#DejaVuSans-30\"/>\n",
       "      </g>\n",
       "     </g>\n",
       "    </g>\n",
       "    <g id=\"ytick_2\">\n",
       "     <g id=\"line2d_28\">\n",
       "      <g>\n",
       "       <use xlink:href=\"#m065c3e67b7\" x=\"71.26375\" y=\"222.678902\" style=\"stroke: #000000; stroke-width: 0.8\"/>\n",
       "      </g>\n",
       "     </g>\n",
       "     <g id=\"line2d_29\">\n",
       "      <g>\n",
       "       <use xlink:href=\"#m1d3e24878b\" x=\"406.06375\" y=\"222.678902\" style=\"stroke: #000000; stroke-width: 0.8\"/>\n",
       "      </g>\n",
       "     </g>\n",
       "     <g id=\"text_12\">\n",
       "      <!-- 500 -->\n",
       "      <g transform=\"translate(45.17625 226.478121)scale(0.1 -0.1)\">\n",
       "       <defs>\n",
       "        <path id=\"DejaVuSans-35\" d=\"M 691 4666 \n",
       "L 3169 4666 \n",
       "L 3169 4134 \n",
       "L 1269 4134 \n",
       "L 1269 2991 \n",
       "Q 1406 3038 1543 3061 \n",
       "Q 1681 3084 1819 3084 \n",
       "Q 2600 3084 3056 2656 \n",
       "Q 3513 2228 3513 1497 \n",
       "Q 3513 744 3044 326 \n",
       "Q 2575 -91 1722 -91 \n",
       "Q 1428 -91 1123 -41 \n",
       "Q 819 9 494 109 \n",
       "L 494 744 \n",
       "Q 775 591 1075 516 \n",
       "Q 1375 441 1709 441 \n",
       "Q 2250 441 2565 725 \n",
       "Q 2881 1009 2881 1497 \n",
       "Q 2881 1984 2565 2268 \n",
       "Q 2250 2553 1709 2553 \n",
       "Q 1456 2553 1204 2497 \n",
       "Q 953 2441 691 2322 \n",
       "L 691 4666 \n",
       "z\n",
       "\" transform=\"scale(0.015625)\"/>\n",
       "       </defs>\n",
       "       <use xlink:href=\"#DejaVuSans-35\"/>\n",
       "       <use xlink:href=\"#DejaVuSans-30\" x=\"63.623047\"/>\n",
       "       <use xlink:href=\"#DejaVuSans-30\" x=\"127.246094\"/>\n",
       "      </g>\n",
       "     </g>\n",
       "    </g>\n",
       "    <g id=\"ytick_3\">\n",
       "     <g id=\"line2d_30\">\n",
       "      <g>\n",
       "       <use xlink:href=\"#m065c3e67b7\" x=\"71.26375\" y=\"188.164616\" style=\"stroke: #000000; stroke-width: 0.8\"/>\n",
       "      </g>\n",
       "     </g>\n",
       "     <g id=\"line2d_31\">\n",
       "      <g>\n",
       "       <use xlink:href=\"#m1d3e24878b\" x=\"406.06375\" y=\"188.164616\" style=\"stroke: #000000; stroke-width: 0.8\"/>\n",
       "      </g>\n",
       "     </g>\n",
       "     <g id=\"text_13\">\n",
       "      <!-- 1000 -->\n",
       "      <g transform=\"translate(38.81375 191.963835)scale(0.1 -0.1)\">\n",
       "       <use xlink:href=\"#DejaVuSans-31\"/>\n",
       "       <use xlink:href=\"#DejaVuSans-30\" x=\"63.623047\"/>\n",
       "       <use xlink:href=\"#DejaVuSans-30\" x=\"127.246094\"/>\n",
       "       <use xlink:href=\"#DejaVuSans-30\" x=\"190.869141\"/>\n",
       "      </g>\n",
       "     </g>\n",
       "    </g>\n",
       "    <g id=\"ytick_4\">\n",
       "     <g id=\"line2d_32\">\n",
       "      <g>\n",
       "       <use xlink:href=\"#m065c3e67b7\" x=\"71.26375\" y=\"153.65033\" style=\"stroke: #000000; stroke-width: 0.8\"/>\n",
       "      </g>\n",
       "     </g>\n",
       "     <g id=\"line2d_33\">\n",
       "      <g>\n",
       "       <use xlink:href=\"#m1d3e24878b\" x=\"406.06375\" y=\"153.65033\" style=\"stroke: #000000; stroke-width: 0.8\"/>\n",
       "      </g>\n",
       "     </g>\n",
       "     <g id=\"text_14\">\n",
       "      <!-- 1500 -->\n",
       "      <g transform=\"translate(38.81375 157.449549)scale(0.1 -0.1)\">\n",
       "       <use xlink:href=\"#DejaVuSans-31\"/>\n",
       "       <use xlink:href=\"#DejaVuSans-35\" x=\"63.623047\"/>\n",
       "       <use xlink:href=\"#DejaVuSans-30\" x=\"127.246094\"/>\n",
       "       <use xlink:href=\"#DejaVuSans-30\" x=\"190.869141\"/>\n",
       "      </g>\n",
       "     </g>\n",
       "    </g>\n",
       "    <g id=\"ytick_5\">\n",
       "     <g id=\"line2d_34\">\n",
       "      <g>\n",
       "       <use xlink:href=\"#m065c3e67b7\" x=\"71.26375\" y=\"119.136045\" style=\"stroke: #000000; stroke-width: 0.8\"/>\n",
       "      </g>\n",
       "     </g>\n",
       "     <g id=\"line2d_35\">\n",
       "      <g>\n",
       "       <use xlink:href=\"#m1d3e24878b\" x=\"406.06375\" y=\"119.136045\" style=\"stroke: #000000; stroke-width: 0.8\"/>\n",
       "      </g>\n",
       "     </g>\n",
       "     <g id=\"text_15\">\n",
       "      <!-- 2000 -->\n",
       "      <g transform=\"translate(38.81375 122.935263)scale(0.1 -0.1)\">\n",
       "       <use xlink:href=\"#DejaVuSans-32\"/>\n",
       "       <use xlink:href=\"#DejaVuSans-30\" x=\"63.623047\"/>\n",
       "       <use xlink:href=\"#DejaVuSans-30\" x=\"127.246094\"/>\n",
       "       <use xlink:href=\"#DejaVuSans-30\" x=\"190.869141\"/>\n",
       "      </g>\n",
       "     </g>\n",
       "    </g>\n",
       "    <g id=\"ytick_6\">\n",
       "     <g id=\"line2d_36\">\n",
       "      <g>\n",
       "       <use xlink:href=\"#m065c3e67b7\" x=\"71.26375\" y=\"84.621759\" style=\"stroke: #000000; stroke-width: 0.8\"/>\n",
       "      </g>\n",
       "     </g>\n",
       "     <g id=\"line2d_37\">\n",
       "      <g>\n",
       "       <use xlink:href=\"#m1d3e24878b\" x=\"406.06375\" y=\"84.621759\" style=\"stroke: #000000; stroke-width: 0.8\"/>\n",
       "      </g>\n",
       "     </g>\n",
       "     <g id=\"text_16\">\n",
       "      <!-- 2500 -->\n",
       "      <g transform=\"translate(38.81375 88.420978)scale(0.1 -0.1)\">\n",
       "       <use xlink:href=\"#DejaVuSans-32\"/>\n",
       "       <use xlink:href=\"#DejaVuSans-35\" x=\"63.623047\"/>\n",
       "       <use xlink:href=\"#DejaVuSans-30\" x=\"127.246094\"/>\n",
       "       <use xlink:href=\"#DejaVuSans-30\" x=\"190.869141\"/>\n",
       "      </g>\n",
       "     </g>\n",
       "    </g>\n",
       "    <g id=\"ytick_7\">\n",
       "     <g id=\"line2d_38\">\n",
       "      <g>\n",
       "       <use xlink:href=\"#m065c3e67b7\" x=\"71.26375\" y=\"50.107473\" style=\"stroke: #000000; stroke-width: 0.8\"/>\n",
       "      </g>\n",
       "     </g>\n",
       "     <g id=\"line2d_39\">\n",
       "      <g>\n",
       "       <use xlink:href=\"#m1d3e24878b\" x=\"406.06375\" y=\"50.107473\" style=\"stroke: #000000; stroke-width: 0.8\"/>\n",
       "      </g>\n",
       "     </g>\n",
       "     <g id=\"text_17\">\n",
       "      <!-- 3000 -->\n",
       "      <g transform=\"translate(38.81375 53.906692)scale(0.1 -0.1)\">\n",
       "       <use xlink:href=\"#DejaVuSans-33\"/>\n",
       "       <use xlink:href=\"#DejaVuSans-30\" x=\"63.623047\"/>\n",
       "       <use xlink:href=\"#DejaVuSans-30\" x=\"127.246094\"/>\n",
       "       <use xlink:href=\"#DejaVuSans-30\" x=\"190.869141\"/>\n",
       "      </g>\n",
       "     </g>\n",
       "    </g>\n",
       "    <g id=\"text_18\">\n",
       "     <!-- Плотность распределения -->\n",
       "     <g transform=\"translate(16.318125 240.666)rotate(-90)scale(0.12 -0.12)\">\n",
       "      <defs>\n",
       "       <path id=\"DejaVuSans-Bold-41f\" d=\"M 4769 4666 \n",
       "L 4769 0 \n",
       "L 3566 0 \n",
       "L 3566 3756 \n",
       "L 1791 3756 \n",
       "L 1791 0 \n",
       "L 588 0 \n",
       "L 588 4666 \n",
       "L 4769 4666 \n",
       "z\n",
       "\" transform=\"scale(0.015625)\"/>\n",
       "       <path id=\"DejaVuSans-Bold-43b\" d=\"M 353 0 \n",
       "L 353 800 \n",
       "Q 906 913 1031 1278 \n",
       "Q 1125 1556 1125 2928 \n",
       "L 1125 3500 \n",
       "L 4150 3500 \n",
       "L 4150 0 \n",
       "L 3031 0 \n",
       "L 3031 2700 \n",
       "L 2244 2700 \n",
       "L 2244 2584 \n",
       "Q 2244 1213 2028 813 \n",
       "Q 1591 0 353 0 \n",
       "z\n",
       "\" transform=\"scale(0.015625)\"/>\n",
       "       <path id=\"DejaVuSans-Bold-43e\" d=\"M 2203 2784 \n",
       "Q 1831 2784 1636 2517 \n",
       "Q 1441 2250 1441 1747 \n",
       "Q 1441 1244 1636 976 \n",
       "Q 1831 709 2203 709 \n",
       "Q 2569 709 2762 976 \n",
       "Q 2956 1244 2956 1747 \n",
       "Q 2956 2250 2762 2517 \n",
       "Q 2569 2784 2203 2784 \n",
       "z\n",
       "M 2203 3584 \n",
       "Q 3106 3584 3614 3096 \n",
       "Q 4122 2609 4122 1747 \n",
       "Q 4122 884 3614 396 \n",
       "Q 3106 -91 2203 -91 \n",
       "Q 1297 -91 786 396 \n",
       "Q 275 884 275 1747 \n",
       "Q 275 2609 786 3096 \n",
       "Q 1297 3584 2203 3584 \n",
       "z\n",
       "\" transform=\"scale(0.015625)\"/>\n",
       "       <path id=\"DejaVuSans-Bold-442\" d=\"M 25 3500 \n",
       "L 3681 3500 \n",
       "L 3681 2809 \n",
       "L 2413 2809 \n",
       "L 2413 0 \n",
       "L 1297 0 \n",
       "L 1297 2809 \n",
       "L 25 2809 \n",
       "L 25 3500 \n",
       "z\n",
       "\" transform=\"scale(0.015625)\"/>\n",
       "       <path id=\"DejaVuSans-Bold-43d\" d=\"M 538 3500 \n",
       "L 1656 3500 \n",
       "L 1656 2169 \n",
       "L 2766 2169 \n",
       "L 2766 3500 \n",
       "L 3884 3500 \n",
       "L 3884 0 \n",
       "L 2766 0 \n",
       "L 2766 1478 \n",
       "L 1656 1478 \n",
       "L 1656 0 \n",
       "L 538 0 \n",
       "L 538 3500 \n",
       "z\n",
       "\" transform=\"scale(0.015625)\"/>\n",
       "       <path id=\"DejaVuSans-Bold-441\" d=\"M 3366 3391 \n",
       "L 3366 2478 \n",
       "Q 3138 2634 2908 2709 \n",
       "Q 2678 2784 2431 2784 \n",
       "Q 1963 2784 1702 2511 \n",
       "Q 1441 2238 1441 1747 \n",
       "Q 1441 1256 1702 982 \n",
       "Q 1963 709 2431 709 \n",
       "Q 2694 709 2930 787 \n",
       "Q 3166 866 3366 1019 \n",
       "L 3366 103 \n",
       "Q 3103 6 2833 -42 \n",
       "Q 2563 -91 2291 -91 \n",
       "Q 1344 -91 809 395 \n",
       "Q 275 881 275 1747 \n",
       "Q 275 2613 809 3098 \n",
       "Q 1344 3584 2291 3584 \n",
       "Q 2566 3584 2833 3536 \n",
       "Q 3100 3488 3366 3391 \n",
       "z\n",
       "\" transform=\"scale(0.015625)\"/>\n",
       "       <path id=\"DejaVuSans-Bold-44c\" d=\"M 2719 1094 \n",
       "Q 2719 1291 2594 1388 \n",
       "Q 2472 1481 2222 1481 \n",
       "L 1656 1481 \n",
       "L 1656 700 \n",
       "L 2222 700 \n",
       "Q 2469 700 2594 800 \n",
       "Q 2719 897 2719 1094 \n",
       "z\n",
       "M 538 3500 \n",
       "L 1656 3500 \n",
       "L 1656 2172 \n",
       "L 2291 2172 \n",
       "Q 3000 2172 3381 1913 \n",
       "Q 3766 1650 3766 1081 \n",
       "Q 3766 513 3381 256 \n",
       "Q 3000 0 2291 0 \n",
       "L 538 0 \n",
       "L 538 3500 \n",
       "z\n",
       "\" transform=\"scale(0.015625)\"/>\n",
       "       <path id=\"DejaVuSans-Bold-20\" transform=\"scale(0.015625)\"/>\n",
       "       <path id=\"DejaVuSans-Bold-430\" d=\"M 2106 1575 \n",
       "Q 1756 1575 1579 1456 \n",
       "Q 1403 1338 1403 1106 \n",
       "Q 1403 894 1545 773 \n",
       "Q 1688 653 1941 653 \n",
       "Q 2256 653 2472 879 \n",
       "Q 2688 1106 2688 1447 \n",
       "L 2688 1575 \n",
       "L 2106 1575 \n",
       "z\n",
       "M 3816 1997 \n",
       "L 3816 0 \n",
       "L 2688 0 \n",
       "L 2688 519 \n",
       "Q 2463 200 2181 54 \n",
       "Q 1900 -91 1497 -91 \n",
       "Q 953 -91 614 226 \n",
       "Q 275 544 275 1050 \n",
       "Q 275 1666 698 1953 \n",
       "Q 1122 2241 2028 2241 \n",
       "L 2688 2241 \n",
       "L 2688 2328 \n",
       "Q 2688 2594 2478 2717 \n",
       "Q 2269 2841 1825 2841 \n",
       "Q 1466 2841 1156 2769 \n",
       "Q 847 2697 581 2553 \n",
       "L 581 3406 \n",
       "Q 941 3494 1303 3539 \n",
       "Q 1666 3584 2028 3584 \n",
       "Q 2975 3584 3395 3211 \n",
       "Q 3816 2838 3816 1997 \n",
       "z\n",
       "\" transform=\"scale(0.015625)\"/>\n",
       "       <path id=\"DejaVuSans-Bold-43f\" d=\"M 3884 3500 \n",
       "L 3884 0 \n",
       "L 2766 0 \n",
       "L 2766 2700 \n",
       "L 1656 2700 \n",
       "L 1656 0 \n",
       "L 538 0 \n",
       "L 538 3500 \n",
       "L 3884 3500 \n",
       "z\n",
       "\" transform=\"scale(0.015625)\"/>\n",
       "       <path id=\"DejaVuSans-Bold-434\" d=\"M 547 800 \n",
       "Q 903 919 1053 1314 \n",
       "Q 1203 1709 1203 2838 \n",
       "L 1203 3500 \n",
       "L 4228 3500 \n",
       "L 4228 800 \n",
       "L 4809 800 \n",
       "L 4809 -884 \n",
       "L 4009 -884 \n",
       "L 4009 0 \n",
       "L 1159 0 \n",
       "L 1159 -884 \n",
       "L 359 -884 \n",
       "L 359 800 \n",
       "L 547 800 \n",
       "z\n",
       "M 3109 2700 \n",
       "L 2322 2700 \n",
       "L 2322 2603 \n",
       "Q 2322 1456 2063 800 \n",
       "L 3109 800 \n",
       "L 3109 2700 \n",
       "z\n",
       "\" transform=\"scale(0.015625)\"/>\n",
       "       <path id=\"DejaVuSans-Bold-438\" d=\"M 3947 3500 \n",
       "L 3947 0 \n",
       "L 2828 0 \n",
       "L 2828 1863 \n",
       "L 1700 0 \n",
       "L 538 0 \n",
       "L 538 3500 \n",
       "L 1656 3500 \n",
       "L 1656 1638 \n",
       "L 2784 3500 \n",
       "L 3947 3500 \n",
       "z\n",
       "\" transform=\"scale(0.015625)\"/>\n",
       "      </defs>\n",
       "      <use xlink:href=\"#DejaVuSans-Bold-41f\"/>\n",
       "      <use xlink:href=\"#DejaVuSans-Bold-43b\" x=\"83.691406\"/>\n",
       "      <use xlink:href=\"#DejaVuSans-Bold-43e\" x=\"156.933594\"/>\n",
       "      <use xlink:href=\"#DejaVuSans-Bold-442\" x=\"225.634766\"/>\n",
       "      <use xlink:href=\"#DejaVuSans-Bold-43d\" x=\"283.59375\"/>\n",
       "      <use xlink:href=\"#DejaVuSans-Bold-43e\" x=\"352.685547\"/>\n",
       "      <use xlink:href=\"#DejaVuSans-Bold-441\" x=\"421.386719\"/>\n",
       "      <use xlink:href=\"#DejaVuSans-Bold-442\" x=\"480.664062\"/>\n",
       "      <use xlink:href=\"#DejaVuSans-Bold-44c\" x=\"538.623047\"/>\n",
       "      <use xlink:href=\"#DejaVuSans-Bold-20\" x=\"601.855469\"/>\n",
       "      <use xlink:href=\"#DejaVuSans-Bold-440\" x=\"636.669922\"/>\n",
       "      <use xlink:href=\"#DejaVuSans-Bold-430\" x=\"708.251953\"/>\n",
       "      <use xlink:href=\"#DejaVuSans-Bold-441\" x=\"775.732422\"/>\n",
       "      <use xlink:href=\"#DejaVuSans-Bold-43f\" x=\"835.009766\"/>\n",
       "      <use xlink:href=\"#DejaVuSans-Bold-440\" x=\"904.101562\"/>\n",
       "      <use xlink:href=\"#DejaVuSans-Bold-435\" x=\"975.683594\"/>\n",
       "      <use xlink:href=\"#DejaVuSans-Bold-434\" x=\"1043.505859\"/>\n",
       "      <use xlink:href=\"#DejaVuSans-Bold-435\" x=\"1124.267578\"/>\n",
       "      <use xlink:href=\"#DejaVuSans-Bold-43b\" x=\"1192.089844\"/>\n",
       "      <use xlink:href=\"#DejaVuSans-Bold-435\" x=\"1265.332031\"/>\n",
       "      <use xlink:href=\"#DejaVuSans-Bold-43d\" x=\"1333.154297\"/>\n",
       "      <use xlink:href=\"#DejaVuSans-Bold-438\" x=\"1402.246094\"/>\n",
       "      <use xlink:href=\"#DejaVuSans-Bold-44f\" x=\"1472.314453\"/>\n",
       "     </g>\n",
       "    </g>\n",
       "   </g>\n",
       "   <g id=\"patch_3\">\n",
       "    <path d=\"M 86.481932 257.193188 \n",
       "L 92.200664 257.193188 \n",
       "L 92.200664 256.986102 \n",
       "L 86.481932 256.986102 \n",
       "z\n",
       "\" clip-path=\"url(#p497d890e29)\" style=\"fill: #ffa500\"/>\n",
       "   </g>\n",
       "   <g id=\"patch_4\">\n",
       "    <path d=\"M 92.836079 257.193188 \n",
       "L 98.554811 257.193188 \n",
       "L 98.554811 256.986102 \n",
       "L 92.836079 256.986102 \n",
       "z\n",
       "\" clip-path=\"url(#p497d890e29)\" style=\"fill: #ffa500\"/>\n",
       "   </g>\n",
       "   <g id=\"patch_5\">\n",
       "    <path d=\"M 99.190226 257.193188 \n",
       "L 104.908958 257.193188 \n",
       "L 104.908958 256.295816 \n",
       "L 99.190226 256.295816 \n",
       "z\n",
       "\" clip-path=\"url(#p497d890e29)\" style=\"fill: #ffa500\"/>\n",
       "   </g>\n",
       "   <g id=\"patch_6\">\n",
       "    <path d=\"M 105.544373 257.193188 \n",
       "L 111.263105 257.193188 \n",
       "L 111.263105 255.812616 \n",
       "L 105.544373 255.812616 \n",
       "z\n",
       "\" clip-path=\"url(#p497d890e29)\" style=\"fill: #ffa500\"/>\n",
       "   </g>\n",
       "   <g id=\"patch_7\">\n",
       "    <path d=\"M 111.898519 257.193188 \n",
       "L 117.617252 257.193188 \n",
       "L 117.617252 255.191359 \n",
       "L 111.898519 255.191359 \n",
       "z\n",
       "\" clip-path=\"url(#p497d890e29)\" style=\"fill: #ffa500\"/>\n",
       "   </g>\n",
       "   <g id=\"patch_8\">\n",
       "    <path d=\"M 118.252666 257.193188 \n",
       "L 123.971399 257.193188 \n",
       "L 123.971399 254.777188 \n",
       "L 118.252666 254.777188 \n",
       "z\n",
       "\" clip-path=\"url(#p497d890e29)\" style=\"fill: #ffa500\"/>\n",
       "   </g>\n",
       "   <g id=\"patch_9\">\n",
       "    <path d=\"M 124.606813 257.193188 \n",
       "L 130.325545 257.193188 \n",
       "L 130.325545 254.501073 \n",
       "L 124.606813 254.501073 \n",
       "z\n",
       "\" clip-path=\"url(#p497d890e29)\" style=\"fill: #ffa500\"/>\n",
       "   </g>\n",
       "   <g id=\"patch_10\">\n",
       "    <path d=\"M 130.96096 257.193188 \n",
       "L 136.679692 257.193188 \n",
       "L 136.679692 255.053302 \n",
       "L 130.96096 255.053302 \n",
       "z\n",
       "\" clip-path=\"url(#p497d890e29)\" style=\"fill: #ffa500\"/>\n",
       "   </g>\n",
       "   <g id=\"patch_11\">\n",
       "    <path d=\"M 137.315107 257.193188 \n",
       "L 143.033839 257.193188 \n",
       "L 143.033839 254.224959 \n",
       "L 137.315107 254.224959 \n",
       "z\n",
       "\" clip-path=\"url(#p497d890e29)\" style=\"fill: #ffa500\"/>\n",
       "   </g>\n",
       "   <g id=\"patch_12\">\n",
       "    <path d=\"M 143.669254 257.193188 \n",
       "L 149.387986 257.193188 \n",
       "L 149.387986 250.842559 \n",
       "L 143.669254 250.842559 \n",
       "z\n",
       "\" clip-path=\"url(#p497d890e29)\" style=\"fill: #ffa500\"/>\n",
       "   </g>\n",
       "   <g id=\"patch_13\">\n",
       "    <path d=\"M 150.023401 257.193188 \n",
       "L 155.742133 257.193188 \n",
       "L 155.742133 253.603702 \n",
       "L 150.023401 253.603702 \n",
       "z\n",
       "\" clip-path=\"url(#p497d890e29)\" style=\"fill: #ffa500\"/>\n",
       "   </g>\n",
       "   <g id=\"patch_14\">\n",
       "    <path d=\"M 156.377548 257.193188 \n",
       "L 162.09628 257.193188 \n",
       "L 162.09628 251.877988 \n",
       "L 156.377548 251.877988 \n",
       "z\n",
       "\" clip-path=\"url(#p497d890e29)\" style=\"fill: #ffa500\"/>\n",
       "   </g>\n",
       "   <g id=\"patch_15\">\n",
       "    <path d=\"M 162.731695 257.193188 \n",
       "L 168.450427 257.193188 \n",
       "L 168.450427 250.911588 \n",
       "L 162.731695 250.911588 \n",
       "z\n",
       "\" clip-path=\"url(#p497d890e29)\" style=\"fill: #ffa500\"/>\n",
       "   </g>\n",
       "   <g id=\"patch_16\">\n",
       "    <path d=\"M 169.085841 257.193188 \n",
       "L 174.804574 257.193188 \n",
       "L 174.804574 250.911588 \n",
       "L 169.085841 250.911588 \n",
       "z\n",
       "\" clip-path=\"url(#p497d890e29)\" style=\"fill: #ffa500\"/>\n",
       "   </g>\n",
       "   <g id=\"patch_17\">\n",
       "    <path d=\"M 175.439988 257.193188 \n",
       "L 181.158721 257.193188 \n",
       "L 181.158721 249.32393 \n",
       "L 175.439988 249.32393 \n",
       "z\n",
       "\" clip-path=\"url(#p497d890e29)\" style=\"fill: #ffa500\"/>\n",
       "   </g>\n",
       "   <g id=\"patch_18\">\n",
       "    <path d=\"M 181.794135 257.193188 \n",
       "L 187.512867 257.193188 \n",
       "L 187.512867 250.29033 \n",
       "L 181.794135 250.29033 \n",
       "z\n",
       "\" clip-path=\"url(#p497d890e29)\" style=\"fill: #ffa500\"/>\n",
       "   </g>\n",
       "   <g id=\"patch_19\">\n",
       "    <path d=\"M 188.148282 257.193188 \n",
       "L 193.867014 257.193188 \n",
       "L 193.867014 249.116845 \n",
       "L 188.148282 249.116845 \n",
       "z\n",
       "\" clip-path=\"url(#p497d890e29)\" style=\"fill: #ffa500\"/>\n",
       "   </g>\n",
       "   <g id=\"patch_20\">\n",
       "    <path d=\"M 194.502429 257.193188 \n",
       "L 200.221161 257.193188 \n",
       "L 200.221161 250.566445 \n",
       "L 194.502429 250.566445 \n",
       "z\n",
       "\" clip-path=\"url(#p497d890e29)\" style=\"fill: #ffa500\"/>\n",
       "   </g>\n",
       "   <g id=\"patch_21\">\n",
       "    <path d=\"M 200.856576 257.193188 \n",
       "L 206.575308 257.193188 \n",
       "L 206.575308 251.73993 \n",
       "L 200.856576 251.73993 \n",
       "z\n",
       "\" clip-path=\"url(#p497d890e29)\" style=\"fill: #ffa500\"/>\n",
       "   </g>\n",
       "   <g id=\"patch_22\">\n",
       "    <path d=\"M 207.210723 257.193188 \n",
       "L 212.929455 257.193188 \n",
       "L 212.929455 253.120502 \n",
       "L 207.210723 253.120502 \n",
       "z\n",
       "\" clip-path=\"url(#p497d890e29)\" style=\"fill: #ffa500\"/>\n",
       "   </g>\n",
       "   <g id=\"patch_23\">\n",
       "    <path d=\"M 213.56487 257.193188 \n",
       "L 219.283602 257.193188 \n",
       "L 219.283602 236.27753 \n",
       "L 213.56487 236.27753 \n",
       "z\n",
       "\" clip-path=\"url(#p497d890e29)\" style=\"fill: #ffa500\"/>\n",
       "   </g>\n",
       "   <g id=\"patch_24\">\n",
       "    <path d=\"M 219.919017 257.193188 \n",
       "L 225.637749 257.193188 \n",
       "L 225.637749 231.031359 \n",
       "L 219.919017 231.031359 \n",
       "z\n",
       "\" clip-path=\"url(#p497d890e29)\" style=\"fill: #ffa500\"/>\n",
       "   </g>\n",
       "   <g id=\"patch_25\">\n",
       "    <path d=\"M 226.273164 257.193188 \n",
       "L 231.991896 257.193188 \n",
       "L 231.991896 247.667245 \n",
       "L 226.273164 247.667245 \n",
       "z\n",
       "\" clip-path=\"url(#p497d890e29)\" style=\"fill: #ffa500\"/>\n",
       "   </g>\n",
       "   <g id=\"patch_26\">\n",
       "    <path d=\"M 232.62731 257.193188 \n",
       "L 238.346043 257.193188 \n",
       "L 238.346043 248.219473 \n",
       "L 232.62731 248.219473 \n",
       "z\n",
       "\" clip-path=\"url(#p497d890e29)\" style=\"fill: #ffa500\"/>\n",
       "   </g>\n",
       "   <g id=\"patch_27\">\n",
       "    <path d=\"M 238.981457 257.193188 \n",
       "L 244.70019 257.193188 \n",
       "L 244.70019 241.937873 \n",
       "L 238.981457 241.937873 \n",
       "z\n",
       "\" clip-path=\"url(#p497d890e29)\" style=\"fill: #ffa500\"/>\n",
       "   </g>\n",
       "   <g id=\"patch_28\">\n",
       "    <path d=\"M 245.335604 257.193188 \n",
       "L 251.054336 257.193188 \n",
       "L 251.054336 238.969645 \n",
       "L 245.335604 238.969645 \n",
       "z\n",
       "\" clip-path=\"url(#p497d890e29)\" style=\"fill: #ffa500\"/>\n",
       "   </g>\n",
       "   <g id=\"patch_29\">\n",
       "    <path d=\"M 251.689751 257.193188 \n",
       "L 257.408483 257.193188 \n",
       "L 257.408483 229.443702 \n",
       "L 251.689751 229.443702 \n",
       "z\n",
       "\" clip-path=\"url(#p497d890e29)\" style=\"fill: #ffa500\"/>\n",
       "   </g>\n",
       "   <g id=\"patch_30\">\n",
       "    <path d=\"M 258.043898 257.193188 \n",
       "L 263.76263 257.193188 \n",
       "L 263.76263 204.731473 \n",
       "L 258.043898 204.731473 \n",
       "z\n",
       "\" clip-path=\"url(#p497d890e29)\" style=\"fill: #ffa500\"/>\n",
       "   </g>\n",
       "   <g id=\"patch_31\">\n",
       "    <path d=\"M 264.398045 257.193188 \n",
       "L 270.116777 257.193188 \n",
       "L 270.116777 193.548845 \n",
       "L 264.398045 193.548845 \n",
       "z\n",
       "\" clip-path=\"url(#p497d890e29)\" style=\"fill: #ffa500\"/>\n",
       "   </g>\n",
       "   <g id=\"patch_32\">\n",
       "    <path d=\"M 270.752192 257.193188 \n",
       "L 276.470924 257.193188 \n",
       "L 276.470924 166.351588 \n",
       "L 270.752192 166.351588 \n",
       "z\n",
       "\" clip-path=\"url(#p497d890e29)\" style=\"fill: #ffa500\"/>\n",
       "   </g>\n",
       "   <g id=\"patch_33\">\n",
       "    <path d=\"M 277.106339 257.193188 \n",
       "L 282.825071 257.193188 \n",
       "L 282.825071 158.206216 \n",
       "L 277.106339 158.206216 \n",
       "z\n",
       "\" clip-path=\"url(#p497d890e29)\" style=\"fill: #ffa500\"/>\n",
       "   </g>\n",
       "   <g id=\"patch_34\">\n",
       "    <path d=\"M 283.460486 257.193188 \n",
       "L 289.179218 257.193188 \n",
       "L 289.179218 130.663816 \n",
       "L 283.460486 130.663816 \n",
       "z\n",
       "\" clip-path=\"url(#p497d890e29)\" style=\"fill: #ffa500\"/>\n",
       "   </g>\n",
       "   <g id=\"patch_35\">\n",
       "    <path d=\"M 289.814633 257.193188 \n",
       "L 295.533365 257.193188 \n",
       "L 295.533365 122.863588 \n",
       "L 289.814633 122.863588 \n",
       "z\n",
       "\" clip-path=\"url(#p497d890e29)\" style=\"fill: #ffa500\"/>\n",
       "   </g>\n",
       "   <g id=\"patch_36\">\n",
       "    <path d=\"M 296.168779 257.193188 \n",
       "L 301.887512 257.193188 \n",
       "L 301.887512 120.033416 \n",
       "L 296.168779 120.033416 \n",
       "z\n",
       "\" clip-path=\"url(#p497d890e29)\" style=\"fill: #ffa500\"/>\n",
       "   </g>\n",
       "   <g id=\"patch_37\">\n",
       "    <path d=\"M 302.522926 257.193188 \n",
       "L 308.241659 257.193188 \n",
       "L 308.241659 121.621073 \n",
       "L 302.522926 121.621073 \n",
       "z\n",
       "\" clip-path=\"url(#p497d890e29)\" style=\"fill: #ffa500\"/>\n",
       "   </g>\n",
       "   <g id=\"patch_38\">\n",
       "    <path d=\"M 308.877073 257.193188 \n",
       "L 314.595805 257.193188 \n",
       "L 314.595805 87.382902 \n",
       "L 308.877073 87.382902 \n",
       "z\n",
       "\" clip-path=\"url(#p497d890e29)\" style=\"fill: #ffa500\"/>\n",
       "   </g>\n",
       "   <g id=\"patch_39\">\n",
       "    <path d=\"M 315.23122 257.193188 \n",
       "L 320.949952 257.193188 \n",
       "L 320.949952 92.007816 \n",
       "L 315.23122 92.007816 \n",
       "z\n",
       "\" clip-path=\"url(#p497d890e29)\" style=\"fill: #ffa500\"/>\n",
       "   </g>\n",
       "   <g id=\"patch_40\">\n",
       "    <path d=\"M 321.585367 257.193188 \n",
       "L 327.304099 257.193188 \n",
       "L 327.304099 84.06953 \n",
       "L 321.585367 84.06953 \n",
       "z\n",
       "\" clip-path=\"url(#p497d890e29)\" style=\"fill: #ffa500\"/>\n",
       "   </g>\n",
       "   <g id=\"patch_41\">\n",
       "    <path d=\"M 327.939514 257.193188 \n",
       "L 333.658246 257.193188 \n",
       "L 333.658246 76.959588 \n",
       "L 327.939514 76.959588 \n",
       "z\n",
       "\" clip-path=\"url(#p497d890e29)\" style=\"fill: #ffa500\"/>\n",
       "   </g>\n",
       "   <g id=\"patch_42\">\n",
       "    <path d=\"M 334.293661 257.193188 \n",
       "L 340.012393 257.193188 \n",
       "L 340.012393 95.597302 \n",
       "L 334.293661 95.597302 \n",
       "z\n",
       "\" clip-path=\"url(#p497d890e29)\" style=\"fill: #ffa500\"/>\n",
       "   </g>\n",
       "   <g id=\"patch_43\">\n",
       "    <path d=\"M 340.647808 257.193188 \n",
       "L 346.36654 257.193188 \n",
       "L 346.36654 77.718902 \n",
       "L 340.647808 77.718902 \n",
       "z\n",
       "\" clip-path=\"url(#p497d890e29)\" style=\"fill: #ffa500\"/>\n",
       "   </g>\n",
       "   <g id=\"patch_44\">\n",
       "    <path d=\"M 347.001955 257.193188 \n",
       "L 352.720687 257.193188 \n",
       "L 352.720687 101.188616 \n",
       "L 347.001955 101.188616 \n",
       "z\n",
       "\" clip-path=\"url(#p497d890e29)\" style=\"fill: #ffa500\"/>\n",
       "   </g>\n",
       "   <g id=\"patch_45\">\n",
       "    <path d=\"M 353.356101 257.193188 \n",
       "L 359.074834 257.193188 \n",
       "L 359.074834 116.236845 \n",
       "L 353.356101 116.236845 \n",
       "z\n",
       "\" clip-path=\"url(#p497d890e29)\" style=\"fill: #ffa500\"/>\n",
       "   </g>\n",
       "   <g id=\"patch_46\">\n",
       "    <path d=\"M 359.710248 257.193188 \n",
       "L 365.428981 257.193188 \n",
       "L 365.428981 142.05353 \n",
       "L 359.710248 142.05353 \n",
       "z\n",
       "\" clip-path=\"url(#p497d890e29)\" style=\"fill: #ffa500\"/>\n",
       "   </g>\n",
       "   <g id=\"patch_47\">\n",
       "    <path d=\"M 366.064395 257.193188 \n",
       "L 371.783127 257.193188 \n",
       "L 371.783127 189.89033 \n",
       "L 366.064395 189.89033 \n",
       "z\n",
       "\" clip-path=\"url(#p497d890e29)\" style=\"fill: #ffa500\"/>\n",
       "   </g>\n",
       "   <g id=\"patch_48\">\n",
       "    <path d=\"M 372.418542 257.193188 \n",
       "L 378.137274 257.193188 \n",
       "L 378.137274 215.637988 \n",
       "L 372.418542 215.637988 \n",
       "z\n",
       "\" clip-path=\"url(#p497d890e29)\" style=\"fill: #ffa500\"/>\n",
       "   </g>\n",
       "   <g id=\"patch_49\">\n",
       "    <path d=\"M 378.772689 257.193188 \n",
       "L 384.491421 257.193188 \n",
       "L 384.491421 236.967816 \n",
       "L 378.772689 236.967816 \n",
       "z\n",
       "\" clip-path=\"url(#p497d890e29)\" style=\"fill: #ffa500\"/>\n",
       "   </g>\n",
       "   <g id=\"patch_50\">\n",
       "    <path d=\"M 385.126836 257.193188 \n",
       "L 390.845568 257.193188 \n",
       "L 390.845568 240.902445 \n",
       "L 385.126836 240.902445 \n",
       "z\n",
       "\" clip-path=\"url(#p497d890e29)\" style=\"fill: #ffa500\"/>\n",
       "   </g>\n",
       "   <g id=\"patch_51\">\n",
       "    <path d=\"M 71.26375 257.193188 \n",
       "L 71.26375 39.753188 \n",
       "\" style=\"fill: none; stroke: #000000; stroke-width: 0.8; stroke-linejoin: miter; stroke-linecap: square\"/>\n",
       "   </g>\n",
       "   <g id=\"patch_52\">\n",
       "    <path d=\"M 71.26375 257.193188 \n",
       "L 406.06375 257.193188 \n",
       "\" style=\"fill: none; stroke: #000000; stroke-width: 0.8; stroke-linejoin: miter; stroke-linecap: square\"/>\n",
       "   </g>\n",
       "   <g id=\"text_19\">\n",
       "    <!-- Гистограмма распределения событий  -->\n",
       "    <g transform=\"translate(95.37375 18.07625)scale(0.14 -0.14)\">\n",
       "     <defs>\n",
       "      <path id=\"DejaVuSans-413\" d=\"M 628 0 \n",
       "L 628 4666 \n",
       "L 3531 4666 \n",
       "L 3531 4134 \n",
       "L 1259 4134 \n",
       "L 1259 0 \n",
       "L 628 0 \n",
       "z\n",
       "\" transform=\"scale(0.015625)\"/>\n",
       "      <path id=\"DejaVuSans-438\" d=\"M 3578 3500 \n",
       "L 3578 0 \n",
       "L 3006 0 \n",
       "L 3006 2809 \n",
       "L 1319 0 \n",
       "L 581 0 \n",
       "L 581 3500 \n",
       "L 1153 3500 \n",
       "L 1153 697 \n",
       "L 2838 3500 \n",
       "L 3578 3500 \n",
       "z\n",
       "\" transform=\"scale(0.015625)\"/>\n",
       "      <path id=\"DejaVuSans-441\" d=\"M 3122 3366 \n",
       "L 3122 2828 \n",
       "Q 2878 2963 2633 3030 \n",
       "Q 2388 3097 2138 3097 \n",
       "Q 1578 3097 1268 2742 \n",
       "Q 959 2388 959 1747 \n",
       "Q 959 1106 1268 751 \n",
       "Q 1578 397 2138 397 \n",
       "Q 2388 397 2633 464 \n",
       "Q 2878 531 3122 666 \n",
       "L 3122 134 \n",
       "Q 2881 22 2623 -34 \n",
       "Q 2366 -91 2075 -91 \n",
       "Q 1284 -91 818 406 \n",
       "Q 353 903 353 1747 \n",
       "Q 353 2603 823 3093 \n",
       "Q 1294 3584 2113 3584 \n",
       "Q 2378 3584 2631 3529 \n",
       "Q 2884 3475 3122 3366 \n",
       "z\n",
       "\" transform=\"scale(0.015625)\"/>\n",
       "      <path id=\"DejaVuSans-442\" d=\"M 188 3500 \n",
       "L 3541 3500 \n",
       "L 3541 3041 \n",
       "L 2147 3041 \n",
       "L 2147 0 \n",
       "L 1581 0 \n",
       "L 1581 3041 \n",
       "L 188 3041 \n",
       "L 188 3500 \n",
       "z\n",
       "\" transform=\"scale(0.015625)\"/>\n",
       "      <path id=\"DejaVuSans-43e\" d=\"M 1959 3097 \n",
       "Q 1497 3097 1228 2736 \n",
       "Q 959 2375 959 1747 \n",
       "Q 959 1119 1226 758 \n",
       "Q 1494 397 1959 397 \n",
       "Q 2419 397 2687 759 \n",
       "Q 2956 1122 2956 1747 \n",
       "Q 2956 2369 2687 2733 \n",
       "Q 2419 3097 1959 3097 \n",
       "z\n",
       "M 1959 3584 \n",
       "Q 2709 3584 3137 3096 \n",
       "Q 3566 2609 3566 1747 \n",
       "Q 3566 888 3137 398 \n",
       "Q 2709 -91 1959 -91 \n",
       "Q 1206 -91 779 398 \n",
       "Q 353 888 353 1747 \n",
       "Q 353 2609 779 3096 \n",
       "Q 1206 3584 1959 3584 \n",
       "z\n",
       "\" transform=\"scale(0.015625)\"/>\n",
       "      <path id=\"DejaVuSans-433\" d=\"M 581 0 \n",
       "L 581 3500 \n",
       "L 3050 3500 \n",
       "L 3050 3041 \n",
       "L 1159 3041 \n",
       "L 1159 0 \n",
       "L 581 0 \n",
       "z\n",
       "\" transform=\"scale(0.015625)\"/>\n",
       "      <path id=\"DejaVuSans-440\" d=\"M 1159 525 \n",
       "L 1159 -1331 \n",
       "L 581 -1331 \n",
       "L 581 3500 \n",
       "L 1159 3500 \n",
       "L 1159 2969 \n",
       "Q 1341 3281 1617 3432 \n",
       "Q 1894 3584 2278 3584 \n",
       "Q 2916 3584 3314 3078 \n",
       "Q 3713 2572 3713 1747 \n",
       "Q 3713 922 3314 415 \n",
       "Q 2916 -91 2278 -91 \n",
       "Q 1894 -91 1617 61 \n",
       "Q 1341 213 1159 525 \n",
       "z\n",
       "M 3116 1747 \n",
       "Q 3116 2381 2855 2742 \n",
       "Q 2594 3103 2138 3103 \n",
       "Q 1681 3103 1420 2742 \n",
       "Q 1159 2381 1159 1747 \n",
       "Q 1159 1113 1420 752 \n",
       "Q 1681 391 2138 391 \n",
       "Q 2594 391 2855 752 \n",
       "Q 3116 1113 3116 1747 \n",
       "z\n",
       "\" transform=\"scale(0.015625)\"/>\n",
       "      <path id=\"DejaVuSans-430\" d=\"M 2194 1759 \n",
       "Q 1497 1759 1228 1600 \n",
       "Q 959 1441 959 1056 \n",
       "Q 959 750 1161 570 \n",
       "Q 1363 391 1709 391 \n",
       "Q 2188 391 2477 730 \n",
       "Q 2766 1069 2766 1631 \n",
       "L 2766 1759 \n",
       "L 2194 1759 \n",
       "z\n",
       "M 3341 1997 \n",
       "L 3341 0 \n",
       "L 2766 0 \n",
       "L 2766 531 \n",
       "Q 2569 213 2275 61 \n",
       "Q 1981 -91 1556 -91 \n",
       "Q 1019 -91 701 211 \n",
       "Q 384 513 384 1019 \n",
       "Q 384 1609 779 1909 \n",
       "Q 1175 2209 1959 2209 \n",
       "L 2766 2209 \n",
       "L 2766 2266 \n",
       "Q 2766 2663 2505 2880 \n",
       "Q 2244 3097 1772 3097 \n",
       "Q 1472 3097 1187 3025 \n",
       "Q 903 2953 641 2809 \n",
       "L 641 3341 \n",
       "Q 956 3463 1253 3523 \n",
       "Q 1550 3584 1831 3584 \n",
       "Q 2591 3584 2966 3190 \n",
       "Q 3341 2797 3341 1997 \n",
       "z\n",
       "\" transform=\"scale(0.015625)\"/>\n",
       "      <path id=\"DejaVuSans-43c\" d=\"M 581 3500 \n",
       "L 1422 3500 \n",
       "L 2416 1156 \n",
       "L 3413 3500 \n",
       "L 4247 3500 \n",
       "L 4247 0 \n",
       "L 3669 0 \n",
       "L 3669 2950 \n",
       "L 2703 672 \n",
       "L 2128 672 \n",
       "L 1159 2950 \n",
       "L 1159 0 \n",
       "L 581 0 \n",
       "L 581 3500 \n",
       "z\n",
       "\" transform=\"scale(0.015625)\"/>\n",
       "      <path id=\"DejaVuSans-43f\" d=\"M 3603 3500 \n",
       "L 3603 0 \n",
       "L 3025 0 \n",
       "L 3025 3041 \n",
       "L 1159 3041 \n",
       "L 1159 0 \n",
       "L 581 0 \n",
       "L 581 3500 \n",
       "L 3603 3500 \n",
       "z\n",
       "\" transform=\"scale(0.015625)\"/>\n",
       "      <path id=\"DejaVuSans-435\" d=\"M 3597 1894 \n",
       "L 3597 1613 \n",
       "L 953 1613 \n",
       "Q 991 1019 1311 708 \n",
       "Q 1631 397 2203 397 \n",
       "Q 2534 397 2845 478 \n",
       "Q 3156 559 3463 722 \n",
       "L 3463 178 \n",
       "Q 3153 47 2828 -22 \n",
       "Q 2503 -91 2169 -91 \n",
       "Q 1331 -91 842 396 \n",
       "Q 353 884 353 1716 \n",
       "Q 353 2575 817 3079 \n",
       "Q 1281 3584 2069 3584 \n",
       "Q 2775 3584 3186 3129 \n",
       "Q 3597 2675 3597 1894 \n",
       "z\n",
       "M 3022 2063 \n",
       "Q 3016 2534 2758 2815 \n",
       "Q 2500 3097 2075 3097 \n",
       "Q 1594 3097 1305 2825 \n",
       "Q 1016 2553 972 2059 \n",
       "L 3022 2063 \n",
       "z\n",
       "\" transform=\"scale(0.015625)\"/>\n",
       "      <path id=\"DejaVuSans-434\" d=\"M 1384 459 \n",
       "L 3053 459 \n",
       "L 3053 3041 \n",
       "L 1844 3041 \n",
       "L 1844 2603 \n",
       "Q 1844 1316 1475 628 \n",
       "L 1384 459 \n",
       "z\n",
       "M 550 459 \n",
       "Q 834 584 959 850 \n",
       "Q 1266 1509 1266 2838 \n",
       "L 1266 3500 \n",
       "L 3631 3500 \n",
       "L 3631 459 \n",
       "L 4091 459 \n",
       "L 4091 -884 \n",
       "L 3631 -884 \n",
       "L 3631 0 \n",
       "L 794 0 \n",
       "L 794 -884 \n",
       "L 334 -884 \n",
       "L 334 459 \n",
       "L 550 459 \n",
       "z\n",
       "\" transform=\"scale(0.015625)\"/>\n",
       "      <path id=\"DejaVuSans-43b\" d=\"M 238 0 \n",
       "L 238 478 \n",
       "Q 806 566 981 959 \n",
       "Q 1194 1513 1194 2928 \n",
       "L 1194 3500 \n",
       "L 3559 3500 \n",
       "L 3559 0 \n",
       "L 2984 0 \n",
       "L 2984 3041 \n",
       "L 1769 3041 \n",
       "L 1769 2694 \n",
       "Q 1769 1344 1494 738 \n",
       "Q 1200 91 238 0 \n",
       "z\n",
       "\" transform=\"scale(0.015625)\"/>\n",
       "      <path id=\"DejaVuSans-43d\" d=\"M 581 3500 \n",
       "L 1159 3500 \n",
       "L 1159 2072 \n",
       "L 3025 2072 \n",
       "L 3025 3500 \n",
       "L 3603 3500 \n",
       "L 3603 0 \n",
       "L 3025 0 \n",
       "L 3025 1613 \n",
       "L 1159 1613 \n",
       "L 1159 0 \n",
       "L 581 0 \n",
       "L 581 3500 \n",
       "z\n",
       "\" transform=\"scale(0.015625)\"/>\n",
       "      <path id=\"DejaVuSans-44f\" d=\"M 1181 2491 \n",
       "Q 1181 2231 1381 2084 \n",
       "Q 1581 1938 1953 1938 \n",
       "L 2728 1938 \n",
       "L 2728 3041 \n",
       "L 1953 3041 \n",
       "Q 1581 3041 1381 2897 \n",
       "Q 1181 2753 1181 2491 \n",
       "z\n",
       "M 363 0 \n",
       "L 1431 1534 \n",
       "Q 1069 1616 828 1830 \n",
       "Q 588 2044 588 2491 \n",
       "Q 588 2997 923 3248 \n",
       "Q 1259 3500 1938 3500 \n",
       "L 3306 3500 \n",
       "L 3306 0 \n",
       "L 2728 0 \n",
       "L 2728 1478 \n",
       "L 2013 1478 \n",
       "L 981 0 \n",
       "L 363 0 \n",
       "z\n",
       "\" transform=\"scale(0.015625)\"/>\n",
       "      <path id=\"DejaVuSans-431\" d=\"M 1991 3584 \n",
       "Q 2741 3584 3169 3096 \n",
       "Q 3597 2609 3597 1747 \n",
       "Q 3597 888 3169 398 \n",
       "Q 2741 -91 1991 -91 \n",
       "Q 1238 -91 822 384 \n",
       "Q 406 859 384 1747 \n",
       "L 366 2463 \n",
       "Q 350 2834 350 2963 \n",
       "Q 350 3463 531 3831 \n",
       "Q 816 4409 1308 4659 \n",
       "Q 1800 4909 2625 4916 \n",
       "Q 3006 4919 3175 4972 \n",
       "L 3334 4516 \n",
       "Q 3181 4453 3041 4450 \n",
       "L 2259 4397 \n",
       "Q 1866 4369 1628 4231 \n",
       "Q 1006 3866 947 3388 \n",
       "L 925 3213 \n",
       "Q 1331 3584 1991 3584 \n",
       "z\n",
       "M 1991 3097 \n",
       "Q 1528 3097 1259 2736 \n",
       "Q 991 2375 991 1747 \n",
       "Q 991 1119 1258 758 \n",
       "Q 1525 397 1991 397 \n",
       "Q 2450 397 2719 759 \n",
       "Q 2988 1122 2988 1747 \n",
       "Q 2988 2369 2719 2733 \n",
       "Q 2450 3097 1991 3097 \n",
       "z\n",
       "\" transform=\"scale(0.015625)\"/>\n",
       "      <path id=\"DejaVuSans-44b\" d=\"M 3909 3500 \n",
       "L 4484 3500 \n",
       "L 4484 0 \n",
       "L 3909 0 \n",
       "L 3909 3500 \n",
       "z\n",
       "M 4197 3584 \n",
       "L 4197 3584 \n",
       "z\n",
       "M 2781 1038 \n",
       "Q 2781 1319 2576 1466 \n",
       "Q 2372 1613 1978 1613 \n",
       "L 1159 1613 \n",
       "L 1159 459 \n",
       "L 1978 459 \n",
       "Q 2372 459 2576 607 \n",
       "Q 2781 756 2781 1038 \n",
       "z\n",
       "M 581 3500 \n",
       "L 1159 3500 \n",
       "L 1159 2072 \n",
       "L 2003 2072 \n",
       "Q 2672 2072 3033 1817 \n",
       "Q 3394 1563 3394 1038 \n",
       "Q 3394 513 3033 256 \n",
       "Q 2672 0 2003 0 \n",
       "L 581 0 \n",
       "L 581 3500 \n",
       "z\n",
       "\" transform=\"scale(0.015625)\"/>\n",
       "      <path id=\"DejaVuSans-439\" d=\"M 3578 3500 \n",
       "L 3578 0 \n",
       "L 3006 0 \n",
       "L 3006 2809 \n",
       "L 1319 0 \n",
       "L 581 0 \n",
       "L 581 3500 \n",
       "L 1153 3500 \n",
       "L 1153 697 \n",
       "L 2838 3500 \n",
       "L 3578 3500 \n",
       "z\n",
       "M 1103 4862 \n",
       "L 1472 4862 \n",
       "Q 1506 4628 1657 4510 \n",
       "Q 1809 4393 2081 4393 \n",
       "Q 2350 4393 2500 4509 \n",
       "Q 2650 4625 2691 4862 \n",
       "L 3059 4862 \n",
       "Q 3028 4415 2781 4190 \n",
       "Q 2534 3965 2081 3965 \n",
       "Q 1628 3965 1381 4190 \n",
       "Q 1134 4415 1103 4862 \n",
       "z\n",
       "\" transform=\"scale(0.015625)\"/>\n",
       "     </defs>\n",
       "     <use xlink:href=\"#DejaVuSans-413\"/>\n",
       "     <use xlink:href=\"#DejaVuSans-438\" x=\"60.986328\"/>\n",
       "     <use xlink:href=\"#DejaVuSans-441\" x=\"125.976562\"/>\n",
       "     <use xlink:href=\"#DejaVuSans-442\" x=\"180.957031\"/>\n",
       "     <use xlink:href=\"#DejaVuSans-43e\" x=\"239.208984\"/>\n",
       "     <use xlink:href=\"#DejaVuSans-433\" x=\"300.390625\"/>\n",
       "     <use xlink:href=\"#DejaVuSans-440\" x=\"352.929688\"/>\n",
       "     <use xlink:href=\"#DejaVuSans-430\" x=\"416.40625\"/>\n",
       "     <use xlink:href=\"#DejaVuSans-43c\" x=\"477.685547\"/>\n",
       "     <use xlink:href=\"#DejaVuSans-43c\" x=\"553.125\"/>\n",
       "     <use xlink:href=\"#DejaVuSans-430\" x=\"628.564453\"/>\n",
       "     <use xlink:href=\"#DejaVuSans-20\" x=\"689.84375\"/>\n",
       "     <use xlink:href=\"#DejaVuSans-440\" x=\"721.630859\"/>\n",
       "     <use xlink:href=\"#DejaVuSans-430\" x=\"785.107422\"/>\n",
       "     <use xlink:href=\"#DejaVuSans-441\" x=\"846.386719\"/>\n",
       "     <use xlink:href=\"#DejaVuSans-43f\" x=\"901.367188\"/>\n",
       "     <use xlink:href=\"#DejaVuSans-440\" x=\"966.748047\"/>\n",
       "     <use xlink:href=\"#DejaVuSans-435\" x=\"1030.224609\"/>\n",
       "     <use xlink:href=\"#DejaVuSans-434\" x=\"1091.748047\"/>\n",
       "     <use xlink:href=\"#DejaVuSans-435\" x=\"1160.888672\"/>\n",
       "     <use xlink:href=\"#DejaVuSans-43b\" x=\"1222.412109\"/>\n",
       "     <use xlink:href=\"#DejaVuSans-435\" x=\"1286.328125\"/>\n",
       "     <use xlink:href=\"#DejaVuSans-43d\" x=\"1347.851562\"/>\n",
       "     <use xlink:href=\"#DejaVuSans-438\" x=\"1413.232422\"/>\n",
       "     <use xlink:href=\"#DejaVuSans-44f\" x=\"1478.222656\"/>\n",
       "     <use xlink:href=\"#DejaVuSans-20\" x=\"1538.378906\"/>\n",
       "     <use xlink:href=\"#DejaVuSans-441\" x=\"1570.166016\"/>\n",
       "     <use xlink:href=\"#DejaVuSans-43e\" x=\"1625.146484\"/>\n",
       "     <use xlink:href=\"#DejaVuSans-431\" x=\"1686.328125\"/>\n",
       "     <use xlink:href=\"#DejaVuSans-44b\" x=\"1747.998047\"/>\n",
       "     <use xlink:href=\"#DejaVuSans-442\" x=\"1826.953125\"/>\n",
       "     <use xlink:href=\"#DejaVuSans-438\" x=\"1885.205078\"/>\n",
       "     <use xlink:href=\"#DejaVuSans-439\" x=\"1950.195312\"/>\n",
       "     <use xlink:href=\"#DejaVuSans-20\" x=\"2015.185547\"/>\n",
       "    </g>\n",
       "    <!--  между 31.07.2019 и 01.08.2019, по часам -->\n",
       "    <g transform=\"translate(82.802187 33.753188)scale(0.14 -0.14)\">\n",
       "     <defs>\n",
       "      <path id=\"DejaVuSans-436\" d=\"M 2597 3500 \n",
       "L 3169 3500 \n",
       "L 3169 1856 \n",
       "L 4697 3500 \n",
       "L 5366 3500 \n",
       "L 4109 2153 \n",
       "L 5547 0 \n",
       "L 4931 0 \n",
       "L 3753 1769 \n",
       "L 3169 1141 \n",
       "L 3169 0 \n",
       "L 2597 0 \n",
       "L 2597 1141 \n",
       "L 2013 1769 \n",
       "L 834 0 \n",
       "L 219 0 \n",
       "L 1656 2153 \n",
       "L 400 3500 \n",
       "L 1069 3500 \n",
       "L 2597 1856 \n",
       "L 2597 3500 \n",
       "z\n",
       "\" transform=\"scale(0.015625)\"/>\n",
       "      <path id=\"DejaVuSans-443\" d=\"M 2059 -325 \n",
       "Q 1816 -950 1584 -1140 \n",
       "Q 1353 -1331 966 -1331 \n",
       "L 506 -1331 \n",
       "L 506 -850 \n",
       "L 844 -850 \n",
       "Q 1081 -850 1212 -737 \n",
       "Q 1344 -625 1503 -206 \n",
       "L 1606 56 \n",
       "L 191 3500 \n",
       "L 800 3500 \n",
       "L 1894 763 \n",
       "L 2988 3500 \n",
       "L 3597 3500 \n",
       "L 2059 -325 \n",
       "z\n",
       "\" transform=\"scale(0.015625)\"/>\n",
       "      <path id=\"DejaVuSans-2e\" d=\"M 684 794 \n",
       "L 1344 794 \n",
       "L 1344 0 \n",
       "L 684 0 \n",
       "L 684 794 \n",
       "z\n",
       "\" transform=\"scale(0.015625)\"/>\n",
       "      <path id=\"DejaVuSans-39\" d=\"M 703 97 \n",
       "L 703 672 \n",
       "Q 941 559 1184 500 \n",
       "Q 1428 441 1663 441 \n",
       "Q 2288 441 2617 861 \n",
       "Q 2947 1281 2994 2138 \n",
       "Q 2813 1869 2534 1725 \n",
       "Q 2256 1581 1919 1581 \n",
       "Q 1219 1581 811 2004 \n",
       "Q 403 2428 403 3163 \n",
       "Q 403 3881 828 4315 \n",
       "Q 1253 4750 1959 4750 \n",
       "Q 2769 4750 3195 4129 \n",
       "Q 3622 3509 3622 2328 \n",
       "Q 3622 1225 3098 567 \n",
       "Q 2575 -91 1691 -91 \n",
       "Q 1453 -91 1209 -44 \n",
       "Q 966 3 703 97 \n",
       "z\n",
       "M 1959 2075 \n",
       "Q 2384 2075 2632 2365 \n",
       "Q 2881 2656 2881 3163 \n",
       "Q 2881 3666 2632 3958 \n",
       "Q 2384 4250 1959 4250 \n",
       "Q 1534 4250 1286 3958 \n",
       "Q 1038 3666 1038 3163 \n",
       "Q 1038 2656 1286 2365 \n",
       "Q 1534 2075 1959 2075 \n",
       "z\n",
       "\" transform=\"scale(0.015625)\"/>\n",
       "      <path id=\"DejaVuSans-2c\" d=\"M 750 794 \n",
       "L 1409 794 \n",
       "L 1409 256 \n",
       "L 897 -744 \n",
       "L 494 -744 \n",
       "L 750 256 \n",
       "L 750 794 \n",
       "z\n",
       "\" transform=\"scale(0.015625)\"/>\n",
       "      <path id=\"DejaVuSans-447\" d=\"M 2625 0 \n",
       "L 2625 1472 \n",
       "L 1553 1472 \n",
       "Q 1075 1472 756 1769 \n",
       "Q 469 2038 469 2613 \n",
       "L 469 3500 \n",
       "L 1044 3500 \n",
       "L 1044 2666 \n",
       "Q 1044 2300 1206 2116 \n",
       "Q 1372 1931 1697 1931 \n",
       "L 2625 1931 \n",
       "L 2625 3500 \n",
       "L 3200 3500 \n",
       "L 3200 0 \n",
       "L 2625 0 \n",
       "z\n",
       "\" transform=\"scale(0.015625)\"/>\n",
       "     </defs>\n",
       "     <use xlink:href=\"#DejaVuSans-20\"/>\n",
       "     <use xlink:href=\"#DejaVuSans-43c\" x=\"31.787109\"/>\n",
       "     <use xlink:href=\"#DejaVuSans-435\" x=\"107.226562\"/>\n",
       "     <use xlink:href=\"#DejaVuSans-436\" x=\"168.75\"/>\n",
       "     <use xlink:href=\"#DejaVuSans-434\" x=\"258.837891\"/>\n",
       "     <use xlink:href=\"#DejaVuSans-443\" x=\"327.978516\"/>\n",
       "     <use xlink:href=\"#DejaVuSans-20\" x=\"387.158203\"/>\n",
       "     <use xlink:href=\"#DejaVuSans-33\" x=\"418.945312\"/>\n",
       "     <use xlink:href=\"#DejaVuSans-31\" x=\"482.568359\"/>\n",
       "     <use xlink:href=\"#DejaVuSans-2e\" x=\"546.191406\"/>\n",
       "     <use xlink:href=\"#DejaVuSans-30\" x=\"577.978516\"/>\n",
       "     <use xlink:href=\"#DejaVuSans-37\" x=\"641.601562\"/>\n",
       "     <use xlink:href=\"#DejaVuSans-2e\" x=\"705.224609\"/>\n",
       "     <use xlink:href=\"#DejaVuSans-32\" x=\"737.011719\"/>\n",
       "     <use xlink:href=\"#DejaVuSans-30\" x=\"800.634766\"/>\n",
       "     <use xlink:href=\"#DejaVuSans-31\" x=\"864.257812\"/>\n",
       "     <use xlink:href=\"#DejaVuSans-39\" x=\"927.880859\"/>\n",
       "     <use xlink:href=\"#DejaVuSans-20\" x=\"991.503906\"/>\n",
       "     <use xlink:href=\"#DejaVuSans-438\" x=\"1023.291016\"/>\n",
       "     <use xlink:href=\"#DejaVuSans-20\" x=\"1088.28125\"/>\n",
       "     <use xlink:href=\"#DejaVuSans-30\" x=\"1120.068359\"/>\n",
       "     <use xlink:href=\"#DejaVuSans-31\" x=\"1183.691406\"/>\n",
       "     <use xlink:href=\"#DejaVuSans-2e\" x=\"1247.314453\"/>\n",
       "     <use xlink:href=\"#DejaVuSans-30\" x=\"1279.101562\"/>\n",
       "     <use xlink:href=\"#DejaVuSans-38\" x=\"1342.724609\"/>\n",
       "     <use xlink:href=\"#DejaVuSans-2e\" x=\"1406.347656\"/>\n",
       "     <use xlink:href=\"#DejaVuSans-32\" x=\"1438.134766\"/>\n",
       "     <use xlink:href=\"#DejaVuSans-30\" x=\"1501.757812\"/>\n",
       "     <use xlink:href=\"#DejaVuSans-31\" x=\"1565.380859\"/>\n",
       "     <use xlink:href=\"#DejaVuSans-39\" x=\"1629.003906\"/>\n",
       "     <use xlink:href=\"#DejaVuSans-2c\" x=\"1692.626953\"/>\n",
       "     <use xlink:href=\"#DejaVuSans-20\" x=\"1724.414062\"/>\n",
       "     <use xlink:href=\"#DejaVuSans-43f\" x=\"1756.201172\"/>\n",
       "     <use xlink:href=\"#DejaVuSans-43e\" x=\"1821.582031\"/>\n",
       "     <use xlink:href=\"#DejaVuSans-20\" x=\"1882.763672\"/>\n",
       "     <use xlink:href=\"#DejaVuSans-447\" x=\"1914.550781\"/>\n",
       "     <use xlink:href=\"#DejaVuSans-430\" x=\"1973.632812\"/>\n",
       "     <use xlink:href=\"#DejaVuSans-441\" x=\"2034.912109\"/>\n",
       "     <use xlink:href=\"#DejaVuSans-430\" x=\"2089.892578\"/>\n",
       "     <use xlink:href=\"#DejaVuSans-43c\" x=\"2151.171875\"/>\n",
       "    </g>\n",
       "   </g>\n",
       "  </g>\n",
       " </g>\n",
       " <defs>\n",
       "  <clipPath id=\"p497d890e29\">\n",
       "   <rect x=\"71.26375\" y=\"39.753188\" width=\"334.8\" height=\"217.44\"/>\n",
       "  </clipPath>\n",
       " </defs>\n",
       "</svg>\n"
      ],
      "text/plain": [
       "<Figure size 432x288 with 1 Axes>"
      ]
     },
     "metadata": {
      "needs_background": "light"
     },
     "output_type": "display_data"
    }
   ],
   "source": [
    "#построим гистограмму\n",
    "ax = data_slice_by_date.hist('event_time', bins=48, grid=False, figsize=(6, 4), color='orange', zorder=2, rwidth=0.9)\n",
    "\n",
    "ax = ax[0]\n",
    "for x in ax:\n",
    "\n",
    "    # Despine\n",
    "    x.spines['right'].set_visible(False)\n",
    "    x.spines['top'].set_visible(False)\n",
    "    x.spines['left'].set_visible(False)\n",
    "\n",
    "    # Switch off ticks\n",
    "    x.tick_params(axis=\"both\", which=\"both\", bottom=\"off\", top=\"off\", labelbottom=\"on\", left=\"off\", right=\"off\", labelleft=\"on\")\n",
    "\n",
    "    # Draw horizontal axis lines\n",
    "    vals = x.get_yticks()\n",
    "    for tick in vals:\n",
    "        x.axhline(y=tick, linestyle='dashed', alpha=0.4, color='#eeeeee', zorder=1)\n",
    "\n",
    "    # Remove title\n",
    "    x.set_title(\"\")\n",
    "\n",
    "    # Set x-axis label\n",
    "    x.set_xlabel(\"Время\", labelpad=20, weight='bold', size=12)\n",
    "\n",
    "    # Set y-axis label\n",
    "    x.set_ylabel(\"Плотность распределения\", labelpad=20, weight='bold', size=12)\n",
    "    plt.title('Гистограмма распределения событий \\n между 31.07.2019 и 01.08.2019, по часам', fontsize=14)\n",
    "    plt.xticks(rotation='vertical')\n",
    "sns.despine()\n",
    "plt.show()    "
   ]
  },
  {
   "cell_type": "markdown",
   "metadata": {},
   "source": [
    "Рассмотрев детально данные за период с 31.07.2019 по 01.08.2019, мы видим, что **тест начался в 9 вечера 31.07.2019.** Мы удалим эти события, так как они составляют **чуть более 1%** от всего датафрейма. Это не повлияет на общую картину."
   ]
  },
  {
   "cell_type": "code",
   "execution_count": 22,
   "metadata": {},
   "outputs": [
    {
     "name": "stdout",
     "output_type": "stream",
     "text": [
      "Количество событий в общем датафрейме (до удаления): 243713\n",
      "Количество событий, которые остались: 240887\n",
      "Доля событий, которые остались, относительно всего датафрейма, %: 98.84\n",
      "Количество уникальных пользователей в общем датафрейме (до удаления): 7551\n",
      "Количество уникальных пользователей, которые остались после удаления: 7534\n",
      "Доля уникальных пользователей, которые остались, относительно всего датафрейма, %: 99.77\n"
     ]
    }
   ],
   "source": [
    "#Удалим \"доезжающие\" события\n",
    "logs_result = logs[logs['event_time'] >= '2019-08-01']\n",
    "\n",
    "print('Количество событий в общем датафрейме (до удаления):', logs['device_id'].count())\n",
    "print('Количество событий, которые остались:', logs_result['event_name'].count())\n",
    "print('Доля событий, которые остались, относительно всего датафрейма, %:', round((logs_result['event_name'].count() / logs['device_id'].count() * 100), 2))\n",
    "print('Количество уникальных пользователей в общем датафрейме (до удаления):', logs['device_id'].nunique())\n",
    "print('Количество уникальных пользователей, которые остались после удаления:', logs_result['device_id'].nunique())\n",
    "print('Доля уникальных пользователей, которые остались, относительно всего датафрейма, %:', round((logs_result['device_id'].nunique() / logs['device_id'].nunique() * 100), 2))"
   ]
  },
  {
   "cell_type": "markdown",
   "metadata": {},
   "source": [
    "В результате удаления, из датафрейма исчезли **1,2% событий и менее 0,3% пользователей**. Последние, видимо, вернулись в приложение в более поздний период. В целом, очистка датафрейма не повлияла на общую картину данных. Единственно, необходимо проверить все ли экспериментальные группы остались после очистки датафрейма."
   ]
  },
  {
   "cell_type": "code",
   "execution_count": 23,
   "metadata": {},
   "outputs": [
    {
     "name": "stdout",
     "output_type": "stream",
     "text": [
      "[246 247 248]\n"
     ]
    }
   ],
   "source": [
    "print(logs_result['exp_id'].unique())"
   ]
  },
  {
   "cell_type": "markdown",
   "metadata": {},
   "source": [
    "Да, все. Отлично"
   ]
  },
  {
   "cell_type": "markdown",
   "metadata": {},
   "source": [
    "## Часть. Анализ воронки событий"
   ]
  },
  {
   "cell_type": "code",
   "execution_count": 24,
   "metadata": {
    "scrolled": false
   },
   "outputs": [
    {
     "data": {
      "text/html": [
       "<div>\n",
       "<style scoped>\n",
       "    .dataframe tbody tr th:only-of-type {\n",
       "        vertical-align: middle;\n",
       "    }\n",
       "\n",
       "    .dataframe tbody tr th {\n",
       "        vertical-align: top;\n",
       "    }\n",
       "\n",
       "    .dataframe thead th {\n",
       "        text-align: right;\n",
       "    }\n",
       "</style>\n",
       "<table border=\"1\" class=\"dataframe\">\n",
       "  <thead>\n",
       "    <tr style=\"text-align: right;\">\n",
       "      <th></th>\n",
       "      <th>event_name</th>\n",
       "      <th>number</th>\n",
       "    </tr>\n",
       "  </thead>\n",
       "  <tbody>\n",
       "    <tr>\n",
       "      <th>0</th>\n",
       "      <td>MainScreenAppear</td>\n",
       "      <td>117328</td>\n",
       "    </tr>\n",
       "    <tr>\n",
       "      <th>1</th>\n",
       "      <td>OffersScreenAppear</td>\n",
       "      <td>46333</td>\n",
       "    </tr>\n",
       "    <tr>\n",
       "      <th>2</th>\n",
       "      <td>CartScreenAppear</td>\n",
       "      <td>42303</td>\n",
       "    </tr>\n",
       "    <tr>\n",
       "      <th>3</th>\n",
       "      <td>PaymentScreenSuccessful</td>\n",
       "      <td>33918</td>\n",
       "    </tr>\n",
       "    <tr>\n",
       "      <th>4</th>\n",
       "      <td>Tutorial</td>\n",
       "      <td>1005</td>\n",
       "    </tr>\n",
       "  </tbody>\n",
       "</table>\n",
       "</div>"
      ],
      "text/plain": [
       "                event_name  number\n",
       "0         MainScreenAppear  117328\n",
       "1       OffersScreenAppear   46333\n",
       "2         CartScreenAppear   42303\n",
       "3  PaymentScreenSuccessful   33918\n",
       "4                 Tutorial    1005"
      ]
     },
     "metadata": {},
     "output_type": "display_data"
    }
   ],
   "source": [
    "#Посмотрим, как часто происходили те или иные события в приложении\n",
    "events_frequency = logs_result.groupby('event_name')['device_id'].count().sort_values(ascending=False).reset_index()\n",
    "events_frequency.columns = ['event_name', 'number']\n",
    "\n",
    "display(events_frequency)"
   ]
  },
  {
   "cell_type": "code",
   "execution_count": 71,
   "metadata": {
    "scrolled": false
   },
   "outputs": [
    {
     "data": {
      "application/vnd.plotly.v1+json": {
       "config": {
        "plotlyServerURL": "https://plot.ly"
       },
       "data": [
        {
         "name": "test",
         "textinfo": "value+percent previous+percent initial",
         "textposition": "inside",
         "type": "funnel",
         "x": [
          117328,
          46333,
          42303,
          33918,
          1005
         ],
         "y": [
          "MainScreenAppear",
          "OffersScreenAppear",
          "CartScreenAppear",
          "PaymentScreenSuccessful",
          "Tutorial"
         ]
        }
       ],
       "layout": {
        "template": {
         "data": {
          "bar": [
           {
            "error_x": {
             "color": "#2a3f5f"
            },
            "error_y": {
             "color": "#2a3f5f"
            },
            "marker": {
             "line": {
              "color": "#E5ECF6",
              "width": 0.5
             },
             "pattern": {
              "fillmode": "overlay",
              "size": 10,
              "solidity": 0.2
             }
            },
            "type": "bar"
           }
          ],
          "barpolar": [
           {
            "marker": {
             "line": {
              "color": "#E5ECF6",
              "width": 0.5
             },
             "pattern": {
              "fillmode": "overlay",
              "size": 10,
              "solidity": 0.2
             }
            },
            "type": "barpolar"
           }
          ],
          "carpet": [
           {
            "aaxis": {
             "endlinecolor": "#2a3f5f",
             "gridcolor": "white",
             "linecolor": "white",
             "minorgridcolor": "white",
             "startlinecolor": "#2a3f5f"
            },
            "baxis": {
             "endlinecolor": "#2a3f5f",
             "gridcolor": "white",
             "linecolor": "white",
             "minorgridcolor": "white",
             "startlinecolor": "#2a3f5f"
            },
            "type": "carpet"
           }
          ],
          "choropleth": [
           {
            "colorbar": {
             "outlinewidth": 0,
             "ticks": ""
            },
            "type": "choropleth"
           }
          ],
          "contour": [
           {
            "colorbar": {
             "outlinewidth": 0,
             "ticks": ""
            },
            "colorscale": [
             [
              0,
              "#0d0887"
             ],
             [
              0.1111111111111111,
              "#46039f"
             ],
             [
              0.2222222222222222,
              "#7201a8"
             ],
             [
              0.3333333333333333,
              "#9c179e"
             ],
             [
              0.4444444444444444,
              "#bd3786"
             ],
             [
              0.5555555555555556,
              "#d8576b"
             ],
             [
              0.6666666666666666,
              "#ed7953"
             ],
             [
              0.7777777777777778,
              "#fb9f3a"
             ],
             [
              0.8888888888888888,
              "#fdca26"
             ],
             [
              1,
              "#f0f921"
             ]
            ],
            "type": "contour"
           }
          ],
          "contourcarpet": [
           {
            "colorbar": {
             "outlinewidth": 0,
             "ticks": ""
            },
            "type": "contourcarpet"
           }
          ],
          "heatmap": [
           {
            "colorbar": {
             "outlinewidth": 0,
             "ticks": ""
            },
            "colorscale": [
             [
              0,
              "#0d0887"
             ],
             [
              0.1111111111111111,
              "#46039f"
             ],
             [
              0.2222222222222222,
              "#7201a8"
             ],
             [
              0.3333333333333333,
              "#9c179e"
             ],
             [
              0.4444444444444444,
              "#bd3786"
             ],
             [
              0.5555555555555556,
              "#d8576b"
             ],
             [
              0.6666666666666666,
              "#ed7953"
             ],
             [
              0.7777777777777778,
              "#fb9f3a"
             ],
             [
              0.8888888888888888,
              "#fdca26"
             ],
             [
              1,
              "#f0f921"
             ]
            ],
            "type": "heatmap"
           }
          ],
          "heatmapgl": [
           {
            "colorbar": {
             "outlinewidth": 0,
             "ticks": ""
            },
            "colorscale": [
             [
              0,
              "#0d0887"
             ],
             [
              0.1111111111111111,
              "#46039f"
             ],
             [
              0.2222222222222222,
              "#7201a8"
             ],
             [
              0.3333333333333333,
              "#9c179e"
             ],
             [
              0.4444444444444444,
              "#bd3786"
             ],
             [
              0.5555555555555556,
              "#d8576b"
             ],
             [
              0.6666666666666666,
              "#ed7953"
             ],
             [
              0.7777777777777778,
              "#fb9f3a"
             ],
             [
              0.8888888888888888,
              "#fdca26"
             ],
             [
              1,
              "#f0f921"
             ]
            ],
            "type": "heatmapgl"
           }
          ],
          "histogram": [
           {
            "marker": {
             "pattern": {
              "fillmode": "overlay",
              "size": 10,
              "solidity": 0.2
             }
            },
            "type": "histogram"
           }
          ],
          "histogram2d": [
           {
            "colorbar": {
             "outlinewidth": 0,
             "ticks": ""
            },
            "colorscale": [
             [
              0,
              "#0d0887"
             ],
             [
              0.1111111111111111,
              "#46039f"
             ],
             [
              0.2222222222222222,
              "#7201a8"
             ],
             [
              0.3333333333333333,
              "#9c179e"
             ],
             [
              0.4444444444444444,
              "#bd3786"
             ],
             [
              0.5555555555555556,
              "#d8576b"
             ],
             [
              0.6666666666666666,
              "#ed7953"
             ],
             [
              0.7777777777777778,
              "#fb9f3a"
             ],
             [
              0.8888888888888888,
              "#fdca26"
             ],
             [
              1,
              "#f0f921"
             ]
            ],
            "type": "histogram2d"
           }
          ],
          "histogram2dcontour": [
           {
            "colorbar": {
             "outlinewidth": 0,
             "ticks": ""
            },
            "colorscale": [
             [
              0,
              "#0d0887"
             ],
             [
              0.1111111111111111,
              "#46039f"
             ],
             [
              0.2222222222222222,
              "#7201a8"
             ],
             [
              0.3333333333333333,
              "#9c179e"
             ],
             [
              0.4444444444444444,
              "#bd3786"
             ],
             [
              0.5555555555555556,
              "#d8576b"
             ],
             [
              0.6666666666666666,
              "#ed7953"
             ],
             [
              0.7777777777777778,
              "#fb9f3a"
             ],
             [
              0.8888888888888888,
              "#fdca26"
             ],
             [
              1,
              "#f0f921"
             ]
            ],
            "type": "histogram2dcontour"
           }
          ],
          "mesh3d": [
           {
            "colorbar": {
             "outlinewidth": 0,
             "ticks": ""
            },
            "type": "mesh3d"
           }
          ],
          "parcoords": [
           {
            "line": {
             "colorbar": {
              "outlinewidth": 0,
              "ticks": ""
             }
            },
            "type": "parcoords"
           }
          ],
          "pie": [
           {
            "automargin": true,
            "type": "pie"
           }
          ],
          "scatter": [
           {
            "marker": {
             "colorbar": {
              "outlinewidth": 0,
              "ticks": ""
             }
            },
            "type": "scatter"
           }
          ],
          "scatter3d": [
           {
            "line": {
             "colorbar": {
              "outlinewidth": 0,
              "ticks": ""
             }
            },
            "marker": {
             "colorbar": {
              "outlinewidth": 0,
              "ticks": ""
             }
            },
            "type": "scatter3d"
           }
          ],
          "scattercarpet": [
           {
            "marker": {
             "colorbar": {
              "outlinewidth": 0,
              "ticks": ""
             }
            },
            "type": "scattercarpet"
           }
          ],
          "scattergeo": [
           {
            "marker": {
             "colorbar": {
              "outlinewidth": 0,
              "ticks": ""
             }
            },
            "type": "scattergeo"
           }
          ],
          "scattergl": [
           {
            "marker": {
             "colorbar": {
              "outlinewidth": 0,
              "ticks": ""
             }
            },
            "type": "scattergl"
           }
          ],
          "scattermapbox": [
           {
            "marker": {
             "colorbar": {
              "outlinewidth": 0,
              "ticks": ""
             }
            },
            "type": "scattermapbox"
           }
          ],
          "scatterpolar": [
           {
            "marker": {
             "colorbar": {
              "outlinewidth": 0,
              "ticks": ""
             }
            },
            "type": "scatterpolar"
           }
          ],
          "scatterpolargl": [
           {
            "marker": {
             "colorbar": {
              "outlinewidth": 0,
              "ticks": ""
             }
            },
            "type": "scatterpolargl"
           }
          ],
          "scatterternary": [
           {
            "marker": {
             "colorbar": {
              "outlinewidth": 0,
              "ticks": ""
             }
            },
            "type": "scatterternary"
           }
          ],
          "surface": [
           {
            "colorbar": {
             "outlinewidth": 0,
             "ticks": ""
            },
            "colorscale": [
             [
              0,
              "#0d0887"
             ],
             [
              0.1111111111111111,
              "#46039f"
             ],
             [
              0.2222222222222222,
              "#7201a8"
             ],
             [
              0.3333333333333333,
              "#9c179e"
             ],
             [
              0.4444444444444444,
              "#bd3786"
             ],
             [
              0.5555555555555556,
              "#d8576b"
             ],
             [
              0.6666666666666666,
              "#ed7953"
             ],
             [
              0.7777777777777778,
              "#fb9f3a"
             ],
             [
              0.8888888888888888,
              "#fdca26"
             ],
             [
              1,
              "#f0f921"
             ]
            ],
            "type": "surface"
           }
          ],
          "table": [
           {
            "cells": {
             "fill": {
              "color": "#EBF0F8"
             },
             "line": {
              "color": "white"
             }
            },
            "header": {
             "fill": {
              "color": "#C8D4E3"
             },
             "line": {
              "color": "white"
             }
            },
            "type": "table"
           }
          ]
         },
         "layout": {
          "annotationdefaults": {
           "arrowcolor": "#2a3f5f",
           "arrowhead": 0,
           "arrowwidth": 1
          },
          "autotypenumbers": "strict",
          "coloraxis": {
           "colorbar": {
            "outlinewidth": 0,
            "ticks": ""
           }
          },
          "colorscale": {
           "diverging": [
            [
             0,
             "#8e0152"
            ],
            [
             0.1,
             "#c51b7d"
            ],
            [
             0.2,
             "#de77ae"
            ],
            [
             0.3,
             "#f1b6da"
            ],
            [
             0.4,
             "#fde0ef"
            ],
            [
             0.5,
             "#f7f7f7"
            ],
            [
             0.6,
             "#e6f5d0"
            ],
            [
             0.7,
             "#b8e186"
            ],
            [
             0.8,
             "#7fbc41"
            ],
            [
             0.9,
             "#4d9221"
            ],
            [
             1,
             "#276419"
            ]
           ],
           "sequential": [
            [
             0,
             "#0d0887"
            ],
            [
             0.1111111111111111,
             "#46039f"
            ],
            [
             0.2222222222222222,
             "#7201a8"
            ],
            [
             0.3333333333333333,
             "#9c179e"
            ],
            [
             0.4444444444444444,
             "#bd3786"
            ],
            [
             0.5555555555555556,
             "#d8576b"
            ],
            [
             0.6666666666666666,
             "#ed7953"
            ],
            [
             0.7777777777777778,
             "#fb9f3a"
            ],
            [
             0.8888888888888888,
             "#fdca26"
            ],
            [
             1,
             "#f0f921"
            ]
           ],
           "sequentialminus": [
            [
             0,
             "#0d0887"
            ],
            [
             0.1111111111111111,
             "#46039f"
            ],
            [
             0.2222222222222222,
             "#7201a8"
            ],
            [
             0.3333333333333333,
             "#9c179e"
            ],
            [
             0.4444444444444444,
             "#bd3786"
            ],
            [
             0.5555555555555556,
             "#d8576b"
            ],
            [
             0.6666666666666666,
             "#ed7953"
            ],
            [
             0.7777777777777778,
             "#fb9f3a"
            ],
            [
             0.8888888888888888,
             "#fdca26"
            ],
            [
             1,
             "#f0f921"
            ]
           ]
          },
          "colorway": [
           "#636efa",
           "#EF553B",
           "#00cc96",
           "#ab63fa",
           "#FFA15A",
           "#19d3f3",
           "#FF6692",
           "#B6E880",
           "#FF97FF",
           "#FECB52"
          ],
          "font": {
           "color": "#2a3f5f"
          },
          "geo": {
           "bgcolor": "white",
           "lakecolor": "white",
           "landcolor": "#E5ECF6",
           "showlakes": true,
           "showland": true,
           "subunitcolor": "white"
          },
          "hoverlabel": {
           "align": "left"
          },
          "hovermode": "closest",
          "mapbox": {
           "style": "light"
          },
          "paper_bgcolor": "white",
          "plot_bgcolor": "#E5ECF6",
          "polar": {
           "angularaxis": {
            "gridcolor": "white",
            "linecolor": "white",
            "ticks": ""
           },
           "bgcolor": "#E5ECF6",
           "radialaxis": {
            "gridcolor": "white",
            "linecolor": "white",
            "ticks": ""
           }
          },
          "scene": {
           "xaxis": {
            "backgroundcolor": "#E5ECF6",
            "gridcolor": "white",
            "gridwidth": 2,
            "linecolor": "white",
            "showbackground": true,
            "ticks": "",
            "zerolinecolor": "white"
           },
           "yaxis": {
            "backgroundcolor": "#E5ECF6",
            "gridcolor": "white",
            "gridwidth": 2,
            "linecolor": "white",
            "showbackground": true,
            "ticks": "",
            "zerolinecolor": "white"
           },
           "zaxis": {
            "backgroundcolor": "#E5ECF6",
            "gridcolor": "white",
            "gridwidth": 2,
            "linecolor": "white",
            "showbackground": true,
            "ticks": "",
            "zerolinecolor": "white"
           }
          },
          "shapedefaults": {
           "line": {
            "color": "#2a3f5f"
           }
          },
          "ternary": {
           "aaxis": {
            "gridcolor": "white",
            "linecolor": "white",
            "ticks": ""
           },
           "baxis": {
            "gridcolor": "white",
            "linecolor": "white",
            "ticks": ""
           },
           "bgcolor": "#E5ECF6",
           "caxis": {
            "gridcolor": "white",
            "linecolor": "white",
            "ticks": ""
           }
          },
          "title": {
           "x": 0.05
          },
          "xaxis": {
           "automargin": true,
           "gridcolor": "white",
           "linecolor": "white",
           "ticks": "",
           "title": {
            "standoff": 15
           },
           "zerolinecolor": "white",
           "zerolinewidth": 2
          },
          "yaxis": {
           "automargin": true,
           "gridcolor": "white",
           "linecolor": "white",
           "ticks": "",
           "title": {
            "standoff": 15
           },
           "zerolinecolor": "white",
           "zerolinewidth": 2
          }
         }
        },
        "title": {
         "text": "Воронка по событиям, совершенным всеми пользователями",
         "x": 0.53,
         "xanchor": "center",
         "y": 0.88,
         "yanchor": "top"
        }
       }
      },
      "text/html": [
       "<div>                            <div id=\"4941c265-ea09-4f3f-afe5-83fe03c6dcca\" class=\"plotly-graph-div\" style=\"height:525px; width:100%;\"></div>            <script type=\"text/javascript\">                require([\"plotly\"], function(Plotly) {                    window.PLOTLYENV=window.PLOTLYENV || {};                                    if (document.getElementById(\"4941c265-ea09-4f3f-afe5-83fe03c6dcca\")) {                    Plotly.newPlot(                        \"4941c265-ea09-4f3f-afe5-83fe03c6dcca\",                        [{\"name\":\"test\",\"textinfo\":\"value+percent previous+percent initial\",\"textposition\":\"inside\",\"x\":[117328,46333,42303,33918,1005],\"y\":[\"MainScreenAppear\",\"OffersScreenAppear\",\"CartScreenAppear\",\"PaymentScreenSuccessful\",\"Tutorial\"],\"type\":\"funnel\"}],                        {\"template\":{\"data\":{\"bar\":[{\"error_x\":{\"color\":\"#2a3f5f\"},\"error_y\":{\"color\":\"#2a3f5f\"},\"marker\":{\"line\":{\"color\":\"#E5ECF6\",\"width\":0.5},\"pattern\":{\"fillmode\":\"overlay\",\"size\":10,\"solidity\":0.2}},\"type\":\"bar\"}],\"barpolar\":[{\"marker\":{\"line\":{\"color\":\"#E5ECF6\",\"width\":0.5},\"pattern\":{\"fillmode\":\"overlay\",\"size\":10,\"solidity\":0.2}},\"type\":\"barpolar\"}],\"carpet\":[{\"aaxis\":{\"endlinecolor\":\"#2a3f5f\",\"gridcolor\":\"white\",\"linecolor\":\"white\",\"minorgridcolor\":\"white\",\"startlinecolor\":\"#2a3f5f\"},\"baxis\":{\"endlinecolor\":\"#2a3f5f\",\"gridcolor\":\"white\",\"linecolor\":\"white\",\"minorgridcolor\":\"white\",\"startlinecolor\":\"#2a3f5f\"},\"type\":\"carpet\"}],\"choropleth\":[{\"colorbar\":{\"outlinewidth\":0,\"ticks\":\"\"},\"type\":\"choropleth\"}],\"contour\":[{\"colorbar\":{\"outlinewidth\":0,\"ticks\":\"\"},\"colorscale\":[[0.0,\"#0d0887\"],[0.1111111111111111,\"#46039f\"],[0.2222222222222222,\"#7201a8\"],[0.3333333333333333,\"#9c179e\"],[0.4444444444444444,\"#bd3786\"],[0.5555555555555556,\"#d8576b\"],[0.6666666666666666,\"#ed7953\"],[0.7777777777777778,\"#fb9f3a\"],[0.8888888888888888,\"#fdca26\"],[1.0,\"#f0f921\"]],\"type\":\"contour\"}],\"contourcarpet\":[{\"colorbar\":{\"outlinewidth\":0,\"ticks\":\"\"},\"type\":\"contourcarpet\"}],\"heatmap\":[{\"colorbar\":{\"outlinewidth\":0,\"ticks\":\"\"},\"colorscale\":[[0.0,\"#0d0887\"],[0.1111111111111111,\"#46039f\"],[0.2222222222222222,\"#7201a8\"],[0.3333333333333333,\"#9c179e\"],[0.4444444444444444,\"#bd3786\"],[0.5555555555555556,\"#d8576b\"],[0.6666666666666666,\"#ed7953\"],[0.7777777777777778,\"#fb9f3a\"],[0.8888888888888888,\"#fdca26\"],[1.0,\"#f0f921\"]],\"type\":\"heatmap\"}],\"heatmapgl\":[{\"colorbar\":{\"outlinewidth\":0,\"ticks\":\"\"},\"colorscale\":[[0.0,\"#0d0887\"],[0.1111111111111111,\"#46039f\"],[0.2222222222222222,\"#7201a8\"],[0.3333333333333333,\"#9c179e\"],[0.4444444444444444,\"#bd3786\"],[0.5555555555555556,\"#d8576b\"],[0.6666666666666666,\"#ed7953\"],[0.7777777777777778,\"#fb9f3a\"],[0.8888888888888888,\"#fdca26\"],[1.0,\"#f0f921\"]],\"type\":\"heatmapgl\"}],\"histogram\":[{\"marker\":{\"pattern\":{\"fillmode\":\"overlay\",\"size\":10,\"solidity\":0.2}},\"type\":\"histogram\"}],\"histogram2d\":[{\"colorbar\":{\"outlinewidth\":0,\"ticks\":\"\"},\"colorscale\":[[0.0,\"#0d0887\"],[0.1111111111111111,\"#46039f\"],[0.2222222222222222,\"#7201a8\"],[0.3333333333333333,\"#9c179e\"],[0.4444444444444444,\"#bd3786\"],[0.5555555555555556,\"#d8576b\"],[0.6666666666666666,\"#ed7953\"],[0.7777777777777778,\"#fb9f3a\"],[0.8888888888888888,\"#fdca26\"],[1.0,\"#f0f921\"]],\"type\":\"histogram2d\"}],\"histogram2dcontour\":[{\"colorbar\":{\"outlinewidth\":0,\"ticks\":\"\"},\"colorscale\":[[0.0,\"#0d0887\"],[0.1111111111111111,\"#46039f\"],[0.2222222222222222,\"#7201a8\"],[0.3333333333333333,\"#9c179e\"],[0.4444444444444444,\"#bd3786\"],[0.5555555555555556,\"#d8576b\"],[0.6666666666666666,\"#ed7953\"],[0.7777777777777778,\"#fb9f3a\"],[0.8888888888888888,\"#fdca26\"],[1.0,\"#f0f921\"]],\"type\":\"histogram2dcontour\"}],\"mesh3d\":[{\"colorbar\":{\"outlinewidth\":0,\"ticks\":\"\"},\"type\":\"mesh3d\"}],\"parcoords\":[{\"line\":{\"colorbar\":{\"outlinewidth\":0,\"ticks\":\"\"}},\"type\":\"parcoords\"}],\"pie\":[{\"automargin\":true,\"type\":\"pie\"}],\"scatter\":[{\"marker\":{\"colorbar\":{\"outlinewidth\":0,\"ticks\":\"\"}},\"type\":\"scatter\"}],\"scatter3d\":[{\"line\":{\"colorbar\":{\"outlinewidth\":0,\"ticks\":\"\"}},\"marker\":{\"colorbar\":{\"outlinewidth\":0,\"ticks\":\"\"}},\"type\":\"scatter3d\"}],\"scattercarpet\":[{\"marker\":{\"colorbar\":{\"outlinewidth\":0,\"ticks\":\"\"}},\"type\":\"scattercarpet\"}],\"scattergeo\":[{\"marker\":{\"colorbar\":{\"outlinewidth\":0,\"ticks\":\"\"}},\"type\":\"scattergeo\"}],\"scattergl\":[{\"marker\":{\"colorbar\":{\"outlinewidth\":0,\"ticks\":\"\"}},\"type\":\"scattergl\"}],\"scattermapbox\":[{\"marker\":{\"colorbar\":{\"outlinewidth\":0,\"ticks\":\"\"}},\"type\":\"scattermapbox\"}],\"scatterpolar\":[{\"marker\":{\"colorbar\":{\"outlinewidth\":0,\"ticks\":\"\"}},\"type\":\"scatterpolar\"}],\"scatterpolargl\":[{\"marker\":{\"colorbar\":{\"outlinewidth\":0,\"ticks\":\"\"}},\"type\":\"scatterpolargl\"}],\"scatterternary\":[{\"marker\":{\"colorbar\":{\"outlinewidth\":0,\"ticks\":\"\"}},\"type\":\"scatterternary\"}],\"surface\":[{\"colorbar\":{\"outlinewidth\":0,\"ticks\":\"\"},\"colorscale\":[[0.0,\"#0d0887\"],[0.1111111111111111,\"#46039f\"],[0.2222222222222222,\"#7201a8\"],[0.3333333333333333,\"#9c179e\"],[0.4444444444444444,\"#bd3786\"],[0.5555555555555556,\"#d8576b\"],[0.6666666666666666,\"#ed7953\"],[0.7777777777777778,\"#fb9f3a\"],[0.8888888888888888,\"#fdca26\"],[1.0,\"#f0f921\"]],\"type\":\"surface\"}],\"table\":[{\"cells\":{\"fill\":{\"color\":\"#EBF0F8\"},\"line\":{\"color\":\"white\"}},\"header\":{\"fill\":{\"color\":\"#C8D4E3\"},\"line\":{\"color\":\"white\"}},\"type\":\"table\"}]},\"layout\":{\"annotationdefaults\":{\"arrowcolor\":\"#2a3f5f\",\"arrowhead\":0,\"arrowwidth\":1},\"autotypenumbers\":\"strict\",\"coloraxis\":{\"colorbar\":{\"outlinewidth\":0,\"ticks\":\"\"}},\"colorscale\":{\"diverging\":[[0,\"#8e0152\"],[0.1,\"#c51b7d\"],[0.2,\"#de77ae\"],[0.3,\"#f1b6da\"],[0.4,\"#fde0ef\"],[0.5,\"#f7f7f7\"],[0.6,\"#e6f5d0\"],[0.7,\"#b8e186\"],[0.8,\"#7fbc41\"],[0.9,\"#4d9221\"],[1,\"#276419\"]],\"sequential\":[[0.0,\"#0d0887\"],[0.1111111111111111,\"#46039f\"],[0.2222222222222222,\"#7201a8\"],[0.3333333333333333,\"#9c179e\"],[0.4444444444444444,\"#bd3786\"],[0.5555555555555556,\"#d8576b\"],[0.6666666666666666,\"#ed7953\"],[0.7777777777777778,\"#fb9f3a\"],[0.8888888888888888,\"#fdca26\"],[1.0,\"#f0f921\"]],\"sequentialminus\":[[0.0,\"#0d0887\"],[0.1111111111111111,\"#46039f\"],[0.2222222222222222,\"#7201a8\"],[0.3333333333333333,\"#9c179e\"],[0.4444444444444444,\"#bd3786\"],[0.5555555555555556,\"#d8576b\"],[0.6666666666666666,\"#ed7953\"],[0.7777777777777778,\"#fb9f3a\"],[0.8888888888888888,\"#fdca26\"],[1.0,\"#f0f921\"]]},\"colorway\":[\"#636efa\",\"#EF553B\",\"#00cc96\",\"#ab63fa\",\"#FFA15A\",\"#19d3f3\",\"#FF6692\",\"#B6E880\",\"#FF97FF\",\"#FECB52\"],\"font\":{\"color\":\"#2a3f5f\"},\"geo\":{\"bgcolor\":\"white\",\"lakecolor\":\"white\",\"landcolor\":\"#E5ECF6\",\"showlakes\":true,\"showland\":true,\"subunitcolor\":\"white\"},\"hoverlabel\":{\"align\":\"left\"},\"hovermode\":\"closest\",\"mapbox\":{\"style\":\"light\"},\"paper_bgcolor\":\"white\",\"plot_bgcolor\":\"#E5ECF6\",\"polar\":{\"angularaxis\":{\"gridcolor\":\"white\",\"linecolor\":\"white\",\"ticks\":\"\"},\"bgcolor\":\"#E5ECF6\",\"radialaxis\":{\"gridcolor\":\"white\",\"linecolor\":\"white\",\"ticks\":\"\"}},\"scene\":{\"xaxis\":{\"backgroundcolor\":\"#E5ECF6\",\"gridcolor\":\"white\",\"gridwidth\":2,\"linecolor\":\"white\",\"showbackground\":true,\"ticks\":\"\",\"zerolinecolor\":\"white\"},\"yaxis\":{\"backgroundcolor\":\"#E5ECF6\",\"gridcolor\":\"white\",\"gridwidth\":2,\"linecolor\":\"white\",\"showbackground\":true,\"ticks\":\"\",\"zerolinecolor\":\"white\"},\"zaxis\":{\"backgroundcolor\":\"#E5ECF6\",\"gridcolor\":\"white\",\"gridwidth\":2,\"linecolor\":\"white\",\"showbackground\":true,\"ticks\":\"\",\"zerolinecolor\":\"white\"}},\"shapedefaults\":{\"line\":{\"color\":\"#2a3f5f\"}},\"ternary\":{\"aaxis\":{\"gridcolor\":\"white\",\"linecolor\":\"white\",\"ticks\":\"\"},\"baxis\":{\"gridcolor\":\"white\",\"linecolor\":\"white\",\"ticks\":\"\"},\"bgcolor\":\"#E5ECF6\",\"caxis\":{\"gridcolor\":\"white\",\"linecolor\":\"white\",\"ticks\":\"\"}},\"title\":{\"x\":0.05},\"xaxis\":{\"automargin\":true,\"gridcolor\":\"white\",\"linecolor\":\"white\",\"ticks\":\"\",\"title\":{\"standoff\":15},\"zerolinecolor\":\"white\",\"zerolinewidth\":2},\"yaxis\":{\"automargin\":true,\"gridcolor\":\"white\",\"linecolor\":\"white\",\"ticks\":\"\",\"title\":{\"standoff\":15},\"zerolinecolor\":\"white\",\"zerolinewidth\":2}}},\"title\":{\"text\":\"\\u0412\\u043e\\u0440\\u043e\\u043d\\u043a\\u0430 \\u043f\\u043e \\u0441\\u043e\\u0431\\u044b\\u0442\\u0438\\u044f\\u043c, \\u0441\\u043e\\u0432\\u0435\\u0440\\u0448\\u0435\\u043d\\u043d\\u044b\\u043c \\u0432\\u0441\\u0435\\u043c\\u0438 \\u043f\\u043e\\u043b\\u044c\\u0437\\u043e\\u0432\\u0430\\u0442\\u0435\\u043b\\u044f\\u043c\\u0438\",\"y\":0.88,\"x\":0.53,\"xanchor\":\"center\",\"yanchor\":\"top\"}},                        {\"responsive\": true}                    ).then(function(){\n",
       "                            \n",
       "var gd = document.getElementById('4941c265-ea09-4f3f-afe5-83fe03c6dcca');\n",
       "var x = new MutationObserver(function (mutations, observer) {{\n",
       "        var display = window.getComputedStyle(gd).display;\n",
       "        if (!display || display === 'none') {{\n",
       "            console.log([gd, 'removed!']);\n",
       "            Plotly.purge(gd);\n",
       "            observer.disconnect();\n",
       "        }}\n",
       "}});\n",
       "\n",
       "// Listen for the removal of the full notebook cells\n",
       "var notebookContainer = gd.closest('#notebook-container');\n",
       "if (notebookContainer) {{\n",
       "    x.observe(notebookContainer, {childList: true});\n",
       "}}\n",
       "\n",
       "// Listen for the clearing of the current output cell\n",
       "var outputEl = gd.closest('.output');\n",
       "if (outputEl) {{\n",
       "    x.observe(outputEl, {childList: true});\n",
       "}}\n",
       "\n",
       "                        })                };                });            </script>        </div>"
      ]
     },
     "metadata": {},
     "output_type": "display_data"
    }
   ],
   "source": [
    "# Строим график воронки\n",
    "fig = go.Figure(go.Funnel(\n",
    "        name = 'test',\n",
    "        y = events_frequency['event_name'],\n",
    "        x = events_frequency['number'],\n",
    "        textposition = \"inside\",\n",
    "        textinfo = \"value+percent previous+percent initial\"))\n",
    "fig.update_layout(\n",
    "    title={\n",
    "        'text': 'Воронка по событиям, совершенным всеми пользователями',\n",
    "        'y':0.88,\n",
    "        'x':0.53,\n",
    "        'xanchor': 'center',\n",
    "        'yanchor': 'top'},\n",
    "    )\n",
    "fig.show()"
   ]
  },
  {
   "attachments": {
    "image.png": {
     "image/png": "[encoded data removed]"
    }
   },
   "cell_type": "markdown",
   "metadata": {},
   "source": [
    "![image.png](attachment:image.png)"
   ]
  },
  {
   "cell_type": "markdown",
   "metadata": {},
   "source": [
    "**Самое частое событие в приложении - это переход на главную его страницу.** **За неделю** на главную страницу пришло более **117 тысяч пользователей.** Следующим по популярности событием является **переход на страницу с предложениями** (т.е. товарами): из 117 тыс человек на эту страницу приходит только **39% (чуть более 46 тыс человек).** Видимо, **есть какая-то значимая причина,** по которой **более 60% посетителей \"отваливается\"** на главной странице. Нужно ее выявить.\n",
    "\n",
    "**Со страницы с товарами в корзину переходит 91% пользователей; а на страницу с оплатой приходит 80% пользователей с предыдущей страницы.** Это прекрасная конверсия!\n",
    "\n",
    "**Именно в таком порядке платящий пользователь работает с приложением.**\n",
    "\n",
    "**Страница Tutorial** (инструкция) совершенно не пользуется популярностью у пользователей (менее 1% от всех посетителей ее изучает)."
   ]
  },
  {
   "cell_type": "code",
   "execution_count": 26,
   "metadata": {},
   "outputs": [
    {
     "name": "stdout",
     "output_type": "stream",
     "text": [
      "Количество пользователей, которые совершали каждое из событий: 466\n"
     ]
    }
   ],
   "source": [
    "#Посмотрим, сколько пользователей совершали каждое из этих событий\n",
    "users_number_committed_each_of_the_events = logs_result.groupby(['device_id', 'event_name'])['event_date'].nunique().reset_index()\n",
    "\n",
    "users_number_committed_each_of_the_events_result = users_number_committed_each_of_the_events.groupby('device_id')['event_name'].count().reset_index()\n",
    "users_number_committed_each_of_the_events_result_1 = users_number_committed_each_of_the_events_result.loc[users_number_committed_each_of_the_events_result['event_name'] == 5]\n",
    "print('Количество пользователей, которые совершали каждое из событий:', users_number_committed_each_of_the_events_result_1['device_id'].count())\n"
   ]
  },
  {
   "cell_type": "code",
   "execution_count": 27,
   "metadata": {},
   "outputs": [
    {
     "data": {
      "text/html": [
       "<div>\n",
       "<style scoped>\n",
       "    .dataframe tbody tr th:only-of-type {\n",
       "        vertical-align: middle;\n",
       "    }\n",
       "\n",
       "    .dataframe tbody tr th {\n",
       "        vertical-align: top;\n",
       "    }\n",
       "\n",
       "    .dataframe thead th {\n",
       "        text-align: right;\n",
       "    }\n",
       "</style>\n",
       "<table border=\"1\" class=\"dataframe\">\n",
       "  <thead>\n",
       "    <tr style=\"text-align: right;\">\n",
       "      <th></th>\n",
       "      <th>event_name</th>\n",
       "      <th>number_of_users</th>\n",
       "      <th>ratio, %</th>\n",
       "    </tr>\n",
       "  </thead>\n",
       "  <tbody>\n",
       "    <tr>\n",
       "      <th>1</th>\n",
       "      <td>MainScreenAppear</td>\n",
       "      <td>7419</td>\n",
       "      <td>36.86</td>\n",
       "    </tr>\n",
       "    <tr>\n",
       "      <th>2</th>\n",
       "      <td>OffersScreenAppear</td>\n",
       "      <td>4593</td>\n",
       "      <td>22.82</td>\n",
       "    </tr>\n",
       "    <tr>\n",
       "      <th>0</th>\n",
       "      <td>CartScreenAppear</td>\n",
       "      <td>3734</td>\n",
       "      <td>18.55</td>\n",
       "    </tr>\n",
       "    <tr>\n",
       "      <th>3</th>\n",
       "      <td>PaymentScreenSuccessful</td>\n",
       "      <td>3539</td>\n",
       "      <td>17.59</td>\n",
       "    </tr>\n",
       "    <tr>\n",
       "      <th>4</th>\n",
       "      <td>Tutorial</td>\n",
       "      <td>840</td>\n",
       "      <td>4.17</td>\n",
       "    </tr>\n",
       "  </tbody>\n",
       "</table>\n",
       "</div>"
      ],
      "text/plain": [
       "                event_name  number_of_users  ratio, %\n",
       "1         MainScreenAppear             7419     36.86\n",
       "2       OffersScreenAppear             4593     22.82\n",
       "0         CartScreenAppear             3734     18.55\n",
       "3  PaymentScreenSuccessful             3539     17.59\n",
       "4                 Tutorial              840      4.17"
      ]
     },
     "metadata": {},
     "output_type": "display_data"
    }
   ],
   "source": [
    "#Отсортируем события по числу пользователей и посчитаем долю пользователей, которые хоть раз совершали событие\n",
    "sort_events_by_number_of_users = logs_result.groupby('event_name')['device_id'].nunique().reset_index()\n",
    "sort_events_by_number_of_users.columns = ['event_name', 'number_of_users']\n",
    "sort_events_by_number_of_users = sort_events_by_number_of_users.sort_values(by='number_of_users', ascending=False)\n",
    "\n",
    "sum_users_number = sort_events_by_number_of_users['number_of_users'].sum()\n",
    "sort_events_by_number_of_users['ratio, %'] = round((sort_events_by_number_of_users['number_of_users'] / sum_users_number * 100), 2)\n",
    "\n",
    "display(sort_events_by_number_of_users)"
   ]
  },
  {
   "cell_type": "markdown",
   "metadata": {},
   "source": [
    "**При рассмотрении воронки в разрезе уникальных пользователей,** мы можем отметить, что порядок работы пользователей с приложением остается прежним. **Чаще всего** потребители заходят **на главную страницу (37%),** далее они отправляются **на страницу с товарами (23%),** после этого переходят **в корзину (19%), оплачивают товары 18% от всех пользователей.**\n",
    "Из воронки необходимо **убрать этап \"Tutorial\"** - это дополнительная страница, не участвующая в воронке продаж, и многие пользователи ее не посещают. Что, собственно, и показывает предыдущий датафрейм **(только 4% от всех уникальных пользователей заходят на данную страницу).**"
   ]
  },
  {
   "cell_type": "code",
   "execution_count": 28,
   "metadata": {},
   "outputs": [
    {
     "data": {
      "application/vnd.plotly.v1+json": {
       "config": {
        "plotlyServerURL": "https://plot.ly"
       },
       "data": [
        {
         "name": "test",
         "textinfo": "value+percent previous+percent initial",
         "textposition": "inside",
         "type": "funnel",
         "x": [
          7419,
          4593,
          3734,
          3539
         ],
         "y": [
          "MainScreenAppear",
          "OffersScreenAppear",
          "CartScreenAppear",
          "PaymentScreenSuccessful"
         ]
        }
       ],
       "layout": {
        "template": {
         "data": {
          "bar": [
           {
            "error_x": {
             "color": "#2a3f5f"
            },
            "error_y": {
             "color": "#2a3f5f"
            },
            "marker": {
             "line": {
              "color": "#E5ECF6",
              "width": 0.5
             },
             "pattern": {
              "fillmode": "overlay",
              "size": 10,
              "solidity": 0.2
             }
            },
            "type": "bar"
           }
          ],
          "barpolar": [
           {
            "marker": {
             "line": {
              "color": "#E5ECF6",
              "width": 0.5
             },
             "pattern": {
              "fillmode": "overlay",
              "size": 10,
              "solidity": 0.2
             }
            },
            "type": "barpolar"
           }
          ],
          "carpet": [
           {
            "aaxis": {
             "endlinecolor": "#2a3f5f",
             "gridcolor": "white",
             "linecolor": "white",
             "minorgridcolor": "white",
             "startlinecolor": "#2a3f5f"
            },
            "baxis": {
             "endlinecolor": "#2a3f5f",
             "gridcolor": "white",
             "linecolor": "white",
             "minorgridcolor": "white",
             "startlinecolor": "#2a3f5f"
            },
            "type": "carpet"
           }
          ],
          "choropleth": [
           {
            "colorbar": {
             "outlinewidth": 0,
             "ticks": ""
            },
            "type": "choropleth"
           }
          ],
          "contour": [
           {
            "colorbar": {
             "outlinewidth": 0,
             "ticks": ""
            },
            "colorscale": [
             [
              0,
              "#0d0887"
             ],
             [
              0.1111111111111111,
              "#46039f"
             ],
             [
              0.2222222222222222,
              "#7201a8"
             ],
             [
              0.3333333333333333,
              "#9c179e"
             ],
             [
              0.4444444444444444,
              "#bd3786"
             ],
             [
              0.5555555555555556,
              "#d8576b"
             ],
             [
              0.6666666666666666,
              "#ed7953"
             ],
             [
              0.7777777777777778,
              "#fb9f3a"
             ],
             [
              0.8888888888888888,
              "#fdca26"
             ],
             [
              1,
              "#f0f921"
             ]
            ],
            "type": "contour"
           }
          ],
          "contourcarpet": [
           {
            "colorbar": {
             "outlinewidth": 0,
             "ticks": ""
            },
            "type": "contourcarpet"
           }
          ],
          "heatmap": [
           {
            "colorbar": {
             "outlinewidth": 0,
             "ticks": ""
            },
            "colorscale": [
             [
              0,
              "#0d0887"
             ],
             [
              0.1111111111111111,
              "#46039f"
             ],
             [
              0.2222222222222222,
              "#7201a8"
             ],
             [
              0.3333333333333333,
              "#9c179e"
             ],
             [
              0.4444444444444444,
              "#bd3786"
             ],
             [
              0.5555555555555556,
              "#d8576b"
             ],
             [
              0.6666666666666666,
              "#ed7953"
             ],
             [
              0.7777777777777778,
              "#fb9f3a"
             ],
             [
              0.8888888888888888,
              "#fdca26"
             ],
             [
              1,
              "#f0f921"
             ]
            ],
            "type": "heatmap"
           }
          ],
          "heatmapgl": [
           {
            "colorbar": {
             "outlinewidth": 0,
             "ticks": ""
            },
            "colorscale": [
             [
              0,
              "#0d0887"
             ],
             [
              0.1111111111111111,
              "#46039f"
             ],
             [
              0.2222222222222222,
              "#7201a8"
             ],
             [
              0.3333333333333333,
              "#9c179e"
             ],
             [
              0.4444444444444444,
              "#bd3786"
             ],
             [
              0.5555555555555556,
              "#d8576b"
             ],
             [
              0.6666666666666666,
              "#ed7953"
             ],
             [
              0.7777777777777778,
              "#fb9f3a"
             ],
             [
              0.8888888888888888,
              "#fdca26"
             ],
             [
              1,
              "#f0f921"
             ]
            ],
            "type": "heatmapgl"
           }
          ],
          "histogram": [
           {
            "marker": {
             "pattern": {
              "fillmode": "overlay",
              "size": 10,
              "solidity": 0.2
             }
            },
            "type": "histogram"
           }
          ],
          "histogram2d": [
           {
            "colorbar": {
             "outlinewidth": 0,
             "ticks": ""
            },
            "colorscale": [
             [
              0,
              "#0d0887"
             ],
             [
              0.1111111111111111,
              "#46039f"
             ],
             [
              0.2222222222222222,
              "#7201a8"
             ],
             [
              0.3333333333333333,
              "#9c179e"
             ],
             [
              0.4444444444444444,
              "#bd3786"
             ],
             [
              0.5555555555555556,
              "#d8576b"
             ],
             [
              0.6666666666666666,
              "#ed7953"
             ],
             [
              0.7777777777777778,
              "#fb9f3a"
             ],
             [
              0.8888888888888888,
              "#fdca26"
             ],
             [
              1,
              "#f0f921"
             ]
            ],
            "type": "histogram2d"
           }
          ],
          "histogram2dcontour": [
           {
            "colorbar": {
             "outlinewidth": 0,
             "ticks": ""
            },
            "colorscale": [
             [
              0,
              "#0d0887"
             ],
             [
              0.1111111111111111,
              "#46039f"
             ],
             [
              0.2222222222222222,
              "#7201a8"
             ],
             [
              0.3333333333333333,
              "#9c179e"
             ],
             [
              0.4444444444444444,
              "#bd3786"
             ],
             [
              0.5555555555555556,
              "#d8576b"
             ],
             [
              0.6666666666666666,
              "#ed7953"
             ],
             [
              0.7777777777777778,
              "#fb9f3a"
             ],
             [
              0.8888888888888888,
              "#fdca26"
             ],
             [
              1,
              "#f0f921"
             ]
            ],
            "type": "histogram2dcontour"
           }
          ],
          "mesh3d": [
           {
            "colorbar": {
             "outlinewidth": 0,
             "ticks": ""
            },
            "type": "mesh3d"
           }
          ],
          "parcoords": [
           {
            "line": {
             "colorbar": {
              "outlinewidth": 0,
              "ticks": ""
             }
            },
            "type": "parcoords"
           }
          ],
          "pie": [
           {
            "automargin": true,
            "type": "pie"
           }
          ],
          "scatter": [
           {
            "marker": {
             "colorbar": {
              "outlinewidth": 0,
              "ticks": ""
             }
            },
            "type": "scatter"
           }
          ],
          "scatter3d": [
           {
            "line": {
             "colorbar": {
              "outlinewidth": 0,
              "ticks": ""
             }
            },
            "marker": {
             "colorbar": {
              "outlinewidth": 0,
              "ticks": ""
             }
            },
            "type": "scatter3d"
           }
          ],
          "scattercarpet": [
           {
            "marker": {
             "colorbar": {
              "outlinewidth": 0,
              "ticks": ""
             }
            },
            "type": "scattercarpet"
           }
          ],
          "scattergeo": [
           {
            "marker": {
             "colorbar": {
              "outlinewidth": 0,
              "ticks": ""
             }
            },
            "type": "scattergeo"
           }
          ],
          "scattergl": [
           {
            "marker": {
             "colorbar": {
              "outlinewidth": 0,
              "ticks": ""
             }
            },
            "type": "scattergl"
           }
          ],
          "scattermapbox": [
           {
            "marker": {
             "colorbar": {
              "outlinewidth": 0,
              "ticks": ""
             }
            },
            "type": "scattermapbox"
           }
          ],
          "scatterpolar": [
           {
            "marker": {
             "colorbar": {
              "outlinewidth": 0,
              "ticks": ""
             }
            },
            "type": "scatterpolar"
           }
          ],
          "scatterpolargl": [
           {
            "marker": {
             "colorbar": {
              "outlinewidth": 0,
              "ticks": ""
             }
            },
            "type": "scatterpolargl"
           }
          ],
          "scatterternary": [
           {
            "marker": {
             "colorbar": {
              "outlinewidth": 0,
              "ticks": ""
             }
            },
            "type": "scatterternary"
           }
          ],
          "surface": [
           {
            "colorbar": {
             "outlinewidth": 0,
             "ticks": ""
            },
            "colorscale": [
             [
              0,
              "#0d0887"
             ],
             [
              0.1111111111111111,
              "#46039f"
             ],
             [
              0.2222222222222222,
              "#7201a8"
             ],
             [
              0.3333333333333333,
              "#9c179e"
             ],
             [
              0.4444444444444444,
              "#bd3786"
             ],
             [
              0.5555555555555556,
              "#d8576b"
             ],
             [
              0.6666666666666666,
              "#ed7953"
             ],
             [
              0.7777777777777778,
              "#fb9f3a"
             ],
             [
              0.8888888888888888,
              "#fdca26"
             ],
             [
              1,
              "#f0f921"
             ]
            ],
            "type": "surface"
           }
          ],
          "table": [
           {
            "cells": {
             "fill": {
              "color": "#EBF0F8"
             },
             "line": {
              "color": "white"
             }
            },
            "header": {
             "fill": {
              "color": "#C8D4E3"
             },
             "line": {
              "color": "white"
             }
            },
            "type": "table"
           }
          ]
         },
         "layout": {
          "annotationdefaults": {
           "arrowcolor": "#2a3f5f",
           "arrowhead": 0,
           "arrowwidth": 1
          },
          "autotypenumbers": "strict",
          "coloraxis": {
           "colorbar": {
            "outlinewidth": 0,
            "ticks": ""
           }
          },
          "colorscale": {
           "diverging": [
            [
             0,
             "#8e0152"
            ],
            [
             0.1,
             "#c51b7d"
            ],
            [
             0.2,
             "#de77ae"
            ],
            [
             0.3,
             "#f1b6da"
            ],
            [
             0.4,
             "#fde0ef"
            ],
            [
             0.5,
             "#f7f7f7"
            ],
            [
             0.6,
             "#e6f5d0"
            ],
            [
             0.7,
             "#b8e186"
            ],
            [
             0.8,
             "#7fbc41"
            ],
            [
             0.9,
             "#4d9221"
            ],
            [
             1,
             "#276419"
            ]
           ],
           "sequential": [
            [
             0,
             "#0d0887"
            ],
            [
             0.1111111111111111,
             "#46039f"
            ],
            [
             0.2222222222222222,
             "#7201a8"
            ],
            [
             0.3333333333333333,
             "#9c179e"
            ],
            [
             0.4444444444444444,
             "#bd3786"
            ],
            [
             0.5555555555555556,
             "#d8576b"
            ],
            [
             0.6666666666666666,
             "#ed7953"
            ],
            [
             0.7777777777777778,
             "#fb9f3a"
            ],
            [
             0.8888888888888888,
             "#fdca26"
            ],
            [
             1,
             "#f0f921"
            ]
           ],
           "sequentialminus": [
            [
             0,
             "#0d0887"
            ],
            [
             0.1111111111111111,
             "#46039f"
            ],
            [
             0.2222222222222222,
             "#7201a8"
            ],
            [
             0.3333333333333333,
             "#9c179e"
            ],
            [
             0.4444444444444444,
             "#bd3786"
            ],
            [
             0.5555555555555556,
             "#d8576b"
            ],
            [
             0.6666666666666666,
             "#ed7953"
            ],
            [
             0.7777777777777778,
             "#fb9f3a"
            ],
            [
             0.8888888888888888,
             "#fdca26"
            ],
            [
             1,
             "#f0f921"
            ]
           ]
          },
          "colorway": [
           "#636efa",
           "#EF553B",
           "#00cc96",
           "#ab63fa",
           "#FFA15A",
           "#19d3f3",
           "#FF6692",
           "#B6E880",
           "#FF97FF",
           "#FECB52"
          ],
          "font": {
           "color": "#2a3f5f"
          },
          "geo": {
           "bgcolor": "white",
           "lakecolor": "white",
           "landcolor": "#E5ECF6",
           "showlakes": true,
           "showland": true,
           "subunitcolor": "white"
          },
          "hoverlabel": {
           "align": "left"
          },
          "hovermode": "closest",
          "mapbox": {
           "style": "light"
          },
          "paper_bgcolor": "white",
          "plot_bgcolor": "#E5ECF6",
          "polar": {
           "angularaxis": {
            "gridcolor": "white",
            "linecolor": "white",
            "ticks": ""
           },
           "bgcolor": "#E5ECF6",
           "radialaxis": {
            "gridcolor": "white",
            "linecolor": "white",
            "ticks": ""
           }
          },
          "scene": {
           "xaxis": {
            "backgroundcolor": "#E5ECF6",
            "gridcolor": "white",
            "gridwidth": 2,
            "linecolor": "white",
            "showbackground": true,
            "ticks": "",
            "zerolinecolor": "white"
           },
           "yaxis": {
            "backgroundcolor": "#E5ECF6",
            "gridcolor": "white",
            "gridwidth": 2,
            "linecolor": "white",
            "showbackground": true,
            "ticks": "",
            "zerolinecolor": "white"
           },
           "zaxis": {
            "backgroundcolor": "#E5ECF6",
            "gridcolor": "white",
            "gridwidth": 2,
            "linecolor": "white",
            "showbackground": true,
            "ticks": "",
            "zerolinecolor": "white"
           }
          },
          "shapedefaults": {
           "line": {
            "color": "#2a3f5f"
           }
          },
          "ternary": {
           "aaxis": {
            "gridcolor": "white",
            "linecolor": "white",
            "ticks": ""
           },
           "baxis": {
            "gridcolor": "white",
            "linecolor": "white",
            "ticks": ""
           },
           "bgcolor": "#E5ECF6",
           "caxis": {
            "gridcolor": "white",
            "linecolor": "white",
            "ticks": ""
           }
          },
          "title": {
           "x": 0.05
          },
          "xaxis": {
           "automargin": true,
           "gridcolor": "white",
           "linecolor": "white",
           "ticks": "",
           "title": {
            "standoff": 15
           },
           "zerolinecolor": "white",
           "zerolinewidth": 2
          },
          "yaxis": {
           "automargin": true,
           "gridcolor": "white",
           "linecolor": "white",
           "ticks": "",
           "title": {
            "standoff": 15
           },
           "zerolinecolor": "white",
           "zerolinewidth": 2
          }
         }
        },
        "title": {
         "text": "Воронка по событиям, совершенных уникальными пользователями",
         "x": 0.53,
         "xanchor": "center",
         "y": 0.88,
         "yanchor": "top"
        }
       }
      },
      "text/html": [
       "<div>                            <div id=\"0b124df2-0024-46ea-8598-ad55bbd9fb22\" class=\"plotly-graph-div\" style=\"height:525px; width:100%;\"></div>            <script type=\"text/javascript\">                require([\"plotly\"], function(Plotly) {                    window.PLOTLYENV=window.PLOTLYENV || {};                                    if (document.getElementById(\"0b124df2-0024-46ea-8598-ad55bbd9fb22\")) {                    Plotly.newPlot(                        \"0b124df2-0024-46ea-8598-ad55bbd9fb22\",                        [{\"name\":\"test\",\"textinfo\":\"value+percent previous+percent initial\",\"textposition\":\"inside\",\"x\":[7419,4593,3734,3539],\"y\":[\"MainScreenAppear\",\"OffersScreenAppear\",\"CartScreenAppear\",\"PaymentScreenSuccessful\"],\"type\":\"funnel\"}],                        {\"template\":{\"data\":{\"bar\":[{\"error_x\":{\"color\":\"#2a3f5f\"},\"error_y\":{\"color\":\"#2a3f5f\"},\"marker\":{\"line\":{\"color\":\"#E5ECF6\",\"width\":0.5},\"pattern\":{\"fillmode\":\"overlay\",\"size\":10,\"solidity\":0.2}},\"type\":\"bar\"}],\"barpolar\":[{\"marker\":{\"line\":{\"color\":\"#E5ECF6\",\"width\":0.5},\"pattern\":{\"fillmode\":\"overlay\",\"size\":10,\"solidity\":0.2}},\"type\":\"barpolar\"}],\"carpet\":[{\"aaxis\":{\"endlinecolor\":\"#2a3f5f\",\"gridcolor\":\"white\",\"linecolor\":\"white\",\"minorgridcolor\":\"white\",\"startlinecolor\":\"#2a3f5f\"},\"baxis\":{\"endlinecolor\":\"#2a3f5f\",\"gridcolor\":\"white\",\"linecolor\":\"white\",\"minorgridcolor\":\"white\",\"startlinecolor\":\"#2a3f5f\"},\"type\":\"carpet\"}],\"choropleth\":[{\"colorbar\":{\"outlinewidth\":0,\"ticks\":\"\"},\"type\":\"choropleth\"}],\"contour\":[{\"colorbar\":{\"outlinewidth\":0,\"ticks\":\"\"},\"colorscale\":[[0.0,\"#0d0887\"],[0.1111111111111111,\"#46039f\"],[0.2222222222222222,\"#7201a8\"],[0.3333333333333333,\"#9c179e\"],[0.4444444444444444,\"#bd3786\"],[0.5555555555555556,\"#d8576b\"],[0.6666666666666666,\"#ed7953\"],[0.7777777777777778,\"#fb9f3a\"],[0.8888888888888888,\"#fdca26\"],[1.0,\"#f0f921\"]],\"type\":\"contour\"}],\"contourcarpet\":[{\"colorbar\":{\"outlinewidth\":0,\"ticks\":\"\"},\"type\":\"contourcarpet\"}],\"heatmap\":[{\"colorbar\":{\"outlinewidth\":0,\"ticks\":\"\"},\"colorscale\":[[0.0,\"#0d0887\"],[0.1111111111111111,\"#46039f\"],[0.2222222222222222,\"#7201a8\"],[0.3333333333333333,\"#9c179e\"],[0.4444444444444444,\"#bd3786\"],[0.5555555555555556,\"#d8576b\"],[0.6666666666666666,\"#ed7953\"],[0.7777777777777778,\"#fb9f3a\"],[0.8888888888888888,\"#fdca26\"],[1.0,\"#f0f921\"]],\"type\":\"heatmap\"}],\"heatmapgl\":[{\"colorbar\":{\"outlinewidth\":0,\"ticks\":\"\"},\"colorscale\":[[0.0,\"#0d0887\"],[0.1111111111111111,\"#46039f\"],[0.2222222222222222,\"#7201a8\"],[0.3333333333333333,\"#9c179e\"],[0.4444444444444444,\"#bd3786\"],[0.5555555555555556,\"#d8576b\"],[0.6666666666666666,\"#ed7953\"],[0.7777777777777778,\"#fb9f3a\"],[0.8888888888888888,\"#fdca26\"],[1.0,\"#f0f921\"]],\"type\":\"heatmapgl\"}],\"histogram\":[{\"marker\":{\"pattern\":{\"fillmode\":\"overlay\",\"size\":10,\"solidity\":0.2}},\"type\":\"histogram\"}],\"histogram2d\":[{\"colorbar\":{\"outlinewidth\":0,\"ticks\":\"\"},\"colorscale\":[[0.0,\"#0d0887\"],[0.1111111111111111,\"#46039f\"],[0.2222222222222222,\"#7201a8\"],[0.3333333333333333,\"#9c179e\"],[0.4444444444444444,\"#bd3786\"],[0.5555555555555556,\"#d8576b\"],[0.6666666666666666,\"#ed7953\"],[0.7777777777777778,\"#fb9f3a\"],[0.8888888888888888,\"#fdca26\"],[1.0,\"#f0f921\"]],\"type\":\"histogram2d\"}],\"histogram2dcontour\":[{\"colorbar\":{\"outlinewidth\":0,\"ticks\":\"\"},\"colorscale\":[[0.0,\"#0d0887\"],[0.1111111111111111,\"#46039f\"],[0.2222222222222222,\"#7201a8\"],[0.3333333333333333,\"#9c179e\"],[0.4444444444444444,\"#bd3786\"],[0.5555555555555556,\"#d8576b\"],[0.6666666666666666,\"#ed7953\"],[0.7777777777777778,\"#fb9f3a\"],[0.8888888888888888,\"#fdca26\"],[1.0,\"#f0f921\"]],\"type\":\"histogram2dcontour\"}],\"mesh3d\":[{\"colorbar\":{\"outlinewidth\":0,\"ticks\":\"\"},\"type\":\"mesh3d\"}],\"parcoords\":[{\"line\":{\"colorbar\":{\"outlinewidth\":0,\"ticks\":\"\"}},\"type\":\"parcoords\"}],\"pie\":[{\"automargin\":true,\"type\":\"pie\"}],\"scatter\":[{\"marker\":{\"colorbar\":{\"outlinewidth\":0,\"ticks\":\"\"}},\"type\":\"scatter\"}],\"scatter3d\":[{\"line\":{\"colorbar\":{\"outlinewidth\":0,\"ticks\":\"\"}},\"marker\":{\"colorbar\":{\"outlinewidth\":0,\"ticks\":\"\"}},\"type\":\"scatter3d\"}],\"scattercarpet\":[{\"marker\":{\"colorbar\":{\"outlinewidth\":0,\"ticks\":\"\"}},\"type\":\"scattercarpet\"}],\"scattergeo\":[{\"marker\":{\"colorbar\":{\"outlinewidth\":0,\"ticks\":\"\"}},\"type\":\"scattergeo\"}],\"scattergl\":[{\"marker\":{\"colorbar\":{\"outlinewidth\":0,\"ticks\":\"\"}},\"type\":\"scattergl\"}],\"scattermapbox\":[{\"marker\":{\"colorbar\":{\"outlinewidth\":0,\"ticks\":\"\"}},\"type\":\"scattermapbox\"}],\"scatterpolar\":[{\"marker\":{\"colorbar\":{\"outlinewidth\":0,\"ticks\":\"\"}},\"type\":\"scatterpolar\"}],\"scatterpolargl\":[{\"marker\":{\"colorbar\":{\"outlinewidth\":0,\"ticks\":\"\"}},\"type\":\"scatterpolargl\"}],\"scatterternary\":[{\"marker\":{\"colorbar\":{\"outlinewidth\":0,\"ticks\":\"\"}},\"type\":\"scatterternary\"}],\"surface\":[{\"colorbar\":{\"outlinewidth\":0,\"ticks\":\"\"},\"colorscale\":[[0.0,\"#0d0887\"],[0.1111111111111111,\"#46039f\"],[0.2222222222222222,\"#7201a8\"],[0.3333333333333333,\"#9c179e\"],[0.4444444444444444,\"#bd3786\"],[0.5555555555555556,\"#d8576b\"],[0.6666666666666666,\"#ed7953\"],[0.7777777777777778,\"#fb9f3a\"],[0.8888888888888888,\"#fdca26\"],[1.0,\"#f0f921\"]],\"type\":\"surface\"}],\"table\":[{\"cells\":{\"fill\":{\"color\":\"#EBF0F8\"},\"line\":{\"color\":\"white\"}},\"header\":{\"fill\":{\"color\":\"#C8D4E3\"},\"line\":{\"color\":\"white\"}},\"type\":\"table\"}]},\"layout\":{\"annotationdefaults\":{\"arrowcolor\":\"#2a3f5f\",\"arrowhead\":0,\"arrowwidth\":1},\"autotypenumbers\":\"strict\",\"coloraxis\":{\"colorbar\":{\"outlinewidth\":0,\"ticks\":\"\"}},\"colorscale\":{\"diverging\":[[0,\"#8e0152\"],[0.1,\"#c51b7d\"],[0.2,\"#de77ae\"],[0.3,\"#f1b6da\"],[0.4,\"#fde0ef\"],[0.5,\"#f7f7f7\"],[0.6,\"#e6f5d0\"],[0.7,\"#b8e186\"],[0.8,\"#7fbc41\"],[0.9,\"#4d9221\"],[1,\"#276419\"]],\"sequential\":[[0.0,\"#0d0887\"],[0.1111111111111111,\"#46039f\"],[0.2222222222222222,\"#7201a8\"],[0.3333333333333333,\"#9c179e\"],[0.4444444444444444,\"#bd3786\"],[0.5555555555555556,\"#d8576b\"],[0.6666666666666666,\"#ed7953\"],[0.7777777777777778,\"#fb9f3a\"],[0.8888888888888888,\"#fdca26\"],[1.0,\"#f0f921\"]],\"sequentialminus\":[[0.0,\"#0d0887\"],[0.1111111111111111,\"#46039f\"],[0.2222222222222222,\"#7201a8\"],[0.3333333333333333,\"#9c179e\"],[0.4444444444444444,\"#bd3786\"],[0.5555555555555556,\"#d8576b\"],[0.6666666666666666,\"#ed7953\"],[0.7777777777777778,\"#fb9f3a\"],[0.8888888888888888,\"#fdca26\"],[1.0,\"#f0f921\"]]},\"colorway\":[\"#636efa\",\"#EF553B\",\"#00cc96\",\"#ab63fa\",\"#FFA15A\",\"#19d3f3\",\"#FF6692\",\"#B6E880\",\"#FF97FF\",\"#FECB52\"],\"font\":{\"color\":\"#2a3f5f\"},\"geo\":{\"bgcolor\":\"white\",\"lakecolor\":\"white\",\"landcolor\":\"#E5ECF6\",\"showlakes\":true,\"showland\":true,\"subunitcolor\":\"white\"},\"hoverlabel\":{\"align\":\"left\"},\"hovermode\":\"closest\",\"mapbox\":{\"style\":\"light\"},\"paper_bgcolor\":\"white\",\"plot_bgcolor\":\"#E5ECF6\",\"polar\":{\"angularaxis\":{\"gridcolor\":\"white\",\"linecolor\":\"white\",\"ticks\":\"\"},\"bgcolor\":\"#E5ECF6\",\"radialaxis\":{\"gridcolor\":\"white\",\"linecolor\":\"white\",\"ticks\":\"\"}},\"scene\":{\"xaxis\":{\"backgroundcolor\":\"#E5ECF6\",\"gridcolor\":\"white\",\"gridwidth\":2,\"linecolor\":\"white\",\"showbackground\":true,\"ticks\":\"\",\"zerolinecolor\":\"white\"},\"yaxis\":{\"backgroundcolor\":\"#E5ECF6\",\"gridcolor\":\"white\",\"gridwidth\":2,\"linecolor\":\"white\",\"showbackground\":true,\"ticks\":\"\",\"zerolinecolor\":\"white\"},\"zaxis\":{\"backgroundcolor\":\"#E5ECF6\",\"gridcolor\":\"white\",\"gridwidth\":2,\"linecolor\":\"white\",\"showbackground\":true,\"ticks\":\"\",\"zerolinecolor\":\"white\"}},\"shapedefaults\":{\"line\":{\"color\":\"#2a3f5f\"}},\"ternary\":{\"aaxis\":{\"gridcolor\":\"white\",\"linecolor\":\"white\",\"ticks\":\"\"},\"baxis\":{\"gridcolor\":\"white\",\"linecolor\":\"white\",\"ticks\":\"\"},\"bgcolor\":\"#E5ECF6\",\"caxis\":{\"gridcolor\":\"white\",\"linecolor\":\"white\",\"ticks\":\"\"}},\"title\":{\"x\":0.05},\"xaxis\":{\"automargin\":true,\"gridcolor\":\"white\",\"linecolor\":\"white\",\"ticks\":\"\",\"title\":{\"standoff\":15},\"zerolinecolor\":\"white\",\"zerolinewidth\":2},\"yaxis\":{\"automargin\":true,\"gridcolor\":\"white\",\"linecolor\":\"white\",\"ticks\":\"\",\"title\":{\"standoff\":15},\"zerolinecolor\":\"white\",\"zerolinewidth\":2}}},\"title\":{\"text\":\"\\u0412\\u043e\\u0440\\u043e\\u043d\\u043a\\u0430 \\u043f\\u043e \\u0441\\u043e\\u0431\\u044b\\u0442\\u0438\\u044f\\u043c, \\u0441\\u043e\\u0432\\u0435\\u0440\\u0448\\u0435\\u043d\\u043d\\u044b\\u0445 \\u0443\\u043d\\u0438\\u043a\\u0430\\u043b\\u044c\\u043d\\u044b\\u043c\\u0438 \\u043f\\u043e\\u043b\\u044c\\u0437\\u043e\\u0432\\u0430\\u0442\\u0435\\u043b\\u044f\\u043c\\u0438\",\"y\":0.88,\"x\":0.53,\"xanchor\":\"center\",\"yanchor\":\"top\"}},                        {\"responsive\": true}                    ).then(function(){\n",
       "                            \n",
       "var gd = document.getElementById('0b124df2-0024-46ea-8598-ad55bbd9fb22');\n",
       "var x = new MutationObserver(function (mutations, observer) {{\n",
       "        var display = window.getComputedStyle(gd).display;\n",
       "        if (!display || display === 'none') {{\n",
       "            console.log([gd, 'removed!']);\n",
       "            Plotly.purge(gd);\n",
       "            observer.disconnect();\n",
       "        }}\n",
       "}});\n",
       "\n",
       "// Listen for the removal of the full notebook cells\n",
       "var notebookContainer = gd.closest('#notebook-container');\n",
       "if (notebookContainer) {{\n",
       "    x.observe(notebookContainer, {childList: true});\n",
       "}}\n",
       "\n",
       "// Listen for the clearing of the current output cell\n",
       "var outputEl = gd.closest('.output');\n",
       "if (outputEl) {{\n",
       "    x.observe(outputEl, {childList: true});\n",
       "}}\n",
       "\n",
       "                        })                };                });            </script>        </div>"
      ]
     },
     "metadata": {},
     "output_type": "display_data"
    }
   ],
   "source": [
    "# Отбираем все записи без событий Tutorial с группировкой по event_name\n",
    "all_exp = (logs_result.loc[logs_result['event_name'] != 'Tutorial']\n",
    "             .groupby(['event_name']) # Группируем по ивенту\n",
    "             .agg(count_events = ('device_id', 'nunique'))\n",
    "             .reset_index()\n",
    "             .sort_values('count_events', ascending=False) # по убыванию кол-ва событий           \n",
    "             )\n",
    "\n",
    "# Строим график воронки\n",
    "fig = go.Figure(go.Funnel(\n",
    "        name = 'test',\n",
    "        y = all_exp['event_name'],\n",
    "        x = all_exp['count_events'],\n",
    "        textposition = \"inside\",\n",
    "        textinfo = \"value+percent previous+percent initial\"))\n",
    "fig.update_layout(\n",
    "    title={\n",
    "        'text': 'Воронка по событиям, совершенных уникальными пользователями',\n",
    "        'y':0.88,\n",
    "        'x':0.53,\n",
    "        'xanchor': 'center',\n",
    "        'yanchor': 'top'},\n",
    "    )\n",
    "fig.show()"
   ]
  },
  {
   "attachments": {
    "image.png": {
     "image/png": "[encoded data removed]"
    }
   },
   "cell_type": "markdown",
   "metadata": {},
   "source": [
    "![image.png](attachment:image.png)"
   ]
  },
  {
   "cell_type": "markdown",
   "metadata": {},
   "source": [
    "По полученной воронке событий, мы видим, что **наибольшую потерю пользователей** мы получаем на этапе перехода с главной страницы на страницу с предложениями **(38% пользователей)**. **Меньше всего пользователей мы теряем на последнем этапе:** при переходе из корзины на страницу оплаты **(5%).** В итоге, **с первого события до оплаты доходит 48% пользователей.**"
   ]
  },
  {
   "cell_type": "markdown",
   "metadata": {},
   "source": [
    "## Часть. Анализ результатов эксперимента"
   ]
  },
  {
   "cell_type": "markdown",
   "metadata": {},
   "source": [
    "### Предварительная проверка полученных данных A/B теста (A/A тест)\n",
    "\n",
    "**Критерии успешного A/A-теста:**\n",
    "-\tКоличество пользователей в различных группах различается не более, чем на 1%;\n",
    "-\tДля всех групп фиксируют и отправляют в системы аналитики данные об одном и том же;\n",
    "-\tРазличие ключевых метрик по группам не превышает 1% и не имеет статистической значимости;\n",
    "-\tПопавший в одну из групп посетитель остаётся в этой группе до конца теста. Если пользователь видит разные версии исследуемой страницы в ходе одного исследования, неизвестно, какая именно повлияла на его решения. Значит, и результаты такого теста нельзя интерпретировать однозначно.\n"
   ]
  },
  {
   "cell_type": "markdown",
   "metadata": {},
   "source": [
    "#### Проверка количества пользователей в различных группах"
   ]
  },
  {
   "cell_type": "code",
   "execution_count": 29,
   "metadata": {},
   "outputs": [
    {
     "data": {
      "text/html": [
       "<div>\n",
       "<style scoped>\n",
       "    .dataframe tbody tr th:only-of-type {\n",
       "        vertical-align: middle;\n",
       "    }\n",
       "\n",
       "    .dataframe tbody tr th {\n",
       "        vertical-align: top;\n",
       "    }\n",
       "\n",
       "    .dataframe thead th {\n",
       "        text-align: right;\n",
       "    }\n",
       "</style>\n",
       "<table border=\"1\" class=\"dataframe\">\n",
       "  <thead>\n",
       "    <tr style=\"text-align: right;\">\n",
       "      <th></th>\n",
       "      <th>exp_id</th>\n",
       "      <th>users_number</th>\n",
       "    </tr>\n",
       "  </thead>\n",
       "  <tbody>\n",
       "    <tr>\n",
       "      <th>0</th>\n",
       "      <td>246</td>\n",
       "      <td>2484</td>\n",
       "    </tr>\n",
       "    <tr>\n",
       "      <th>1</th>\n",
       "      <td>247</td>\n",
       "      <td>2513</td>\n",
       "    </tr>\n",
       "    <tr>\n",
       "      <th>2</th>\n",
       "      <td>248</td>\n",
       "      <td>2537</td>\n",
       "    </tr>\n",
       "  </tbody>\n",
       "</table>\n",
       "</div>"
      ],
      "text/plain": [
       "   exp_id  users_number\n",
       "0     246          2484\n",
       "1     247          2513\n",
       "2     248          2537"
      ]
     },
     "metadata": {},
     "output_type": "display_data"
    },
    {
     "name": "stdout",
     "output_type": "stream",
     "text": [
      "Кол-во пользователей в группе A2 больше кол-ва пользователей группы A1 на: 1%\n",
      "Кол-во пользователей в группе B больше кол-ва пользователей группы A1 на: 2%\n",
      "Кол-во пользователей в группе B больше кол-ва пользователей группы A2 на: 1%\n"
     ]
    }
   ],
   "source": [
    "#Посмотрим, сколько пользователей в каждой экспериментальной группе\n",
    "users_number_in_each_experimental_group = logs_result.groupby('exp_id')['device_id'].nunique().reset_index()\n",
    "users_number_in_each_experimental_group.columns = ['exp_id', 'users_number']\n",
    "display(users_number_in_each_experimental_group)\n",
    "\n",
    "groups_comparison_a1_a2 = users_number_in_each_experimental_group['users_number'].iloc[1] / users_number_in_each_experimental_group['users_number'].iloc[0] - 1\n",
    "groups_comparison_a1_b = users_number_in_each_experimental_group['users_number'].iloc[2] / users_number_in_each_experimental_group['users_number'].iloc[0] - 1\n",
    "groups_comparison_a2_b = users_number_in_each_experimental_group['users_number'].iloc[2] / users_number_in_each_experimental_group['users_number'].iloc[1] - 1\n",
    "\n",
    "print('Кол-во пользователей в группе A2 больше кол-ва пользователей группы A1 на:', f'{groups_comparison_a1_a2:.0%}')\n",
    "print('Кол-во пользователей в группе B больше кол-ва пользователей группы A1 на:', f'{groups_comparison_a1_b:.0%}')\n",
    "print('Кол-во пользователей в группе B больше кол-ва пользователей группы A2 на:', f'{groups_comparison_a2_b:.0%}')"
   ]
  },
  {
   "cell_type": "markdown",
   "metadata": {},
   "source": [
    "#### Проверка \"деления\" трафика"
   ]
  },
  {
   "cell_type": "code",
   "execution_count": 30,
   "metadata": {},
   "outputs": [
    {
     "name": "stdout",
     "output_type": "stream",
     "text": [
      "Количество повторяющихся пользователей в группах A и B равно: 0\n"
     ]
    }
   ],
   "source": [
    "#Проверим количество повторяющихся пользователей в группах\n",
    "both_users = logs_result.groupby('device_id')['exp_id'].nunique().reset_index().query('exp_id > 1')\n",
    "both_users['flag'] = 1\n",
    "print('Количество повторяющихся пользователей в группах A и B равно:', both_users['flag'].count())"
   ]
  },
  {
   "cell_type": "markdown",
   "metadata": {},
   "source": [
    "В процессе предварительной проверки было выявлено следующее:\n",
    "- **Количество пользователей в группах a1, a2 и b** различается не более, чем на **2%.** Вообще должно быть не более 1%, но 2% - это не критичная разница.\n",
    "- **Количество повторяющихся пользователей в группах a1, a2 и b равно 0.**\n",
    "\n",
    "Это значит, что тест был проведен качественно и на его результаты можно смело полагаться."
   ]
  },
  {
   "cell_type": "markdown",
   "metadata": {},
   "source": [
    "### Проверка гипотезы о равенстве пропорций выборок 246 и 247 (a1 и a2)"
   ]
  },
  {
   "cell_type": "markdown",
   "metadata": {},
   "source": [
    "Проверим гипотезу о равенстве пропорций выборок а1 и а2\n",
    "\n",
    "**Нулевая гипотеза:** различий в пропорциях выборок а1 и а2 нет\n",
    "\n",
    "**Альтернативная гипотеза:** различия в пропорциях выборок а1 и а2 есть"
   ]
  },
  {
   "cell_type": "code",
   "execution_count": 31,
   "metadata": {},
   "outputs": [],
   "source": [
    "#Проверим гипотезу о равенстве пропорций выборок\n",
    "def test_the_hypothesis_about_the_equality_of_sample_proportions(group_1, group_2, event_name, alpha):\n",
    "\n",
    "    alpha = alpha # критический уровень статистической значимости\n",
    "\n",
    "    successes = np.array([group_1[group_1['event_name'] == event_name]['device_id'].nunique(), \n",
    "                        group_2[group_2['event_name'] == event_name]['device_id'].nunique()])\n",
    " \n",
    "    trials = np.array([group_1['device_id'].nunique(), \n",
    "                    group_2['device_id'].nunique()])\n",
    "\n",
    "    # пропорция успехов в первой группе:\n",
    "    p1 = successes[0]/trials[0]\n",
    "\n",
    "    # пропорция успехов во второй группе:\n",
    "    p2 = successes[1]/trials[1]\n",
    "\n",
    "    # пропорция успехов в комбинированном датасете:\n",
    "    p_combined = (successes[0] + successes[1]) / (trials[0] + trials[1])\n",
    "\n",
    "    # разница пропорций в датасетах\n",
    "    difference = p1 - p2 \n",
    "\n",
    "    # считаем статистику в ст.отклонениях стандартного нормального распределения\n",
    "    z_value = difference / mth.sqrt(p_combined * (1 - p_combined) * (1/trials[0] + 1/trials[1]))\n",
    "\n",
    "    # задаем стандартное нормальное распределение (среднее 0, ст.отклонение 1)\n",
    "    distr = st.norm(0, 1)  \n",
    "\n",
    "    # считаем статистику в ст.отклонениях стандартного нормального распределения\n",
    "    z_value = difference / mth.sqrt(p_combined * (1 - p_combined) * (1 / trials[0] + 1 / trials[1]))\n",
    "\n",
    "    # задаем стандартное нормальное распределение (среднее 0, ст.отклонение 1)\n",
    "    distr = st.norm(0, 1)\n",
    "\n",
    "    p_value = (1 - distr.cdf(abs(z_value))) * 2\n",
    "\n",
    "    print('p-значение: ', p_value)\n",
    "    \n",
    "    if p_value < alpha:\n",
    "        print('Отвергаем нулевую гипотезу: между долями есть значимая разница')\n",
    "    else:\n",
    "        print('Не получилось отвергнуть нулевую гипотезу, нет оснований считать доли разными') \n",
    "    "
   ]
  },
  {
   "cell_type": "code",
   "execution_count": 32,
   "metadata": {},
   "outputs": [],
   "source": [
    "cross_section_of_the_dataframe_by_group_a1 = logs_result.query('exp_id == 246')\n",
    "cross_section_of_the_dataframe_by_group_a2 = logs_result.query('exp_id == 247')\n",
    "cross_section_of_the_dataframe_by_group_b = logs_result.query('exp_id == 248')"
   ]
  },
  {
   "cell_type": "code",
   "execution_count": 33,
   "metadata": {
    "scrolled": true
   },
   "outputs": [
    {
     "name": "stdout",
     "output_type": "stream",
     "text": [
      "p-значение:  0.11456679313141849\n",
      "Не получилось отвергнуть нулевую гипотезу, нет оснований считать доли разными\n"
     ]
    }
   ],
   "source": [
    "test_the_hypothesis_about_the_equality_of_sample_proportions(\n",
    "    cross_section_of_the_dataframe_by_group_a1, cross_section_of_the_dataframe_by_group_a2, 'PaymentScreenSuccessful', 0.05\n",
    ")"
   ]
  },
  {
   "cell_type": "markdown",
   "metadata": {},
   "source": [
    "Нулевую гипотезу о различии в пропорциях выборок мы не можем отвергнуть. Это значит, **что мы можем их считать равными, а это позволяет нам перейти к А/В-тесту и быть уверенными в полученном результате теста.**"
   ]
  },
  {
   "cell_type": "markdown",
   "metadata": {},
   "source": [
    "#### Проверка отличий между группами по каждому событию на вопрос статистической достоверности"
   ]
  },
  {
   "cell_type": "code",
   "execution_count": 34,
   "metadata": {},
   "outputs": [
    {
     "data": {
      "text/html": [
       "<div>\n",
       "<style scoped>\n",
       "    .dataframe tbody tr th:only-of-type {\n",
       "        vertical-align: middle;\n",
       "    }\n",
       "\n",
       "    .dataframe tbody tr th {\n",
       "        vertical-align: top;\n",
       "    }\n",
       "\n",
       "    .dataframe thead th {\n",
       "        text-align: right;\n",
       "    }\n",
       "</style>\n",
       "<table border=\"1\" class=\"dataframe\">\n",
       "  <thead>\n",
       "    <tr style=\"text-align: right;\">\n",
       "      <th>exp_id</th>\n",
       "      <th>event_name</th>\n",
       "      <th>246</th>\n",
       "      <th>247</th>\n",
       "      <th>248</th>\n",
       "    </tr>\n",
       "  </thead>\n",
       "  <tbody>\n",
       "    <tr>\n",
       "      <th>0</th>\n",
       "      <td>MainScreenAppear</td>\n",
       "      <td>2450</td>\n",
       "      <td>2476</td>\n",
       "      <td>2493</td>\n",
       "    </tr>\n",
       "    <tr>\n",
       "      <th>1</th>\n",
       "      <td>OffersScreenAppear</td>\n",
       "      <td>1542</td>\n",
       "      <td>1520</td>\n",
       "      <td>1531</td>\n",
       "    </tr>\n",
       "    <tr>\n",
       "      <th>2</th>\n",
       "      <td>CartScreenAppear</td>\n",
       "      <td>1266</td>\n",
       "      <td>1238</td>\n",
       "      <td>1230</td>\n",
       "    </tr>\n",
       "    <tr>\n",
       "      <th>3</th>\n",
       "      <td>PaymentScreenSuccessful</td>\n",
       "      <td>1200</td>\n",
       "      <td>1158</td>\n",
       "      <td>1181</td>\n",
       "    </tr>\n",
       "  </tbody>\n",
       "</table>\n",
       "</div>"
      ],
      "text/plain": [
       "exp_id               event_name   246   247   248\n",
       "0              MainScreenAppear  2450  2476  2493\n",
       "1            OffersScreenAppear  1542  1520  1531\n",
       "2              CartScreenAppear  1266  1238  1230\n",
       "3       PaymentScreenSuccessful  1200  1158  1181"
      ]
     },
     "execution_count": 34,
     "metadata": {},
     "output_type": "execute_result"
    }
   ],
   "source": [
    "#Посчитаем число пользователей, совершивших каждое событие в каждой из контрольных групп\n",
    "#А также посчитаем долю пользователей, совершивших это событие\n",
    "logs_result_without_tutorial = logs_result.query('event_name != \"Tutorial\"')\n",
    "table_test = logs_result_without_tutorial.pivot_table(\n",
    "    index='event_name', \n",
    "    columns='exp_id',\n",
    "    values='device_id',\n",
    "    aggfunc='nunique'\n",
    ").sort_values(246, ascending=False).reset_index()\n",
    "table_test"
   ]
  },
  {
   "cell_type": "code",
   "execution_count": 35,
   "metadata": {
    "scrolled": true
   },
   "outputs": [
    {
     "name": "stderr",
     "output_type": "stream",
     "text": [
      "C:\\Users\\snaki\\AppData\\Local\\Temp\\ipykernel_24672\\3822367128.py:13: FutureWarning:\n",
      "\n",
      "Dropping of nuisance columns in DataFrame reductions (with 'numeric_only=None') is deprecated; in a future version this will raise TypeError.  Select only valid columns before calling the reduction.\n",
      "\n"
     ]
    },
    {
     "data": {
      "text/html": [
       "<div>\n",
       "<style scoped>\n",
       "    .dataframe tbody tr th:only-of-type {\n",
       "        vertical-align: middle;\n",
       "    }\n",
       "\n",
       "    .dataframe tbody tr th {\n",
       "        vertical-align: top;\n",
       "    }\n",
       "\n",
       "    .dataframe thead th {\n",
       "        text-align: right;\n",
       "    }\n",
       "</style>\n",
       "<table border=\"1\" class=\"dataframe\">\n",
       "  <thead>\n",
       "    <tr style=\"text-align: right;\">\n",
       "      <th></th>\n",
       "      <th>event</th>\n",
       "      <th>a1</th>\n",
       "      <th>a2</th>\n",
       "      <th>b</th>\n",
       "      <th>a</th>\n",
       "      <th>sum</th>\n",
       "      <th>ratio_a1, %</th>\n",
       "      <th>ratio_a2, %</th>\n",
       "      <th>ratio_b, %</th>\n",
       "      <th>ratio_a, %</th>\n",
       "    </tr>\n",
       "  </thead>\n",
       "  <tbody>\n",
       "    <tr>\n",
       "      <th>0</th>\n",
       "      <td>MainScreenAppear</td>\n",
       "      <td>2450</td>\n",
       "      <td>2476</td>\n",
       "      <td>2493</td>\n",
       "      <td>4926</td>\n",
       "      <td>12345</td>\n",
       "      <td>19.85</td>\n",
       "      <td>20.06</td>\n",
       "      <td>20.19</td>\n",
       "      <td>39.90</td>\n",
       "    </tr>\n",
       "    <tr>\n",
       "      <th>1</th>\n",
       "      <td>OffersScreenAppear</td>\n",
       "      <td>1542</td>\n",
       "      <td>1520</td>\n",
       "      <td>1531</td>\n",
       "      <td>3062</td>\n",
       "      <td>7655</td>\n",
       "      <td>20.14</td>\n",
       "      <td>19.86</td>\n",
       "      <td>20.00</td>\n",
       "      <td>40.00</td>\n",
       "    </tr>\n",
       "    <tr>\n",
       "      <th>2</th>\n",
       "      <td>CartScreenAppear</td>\n",
       "      <td>1266</td>\n",
       "      <td>1238</td>\n",
       "      <td>1230</td>\n",
       "      <td>2504</td>\n",
       "      <td>6238</td>\n",
       "      <td>20.29</td>\n",
       "      <td>19.85</td>\n",
       "      <td>19.72</td>\n",
       "      <td>40.14</td>\n",
       "    </tr>\n",
       "    <tr>\n",
       "      <th>3</th>\n",
       "      <td>PaymentScreenSuccessful</td>\n",
       "      <td>1200</td>\n",
       "      <td>1158</td>\n",
       "      <td>1181</td>\n",
       "      <td>2358</td>\n",
       "      <td>5897</td>\n",
       "      <td>20.35</td>\n",
       "      <td>19.64</td>\n",
       "      <td>20.03</td>\n",
       "      <td>39.99</td>\n",
       "    </tr>\n",
       "  </tbody>\n",
       "</table>\n",
       "</div>"
      ],
      "text/plain": [
       "                     event    a1    a2     b     a    sum  ratio_a1, %  \\\n",
       "0         MainScreenAppear  2450  2476  2493  4926  12345        19.85   \n",
       "1       OffersScreenAppear  1542  1520  1531  3062   7655        20.14   \n",
       "2         CartScreenAppear  1266  1238  1230  2504   6238        20.29   \n",
       "3  PaymentScreenSuccessful  1200  1158  1181  2358   5897        20.35   \n",
       "\n",
       "   ratio_a2, %  ratio_b, %  ratio_a, %  \n",
       "0        20.06       20.19       39.90  \n",
       "1        19.86       20.00       40.00  \n",
       "2        19.85       19.72       40.14  \n",
       "3        19.64       20.03       39.99  "
      ]
     },
     "execution_count": 35,
     "metadata": {},
     "output_type": "execute_result"
    }
   ],
   "source": [
    "#Посчитаем число пользователей, совершивших каждое событие в каждой из контрольных групп\n",
    "#А также посчитаем долю пользователей, совершивших это событие\n",
    "logs_result_without_tutorial = logs_result.query('event_name != \"Tutorial\"')\n",
    "table_test = logs_result_without_tutorial.pivot_table(\n",
    "    index='event_name', \n",
    "    columns='exp_id',\n",
    "    values='device_id',\n",
    "    aggfunc='nunique'\n",
    ").sort_values(246, ascending=False).reset_index()\n",
    "table_test.columns = ['event','a1','a2','b']\n",
    "table_test['a'] = table_test['a1']+table_test['a2']\n",
    "\n",
    "table_test['sum'] = table_test.sum(axis=1)\n",
    "table_test['ratio_a1, %'] = round((table_test['a1'] / table_test['sum'] * 100), 2)\n",
    "table_test['ratio_a2, %'] = round((table_test['a2'] / table_test['sum'] * 100), 2)\n",
    "table_test['ratio_b, %'] = round((table_test['b'] / table_test['sum'] * 100), 2)\n",
    "table_test['ratio_a, %'] = round((table_test['a'] / table_test['sum'] * 100), 2)\n",
    "table_test"
   ]
  },
  {
   "cell_type": "markdown",
   "metadata": {},
   "source": [
    "На первый взгляд, можно сделать предварительный вывод по полученной таблице, что **контрольные группы на каждом отдельном событии +- равны (их доли составляют в среднем 33%), что означает, что изменение шрифта не повлияло на желание пользователей взаимодействовать с приложением.** Но нужно проверить это через z-test."
   ]
  },
  {
   "cell_type": "markdown",
   "metadata": {},
   "source": [
    "#### Проверка гипотезы о равенстве пропорций по событию MainScreenAppear"
   ]
  },
  {
   "cell_type": "markdown",
   "metadata": {},
   "source": [
    "Проверим гипотезы о равенстве пропорций выборок **а1 и а2 / a1 и b / a2 и b** по событию MainScreenAppear\n",
    "\n",
    "**Нулевая гипотеза:** различий в пропорциях выборок **а1 и а2 / a1 и b / a2 и b** по событию MainScreenAppear нет\n",
    "\n",
    "**Альтернативная гипотеза:** различия в пропорциях выборок **а1 и а2 / a1 и b / a2 и b** по событию MainScreenAppear есть"
   ]
  },
  {
   "cell_type": "code",
   "execution_count": 36,
   "metadata": {},
   "outputs": [
    {
     "name": "stdout",
     "output_type": "stream",
     "text": [
      "p-значение:  0.7570597232046099\n",
      "Не получилось отвергнуть нулевую гипотезу, нет оснований считать доли разными\n"
     ]
    }
   ],
   "source": [
    "#Проверим гипотезу о равенстве пропорций выборок a1 и a2 по событию MainScreenAppear\n",
    "test_the_hypothesis_about_the_equality_of_sample_proportions(\n",
    "    cross_section_of_the_dataframe_by_group_a1, cross_section_of_the_dataframe_by_group_a2, 'MainScreenAppear', 0.05\n",
    ")"
   ]
  },
  {
   "cell_type": "markdown",
   "metadata": {},
   "source": [
    "Пропорции выборок **при изучении события MainScreenAppear можно считать одинаковыми** в обеих контрольных группах."
   ]
  },
  {
   "cell_type": "code",
   "execution_count": 37,
   "metadata": {},
   "outputs": [
    {
     "name": "stdout",
     "output_type": "stream",
     "text": [
      "p-значение:  0.2949721933554552\n",
      "Не получилось отвергнуть нулевую гипотезу, нет оснований считать доли разными\n"
     ]
    }
   ],
   "source": [
    "#Проверим гипотезу о равенстве пропорций выборок a1 и b по событию MainScreenAppear\n",
    "test_the_hypothesis_about_the_equality_of_sample_proportions(\n",
    "    cross_section_of_the_dataframe_by_group_a1, cross_section_of_the_dataframe_by_group_b, 'MainScreenAppear', 0.05\n",
    ")"
   ]
  },
  {
   "cell_type": "markdown",
   "metadata": {},
   "source": [
    "Пропорции выборок **при изучении события MainScreenAppear можно считать одинаковыми** в обеих контрольных группах."
   ]
  },
  {
   "cell_type": "code",
   "execution_count": 38,
   "metadata": {
    "scrolled": true
   },
   "outputs": [
    {
     "name": "stdout",
     "output_type": "stream",
     "text": [
      "p-значение:  0.4587053616621515\n",
      "Не получилось отвергнуть нулевую гипотезу, нет оснований считать доли разными\n"
     ]
    }
   ],
   "source": [
    "#Проверим гипотезу о равенстве пропорций выборок a2 и b по событию MainScreenAppear\n",
    "test_the_hypothesis_about_the_equality_of_sample_proportions(\n",
    "    cross_section_of_the_dataframe_by_group_a2, cross_section_of_the_dataframe_by_group_b, 'MainScreenAppear', 0.05\n",
    ")"
   ]
  },
  {
   "cell_type": "markdown",
   "metadata": {},
   "source": [
    "Пропорции выборок **при изучении события MainScreenAppear можно считать одинаковыми** в обеих контрольных группах."
   ]
  },
  {
   "cell_type": "markdown",
   "metadata": {},
   "source": [
    "**В результате z-test по событию MainScreenAppear мы выяснили, что изменение шрифта никак не повлияло на желание пользователей взаимодействовать с приложением.**"
   ]
  },
  {
   "cell_type": "markdown",
   "metadata": {},
   "source": [
    "#### Проверка гипотезы о равенстве пропорций по событию OffersScreenAppear"
   ]
  },
  {
   "cell_type": "markdown",
   "metadata": {},
   "source": [
    "Проверим гипотезы о равенстве пропорций выборок **а1 и а2 / a1 и b / a2 и b** по событию OffersScreenAppear\n",
    "\n",
    "**Нулевая гипотеза:** различий в пропорциях выборок **а1 и а2 / a1 и b / a2 и b** по событию OffersScreenAppear нет\n",
    "\n",
    "**Альтернативная гипотеза:** различия в пропорциях выборок **а1 и а2 / a1 и b / a2 и b** по событию OffersScreenAppear есть"
   ]
  },
  {
   "cell_type": "code",
   "execution_count": 39,
   "metadata": {
    "scrolled": true
   },
   "outputs": [
    {
     "name": "stdout",
     "output_type": "stream",
     "text": [
      "p-значение:  0.2480954578522181\n",
      "Не получилось отвергнуть нулевую гипотезу, нет оснований считать доли разными\n"
     ]
    }
   ],
   "source": [
    "#Проверим гипотезу о равенстве пропорций выборок a1 и a2 по событию OffersScreenAppear\n",
    "test_the_hypothesis_about_the_equality_of_sample_proportions(\n",
    "    cross_section_of_the_dataframe_by_group_a1, cross_section_of_the_dataframe_by_group_a2, 'OffersScreenAppear', 0.05\n",
    ")"
   ]
  },
  {
   "cell_type": "markdown",
   "metadata": {},
   "source": [
    "Пропорции выборок **при изучении события OffersScreenAppear можно считать одинаковыми** в обеих контрольных группах."
   ]
  },
  {
   "cell_type": "code",
   "execution_count": 40,
   "metadata": {},
   "outputs": [
    {
     "name": "stdout",
     "output_type": "stream",
     "text": [
      "p-значение:  0.20836205402738917\n",
      "Не получилось отвергнуть нулевую гипотезу, нет оснований считать доли разными\n"
     ]
    }
   ],
   "source": [
    "#Проверим гипотезу о равенстве пропорций выборок a1 и b по событию OffersScreenAppear\n",
    "test_the_hypothesis_about_the_equality_of_sample_proportions(\n",
    "    cross_section_of_the_dataframe_by_group_a1, cross_section_of_the_dataframe_by_group_b, 'OffersScreenAppear', 0.05\n",
    ")"
   ]
  },
  {
   "cell_type": "markdown",
   "metadata": {},
   "source": [
    "Пропорции выборок **при изучении события OffersScreenAppear можно считать одинаковыми** в обеих контрольных группах."
   ]
  },
  {
   "cell_type": "code",
   "execution_count": 41,
   "metadata": {},
   "outputs": [
    {
     "name": "stdout",
     "output_type": "stream",
     "text": [
      "p-значение:  0.9197817830592261\n",
      "Не получилось отвергнуть нулевую гипотезу, нет оснований считать доли разными\n"
     ]
    }
   ],
   "source": [
    "#Проверим гипотезу о равенстве пропорций выборок a2 и b по событию OffersScreenAppear\n",
    "test_the_hypothesis_about_the_equality_of_sample_proportions(\n",
    "    cross_section_of_the_dataframe_by_group_a2, cross_section_of_the_dataframe_by_group_b, 'OffersScreenAppear', 0.05\n",
    ")"
   ]
  },
  {
   "cell_type": "markdown",
   "metadata": {},
   "source": [
    "Пропорции выборок **при изучении события OffersScreenAppear можно считать одинаковыми** в обеих контрольных группах."
   ]
  },
  {
   "cell_type": "markdown",
   "metadata": {},
   "source": [
    "**В результате z-test по событию OffersScreenAppear мы выяснили, что изменение шрифта никак не повлияло на желание пользователей взаимодействовать с приложением.**"
   ]
  },
  {
   "cell_type": "markdown",
   "metadata": {},
   "source": [
    "#### Проверка гипотезы о равенстве пропорций по событию CartScreenAppear"
   ]
  },
  {
   "cell_type": "markdown",
   "metadata": {},
   "source": [
    "Проверим гипотезы о равенстве пропорций выборок **а1 и а2 / a1 и b / a2 и b** по событию CartScreenAppear\n",
    "\n",
    "**Нулевая гипотеза:** различий в пропорциях выборок **а1 и а2 / a1 и b / a2 и b** по событию CartScreenAppear нет\n",
    "\n",
    "**Альтернативная гипотеза:** различия в пропорциях выборок **а1 и а2 / a1 и b / a2 и b** по событию CartScreenAppear есть"
   ]
  },
  {
   "cell_type": "code",
   "execution_count": 42,
   "metadata": {
    "scrolled": true
   },
   "outputs": [
    {
     "name": "stdout",
     "output_type": "stream",
     "text": [
      "p-значение:  0.22883372237997213\n",
      "Не получилось отвергнуть нулевую гипотезу, нет оснований считать доли разными\n"
     ]
    }
   ],
   "source": [
    "#Проверим гипотезу о равенстве пропорций выборок a1 и a2 по событию CartScreenAppear\n",
    "test_the_hypothesis_about_the_equality_of_sample_proportions(\n",
    "    cross_section_of_the_dataframe_by_group_a1, cross_section_of_the_dataframe_by_group_a2, 'CartScreenAppear', 0.05\n",
    ")"
   ]
  },
  {
   "cell_type": "markdown",
   "metadata": {},
   "source": [
    "Пропорции выборок **при изучении события CartScreenAppear можно считать одинаковыми** в обеих контрольных группах."
   ]
  },
  {
   "cell_type": "code",
   "execution_count": 43,
   "metadata": {},
   "outputs": [
    {
     "name": "stdout",
     "output_type": "stream",
     "text": [
      "p-значение:  0.07842923237520116\n",
      "Не получилось отвергнуть нулевую гипотезу, нет оснований считать доли разными\n"
     ]
    }
   ],
   "source": [
    "#Проверим гипотезу о равенстве пропорций выборок a1 и b по событию CartScreenAppear\n",
    "test_the_hypothesis_about_the_equality_of_sample_proportions(\n",
    "    cross_section_of_the_dataframe_by_group_a1, cross_section_of_the_dataframe_by_group_b, 'CartScreenAppear', 0.05\n",
    ")"
   ]
  },
  {
   "cell_type": "markdown",
   "metadata": {},
   "source": [
    "Пропорции выборок **при изучении события CartScreenAppear можно считать одинаковыми** в обеих контрольных группах."
   ]
  },
  {
   "cell_type": "code",
   "execution_count": 44,
   "metadata": {
    "scrolled": true
   },
   "outputs": [
    {
     "name": "stdout",
     "output_type": "stream",
     "text": [
      "p-значение:  0.5786197879539783\n",
      "Не получилось отвергнуть нулевую гипотезу, нет оснований считать доли разными\n"
     ]
    }
   ],
   "source": [
    "#Проверим гипотезу о равенстве пропорций выборок a2 и b по событию CartScreenAppear\n",
    "test_the_hypothesis_about_the_equality_of_sample_proportions(\n",
    "    cross_section_of_the_dataframe_by_group_a2, cross_section_of_the_dataframe_by_group_b, 'CartScreenAppear', 0.05\n",
    ")"
   ]
  },
  {
   "cell_type": "markdown",
   "metadata": {},
   "source": [
    "Пропорции выборок **при изучении события CartScreenAppear можно считать одинаковыми** в обеих контрольных группах."
   ]
  },
  {
   "cell_type": "markdown",
   "metadata": {},
   "source": [
    "**В результате z-test по событию CartScreenAppear мы выяснили, что изменение шрифта никак не повлияло на желание пользователей взаимодействовать с приложением.**"
   ]
  },
  {
   "cell_type": "markdown",
   "metadata": {},
   "source": [
    "#### Проверка гипотезы о равенстве пропорций по событию PaymentScreenSuccessful"
   ]
  },
  {
   "cell_type": "markdown",
   "metadata": {},
   "source": [
    "Проверим гипотезы о равенстве пропорций выборок **а1 и а2 / a1 и b / a2 и b** по событию PaymentScreenSuccessful\n",
    "\n",
    "**Нулевая гипотеза:** различий в пропорциях выборок **а1 и а2 / a1 и b / a2 и b** по событию PaymentScreenSuccessful нет\n",
    "\n",
    "**Альтернативная гипотеза:** различия в пропорциях выборок **а1 и а2 / a1 и b / a2 и b** по событию PaymentScreenSuccessful есть"
   ]
  },
  {
   "cell_type": "code",
   "execution_count": 45,
   "metadata": {
    "scrolled": true
   },
   "outputs": [
    {
     "name": "stdout",
     "output_type": "stream",
     "text": [
      "p-значение:  0.11456679313141849\n",
      "Не получилось отвергнуть нулевую гипотезу, нет оснований считать доли разными\n"
     ]
    }
   ],
   "source": [
    "#Проверим гипотезу о равенстве пропорций выборок a1 и a2 по событию PaymentScreenSuccessful\n",
    "test_the_hypothesis_about_the_equality_of_sample_proportions(\n",
    "    cross_section_of_the_dataframe_by_group_a1, cross_section_of_the_dataframe_by_group_a2, 'PaymentScreenSuccessful', 0.05\n",
    ")"
   ]
  },
  {
   "cell_type": "markdown",
   "metadata": {},
   "source": [
    "Пропорции выборок **при изучении события PaymentScreenSuccessful можно считать одинаковыми** в обеих контрольных группах."
   ]
  },
  {
   "cell_type": "code",
   "execution_count": 46,
   "metadata": {},
   "outputs": [
    {
     "name": "stdout",
     "output_type": "stream",
     "text": [
      "p-значение:  0.2122553275697796\n",
      "Не получилось отвергнуть нулевую гипотезу, нет оснований считать доли разными\n"
     ]
    }
   ],
   "source": [
    "#Проверим гипотезу о равенстве пропорций выборок a1 и b по событию PaymentScreenSuccessful\n",
    "test_the_hypothesis_about_the_equality_of_sample_proportions(\n",
    "    cross_section_of_the_dataframe_by_group_a1, cross_section_of_the_dataframe_by_group_b, 'PaymentScreenSuccessful', 0.05\n",
    ")"
   ]
  },
  {
   "cell_type": "markdown",
   "metadata": {},
   "source": [
    "Пропорции выборок **при изучении события PaymentScreenSuccessful можно считать одинаковыми** в обеих контрольных группах."
   ]
  },
  {
   "cell_type": "code",
   "execution_count": 47,
   "metadata": {
    "scrolled": true
   },
   "outputs": [
    {
     "name": "stdout",
     "output_type": "stream",
     "text": [
      "p-значение:  0.7373415053803964\n",
      "Не получилось отвергнуть нулевую гипотезу, нет оснований считать доли разными\n"
     ]
    }
   ],
   "source": [
    "#Проверим гипотезу о равенстве пропорций выборок a2 и b по событию PaymentScreenSuccessful\n",
    "test_the_hypothesis_about_the_equality_of_sample_proportions(\n",
    "    cross_section_of_the_dataframe_by_group_a2, cross_section_of_the_dataframe_by_group_b, 'PaymentScreenSuccessful', 0.05\n",
    ")"
   ]
  },
  {
   "cell_type": "markdown",
   "metadata": {},
   "source": [
    "Пропорции выборок **при изучении события PaymentScreenSuccessful можно считать одинаковыми** в обеих контрольных группах."
   ]
  },
  {
   "cell_type": "markdown",
   "metadata": {},
   "source": [
    "**В результате z-test по событию PaymentScreenSuccessful мы выяснили, что изменение шрифта никак не повлияло на желание пользователей взаимодействовать с приложением.**"
   ]
  },
  {
   "cell_type": "markdown",
   "metadata": {},
   "source": [
    "### Проверка гипотезы о равенстве пропорций объединенной контрольной группы с группой с измененным шрифтом по разным событиям"
   ]
  },
  {
   "cell_type": "code",
   "execution_count": 48,
   "metadata": {},
   "outputs": [
    {
     "data": {
      "text/html": [
       "<div>\n",
       "<style scoped>\n",
       "    .dataframe tbody tr th:only-of-type {\n",
       "        vertical-align: middle;\n",
       "    }\n",
       "\n",
       "    .dataframe tbody tr th {\n",
       "        vertical-align: top;\n",
       "    }\n",
       "\n",
       "    .dataframe thead th {\n",
       "        text-align: right;\n",
       "    }\n",
       "</style>\n",
       "<table border=\"1\" class=\"dataframe\">\n",
       "  <thead>\n",
       "    <tr style=\"text-align: right;\">\n",
       "      <th></th>\n",
       "      <th>event_name</th>\n",
       "      <th>device_id</th>\n",
       "      <th>exp_id</th>\n",
       "      <th>event_time</th>\n",
       "      <th>event_date</th>\n",
       "    </tr>\n",
       "  </thead>\n",
       "  <tbody>\n",
       "    <tr>\n",
       "      <th>2826</th>\n",
       "      <td>Tutorial</td>\n",
       "      <td>3737462046622621720</td>\n",
       "      <td>246</td>\n",
       "      <td>2019-08-01 00:07:28</td>\n",
       "      <td>2019-08-01</td>\n",
       "    </tr>\n",
       "    <tr>\n",
       "      <th>2827</th>\n",
       "      <td>MainScreenAppear</td>\n",
       "      <td>3737462046622621720</td>\n",
       "      <td>246</td>\n",
       "      <td>2019-08-01 00:08:00</td>\n",
       "      <td>2019-08-01</td>\n",
       "    </tr>\n",
       "    <tr>\n",
       "      <th>2828</th>\n",
       "      <td>MainScreenAppear</td>\n",
       "      <td>3737462046622621720</td>\n",
       "      <td>246</td>\n",
       "      <td>2019-08-01 00:08:55</td>\n",
       "      <td>2019-08-01</td>\n",
       "    </tr>\n",
       "    <tr>\n",
       "      <th>2829</th>\n",
       "      <td>OffersScreenAppear</td>\n",
       "      <td>3737462046622621720</td>\n",
       "      <td>246</td>\n",
       "      <td>2019-08-01 00:08:58</td>\n",
       "      <td>2019-08-01</td>\n",
       "    </tr>\n",
       "    <tr>\n",
       "      <th>2830</th>\n",
       "      <td>MainScreenAppear</td>\n",
       "      <td>1433840883824088890</td>\n",
       "      <td>247</td>\n",
       "      <td>2019-08-01 00:08:59</td>\n",
       "      <td>2019-08-01</td>\n",
       "    </tr>\n",
       "  </tbody>\n",
       "</table>\n",
       "</div>"
      ],
      "text/plain": [
       "              event_name            device_id  exp_id          event_time  \\\n",
       "2826            Tutorial  3737462046622621720     246 2019-08-01 00:07:28   \n",
       "2827    MainScreenAppear  3737462046622621720     246 2019-08-01 00:08:00   \n",
       "2828    MainScreenAppear  3737462046622621720     246 2019-08-01 00:08:55   \n",
       "2829  OffersScreenAppear  3737462046622621720     246 2019-08-01 00:08:58   \n",
       "2830    MainScreenAppear  1433840883824088890     247 2019-08-01 00:08:59   \n",
       "\n",
       "      event_date  \n",
       "2826  2019-08-01  \n",
       "2827  2019-08-01  \n",
       "2828  2019-08-01  \n",
       "2829  2019-08-01  \n",
       "2830  2019-08-01  "
      ]
     },
     "metadata": {},
     "output_type": "display_data"
    }
   ],
   "source": [
    "#Объединим контрольные группы а1 и а2 в а\n",
    "cross_section_of_the_dataframe_by_group_a = logs_result.query('exp_id == 246 | exp_id == 247')\n",
    "display(cross_section_of_the_dataframe_by_group_a.head(5))"
   ]
  },
  {
   "cell_type": "code",
   "execution_count": 49,
   "metadata": {},
   "outputs": [
    {
     "data": {
      "text/html": [
       "<div>\n",
       "<style scoped>\n",
       "    .dataframe tbody tr th:only-of-type {\n",
       "        vertical-align: middle;\n",
       "    }\n",
       "\n",
       "    .dataframe tbody tr th {\n",
       "        vertical-align: top;\n",
       "    }\n",
       "\n",
       "    .dataframe thead th {\n",
       "        text-align: right;\n",
       "    }\n",
       "</style>\n",
       "<table border=\"1\" class=\"dataframe\">\n",
       "  <thead>\n",
       "    <tr style=\"text-align: right;\">\n",
       "      <th></th>\n",
       "      <th>exp_id</th>\n",
       "      <th>device_id</th>\n",
       "    </tr>\n",
       "  </thead>\n",
       "  <tbody>\n",
       "    <tr>\n",
       "      <th>0</th>\n",
       "      <td>246</td>\n",
       "      <td>2484</td>\n",
       "    </tr>\n",
       "    <tr>\n",
       "      <th>1</th>\n",
       "      <td>247</td>\n",
       "      <td>2513</td>\n",
       "    </tr>\n",
       "  </tbody>\n",
       "</table>\n",
       "</div>"
      ],
      "text/plain": [
       "   exp_id  device_id\n",
       "0     246       2484\n",
       "1     247       2513"
      ]
     },
     "metadata": {},
     "output_type": "display_data"
    }
   ],
   "source": [
    "cross_section_of_the_dataframe_by_group_a_check = cross_section_of_the_dataframe_by_group_a.groupby('exp_id')['device_id'].nunique().reset_index()\n",
    "display(cross_section_of_the_dataframe_by_group_a_check)"
   ]
  },
  {
   "cell_type": "markdown",
   "metadata": {},
   "source": [
    "Проверим гипотезы о равенстве пропорций выборок **а и b** по событию MainScreenAppear\n",
    "\n",
    "**Нулевая гипотеза:** различий в пропорциях выборок **а и b** по событию MainScreenAppear нет\n",
    "\n",
    "**Альтернативная гипотеза:** различия в пропорциях выборок **а и b** по событию MainScreenAppear есть"
   ]
  },
  {
   "cell_type": "code",
   "execution_count": 50,
   "metadata": {},
   "outputs": [
    {
     "name": "stdout",
     "output_type": "stream",
     "text": [
      "p-значение:  0.29424526837179577\n",
      "Не получилось отвергнуть нулевую гипотезу, нет оснований считать доли разными\n"
     ]
    }
   ],
   "source": [
    "#Проверим гипотезу о равенстве пропорций выборок а и b по событию MainScreenAppear\n",
    "test_the_hypothesis_about_the_equality_of_sample_proportions(\n",
    "    cross_section_of_the_dataframe_by_group_a, cross_section_of_the_dataframe_by_group_b, 'MainScreenAppear', 0.05\n",
    ")"
   ]
  },
  {
   "cell_type": "markdown",
   "metadata": {},
   "source": [
    "Пропорции выборок **при изучении события MainScreenAppear можно считать одинаковыми** в обеих контрольных группах."
   ]
  },
  {
   "cell_type": "markdown",
   "metadata": {},
   "source": [
    "Проверим гипотезы о равенстве пропорций выборок **а и b** по событию OffersScreenAppear\n",
    "\n",
    "**Нулевая гипотеза:** различий в пропорциях выборок **а и b** по событию OffersScreenAppear нет\n",
    "\n",
    "**Альтернативная гипотеза:** различия в пропорциях выборок **а и b** по событию OffersScreenAppear есть"
   ]
  },
  {
   "cell_type": "code",
   "execution_count": 51,
   "metadata": {
    "scrolled": true
   },
   "outputs": [
    {
     "name": "stdout",
     "output_type": "stream",
     "text": [
      "p-значение:  0.43425549655188256\n",
      "Не получилось отвергнуть нулевую гипотезу, нет оснований считать доли разными\n"
     ]
    }
   ],
   "source": [
    "#Проверим гипотезу о равенстве пропорций выборок а и b по событию OffersScreenAppear\n",
    "test_the_hypothesis_about_the_equality_of_sample_proportions(\n",
    "    cross_section_of_the_dataframe_by_group_a, cross_section_of_the_dataframe_by_group_b, 'OffersScreenAppear', 0.05\n",
    ")"
   ]
  },
  {
   "cell_type": "markdown",
   "metadata": {},
   "source": [
    "Пропорции выборок **при изучении события OffersScreenAppear можно считать одинаковыми** в обеих контрольных группах."
   ]
  },
  {
   "cell_type": "markdown",
   "metadata": {},
   "source": [
    "Проверим гипотезы о равенстве пропорций выборок **а и b** по событию CartScreenAppear\n",
    "\n",
    "**Нулевая гипотеза:** различий в пропорциях выборок **а и b** по событию CartScreenAppear нет\n",
    "\n",
    "**Альтернативная гипотеза:** различия в пропорциях выборок **а и b** по событию CartScreenAppear есть"
   ]
  },
  {
   "cell_type": "code",
   "execution_count": 52,
   "metadata": {
    "scrolled": true
   },
   "outputs": [
    {
     "name": "stdout",
     "output_type": "stream",
     "text": [
      "p-значение:  0.18175875284404386\n",
      "Не получилось отвергнуть нулевую гипотезу, нет оснований считать доли разными\n"
     ]
    }
   ],
   "source": [
    "#Проверим гипотезу о равенстве пропорций выборок а и b по событию CartScreenAppear\n",
    "test_the_hypothesis_about_the_equality_of_sample_proportions(\n",
    "    cross_section_of_the_dataframe_by_group_a, cross_section_of_the_dataframe_by_group_b, 'CartScreenAppear', 0.05\n",
    ")"
   ]
  },
  {
   "cell_type": "markdown",
   "metadata": {},
   "source": [
    "Пропорции выборок **при изучении события CartScreenAppear можно считать одинаковыми** в обеих контрольных группах."
   ]
  },
  {
   "cell_type": "markdown",
   "metadata": {},
   "source": [
    "Проверим гипотезу о равенстве пропорций выборок а и b по событию PaymentScreenSuccessful\n",
    "\n",
    "**Нулевая гипотеза:** различий в пропорциях выборок а и b по событию PaymentScreenSuccessful нет\n",
    "\n",
    "**Альтернативная гипотеза:** различия в пропорциях выборок а и b по событию PaymentScreenSuccessful есть"
   ]
  },
  {
   "cell_type": "code",
   "execution_count": 53,
   "metadata": {
    "scrolled": true
   },
   "outputs": [
    {
     "name": "stdout",
     "output_type": "stream",
     "text": [
      "p-значение:  0.6004294282308704\n",
      "Не получилось отвергнуть нулевую гипотезу, нет оснований считать доли разными\n"
     ]
    }
   ],
   "source": [
    "test_the_hypothesis_about_the_equality_of_sample_proportions(\n",
    "    cross_section_of_the_dataframe_by_group_a, cross_section_of_the_dataframe_by_group_b, 'PaymentScreenSuccessful', 0.05\n",
    ")"
   ]
  },
  {
   "cell_type": "markdown",
   "metadata": {},
   "source": [
    "Пропорции выборок **при изучении события PaymentScreenSuccessful можно считать одинаковыми** в обеих контрольных группах. \n",
    "\n",
    "Данный анализ показывает, что **изменение шрифта и в данном случае не влияет на восприятие пользователей интерфейса сайта.**"
   ]
  },
  {
   "cell_type": "markdown",
   "metadata": {},
   "source": [
    "### Поправка Бонферрони. Проверка гипотезы о равенстве пропорций выборок 246 и 247 (a1 и a2)"
   ]
  },
  {
   "cell_type": "markdown",
   "metadata": {},
   "source": [
    "**Пересчитаем наши гипотезы с уровнем значимости, посчитанном с учетом поправки Бонферрони.**"
   ]
  },
  {
   "cell_type": "code",
   "execution_count": 54,
   "metadata": {},
   "outputs": [],
   "source": [
    "bonferroni_alpha = 0.05 / 3  "
   ]
  },
  {
   "cell_type": "markdown",
   "metadata": {},
   "source": [
    "#### Поправка Бонферрони. Проверка гипотезы о равенстве пропорций по событию MainScreenAppear"
   ]
  },
  {
   "cell_type": "markdown",
   "metadata": {},
   "source": [
    "Проверим гипотезы о равенстве пропорций выборок **а1 и а2 / a1 и b / a2 и b** по событию MainScreenAppear с учетом поправки Бонферрони\n",
    "\n",
    "**Нулевая гипотеза:** различий в пропорциях выборок **а1 и а2 / a1 и b / a2 и b** по событию MainScreenAppear нет\n",
    "\n",
    "**Альтернативная гипотеза:** различия в пропорциях выборок **а1 и а2 / a1 и b / a2 и b** по событию MainScreenAppear есть"
   ]
  },
  {
   "cell_type": "code",
   "execution_count": 55,
   "metadata": {},
   "outputs": [
    {
     "name": "stdout",
     "output_type": "stream",
     "text": [
      "p-значение:  0.7570597232046099\n",
      "Не получилось отвергнуть нулевую гипотезу, нет оснований считать доли разными\n"
     ]
    }
   ],
   "source": [
    "#Проверим гипотезу о равенстве пропорций выборок a1 и a2 по событию MainScreenAppear\n",
    "test_the_hypothesis_about_the_equality_of_sample_proportions(\n",
    "    cross_section_of_the_dataframe_by_group_a1, cross_section_of_the_dataframe_by_group_a2, 'MainScreenAppear', bonferroni_alpha\n",
    ")"
   ]
  },
  {
   "cell_type": "code",
   "execution_count": 56,
   "metadata": {},
   "outputs": [
    {
     "name": "stdout",
     "output_type": "stream",
     "text": [
      "p-значение:  0.2949721933554552\n",
      "Не получилось отвергнуть нулевую гипотезу, нет оснований считать доли разными\n"
     ]
    }
   ],
   "source": [
    "#Проверим гипотезу о равенстве пропорций выборок a1 и b по событию MainScreenAppear\n",
    "test_the_hypothesis_about_the_equality_of_sample_proportions(\n",
    "    cross_section_of_the_dataframe_by_group_a1, cross_section_of_the_dataframe_by_group_b, 'MainScreenAppear', bonferroni_alpha\n",
    ")"
   ]
  },
  {
   "cell_type": "code",
   "execution_count": 57,
   "metadata": {
    "scrolled": true
   },
   "outputs": [
    {
     "name": "stdout",
     "output_type": "stream",
     "text": [
      "p-значение:  0.4587053616621515\n",
      "Не получилось отвергнуть нулевую гипотезу, нет оснований считать доли разными\n"
     ]
    }
   ],
   "source": [
    "#Проверим гипотезу о равенстве пропорций выборок a2 и b по событию MainScreenAppear\n",
    "test_the_hypothesis_about_the_equality_of_sample_proportions(\n",
    "    cross_section_of_the_dataframe_by_group_a2, cross_section_of_the_dataframe_by_group_b, 'MainScreenAppear', bonferroni_alpha\n",
    ")"
   ]
  },
  {
   "cell_type": "markdown",
   "metadata": {},
   "source": [
    "Пропорции выборок **при изучении события MainScreenAppear можно считать одинаковыми** во всех рассматриваемых контрольных группах.\n",
    "\n",
    "**В результате z-test по событию MainScreenAppear с учетом поправки Бонферрони мы выяснили, что изменение шрифта никак не повлияло на желание пользователей взаимодействовать с приложением.**"
   ]
  },
  {
   "cell_type": "markdown",
   "metadata": {},
   "source": [
    "#### Поправка Бонферрони. Проверка гипотезы о равенстве пропорций по событию OffersScreenAppear"
   ]
  },
  {
   "cell_type": "markdown",
   "metadata": {},
   "source": [
    "Проверим гипотезы о равенстве пропорций выборок **а1 и а2 / a1 и b / a2 и b** по событию OffersScreenAppear с учетом поправки Бонферрони\n",
    "\n",
    "**Нулевая гипотеза:** различий в пропорциях выборок **а1 и а2 / a1 и b / a2 и b** по событию OffersScreenAppear нет\n",
    "\n",
    "**Альтернативная гипотеза:** различия в пропорциях выборок **а1 и а2 / a1 и b / a2 и b** по событию OffersScreenAppear есть"
   ]
  },
  {
   "cell_type": "code",
   "execution_count": 58,
   "metadata": {
    "scrolled": true
   },
   "outputs": [
    {
     "name": "stdout",
     "output_type": "stream",
     "text": [
      "p-значение:  0.2480954578522181\n",
      "Не получилось отвергнуть нулевую гипотезу, нет оснований считать доли разными\n"
     ]
    }
   ],
   "source": [
    "#Проверим гипотезу о равенстве пропорций выборок a1 и a2 по событию OffersScreenAppear\n",
    "test_the_hypothesis_about_the_equality_of_sample_proportions(\n",
    "    cross_section_of_the_dataframe_by_group_a1, cross_section_of_the_dataframe_by_group_a2, 'OffersScreenAppear', bonferroni_alpha\n",
    ")"
   ]
  },
  {
   "cell_type": "code",
   "execution_count": 59,
   "metadata": {},
   "outputs": [
    {
     "name": "stdout",
     "output_type": "stream",
     "text": [
      "p-значение:  0.20836205402738917\n",
      "Не получилось отвергнуть нулевую гипотезу, нет оснований считать доли разными\n"
     ]
    }
   ],
   "source": [
    "#Проверим гипотезу о равенстве пропорций выборок a1 и b по событию OffersScreenAppear\n",
    "test_the_hypothesis_about_the_equality_of_sample_proportions(\n",
    "    cross_section_of_the_dataframe_by_group_a1, cross_section_of_the_dataframe_by_group_b, 'OffersScreenAppear', bonferroni_alpha\n",
    ")"
   ]
  },
  {
   "cell_type": "code",
   "execution_count": 60,
   "metadata": {},
   "outputs": [
    {
     "name": "stdout",
     "output_type": "stream",
     "text": [
      "p-значение:  0.9197817830592261\n",
      "Не получилось отвергнуть нулевую гипотезу, нет оснований считать доли разными\n"
     ]
    }
   ],
   "source": [
    "#Проверим гипотезу о равенстве пропорций выборок a2 и b по событию OffersScreenAppear\n",
    "test_the_hypothesis_about_the_equality_of_sample_proportions(\n",
    "    cross_section_of_the_dataframe_by_group_a2, cross_section_of_the_dataframe_by_group_b, 'OffersScreenAppear', bonferroni_alpha\n",
    ")"
   ]
  },
  {
   "cell_type": "markdown",
   "metadata": {},
   "source": [
    "Пропорции выборок **при изучении события OffersScreenAppear можно считать одинаковыми** во всех рассматриваемых контрольных группах.\n",
    "\n",
    "**В результате z-test по событию OffersScreenAppear с учетом поправки Бонферрони мы выяснили, что изменение шрифта никак не повлияло на желание пользователей взаимодействовать с приложением.**"
   ]
  },
  {
   "cell_type": "markdown",
   "metadata": {},
   "source": [
    "#### Поправка Бонферрони. Проверка гипотезы о равенстве пропорций по событию CartScreenAppear"
   ]
  },
  {
   "cell_type": "markdown",
   "metadata": {},
   "source": [
    "Проверим гипотезы о равенстве пропорций выборок **а1 и а2 / a1 и b / a2 и b** по событию CartScreenAppear с учетом поправки Бонферрони\n",
    "\n",
    "**Нулевая гипотеза:** различий в пропорциях выборок **а1 и а2 / a1 и b / a2 и b** по событию CartScreenAppear нет\n",
    "\n",
    "**Альтернативная гипотеза:** различия в пропорциях выборок **а1 и а2 / a1 и b / a2 и b** по событию CartScreenAppear есть"
   ]
  },
  {
   "cell_type": "code",
   "execution_count": 61,
   "metadata": {
    "scrolled": true
   },
   "outputs": [
    {
     "name": "stdout",
     "output_type": "stream",
     "text": [
      "p-значение:  0.22883372237997213\n",
      "Не получилось отвергнуть нулевую гипотезу, нет оснований считать доли разными\n"
     ]
    }
   ],
   "source": [
    "#Проверим гипотезу о равенстве пропорций выборок a1 и a2 по событию CartScreenAppear\n",
    "test_the_hypothesis_about_the_equality_of_sample_proportions(\n",
    "    cross_section_of_the_dataframe_by_group_a1, cross_section_of_the_dataframe_by_group_a2, 'CartScreenAppear', bonferroni_alpha\n",
    ")"
   ]
  },
  {
   "cell_type": "code",
   "execution_count": 62,
   "metadata": {},
   "outputs": [
    {
     "name": "stdout",
     "output_type": "stream",
     "text": [
      "p-значение:  0.07842923237520116\n",
      "Не получилось отвергнуть нулевую гипотезу, нет оснований считать доли разными\n"
     ]
    }
   ],
   "source": [
    "#Проверим гипотезу о равенстве пропорций выборок a1 и b по событию CartScreenAppear\n",
    "test_the_hypothesis_about_the_equality_of_sample_proportions(\n",
    "    cross_section_of_the_dataframe_by_group_a1, cross_section_of_the_dataframe_by_group_b, 'CartScreenAppear', bonferroni_alpha\n",
    ")"
   ]
  },
  {
   "cell_type": "code",
   "execution_count": 63,
   "metadata": {
    "scrolled": true
   },
   "outputs": [
    {
     "name": "stdout",
     "output_type": "stream",
     "text": [
      "p-значение:  0.5786197879539783\n",
      "Не получилось отвергнуть нулевую гипотезу, нет оснований считать доли разными\n"
     ]
    }
   ],
   "source": [
    "#Проверим гипотезу о равенстве пропорций выборок a2 и b по событию CartScreenAppear\n",
    "test_the_hypothesis_about_the_equality_of_sample_proportions(\n",
    "    cross_section_of_the_dataframe_by_group_a2, cross_section_of_the_dataframe_by_group_b, 'CartScreenAppear', bonferroni_alpha\n",
    ")"
   ]
  },
  {
   "cell_type": "markdown",
   "metadata": {},
   "source": [
    "Пропорции выборок **при изучении события CartScreenAppear можно считать одинаковыми** во всех рассматриваемых контрольных группах.\n",
    "\n",
    "**В результате z-test по событию CartScreenAppear с учетом поправки Бонферрони мы выяснили, что изменение шрифта никак не повлияло на желание пользователей взаимодействовать с приложением.**"
   ]
  },
  {
   "cell_type": "markdown",
   "metadata": {},
   "source": [
    "#### Поправка Бонферрони. Проверка гипотезы о равенстве пропорций по событию PaymentScreenSuccessful"
   ]
  },
  {
   "cell_type": "markdown",
   "metadata": {},
   "source": [
    "Проверим гипотезы о равенстве пропорций выборок **а1 и а2 / a1 и b / a2 и b** по событию PaymentScreenSuccessful с учетом поправки Бонферрони\n",
    "\n",
    "**Нулевая гипотеза:** различий в пропорциях выборок **а1 и а2 / a1 и b / a2 и b** по событию PaymentScreenSuccessful нет\n",
    "\n",
    "**Альтернативная гипотеза:** различия в пропорциях выборок **а1 и а2 / a1 и b / a2 и b** по событию PaymentScreenSuccessful есть"
   ]
  },
  {
   "cell_type": "code",
   "execution_count": 64,
   "metadata": {
    "scrolled": true
   },
   "outputs": [
    {
     "name": "stdout",
     "output_type": "stream",
     "text": [
      "p-значение:  0.11456679313141849\n",
      "Не получилось отвергнуть нулевую гипотезу, нет оснований считать доли разными\n"
     ]
    }
   ],
   "source": [
    "#Проверим гипотезу о равенстве пропорций выборок a1 и a2 по событию PaymentScreenSuccessful\n",
    "test_the_hypothesis_about_the_equality_of_sample_proportions(\n",
    "    cross_section_of_the_dataframe_by_group_a1, cross_section_of_the_dataframe_by_group_a2, 'PaymentScreenSuccessful', bonferroni_alpha\n",
    ")"
   ]
  },
  {
   "cell_type": "code",
   "execution_count": 65,
   "metadata": {},
   "outputs": [
    {
     "name": "stdout",
     "output_type": "stream",
     "text": [
      "p-значение:  0.2122553275697796\n",
      "Не получилось отвергнуть нулевую гипотезу, нет оснований считать доли разными\n"
     ]
    }
   ],
   "source": [
    "#Проверим гипотезу о равенстве пропорций выборок a1 и b по событию PaymentScreenSuccessful\n",
    "test_the_hypothesis_about_the_equality_of_sample_proportions(\n",
    "    cross_section_of_the_dataframe_by_group_a1, cross_section_of_the_dataframe_by_group_b, 'PaymentScreenSuccessful', bonferroni_alpha\n",
    ")"
   ]
  },
  {
   "cell_type": "code",
   "execution_count": 66,
   "metadata": {
    "scrolled": true
   },
   "outputs": [
    {
     "name": "stdout",
     "output_type": "stream",
     "text": [
      "p-значение:  0.7373415053803964\n",
      "Не получилось отвергнуть нулевую гипотезу, нет оснований считать доли разными\n"
     ]
    }
   ],
   "source": [
    "#Проверим гипотезу о равенстве пропорций выборок a2 и b по событию PaymentScreenSuccessful\n",
    "test_the_hypothesis_about_the_equality_of_sample_proportions(\n",
    "    cross_section_of_the_dataframe_by_group_a2, cross_section_of_the_dataframe_by_group_b, 'PaymentScreenSuccessful', bonferroni_alpha\n",
    ")"
   ]
  },
  {
   "cell_type": "markdown",
   "metadata": {},
   "source": [
    "Пропорции выборок **при изучении события PaymentScreenSuccessful можно считать одинаковыми** во всех рассматриваемых контрольных группах.\n",
    "\n",
    "**В результате z-test по событию PaymentScreenSuccessful с учетом поправки Бонферрони мы выяснили, что изменение шрифта никак не повлияло на желание пользователей взаимодействовать с приложением.**"
   ]
  },
  {
   "cell_type": "markdown",
   "metadata": {},
   "source": [
    "### Проверка гипотезы о равенстве пропорций объединенной контрольной группы с группой с измененным шрифтом по разным событиям с учетом поправки Бонферрони"
   ]
  },
  {
   "cell_type": "markdown",
   "metadata": {},
   "source": [
    "Проверим гипотезы о равенстве пропорций выборок **а и b** по событию MainScreenAppear с учетом поправки Бонферрони\n",
    "\n",
    "**Нулевая гипотеза:** различий в пропорциях выборок **а и b** по событию MainScreenAppear нет\n",
    "\n",
    "**Альтернативная гипотеза:** различия в пропорциях выборок **а и b** по событию MainScreenAppear есть"
   ]
  },
  {
   "cell_type": "code",
   "execution_count": 67,
   "metadata": {},
   "outputs": [
    {
     "name": "stdout",
     "output_type": "stream",
     "text": [
      "p-значение:  0.29424526837179577\n",
      "Не получилось отвергнуть нулевую гипотезу, нет оснований считать доли разными\n"
     ]
    }
   ],
   "source": [
    "#Проверим гипотезу о равенстве пропорций выборок а и b по событию MainScreenAppear\n",
    "test_the_hypothesis_about_the_equality_of_sample_proportions(\n",
    "    cross_section_of_the_dataframe_by_group_a, cross_section_of_the_dataframe_by_group_b, 'MainScreenAppear', bonferroni_alpha\n",
    ")"
   ]
  },
  {
   "cell_type": "markdown",
   "metadata": {},
   "source": [
    "Пропорции выборок **при изучении события MainScreenAppear можно считать одинаковыми** в обеих контрольных группах."
   ]
  },
  {
   "cell_type": "markdown",
   "metadata": {},
   "source": [
    "Проверим гипотезы о равенстве пропорций выборок **а и b** по событию OffersScreenAppear с учетом поправки Бонферрони\n",
    "\n",
    "**Нулевая гипотеза:** различий в пропорциях выборок **а и b** по событию OffersScreenAppear нет\n",
    "\n",
    "**Альтернативная гипотеза:** различия в пропорциях выборок **а и b** по событию OffersScreenAppear есть"
   ]
  },
  {
   "cell_type": "code",
   "execution_count": 68,
   "metadata": {
    "scrolled": true
   },
   "outputs": [
    {
     "name": "stdout",
     "output_type": "stream",
     "text": [
      "p-значение:  0.43425549655188256\n",
      "Не получилось отвергнуть нулевую гипотезу, нет оснований считать доли разными\n"
     ]
    }
   ],
   "source": [
    "#Проверим гипотезу о равенстве пропорций выборок а и b по событию OffersScreenAppear\n",
    "test_the_hypothesis_about_the_equality_of_sample_proportions(\n",
    "    cross_section_of_the_dataframe_by_group_a, cross_section_of_the_dataframe_by_group_b, 'OffersScreenAppear', bonferroni_alpha\n",
    ")"
   ]
  },
  {
   "cell_type": "markdown",
   "metadata": {},
   "source": [
    "Пропорции выборок **при изучении события OffersScreenAppear можно считать одинаковыми** в обеих контрольных группах."
   ]
  },
  {
   "cell_type": "markdown",
   "metadata": {},
   "source": [
    "Проверим гипотезы о равенстве пропорций выборок **а и b** по событию CartScreenAppear с учетом поправки Бонферрони\n",
    "\n",
    "**Нулевая гипотеза:** различий в пропорциях выборок **а и b** по событию CartScreenAppear нет\n",
    "\n",
    "**Альтернативная гипотеза:** различия в пропорциях выборок **а и b** по событию CartScreenAppear есть"
   ]
  },
  {
   "cell_type": "code",
   "execution_count": 69,
   "metadata": {
    "scrolled": true
   },
   "outputs": [
    {
     "name": "stdout",
     "output_type": "stream",
     "text": [
      "p-значение:  0.18175875284404386\n",
      "Не получилось отвергнуть нулевую гипотезу, нет оснований считать доли разными\n"
     ]
    }
   ],
   "source": [
    "#Проверим гипотезу о равенстве пропорций выборок а и b по событию CartScreenAppear\n",
    "test_the_hypothesis_about_the_equality_of_sample_proportions(\n",
    "    cross_section_of_the_dataframe_by_group_a, cross_section_of_the_dataframe_by_group_b, 'CartScreenAppear', bonferroni_alpha\n",
    ")"
   ]
  },
  {
   "cell_type": "markdown",
   "metadata": {},
   "source": [
    "Пропорции выборок **при изучении события CartScreenAppear можно считать одинаковыми** в обеих контрольных группах."
   ]
  },
  {
   "cell_type": "markdown",
   "metadata": {},
   "source": [
    "Проверим гипотезы о равенстве пропорций выборок **а и b** по событию PaymentScreenSuccessful с учетом поправки Бонферрони\n",
    "\n",
    "**Нулевая гипотеза:** различий в пропорциях выборок **а и b** по событию PaymentScreenSuccessful нет\n",
    "\n",
    "**Альтернативная гипотеза:** различия в пропорциях выборок **а и b** по событию PaymentScreenSuccessful есть"
   ]
  },
  {
   "cell_type": "code",
   "execution_count": 70,
   "metadata": {
    "scrolled": true
   },
   "outputs": [
    {
     "name": "stdout",
     "output_type": "stream",
     "text": [
      "p-значение:  0.6004294282308704\n",
      "Не получилось отвергнуть нулевую гипотезу, нет оснований считать доли разными\n"
     ]
    }
   ],
   "source": [
    "test_the_hypothesis_about_the_equality_of_sample_proportions(\n",
    "    cross_section_of_the_dataframe_by_group_a, cross_section_of_the_dataframe_by_group_b, 'PaymentScreenSuccessful', bonferroni_alpha\n",
    ")"
   ]
  },
  {
   "cell_type": "markdown",
   "metadata": {},
   "source": [
    "Пропорции выборок **при изучении события PaymentScreenSuccessful можно считать одинаковыми** в обеих контрольных группах. \n",
    "\n",
    "Данный анализ показывает, что **изменение шрифта и в данном случае не влияет на восприятие пользователей интерфейса сайта.**"
   ]
  },
  {
   "cell_type": "markdown",
   "metadata": {},
   "source": [
    "<a id='the_finish'></a>"
   ]
  },
  {
   "cell_type": "markdown",
   "metadata": {},
   "source": [
    "## Вывод"
   ]
  },
  {
   "cell_type": "markdown",
   "metadata": {},
   "source": [
    "В датафрейме **logs** 4 столбца и 244126 строк:\n",
    "\n",
    "- **EventName** — название события;\n",
    "- **DeviceIDHash** — уникальный идентификатор пользователя;\n",
    "- **EventTimestamp** — время события;\n",
    "- **ExpId** — номер эксперимента: 246 и 247 — контрольные группы, а 248 — экспериментальная.\n",
    "\n",
    "При первичной проверке было выявлено **413 дубликатов**. Их доля составляет **менее 0,2%** от всей базы данных. Поэтому мы их удалили, так как они не влияют на общую картину.\n",
    "\n",
    "После удаления дубликатов датафрейм осталось **243713 строк.**\n",
    "\n",
    "В логе присутствуют **5 событий:**\n",
    "- **MainScreenAppear** - переход на главную (первую) страницу приложения\n",
    "- **PaymentScreenSuccessful** - переход на страницу \"оплата прошла успешно\" \n",
    "- **CartScreenAppear** - переход на страницу \"корзина\"\n",
    "- **OffersScreenAppear** - переход на страницу \"предложения\"\n",
    "- **Tutorial** - переход на страницу \"руководство\"\n",
    "\n",
    "**Среднее количество событий** на одного пользователя составляет **32 шт.**\n",
    "\n",
    "По диаграмме рассеивания мы увидели, что медиана распределения количества событий находится **на уровне 20 шт. Выше 79 шт. - это выбросы. Максимальное кол-во событий** на одного уникального пользователя составляет **2307 шт.** Данное количество нереально для обычного физического лица. Тут возможен один из вариантов:\n",
    "- это либо оптовый покупатель,\n",
    "- либо техническая ошибка и с ней необходимо обратиться в техподдержку.\n",
    "\n",
    "**Минимальная и максимальная даты датафрейма: 2019-07-25 и 2019-08-07**\n",
    "\n",
    "**БОльшая часть данных приходится на период с 01.08.2019.** \n",
    "\n",
    "Рассмотрев детально данные за период с 31.07.2019 по 01.08.2019, мы видим, что **тест начался в 9 вечера 31.07.2019.** Мы удалили эти события, так как они составляли **чуть более 1%** от всего датафрейма. В результате удаления, из датафрейма исчезли **1,2% событий и менее 0,3% пользователей**. \n",
    "\n",
    "В целом, очистка датафрейма не повлияла на общую картину данных. \n",
    "\n",
    "**При анализе воронки событий мы увидели следующее:**\n",
    "\n",
    "**Самое частое событие в приложении - это приход на главную его страницу.** **За неделю** на главную страницу пришло более **117 тысяч пользователей.** Следующим по популярности событием является **переход на страницу с предложениями** (т.е. товарами): из 117 тыс человек на эту страницу приходит только **39% (чуть более 46 тыс человек).** Видимо, **есть какая-то значимая причина,** по которой **более 60% посетителей \"отваливается\"** на главной странице. На это необходимо обратить внимание.\n",
    "\n",
    "**Со страницы с товарами в корзину переходит 91% пользователей; а на страницу с оплатой приходит 80% пользователей с предыдущей страницы.** Это прекрасная конверсия!\n",
    "\n",
    "Именно в таком порядке платящий пользователь работает с приложением.\n",
    "\n",
    "**Страница Tutorial** (инструкция) совершенно не пользуется популярностью у пользователей (менее 1% от всех посетителей ее изучает).\n",
    "\n",
    "Количество пользователей, которые совершали каждое из событий (включая переход на страницу Tutorial): **466 человека.**\n",
    "\n",
    "**При рассмотрении воронки в разрезе уникальных пользователей,** мы можем отметить, что порядок работы пользователей с приложением остается прежним. **Чаще всего** потребители заходят **на главную страницу (37%),** далее они отправляются **на страницу с товарами (23%),** после этого переходят **в корзину (19%), оплачивают товары 18% от всех пользователей.**\n",
    "Из воронки мы убрали **\"Tutorial\"** - это дополнительная страница, не участвующая в воронке продаж, и многие пользователи ее не посещают **(только 4% от всех уникальных пользователей заходят на данную страницу).**\n",
    "\n",
    "По воронке событий, мы видим, что **наибольшую потерю пользователей** мы получаем на этапе перехода с главной страницы на страницу с предложениями **(38% пользователей)**. **Меньше всего пользователей мы теряем на последнем этапе:** при переходе из корзины на страницу оплаты **(5%).** В итоге, **с первого события до оплаты доходит 48% пользователей.**\n",
    "\n",
    "В процессе предварительной проверки (A/A-тест) было выявлено следующее:\n",
    "- **Количество пользователей в группах a1, a2 и b** различается не более, чем на **2%.** Вообще должно быть не более 1%, но 2% - это не критичная разница.\n",
    "- **Количество повторяющихся пользователей в группах a1, a2 и b равно 0.**\n",
    "\n",
    "Это значит, что тест был проведен качественно и на его результаты можно смело полагаться.\n",
    "\n",
    "**В результате z-testов отдельно по каждому событию с учетом и без учета поправки Бонферрони мы выяснили, что во всех случаях мы не можем отбросить гипотезу о равенстве выборок (т.е. не можем считать выборки разными). Это значит, что изменение шрифта никак не повлияло на желание пользователей взаимодействовать с приложением.**\n",
    "\n",
    "**Рекомендация**:\n",
    "Согласно проведенному А/А/В-тестированию, **можно смело использовать новый шрифт на всех страницах приложения интернет-магазина, так как он никак не влияет на восприятие потребителей сайта.** Конечно в идеале нужно к данному тестированию добавить информацию о реальной конверсии пользователей (в деньгах), чтобы посмотреть в цифрах увеличились ли их заказы или уменьшились. Но на количество пользователей новый шрифт никак не повлиял."
   ]
  },
  {
   "cell_type": "markdown",
   "metadata": {},
   "source": [
    "<a href='#the_destination'>[Нажмите на эту ссылку, чтобы вернуться к началу страницы]</a>"
   ]
  },
  {
   "cell_type": "code",
   "execution_count": null,
   "metadata": {},
   "outputs": [],
   "source": []
  }
 ],
 "metadata": {
  "ExecuteTimeLog": [
   {
    "duration": 1467,
    "start_time": "2022-06-24T19:10:53.645Z"
   },
   {
    "duration": 504,
    "start_time": "2022-06-24T19:11:27.358Z"
   },
   {
    "duration": 5,
    "start_time": "2022-06-24T19:11:50.066Z"
   },
   {
    "duration": 145,
    "start_time": "2022-06-24T19:11:59.364Z"
   },
   {
    "duration": 5,
    "start_time": "2022-06-24T19:12:06.752Z"
   },
   {
    "duration": 109,
    "start_time": "2022-06-24T19:12:10.038Z"
   },
   {
    "duration": 24,
    "start_time": "2022-06-24T19:13:08.793Z"
   },
   {
    "duration": 155,
    "start_time": "2022-06-24T19:13:31.356Z"
   },
   {
    "duration": 130,
    "start_time": "2022-06-24T19:13:55.184Z"
   },
   {
    "duration": 31,
    "start_time": "2022-06-24T20:14:29.373Z"
   },
   {
    "duration": 12,
    "start_time": "2022-06-24T20:15:16.445Z"
   },
   {
    "duration": 20,
    "start_time": "2022-06-24T20:16:16.887Z"
   },
   {
    "duration": 33,
    "start_time": "2022-06-24T20:32:34.972Z"
   },
   {
    "duration": 38,
    "start_time": "2022-06-24T20:33:14.252Z"
   },
   {
    "duration": 38,
    "start_time": "2022-06-24T20:33:26.715Z"
   },
   {
    "duration": 80,
    "start_time": "2022-06-24T20:35:24.721Z"
   },
   {
    "duration": 35,
    "start_time": "2022-06-24T20:35:48.300Z"
   },
   {
    "duration": 25,
    "start_time": "2022-06-24T20:36:05.760Z"
   },
   {
    "duration": 41,
    "start_time": "2022-06-24T20:36:26.000Z"
   },
   {
    "duration": 39,
    "start_time": "2022-06-24T20:36:38.213Z"
   },
   {
    "duration": 39,
    "start_time": "2022-06-24T20:37:06.450Z"
   },
   {
    "duration": 24,
    "start_time": "2022-06-24T20:59:47.863Z"
   },
   {
    "duration": 51,
    "start_time": "2022-06-24T21:01:59.615Z"
   },
   {
    "duration": 46,
    "start_time": "2022-06-24T21:02:41.250Z"
   },
   {
    "duration": 48,
    "start_time": "2022-06-24T21:02:58.577Z"
   },
   {
    "duration": 15,
    "start_time": "2022-06-24T21:22:13.322Z"
   },
   {
    "duration": 11,
    "start_time": "2022-06-24T21:22:50.069Z"
   },
   {
    "duration": 26,
    "start_time": "2022-06-24T21:23:27.257Z"
   },
   {
    "duration": 11,
    "start_time": "2022-06-24T21:23:51.085Z"
   },
   {
    "duration": 13,
    "start_time": "2022-06-24T21:24:10.923Z"
   },
   {
    "duration": 12,
    "start_time": "2022-06-24T21:24:40.571Z"
   },
   {
    "duration": 5,
    "start_time": "2022-06-24T21:24:59.891Z"
   },
   {
    "duration": 12,
    "start_time": "2022-06-24T21:25:24.303Z"
   },
   {
    "duration": 17,
    "start_time": "2022-06-24T21:26:34.463Z"
   },
   {
    "duration": 43,
    "start_time": "2022-06-24T21:26:53.011Z"
   },
   {
    "duration": 59,
    "start_time": "2022-06-24T21:27:04.421Z"
   },
   {
    "duration": 25,
    "start_time": "2022-06-24T21:27:30.983Z"
   },
   {
    "duration": 228,
    "start_time": "2022-06-24T21:50:31.280Z"
   },
   {
    "duration": 574,
    "start_time": "2022-06-24T21:51:11.197Z"
   },
   {
    "duration": 394,
    "start_time": "2022-06-24T21:51:33.299Z"
   },
   {
    "duration": 339,
    "start_time": "2022-06-24T21:52:03.177Z"
   },
   {
    "duration": 380,
    "start_time": "2022-06-24T21:52:15.982Z"
   },
   {
    "duration": 360,
    "start_time": "2022-06-24T21:52:23.381Z"
   },
   {
    "duration": 463,
    "start_time": "2022-06-24T21:52:30.282Z"
   },
   {
    "duration": 476,
    "start_time": "2022-06-24T21:52:34.802Z"
   },
   {
    "duration": 397,
    "start_time": "2022-06-24T21:52:55.998Z"
   },
   {
    "duration": 409,
    "start_time": "2022-06-24T21:53:26.297Z"
   },
   {
    "duration": 428,
    "start_time": "2022-06-24T21:53:40.344Z"
   },
   {
    "duration": 454,
    "start_time": "2022-06-24T21:54:13.614Z"
   },
   {
    "duration": 471,
    "start_time": "2022-06-24T21:54:49.971Z"
   },
   {
    "duration": 372,
    "start_time": "2022-06-24T22:02:37.072Z"
   },
   {
    "duration": 397,
    "start_time": "2022-06-24T22:02:42.501Z"
   },
   {
    "duration": 415,
    "start_time": "2022-06-24T22:02:57.881Z"
   },
   {
    "duration": 18,
    "start_time": "2022-06-24T22:06:27.557Z"
   },
   {
    "duration": 27,
    "start_time": "2022-06-24T22:07:06.274Z"
   },
   {
    "duration": 11,
    "start_time": "2022-06-24T22:07:17.986Z"
   },
   {
    "duration": 573,
    "start_time": "2022-06-24T22:09:54.423Z"
   },
   {
    "duration": 106,
    "start_time": "2022-06-24T22:10:14.154Z"
   },
   {
    "duration": 419,
    "start_time": "2022-06-24T22:10:36.985Z"
   },
   {
    "duration": 428,
    "start_time": "2022-06-24T22:11:03.157Z"
   },
   {
    "duration": 31,
    "start_time": "2022-06-24T22:11:11.082Z"
   },
   {
    "duration": 100,
    "start_time": "2022-06-24T22:13:24.347Z"
   },
   {
    "duration": 434,
    "start_time": "2022-06-24T22:13:38.867Z"
   },
   {
    "duration": 416,
    "start_time": "2022-06-24T22:13:50.583Z"
   },
   {
    "duration": 20,
    "start_time": "2022-06-24T22:16:35.961Z"
   },
   {
    "duration": 404,
    "start_time": "2022-06-24T22:16:52.709Z"
   },
   {
    "duration": 13,
    "start_time": "2022-06-24T22:17:50.074Z"
   },
   {
    "duration": 33,
    "start_time": "2022-06-24T22:18:03.020Z"
   },
   {
    "duration": 376,
    "start_time": "2022-06-24T22:20:12.221Z"
   },
   {
    "duration": 363,
    "start_time": "2022-06-24T22:22:19.852Z"
   },
   {
    "duration": 397,
    "start_time": "2022-06-24T22:22:52.900Z"
   },
   {
    "duration": 369,
    "start_time": "2022-06-24T22:23:46.801Z"
   },
   {
    "duration": 105,
    "start_time": "2022-06-24T22:25:10.973Z"
   },
   {
    "duration": 19,
    "start_time": "2022-06-24T22:29:27.599Z"
   },
   {
    "duration": 313,
    "start_time": "2022-06-24T22:30:30.056Z"
   },
   {
    "duration": 15,
    "start_time": "2022-06-24T22:30:40.963Z"
   },
   {
    "duration": 40,
    "start_time": "2022-06-24T22:34:33.544Z"
   },
   {
    "duration": 43,
    "start_time": "2022-06-24T22:34:45.508Z"
   },
   {
    "duration": 6,
    "start_time": "2022-06-24T22:36:09.955Z"
   },
   {
    "duration": 25,
    "start_time": "2022-06-24T22:37:17.849Z"
   },
   {
    "duration": 18,
    "start_time": "2022-06-24T22:38:59.868Z"
   },
   {
    "duration": 60,
    "start_time": "2022-06-24T22:41:08.961Z"
   },
   {
    "duration": 13,
    "start_time": "2022-06-24T22:41:59.769Z"
   },
   {
    "duration": 13,
    "start_time": "2022-06-24T22:42:23.269Z"
   },
   {
    "duration": 63,
    "start_time": "2022-06-24T22:46:27.612Z"
   },
   {
    "duration": 52,
    "start_time": "2022-06-24T22:48:15.132Z"
   },
   {
    "duration": 5,
    "start_time": "2022-06-24T22:52:44.297Z"
   },
   {
    "duration": 38,
    "start_time": "2022-06-24T22:57:31.746Z"
   },
   {
    "duration": 38,
    "start_time": "2022-06-24T22:57:41.466Z"
   },
   {
    "duration": 21,
    "start_time": "2022-06-24T22:58:02.046Z"
   },
   {
    "duration": 49,
    "start_time": "2022-06-24T22:58:12.106Z"
   },
   {
    "duration": 24,
    "start_time": "2022-06-24T22:58:16.534Z"
   },
   {
    "duration": 31,
    "start_time": "2022-06-24T23:00:00.205Z"
   },
   {
    "duration": 24,
    "start_time": "2022-06-24T23:00:10.753Z"
   },
   {
    "duration": 36,
    "start_time": "2022-06-24T23:01:34.406Z"
   },
   {
    "duration": 3,
    "start_time": "2022-06-24T23:10:32.510Z"
   },
   {
    "duration": 35,
    "start_time": "2022-06-24T23:12:51.724Z"
   },
   {
    "duration": 96,
    "start_time": "2022-06-24T23:17:35.089Z"
   },
   {
    "duration": 68,
    "start_time": "2022-06-24T23:18:18.209Z"
   },
   {
    "duration": 68,
    "start_time": "2022-06-24T23:19:56.629Z"
   },
   {
    "duration": 67,
    "start_time": "2022-06-24T23:21:54.766Z"
   },
   {
    "duration": 72,
    "start_time": "2022-06-24T23:22:59.031Z"
   },
   {
    "duration": 10,
    "start_time": "2022-06-25T10:20:28.111Z"
   },
   {
    "duration": 178,
    "start_time": "2022-06-25T10:20:28.123Z"
   },
   {
    "duration": 3,
    "start_time": "2022-06-25T10:20:28.302Z"
   },
   {
    "duration": 92,
    "start_time": "2022-06-25T10:20:28.307Z"
   },
   {
    "duration": 25,
    "start_time": "2022-06-25T10:20:28.401Z"
   },
   {
    "duration": 169,
    "start_time": "2022-06-25T10:20:28.427Z"
   },
   {
    "duration": 128,
    "start_time": "2022-06-25T10:20:28.597Z"
   },
   {
    "duration": 24,
    "start_time": "2022-06-25T10:20:28.727Z"
   },
   {
    "duration": 8,
    "start_time": "2022-06-25T10:20:28.753Z"
   },
   {
    "duration": 27,
    "start_time": "2022-06-25T10:20:28.763Z"
   },
   {
    "duration": 27,
    "start_time": "2022-06-25T10:20:28.792Z"
   },
   {
    "duration": 403,
    "start_time": "2022-06-25T10:20:28.852Z"
   },
   {
    "duration": 14,
    "start_time": "2022-06-25T10:20:29.257Z"
   },
   {
    "duration": 44,
    "start_time": "2022-06-25T10:20:29.274Z"
   },
   {
    "duration": 31,
    "start_time": "2022-06-25T10:20:29.320Z"
   },
   {
    "duration": 26,
    "start_time": "2022-06-25T10:20:29.353Z"
   },
   {
    "duration": 93,
    "start_time": "2022-06-25T10:20:29.381Z"
   },
   {
    "duration": 60,
    "start_time": "2022-06-25T10:20:29.476Z"
   },
   {
    "duration": 120,
    "start_time": "2022-06-25T10:20:29.552Z"
   },
   {
    "duration": 33,
    "start_time": "2022-06-25T10:20:29.674Z"
   },
   {
    "duration": 15,
    "start_time": "2022-06-25T10:20:51.363Z"
   },
   {
    "duration": 149,
    "start_time": "2022-06-25T10:20:51.380Z"
   },
   {
    "duration": 3,
    "start_time": "2022-06-25T10:20:51.530Z"
   },
   {
    "duration": 77,
    "start_time": "2022-06-25T10:20:51.534Z"
   },
   {
    "duration": 20,
    "start_time": "2022-06-25T10:20:51.613Z"
   },
   {
    "duration": 119,
    "start_time": "2022-06-25T10:20:51.634Z"
   },
   {
    "duration": 127,
    "start_time": "2022-06-25T10:20:51.754Z"
   },
   {
    "duration": 14,
    "start_time": "2022-06-25T10:20:51.883Z"
   },
   {
    "duration": 3,
    "start_time": "2022-06-25T10:20:51.899Z"
   },
   {
    "duration": 19,
    "start_time": "2022-06-25T10:20:51.903Z"
   },
   {
    "duration": 57,
    "start_time": "2022-06-25T10:20:51.924Z"
   },
   {
    "duration": 304,
    "start_time": "2022-06-25T10:20:51.982Z"
   },
   {
    "duration": 12,
    "start_time": "2022-06-25T10:20:52.288Z"
   },
   {
    "duration": 68,
    "start_time": "2022-06-25T10:20:52.303Z"
   },
   {
    "duration": 4,
    "start_time": "2022-06-25T10:20:52.373Z"
   },
   {
    "duration": 22,
    "start_time": "2022-06-25T10:20:52.378Z"
   },
   {
    "duration": 81,
    "start_time": "2022-06-25T10:20:52.401Z"
   },
   {
    "duration": 45,
    "start_time": "2022-06-25T10:20:52.484Z"
   },
   {
    "duration": 99,
    "start_time": "2022-06-25T10:20:52.530Z"
   },
   {
    "duration": 11,
    "start_time": "2022-06-25T10:21:39.474Z"
   },
   {
    "duration": 139,
    "start_time": "2022-06-25T10:21:39.487Z"
   },
   {
    "duration": 3,
    "start_time": "2022-06-25T10:21:39.627Z"
   },
   {
    "duration": 76,
    "start_time": "2022-06-25T10:21:39.631Z"
   },
   {
    "duration": 20,
    "start_time": "2022-06-25T10:21:39.709Z"
   },
   {
    "duration": 120,
    "start_time": "2022-06-25T10:21:39.731Z"
   },
   {
    "duration": 128,
    "start_time": "2022-06-25T10:21:39.853Z"
   },
   {
    "duration": 14,
    "start_time": "2022-06-25T10:21:39.983Z"
   },
   {
    "duration": 4,
    "start_time": "2022-06-25T10:21:39.998Z"
   },
   {
    "duration": 19,
    "start_time": "2022-06-25T10:21:40.003Z"
   },
   {
    "duration": 58,
    "start_time": "2022-06-25T10:21:40.024Z"
   },
   {
    "duration": 316,
    "start_time": "2022-06-25T10:21:40.083Z"
   },
   {
    "duration": 11,
    "start_time": "2022-06-25T10:21:40.400Z"
   },
   {
    "duration": 67,
    "start_time": "2022-06-25T10:21:40.413Z"
   },
   {
    "duration": 4,
    "start_time": "2022-06-25T10:21:40.482Z"
   },
   {
    "duration": 22,
    "start_time": "2022-06-25T10:21:40.487Z"
   },
   {
    "duration": 81,
    "start_time": "2022-06-25T10:21:40.511Z"
   },
   {
    "duration": 58,
    "start_time": "2022-06-25T10:21:40.593Z"
   },
   {
    "duration": 103,
    "start_time": "2022-06-25T10:21:40.654Z"
   },
   {
    "duration": 54,
    "start_time": "2022-06-25T14:07:07.888Z"
   },
   {
    "duration": 1434,
    "start_time": "2022-06-25T14:07:23.908Z"
   },
   {
    "duration": 528,
    "start_time": "2022-06-25T14:07:25.344Z"
   },
   {
    "duration": 3,
    "start_time": "2022-06-25T14:07:25.874Z"
   },
   {
    "duration": 94,
    "start_time": "2022-06-25T14:07:25.878Z"
   },
   {
    "duration": 25,
    "start_time": "2022-06-25T14:07:25.974Z"
   },
   {
    "duration": 163,
    "start_time": "2022-06-25T14:07:26.001Z"
   },
   {
    "duration": 179,
    "start_time": "2022-06-25T14:07:26.166Z"
   },
   {
    "duration": 19,
    "start_time": "2022-06-25T14:07:26.347Z"
   },
   {
    "duration": 19,
    "start_time": "2022-06-25T14:07:26.368Z"
   },
   {
    "duration": 32,
    "start_time": "2022-06-25T14:07:26.388Z"
   },
   {
    "duration": 51,
    "start_time": "2022-06-25T14:07:26.422Z"
   },
   {
    "duration": 482,
    "start_time": "2022-06-25T14:07:26.475Z"
   },
   {
    "duration": 13,
    "start_time": "2022-06-25T14:07:26.958Z"
   },
   {
    "duration": 64,
    "start_time": "2022-06-25T14:07:26.973Z"
   },
   {
    "duration": 5,
    "start_time": "2022-06-25T14:07:27.039Z"
   },
   {
    "duration": 28,
    "start_time": "2022-06-25T14:07:27.048Z"
   },
   {
    "duration": 82,
    "start_time": "2022-06-25T14:07:27.078Z"
   },
   {
    "duration": 66,
    "start_time": "2022-06-25T14:07:27.162Z"
   },
   {
    "duration": 299,
    "start_time": "2022-06-25T14:07:27.229Z"
   },
   {
    "duration": 39,
    "start_time": "2022-06-25T14:07:35.676Z"
   },
   {
    "duration": 34,
    "start_time": "2022-06-25T14:07:48.487Z"
   },
   {
    "duration": 11,
    "start_time": "2022-06-25T14:12:05.001Z"
   },
   {
    "duration": 174,
    "start_time": "2022-06-25T14:12:05.014Z"
   },
   {
    "duration": 4,
    "start_time": "2022-06-25T14:12:05.189Z"
   },
   {
    "duration": 91,
    "start_time": "2022-06-25T14:12:05.194Z"
   },
   {
    "duration": 44,
    "start_time": "2022-06-25T14:12:05.288Z"
   },
   {
    "duration": 131,
    "start_time": "2022-06-25T14:12:05.335Z"
   },
   {
    "duration": 134,
    "start_time": "2022-06-25T14:12:05.468Z"
   },
   {
    "duration": 26,
    "start_time": "2022-06-25T14:12:05.604Z"
   },
   {
    "duration": 6,
    "start_time": "2022-06-25T14:12:05.634Z"
   },
   {
    "duration": 42,
    "start_time": "2022-06-25T14:12:05.642Z"
   },
   {
    "duration": 47,
    "start_time": "2022-06-25T14:12:05.686Z"
   },
   {
    "duration": 329,
    "start_time": "2022-06-25T14:12:05.735Z"
   },
   {
    "duration": 12,
    "start_time": "2022-06-25T14:12:06.065Z"
   },
   {
    "duration": 70,
    "start_time": "2022-06-25T14:12:06.080Z"
   },
   {
    "duration": 5,
    "start_time": "2022-06-25T14:12:06.152Z"
   },
   {
    "duration": 35,
    "start_time": "2022-06-25T14:12:06.158Z"
   },
   {
    "duration": 108,
    "start_time": "2022-06-25T14:12:06.195Z"
   },
   {
    "duration": 77,
    "start_time": "2022-06-25T14:12:06.305Z"
   },
   {
    "duration": 199,
    "start_time": "2022-06-25T14:12:06.385Z"
   },
   {
    "duration": 41,
    "start_time": "2022-06-25T14:12:09.435Z"
   },
   {
    "duration": 41,
    "start_time": "2022-06-25T14:12:29.972Z"
   },
   {
    "duration": 35,
    "start_time": "2022-06-25T14:12:38.068Z"
   },
   {
    "duration": 34,
    "start_time": "2022-06-25T14:12:47.740Z"
   },
   {
    "duration": 34,
    "start_time": "2022-06-25T14:13:58.140Z"
   },
   {
    "duration": 132,
    "start_time": "2022-06-25T14:30:14.885Z"
   },
   {
    "duration": 65,
    "start_time": "2022-06-25T14:30:27.485Z"
   },
   {
    "duration": 57,
    "start_time": "2022-06-25T14:30:45.747Z"
   },
   {
    "duration": 41,
    "start_time": "2022-06-25T14:31:20.408Z"
   },
   {
    "duration": 42,
    "start_time": "2022-06-25T14:32:36.474Z"
   },
   {
    "duration": 44,
    "start_time": "2022-06-25T14:36:10.797Z"
   },
   {
    "duration": 11,
    "start_time": "2022-06-25T14:49:19.796Z"
   },
   {
    "duration": 155,
    "start_time": "2022-06-25T14:49:19.808Z"
   },
   {
    "duration": 3,
    "start_time": "2022-06-25T14:49:19.964Z"
   },
   {
    "duration": 77,
    "start_time": "2022-06-25T14:49:19.969Z"
   },
   {
    "duration": 26,
    "start_time": "2022-06-25T14:49:20.048Z"
   },
   {
    "duration": 139,
    "start_time": "2022-06-25T14:49:20.075Z"
   },
   {
    "duration": 144,
    "start_time": "2022-06-25T14:49:20.216Z"
   },
   {
    "duration": 17,
    "start_time": "2022-06-25T14:49:20.361Z"
   },
   {
    "duration": 4,
    "start_time": "2022-06-25T14:49:20.380Z"
   },
   {
    "duration": 47,
    "start_time": "2022-06-25T14:49:20.386Z"
   },
   {
    "duration": 31,
    "start_time": "2022-06-25T14:49:20.434Z"
   },
   {
    "duration": 368,
    "start_time": "2022-06-25T14:49:20.466Z"
   },
   {
    "duration": 12,
    "start_time": "2022-06-25T14:49:20.839Z"
   },
   {
    "duration": 43,
    "start_time": "2022-06-25T14:49:20.854Z"
   },
   {
    "duration": 4,
    "start_time": "2022-06-25T14:49:20.899Z"
   },
   {
    "duration": 50,
    "start_time": "2022-06-25T14:49:20.905Z"
   },
   {
    "duration": 79,
    "start_time": "2022-06-25T14:49:20.957Z"
   },
   {
    "duration": 54,
    "start_time": "2022-06-25T14:49:21.038Z"
   },
   {
    "duration": 104,
    "start_time": "2022-06-25T14:49:21.094Z"
   },
   {
    "duration": 48,
    "start_time": "2022-06-25T14:49:21.199Z"
   },
   {
    "duration": 37,
    "start_time": "2022-06-25T14:49:21.249Z"
   },
   {
    "duration": 18,
    "start_time": "2022-06-25T14:49:28.458Z"
   },
   {
    "duration": 37,
    "start_time": "2022-06-25T14:49:46.640Z"
   },
   {
    "duration": 37,
    "start_time": "2022-06-25T14:50:36.855Z"
   },
   {
    "duration": 30,
    "start_time": "2022-06-25T14:50:45.057Z"
   },
   {
    "duration": 36,
    "start_time": "2022-06-25T14:54:35.490Z"
   },
   {
    "duration": 10,
    "start_time": "2022-06-25T14:55:10.591Z"
   },
   {
    "duration": 15,
    "start_time": "2022-06-25T14:55:24.527Z"
   },
   {
    "duration": 165,
    "start_time": "2022-06-25T14:55:24.544Z"
   },
   {
    "duration": 3,
    "start_time": "2022-06-25T14:55:24.711Z"
   },
   {
    "duration": 85,
    "start_time": "2022-06-25T14:55:24.716Z"
   },
   {
    "duration": 40,
    "start_time": "2022-06-25T14:55:24.804Z"
   },
   {
    "duration": 129,
    "start_time": "2022-06-25T14:55:24.845Z"
   },
   {
    "duration": 134,
    "start_time": "2022-06-25T14:55:24.976Z"
   },
   {
    "duration": 26,
    "start_time": "2022-06-25T14:55:25.111Z"
   },
   {
    "duration": 13,
    "start_time": "2022-06-25T14:55:25.140Z"
   },
   {
    "duration": 23,
    "start_time": "2022-06-25T14:55:25.154Z"
   },
   {
    "duration": 29,
    "start_time": "2022-06-25T14:55:25.179Z"
   },
   {
    "duration": 336,
    "start_time": "2022-06-25T14:55:25.209Z"
   },
   {
    "duration": 12,
    "start_time": "2022-06-25T14:55:25.547Z"
   },
   {
    "duration": 45,
    "start_time": "2022-06-25T14:55:25.561Z"
   },
   {
    "duration": 34,
    "start_time": "2022-06-25T14:55:25.607Z"
   },
   {
    "duration": 26,
    "start_time": "2022-06-25T14:55:25.643Z"
   },
   {
    "duration": 75,
    "start_time": "2022-06-25T14:55:25.670Z"
   },
   {
    "duration": 55,
    "start_time": "2022-06-25T14:55:25.747Z"
   },
   {
    "duration": 104,
    "start_time": "2022-06-25T14:55:25.803Z"
   },
   {
    "duration": 47,
    "start_time": "2022-06-25T14:55:25.909Z"
   },
   {
    "duration": 35,
    "start_time": "2022-06-25T14:55:25.958Z"
   },
   {
    "duration": 40,
    "start_time": "2022-06-25T14:55:29.268Z"
   },
   {
    "duration": 24,
    "start_time": "2022-06-25T15:41:38.239Z"
   },
   {
    "duration": 20,
    "start_time": "2022-06-25T15:41:47.349Z"
   },
   {
    "duration": 23,
    "start_time": "2022-06-25T15:42:18.718Z"
   },
   {
    "duration": 24,
    "start_time": "2022-06-25T15:43:10.350Z"
   },
   {
    "duration": 49,
    "start_time": "2022-06-25T15:46:22.277Z"
   },
   {
    "duration": 18,
    "start_time": "2022-06-25T15:49:00.560Z"
   },
   {
    "duration": 11,
    "start_time": "2022-06-25T15:49:58.486Z"
   },
   {
    "duration": 182,
    "start_time": "2022-06-25T15:49:58.499Z"
   },
   {
    "duration": 3,
    "start_time": "2022-06-25T15:49:58.683Z"
   },
   {
    "duration": 94,
    "start_time": "2022-06-25T15:49:58.689Z"
   },
   {
    "duration": 27,
    "start_time": "2022-06-25T15:49:58.786Z"
   },
   {
    "duration": 134,
    "start_time": "2022-06-25T15:49:58.832Z"
   },
   {
    "duration": 124,
    "start_time": "2022-06-25T15:49:58.967Z"
   },
   {
    "duration": 17,
    "start_time": "2022-06-25T15:49:59.092Z"
   },
   {
    "duration": 19,
    "start_time": "2022-06-25T15:49:59.110Z"
   },
   {
    "duration": 30,
    "start_time": "2022-06-25T15:49:59.131Z"
   },
   {
    "duration": 30,
    "start_time": "2022-06-25T15:49:59.163Z"
   },
   {
    "duration": 358,
    "start_time": "2022-06-25T15:49:59.194Z"
   },
   {
    "duration": 13,
    "start_time": "2022-06-25T15:49:59.554Z"
   },
   {
    "duration": 67,
    "start_time": "2022-06-25T15:49:59.569Z"
   },
   {
    "duration": 5,
    "start_time": "2022-06-25T15:49:59.639Z"
   },
   {
    "duration": 30,
    "start_time": "2022-06-25T15:49:59.646Z"
   },
   {
    "duration": 88,
    "start_time": "2022-06-25T15:49:59.678Z"
   },
   {
    "duration": 71,
    "start_time": "2022-06-25T15:49:59.768Z"
   },
   {
    "duration": 101,
    "start_time": "2022-06-25T15:49:59.847Z"
   },
   {
    "duration": 36,
    "start_time": "2022-06-25T15:49:59.951Z"
   },
   {
    "duration": 61,
    "start_time": "2022-06-25T15:49:59.989Z"
   },
   {
    "duration": 48,
    "start_time": "2022-06-25T15:50:00.052Z"
   },
   {
    "duration": 44,
    "start_time": "2022-06-25T15:50:03.452Z"
   },
   {
    "duration": 13,
    "start_time": "2022-06-25T15:50:06.378Z"
   },
   {
    "duration": 4,
    "start_time": "2022-06-25T15:50:09.251Z"
   },
   {
    "duration": 10,
    "start_time": "2022-06-25T16:37:50.896Z"
   },
   {
    "duration": 170,
    "start_time": "2022-06-25T16:37:50.908Z"
   },
   {
    "duration": 4,
    "start_time": "2022-06-25T16:37:51.080Z"
   },
   {
    "duration": 90,
    "start_time": "2022-06-25T16:37:51.085Z"
   },
   {
    "duration": 25,
    "start_time": "2022-06-25T16:37:51.178Z"
   },
   {
    "duration": 162,
    "start_time": "2022-06-25T16:37:51.204Z"
   },
   {
    "duration": 121,
    "start_time": "2022-06-25T16:37:51.368Z"
   },
   {
    "duration": 18,
    "start_time": "2022-06-25T16:37:51.491Z"
   },
   {
    "duration": 20,
    "start_time": "2022-06-25T16:37:51.510Z"
   },
   {
    "duration": 26,
    "start_time": "2022-06-25T16:37:51.531Z"
   },
   {
    "duration": 30,
    "start_time": "2022-06-25T16:37:51.559Z"
   },
   {
    "duration": 439,
    "start_time": "2022-06-25T16:37:51.590Z"
   },
   {
    "duration": 15,
    "start_time": "2022-06-25T16:37:52.034Z"
   },
   {
    "duration": 44,
    "start_time": "2022-06-25T16:37:52.051Z"
   },
   {
    "duration": 4,
    "start_time": "2022-06-25T16:37:52.097Z"
   },
   {
    "duration": 49,
    "start_time": "2022-06-25T16:37:52.103Z"
   },
   {
    "duration": 83,
    "start_time": "2022-06-25T16:37:52.154Z"
   },
   {
    "duration": 52,
    "start_time": "2022-06-25T16:37:52.239Z"
   },
   {
    "duration": 109,
    "start_time": "2022-06-25T16:37:52.292Z"
   },
   {
    "duration": 38,
    "start_time": "2022-06-25T16:37:52.403Z"
   },
   {
    "duration": 41,
    "start_time": "2022-06-25T16:37:52.443Z"
   },
   {
    "duration": 72,
    "start_time": "2022-06-25T16:37:54.695Z"
   },
   {
    "duration": 117,
    "start_time": "2022-06-25T16:38:58.175Z"
   },
   {
    "duration": 4,
    "start_time": "2022-06-25T16:39:51.154Z"
   },
   {
    "duration": 23,
    "start_time": "2022-06-25T16:39:53.698Z"
   },
   {
    "duration": 4,
    "start_time": "2022-06-25T16:40:58.673Z"
   },
   {
    "duration": 26,
    "start_time": "2022-06-25T16:40:59.515Z"
   },
   {
    "duration": 71,
    "start_time": "2022-06-25T16:48:53.614Z"
   },
   {
    "duration": 74,
    "start_time": "2022-06-25T16:49:05.171Z"
   },
   {
    "duration": 6,
    "start_time": "2022-06-25T16:57:35.151Z"
   },
   {
    "duration": 75,
    "start_time": "2022-06-25T16:58:17.911Z"
   },
   {
    "duration": 12,
    "start_time": "2022-06-25T17:02:28.792Z"
   },
   {
    "duration": 6,
    "start_time": "2022-06-25T17:03:03.730Z"
   },
   {
    "duration": 6,
    "start_time": "2022-06-25T17:18:50.269Z"
   },
   {
    "duration": 771,
    "start_time": "2022-06-25T17:18:52.200Z"
   },
   {
    "duration": 6,
    "start_time": "2022-06-25T17:20:36.470Z"
   },
   {
    "duration": 851,
    "start_time": "2022-06-25T17:20:38.891Z"
   },
   {
    "duration": 48,
    "start_time": "2022-06-25T17:21:44.166Z"
   },
   {
    "duration": 52,
    "start_time": "2022-06-25T17:22:07.291Z"
   },
   {
    "duration": 6,
    "start_time": "2022-06-25T17:22:25.971Z"
   },
   {
    "duration": 748,
    "start_time": "2022-06-25T17:22:30.329Z"
   },
   {
    "duration": 675,
    "start_time": "2022-06-25T17:23:47.469Z"
   },
   {
    "duration": 73,
    "start_time": "2022-06-25T17:24:14.128Z"
   },
   {
    "duration": 19,
    "start_time": "2022-06-25T17:34:27.363Z"
   },
   {
    "duration": 9,
    "start_time": "2022-06-25T17:34:34.881Z"
   },
   {
    "duration": 7,
    "start_time": "2022-06-25T17:35:44.683Z"
   },
   {
    "duration": 19,
    "start_time": "2022-06-25T17:35:45.348Z"
   },
   {
    "duration": 19,
    "start_time": "2022-06-25T17:35:46.057Z"
   },
   {
    "duration": 11,
    "start_time": "2022-06-25T17:36:30.766Z"
   },
   {
    "duration": 146,
    "start_time": "2022-06-25T17:36:30.779Z"
   },
   {
    "duration": 4,
    "start_time": "2022-06-25T17:36:30.927Z"
   },
   {
    "duration": 69,
    "start_time": "2022-06-25T17:36:30.932Z"
   },
   {
    "duration": 37,
    "start_time": "2022-06-25T17:36:31.003Z"
   },
   {
    "duration": 131,
    "start_time": "2022-06-25T17:36:31.041Z"
   },
   {
    "duration": 137,
    "start_time": "2022-06-25T17:36:31.173Z"
   },
   {
    "duration": 23,
    "start_time": "2022-06-25T17:36:31.311Z"
   },
   {
    "duration": 17,
    "start_time": "2022-06-25T17:36:31.336Z"
   },
   {
    "duration": 35,
    "start_time": "2022-06-25T17:36:31.355Z"
   },
   {
    "duration": 46,
    "start_time": "2022-06-25T17:36:31.391Z"
   },
   {
    "duration": 315,
    "start_time": "2022-06-25T17:36:31.439Z"
   },
   {
    "duration": 13,
    "start_time": "2022-06-25T17:36:31.756Z"
   },
   {
    "duration": 71,
    "start_time": "2022-06-25T17:36:31.772Z"
   },
   {
    "duration": 4,
    "start_time": "2022-06-25T17:36:31.846Z"
   },
   {
    "duration": 53,
    "start_time": "2022-06-25T17:36:31.852Z"
   },
   {
    "duration": 71,
    "start_time": "2022-06-25T17:36:31.907Z"
   },
   {
    "duration": 64,
    "start_time": "2022-06-25T17:36:31.980Z"
   },
   {
    "duration": 101,
    "start_time": "2022-06-25T17:36:32.046Z"
   },
   {
    "duration": 37,
    "start_time": "2022-06-25T17:36:32.149Z"
   },
   {
    "duration": 54,
    "start_time": "2022-06-25T17:36:32.188Z"
   },
   {
    "duration": 7,
    "start_time": "2022-06-25T17:36:32.243Z"
   },
   {
    "duration": 65,
    "start_time": "2022-06-25T17:36:32.252Z"
   },
   {
    "duration": 21,
    "start_time": "2022-06-25T17:36:32.319Z"
   },
   {
    "duration": 29,
    "start_time": "2022-06-25T17:37:05.284Z"
   },
   {
    "duration": 29,
    "start_time": "2022-06-25T17:37:06.393Z"
   },
   {
    "duration": 18,
    "start_time": "2022-06-25T17:38:32.829Z"
   },
   {
    "duration": 65,
    "start_time": "2022-06-25T17:38:50.929Z"
   },
   {
    "duration": 72,
    "start_time": "2022-06-25T17:39:11.144Z"
   },
   {
    "duration": 67,
    "start_time": "2022-06-25T17:39:48.978Z"
   },
   {
    "duration": 88,
    "start_time": "2022-06-25T17:46:29.909Z"
   },
   {
    "duration": 110,
    "start_time": "2022-06-25T17:50:03.799Z"
   },
   {
    "duration": 100,
    "start_time": "2022-06-25T17:53:43.808Z"
   },
   {
    "duration": 90,
    "start_time": "2022-06-25T17:54:14.450Z"
   },
   {
    "duration": 109,
    "start_time": "2022-06-25T17:55:35.468Z"
   },
   {
    "duration": 99,
    "start_time": "2022-06-25T17:57:15.329Z"
   },
   {
    "duration": 96,
    "start_time": "2022-06-25T17:57:44.390Z"
   },
   {
    "duration": 25,
    "start_time": "2022-06-25T18:00:58.110Z"
   },
   {
    "duration": 24,
    "start_time": "2022-06-25T18:07:48.055Z"
   },
   {
    "duration": 24,
    "start_time": "2022-06-25T18:08:24.056Z"
   },
   {
    "duration": 24,
    "start_time": "2022-06-25T18:09:07.216Z"
   },
   {
    "duration": 24,
    "start_time": "2022-06-25T18:09:46.076Z"
   },
   {
    "duration": 29,
    "start_time": "2022-06-25T18:10:13.864Z"
   },
   {
    "duration": 24,
    "start_time": "2022-06-25T18:10:21.812Z"
   },
   {
    "duration": 20,
    "start_time": "2022-06-25T18:12:31.607Z"
   },
   {
    "duration": 21,
    "start_time": "2022-06-25T18:12:33.712Z"
   },
   {
    "duration": 21,
    "start_time": "2022-06-25T18:12:35.956Z"
   },
   {
    "duration": 20,
    "start_time": "2022-06-25T18:15:02.743Z"
   },
   {
    "duration": 22,
    "start_time": "2022-06-25T18:15:03.411Z"
   },
   {
    "duration": 22,
    "start_time": "2022-06-25T18:15:05.437Z"
   },
   {
    "duration": 19,
    "start_time": "2022-06-25T18:16:45.524Z"
   },
   {
    "duration": 19,
    "start_time": "2022-06-25T18:16:48.378Z"
   },
   {
    "duration": 19,
    "start_time": "2022-06-25T18:16:49.512Z"
   },
   {
    "duration": 3,
    "start_time": "2022-06-25T18:21:46.812Z"
   },
   {
    "duration": 19,
    "start_time": "2022-06-25T18:23:43.359Z"
   },
   {
    "duration": 25,
    "start_time": "2022-06-25T18:26:10.426Z"
   },
   {
    "duration": 25,
    "start_time": "2022-06-25T18:26:18.079Z"
   },
   {
    "duration": 29,
    "start_time": "2022-06-25T18:26:26.381Z"
   },
   {
    "duration": 22,
    "start_time": "2022-06-25T18:28:46.140Z"
   },
   {
    "duration": 22,
    "start_time": "2022-06-25T18:28:52.480Z"
   },
   {
    "duration": 24,
    "start_time": "2022-06-25T18:28:58.520Z"
   },
   {
    "duration": 23,
    "start_time": "2022-06-25T18:30:17.828Z"
   },
   {
    "duration": 21,
    "start_time": "2022-06-25T18:30:22.060Z"
   },
   {
    "duration": 23,
    "start_time": "2022-06-25T18:30:28.313Z"
   },
   {
    "duration": 19,
    "start_time": "2022-06-25T18:31:57.615Z"
   },
   {
    "duration": 21,
    "start_time": "2022-06-25T18:32:02.989Z"
   },
   {
    "duration": 21,
    "start_time": "2022-06-25T18:32:09.906Z"
   },
   {
    "duration": 13,
    "start_time": "2022-06-25T18:32:56.196Z"
   },
   {
    "duration": 192,
    "start_time": "2022-06-25T18:32:56.212Z"
   },
   {
    "duration": 4,
    "start_time": "2022-06-25T18:32:56.406Z"
   },
   {
    "duration": 82,
    "start_time": "2022-06-25T18:32:56.412Z"
   },
   {
    "duration": 37,
    "start_time": "2022-06-25T18:32:56.496Z"
   },
   {
    "duration": 131,
    "start_time": "2022-06-25T18:32:56.534Z"
   },
   {
    "duration": 126,
    "start_time": "2022-06-25T18:32:56.666Z"
   },
   {
    "duration": 16,
    "start_time": "2022-06-25T18:32:56.794Z"
   },
   {
    "duration": 15,
    "start_time": "2022-06-25T18:32:56.812Z"
   },
   {
    "duration": 25,
    "start_time": "2022-06-25T18:32:56.829Z"
   },
   {
    "duration": 32,
    "start_time": "2022-06-25T18:32:56.855Z"
   },
   {
    "duration": 331,
    "start_time": "2022-06-25T18:32:56.888Z"
   },
   {
    "duration": 17,
    "start_time": "2022-06-25T18:32:57.220Z"
   },
   {
    "duration": 52,
    "start_time": "2022-06-25T18:32:57.240Z"
   },
   {
    "duration": 5,
    "start_time": "2022-06-25T18:32:57.293Z"
   },
   {
    "duration": 50,
    "start_time": "2022-06-25T18:32:57.299Z"
   },
   {
    "duration": 77,
    "start_time": "2022-06-25T18:32:57.350Z"
   },
   {
    "duration": 52,
    "start_time": "2022-06-25T18:32:57.428Z"
   },
   {
    "duration": 113,
    "start_time": "2022-06-25T18:32:57.482Z"
   },
   {
    "duration": 46,
    "start_time": "2022-06-25T18:32:57.596Z"
   },
   {
    "duration": 37,
    "start_time": "2022-06-25T18:32:57.643Z"
   },
   {
    "duration": 5,
    "start_time": "2022-06-25T18:32:57.682Z"
   },
   {
    "duration": 45,
    "start_time": "2022-06-25T18:32:57.689Z"
   },
   {
    "duration": 19,
    "start_time": "2022-06-25T18:32:57.736Z"
   },
   {
    "duration": 110,
    "start_time": "2022-06-25T18:32:57.756Z"
   },
   {
    "duration": 23,
    "start_time": "2022-06-25T18:32:57.867Z"
   },
   {
    "duration": 36,
    "start_time": "2022-06-25T18:32:57.892Z"
   },
   {
    "duration": 23,
    "start_time": "2022-06-25T18:32:57.930Z"
   },
   {
    "duration": 19,
    "start_time": "2022-06-25T18:32:57.955Z"
   },
   {
    "duration": 20,
    "start_time": "2022-06-25T18:32:57.976Z"
   },
   {
    "duration": 46,
    "start_time": "2022-06-25T18:32:57.997Z"
   },
   {
    "duration": 22,
    "start_time": "2022-06-25T18:32:58.044Z"
   },
   {
    "duration": 21,
    "start_time": "2022-06-25T18:32:58.067Z"
   },
   {
    "duration": 46,
    "start_time": "2022-06-25T18:32:58.089Z"
   },
   {
    "duration": 18,
    "start_time": "2022-06-25T18:32:58.137Z"
   },
   {
    "duration": 19,
    "start_time": "2022-06-25T18:32:58.157Z"
   },
   {
    "duration": 18,
    "start_time": "2022-06-25T18:32:58.177Z"
   },
   {
    "duration": 2,
    "start_time": "2022-06-25T18:32:58.197Z"
   },
   {
    "duration": 39,
    "start_time": "2022-06-25T18:32:58.201Z"
   },
   {
    "duration": 24,
    "start_time": "2022-06-25T18:32:58.241Z"
   },
   {
    "duration": 23,
    "start_time": "2022-06-25T18:32:58.268Z"
   },
   {
    "duration": 49,
    "start_time": "2022-06-25T18:32:58.293Z"
   },
   {
    "duration": 20,
    "start_time": "2022-06-25T18:32:58.343Z"
   },
   {
    "duration": 19,
    "start_time": "2022-06-25T18:32:58.365Z"
   },
   {
    "duration": 42,
    "start_time": "2022-06-25T18:32:58.385Z"
   },
   {
    "duration": 21,
    "start_time": "2022-06-25T18:32:58.429Z"
   },
   {
    "duration": 20,
    "start_time": "2022-06-25T18:32:58.452Z"
   },
   {
    "duration": 21,
    "start_time": "2022-06-25T18:32:58.473Z"
   },
   {
    "duration": 40,
    "start_time": "2022-06-25T18:32:58.495Z"
   },
   {
    "duration": 19,
    "start_time": "2022-06-25T18:32:58.537Z"
   },
   {
    "duration": 19,
    "start_time": "2022-06-25T18:32:58.557Z"
   },
   {
    "duration": 1416,
    "start_time": "2022-06-25T21:09:35.508Z"
   },
   {
    "duration": 192,
    "start_time": "2022-06-25T21:09:36.926Z"
   },
   {
    "duration": 4,
    "start_time": "2022-06-25T21:09:37.120Z"
   },
   {
    "duration": 144,
    "start_time": "2022-06-25T21:09:37.128Z"
   },
   {
    "duration": 29,
    "start_time": "2022-06-25T21:09:37.274Z"
   },
   {
    "duration": 203,
    "start_time": "2022-06-25T21:09:37.305Z"
   },
   {
    "duration": 182,
    "start_time": "2022-06-25T21:09:37.511Z"
   },
   {
    "duration": 24,
    "start_time": "2022-06-25T21:09:37.695Z"
   },
   {
    "duration": 8,
    "start_time": "2022-06-25T21:09:37.721Z"
   },
   {
    "duration": 35,
    "start_time": "2022-06-25T21:09:37.753Z"
   },
   {
    "duration": 75,
    "start_time": "2022-06-25T21:09:37.791Z"
   },
   {
    "duration": 521,
    "start_time": "2022-06-25T21:09:37.868Z"
   },
   {
    "duration": 14,
    "start_time": "2022-06-25T21:09:38.391Z"
   },
   {
    "duration": 77,
    "start_time": "2022-06-25T21:09:38.407Z"
   },
   {
    "duration": 5,
    "start_time": "2022-06-25T21:09:38.486Z"
   },
   {
    "duration": 32,
    "start_time": "2022-06-25T21:09:38.493Z"
   },
   {
    "duration": 107,
    "start_time": "2022-06-25T21:09:38.527Z"
   },
   {
    "duration": 81,
    "start_time": "2022-06-25T21:09:38.636Z"
   },
   {
    "duration": 292,
    "start_time": "2022-06-25T21:09:38.719Z"
   },
   {
    "duration": 69,
    "start_time": "2022-06-25T21:09:39.014Z"
   },
   {
    "duration": 101,
    "start_time": "2022-06-25T21:09:39.085Z"
   },
   {
    "duration": 8,
    "start_time": "2022-06-25T21:09:39.188Z"
   },
   {
    "duration": 82,
    "start_time": "2022-06-25T21:09:39.198Z"
   },
   {
    "duration": 23,
    "start_time": "2022-06-25T21:09:39.282Z"
   },
   {
    "duration": 139,
    "start_time": "2022-06-25T21:09:39.307Z"
   },
   {
    "duration": 35,
    "start_time": "2022-06-25T21:09:39.450Z"
   },
   {
    "duration": 32,
    "start_time": "2022-06-25T21:09:39.487Z"
   },
   {
    "duration": 58,
    "start_time": "2022-06-25T21:09:39.523Z"
   },
   {
    "duration": 24,
    "start_time": "2022-06-25T21:09:39.583Z"
   },
   {
    "duration": 55,
    "start_time": "2022-06-25T21:09:39.609Z"
   },
   {
    "duration": 25,
    "start_time": "2022-06-25T21:09:39.666Z"
   },
   {
    "duration": 26,
    "start_time": "2022-06-25T21:09:39.693Z"
   },
   {
    "duration": 48,
    "start_time": "2022-06-25T21:09:39.721Z"
   },
   {
    "duration": 24,
    "start_time": "2022-06-25T21:09:39.771Z"
   },
   {
    "duration": 23,
    "start_time": "2022-06-25T21:09:39.797Z"
   },
   {
    "duration": 53,
    "start_time": "2022-06-25T21:09:39.821Z"
   },
   {
    "duration": 24,
    "start_time": "2022-06-25T21:09:39.877Z"
   },
   {
    "duration": 4,
    "start_time": "2022-06-25T21:09:39.903Z"
   },
   {
    "duration": 61,
    "start_time": "2022-06-25T21:09:39.909Z"
   },
   {
    "duration": 27,
    "start_time": "2022-06-25T21:09:39.972Z"
   },
   {
    "duration": 29,
    "start_time": "2022-06-25T21:09:40.001Z"
   },
   {
    "duration": 34,
    "start_time": "2022-06-25T21:09:40.055Z"
   },
   {
    "duration": 24,
    "start_time": "2022-06-25T21:09:40.091Z"
   },
   {
    "duration": 53,
    "start_time": "2022-06-25T21:09:40.117Z"
   },
   {
    "duration": 35,
    "start_time": "2022-06-25T21:09:40.174Z"
   },
   {
    "duration": 28,
    "start_time": "2022-06-25T21:09:40.211Z"
   },
   {
    "duration": 34,
    "start_time": "2022-06-25T21:09:40.251Z"
   },
   {
    "duration": 28,
    "start_time": "2022-06-25T21:09:40.287Z"
   },
   {
    "duration": 59,
    "start_time": "2022-06-25T21:09:40.317Z"
   },
   {
    "duration": 23,
    "start_time": "2022-06-25T21:09:40.379Z"
   },
   {
    "duration": 22,
    "start_time": "2022-06-25T21:09:40.405Z"
   },
   {
    "duration": 1365,
    "start_time": "2022-06-27T21:57:21.446Z"
   },
   {
    "duration": 464,
    "start_time": "2022-06-27T21:57:22.813Z"
   },
   {
    "duration": 16,
    "start_time": "2022-06-27T21:57:23.279Z"
   },
   {
    "duration": 122,
    "start_time": "2022-06-27T21:57:23.297Z"
   },
   {
    "duration": 28,
    "start_time": "2022-06-27T21:57:23.422Z"
   },
   {
    "duration": 145,
    "start_time": "2022-06-27T21:57:23.452Z"
   },
   {
    "duration": 135,
    "start_time": "2022-06-27T21:57:23.599Z"
   },
   {
    "duration": 16,
    "start_time": "2022-06-27T21:57:23.736Z"
   },
   {
    "duration": 4,
    "start_time": "2022-06-27T21:57:23.754Z"
   },
   {
    "duration": 28,
    "start_time": "2022-06-27T21:57:23.759Z"
   },
   {
    "duration": 144,
    "start_time": "2022-06-27T21:57:29.479Z"
   },
   {
    "duration": 145,
    "start_time": "2022-06-27T21:58:44.029Z"
   },
   {
    "duration": 124,
    "start_time": "2022-06-27T21:58:58.996Z"
   },
   {
    "duration": 151,
    "start_time": "2022-06-27T21:59:18.200Z"
   },
   {
    "duration": 145,
    "start_time": "2022-06-27T21:59:55.655Z"
   },
   {
    "duration": 21,
    "start_time": "2022-06-27T22:01:46.069Z"
   },
   {
    "duration": 24,
    "start_time": "2022-06-27T22:02:21.076Z"
   },
   {
    "duration": 24,
    "start_time": "2022-06-27T22:02:41.048Z"
   },
   {
    "duration": 114,
    "start_time": "2022-06-27T22:04:09.814Z"
   },
   {
    "duration": 48,
    "start_time": "2022-06-27T22:04:16.756Z"
   },
   {
    "duration": 22,
    "start_time": "2022-06-27T22:05:43.209Z"
   },
   {
    "duration": 102,
    "start_time": "2022-06-27T22:05:49.230Z"
   },
   {
    "duration": 117,
    "start_time": "2022-06-27T22:06:02.337Z"
   },
   {
    "duration": 94,
    "start_time": "2022-06-27T22:06:59.586Z"
   },
   {
    "duration": 98,
    "start_time": "2022-06-27T22:07:20.799Z"
   },
   {
    "duration": 98,
    "start_time": "2022-06-27T22:07:27.550Z"
   },
   {
    "duration": 167,
    "start_time": "2022-06-27T22:07:43.217Z"
   },
   {
    "duration": 114,
    "start_time": "2022-06-27T22:11:29.930Z"
   },
   {
    "duration": 109,
    "start_time": "2022-06-27T22:11:41.129Z"
   },
   {
    "duration": 111,
    "start_time": "2022-06-27T22:12:44.490Z"
   },
   {
    "duration": 103,
    "start_time": "2022-06-27T22:12:50.591Z"
   },
   {
    "duration": 129,
    "start_time": "2022-06-27T22:17:11.440Z"
   },
   {
    "duration": 10,
    "start_time": "2022-06-27T22:19:42.254Z"
   },
   {
    "duration": 148,
    "start_time": "2022-06-27T22:19:42.267Z"
   },
   {
    "duration": 4,
    "start_time": "2022-06-27T22:19:42.416Z"
   },
   {
    "duration": 74,
    "start_time": "2022-06-27T22:19:42.422Z"
   },
   {
    "duration": 38,
    "start_time": "2022-06-27T22:19:42.498Z"
   },
   {
    "duration": 123,
    "start_time": "2022-06-27T22:19:42.537Z"
   },
   {
    "duration": 125,
    "start_time": "2022-06-27T22:19:42.661Z"
   },
   {
    "duration": 16,
    "start_time": "2022-06-27T22:19:42.787Z"
   },
   {
    "duration": 4,
    "start_time": "2022-06-27T22:19:42.804Z"
   },
   {
    "duration": 22,
    "start_time": "2022-06-27T22:19:42.827Z"
   },
   {
    "duration": 21,
    "start_time": "2022-06-27T22:19:42.850Z"
   },
   {
    "duration": 124,
    "start_time": "2022-06-27T22:19:42.873Z"
   },
   {
    "duration": 36,
    "start_time": "2022-06-27T22:19:42.999Z"
   },
   {
    "duration": 29,
    "start_time": "2022-06-27T22:19:51.573Z"
   },
   {
    "duration": 425,
    "start_time": "2022-06-27T22:19:52.921Z"
   },
   {
    "duration": 5,
    "start_time": "2022-06-27T22:27:38.850Z"
   },
   {
    "duration": 270,
    "start_time": "2022-06-27T22:27:46.457Z"
   },
   {
    "duration": 341,
    "start_time": "2022-06-27T22:29:32.278Z"
   },
   {
    "duration": 303,
    "start_time": "2022-06-27T22:30:08.917Z"
   },
   {
    "duration": 283,
    "start_time": "2022-06-27T22:30:26.669Z"
   },
   {
    "duration": 254,
    "start_time": "2022-06-27T22:30:43.762Z"
   },
   {
    "duration": 9,
    "start_time": "2022-06-27T22:31:15.008Z"
   },
   {
    "duration": 282,
    "start_time": "2022-06-27T22:31:35.148Z"
   },
   {
    "duration": 316,
    "start_time": "2022-06-27T22:31:48.530Z"
   },
   {
    "duration": 10,
    "start_time": "2022-06-27T22:39:14.650Z"
   },
   {
    "duration": 167,
    "start_time": "2022-06-27T22:39:14.662Z"
   },
   {
    "duration": 4,
    "start_time": "2022-06-27T22:39:14.831Z"
   },
   {
    "duration": 76,
    "start_time": "2022-06-27T22:39:14.837Z"
   },
   {
    "duration": 25,
    "start_time": "2022-06-27T22:39:14.926Z"
   },
   {
    "duration": 128,
    "start_time": "2022-06-27T22:39:14.953Z"
   },
   {
    "duration": 130,
    "start_time": "2022-06-27T22:39:15.083Z"
   },
   {
    "duration": 22,
    "start_time": "2022-06-27T22:39:15.214Z"
   },
   {
    "duration": 5,
    "start_time": "2022-06-27T22:39:15.237Z"
   },
   {
    "duration": 26,
    "start_time": "2022-06-27T22:39:15.243Z"
   },
   {
    "duration": 20,
    "start_time": "2022-06-27T22:39:15.271Z"
   },
   {
    "duration": 135,
    "start_time": "2022-06-27T22:39:15.293Z"
   },
   {
    "duration": 28,
    "start_time": "2022-06-27T22:39:15.430Z"
   },
   {
    "duration": 348,
    "start_time": "2022-06-27T22:39:15.460Z"
   },
   {
    "duration": 6,
    "start_time": "2022-06-27T22:39:15.810Z"
   },
   {
    "duration": 422,
    "start_time": "2022-06-27T22:39:15.818Z"
   },
   {
    "duration": 13,
    "start_time": "2022-06-27T22:39:16.241Z"
   },
   {
    "duration": 42,
    "start_time": "2022-06-27T22:39:16.256Z"
   },
   {
    "duration": 5,
    "start_time": "2022-06-27T22:39:16.299Z"
   },
   {
    "duration": 23,
    "start_time": "2022-06-27T22:39:16.327Z"
   },
   {
    "duration": 25,
    "start_time": "2022-06-27T22:39:18.486Z"
   },
   {
    "duration": 222,
    "start_time": "2022-06-27T22:39:21.009Z"
   },
   {
    "duration": 24,
    "start_time": "2022-06-27T22:39:56.358Z"
   },
   {
    "duration": 717,
    "start_time": "2022-06-27T22:40:36.146Z"
   },
   {
    "duration": 10,
    "start_time": "2022-06-27T22:42:31.618Z"
   },
   {
    "duration": 30,
    "start_time": "2022-06-27T22:45:54.937Z"
   },
   {
    "duration": 12,
    "start_time": "2022-06-27T22:46:03.573Z"
   },
   {
    "duration": 167,
    "start_time": "2022-06-27T22:46:03.587Z"
   },
   {
    "duration": 3,
    "start_time": "2022-06-27T22:46:03.756Z"
   },
   {
    "duration": 82,
    "start_time": "2022-06-27T22:46:03.761Z"
   },
   {
    "duration": 33,
    "start_time": "2022-06-27T22:46:03.845Z"
   },
   {
    "duration": 147,
    "start_time": "2022-06-27T22:46:03.880Z"
   },
   {
    "duration": 122,
    "start_time": "2022-06-27T22:46:04.029Z"
   },
   {
    "duration": 17,
    "start_time": "2022-06-27T22:46:04.153Z"
   },
   {
    "duration": 5,
    "start_time": "2022-06-27T22:46:04.172Z"
   },
   {
    "duration": 24,
    "start_time": "2022-06-27T22:46:04.178Z"
   },
   {
    "duration": 23,
    "start_time": "2022-06-27T22:46:04.227Z"
   },
   {
    "duration": 127,
    "start_time": "2022-06-27T22:46:04.252Z"
   },
   {
    "duration": 31,
    "start_time": "2022-06-27T22:46:04.380Z"
   },
   {
    "duration": 305,
    "start_time": "2022-06-27T22:46:04.426Z"
   },
   {
    "duration": 7,
    "start_time": "2022-06-27T22:46:04.733Z"
   },
   {
    "duration": 332,
    "start_time": "2022-06-27T22:46:04.742Z"
   },
   {
    "duration": 13,
    "start_time": "2022-06-27T22:46:05.076Z"
   },
   {
    "duration": 63,
    "start_time": "2022-06-27T22:46:05.090Z"
   },
   {
    "duration": 4,
    "start_time": "2022-06-27T22:46:05.154Z"
   },
   {
    "duration": 28,
    "start_time": "2022-06-27T22:46:08.229Z"
   },
   {
    "duration": 26,
    "start_time": "2022-06-27T22:46:18.609Z"
   },
   {
    "duration": 24,
    "start_time": "2022-06-27T22:46:26.157Z"
   },
   {
    "duration": 11,
    "start_time": "2022-06-27T22:46:31.457Z"
   },
   {
    "duration": 11,
    "start_time": "2022-06-27T22:59:30.256Z"
   },
   {
    "duration": 138,
    "start_time": "2022-06-27T22:59:30.269Z"
   },
   {
    "duration": 3,
    "start_time": "2022-06-27T22:59:30.409Z"
   },
   {
    "duration": 100,
    "start_time": "2022-06-27T22:59:30.414Z"
   },
   {
    "duration": 27,
    "start_time": "2022-06-27T22:59:30.516Z"
   },
   {
    "duration": 138,
    "start_time": "2022-06-27T22:59:30.544Z"
   },
   {
    "duration": 117,
    "start_time": "2022-06-27T22:59:30.684Z"
   },
   {
    "duration": 24,
    "start_time": "2022-06-27T22:59:30.803Z"
   },
   {
    "duration": 5,
    "start_time": "2022-06-27T22:59:30.828Z"
   },
   {
    "duration": 28,
    "start_time": "2022-06-27T22:59:30.835Z"
   },
   {
    "duration": 22,
    "start_time": "2022-06-27T22:59:30.865Z"
   },
   {
    "duration": 138,
    "start_time": "2022-06-27T22:59:30.889Z"
   },
   {
    "duration": 29,
    "start_time": "2022-06-27T22:59:31.029Z"
   },
   {
    "duration": 361,
    "start_time": "2022-06-27T22:59:31.060Z"
   },
   {
    "duration": 14,
    "start_time": "2022-06-27T22:59:31.423Z"
   },
   {
    "duration": 10,
    "start_time": "2022-06-27T22:59:31.438Z"
   },
   {
    "duration": 7,
    "start_time": "2022-06-27T22:59:34.207Z"
   },
   {
    "duration": 400,
    "start_time": "2022-06-27T22:59:34.962Z"
   },
   {
    "duration": 92,
    "start_time": "2022-06-27T23:16:56.648Z"
   },
   {
    "duration": 1586,
    "start_time": "2022-06-28T08:33:03.623Z"
   },
   {
    "duration": 691,
    "start_time": "2022-06-28T08:33:05.211Z"
   },
   {
    "duration": 4,
    "start_time": "2022-06-28T08:33:05.903Z"
   },
   {
    "duration": 104,
    "start_time": "2022-06-28T08:33:05.909Z"
   },
   {
    "duration": 41,
    "start_time": "2022-06-28T08:33:06.017Z"
   },
   {
    "duration": 169,
    "start_time": "2022-06-28T08:33:06.061Z"
   },
   {
    "duration": 142,
    "start_time": "2022-06-28T08:33:06.232Z"
   },
   {
    "duration": 18,
    "start_time": "2022-06-28T08:33:06.376Z"
   },
   {
    "duration": 10,
    "start_time": "2022-06-28T08:33:06.396Z"
   },
   {
    "duration": 26,
    "start_time": "2022-06-28T08:33:06.407Z"
   },
   {
    "duration": 26,
    "start_time": "2022-06-28T08:33:06.453Z"
   },
   {
    "duration": 161,
    "start_time": "2022-06-28T08:33:06.481Z"
   },
   {
    "duration": 53,
    "start_time": "2022-06-28T08:33:06.644Z"
   },
   {
    "duration": 500,
    "start_time": "2022-06-28T08:33:06.701Z"
   },
   {
    "duration": 15,
    "start_time": "2022-06-28T08:33:07.203Z"
   },
   {
    "duration": 9,
    "start_time": "2022-06-28T08:33:07.220Z"
   },
   {
    "duration": 413,
    "start_time": "2022-06-28T08:33:07.231Z"
   },
   {
    "duration": 56,
    "start_time": "2022-06-28T08:33:07.646Z"
   },
   {
    "duration": 5,
    "start_time": "2022-06-28T08:33:07.704Z"
   },
   {
    "duration": 53,
    "start_time": "2022-06-28T08:33:07.710Z"
   },
   {
    "duration": 264,
    "start_time": "2022-06-28T08:33:07.765Z"
   },
   {
    "duration": 222,
    "start_time": "2022-06-28T08:33:08.031Z"
   },
   {
    "duration": 81,
    "start_time": "2022-06-28T08:33:08.255Z"
   },
   {
    "duration": 122,
    "start_time": "2022-06-28T08:33:08.354Z"
   },
   {
    "duration": 44,
    "start_time": "2022-06-28T08:33:08.478Z"
   },
   {
    "duration": 64,
    "start_time": "2022-06-28T08:33:08.524Z"
   },
   {
    "duration": 8,
    "start_time": "2022-06-28T08:33:08.589Z"
   },
   {
    "duration": 30,
    "start_time": "2022-06-28T08:33:08.598Z"
   },
   {
    "duration": 35,
    "start_time": "2022-06-28T08:33:08.630Z"
   },
   {
    "duration": 118,
    "start_time": "2022-06-28T08:33:08.667Z"
   },
   {
    "duration": 28,
    "start_time": "2022-06-28T08:33:08.787Z"
   },
   {
    "duration": 45,
    "start_time": "2022-06-28T08:33:08.817Z"
   },
   {
    "duration": 28,
    "start_time": "2022-06-28T08:33:08.865Z"
   },
   {
    "duration": 21,
    "start_time": "2022-06-28T08:33:08.896Z"
   },
   {
    "duration": 45,
    "start_time": "2022-06-28T08:33:08.919Z"
   },
   {
    "duration": 28,
    "start_time": "2022-06-28T08:33:08.966Z"
   },
   {
    "duration": 21,
    "start_time": "2022-06-28T08:33:08.996Z"
   },
   {
    "duration": 58,
    "start_time": "2022-06-28T08:33:09.019Z"
   },
   {
    "duration": 24,
    "start_time": "2022-06-28T08:33:09.079Z"
   },
   {
    "duration": 23,
    "start_time": "2022-06-28T08:33:09.105Z"
   },
   {
    "duration": 32,
    "start_time": "2022-06-28T08:33:09.154Z"
   },
   {
    "duration": 29,
    "start_time": "2022-06-28T08:33:09.188Z"
   },
   {
    "duration": 4,
    "start_time": "2022-06-28T08:33:09.219Z"
   },
   {
    "duration": 49,
    "start_time": "2022-06-28T08:33:09.225Z"
   },
   {
    "duration": 32,
    "start_time": "2022-06-28T08:33:09.276Z"
   },
   {
    "duration": 43,
    "start_time": "2022-06-28T08:33:09.310Z"
   },
   {
    "duration": 29,
    "start_time": "2022-06-28T08:33:09.355Z"
   },
   {
    "duration": 32,
    "start_time": "2022-06-28T08:33:09.386Z"
   },
   {
    "duration": 52,
    "start_time": "2022-06-28T08:33:09.420Z"
   },
   {
    "duration": 36,
    "start_time": "2022-06-28T08:33:09.474Z"
   },
   {
    "duration": 49,
    "start_time": "2022-06-28T08:33:09.513Z"
   },
   {
    "duration": 38,
    "start_time": "2022-06-28T08:33:09.564Z"
   },
   {
    "duration": 28,
    "start_time": "2022-06-28T08:33:09.605Z"
   },
   {
    "duration": 28,
    "start_time": "2022-06-28T08:33:09.654Z"
   },
   {
    "duration": 22,
    "start_time": "2022-06-28T08:33:09.684Z"
   },
   {
    "duration": 45,
    "start_time": "2022-06-28T08:33:09.708Z"
   },
   {
    "duration": 16,
    "start_time": "2022-06-28T08:56:22.252Z"
   },
   {
    "duration": 1497,
    "start_time": "2022-06-28T12:57:28.768Z"
   },
   {
    "duration": 546,
    "start_time": "2022-06-28T12:57:30.268Z"
   },
   {
    "duration": 3,
    "start_time": "2022-06-28T12:57:30.816Z"
   },
   {
    "duration": 121,
    "start_time": "2022-06-28T12:57:30.820Z"
   },
   {
    "duration": 27,
    "start_time": "2022-06-28T12:57:30.943Z"
   },
   {
    "duration": 195,
    "start_time": "2022-06-28T12:57:30.971Z"
   },
   {
    "duration": 156,
    "start_time": "2022-06-28T12:57:31.167Z"
   },
   {
    "duration": 26,
    "start_time": "2022-06-28T12:57:31.325Z"
   },
   {
    "duration": 18,
    "start_time": "2022-06-28T12:57:31.353Z"
   },
   {
    "duration": 40,
    "start_time": "2022-06-28T12:57:31.374Z"
   },
   {
    "duration": 45,
    "start_time": "2022-06-28T12:57:31.417Z"
   },
   {
    "duration": 184,
    "start_time": "2022-06-28T12:57:31.464Z"
   },
   {
    "duration": 32,
    "start_time": "2022-06-28T12:57:31.650Z"
   },
   {
    "duration": 485,
    "start_time": "2022-06-28T12:57:31.684Z"
   },
   {
    "duration": 12,
    "start_time": "2022-06-28T12:57:32.171Z"
   },
   {
    "duration": 6,
    "start_time": "2022-06-28T12:57:32.184Z"
   },
   {
    "duration": 385,
    "start_time": "2022-06-28T12:57:32.192Z"
   },
   {
    "duration": 70,
    "start_time": "2022-06-28T12:57:32.579Z"
   },
   {
    "duration": 6,
    "start_time": "2022-06-28T12:57:32.652Z"
   },
   {
    "duration": 39,
    "start_time": "2022-06-28T12:57:32.661Z"
   },
   {
    "duration": 299,
    "start_time": "2022-06-28T12:57:32.702Z"
   },
   {
    "duration": 145,
    "start_time": "2022-06-28T12:57:33.003Z"
   },
   {
    "duration": 148,
    "start_time": "2022-06-28T12:57:33.151Z"
   },
   {
    "duration": 114,
    "start_time": "2022-06-28T12:57:33.301Z"
   },
   {
    "duration": 49,
    "start_time": "2022-06-28T12:57:33.422Z"
   },
   {
    "duration": 58,
    "start_time": "2022-06-28T12:57:33.473Z"
   },
   {
    "duration": 10,
    "start_time": "2022-06-28T12:57:33.534Z"
   },
   {
    "duration": 35,
    "start_time": "2022-06-28T12:57:33.550Z"
   },
   {
    "duration": 35,
    "start_time": "2022-06-28T12:57:33.588Z"
   },
   {
    "duration": 125,
    "start_time": "2022-06-28T12:57:33.625Z"
   },
   {
    "duration": 25,
    "start_time": "2022-06-28T12:57:33.751Z"
   },
   {
    "duration": 25,
    "start_time": "2022-06-28T12:57:33.778Z"
   },
   {
    "duration": 39,
    "start_time": "2022-06-28T12:57:33.823Z"
   },
   {
    "duration": 23,
    "start_time": "2022-06-28T12:57:33.864Z"
   },
   {
    "duration": 45,
    "start_time": "2022-06-28T12:57:33.889Z"
   },
   {
    "duration": 25,
    "start_time": "2022-06-28T12:57:33.936Z"
   },
   {
    "duration": 22,
    "start_time": "2022-06-28T12:57:33.963Z"
   },
   {
    "duration": 55,
    "start_time": "2022-06-28T12:57:33.988Z"
   },
   {
    "duration": 21,
    "start_time": "2022-06-28T12:57:34.045Z"
   },
   {
    "duration": 18,
    "start_time": "2022-06-28T12:57:34.067Z"
   },
   {
    "duration": 46,
    "start_time": "2022-06-28T12:57:34.087Z"
   },
   {
    "duration": 27,
    "start_time": "2022-06-28T12:57:34.135Z"
   },
   {
    "duration": 3,
    "start_time": "2022-06-28T12:57:34.164Z"
   },
   {
    "duration": 28,
    "start_time": "2022-06-28T12:57:34.168Z"
   },
   {
    "duration": 47,
    "start_time": "2022-06-28T12:57:34.198Z"
   },
   {
    "duration": 38,
    "start_time": "2022-06-28T12:57:34.247Z"
   },
   {
    "duration": 45,
    "start_time": "2022-06-28T12:57:34.287Z"
   },
   {
    "duration": 24,
    "start_time": "2022-06-28T12:57:34.335Z"
   },
   {
    "duration": 30,
    "start_time": "2022-06-28T12:57:34.360Z"
   },
   {
    "duration": 51,
    "start_time": "2022-06-28T12:57:34.392Z"
   },
   {
    "duration": 20,
    "start_time": "2022-06-28T12:57:34.444Z"
   },
   {
    "duration": 21,
    "start_time": "2022-06-28T12:57:34.466Z"
   },
   {
    "duration": 49,
    "start_time": "2022-06-28T12:57:34.489Z"
   },
   {
    "duration": 19,
    "start_time": "2022-06-28T12:57:34.540Z"
   },
   {
    "duration": 19,
    "start_time": "2022-06-28T12:57:34.561Z"
   },
   {
    "duration": 41,
    "start_time": "2022-06-28T12:57:34.582Z"
   },
   {
    "duration": 6,
    "start_time": "2022-06-28T14:17:14.593Z"
   },
   {
    "duration": 11,
    "start_time": "2022-06-28T14:23:39.526Z"
   },
   {
    "duration": 180,
    "start_time": "2022-06-28T14:23:39.546Z"
   },
   {
    "duration": 9,
    "start_time": "2022-06-28T14:23:39.730Z"
   },
   {
    "duration": 87,
    "start_time": "2022-06-28T14:23:39.747Z"
   },
   {
    "duration": 27,
    "start_time": "2022-06-28T14:23:39.850Z"
   },
   {
    "duration": 146,
    "start_time": "2022-06-28T14:23:39.881Z"
   },
   {
    "duration": 161,
    "start_time": "2022-06-28T14:23:40.030Z"
   },
   {
    "duration": 30,
    "start_time": "2022-06-28T14:23:40.193Z"
   },
   {
    "duration": 10,
    "start_time": "2022-06-28T14:23:40.226Z"
   },
   {
    "duration": 45,
    "start_time": "2022-06-28T14:23:40.238Z"
   },
   {
    "duration": 51,
    "start_time": "2022-06-28T14:23:40.286Z"
   },
   {
    "duration": 199,
    "start_time": "2022-06-28T14:23:40.339Z"
   },
   {
    "duration": 31,
    "start_time": "2022-06-28T14:23:40.541Z"
   },
   {
    "duration": 384,
    "start_time": "2022-06-28T14:23:40.574Z"
   },
   {
    "duration": 13,
    "start_time": "2022-06-28T14:23:40.960Z"
   },
   {
    "duration": 8,
    "start_time": "2022-06-28T14:23:40.974Z"
   },
   {
    "duration": 401,
    "start_time": "2022-06-28T14:23:40.984Z"
   },
   {
    "duration": 70,
    "start_time": "2022-06-28T14:23:41.387Z"
   },
   {
    "duration": 4,
    "start_time": "2022-06-28T14:23:41.460Z"
   },
   {
    "duration": 25,
    "start_time": "2022-06-28T14:23:41.466Z"
   },
   {
    "duration": 31,
    "start_time": "2022-06-28T14:23:41.493Z"
   },
   {
    "duration": 96,
    "start_time": "2022-06-28T14:23:41.527Z"
   },
   {
    "duration": 65,
    "start_time": "2022-06-28T14:23:41.627Z"
   },
   {
    "duration": 143,
    "start_time": "2022-06-28T14:23:41.694Z"
   },
   {
    "duration": 38,
    "start_time": "2022-06-28T14:23:41.840Z"
   },
   {
    "duration": 63,
    "start_time": "2022-06-28T14:23:41.880Z"
   },
   {
    "duration": 10,
    "start_time": "2022-06-28T14:23:41.945Z"
   },
   {
    "duration": 33,
    "start_time": "2022-06-28T14:23:41.958Z"
   },
   {
    "duration": 41,
    "start_time": "2022-06-28T14:23:41.995Z"
   },
   {
    "duration": 132,
    "start_time": "2022-06-28T14:23:42.038Z"
   },
   {
    "duration": 23,
    "start_time": "2022-06-28T14:23:42.171Z"
   },
   {
    "duration": 43,
    "start_time": "2022-06-28T14:23:42.195Z"
   },
   {
    "duration": 28,
    "start_time": "2022-06-28T14:23:42.240Z"
   },
   {
    "duration": 19,
    "start_time": "2022-06-28T14:23:42.270Z"
   },
   {
    "duration": 55,
    "start_time": "2022-06-28T14:23:42.291Z"
   },
   {
    "duration": 20,
    "start_time": "2022-06-28T14:23:42.348Z"
   },
   {
    "duration": 21,
    "start_time": "2022-06-28T14:23:42.369Z"
   },
   {
    "duration": 55,
    "start_time": "2022-06-28T14:23:42.391Z"
   },
   {
    "duration": 22,
    "start_time": "2022-06-28T14:23:42.448Z"
   },
   {
    "duration": 19,
    "start_time": "2022-06-28T14:23:42.472Z"
   },
   {
    "duration": 58,
    "start_time": "2022-06-28T14:23:42.493Z"
   },
   {
    "duration": 36,
    "start_time": "2022-06-28T14:23:42.554Z"
   },
   {
    "duration": 5,
    "start_time": "2022-06-28T14:23:42.592Z"
   },
   {
    "duration": 28,
    "start_time": "2022-06-28T14:23:42.599Z"
   },
   {
    "duration": 81,
    "start_time": "2022-06-28T14:23:42.629Z"
   },
   {
    "duration": 49,
    "start_time": "2022-06-28T14:23:42.712Z"
   },
   {
    "duration": 29,
    "start_time": "2022-06-28T14:23:42.763Z"
   },
   {
    "duration": 40,
    "start_time": "2022-06-28T14:23:42.795Z"
   },
   {
    "duration": 28,
    "start_time": "2022-06-28T14:23:42.837Z"
   },
   {
    "duration": 25,
    "start_time": "2022-06-28T14:23:42.869Z"
   },
   {
    "duration": 57,
    "start_time": "2022-06-28T14:23:42.897Z"
   },
   {
    "duration": 29,
    "start_time": "2022-06-28T14:23:42.956Z"
   },
   {
    "duration": 41,
    "start_time": "2022-06-28T14:23:42.987Z"
   },
   {
    "duration": 32,
    "start_time": "2022-06-28T14:23:43.030Z"
   },
   {
    "duration": 21,
    "start_time": "2022-06-28T14:23:43.067Z"
   },
   {
    "duration": 43,
    "start_time": "2022-06-28T14:23:43.090Z"
   },
   {
    "duration": 23,
    "start_time": "2022-06-28T14:23:43.135Z"
   },
   {
    "duration": 11,
    "start_time": "2022-06-28T14:27:50.830Z"
   },
   {
    "duration": 150,
    "start_time": "2022-06-28T14:27:50.842Z"
   },
   {
    "duration": 3,
    "start_time": "2022-06-28T14:27:50.994Z"
   },
   {
    "duration": 84,
    "start_time": "2022-06-28T14:27:50.998Z"
   },
   {
    "duration": 25,
    "start_time": "2022-06-28T14:27:51.083Z"
   },
   {
    "duration": 134,
    "start_time": "2022-06-28T14:27:51.123Z"
   },
   {
    "duration": 127,
    "start_time": "2022-06-28T14:27:51.259Z"
   },
   {
    "duration": 17,
    "start_time": "2022-06-28T14:27:51.387Z"
   },
   {
    "duration": 17,
    "start_time": "2022-06-28T14:27:51.407Z"
   },
   {
    "duration": 25,
    "start_time": "2022-06-28T14:27:51.426Z"
   },
   {
    "duration": 24,
    "start_time": "2022-06-28T14:27:51.452Z"
   },
   {
    "duration": 136,
    "start_time": "2022-06-28T14:27:51.478Z"
   },
   {
    "duration": 36,
    "start_time": "2022-06-28T14:27:51.616Z"
   },
   {
    "duration": 386,
    "start_time": "2022-06-28T14:27:51.654Z"
   },
   {
    "duration": 14,
    "start_time": "2022-06-28T14:27:52.041Z"
   },
   {
    "duration": 6,
    "start_time": "2022-06-28T14:27:52.057Z"
   },
   {
    "duration": 486,
    "start_time": "2022-06-28T14:27:52.065Z"
   },
   {
    "duration": 57,
    "start_time": "2022-06-28T14:27:52.553Z"
   },
   {
    "duration": 13,
    "start_time": "2022-06-28T14:27:52.612Z"
   },
   {
    "duration": 41,
    "start_time": "2022-06-28T14:27:52.627Z"
   },
   {
    "duration": 14,
    "start_time": "2022-06-28T14:27:52.670Z"
   },
   {
    "duration": 102,
    "start_time": "2022-06-28T14:27:52.687Z"
   },
   {
    "duration": 66,
    "start_time": "2022-06-28T14:27:52.790Z"
   },
   {
    "duration": 103,
    "start_time": "2022-06-28T14:27:52.859Z"
   },
   {
    "duration": 34,
    "start_time": "2022-06-28T14:27:52.964Z"
   },
   {
    "duration": 54,
    "start_time": "2022-06-28T14:27:53.000Z"
   },
   {
    "duration": 6,
    "start_time": "2022-06-28T14:27:53.056Z"
   },
   {
    "duration": 36,
    "start_time": "2022-06-28T14:27:53.064Z"
   },
   {
    "duration": 32,
    "start_time": "2022-06-28T14:27:53.102Z"
   },
   {
    "duration": 106,
    "start_time": "2022-06-28T14:27:53.136Z"
   },
   {
    "duration": 28,
    "start_time": "2022-06-28T14:27:53.244Z"
   },
   {
    "duration": 33,
    "start_time": "2022-06-28T14:27:53.273Z"
   },
   {
    "duration": 37,
    "start_time": "2022-06-28T14:27:53.308Z"
   },
   {
    "duration": 20,
    "start_time": "2022-06-28T14:27:53.347Z"
   },
   {
    "duration": 21,
    "start_time": "2022-06-28T14:27:53.369Z"
   },
   {
    "duration": 41,
    "start_time": "2022-06-28T14:27:53.392Z"
   },
   {
    "duration": 19,
    "start_time": "2022-06-28T14:27:53.434Z"
   },
   {
    "duration": 20,
    "start_time": "2022-06-28T14:27:53.455Z"
   },
   {
    "duration": 49,
    "start_time": "2022-06-28T14:27:53.477Z"
   },
   {
    "duration": 22,
    "start_time": "2022-06-28T14:27:53.527Z"
   },
   {
    "duration": 19,
    "start_time": "2022-06-28T14:27:53.551Z"
   },
   {
    "duration": 20,
    "start_time": "2022-06-28T14:27:53.571Z"
   },
   {
    "duration": 5,
    "start_time": "2022-06-28T14:27:58.114Z"
   },
   {
    "duration": 5,
    "start_time": "2022-06-28T14:28:21.684Z"
   },
   {
    "duration": 15,
    "start_time": "2022-06-28T14:31:19.045Z"
   },
   {
    "duration": 5,
    "start_time": "2022-06-28T14:31:28.029Z"
   },
   {
    "duration": 16,
    "start_time": "2022-06-28T14:31:30.489Z"
   },
   {
    "duration": 17,
    "start_time": "2022-06-28T14:32:28.056Z"
   },
   {
    "duration": 164,
    "start_time": "2022-06-28T14:32:28.076Z"
   },
   {
    "duration": 3,
    "start_time": "2022-06-28T14:32:28.241Z"
   },
   {
    "duration": 95,
    "start_time": "2022-06-28T14:32:28.246Z"
   },
   {
    "duration": 27,
    "start_time": "2022-06-28T14:32:28.343Z"
   },
   {
    "duration": 151,
    "start_time": "2022-06-28T14:32:28.372Z"
   },
   {
    "duration": 131,
    "start_time": "2022-06-28T14:32:28.525Z"
   },
   {
    "duration": 16,
    "start_time": "2022-06-28T14:32:28.658Z"
   },
   {
    "duration": 4,
    "start_time": "2022-06-28T14:32:28.676Z"
   },
   {
    "duration": 43,
    "start_time": "2022-06-28T14:32:28.682Z"
   },
   {
    "duration": 25,
    "start_time": "2022-06-28T14:32:28.726Z"
   },
   {
    "duration": 134,
    "start_time": "2022-06-28T14:32:28.753Z"
   },
   {
    "duration": 42,
    "start_time": "2022-06-28T14:32:28.888Z"
   },
   {
    "duration": 334,
    "start_time": "2022-06-28T14:32:28.932Z"
   },
   {
    "duration": 14,
    "start_time": "2022-06-28T14:32:29.268Z"
   },
   {
    "duration": 7,
    "start_time": "2022-06-28T14:32:29.284Z"
   },
   {
    "duration": 371,
    "start_time": "2022-06-28T14:32:29.293Z"
   },
   {
    "duration": 61,
    "start_time": "2022-06-28T14:32:29.667Z"
   },
   {
    "duration": 6,
    "start_time": "2022-06-28T14:32:29.730Z"
   },
   {
    "duration": 26,
    "start_time": "2022-06-28T14:32:29.738Z"
   },
   {
    "duration": 11,
    "start_time": "2022-06-28T14:32:29.766Z"
   },
   {
    "duration": 102,
    "start_time": "2022-06-28T14:32:29.778Z"
   },
   {
    "duration": 70,
    "start_time": "2022-06-28T14:32:29.882Z"
   },
   {
    "duration": 107,
    "start_time": "2022-06-28T14:32:29.954Z"
   },
   {
    "duration": 37,
    "start_time": "2022-06-28T14:32:30.062Z"
   },
   {
    "duration": 64,
    "start_time": "2022-06-28T14:32:30.101Z"
   },
   {
    "duration": 6,
    "start_time": "2022-06-28T14:32:30.167Z"
   },
   {
    "duration": 41,
    "start_time": "2022-06-28T14:32:30.177Z"
   },
   {
    "duration": 22,
    "start_time": "2022-06-28T14:32:30.220Z"
   },
   {
    "duration": 103,
    "start_time": "2022-06-28T14:32:30.243Z"
   },
   {
    "duration": 24,
    "start_time": "2022-06-28T14:32:30.348Z"
   },
   {
    "duration": 30,
    "start_time": "2022-06-28T14:32:30.374Z"
   },
   {
    "duration": 38,
    "start_time": "2022-06-28T14:32:30.405Z"
   },
   {
    "duration": 22,
    "start_time": "2022-06-28T14:32:30.445Z"
   },
   {
    "duration": 21,
    "start_time": "2022-06-28T14:32:30.468Z"
   },
   {
    "duration": 46,
    "start_time": "2022-06-28T14:32:30.490Z"
   },
   {
    "duration": 22,
    "start_time": "2022-06-28T14:32:30.538Z"
   },
   {
    "duration": 25,
    "start_time": "2022-06-28T14:32:30.562Z"
   },
   {
    "duration": 42,
    "start_time": "2022-06-28T14:32:30.589Z"
   },
   {
    "duration": 20,
    "start_time": "2022-06-28T14:32:30.633Z"
   },
   {
    "duration": 21,
    "start_time": "2022-06-28T14:32:30.655Z"
   },
   {
    "duration": 20,
    "start_time": "2022-06-28T14:32:30.677Z"
   },
   {
    "duration": 5,
    "start_time": "2022-06-28T14:32:30.723Z"
   },
   {
    "duration": 15,
    "start_time": "2022-06-28T14:32:34.605Z"
   },
   {
    "duration": 8,
    "start_time": "2022-06-28T14:34:22.316Z"
   },
   {
    "duration": 5,
    "start_time": "2022-06-28T14:35:35.878Z"
   },
   {
    "duration": 8,
    "start_time": "2022-06-28T14:35:36.479Z"
   },
   {
    "duration": 9,
    "start_time": "2022-06-28T14:36:08.654Z"
   },
   {
    "duration": 11,
    "start_time": "2022-06-28T14:37:08.894Z"
   },
   {
    "duration": 18,
    "start_time": "2022-06-28T14:37:27.577Z"
   },
   {
    "duration": 19,
    "start_time": "2022-06-28T14:37:44.000Z"
   },
   {
    "duration": 20,
    "start_time": "2022-06-28T14:37:52.484Z"
   },
   {
    "duration": 101,
    "start_time": "2022-06-28T14:40:10.758Z"
   },
   {
    "duration": 105,
    "start_time": "2022-06-28T15:28:29.883Z"
   },
   {
    "duration": 105,
    "start_time": "2022-06-28T15:28:49.803Z"
   },
   {
    "duration": 126,
    "start_time": "2022-06-28T15:29:12.551Z"
   },
   {
    "duration": 27,
    "start_time": "2022-06-28T15:30:23.852Z"
   },
   {
    "duration": 32,
    "start_time": "2022-06-28T15:49:44.065Z"
   },
   {
    "duration": 29,
    "start_time": "2022-06-28T15:51:44.519Z"
   },
   {
    "duration": 30,
    "start_time": "2022-06-28T15:51:54.450Z"
   },
   {
    "duration": 46,
    "start_time": "2022-06-28T16:10:23.237Z"
   },
   {
    "duration": 28,
    "start_time": "2022-06-28T16:10:32.134Z"
   },
   {
    "duration": 31,
    "start_time": "2022-06-28T16:10:39.634Z"
   },
   {
    "duration": 28,
    "start_time": "2022-06-28T16:10:47.346Z"
   },
   {
    "duration": 33,
    "start_time": "2022-06-28T16:18:14.860Z"
   },
   {
    "duration": 37,
    "start_time": "2022-06-28T16:19:32.416Z"
   },
   {
    "duration": 16,
    "start_time": "2022-06-28T16:20:20.537Z"
   },
   {
    "duration": 150,
    "start_time": "2022-06-28T16:20:20.556Z"
   },
   {
    "duration": 3,
    "start_time": "2022-06-28T16:20:20.708Z"
   },
   {
    "duration": 71,
    "start_time": "2022-06-28T16:20:20.712Z"
   },
   {
    "duration": 25,
    "start_time": "2022-06-28T16:20:20.785Z"
   },
   {
    "duration": 129,
    "start_time": "2022-06-28T16:20:20.823Z"
   },
   {
    "duration": 127,
    "start_time": "2022-06-28T16:20:20.953Z"
   },
   {
    "duration": 17,
    "start_time": "2022-06-28T16:20:21.082Z"
   },
   {
    "duration": 23,
    "start_time": "2022-06-28T16:20:21.100Z"
   },
   {
    "duration": 41,
    "start_time": "2022-06-28T16:20:21.125Z"
   },
   {
    "duration": 25,
    "start_time": "2022-06-28T16:20:21.169Z"
   },
   {
    "duration": 141,
    "start_time": "2022-06-28T16:20:21.197Z"
   },
   {
    "duration": 31,
    "start_time": "2022-06-28T16:20:21.340Z"
   },
   {
    "duration": 362,
    "start_time": "2022-06-28T16:20:21.373Z"
   },
   {
    "duration": 12,
    "start_time": "2022-06-28T16:20:21.737Z"
   },
   {
    "duration": 6,
    "start_time": "2022-06-28T16:20:21.750Z"
   },
   {
    "duration": 465,
    "start_time": "2022-06-28T16:20:21.758Z"
   },
   {
    "duration": 46,
    "start_time": "2022-06-28T16:20:22.225Z"
   },
   {
    "duration": 4,
    "start_time": "2022-06-28T16:20:22.273Z"
   },
   {
    "duration": 48,
    "start_time": "2022-06-28T16:20:22.279Z"
   },
   {
    "duration": 11,
    "start_time": "2022-06-28T16:20:22.329Z"
   },
   {
    "duration": 91,
    "start_time": "2022-06-28T16:20:22.342Z"
   },
   {
    "duration": 54,
    "start_time": "2022-06-28T16:20:22.434Z"
   },
   {
    "duration": 129,
    "start_time": "2022-06-28T16:20:22.489Z"
   },
   {
    "duration": 48,
    "start_time": "2022-06-28T16:20:22.623Z"
   },
   {
    "duration": 66,
    "start_time": "2022-06-28T16:20:22.673Z"
   },
   {
    "duration": 7,
    "start_time": "2022-06-28T16:20:22.742Z"
   },
   {
    "duration": 39,
    "start_time": "2022-06-28T16:20:22.751Z"
   },
   {
    "duration": 31,
    "start_time": "2022-06-28T16:20:22.792Z"
   },
   {
    "duration": 99,
    "start_time": "2022-06-28T16:20:22.825Z"
   },
   {
    "duration": 24,
    "start_time": "2022-06-28T16:20:22.926Z"
   },
   {
    "duration": 24,
    "start_time": "2022-06-28T16:20:22.952Z"
   },
   {
    "duration": 48,
    "start_time": "2022-06-28T16:20:22.977Z"
   },
   {
    "duration": 21,
    "start_time": "2022-06-28T16:20:23.027Z"
   },
   {
    "duration": 21,
    "start_time": "2022-06-28T16:20:23.050Z"
   },
   {
    "duration": 19,
    "start_time": "2022-06-28T16:20:23.073Z"
   },
   {
    "duration": 49,
    "start_time": "2022-06-28T16:20:23.096Z"
   },
   {
    "duration": 21,
    "start_time": "2022-06-28T16:20:23.147Z"
   },
   {
    "duration": 22,
    "start_time": "2022-06-28T16:20:23.170Z"
   },
   {
    "duration": 43,
    "start_time": "2022-06-28T16:20:23.193Z"
   },
   {
    "duration": 21,
    "start_time": "2022-06-28T16:20:23.238Z"
   },
   {
    "duration": 21,
    "start_time": "2022-06-28T16:20:23.261Z"
   },
   {
    "duration": 47,
    "start_time": "2022-06-28T16:20:23.284Z"
   },
   {
    "duration": 21,
    "start_time": "2022-06-28T16:20:23.332Z"
   },
   {
    "duration": 40,
    "start_time": "2022-06-28T16:20:23.355Z"
   },
   {
    "duration": 44,
    "start_time": "2022-06-28T16:20:23.397Z"
   },
   {
    "duration": 28,
    "start_time": "2022-06-28T16:20:23.442Z"
   },
   {
    "duration": 26,
    "start_time": "2022-06-28T16:20:23.472Z"
   },
   {
    "duration": 2,
    "start_time": "2022-06-28T16:20:23.523Z"
   },
   {
    "duration": 27,
    "start_time": "2022-06-28T16:20:23.527Z"
   },
   {
    "duration": 24,
    "start_time": "2022-06-28T16:20:23.555Z"
   },
   {
    "duration": 24,
    "start_time": "2022-06-28T16:20:23.580Z"
   },
   {
    "duration": 37,
    "start_time": "2022-06-28T16:20:23.605Z"
   },
   {
    "duration": 20,
    "start_time": "2022-06-28T16:20:23.643Z"
   },
   {
    "duration": 20,
    "start_time": "2022-06-28T16:20:23.664Z"
   },
   {
    "duration": 50,
    "start_time": "2022-06-28T16:20:23.686Z"
   },
   {
    "duration": 23,
    "start_time": "2022-06-28T16:20:23.738Z"
   },
   {
    "duration": 22,
    "start_time": "2022-06-28T16:20:23.764Z"
   },
   {
    "duration": 46,
    "start_time": "2022-06-28T16:20:23.787Z"
   },
   {
    "duration": 20,
    "start_time": "2022-06-28T16:20:23.835Z"
   },
   {
    "duration": 20,
    "start_time": "2022-06-28T16:20:23.857Z"
   },
   {
    "duration": 59,
    "start_time": "2022-06-28T16:20:23.879Z"
   },
   {
    "duration": 42,
    "start_time": "2022-06-28T16:20:23.940Z"
   },
   {
    "duration": 43,
    "start_time": "2022-06-28T16:20:23.984Z"
   },
   {
    "duration": 27,
    "start_time": "2022-06-28T16:20:24.028Z"
   },
   {
    "duration": 10,
    "start_time": "2022-06-28T16:45:14.526Z"
   },
   {
    "duration": 149,
    "start_time": "2022-06-28T16:45:14.538Z"
   },
   {
    "duration": 3,
    "start_time": "2022-06-28T16:45:14.688Z"
   },
   {
    "duration": 89,
    "start_time": "2022-06-28T16:45:14.693Z"
   },
   {
    "duration": 42,
    "start_time": "2022-06-28T16:45:14.784Z"
   },
   {
    "duration": 135,
    "start_time": "2022-06-28T16:45:14.828Z"
   },
   {
    "duration": 129,
    "start_time": "2022-06-28T16:45:14.965Z"
   },
   {
    "duration": 30,
    "start_time": "2022-06-28T16:45:15.095Z"
   },
   {
    "duration": 4,
    "start_time": "2022-06-28T16:45:15.127Z"
   },
   {
    "duration": 29,
    "start_time": "2022-06-28T16:45:15.133Z"
   },
   {
    "duration": 21,
    "start_time": "2022-06-28T16:45:15.164Z"
   },
   {
    "duration": 140,
    "start_time": "2022-06-28T16:45:15.187Z"
   },
   {
    "duration": 30,
    "start_time": "2022-06-28T16:45:15.330Z"
   },
   {
    "duration": 352,
    "start_time": "2022-06-28T16:45:15.362Z"
   },
   {
    "duration": 17,
    "start_time": "2022-06-28T16:45:15.716Z"
   },
   {
    "duration": 7,
    "start_time": "2022-06-28T16:45:15.735Z"
   },
   {
    "duration": 341,
    "start_time": "2022-06-28T16:45:15.744Z"
   },
   {
    "duration": 58,
    "start_time": "2022-06-28T16:45:16.087Z"
   },
   {
    "duration": 5,
    "start_time": "2022-06-28T16:45:16.147Z"
   },
   {
    "duration": 29,
    "start_time": "2022-06-28T16:45:16.154Z"
   },
   {
    "duration": 12,
    "start_time": "2022-06-28T16:45:16.185Z"
   },
   {
    "duration": 96,
    "start_time": "2022-06-28T16:45:16.199Z"
   },
   {
    "duration": 57,
    "start_time": "2022-06-28T16:45:16.296Z"
   },
   {
    "duration": 98,
    "start_time": "2022-06-28T16:45:16.355Z"
   },
   {
    "duration": 38,
    "start_time": "2022-06-28T16:45:16.455Z"
   },
   {
    "duration": 54,
    "start_time": "2022-06-28T16:45:16.495Z"
   },
   {
    "duration": 7,
    "start_time": "2022-06-28T16:45:16.552Z"
   },
   {
    "duration": 48,
    "start_time": "2022-06-28T16:45:16.560Z"
   },
   {
    "duration": 26,
    "start_time": "2022-06-28T16:45:16.609Z"
   },
   {
    "duration": 107,
    "start_time": "2022-06-28T16:45:16.636Z"
   },
   {
    "duration": 24,
    "start_time": "2022-06-28T16:45:16.745Z"
   },
   {
    "duration": 25,
    "start_time": "2022-06-28T16:45:16.771Z"
   },
   {
    "duration": 41,
    "start_time": "2022-06-28T16:45:16.798Z"
   },
   {
    "duration": 21,
    "start_time": "2022-06-28T16:45:16.840Z"
   },
   {
    "duration": 21,
    "start_time": "2022-06-28T16:45:16.862Z"
   },
   {
    "duration": 41,
    "start_time": "2022-06-28T16:45:16.885Z"
   },
   {
    "duration": 24,
    "start_time": "2022-06-28T16:45:16.930Z"
   },
   {
    "duration": 21,
    "start_time": "2022-06-28T16:45:16.956Z"
   },
   {
    "duration": 48,
    "start_time": "2022-06-28T16:45:16.979Z"
   },
   {
    "duration": 21,
    "start_time": "2022-06-28T16:45:17.028Z"
   },
   {
    "duration": 20,
    "start_time": "2022-06-28T16:45:17.051Z"
   },
   {
    "duration": 19,
    "start_time": "2022-06-28T16:45:17.073Z"
   },
   {
    "duration": 44,
    "start_time": "2022-06-28T16:45:17.093Z"
   },
   {
    "duration": 22,
    "start_time": "2022-06-28T16:45:17.139Z"
   },
   {
    "duration": 33,
    "start_time": "2022-06-28T16:45:17.162Z"
   },
   {
    "duration": 47,
    "start_time": "2022-06-28T16:45:17.197Z"
   },
   {
    "duration": 28,
    "start_time": "2022-06-28T16:45:17.246Z"
   },
   {
    "duration": 48,
    "start_time": "2022-06-28T16:45:17.276Z"
   },
   {
    "duration": 2,
    "start_time": "2022-06-28T16:45:17.326Z"
   },
   {
    "duration": 26,
    "start_time": "2022-06-28T16:45:17.330Z"
   },
   {
    "duration": 23,
    "start_time": "2022-06-28T16:45:17.358Z"
   },
   {
    "duration": 45,
    "start_time": "2022-06-28T16:45:17.383Z"
   },
   {
    "duration": 19,
    "start_time": "2022-06-28T16:45:17.430Z"
   },
   {
    "duration": 19,
    "start_time": "2022-06-28T16:45:17.451Z"
   },
   {
    "duration": 19,
    "start_time": "2022-06-28T16:45:17.472Z"
   },
   {
    "duration": 44,
    "start_time": "2022-06-28T16:45:17.493Z"
   },
   {
    "duration": 20,
    "start_time": "2022-06-28T16:45:17.539Z"
   },
   {
    "duration": 20,
    "start_time": "2022-06-28T16:45:17.561Z"
   },
   {
    "duration": 41,
    "start_time": "2022-06-28T16:45:17.582Z"
   },
   {
    "duration": 21,
    "start_time": "2022-06-28T16:45:17.624Z"
   },
   {
    "duration": 20,
    "start_time": "2022-06-28T16:45:17.646Z"
   },
   {
    "duration": 55,
    "start_time": "2022-06-28T16:45:17.668Z"
   },
   {
    "duration": 26,
    "start_time": "2022-06-28T16:45:17.725Z"
   },
   {
    "duration": 27,
    "start_time": "2022-06-28T16:45:17.753Z"
   },
   {
    "duration": 41,
    "start_time": "2022-06-28T16:45:17.782Z"
   },
   {
    "duration": 1282,
    "start_time": "2022-06-28T17:04:58.426Z"
   },
   {
    "duration": 156,
    "start_time": "2022-06-28T17:04:59.710Z"
   },
   {
    "duration": 3,
    "start_time": "2022-06-28T17:04:59.868Z"
   },
   {
    "duration": 103,
    "start_time": "2022-06-28T17:04:59.872Z"
   },
   {
    "duration": 24,
    "start_time": "2022-06-28T17:04:59.977Z"
   },
   {
    "duration": 157,
    "start_time": "2022-06-28T17:05:00.002Z"
   },
   {
    "duration": 142,
    "start_time": "2022-06-28T17:05:00.161Z"
   },
   {
    "duration": 26,
    "start_time": "2022-06-28T17:05:00.305Z"
   },
   {
    "duration": 5,
    "start_time": "2022-06-28T17:05:00.342Z"
   },
   {
    "duration": 29,
    "start_time": "2022-06-28T17:05:00.350Z"
   },
   {
    "duration": 23,
    "start_time": "2022-06-28T17:05:00.381Z"
   },
   {
    "duration": 170,
    "start_time": "2022-06-28T17:05:00.405Z"
   },
   {
    "duration": 44,
    "start_time": "2022-06-28T17:05:00.576Z"
   },
   {
    "duration": 410,
    "start_time": "2022-06-28T17:05:00.622Z"
   },
   {
    "duration": 17,
    "start_time": "2022-06-28T17:05:01.034Z"
   },
   {
    "duration": 10,
    "start_time": "2022-06-28T17:05:01.053Z"
   },
   {
    "duration": 388,
    "start_time": "2022-06-28T17:05:01.065Z"
   },
   {
    "duration": 45,
    "start_time": "2022-06-28T17:05:01.455Z"
   },
   {
    "duration": 5,
    "start_time": "2022-06-28T17:05:01.502Z"
   },
   {
    "duration": 57,
    "start_time": "2022-06-28T17:05:01.509Z"
   },
   {
    "duration": 251,
    "start_time": "2022-06-28T17:05:01.568Z"
   },
   {
    "duration": 125,
    "start_time": "2022-06-28T17:05:01.821Z"
   },
   {
    "duration": 67,
    "start_time": "2022-06-28T17:05:01.948Z"
   },
   {
    "duration": 118,
    "start_time": "2022-06-28T17:05:02.016Z"
   },
   {
    "duration": 37,
    "start_time": "2022-06-28T17:05:02.141Z"
   },
   {
    "duration": 36,
    "start_time": "2022-06-28T17:05:02.180Z"
   },
   {
    "duration": 27,
    "start_time": "2022-06-28T17:05:02.218Z"
   },
   {
    "duration": 29,
    "start_time": "2022-06-28T17:05:02.249Z"
   },
   {
    "duration": 22,
    "start_time": "2022-06-28T17:05:02.280Z"
   },
   {
    "duration": 135,
    "start_time": "2022-06-28T17:05:02.304Z"
   },
   {
    "duration": 25,
    "start_time": "2022-06-28T17:05:02.442Z"
   },
   {
    "duration": 26,
    "start_time": "2022-06-28T17:05:02.469Z"
   },
   {
    "duration": 45,
    "start_time": "2022-06-28T17:05:02.497Z"
   },
   {
    "duration": 23,
    "start_time": "2022-06-28T17:05:02.543Z"
   },
   {
    "duration": 25,
    "start_time": "2022-06-28T17:05:02.568Z"
   },
   {
    "duration": 38,
    "start_time": "2022-06-28T17:05:02.595Z"
   },
   {
    "duration": 26,
    "start_time": "2022-06-28T17:05:02.635Z"
   },
   {
    "duration": 20,
    "start_time": "2022-06-28T17:05:02.662Z"
   },
   {
    "duration": 29,
    "start_time": "2022-06-28T17:05:02.685Z"
   },
   {
    "duration": 45,
    "start_time": "2022-06-28T17:05:02.717Z"
   },
   {
    "duration": 27,
    "start_time": "2022-06-28T17:05:02.764Z"
   },
   {
    "duration": 19,
    "start_time": "2022-06-28T17:05:02.793Z"
   },
   {
    "duration": 44,
    "start_time": "2022-06-28T17:05:02.814Z"
   },
   {
    "duration": 23,
    "start_time": "2022-06-28T17:05:02.860Z"
   },
   {
    "duration": 29,
    "start_time": "2022-06-28T17:05:02.885Z"
   },
   {
    "duration": 45,
    "start_time": "2022-06-28T17:05:02.915Z"
   },
   {
    "duration": 26,
    "start_time": "2022-06-28T17:05:02.961Z"
   },
   {
    "duration": 24,
    "start_time": "2022-06-28T17:05:02.988Z"
   },
   {
    "duration": 29,
    "start_time": "2022-06-28T17:05:03.013Z"
   },
   {
    "duration": 25,
    "start_time": "2022-06-28T17:05:03.043Z"
   },
   {
    "duration": 26,
    "start_time": "2022-06-28T17:05:03.070Z"
   },
   {
    "duration": 21,
    "start_time": "2022-06-28T17:05:03.098Z"
   },
   {
    "duration": 47,
    "start_time": "2022-06-28T17:05:03.121Z"
   },
   {
    "duration": 23,
    "start_time": "2022-06-28T17:05:03.170Z"
   },
   {
    "duration": 20,
    "start_time": "2022-06-28T17:05:03.194Z"
   },
   {
    "duration": 40,
    "start_time": "2022-06-28T17:05:03.216Z"
   },
   {
    "duration": 19,
    "start_time": "2022-06-28T17:05:03.258Z"
   },
   {
    "duration": 19,
    "start_time": "2022-06-28T17:05:03.279Z"
   },
   {
    "duration": 44,
    "start_time": "2022-06-28T17:05:03.299Z"
   },
   {
    "duration": 19,
    "start_time": "2022-06-28T17:05:03.345Z"
   },
   {
    "duration": 18,
    "start_time": "2022-06-28T17:05:03.366Z"
   },
   {
    "duration": 28,
    "start_time": "2022-06-28T17:05:03.386Z"
   },
   {
    "duration": 46,
    "start_time": "2022-06-28T17:05:03.416Z"
   },
   {
    "duration": 26,
    "start_time": "2022-06-28T17:05:03.464Z"
   },
   {
    "duration": 26,
    "start_time": "2022-06-28T17:05:03.492Z"
   },
   {
    "duration": 2147,
    "start_time": "2022-07-26T21:53:07.496Z"
   },
   {
    "duration": 741,
    "start_time": "2022-07-26T21:53:09.645Z"
   },
   {
    "duration": 4,
    "start_time": "2022-07-26T21:53:10.388Z"
   },
   {
    "duration": 94,
    "start_time": "2022-07-26T21:53:10.394Z"
   },
   {
    "duration": 25,
    "start_time": "2022-07-26T21:53:10.490Z"
   },
   {
    "duration": 150,
    "start_time": "2022-07-26T21:53:10.517Z"
   },
   {
    "duration": 139,
    "start_time": "2022-07-26T21:53:10.668Z"
   },
   {
    "duration": 21,
    "start_time": "2022-07-26T21:53:10.809Z"
   },
   {
    "duration": 4,
    "start_time": "2022-07-26T21:53:10.832Z"
   },
   {
    "duration": 23,
    "start_time": "2022-07-26T21:53:10.839Z"
   },
   {
    "duration": 22,
    "start_time": "2022-07-26T21:53:10.864Z"
   },
   {
    "duration": 158,
    "start_time": "2022-07-26T21:53:10.888Z"
   },
   {
    "duration": 26,
    "start_time": "2022-07-26T21:53:11.047Z"
   },
   {
    "duration": 426,
    "start_time": "2022-07-26T21:53:11.075Z"
   },
   {
    "duration": 21,
    "start_time": "2022-07-26T21:53:11.502Z"
   },
   {
    "duration": 6,
    "start_time": "2022-07-26T21:53:11.525Z"
   },
   {
    "duration": 338,
    "start_time": "2022-07-26T21:53:11.532Z"
   },
   {
    "duration": 53,
    "start_time": "2022-07-26T21:53:11.871Z"
   },
   {
    "duration": 4,
    "start_time": "2022-07-26T21:53:11.926Z"
   },
   {
    "duration": 36,
    "start_time": "2022-07-26T21:53:11.931Z"
   },
   {
    "duration": 232,
    "start_time": "2022-07-26T21:53:11.969Z"
   },
   {
    "duration": 126,
    "start_time": "2022-07-26T21:53:12.203Z"
   },
   {
    "duration": 63,
    "start_time": "2022-07-26T21:53:12.331Z"
   },
   {
    "duration": 119,
    "start_time": "2022-07-26T21:53:12.396Z"
   },
   {
    "duration": 43,
    "start_time": "2022-07-26T21:53:12.523Z"
   },
   {
    "duration": 59,
    "start_time": "2022-07-26T21:53:12.568Z"
   },
   {
    "duration": 8,
    "start_time": "2022-07-26T21:53:12.629Z"
   },
   {
    "duration": 29,
    "start_time": "2022-07-26T21:53:12.642Z"
   },
   {
    "duration": 22,
    "start_time": "2022-07-26T21:53:12.672Z"
   },
   {
    "duration": 145,
    "start_time": "2022-07-26T21:53:12.695Z"
   },
   {
    "duration": 23,
    "start_time": "2022-07-26T21:53:12.842Z"
   },
   {
    "duration": 24,
    "start_time": "2022-07-26T21:53:12.866Z"
   },
   {
    "duration": 44,
    "start_time": "2022-07-26T21:53:12.892Z"
   },
   {
    "duration": 23,
    "start_time": "2022-07-26T21:53:12.938Z"
   },
   {
    "duration": 20,
    "start_time": "2022-07-26T21:53:12.963Z"
   },
   {
    "duration": 44,
    "start_time": "2022-07-26T21:53:12.985Z"
   },
   {
    "duration": 24,
    "start_time": "2022-07-26T21:53:13.031Z"
   },
   {
    "duration": 22,
    "start_time": "2022-07-26T21:53:13.057Z"
   },
   {
    "duration": 50,
    "start_time": "2022-07-26T21:53:13.081Z"
   },
   {
    "duration": 20,
    "start_time": "2022-07-26T21:53:13.133Z"
   },
   {
    "duration": 21,
    "start_time": "2022-07-26T21:53:13.155Z"
   },
   {
    "duration": 47,
    "start_time": "2022-07-26T21:53:13.177Z"
   },
   {
    "duration": 21,
    "start_time": "2022-07-26T21:53:13.226Z"
   },
   {
    "duration": 26,
    "start_time": "2022-07-26T21:53:13.249Z"
   },
   {
    "duration": 55,
    "start_time": "2022-07-26T21:53:13.277Z"
   },
   {
    "duration": 28,
    "start_time": "2022-07-26T21:53:13.334Z"
   },
   {
    "duration": 28,
    "start_time": "2022-07-26T21:53:13.364Z"
   },
   {
    "duration": 49,
    "start_time": "2022-07-26T21:53:13.394Z"
   },
   {
    "duration": 3,
    "start_time": "2022-07-26T21:53:13.445Z"
   },
   {
    "duration": 27,
    "start_time": "2022-07-26T21:53:13.450Z"
   },
   {
    "duration": 47,
    "start_time": "2022-07-26T21:53:13.479Z"
   },
   {
    "duration": 23,
    "start_time": "2022-07-26T21:53:13.528Z"
   },
   {
    "duration": 21,
    "start_time": "2022-07-26T21:53:13.553Z"
   },
   {
    "duration": 47,
    "start_time": "2022-07-26T21:53:13.576Z"
   },
   {
    "duration": 22,
    "start_time": "2022-07-26T21:53:13.625Z"
   },
   {
    "duration": 22,
    "start_time": "2022-07-26T21:53:13.648Z"
   },
   {
    "duration": 22,
    "start_time": "2022-07-26T21:53:13.671Z"
   },
   {
    "duration": 48,
    "start_time": "2022-07-26T21:53:13.694Z"
   },
   {
    "duration": 24,
    "start_time": "2022-07-26T21:53:13.744Z"
   },
   {
    "duration": 20,
    "start_time": "2022-07-26T21:53:13.770Z"
   },
   {
    "duration": 41,
    "start_time": "2022-07-26T21:53:13.792Z"
   },
   {
    "duration": 31,
    "start_time": "2022-07-26T21:53:13.835Z"
   },
   {
    "duration": 28,
    "start_time": "2022-07-26T21:53:13.867Z"
   },
   {
    "duration": 50,
    "start_time": "2022-07-26T21:53:13.896Z"
   },
   {
    "duration": 25,
    "start_time": "2022-07-26T21:53:13.948Z"
   },
   {
    "duration": 1197,
    "start_time": "2022-08-16T15:02:21.050Z"
   },
   {
    "duration": 769,
    "start_time": "2022-08-16T15:02:22.249Z"
   },
   {
    "duration": 3,
    "start_time": "2022-08-16T15:02:23.020Z"
   },
   {
    "duration": 103,
    "start_time": "2022-08-16T15:02:23.025Z"
   },
   {
    "duration": 31,
    "start_time": "2022-08-16T15:02:23.129Z"
   },
   {
    "duration": 129,
    "start_time": "2022-08-16T15:02:23.162Z"
   },
   {
    "duration": 132,
    "start_time": "2022-08-16T15:02:23.293Z"
   },
   {
    "duration": 15,
    "start_time": "2022-08-16T15:02:23.427Z"
   },
   {
    "duration": 4,
    "start_time": "2022-08-16T15:02:23.443Z"
   },
   {
    "duration": 27,
    "start_time": "2022-08-16T15:02:23.454Z"
   },
   {
    "duration": 21,
    "start_time": "2022-08-16T15:02:23.483Z"
   },
   {
    "duration": 140,
    "start_time": "2022-08-16T15:02:23.505Z"
   },
   {
    "duration": 33,
    "start_time": "2022-08-16T15:02:23.647Z"
   },
   {
    "duration": 445,
    "start_time": "2022-08-16T15:02:23.681Z"
   },
   {
    "duration": 12,
    "start_time": "2022-08-16T15:02:24.127Z"
   },
   {
    "duration": 26,
    "start_time": "2022-08-16T15:02:24.140Z"
   },
   {
    "duration": 332,
    "start_time": "2022-08-16T15:02:24.168Z"
   },
   {
    "duration": 38,
    "start_time": "2022-08-16T15:02:24.502Z"
   },
   {
    "duration": 6,
    "start_time": "2022-08-16T15:02:24.564Z"
   },
   {
    "duration": 36,
    "start_time": "2022-08-16T15:02:24.572Z"
   },
   {
    "duration": 218,
    "start_time": "2022-08-16T15:02:24.610Z"
   },
   {
    "duration": 132,
    "start_time": "2022-08-16T15:02:24.829Z"
   },
   {
    "duration": 63,
    "start_time": "2022-08-16T15:02:24.965Z"
   },
   {
    "duration": 103,
    "start_time": "2022-08-16T15:02:25.030Z"
   },
   {
    "duration": 48,
    "start_time": "2022-08-16T15:02:25.135Z"
   },
   {
    "duration": 33,
    "start_time": "2022-08-16T15:02:25.185Z"
   },
   {
    "duration": 6,
    "start_time": "2022-08-16T15:02:25.220Z"
   },
   {
    "duration": 44,
    "start_time": "2022-08-16T15:02:25.229Z"
   },
   {
    "duration": 19,
    "start_time": "2022-08-16T15:02:25.275Z"
   },
   {
    "duration": 119,
    "start_time": "2022-08-16T15:02:25.296Z"
   },
   {
    "duration": 21,
    "start_time": "2022-08-16T15:02:25.417Z"
   },
   {
    "duration": 45,
    "start_time": "2022-08-16T15:02:25.440Z"
   },
   {
    "duration": 21,
    "start_time": "2022-08-16T15:02:25.487Z"
   },
   {
    "duration": 19,
    "start_time": "2022-08-16T15:02:25.510Z"
   },
   {
    "duration": 40,
    "start_time": "2022-08-16T15:02:25.531Z"
   },
   {
    "duration": 26,
    "start_time": "2022-08-16T15:02:25.573Z"
   },
   {
    "duration": 21,
    "start_time": "2022-08-16T15:02:25.601Z"
   },
   {
    "duration": 47,
    "start_time": "2022-08-16T15:02:25.624Z"
   },
   {
    "duration": 20,
    "start_time": "2022-08-16T15:02:25.673Z"
   },
   {
    "duration": 19,
    "start_time": "2022-08-16T15:02:25.695Z"
   },
   {
    "duration": 20,
    "start_time": "2022-08-16T15:02:25.715Z"
   },
   {
    "duration": 24,
    "start_time": "2022-08-16T15:02:25.759Z"
   },
   {
    "duration": 18,
    "start_time": "2022-08-16T15:02:25.784Z"
   },
   {
    "duration": 52,
    "start_time": "2022-08-16T15:02:25.804Z"
   },
   {
    "duration": 32,
    "start_time": "2022-08-16T15:02:25.863Z"
   },
   {
    "duration": 24,
    "start_time": "2022-08-16T15:02:25.897Z"
   },
   {
    "duration": 36,
    "start_time": "2022-08-16T15:02:25.923Z"
   },
   {
    "duration": 29,
    "start_time": "2022-08-16T15:02:25.960Z"
   },
   {
    "duration": 3,
    "start_time": "2022-08-16T15:02:25.990Z"
   },
   {
    "duration": 25,
    "start_time": "2022-08-16T15:02:25.994Z"
   },
   {
    "duration": 49,
    "start_time": "2022-08-16T15:02:26.021Z"
   },
   {
    "duration": 31,
    "start_time": "2022-08-16T15:02:26.072Z"
   },
   {
    "duration": 19,
    "start_time": "2022-08-16T15:02:26.105Z"
   },
   {
    "duration": 40,
    "start_time": "2022-08-16T15:02:26.126Z"
   },
   {
    "duration": 25,
    "start_time": "2022-08-16T15:02:26.169Z"
   },
   {
    "duration": 18,
    "start_time": "2022-08-16T15:02:26.196Z"
   },
   {
    "duration": 19,
    "start_time": "2022-08-16T15:02:26.215Z"
   },
   {
    "duration": 45,
    "start_time": "2022-08-16T15:02:26.236Z"
   },
   {
    "duration": 18,
    "start_time": "2022-08-16T15:02:26.283Z"
   },
   {
    "duration": 18,
    "start_time": "2022-08-16T15:02:26.302Z"
   },
   {
    "duration": 16,
    "start_time": "2022-08-16T15:02:26.322Z"
   },
   {
    "duration": 34,
    "start_time": "2022-08-16T15:02:26.356Z"
   },
   {
    "duration": 24,
    "start_time": "2022-08-16T15:02:26.391Z"
   },
   {
    "duration": 44,
    "start_time": "2022-08-16T15:02:26.417Z"
   },
   {
    "duration": 25,
    "start_time": "2022-08-16T15:02:26.465Z"
   },
   {
    "duration": 1237,
    "start_time": "2022-08-17T09:13:56.837Z"
   },
   {
    "duration": 455,
    "start_time": "2022-08-17T09:13:58.076Z"
   },
   {
    "duration": 3,
    "start_time": "2022-08-17T09:13:58.533Z"
   },
   {
    "duration": 84,
    "start_time": "2022-08-17T09:13:58.538Z"
   },
   {
    "duration": 24,
    "start_time": "2022-08-17T09:13:58.624Z"
   },
   {
    "duration": 134,
    "start_time": "2022-08-17T09:13:58.650Z"
   },
   {
    "duration": 127,
    "start_time": "2022-08-17T09:13:58.785Z"
   },
   {
    "duration": 16,
    "start_time": "2022-08-17T09:13:58.913Z"
   },
   {
    "duration": 5,
    "start_time": "2022-08-17T09:13:58.931Z"
   },
   {
    "duration": 21,
    "start_time": "2022-08-17T09:13:58.939Z"
   },
   {
    "duration": 48,
    "start_time": "2022-08-17T09:13:58.962Z"
   },
   {
    "duration": 128,
    "start_time": "2022-08-17T09:13:59.012Z"
   },
   {
    "duration": 25,
    "start_time": "2022-08-17T09:13:59.141Z"
   },
   {
    "duration": 404,
    "start_time": "2022-08-17T09:13:59.168Z"
   },
   {
    "duration": 12,
    "start_time": "2022-08-17T09:13:59.574Z"
   },
   {
    "duration": 6,
    "start_time": "2022-08-17T09:13:59.600Z"
   },
   {
    "duration": 340,
    "start_time": "2022-08-17T09:13:59.608Z"
   },
   {
    "duration": 57,
    "start_time": "2022-08-17T09:13:59.949Z"
   },
   {
    "duration": 6,
    "start_time": "2022-08-17T09:14:00.008Z"
   },
   {
    "duration": 53,
    "start_time": "2022-08-17T09:14:00.016Z"
   },
   {
    "duration": 254,
    "start_time": "2022-08-17T09:14:00.071Z"
   },
   {
    "duration": 116,
    "start_time": "2022-08-17T09:14:00.327Z"
   },
   {
    "duration": 108,
    "start_time": "2022-08-17T09:14:00.445Z"
   },
   {
    "duration": 110,
    "start_time": "2022-08-17T09:14:00.555Z"
   },
   {
    "duration": 49,
    "start_time": "2022-08-17T09:14:00.667Z"
   },
   {
    "duration": 42,
    "start_time": "2022-08-17T09:14:00.719Z"
   },
   {
    "duration": 6,
    "start_time": "2022-08-17T09:14:00.763Z"
   },
   {
    "duration": 57,
    "start_time": "2022-08-17T09:14:00.772Z"
   },
   {
    "duration": 30,
    "start_time": "2022-08-17T09:14:00.831Z"
   },
   {
    "duration": 113,
    "start_time": "2022-08-17T09:14:06.183Z"
   },
   {
    "duration": 10,
    "start_time": "2022-08-17T09:14:18.067Z"
   },
   {
    "duration": 157,
    "start_time": "2022-08-17T09:14:18.079Z"
   },
   {
    "duration": 4,
    "start_time": "2022-08-17T09:14:18.237Z"
   },
   {
    "duration": 86,
    "start_time": "2022-08-17T09:14:18.242Z"
   },
   {
    "duration": 23,
    "start_time": "2022-08-17T09:14:18.331Z"
   },
   {
    "duration": 146,
    "start_time": "2022-08-17T09:14:18.355Z"
   },
   {
    "duration": 121,
    "start_time": "2022-08-17T09:14:18.503Z"
   },
   {
    "duration": 15,
    "start_time": "2022-08-17T09:14:18.626Z"
   },
   {
    "duration": 4,
    "start_time": "2022-08-17T09:14:18.642Z"
   },
   {
    "duration": 23,
    "start_time": "2022-08-17T09:14:18.648Z"
   },
   {
    "duration": 46,
    "start_time": "2022-08-17T09:14:18.673Z"
   },
   {
    "duration": 123,
    "start_time": "2022-08-17T09:14:18.721Z"
   },
   {
    "duration": 24,
    "start_time": "2022-08-17T09:14:18.846Z"
   },
   {
    "duration": 330,
    "start_time": "2022-08-17T09:14:18.872Z"
   },
   {
    "duration": 13,
    "start_time": "2022-08-17T09:14:19.204Z"
   },
   {
    "duration": 6,
    "start_time": "2022-08-17T09:14:19.219Z"
   },
   {
    "duration": 391,
    "start_time": "2022-08-17T09:14:19.227Z"
   },
   {
    "duration": 42,
    "start_time": "2022-08-17T09:14:19.620Z"
   },
   {
    "duration": 4,
    "start_time": "2022-08-17T09:14:19.664Z"
   },
   {
    "duration": 43,
    "start_time": "2022-08-17T09:14:19.670Z"
   },
   {
    "duration": 12,
    "start_time": "2022-08-17T09:14:19.715Z"
   },
   {
    "duration": 84,
    "start_time": "2022-08-17T09:14:19.728Z"
   },
   {
    "duration": 52,
    "start_time": "2022-08-17T09:14:19.814Z"
   },
   {
    "duration": 103,
    "start_time": "2022-08-17T09:14:19.868Z"
   },
   {
    "duration": 53,
    "start_time": "2022-08-17T09:14:19.972Z"
   },
   {
    "duration": 41,
    "start_time": "2022-08-17T09:14:20.027Z"
   },
   {
    "duration": 8,
    "start_time": "2022-08-17T09:14:20.070Z"
   },
   {
    "duration": 47,
    "start_time": "2022-08-17T09:14:20.081Z"
   },
   {
    "duration": 20,
    "start_time": "2022-08-17T09:14:20.130Z"
   },
   {
    "duration": 85,
    "start_time": "2022-08-17T09:14:22.160Z"
   }
  ],
  "kernelspec": {
   "display_name": "Python 3 (ipykernel)",
   "language": "python",
   "name": "python3"
  },
  "language_info": {
   "codemirror_mode": {
    "name": "ipython",
    "version": 3
   },
   "file_extension": ".py",
   "mimetype": "text/x-python",
   "name": "python",
   "nbconvert_exporter": "python",
   "pygments_lexer": "ipython3",
   "version": "3.9.12"
  },
  "toc": {
   "base_numbering": 1,
   "nav_menu": {},
   "number_sections": true,
   "sideBar": true,
   "skip_h1_title": true,
   "title_cell": "Table of Contents",
   "title_sidebar": "Contents",
   "toc_cell": false,
   "toc_position": {
    "height": "calc(100% - 180px)",
    "left": "10px",
    "top": "150px",
    "width": "346.35px"
   },
   "toc_section_display": true,
   "toc_window_display": true
  }
 },
 "nbformat": 4,
 "nbformat_minor": 2
}
